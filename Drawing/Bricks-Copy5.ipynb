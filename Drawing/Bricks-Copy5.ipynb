{
 "cells": [
  {
   "cell_type": "markdown",
   "metadata": {},
   "source": [
    "# Draw a Brick Pattern\n",
    "\n",
    "Attempt at programmatically making a brick pattern.\n",
    "\n",
    "All units in mm. ```1``` = ```1 mm```."
   ]
  },
  {
   "cell_type": "markdown",
   "metadata": {},
   "source": [
    "\"Napkin\" scratches.\n",
    "\n",
    "![](http://luckofthedraw.fun/.imgs/brick_0003.jpeg)\n",
    "\n",
    "Drawn by hand. ~18mm brick height.\n",
    "\n",
    "![](http://luckofthedraw.fun/.imgs/brick_0001.jpeg)"
   ]
  },
  {
   "cell_type": "code",
   "execution_count": 1,
   "metadata": {},
   "outputs": [],
   "source": [
    "import GCode\n",
    "import GRBL\n",
    "import numpy as np\n",
    "import os\n",
    "import sys\n",
    "from time import sleep\n"
   ]
  },
  {
   "cell_type": "markdown",
   "metadata": {},
   "source": [
    "> Standard bricks. The standard co-ordinating size for brickwork is 225 mm x 112.5 mm x 75 mm (length x depth x height). This includes 10 mm mortar joints, and so the standard size for a brick itself is 215 mm x 102.5 mm x 65 mm (length x depth x height)."
   ]
  },
  {
   "cell_type": "code",
   "execution_count": 3,
   "metadata": {},
   "outputs": [],
   "source": [
    "# Standard brick dimensions.\n",
    "BrickHeight = 65  # [mm]\n",
    "BrickLength = 225  # [mm]\n",
    "BrickDepth = 12.5  # [mm]\n",
    "BrickRatio = 215 / 65  # [dimensionless]\n"
   ]
  },
  {
   "cell_type": "code",
   "execution_count": 4,
   "metadata": {},
   "outputs": [],
   "source": [
    "# Poplar 1x4\". Cut\n",
    "BlockHeight = 89.0  # mm\n",
    "BlockLength = 2 * BlockHeight  # mm\n"
   ]
  },
  {
   "cell_type": "code",
   "execution_count": 5,
   "metadata": {},
   "outputs": [],
   "source": [
    "# Drawing configuration.\n",
    "# How many rows of bricks to draw on the block.\n",
    "N_BrickRows = 5  # [dimensionless]\n",
    "\n",
    "# Dimensions of a 'brick' projected onto the block of wood.\n",
    "H_Block_Brick = BlockHeight / N_BrickRows  # [mm]\n",
    "L_Block_Brick = H_Block_Brick * BrickRatio, 4  # [mm]\n"
   ]
  },
  {
   "cell_type": "markdown",
   "metadata": {},
   "source": [
    "# Code:"
   ]
  },
  {
   "cell_type": "markdown",
   "metadata": {},
   "source": [
    "# Default Line\n",
    "\n",
    "Sane default for the ```draw_line``` command. Designed so that ```draw_line()``` does something that is easly measureable.\n",
    "\n",
    "Draw a 30-60-90 triangle.\n",
    "\n",
    "From: https://www.dummies.com/education/math/calculus/how-to-work-with-30-60-90-degree-triangles.\n",
    "\n",
    "If you look at the 30:60:90-degree triangle in radians, it translates to the following:\n",
    "\n",
    "$$\\frac{\\pi}{6}:\\frac{\\pi}{3}:\\frac{\\pi}{2}$$\n",
    "\n",
    "In any 30-60-90 triangle, you see the following:\n",
    "\n",
    "- The shortest leg is across from the 30-degree angle.\n",
    "\n",
    "- The length of the hypotenuse is always two times the length of the shortest leg.\n",
    "\n",
    "- You can find the long leg by multiplying the short leg by the square root of 3.\n",
    "\n",
    "If you know one side of a 30-60-90 triangle, you can find the other two by using shortcuts. Here are the three situations you come across when doing these calculations:\n",
    "\n",
    "- **Type 1**: You know the short leg (the side across from the 30-degree angle). Double its length to find the hypotenuse. You can multiply the short side by the square root of 3 to find the long leg.\n",
    "\n",
    "- **Type 2**: You know the hypotenuse. Divide the hypotenuse by 2 to find the short side. Multiply this answer by the square root of 3 to find the long leg.\n",
    "\n",
    "- **Type 3**: You know the long leg (the side across from the 60-degree angle). Divide this side by the square root of 3 to find the short side. Double that figure to find the hypotenuse.\n",
    "\n",
    "Let:\n",
    "\n",
    "- a: Shortest Side. Opposite 30$^o$ ($\\frac{\\pi}{6}$)"
   ]
  },
  {
   "cell_type": "code",
   "execution_count": 16,
   "metadata": {},
   "outputs": [],
   "source": [
    "a = 10  # [mm]. Shorest leg of the triangle will be 10 mm, 1 cm, 0.01 m long.\n"
   ]
  },
  {
   "cell_type": "code",
   "execution_count": 18,
   "metadata": {},
   "outputs": [
    {
     "data": {
      "text/plain": [
       "array([[ 0.        ,  0.        ],\n",
       "       [17.32050808,  0.        ],\n",
       "       [17.32050808, 10.        ],\n",
       "       [ 0.        ,  0.        ]])"
      ]
     },
     "execution_count": 18,
     "metadata": {},
     "output_type": "execute_result"
    }
   ],
   "source": [
    "default_points = np.array(\n",
    "    [\n",
    "        [0, 0],  # Start at origin.\n",
    "        [a * np.sqrt(3), 0],  # Draw long side along X axis.\n",
    "        [a * np.sqrt(3), a],  # Draw the short side parallel to Y axis.\n",
    "        [0, 0],  # Return to origin. Draw hypotenuse.\n",
    "    ]\n",
    ")\n",
    "default_points\n"
   ]
  },
  {
   "cell_type": "markdown",
   "metadata": {},
   "source": [
    "Default settings for feed rate and laser power:"
   ]
  },
  {
   "cell_type": "code",
   "execution_count": 19,
   "metadata": {},
   "outputs": [],
   "source": [
    "default_feed = 300  # mm/n\n",
    "default_power = 150  # [dimensionless]\n"
   ]
  },
  {
   "cell_type": "code",
   "execution_count": 40,
   "metadata": {},
   "outputs": [
    {
     "ename": "SyntaxError",
     "evalue": "invalid syntax (<ipython-input-40-b0105c89ccc5>, line 76)",
     "output_type": "error",
     "traceback": [
      "\u001b[0;36m  File \u001b[0;32m\"<ipython-input-40-b0105c89ccc5>\"\u001b[0;36m, line \u001b[0;32m76\u001b[0m\n\u001b[0;31m    value_type is\u001b[0m\n\u001b[0m                  ^\u001b[0m\n\u001b[0;31mSyntaxError\u001b[0m\u001b[0;31m:\u001b[0m invalid syntax\n"
     ]
    }
   ],
   "source": [
    "class GCode(object):\n",
    "    NEWLINE = \"\\n\"\n",
    "    def __init__(self, file=None, machine=None, buffer=None):\n",
    "        self.machine = machine\n",
    "        if file is not None:\n",
    "            self.load(file)\n",
    "\n",
    "        if buffer is None:\n",
    "            self.buffer = list()\n",
    "        else:\n",
    "            self.buffer = buffer\n",
    "\n",
    "    @property\n",
    "    def code(self):\n",
    "        return GCode.NEWLINE.join(self.buffer)\n",
    "\n",
    "    def load(self, filename):\n",
    "        with open(filename, \"r\") as fid:\n",
    "            data = fid.read()\n",
    "        self.buffer = data.splitlines()\n",
    "\n",
    "    def save(self, filename):\n",
    "        with open(filename, \"w\") as fid:\n",
    "            print(str(self), file=fid)\n",
    "\n",
    "    def __str__(self):\n",
    "        return self.code\n",
    "\n",
    "    def __repr__(self):\n",
    "        return \"<GCode>[cmds={}]\".format(len(self.buffer))\n",
    "\n",
    "    def _repr_html_(self):\n",
    "        html = list()\n",
    "        for cmd_line in self.buffer:\n",
    "            cmd, *args = cmd_line.split(\" \")\n",
    "            html_line = \"<b>{cmd}</b> <i>{args}</i>\".format(\n",
    "                cmd=cmd, args=\" \".join(args)\n",
    "            )\n",
    "            html.append(html_line)\n",
    "        return \"<br>\\n\".join(html)\n",
    "\n",
    "    def __add__(self, other):\n",
    "        buffer = self.buffer\n",
    "        buffer2 = other.buffer\n",
    "\n",
    "        buffer.extend(buffer2)\n",
    "\n",
    "        return GCode(machine=self.machine, buffer=buffer)\n",
    "\n",
    "    def __iter__(self):\n",
    "        \"\"\" __iter__ function \"\"\"\n",
    "        for i in range(len(self.buffer)):\n",
    "            yield(self.buffer[i])\n",
    "\n",
    "\n",
    "    def run(self):\n",
    "        \"\"\" run the program on the given machine \"\"\"\n",
    "        if self.machine is None:\n",
    "            raise Exception(\"No machine to run on\")\n",
    "        self.machine.run(self)\n",
    "\n",
    "    def optimise(self):\n",
    "        \"\"\" Create the best GCode possible. \"\"\"\n",
    "        raise(NotImplementedError(\"TODO:\"))\n",
    "\n",
    "numeric_types = (int, int8, int16, int32, int64, np.float, np.float16, np.float32, np.float64, np.float128)\n",
    "\n",
    "def cmd_factory(cmd, doc=None):\n",
    "    \"\"\" Factory to create GCode Command Functions. \"\"\"\n",
    "        \n",
    "    def cmd_fcn(self, **kwargs):\n",
    "        args = list()\n",
    "        \n",
    "        \n",
    "        for key, value in kwargs.items():\n",
    "            value_type is \n",
    "            \n",
    "            args.append(\"{key}{value}\".format(key=key, value=value))\n",
    "\n",
    "        cmd_str = \"{cmd} {args}\".format(cmd=cmd, args=\" \".join(args))\n",
    "        # For commands with no arguments.\n",
    "        cmd_str = cmd_str.strip()\n",
    "        self.buffer.append(cmd_str)\n",
    "\n",
    "    return cmd_fcn\n",
    "\n",
    "\n",
    "# Good core to start with.\n",
    "commands = list()\n",
    "# GCodes\n",
    "for code in [0, 1, 2, 3, 4, 20, 21, 28, 90, 91, 92]:\n",
    "    commands.append(\"G{code}\".format(code=code))\n",
    "# MCodes\n",
    "for code in [0, 1, 2, 3, 4, 5, 6]:\n",
    "    commands.append(\"M{code}\".format(code=code))\n",
    "\n",
    "for command in commands:\n",
    "    setattr(GCode, command, cmd_factory(command))\n",
    "\n",
    "class Line(GCode):\n",
    "    def __init__(\n",
    "        self,\n",
    "        points=default_points,\n",
    "        feed=default_feed,\n",
    "        power=default_power,\n",
    "        dynamic_power=True,\n",
    "        *args,\n",
    "        **kwargs,\n",
    "    ):\n",
    "        super().__init__(\n",
    "            *args,\n",
    "            **kwargs,\n",
    "        )\n",
    "        \n",
    "        self.points = points\n",
    "        self.feed = feed\n",
    "        self.power = power\n",
    "        self.dynamic_power = dynamic_power\n",
    "        \n",
    "    def generate_gcode(self):\n",
    "        self.buffer = list()\n",
    "        self.G0(F=60) # 60 mm / min = 1 mm / sec\n",
    "        self.G1(F=60) # 60 mm / min = 1 mm / sec\n",
    "        self.M3(S=1) # Set laser power so that movement can be seen, but does nothing.\n",
    "        self.G28() # \"Home\"\n",
    "        self.G21() # Metric Units\n",
    "        self.G90() # Absolute positioning.\n",
    "        self.G92(X=0, Y=0, Z=0) # The cliche, I forgot why I added it. It works. Don't touch it.\n",
    "        \n",
    "        \n",
    "        self.G0(\n",
    "            X=self.points[0,0],\n",
    "            Y=self.points[0,1]\n",
    "        )\n",
    "\n",
    "self = Line()\n",
    "self.G0(X=0, Y=0)\n",
    "self.G0(X=10, Y=5)\n",
    "\n",
    "self.generate_gcode()\n",
    "\n",
    "self.buffer"
   ]
  },
  {
   "cell_type": "code",
   "execution_count": 36,
   "metadata": {},
   "outputs": [
    {
     "ename": "NotImplementedError",
     "evalue": "TODO:",
     "output_type": "error",
     "traceback": [
      "\u001b[0;31m---------------------------------------------------------------------------\u001b[0m",
      "\u001b[0;31mNotImplementedError\u001b[0m                       Traceback (most recent call last)",
      "\u001b[0;32m<ipython-input-36-eb88bfa0d336>\u001b[0m in \u001b[0;36m<module>\u001b[0;34m()\u001b[0m\n\u001b[0;32m----> 1\u001b[0;31m \u001b[0mself\u001b[0m\u001b[0;34m.\u001b[0m\u001b[0moptimise\u001b[0m\u001b[0;34m(\u001b[0m\u001b[0;34m)\u001b[0m\u001b[0;34m\u001b[0m\u001b[0m\n\u001b[0m",
      "\u001b[0;32m<ipython-input-35-45b47a71c6e0>\u001b[0m in \u001b[0;36moptimise\u001b[0;34m(self)\u001b[0m\n\u001b[1;32m     70\u001b[0m     \u001b[0;32mdef\u001b[0m \u001b[0moptimise\u001b[0m\u001b[0;34m(\u001b[0m\u001b[0mself\u001b[0m\u001b[0;34m)\u001b[0m\u001b[0;34m:\u001b[0m\u001b[0;34m\u001b[0m\u001b[0m\n\u001b[1;32m     71\u001b[0m         \u001b[0;34m\"\"\" Optimize the GCode \"\"\"\u001b[0m\u001b[0;34m\u001b[0m\u001b[0m\n\u001b[0;32m---> 72\u001b[0;31m         \u001b[0;32mraise\u001b[0m\u001b[0;34m(\u001b[0m\u001b[0mNotImplementedError\u001b[0m\u001b[0;34m(\u001b[0m\u001b[0;34m\"TODO:\"\u001b[0m\u001b[0;34m)\u001b[0m\u001b[0;34m)\u001b[0m\u001b[0;34m\u001b[0m\u001b[0m\n\u001b[0m\u001b[1;32m     73\u001b[0m \u001b[0;34m\u001b[0m\u001b[0m\n\u001b[1;32m     74\u001b[0m \u001b[0;34m\u001b[0m\u001b[0m\n",
      "\u001b[0;31mNotImplementedError\u001b[0m: TODO:"
     ]
    }
   ],
   "source": [
    "self.optimise()\n"
   ]
  },
  {
   "cell_type": "code",
   "execution_count": 37,
   "metadata": {},
   "outputs": [
    {
     "name": "stdout",
     "output_type": "stream",
     "text": [
      "__iter__\n",
      "<class 'str'>\n",
      "G0 F60\n",
      "\n",
      "<class 'str'>\n",
      "G1 F60\n",
      "\n",
      "<class 'str'>\n",
      "M3 S1\n",
      "\n",
      "<class 'str'>\n",
      "G28\n",
      "\n",
      "<class 'str'>\n",
      "G21\n",
      "\n",
      "<class 'str'>\n",
      "G90\n",
      "\n",
      "<class 'str'>\n",
      "G92 X0 Y0 Z0\n",
      "\n",
      "<class 'str'>\n",
      "G0 X0.0 Y0.0\n",
      "\n"
     ]
    }
   ],
   "source": [
    "for x in self:\n",
    "    print(type(x))\n",
    "    print(x)\n",
    "    print()\n"
   ]
  },
  {
   "cell_type": "code",
   "execution_count": null,
   "metadata": {},
   "outputs": [],
   "source": []
  },
  {
   "cell_type": "code",
   "execution_count": null,
   "metadata": {},
   "outputs": [],
   "source": []
  }
 ],
 "metadata": {
  "kernelspec": {
   "display_name": "Python 3",
   "language": "python",
   "name": "python3"
  },
  "language_info": {
   "codemirror_mode": {
    "name": "ipython",
    "version": 3
   },
   "file_extension": ".py",
   "mimetype": "text/x-python",
   "name": "python",
   "nbconvert_exporter": "python",
   "pygments_lexer": "ipython3",
   "version": "3.6.5"
  }
 },
 "nbformat": 4,
 "nbformat_minor": 2
}
