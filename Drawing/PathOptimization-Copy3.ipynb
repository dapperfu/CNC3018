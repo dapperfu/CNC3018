{
 "cells": [
  {
   "cell_type": "code",
   "execution_count": 28,
   "metadata": {},
   "outputs": [],
   "source": [
    "import os\n",
    "import sys\n",
    "import time\n",
    "\n",
    "import matplotlib.pyplot as plt\n",
    "import numpy as np\n",
    "\n",
    "import GCode\n",
    "import GRBL\n"
   ]
  },
  {
   "cell_type": "code",
   "execution_count": 29,
   "metadata": {},
   "outputs": [
    {
     "data": {
      "text/plain": [
       "array([[0, 1],\n",
       "       [1, 0]])"
      ]
     },
     "execution_count": 29,
     "metadata": {},
     "output_type": "execute_result"
    }
   ],
   "source": [
    "# Flip a 2D array. Effectively reversing the path.\n",
    "flip2 = np.array([\n",
    "    [0, 1],\n",
    "    [1, 0],\n",
    "])\n",
    "flip2"
   ]
  },
  {
   "cell_type": "code",
   "execution_count": 30,
   "metadata": {},
   "outputs": [
    {
     "data": {
      "text/plain": [
       "array([[0, 0, 1],\n",
       "       [0, 1, 0],\n",
       "       [1, 0, 0]])"
      ]
     },
     "execution_count": 30,
     "metadata": {},
     "output_type": "execute_result"
    }
   ],
   "source": [
    "# Flip a 2x3 array. Effectively reversing the path.\n",
    "flip3 = np.array([\n",
    "    [0, 0, 1],\n",
    "    [0, 1, 0],\n",
    "    [1, 0, 0],\n",
    "])\n",
    "flip3"
   ]
  },
  {
   "cell_type": "code",
   "execution_count": 33,
   "metadata": {},
   "outputs": [
    {
     "data": {
      "text/plain": [
       "array([[1, 2],\n",
       "       [3, 4]])"
      ]
     },
     "execution_count": 33,
     "metadata": {},
     "output_type": "execute_result"
    }
   ],
   "source": [
    "A = np.array([\n",
    "    [1, 2], \n",
    "    [3, 4],\n",
    "])\n",
    "A"
   ]
  },
  {
   "cell_type": "code",
   "execution_count": 34,
   "metadata": {},
   "outputs": [
    {
     "data": {
      "text/plain": [
       "array([[3, 4],\n",
       "       [1, 2]])"
      ]
     },
     "execution_count": 34,
     "metadata": {},
     "output_type": "execute_result"
    }
   ],
   "source": [
    "np.matmul(flip2, A)"
   ]
  },
  {
   "cell_type": "code",
   "execution_count": 36,
   "metadata": {},
   "outputs": [
    {
     "data": {
      "text/plain": [
       "array([[1, 2],\n",
       "       [3, 4],\n",
       "       [5, 6]])"
      ]
     },
     "execution_count": 36,
     "metadata": {},
     "output_type": "execute_result"
    }
   ],
   "source": [
    "B = np.array([\n",
    "    [1, 2], \n",
    "    [3, 4],\n",
    "    [5, 6],\n",
    "])\n",
    "B"
   ]
  },
  {
   "cell_type": "code",
   "execution_count": 37,
   "metadata": {},
   "outputs": [
    {
     "data": {
      "text/plain": [
       "array([[5, 6],\n",
       "       [3, 4],\n",
       "       [1, 2]])"
      ]
     },
     "execution_count": 37,
     "metadata": {},
     "output_type": "execute_result"
    }
   ],
   "source": [
    "np.matmul(flip3, B)"
   ]
  },
  {
   "cell_type": "code",
   "execution_count": 38,
   "metadata": {},
   "outputs": [
    {
     "data": {
      "text/plain": [
       "(3, 2)"
      ]
     },
     "execution_count": 38,
     "metadata": {},
     "output_type": "execute_result"
    }
   ],
   "source": [
    "B.shape[0]"
   ]
  },
  {
   "cell_type": "code",
   "execution_count": 39,
   "metadata": {},
   "outputs": [
    {
     "data": {
      "text/plain": [
       "array([[1., 0., 0.],\n",
       "       [0., 1., 0.],\n",
       "       [0., 0., 1.]])"
      ]
     },
     "execution_count": 39,
     "metadata": {},
     "output_type": "execute_result"
    }
   ],
   "source": [
    "np.eye(B.shape[0])"
   ]
  },
  {
   "cell_type": "code",
   "execution_count": 54,
   "metadata": {},
   "outputs": [
    {
     "data": {
      "text/plain": [
       "array([[0., 0., 1.],\n",
       "       [0., 1., 0.],\n",
       "       [1., 0., 0.]])"
      ]
     },
     "execution_count": 54,
     "metadata": {},
     "output_type": "execute_result"
    }
   ],
   "source": [
    "flip_n_reverseit = np.eye(B.shape[0])[:, ::-1]\n",
    "flip_n_reverseit"
   ]
  },
  {
   "cell_type": "code",
   "execution_count": 55,
   "metadata": {},
   "outputs": [],
   "source": [
    "def reverse(self, points):\n",
    "    flip_n_reverseit = np.eye(points.shape[0])[:, ::-1]\n",
    "    \n",
    "    return np.matmul(flip_n_reverseit, points)"
   ]
  },
  {
   "cell_type": "code",
   "execution_count": 58,
   "metadata": {},
   "outputs": [
    {
     "data": {
      "text/plain": [
       "array([[5., 6.],\n",
       "       [3., 4.],\n",
       "       [1., 2.]])"
      ]
     },
     "execution_count": 58,
     "metadata": {},
     "output_type": "execute_result"
    }
   ],
   "source": [
    "reverse(None, B)"
   ]
  },
  {
   "cell_type": "markdown",
   "metadata": {},
   "source": [
    "# Code:"
   ]
  },
  {
   "cell_type": "markdown",
   "metadata": {},
   "source": [
    "Draw a 10 mm line from (0, 0) to (10, 0)."
   ]
  },
  {
   "cell_type": "code",
   "execution_count": 59,
   "metadata": {},
   "outputs": [],
   "source": [
    "line_len = 10\n",
    "line_n_points = 2"
   ]
  },
  {
   "cell_type": "code",
   "execution_count": 60,
   "metadata": {},
   "outputs": [
    {
     "data": {
      "text/plain": [
       "array([ 0., 10.])"
      ]
     },
     "execution_count": 60,
     "metadata": {},
     "output_type": "execute_result"
    }
   ],
   "source": [
    "p = np.linspace(0, line_len, line_n_points, endpoint=True)\n",
    "p"
   ]
  },
  {
   "cell_type": "code",
   "execution_count": 61,
   "metadata": {},
   "outputs": [
    {
     "data": {
      "text/plain": [
       "array([ 0.,  5., 10.])"
      ]
     },
     "execution_count": 61,
     "metadata": {},
     "output_type": "execute_result"
    }
   ],
   "source": [
    "line_n_points = 3\n",
    "p = np.linspace(0, line_len, line_n_points, endpoint=True)\n",
    "p"
   ]
  },
  {
   "cell_type": "code",
   "execution_count": 62,
   "metadata": {},
   "outputs": [
    {
     "data": {
      "text/plain": [
       "array([ 0.        ,  3.33333333,  6.66666667, 10.        ])"
      ]
     },
     "execution_count": 62,
     "metadata": {},
     "output_type": "execute_result"
    }
   ],
   "source": [
    "line_n_points = 4\n",
    "p = np.linspace(0, line_len, line_n_points, endpoint=True)\n",
    "p"
   ]
  },
  {
   "cell_type": "code",
   "execution_count": 65,
   "metadata": {},
   "outputs": [
    {
     "data": {
      "text/plain": [
       "array([ 0.        ,  3.33333333,  6.66666667, 10.        ])"
      ]
     },
     "execution_count": 65,
     "metadata": {},
     "output_type": "execute_result"
    }
   ],
   "source": [
    "p"
   ]
  },
  {
   "cell_type": "code",
   "execution_count": 66,
   "metadata": {},
   "outputs": [
    {
     "data": {
      "text/plain": [
       "array([ 0., 10.])"
      ]
     },
     "execution_count": 66,
     "metadata": {},
     "output_type": "execute_result"
    }
   ],
   "source": [
    "Y=0\n",
    "for X in np.linspace(0, line_len, line_n_points, endpoint=True):\n",
    "    "
   ]
  },
  {
   "cell_type": "code",
   "execution_count": 78,
   "metadata": {},
   "outputs": [
    {
     "data": {
      "text/plain": [
       "array([[ 0.        ,  0.        ],\n",
       "       [ 0.        ,  3.33333333],\n",
       "       [ 0.        ,  6.66666667],\n",
       "       [ 0.        , 10.        ]])"
      ]
     },
     "execution_count": 78,
     "metadata": {},
     "output_type": "execute_result"
    }
   ],
   "source": []
  },
  {
   "cell_type": "code",
   "execution_count": 87,
   "metadata": {},
   "outputs": [
    {
     "data": {
      "text/plain": [
       "array([[ 0.,  0.],\n",
       "       [10.,  0.]])"
      ]
     },
     "execution_count": 87,
     "metadata": {},
     "output_type": "execute_result"
    }
   ],
   "source": [
    "def HorzLine(X0=0, Xf=10, Y=0, n_points=2):\n",
    "    p = np.linspace(X0, Xf, n_points, endpoint=True)\n",
    "    line_points = np.array([\n",
    "        p,\n",
    "        Y*np.ones(p.shape),\n",
    "    ])\n",
    "    return line_points.transpose()\n",
    "HorzLine()"
   ]
  },
  {
   "cell_type": "code",
   "execution_count": 89,
   "metadata": {},
   "outputs": [
    {
     "data": {
      "text/plain": [
       "array([[ 0.,  0.],\n",
       "       [ 0., 10.]])"
      ]
     },
     "execution_count": 89,
     "metadata": {},
     "output_type": "execute_result"
    }
   ],
   "source": [
    "def VertLine(X=0, Y0=0, Yf=10, n_points=2):\n",
    "    p = np.linspace(Y0, Yf, n_points, endpoint=True)\n",
    "    line_points = np.array([\n",
    "        X*np.ones(p.shape),\n",
    "        p,\n",
    "    ])\n",
    "    return line_points.transpose()\n",
    "VertLine()"
   ]
  },
  {
   "cell_type": "code",
   "execution_count": 92,
   "metadata": {},
   "outputs": [
    {
     "data": {
      "text/plain": [
       "array([[ 0.,  0.],\n",
       "       [10.,  0.]])"
      ]
     },
     "execution_count": 92,
     "metadata": {},
     "output_type": "execute_result"
    }
   ],
   "source": [
    "points = HorzLine(X0=0, Xf=10, Y=0, n_points=2)\n",
    "points"
   ]
  },
  {
   "cell_type": "code",
   "execution_count": 93,
   "metadata": {},
   "outputs": [
    {
     "data": {
      "text/html": [
       "<b>G0</b> <i>X0.0 Y0.0</i><br>\n",
       "<b>M4</b> <i>S150</i><br>\n",
       "<b>G1</b> <i>X10.0 Y0.0 F300</i><br>\n",
       "<b>M5</b> <i></i>"
      ],
      "text/plain": [
       "Line<cut=10.0mm, F=300, S=150>"
      ]
     },
     "execution_count": 93,
     "metadata": {},
     "output_type": "execute_result"
    }
   ],
   "source": [
    "line = GCode.Line(points=points)\n",
    "line"
   ]
  },
  {
   "cell_type": "code",
   "execution_count": 94,
   "metadata": {},
   "outputs": [
    {
     "data": {
      "text/plain": [
       "'Line<cut=10.0mm, F=300, S=150>'"
      ]
     },
     "execution_count": 94,
     "metadata": {},
     "output_type": "execute_result"
    }
   ],
   "source": [
    "line.__repr__()"
   ]
  },
  {
   "cell_type": "code",
   "execution_count": 97,
   "metadata": {},
   "outputs": [
    {
     "data": {
      "text/plain": [
       "numpy.ndarray"
      ]
     },
     "execution_count": 97,
     "metadata": {},
     "output_type": "execute_result"
    }
   ],
   "source": [
    "prog_cfg={\n",
    "    \"points\": points\n",
    "}\n",
    "prog_cfg"
   ]
  },
  {
   "cell_type": "code",
   "execution_count": 99,
   "metadata": {},
   "outputs": [
    {
     "data": {
      "text/plain": [
       "{'X0': 0, 'Xf': 10, 'Y': 0, 'n_points': 2}"
      ]
     },
     "execution_count": 99,
     "metadata": {},
     "output_type": "execute_result"
    }
   ],
   "source": [
    "line_cfg = {\n",
    "    \"X0\": 0,\n",
    "    \"Xf\": 10,\n",
    "    \"Y\": 0,\n",
    "    \"n_points\": 2\n",
    "}\n",
    "line_cfg"
   ]
  },
  {
   "cell_type": "code",
   "execution_count": 100,
   "metadata": {},
   "outputs": [
    {
     "name": "stdout",
     "output_type": "stream",
     "text": [
      "Help on class Line in module GCode.Line:\n",
      "\n",
      "class Line(GCode.GCode.GCode)\n",
      " |  Method resolution order:\n",
      " |      Line\n",
      " |      GCode.GCode.GCode\n",
      " |      builtins.object\n",
      " |  \n",
      " |  Methods defined here:\n",
      " |  \n",
      " |  __init__(self, points=array([[ 0.        ,  0.        ],\n",
      " |         [17.32050808,  0.        ],\n",
      " |         [17.32050808, 10.        ],\n",
      " |         [ 0.        ,  0.        ]]), feed=300, power=150, dynamic_power=True, *args, **kwargs)\n",
      " |      Initialize self.  See help(type(self)) for accurate signature.\n",
      " |  \n",
      " |  __repr__(self)\n",
      " |      Return repr(self).\n",
      " |  \n",
      " |  generate_gcode(self)\n",
      " |  \n",
      " |  ----------------------------------------------------------------------\n",
      " |  Data descriptors defined here:\n",
      " |  \n",
      " |  X\n",
      " |  \n",
      " |  Y\n",
      " |  \n",
      " |  dist\n",
      " |      Total distance traveled.\n",
      " |  \n",
      " |  dists\n",
      " |      Distances traveled in each line segment\n",
      " |  \n",
      " |  time\n",
      " |      Total distance traveled.\n",
      " |  \n",
      " |  times\n",
      " |      Amount of time spent drawing each line spegment.\n",
      " |      \n",
      " |      Does not take into consideration acceleration curves\n",
      " |  \n",
      " |  x_0\n",
      " |  \n",
      " |  x_f\n",
      " |  \n",
      " |  y_0\n",
      " |  \n",
      " |  y_f\n",
      " |  \n",
      " |  ----------------------------------------------------------------------\n",
      " |  Methods inherited from GCode.GCode.GCode:\n",
      " |  \n",
      " |  G0 = cmd_fcn(self, **kwargs)\n",
      " |  \n",
      " |  G1 = cmd_fcn(self, **kwargs)\n",
      " |  \n",
      " |  G2 = cmd_fcn(self, **kwargs)\n",
      " |  \n",
      " |  G20 = cmd_fcn(self, **kwargs)\n",
      " |  \n",
      " |  G21 = cmd_fcn(self, **kwargs)\n",
      " |  \n",
      " |  G28 = cmd_fcn(self, **kwargs)\n",
      " |  \n",
      " |  G3 = cmd_fcn(self, **kwargs)\n",
      " |  \n",
      " |  G4 = cmd_fcn(self, **kwargs)\n",
      " |  \n",
      " |  G90 = cmd_fcn(self, **kwargs)\n",
      " |  \n",
      " |  G91 = cmd_fcn(self, **kwargs)\n",
      " |  \n",
      " |  G92 = cmd_fcn(self, **kwargs)\n",
      " |  \n",
      " |  M0 = cmd_fcn(self, **kwargs)\n",
      " |  \n",
      " |  M1 = cmd_fcn(self, **kwargs)\n",
      " |  \n",
      " |  M2 = cmd_fcn(self, **kwargs)\n",
      " |  \n",
      " |  M3 = cmd_fcn(self, **kwargs)\n",
      " |  \n",
      " |  M4 = cmd_fcn(self, **kwargs)\n",
      " |  \n",
      " |  M5 = cmd_fcn(self, **kwargs)\n",
      " |  \n",
      " |  M6 = cmd_fcn(self, **kwargs)\n",
      " |  \n",
      " |  __add__(self, other)\n",
      " |  \n",
      " |  __iter__(self)\n",
      " |      __iter__ function\n",
      " |  \n",
      " |  __str__(self)\n",
      " |      Return str(self).\n",
      " |  \n",
      " |  load(self, filename)\n",
      " |  \n",
      " |  optimise(self)\n",
      " |      Create the best GCode possible.\n",
      " |  \n",
      " |  run(self)\n",
      " |      run the program on the given machine\n",
      " |  \n",
      " |  save(self, filename)\n",
      " |  \n",
      " |  ----------------------------------------------------------------------\n",
      " |  Data descriptors inherited from GCode.GCode.GCode:\n",
      " |  \n",
      " |  __dict__\n",
      " |      dictionary for instance variables (if defined)\n",
      " |  \n",
      " |  __weakref__\n",
      " |      list of weak references to the object (if defined)\n",
      " |  \n",
      " |  code\n",
      " |  \n",
      " |  ----------------------------------------------------------------------\n",
      " |  Data and other attributes inherited from GCode.GCode.GCode:\n",
      " |  \n",
      " |  NEWLINE = '\\n'\n",
      "\n"
     ]
    }
   ],
   "source": [
    "help(GCode.Line)"
   ]
  },
  {
   "cell_type": "code",
   "execution_count": 103,
   "metadata": {},
   "outputs": [
    {
     "name": "stdout",
     "output_type": "stream",
     "text": [
      "Help on class Program in module GCode.Program:\n",
      "\n",
      "class Program(GCode.GCode.GCode)\n",
      " |  A GCode Program Object\n",
      " |  \n",
      " |  Method resolution order:\n",
      " |      Program\n",
      " |      GCode.GCode.GCode\n",
      " |      builtins.object\n",
      " |  \n",
      " |  Methods defined here:\n",
      " |  \n",
      " |  __init__(self, lines=[], feed=120, *args, **kwargs)\n",
      " |      Initialize self.  See help(type(self)) for accurate signature.\n",
      " |  \n",
      " |  __repr__(self)\n",
      " |      Return repr(self).\n",
      " |  \n",
      " |  generate_gcode(self)\n",
      " |  \n",
      " |  setup(self)\n",
      " |  \n",
      " |  teardown(self)\n",
      " |  \n",
      " |  ----------------------------------------------------------------------\n",
      " |  Data descriptors defined here:\n",
      " |  \n",
      " |  dist\n",
      " |  \n",
      " |  jog_dist\n",
      " |  \n",
      " |  jog_time\n",
      " |      Return time spent jogging\n",
      " |  \n",
      " |  laserin_dist\n",
      " |      Distance, in mm, the line spends cutting.\n",
      " |  \n",
      " |  laserin_time\n",
      " |      Duration, in s, the line spends cutting.\n",
      " |  \n",
      " |  time\n",
      " |  \n",
      " |  ----------------------------------------------------------------------\n",
      " |  Methods inherited from GCode.GCode.GCode:\n",
      " |  \n",
      " |  G0 = cmd_fcn(self, **kwargs)\n",
      " |  \n",
      " |  G1 = cmd_fcn(self, **kwargs)\n",
      " |  \n",
      " |  G2 = cmd_fcn(self, **kwargs)\n",
      " |  \n",
      " |  G20 = cmd_fcn(self, **kwargs)\n",
      " |  \n",
      " |  G21 = cmd_fcn(self, **kwargs)\n",
      " |  \n",
      " |  G28 = cmd_fcn(self, **kwargs)\n",
      " |  \n",
      " |  G3 = cmd_fcn(self, **kwargs)\n",
      " |  \n",
      " |  G4 = cmd_fcn(self, **kwargs)\n",
      " |  \n",
      " |  G90 = cmd_fcn(self, **kwargs)\n",
      " |  \n",
      " |  G91 = cmd_fcn(self, **kwargs)\n",
      " |  \n",
      " |  G92 = cmd_fcn(self, **kwargs)\n",
      " |  \n",
      " |  M0 = cmd_fcn(self, **kwargs)\n",
      " |  \n",
      " |  M1 = cmd_fcn(self, **kwargs)\n",
      " |  \n",
      " |  M2 = cmd_fcn(self, **kwargs)\n",
      " |  \n",
      " |  M3 = cmd_fcn(self, **kwargs)\n",
      " |  \n",
      " |  M4 = cmd_fcn(self, **kwargs)\n",
      " |  \n",
      " |  M5 = cmd_fcn(self, **kwargs)\n",
      " |  \n",
      " |  M6 = cmd_fcn(self, **kwargs)\n",
      " |  \n",
      " |  __add__(self, other)\n",
      " |  \n",
      " |  __iter__(self)\n",
      " |      __iter__ function\n",
      " |  \n",
      " |  __str__(self)\n",
      " |      Return str(self).\n",
      " |  \n",
      " |  load(self, filename)\n",
      " |  \n",
      " |  optimise(self)\n",
      " |      Create the best GCode possible.\n",
      " |  \n",
      " |  run(self)\n",
      " |      run the program on the given machine\n",
      " |  \n",
      " |  save(self, filename)\n",
      " |  \n",
      " |  ----------------------------------------------------------------------\n",
      " |  Data descriptors inherited from GCode.GCode.GCode:\n",
      " |  \n",
      " |  __dict__\n",
      " |      dictionary for instance variables (if defined)\n",
      " |  \n",
      " |  __weakref__\n",
      " |      list of weak references to the object (if defined)\n",
      " |  \n",
      " |  code\n",
      " |  \n",
      " |  ----------------------------------------------------------------------\n",
      " |  Data and other attributes inherited from GCode.GCode.GCode:\n",
      " |  \n",
      " |  NEWLINE = '\\n'\n",
      "\n"
     ]
    }
   ],
   "source": [
    "help(GCode.Program)"
   ]
  },
  {
   "cell_type": "code",
   "execution_count": 102,
   "metadata": {},
   "outputs": [
    {
     "ename": "TypeError",
     "evalue": "__init__() got an unexpected keyword argument 'points'",
     "output_type": "error",
     "traceback": [
      "\u001b[0;31m---------------------------------------------------------------------------\u001b[0m",
      "\u001b[0;31mTypeError\u001b[0m                                 Traceback (most recent call last)",
      "\u001b[0;32m<ipython-input-102-ba7288ba72c8>\u001b[0m in \u001b[0;36m<module>\u001b[0;34m()\u001b[0m\n\u001b[1;32m     23\u001b[0m         \u001b[0;34m\"points\"\u001b[0m\u001b[0;34m:\u001b[0m \u001b[0mpoints\u001b[0m\u001b[0;34m\u001b[0m\u001b[0m\n\u001b[1;32m     24\u001b[0m     }\n\u001b[0;32m---> 25\u001b[0;31m     \u001b[0mprog\u001b[0m \u001b[0;34m=\u001b[0m \u001b[0mGCode\u001b[0m\u001b[0;34m.\u001b[0m\u001b[0mProgram\u001b[0m\u001b[0;34m(\u001b[0m\u001b[0;34m**\u001b[0m\u001b[0mprog_cfg\u001b[0m\u001b[0;34m)\u001b[0m\u001b[0;34m\u001b[0m\u001b[0m\n\u001b[0m\u001b[1;32m     26\u001b[0m \u001b[0;34m\u001b[0m\u001b[0m\n\u001b[1;32m     27\u001b[0m     \u001b[0mprogs\u001b[0m\u001b[0;34m.\u001b[0m\u001b[0mappend\u001b[0m\u001b[0;34m(\u001b[0m\u001b[0mGCode\u001b[0m\u001b[0;34m.\u001b[0m\u001b[0mProgram\u001b[0m\u001b[0;34m(\u001b[0m\u001b[0mGCode\u001b[0m\u001b[0;34m.\u001b[0m\u001b[0mLine\u001b[0m\u001b[0;34m(\u001b[0m\u001b[0mpoints\u001b[0m\u001b[0;34m=\u001b[0m\u001b[0mnp\u001b[0m\u001b[0;34m.\u001b[0m\u001b[0mlinspace\u001b[0m\u001b[0;34m(\u001b[0m\u001b[0;36m0\u001b[0m\u001b[0;34m,\u001b[0m \u001b[0mline_len\u001b[0m\u001b[0;34m,\u001b[0m \u001b[0mline_n_points\u001b[0m\u001b[0;34m,\u001b[0m \u001b[0mendpoint\u001b[0m\u001b[0;34m=\u001b[0m\u001b[0;32mTrue\u001b[0m\u001b[0;34m)\u001b[0m\u001b[0;34m)\u001b[0m\u001b[0;34m)\u001b[0m\u001b[0;34m)\u001b[0m\u001b[0;34m\u001b[0m\u001b[0m\n",
      "\u001b[0;32m/projects/CNC3018/python_gcode/GCode/Program.py\u001b[0m in \u001b[0;36m__init__\u001b[0;34m(self, lines, feed, *args, **kwargs)\u001b[0m\n\u001b[1;32m     14\u001b[0m         \u001b[0mself\u001b[0m\u001b[0;34m.\u001b[0m\u001b[0mfeed\u001b[0m \u001b[0;34m=\u001b[0m \u001b[0mfeed\u001b[0m\u001b[0;34m\u001b[0m\u001b[0m\n\u001b[1;32m     15\u001b[0m \u001b[0;34m\u001b[0m\u001b[0m\n\u001b[0;32m---> 16\u001b[0;31m         \u001b[0msuper\u001b[0m\u001b[0;34m(\u001b[0m\u001b[0;34m)\u001b[0m\u001b[0;34m.\u001b[0m\u001b[0m__init__\u001b[0m\u001b[0;34m(\u001b[0m\u001b[0;34m*\u001b[0m\u001b[0margs\u001b[0m\u001b[0;34m,\u001b[0m \u001b[0;34m**\u001b[0m\u001b[0mkwargs\u001b[0m\u001b[0;34m)\u001b[0m\u001b[0;34m\u001b[0m\u001b[0m\n\u001b[0m\u001b[1;32m     17\u001b[0m \u001b[0;34m\u001b[0m\u001b[0m\n\u001b[1;32m     18\u001b[0m     \u001b[0;32mdef\u001b[0m \u001b[0msetup\u001b[0m\u001b[0;34m(\u001b[0m\u001b[0mself\u001b[0m\u001b[0;34m)\u001b[0m\u001b[0;34m:\u001b[0m\u001b[0;34m\u001b[0m\u001b[0m\n",
      "\u001b[0;31mTypeError\u001b[0m: __init__() got an unexpected keyword argument 'points'"
     ]
    }
   ],
   "source": [
    "progs = list()\n",
    "\n",
    "for n_points in [2]: #range(2, 5):\n",
    "    \n",
    "    line_cfg = {\n",
    "        \"X0\": 0,\n",
    "        \"Xf\": 10,\n",
    "        \"Y\": 0,\n",
    "        \"n_points\": n_points\n",
    "    }    \n",
    "    points = HorzLine(**line_cfg)\n",
    "    \n",
    "    line_cfg = {\n",
    "        \"points\": points,\n",
    "        \"feed\":300,\n",
    "        \"power\":150,\n",
    "        \"dynamic_power\": True,\n",
    "    }\n",
    "    line = GCode.Line(points=points)\n",
    "    \n",
    "    \n",
    "    prog_cfg={\n",
    "        \"lines\": [line, line]\n",
    "    }\n",
    "    prog = GCode.Program(**prog_cfg)\n",
    "    \n",
    "    progs.append(GCode.Program(GCode.Line(points=np.linspace(0, line_len, line_n_points, endpoint=True))))\n",
    "\n",
    "progs"
   ]
  },
  {
   "cell_type": "code",
   "execution_count": 11,
   "metadata": {},
   "outputs": [
    {
     "data": {
      "text/html": [],
      "text/plain": [
       "Program<lines=2>"
      ]
     },
     "execution_count": 11,
     "metadata": {},
     "output_type": "execute_result"
    }
   ],
   "source": [
    "# Draw it twice.\n",
    "lines = [GCode.Line(points=points, feed=120)]*2\n",
    "prog0 = GCode.Program(lines=lines)\n",
    "prog0"
   ]
  },
  {
   "cell_type": "code",
   "execution_count": null,
   "metadata": {},
   "outputs": [],
   "source": []
  },
  {
   "cell_type": "code",
   "execution_count": 12,
   "metadata": {},
   "outputs": [
    {
     "data": {
      "text/html": [],
      "text/plain": [
       "Program<lines=2>"
      ]
     },
     "execution_count": 12,
     "metadata": {},
     "output_type": "execute_result"
    }
   ],
   "source": [
    "lines = [GCode.Line(points=points, feed=120)]*2\n",
    "prog1 = GCode.Program(lines=lines)\n",
    "prog1.lines[1].points = np.matmul(flip, prog.lines[1].points)"
   ]
  },
  {
   "cell_type": "code",
   "execution_count": null,
   "metadata": {},
   "outputs": [],
   "source": [
    "progs = [prog0, prog1]"
   ]
  },
  {
   "cell_type": "code",
   "execution_count": 5,
   "metadata": {},
   "outputs": [
    {
     "data": {
      "text/html": [
       "<b>G21</b> <i></i><br>\n",
       "<b>G90</b> <i></i><br>\n",
       "<b>G28</b> <i></i><br>\n",
       "<b>G0</b> <i>F120</i><br>\n",
       "<b>G1</b> <i>F120</i><br>\n",
       "<b>M3</b> <i>S1</i><br>\n",
       "<b>G92</b> <i>X0 Y0 Z0</i><br>\n",
       "<b>G0</b> <i>X0 Y0</i><br>\n",
       "<b>M4</b> <i>S150</i><br>\n",
       "<b>G1</b> <i>X10 Y0 F120</i><br>\n",
       "<b>M5</b> <i></i><br>\n",
       "<b>G0</b> <i>X0 Y0</i><br>\n",
       "<b>M4</b> <i>S150</i><br>\n",
       "<b>G1</b> <i>X10 Y0 F120</i><br>\n",
       "<b>M5</b> <i></i><br>\n",
       "<b>M5</b> <i></i><br>\n",
       "<b>G28</b> <i></i>"
      ],
      "text/plain": [
       "Program<lines=2>"
      ]
     },
     "execution_count": 5,
     "metadata": {},
     "output_type": "execute_result"
    }
   ],
   "source": [
    "prog.generate_gcode()\n",
    "prog"
   ]
  },
  {
   "cell_type": "code",
   "execution_count": 41,
   "metadata": {},
   "outputs": [],
   "source": [
    "prog.lines[1].points = np.matmul(flip, prog.lines[1].points)"
   ]
  }
 ],
 "metadata": {
  "kernelspec": {
   "display_name": "Python 3",
   "language": "python",
   "name": "python3"
  },
  "language_info": {
   "codemirror_mode": {
    "name": "ipython",
    "version": 3
   },
   "file_extension": ".py",
   "mimetype": "text/x-python",
   "name": "python",
   "nbconvert_exporter": "python",
   "pygments_lexer": "ipython3",
   "version": "3.6.5"
  }
 },
 "nbformat": 4,
 "nbformat_minor": 2
}
