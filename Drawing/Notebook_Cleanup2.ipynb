{
 "cells": [
  {
   "cell_type": "code",
   "execution_count": 1,
   "metadata": {},
   "outputs": [],
   "source": [
    "import glob\n",
    "import nbformat\n",
    "import os\n",
    "import black\n",
    "import isort"
   ]
  },
  {
   "cell_type": "code",
   "execution_count": 5,
   "metadata": {},
   "outputs": [],
   "source": [
    "def isort_notebook_cells(notebook):\n",
    "    with open(notebook, \"rb\") as fp:\n",
    "        nb = nbformat.read(fp=fp, as_version=nbformat.NO_CONVERT)\n",
    "\n",
    "    markdown_cells = list()\n",
    "    code_cells = list()\n",
    "\n",
    "    for cell in nb[\"cells\"]:\n",
    "        if cell[\"cell_type\"] == \"code\":\n",
    "            code_cells.append(cell)\n",
    "        elif cell[\"cell_type\"] == \"markdown\":\n",
    "            markdown_cells.append(cell)\n",
    "        else:\n",
    "            raise Exception(cell[\"cell_type\"])\n",
    "\n",
    "    for code_cell in code_cells:\n",
    "        if code_cell[\"source\"] == \"\":\n",
    "            continue\n",
    "        if \"import\" in code_cell[\"source\"]:\n",
    "            s = isort.SortImports(file_contents=code_cell.source)\n",
    "            code_cell.source = s.output.strip()\n",
    "\n",
    "    with open(notebook, \"w\") as fp:\n",
    "        nbformat.write(nb, fp)"
   ]
  },
  {
   "cell_type": "code",
   "execution_count": 6,
   "metadata": {},
   "outputs": [],
   "source": [
    "def black_notebook_cells(notebook=None):\n",
    "    with open(notebook, \"rb\") as fp:\n",
    "        nb = nbformat.read(fp=fp, as_version=nbformat.NO_CONVERT)\n",
    "\n",
    "    markdown_cells = list()\n",
    "    code_cells = list()\n",
    "\n",
    "    for cell in nb[\"cells\"]:\n",
    "        if cell[\"cell_type\"] == \"code\":\n",
    "            code_cells.append(cell)\n",
    "        elif cell[\"cell_type\"] == \"markdown\":\n",
    "            markdown_cells.append(cell)\n",
    "        else:\n",
    "            raise Exception(cell[\"cell_type\"])\n",
    "\n",
    "    for code_cell in code_cells:\n",
    "        if code_cell[\"source\"] == \"\":\n",
    "            continue\n",
    "        try:\n",
    "            code_cell[\"source\"] = black.format_str(\n",
    "                code_cell[\"source\"],\n",
    "                line_length=80\n",
    "            )\n",
    "        except:\n",
    "            print(\"Failed: {}\".format(code_cell[\"source\"]))\n",
    "            \n",
    "    with open(notebook, \"w\") as fp:\n",
    "        nbformat.write(nb, fp)"
   ]
  },
  {
   "cell_type": "code",
   "execution_count": 7,
   "metadata": {},
   "outputs": [],
   "source": [
    "cleaning_functions = list()\n",
    "\n",
    "cleaning_functions.append(black_notebook_cells)\n",
    "cleaning_functions.append(isort_notebook_cells)\n",
    "\n",
    "def format_folder(path=None):\n",
    "    abs_path=os.path.abspath(path)\n",
    "    try:\n",
    "        assert os.path.exists(abs_path)\n",
    "        notebooks = glob.glob(\n",
    "            os.path.join(abs_path, \"*.ipynb\")\n",
    "        )\n",
    "        for notebook in notebooks:\n",
    "            for cleaning_function in cleaning_functions:\n",
    "                cleaning_function(\n",
    "                    notebook=notebook\n",
    "                )\n",
    "    except:\n",
    "        print(notebook)"
   ]
  },
  {
   "cell_type": "code",
   "execution_count": 8,
   "metadata": {},
   "outputs": [],
   "source": [
    "notebook = \"Bricks-Copy8.ipynb\""
   ]
  },
  {
   "cell_type": "code",
   "execution_count": 13,
   "metadata": {},
   "outputs": [],
   "source": [
    "def clean_empty_notebook_cells(notebook):\n",
    "    \"\"\" bubble imports to the top of a notebook\"\"\"\n",
    "    with open(notebook, \"rb\") as fp:\n",
    "        nb = nbformat.read(fp=fp, as_version=nbformat.NO_CONVERT)\n",
    "    \n",
    "    temp_cells = list()\n",
    "       \n",
    "    for cell in nb[\"cells\"]:\n",
    "        if cell[\"source\"] == \"\":\n",
    "            continue\n",
    "        # Other side of the Valley.\n",
    "        temp_cells.append(cell)\n",
    "\n",
    "    nb[\"cells\"]= temp_cells\n",
    "    with open(notebook, \"w\") as fp:\n",
    "        nbformat.write(nb, fp)"
   ]
  },
  {
   "cell_type": "code",
   "execution_count": 14,
   "metadata": {},
   "outputs": [],
   "source": [
    "def bubble_import_notebook_cells(notebook):\n",
    "    \"\"\" bubble imports to the top of a notebook\"\"\"\n",
    "    with open(notebook, \"rb\") as fp:\n",
    "        nb = nbformat.read(fp=fp, as_version=nbformat.NO_CONVERT)\n",
    "\n",
    "    markdown_cells = list()\n",
    "    code_cells = list()\n",
    "    imports = list()\n",
    "    \n",
    "    for cell in nb[\"cells\"]:\n",
    "        if cell[\"cell_type\"] == \"code\":\n",
    "            code_cells.append(cell)\n",
    "        elif cell[\"cell_type\"] == \"markdown\":\n",
    "            markdown_cells.append(cell)\n",
    "        else:\n",
    "            raise Exception(cell[\"cell_type\"])\n",
    "\n",
    "    for code_cell in code_cells:\n",
    "        if code_cell[\"source\"] == \"\":\n",
    "            continue\n",
    "        if \"import\" in code_cell[\"source\"]:\n",
    "            tmp_buffer = list()\n",
    "            for line in code_cell[\"source\"].splitlines():\n",
    "                if \"import\" in line:\n",
    "                    imports.append(line)\n",
    "                else:\n",
    "                    tmp_buffer.append(line)\n",
    "            code_cell[\"source\"] = tmp_buffer\n",
    "    import_cell = nbformat.v4.new_code_cell()\n",
    "    import_cell[\"source\"]=\"\\n\".join(imports)\n",
    "    nb[\"cells\"].insert(0, import_cell)\n",
    "    with open(notebook, \"w\") as fp:\n",
    "        nbformat.write(nb, fp)"
   ]
  },
  {
   "cell_type": "code",
   "execution_count": 15,
   "metadata": {},
   "outputs": [
    {
     "name": "stdout",
     "output_type": "stream",
     "text": [
      "Failed: class Square(GCode.Line):\n"
     ]
    }
   ],
   "source": [
    "bubble_import_notebook_cells(notebook=notebook)\n",
    "black_notebook_cells(notebook=notebook)\n",
    "isort_notebook_cells(notebook=notebook)\n",
    "clean_empty_notebook_cells(notebook=notebook)"
   ]
  },
  {
   "cell_type": "code",
   "execution_count": 16,
   "metadata": {},
   "outputs": [],
   "source": [
    "cleaning_functions = list()\n",
    "\n",
    "cleaning_functions.append(bubble_import_notebook_cells)\n",
    "cleaning_functions.append(isort_notebook_cells)\n",
    "cleaning_functions.append(black_notebook_cells)\n",
    "cleaning_functions.append(clean_empty_notebook_cells)"
   ]
  },
  {
   "cell_type": "code",
   "execution_count": 32,
   "metadata": {},
   "outputs": [
    {
     "name": "stdout",
     "output_type": "stream",
     "text": [
      "/bin/sh: 1: gitt: not found\n",
      "On branch development/jed/submodule/CNC3018/2018-Jul\n",
      "Your branch is up to date with 'origin/development/jed/submodule/CNC3018/2018-Jul'.\n",
      "\n",
      "Untracked files:\n",
      "\t\u001b[31m../blacken.sh\u001b[m\n",
      "\t\u001b[31m../python_gcode/GCode/Program\u001b[m\n",
      "\t\u001b[31m../python_gcode/GCode/Program.py\u001b[m\n",
      "\n",
      "nothing added to commit but untracked files present\n"
     ]
    }
   ],
   "source": [
    "!git add *.ipynb\n",
    "!gitt add ../python_gcode/GCode/*.py\n",
    "!git commit -am 'unclean.'"
   ]
  },
  {
   "cell_type": "code",
   "execution_count": 33,
   "metadata": {},
   "outputs": [],
   "source": [
    "notebook = \"Shapes-Copy3.ipynb\"\n",
    "for cleaning_function in cleaning_functions:\n",
    "    cleaning_function(notebook=notebook)"
   ]
  },
  {
   "cell_type": "code",
   "execution_count": 35,
   "metadata": {},
   "outputs": [
    {
     "name": "stdout",
     "output_type": "stream",
     "text": [
      "On branch development/jed/submodule/CNC3018/2018-Jul\n",
      "Your branch is ahead of 'origin/development/jed/submodule/CNC3018/2018-Jul' by 1 commit.\n",
      "  (use \"git push\" to publish your local commits)\n",
      "\n",
      "Untracked files:\n",
      "\t\u001b[31m../blacken.sh\u001b[m\n",
      "\t\u001b[31m../python_gcode/GCode/Program\u001b[m\n",
      "\t\u001b[31m../python_gcode/GCode/Program.py\u001b[m\n",
      "\n",
      "nothing added to commit but untracked files present\n",
      "Usage: black [OPTIONS] [SRC]...\n",
      "\n",
      "  The uncompromising code formatter.\n",
      "\n",
      "Options:\n",
      "  -l, --line-length INTEGER       How many character per line to allow.\n",
      "                                  [default: 88]\n",
      "  --py36                          Allow using Python 3.6-only syntax on all\n",
      "                                  input files.  This will put trailing commas\n",
      "                                  in function signatures and calls also after\n",
      "                                  *args and **kwargs.  [default: per-file\n",
      "                                  auto-detection]\n",
      "  --pyi                           Format all input files like typing stubs\n",
      "                                  regardless of file extension (useful when\n",
      "                                  piping source on standard input).\n",
      "  -S, --skip-string-normalization\n",
      "                                  Don't normalize string quotes or prefixes.\n",
      "  --check                         Don't write the files back, just return the\n",
      "                                  status.  Return code 0 means nothing would\n",
      "                                  change.  Return code 1 means some files\n",
      "                                  would be reformatted.  Return code 123 means\n",
      "                                  there was an internal error.\n",
      "  --diff                          Don't write the files back, just output a\n",
      "                                  diff for each file on stdout.\n",
      "  --fast / --safe                 If --fast given, skip temporary sanity\n",
      "                                  checks. [default: --safe]\n",
      "  --include TEXT                  A regular expression that matches files and\n",
      "                                  directories that should be included on\n",
      "                                  recursive searches.  An empty value means\n",
      "                                  all files are included regardless of the\n",
      "                                  name.  Use forward slashes for directories\n",
      "                                  on all platforms (Windows, too).  Exclusions\n",
      "                                  are calculated first, inclusions later.\n",
      "                                  [default: \\.pyi?$]\n",
      "  --exclude TEXT                  A regular expression that matches files and\n",
      "                                  directories that should be excluded on\n",
      "                                  recursive searches.  An empty value means no\n",
      "                                  paths are excluded. Use forward slashes for\n",
      "                                  directories on all platforms (Windows, too).\n",
      "                                  Exclusions are calculated first, inclusions\n",
      "                                  later.  [default: /(\\.git|\\.hg|\\.mypy_cache|\n",
      "                                  \\.tox|\\.venv|_build|buck-out|build|dist)/]\n",
      "  -q, --quiet                     Don't emit non-error messages to stderr.\n",
      "                                  Errors are still emitted, silence those with\n",
      "                                  2>/dev/null.\n",
      "  -v, --verbose                   Also emit messages to stderr about files\n",
      "                                  that were not changed or were ignored due to\n",
      "                                  --exclude=.\n",
      "  --version                       Show the version and exit.\n",
      "  --config PATH                   Read configuration from PATH.\n",
      "  -h, --help                      Show this message and exit.\n"
     ]
    }
   ],
   "source": [
    "!black --py36 ../python_gcode/GCode/*.py\n",
    "!git commit -am 'clean.'"
   ]
  },
  {
   "cell_type": "code",
   "execution_count": null,
   "metadata": {},
   "outputs": [],
   "source": []
  }
 ],
 "metadata": {
  "kernelspec": {
   "display_name": "Python 3",
   "language": "python",
   "name": "python3"
  },
  "language_info": {
   "codemirror_mode": {
    "name": "ipython",
    "version": 3
   },
   "file_extension": ".py",
   "mimetype": "text/x-python",
   "name": "python",
   "nbconvert_exporter": "python",
   "pygments_lexer": "ipython3",
   "version": "3.6.5"
  }
 },
 "nbformat": 4,
 "nbformat_minor": 2
}
