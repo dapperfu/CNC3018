{
 "cells": [
  {
   "cell_type": "code",
   "execution_count": 1,
   "metadata": {},
   "outputs": [],
   "source": [
    "import glob\n",
    "import nbformat\n",
    "import os\n",
    "import black\n",
    "import isort"
   ]
  },
  {
   "cell_type": "code",
   "execution_count": 5,
   "metadata": {},
   "outputs": [],
   "source": [
    "def isort_notebook_cells(notebook):\n",
    "    with open(notebook, \"rb\") as fp:\n",
    "        nb = nbformat.read(fp=fp, as_version=nbformat.NO_CONVERT)\n",
    "\n",
    "    markdown_cells = list()\n",
    "    code_cells = list()\n",
    "\n",
    "    for cell in nb[\"cells\"]:\n",
    "        if cell[\"cell_type\"] == \"code\":\n",
    "            code_cells.append(cell)\n",
    "        elif cell[\"cell_type\"] == \"markdown\":\n",
    "            markdown_cells.append(cell)\n",
    "        else:\n",
    "            raise Exception(cell[\"cell_type\"])\n",
    "\n",
    "    for code_cell in code_cells:\n",
    "        if code_cell[\"source\"] == \"\":\n",
    "            continue\n",
    "        if \"import\" in code_cell[\"source\"]:\n",
    "            s = isort.SortImports(file_contents=code_cell.source)\n",
    "            code_cell.source = s.output.strip()\n",
    "\n",
    "    with open(notebook, \"w\") as fp:\n",
    "        nbformat.write(nb, fp)"
   ]
  },
  {
   "cell_type": "code",
   "execution_count": 6,
   "metadata": {},
   "outputs": [],
   "source": [
    "def black_notebook_cells(notebook=None):\n",
    "    with open(notebook, \"rb\") as fp:\n",
    "        nb = nbformat.read(fp=fp, as_version=nbformat.NO_CONVERT)\n",
    "\n",
    "    markdown_cells = list()\n",
    "    code_cells = list()\n",
    "\n",
    "    for cell in nb[\"cells\"]:\n",
    "        if cell[\"cell_type\"] == \"code\":\n",
    "            code_cells.append(cell)\n",
    "        elif cell[\"cell_type\"] == \"markdown\":\n",
    "            markdown_cells.append(cell)\n",
    "        else:\n",
    "            raise Exception(cell[\"cell_type\"])\n",
    "\n",
    "    for code_cell in code_cells:\n",
    "        if code_cell[\"source\"] == \"\":\n",
    "            continue\n",
    "        try:\n",
    "            code_cell[\"source\"] = black.format_str(\n",
    "                code_cell[\"source\"],\n",
    "                line_length=80\n",
    "            )\n",
    "        except:\n",
    "            print(\"Failed: {}\".format(code_cell[\"source\"]))\n",
    "            \n",
    "    with open(notebook, \"w\") as fp:\n",
    "        nbformat.write(nb, fp)"
   ]
  },
  {
   "cell_type": "code",
   "execution_count": 7,
   "metadata": {},
   "outputs": [],
   "source": [
    "cleaning_functions = list()\n",
    "\n",
    "cleaning_functions.append(black_notebook_cells)\n",
    "cleaning_functions.append(isort_notebook_cells)\n",
    "\n",
    "def format_folder(path=None):\n",
    "    abs_path=os.path.abspath(path)\n",
    "    try:\n",
    "        assert os.path.exists(abs_path)\n",
    "        notebooks = glob.glob(\n",
    "            os.path.join(abs_path, \"*.ipynb\")\n",
    "        )\n",
    "        for notebook in notebooks:\n",
    "            for cleaning_function in cleaning_functions:\n",
    "                cleaning_function(\n",
    "                    notebook=notebook\n",
    "                )\n",
    "    except:\n",
    "        print(notebook)"
   ]
  },
  {
   "cell_type": "code",
   "execution_count": 8,
   "metadata": {},
   "outputs": [],
   "source": [
    "notebook = \"Bricks-Copy8.ipynb\""
   ]
  },
  {
   "cell_type": "code",
   "execution_count": 13,
   "metadata": {},
   "outputs": [],
   "source": [
    "def clean_empty_notebook_cells(notebook):\n",
    "    \"\"\" bubble imports to the top of a notebook\"\"\"\n",
    "    with open(notebook, \"rb\") as fp:\n",
    "        nb = nbformat.read(fp=fp, as_version=nbformat.NO_CONVERT)\n",
    "    \n",
    "    temp_cells = list()\n",
    "       \n",
    "    for cell in nb[\"cells\"]:\n",
    "        if cell[\"source\"] == \"\":\n",
    "            continue\n",
    "        # Other side of the Valley.\n",
    "        temp_cells.append(cell)\n",
    "\n",
    "    nb[\"cells\"]= temp_cells\n",
    "    with open(notebook, \"w\") as fp:\n",
    "        nbformat.write(nb, fp)"
   ]
  },
  {
   "cell_type": "code",
   "execution_count": 14,
   "metadata": {},
   "outputs": [],
   "source": [
    "def bubble_import_notebook_cells(notebook):\n",
    "    \"\"\" bubble imports to the top of a notebook\"\"\"\n",
    "    with open(notebook, \"rb\") as fp:\n",
    "        nb = nbformat.read(fp=fp, as_version=nbformat.NO_CONVERT)\n",
    "\n",
    "    markdown_cells = list()\n",
    "    code_cells = list()\n",
    "    imports = list()\n",
    "    \n",
    "    for cell in nb[\"cells\"]:\n",
    "        if cell[\"cell_type\"] == \"code\":\n",
    "            code_cells.append(cell)\n",
    "        elif cell[\"cell_type\"] == \"markdown\":\n",
    "            markdown_cells.append(cell)\n",
    "        else:\n",
    "            raise Exception(cell[\"cell_type\"])\n",
    "\n",
    "    for code_cell in code_cells:\n",
    "        if code_cell[\"source\"] == \"\":\n",
    "            continue\n",
    "        if \"import\" in code_cell[\"source\"]:\n",
    "            tmp_buffer = list()\n",
    "            for line in code_cell[\"source\"].splitlines():\n",
    "                if \"import\" in line:\n",
    "                    imports.append(line)\n",
    "                else:\n",
    "                    tmp_buffer.append(line)\n",
    "            code_cell[\"source\"] = tmp_buffer\n",
    "    import_cell = nbformat.v4.new_code_cell()\n",
    "    import_cell[\"source\"]=\"\\n\".join(imports)\n",
    "    nb[\"cells\"].insert(0, import_cell)\n",
    "    with open(notebook, \"w\") as fp:\n",
    "        nbformat.write(nb, fp)"
   ]
  },
  {
   "cell_type": "code",
   "execution_count": 15,
   "metadata": {},
   "outputs": [
    {
     "name": "stdout",
     "output_type": "stream",
     "text": [
      "Failed: class Square(GCode.Line):\n"
     ]
    }
   ],
   "source": [
    "bubble_import_notebook_cells(notebook=notebook)\n",
    "black_notebook_cells(notebook=notebook)\n",
    "isort_notebook_cells(notebook=notebook)\n",
    "clean_empty_notebook_cells(notebook=notebook)"
   ]
  },
  {
   "cell_type": "code",
   "execution_count": 16,
   "metadata": {},
   "outputs": [],
   "source": [
    "cleaning_functions = list()\n",
    "\n",
    "cleaning_functions.append(bubble_import_notebook_cells)\n",
    "cleaning_functions.append(isort_notebook_cells)\n",
    "cleaning_functions.append(black_notebook_cells)\n",
    "cleaning_functions.append(clean_empty_notebook_cells)"
   ]
  },
  {
   "cell_type": "code",
   "execution_count": 42,
   "metadata": {
    "scrolled": true
   },
   "outputs": [
    {
     "name": "stdout",
     "output_type": "stream",
     "text": [
      "[development/jed/submodule/CNC3018/2018-Jul c0223bd] unclean.\r\n",
      " 2 files changed, 816 insertions(+)\r\n",
      " create mode 100644 Drawing/Shapes-Copy4.ipynb\r\n",
      " create mode 100644 Drawing/Shapes-Copy5.ipynb\r\n"
     ]
    }
   ],
   "source": [
    "!git add *.ipynb\n",
    "!git add ../python_gcode/GCode/*.py\n",
    "!git commit -am 'unclean.'"
   ]
  },
  {
   "cell_type": "code",
   "execution_count": 43,
   "metadata": {},
   "outputs": [],
   "source": [
    "notebook = \"Shapes-Copy3.ipynb\"\n",
    "for cleaning_function in cleaning_functions:\n",
    "    cleaning_function(notebook=notebook)"
   ]
  },
  {
   "cell_type": "code",
   "execution_count": 44,
   "metadata": {},
   "outputs": [
    {
     "name": "stdout",
     "output_type": "stream",
     "text": [
      "\u001b[1mreformatted /projects/CNC3018/python_gcode/GCode/Program.py\u001b[0m\n",
      "\u001b[1mreformatted /projects/CNC3018/python_gcode/GCode/Line.py\u001b[0m\n",
      "\u001b[1mAll done! ✨ 🍰 ✨\u001b[0m\n",
      "\u001b[1m2 files reformatted\u001b[0m, 2 files left unchanged.\u001b[0m\n",
      "[development/jed/submodule/CNC3018/2018-Jul a683a37] clean.\n",
      " 2 files changed, 3 insertions(+), 11 deletions(-)\n"
     ]
    }
   ],
   "source": [
    "!black --py36 ../python_gcode/GCode/*.py\n",
    "!git commit -am 'clean.'"
   ]
  }
 ],
 "metadata": {
  "kernelspec": {
   "display_name": "Python 3",
   "language": "python",
   "name": "python3"
  },
  "language_info": {
   "codemirror_mode": {
    "name": "ipython",
    "version": 3
   },
   "file_extension": ".py",
   "mimetype": "text/x-python",
   "name": "python",
   "nbconvert_exporter": "python",
   "pygments_lexer": "ipython3",
   "version": "3.6.5"
  }
 },
 "nbformat": 4,
 "nbformat_minor": 2
}
