{
 "cells": [
  {
   "cell_type": "code",
   "execution_count": null,
   "metadata": {},
   "outputs": [],
   "source": [
    "import os\n",
    "import sys\n",
    "import time\n",
    "\n",
    "import matplotlib.pyplot as plt\n",
    "import numpy as np\n",
    "\n",
    "import GCode\n",
    "import GRBL"
   ]
  },
  {
   "cell_type": "markdown",
   "metadata": {},
   "source": [
    "# Draw a Shapes\n",
    "\n",
    "Attempt at programmatically drawing shapes.\n",
    "\n",
    "All units in mm. ```1``` = ```1 mm```."
   ]
  },
  {
   "cell_type": "code",
   "execution_count": null,
   "metadata": {},
   "outputs": [],
   "source": [
    "# Draw line from (0, 0) to (10, 0)\n",
    "lines = list()\n",
    "line_points = np.array([[0, 0], [10, 0]])\n",
    "lines.append(GCode.Line(points=line_points))\n",
    "\n",
    "# Draw line from (0, 0) to (0, 10)\n",
    "line_points = np.array([[0, 0], [0, 10]])\n",
    "lines.append(GCode.Line(points=line_points))\n",
    "lines\n",
    "\n",
    "# Draw line from (0, 0) to (-10, 0)\n",
    "line_points = np.array([[0, 0], [-10, 0]])\n",
    "lines.append(GCode.Line(points=line_points))\n",
    "lines\n",
    "\n",
    "# Draw line from (0, 0) to (0, -10)\n",
    "line_points = np.array([[0, 0], [0, -10]])\n",
    "lines.append(GCode.Line(points=line_points))\n",
    "lines\n"
   ]
  },
  {
   "cell_type": "code",
   "execution_count": null,
   "metadata": {},
   "outputs": [],
   "source": [
    "prog = GCode.Program(lines=lines)\n",
    "prog.lines"
   ]
  },
  {
   "cell_type": "code",
   "execution_count": null,
   "metadata": {
    "scrolled": true
   },
   "outputs": [],
   "source": [
    "for line in prog.lines:\n",
    "    print(line.dist)"
   ]
  },
  {
   "cell_type": "code",
   "execution_count": null,
   "metadata": {},
   "outputs": [],
   "source": [
    "prog.lines"
   ]
  },
  {
   "cell_type": "code",
   "execution_count": null,
   "metadata": {},
   "outputs": [],
   "source": [
    "prog.generate_gcode()"
   ]
  },
  {
   "cell_type": "code",
   "execution_count": null,
   "metadata": {},
   "outputs": [],
   "source": [
    "prog.lines"
   ]
  },
  {
   "cell_type": "code",
   "execution_count": null,
   "metadata": {},
   "outputs": [],
   "source": [
    "prog.jog_dist"
   ]
  },
  {
   "cell_type": "code",
   "execution_count": null,
   "metadata": {},
   "outputs": [],
   "source": [
    "prog.laserin_dist"
   ]
  },
  {
   "cell_type": "code",
   "execution_count": null,
   "metadata": {},
   "outputs": [],
   "source": []
  },
  {
   "cell_type": "code",
   "execution_count": null,
   "metadata": {},
   "outputs": [],
   "source": [
    "class Square(GCode.Line):\n",
    "    def __init__(\n",
    "        self, len_side=10, origin=np.array([0, 0]), rotation=0, *args, **kwargs\n",
    "    ):\n",
    "        square_points = np.array(\n",
    "            [\n",
    "                [origin[0], origin[1]],\n",
    "                [origin[0] + len_side, origin[1]],\n",
    "                [origin[0] + len_side, origin[1] + len_side],\n",
    "                [origin[0], origin[1] + len_side],\n",
    "                [origin[0], origin[1]],\n",
    "            ]\n",
    "        )\n",
    "\n",
    "        kwargs[\"points\"] = square_points\n",
    "\n",
    "        super().__init__(*args, **kwargs)\n",
    "\n",
    "s = Square()"
   ]
  },
  {
   "cell_type": "code",
   "execution_count": null,
   "metadata": {},
   "outputs": [],
   "source": []
  },
  {
   "cell_type": "code",
   "execution_count": null,
   "metadata": {},
   "outputs": [],
   "source": []
  },
  {
   "cell_type": "code",
   "execution_count": null,
   "metadata": {},
   "outputs": [],
   "source": []
  },
  {
   "cell_type": "code",
   "execution_count": null,
   "metadata": {},
   "outputs": [],
   "source": [
    "s = Square(len_side=10, origin=np.array([0, 0]))\n",
    "s\n"
   ]
  },
  {
   "cell_type": "code",
   "execution_count": null,
   "metadata": {},
   "outputs": [],
   "source": [
    "s2 = Square(len_side=10, origin=np.array([10, 10]))\n",
    "s2\n"
   ]
  },
  {
   "cell_type": "code",
   "execution_count": null,
   "metadata": {},
   "outputs": [],
   "source": [
    "s.points\n"
   ]
  },
  {
   "cell_type": "code",
   "execution_count": null,
   "metadata": {},
   "outputs": [],
   "source": [
    "s.dist\n"
   ]
  },
  {
   "cell_type": "code",
   "execution_count": null,
   "metadata": {},
   "outputs": [],
   "source": [
    "s.total_dist\n"
   ]
  },
  {
   "cell_type": "code",
   "execution_count": null,
   "metadata": {},
   "outputs": [],
   "source": [
    "s.origin\n"
   ]
  },
  {
   "cell_type": "code",
   "execution_count": null,
   "metadata": {},
   "outputs": [],
   "source": [
    "s.end\n"
   ]
  },
  {
   "cell_type": "code",
   "execution_count": null,
   "metadata": {},
   "outputs": [],
   "source": [
    "prog.lines[0].origin\n"
   ]
  },
  {
   "cell_type": "code",
   "execution_count": null,
   "metadata": {},
   "outputs": [],
   "source": [
    "prog.lines[0].end\n"
   ]
  },
  {
   "cell_type": "code",
   "execution_count": null,
   "metadata": {},
   "outputs": [],
   "source": [
    "self = prog\n"
   ]
  },
  {
   "cell_type": "code",
   "execution_count": null,
   "metadata": {},
   "outputs": [],
   "source": []
  },
  {
   "cell_type": "code",
   "execution_count": null,
   "metadata": {},
   "outputs": [],
   "source": [
    "jog_dist = np.cumsum(jog_dists)[-1]\n"
   ]
  }
 ],
 "metadata": {
  "kernelspec": {
   "display_name": "Python 3",
   "language": "python",
   "name": "python3"
  },
  "language_info": {
   "codemirror_mode": {
    "name": "ipython",
    "version": 3
   },
   "file_extension": ".py",
   "mimetype": "text/x-python",
   "name": "python",
   "nbconvert_exporter": "python",
   "pygments_lexer": "ipython3",
   "version": "3.6.5"
  }
 },
 "nbformat": 4,
 "nbformat_minor": 2
}
