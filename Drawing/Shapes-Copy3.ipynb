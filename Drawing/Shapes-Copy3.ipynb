{
 "cells": [
  {
   "cell_type": "code",
   "execution_count": 1,
   "metadata": {},
   "outputs": [],
   "source": [
    "import os\n",
    "import sys\n",
    "import time\n",
    "\n",
    "import matplotlib.pyplot as plt\n",
    "import numpy as np\n",
    "\n",
    "import GCode\n",
    "import GRBL\n"
   ]
  },
  {
   "cell_type": "markdown",
   "metadata": {},
   "source": [
    "# Draw a Shapes\n",
    "\n",
    "Attempt at programmatically drawing shapes.\n",
    "\n",
    "All units in mm. ```1``` = ```1 mm```."
   ]
  },
  {
   "cell_type": "code",
   "execution_count": 2,
   "metadata": {},
   "outputs": [
    {
     "data": {
      "text/plain": [
       "[Line<cut=10.0mm, F=300, S=150>,\n",
       " Line<cut=10.0mm, F=300, S=150>,\n",
       " Line<cut=10.0mm, F=300, S=150>,\n",
       " Line<cut=10.0mm, F=300, S=150>]"
      ]
     },
     "execution_count": 2,
     "metadata": {},
     "output_type": "execute_result"
    }
   ],
   "source": [
    "# Draw line from (0, 0) to (10, 0)\n",
    "lines = list()\n",
    "line_points = np.array([[0, 0], [10, 0]])\n",
    "lines.append(GCode.Line(points=line_points))\n",
    "\n",
    "# Draw line from (0, 0) to (0, 10)\n",
    "line_points = np.array([[0, 0], [0, 10]])\n",
    "lines.append(GCode.Line(points=line_points))\n",
    "lines\n",
    "\n",
    "# Draw line from (0, 0) to (-10, 0)\n",
    "line_points = np.array([[0, 0], [-10, 0]])\n",
    "lines.append(GCode.Line(points=line_points))\n",
    "lines\n",
    "\n",
    "# Draw line from (0, 0) to (0, -10)\n",
    "line_points = np.array([[0, 0], [0, -10]])\n",
    "lines.append(GCode.Line(points=line_points))\n",
    "lines\n"
   ]
  },
  {
   "cell_type": "code",
   "execution_count": 3,
   "metadata": {},
   "outputs": [
    {
     "data": {
      "text/plain": [
       "[Line<cut=10.0mm, F=300, S=150>,\n",
       " Line<cut=10.0mm, F=300, S=150>,\n",
       " Line<cut=10.0mm, F=300, S=150>,\n",
       " Line<cut=10.0mm, F=300, S=150>]"
      ]
     },
     "execution_count": 3,
     "metadata": {},
     "output_type": "execute_result"
    }
   ],
   "source": [
    "prog = GCode.Program(lines=lines)\n",
    "prog.lines\n"
   ]
  },
  {
   "cell_type": "code",
   "execution_count": 4,
   "metadata": {},
   "outputs": [
    {
     "data": {
      "text/plain": [
       "40.0"
      ]
     },
     "execution_count": 4,
     "metadata": {},
     "output_type": "execute_result"
    }
   ],
   "source": [
    "prog.laserin_dist\n"
   ]
  },
  {
   "cell_type": "code",
   "execution_count": 5,
   "metadata": {},
   "outputs": [
    {
     "data": {
      "text/plain": [
       "8.0"
      ]
     },
     "execution_count": 5,
     "metadata": {},
     "output_type": "execute_result"
    }
   ],
   "source": [
    "prog.laserin_time\n"
   ]
  },
  {
   "cell_type": "code",
   "execution_count": 6,
   "metadata": {},
   "outputs": [
    {
     "data": {
      "text/plain": [
       "5.0"
      ]
     },
     "execution_count": 6,
     "metadata": {},
     "output_type": "execute_result"
    }
   ],
   "source": [
    "300 / 60\n"
   ]
  },
  {
   "cell_type": "code",
   "execution_count": 7,
   "metadata": {},
   "outputs": [
    {
     "data": {
      "text/plain": [
       "[Line<cut=10.0mm, F=300, S=150>,\n",
       " Line<cut=10.0mm, F=300, S=150>,\n",
       " Line<cut=10.0mm, F=300, S=150>,\n",
       " Line<cut=10.0mm, F=300, S=150>]"
      ]
     },
     "execution_count": 7,
     "metadata": {},
     "output_type": "execute_result"
    }
   ],
   "source": [
    "prog.lines\n"
   ]
  },
  {
   "cell_type": "code",
   "execution_count": 8,
   "metadata": {},
   "outputs": [
    {
     "data": {
      "text/plain": [
       "40.0"
      ]
     },
     "execution_count": 8,
     "metadata": {},
     "output_type": "execute_result"
    }
   ],
   "source": [
    "prog.jog_dist\n"
   ]
  },
  {
   "cell_type": "code",
   "execution_count": 9,
   "metadata": {},
   "outputs": [
    {
     "data": {
      "text/plain": [
       "40.0"
      ]
     },
     "execution_count": 9,
     "metadata": {},
     "output_type": "execute_result"
    }
   ],
   "source": [
    "prog.laserin_dist\n"
   ]
  },
  {
   "cell_type": "code",
   "execution_count": 10,
   "metadata": {},
   "outputs": [
    {
     "data": {
      "text/plain": [
       "80.0"
      ]
     },
     "execution_count": 10,
     "metadata": {},
     "output_type": "execute_result"
    }
   ],
   "source": [
    "prog.dist"
   ]
  },
  {
   "cell_type": "code",
   "execution_count": 12,
   "metadata": {
    "scrolled": true
   },
   "outputs": [
    {
     "data": {
      "text/plain": [
       "28.0"
      ]
     },
     "execution_count": 12,
     "metadata": {},
     "output_type": "execute_result"
    }
   ],
   "source": [
    "prog.time"
   ]
  },
  {
   "cell_type": "code",
   "execution_count": 13,
   "metadata": {},
   "outputs": [],
   "source": [
    "class Square(GCode.Line):\n",
    "    def __init__(\n",
    "        self, len_side=10, origin=np.array([0, 0]), rotation=0, *args, **kwargs\n",
    "    ):\n",
    "        square_points = np.array(\n",
    "            [\n",
    "                [origin[0], origin[1]],\n",
    "                [origin[0] + len_side, origin[1]],\n",
    "                [origin[0] + len_side, origin[1] + len_side],\n",
    "                [origin[0], origin[1] + len_side],\n",
    "                [origin[0], origin[1]],\n",
    "            ]\n",
    "        )\n",
    "\n",
    "        kwargs[\"points\"] = square_points\n",
    "\n",
    "        super().__init__(*args, **kwargs)\n",
    "\n",
    "\n",
    "s = Square()\n"
   ]
  },
  {
   "cell_type": "code",
   "execution_count": 14,
   "metadata": {},
   "outputs": [
    {
     "data": {
      "text/html": [
       "<b>G0</b> <i>X0 Y0</i><br>\n",
       "<b>M4</b> <i>S150</i><br>\n",
       "<b>G1</b> <i>X10 Y0 F300</i><br>\n",
       "<b>G1</b> <i>X10 Y10 F300</i><br>\n",
       "<b>G1</b> <i>X0 Y10 F300</i><br>\n",
       "<b>G1</b> <i>X0 Y0 F300</i><br>\n",
       "<b>M5</b> <i></i>"
      ],
      "text/plain": [
       "Line<cut=40.0mm, F=300, S=150>"
      ]
     },
     "execution_count": 14,
     "metadata": {},
     "output_type": "execute_result"
    }
   ],
   "source": [
    "s\n"
   ]
  },
  {
   "cell_type": "code",
   "execution_count": 15,
   "metadata": {},
   "outputs": [
    {
     "data": {
      "text/html": [
       "<b>G0</b> <i>X0 Y0</i><br>\n",
       "<b>M4</b> <i>S150</i><br>\n",
       "<b>G1</b> <i>X10 Y0 F300</i><br>\n",
       "<b>G1</b> <i>X10 Y10 F300</i><br>\n",
       "<b>G1</b> <i>X0 Y10 F300</i><br>\n",
       "<b>G1</b> <i>X0 Y0 F300</i><br>\n",
       "<b>M5</b> <i></i>"
      ],
      "text/plain": [
       "Line<cut=40.0mm, F=300, S=150>"
      ]
     },
     "execution_count": 15,
     "metadata": {},
     "output_type": "execute_result"
    }
   ],
   "source": [
    "s = Square(len_side=10, origin=np.array([0, 0]))\n",
    "s\n"
   ]
  },
  {
   "cell_type": "code",
   "execution_count": null,
   "metadata": {},
   "outputs": [],
   "source": [
    "s2 = Square(len_side=10, origin=np.array([10, 10]))\n",
    "s2\n"
   ]
  },
  {
   "cell_type": "code",
   "execution_count": null,
   "metadata": {},
   "outputs": [],
   "source": [
    "s.points\n"
   ]
  },
  {
   "cell_type": "code",
   "execution_count": null,
   "metadata": {},
   "outputs": [],
   "source": [
    "s.dist\n"
   ]
  },
  {
   "cell_type": "code",
   "execution_count": null,
   "metadata": {},
   "outputs": [],
   "source": [
    "s.total_dist\n"
   ]
  },
  {
   "cell_type": "code",
   "execution_count": null,
   "metadata": {},
   "outputs": [],
   "source": [
    "s.origin\n"
   ]
  },
  {
   "cell_type": "code",
   "execution_count": null,
   "metadata": {},
   "outputs": [],
   "source": [
    "s.end\n"
   ]
  },
  {
   "cell_type": "code",
   "execution_count": null,
   "metadata": {},
   "outputs": [],
   "source": [
    "prog.lines[0].origin\n"
   ]
  },
  {
   "cell_type": "code",
   "execution_count": null,
   "metadata": {},
   "outputs": [],
   "source": [
    "prog.lines[0].end\n"
   ]
  },
  {
   "cell_type": "code",
   "execution_count": null,
   "metadata": {},
   "outputs": [],
   "source": [
    "self = prog\n"
   ]
  },
  {
   "cell_type": "code",
   "execution_count": null,
   "metadata": {},
   "outputs": [],
   "source": [
    "jog_dist = np.cumsum(jog_dists)[-1]\n"
   ]
  }
 ],
 "metadata": {
  "kernelspec": {
   "display_name": "Python 3",
   "language": "python",
   "name": "python3"
  },
  "language_info": {
   "codemirror_mode": {
    "name": "ipython",
    "version": 3
   },
   "file_extension": ".py",
   "mimetype": "text/x-python",
   "name": "python",
   "nbconvert_exporter": "python",
   "pygments_lexer": "ipython3",
   "version": "3.6.5"
  }
 },
 "nbformat": 4,
 "nbformat_minor": 2
}
