{
 "cells": [
  {
   "cell_type": "code",
   "execution_count": 1,
   "metadata": {},
   "outputs": [
    {
     "ename": "IndentationError",
     "evalue": "unexpected indent (Line.py, line 90)",
     "output_type": "error",
     "traceback": [
      "Traceback \u001b[0;36m(most recent call last)\u001b[0m:\n",
      "  File \u001b[1;32m\"/projects/CNC3018/lib/python3.6/site-packages/IPython/core/interactiveshell.py\"\u001b[0m, line \u001b[1;32m2963\u001b[0m, in \u001b[1;35mrun_code\u001b[0m\n    exec(code_obj, self.user_global_ns, self.user_ns)\n",
      "  File \u001b[1;32m\"<ipython-input-1-cd46ef676446>\"\u001b[0m, line \u001b[1;32m8\u001b[0m, in \u001b[1;35m<module>\u001b[0m\n    import GCode\n",
      "\u001b[0;36m  File \u001b[0;32m\"/projects/CNC3018/python_gcode/GCode/__init__.py\"\u001b[0;36m, line \u001b[0;32m2\u001b[0;36m, in \u001b[0;35m<module>\u001b[0;36m\u001b[0m\n\u001b[0;31m    from .Line import Line\u001b[0m\n",
      "\u001b[0;36m  File \u001b[0;32m\"/projects/CNC3018/python_gcode/GCode/Line.py\"\u001b[0;36m, line \u001b[0;32m90\u001b[0m\n\u001b[0;31m    @property\u001b[0m\n\u001b[0m    ^\u001b[0m\n\u001b[0;31mIndentationError\u001b[0m\u001b[0;31m:\u001b[0m unexpected indent\n"
     ]
    }
   ],
   "source": [
    "import os\n",
    "import sys\n",
    "import time\n",
    "\n",
    "import matplotlib.pyplot as plt\n",
    "import numpy as np\n",
    "\n",
    "import GCode\n",
    "import GRBL\n"
   ]
  },
  {
   "cell_type": "markdown",
   "metadata": {},
   "source": [
    "# Draw a Shapes\n",
    "\n",
    "Attempt at programmatically drawing shapes.\n",
    "\n",
    "All units in mm. ```1``` = ```1 mm```."
   ]
  },
  {
   "cell_type": "code",
   "execution_count": null,
   "metadata": {},
   "outputs": [],
   "source": [
    "# Draw line from (0, 0) to (10, 0)\n",
    "lines = list()\n",
    "line_points = np.array([[0, 0], [10, 0]])\n",
    "lines.append(GCode.Line(points=line_points))\n",
    "\n",
    "# Draw line from (0, 0) to (0, 10)\n",
    "line_points = np.array([[0, 0], [0, 10]])\n",
    "lines.append(GCode.Line(points=line_points))\n",
    "lines\n",
    "\n",
    "# Draw line from (0, 0) to (-10, 0)\n",
    "line_points = np.array([[0, 0], [-10, 0]])\n",
    "lines.append(GCode.Line(points=line_points))\n",
    "lines\n",
    "\n",
    "# Draw line from (0, 0) to (0, -10)\n",
    "line_points = np.array([[0, 0], [0, -10]])\n",
    "lines.append(GCode.Line(points=line_points))\n",
    "lines\n"
   ]
  },
  {
   "cell_type": "code",
   "execution_count": null,
   "metadata": {},
   "outputs": [],
   "source": [
    "prog = GCode.Program(lines=lines)\n",
    "prog.lines\n"
   ]
  },
  {
   "cell_type": "code",
   "execution_count": null,
   "metadata": {},
   "outputs": [],
   "source": [
    "prog.laserin_dist\n"
   ]
  },
  {
   "cell_type": "code",
   "execution_count": null,
   "metadata": {},
   "outputs": [],
   "source": [
    "prog.laserin_time\n"
   ]
  },
  {
   "cell_type": "code",
   "execution_count": null,
   "metadata": {},
   "outputs": [],
   "source": [
    "300 / 60\n"
   ]
  },
  {
   "cell_type": "code",
   "execution_count": null,
   "metadata": {},
   "outputs": [],
   "source": [
    "prog.lines\n"
   ]
  },
  {
   "cell_type": "code",
   "execution_count": null,
   "metadata": {},
   "outputs": [],
   "source": [
    "prog.jog_dist\n"
   ]
  },
  {
   "cell_type": "code",
   "execution_count": null,
   "metadata": {},
   "outputs": [],
   "source": [
    "prog.laserin_dist\n"
   ]
  },
  {
   "cell_type": "code",
   "execution_count": null,
   "metadata": {},
   "outputs": [],
   "source": [
    "prog.dist"
   ]
  },
  {
   "cell_type": "code",
   "execution_count": null,
   "metadata": {
    "scrolled": true
   },
   "outputs": [],
   "source": [
    "prog.time"
   ]
  },
  {
   "cell_type": "code",
   "execution_count": null,
   "metadata": {},
   "outputs": [],
   "source": [
    "class Square(GCode.Line):\n",
    "    def __init__(\n",
    "        self, len_side=10, origin=np.array([0, 0]), rotation=0, *args, **kwargs\n",
    "    ):\n",
    "        self.len_side = len_side\n",
    "        self.origin = origin\n",
    "        self._gen_points()\n",
    "        \n",
    "        super().__init__(*args, **kwargs)\n",
    "\n",
    "    def _gen_points(self):\n",
    "        self.points = np.array(\n",
    "            [\n",
    "                [self.origin[0], self.origin[1]],\n",
    "                [self.origin[0] + self.len_side, self.origin[1]],\n",
    "                [self.origin[0] + self.len_side, self.origin[1] + self.len_side],\n",
    "                [self.origin[0], self.origin[1] + self.len_side],\n",
    "                [self.origin[0], self.origin[1]],\n",
    "            ]\n",
    "        )\n",
    "        \n",
    "    @property\n",
    "    def _cls(self):\n",
    "        return self.__class__.__name__\n",
    "        \n",
    "    def __repr__(self):\n",
    "        return \"{}<O=(), L=()>\".format(self._cls, self.o, self.len_side)\n",
    "\n",
    "s = Square()\n"
   ]
  },
  {
   "cell_type": "code",
   "execution_count": null,
   "metadata": {},
   "outputs": [],
   "source": [
    "s.__repr__()"
   ]
  },
  {
   "cell_type": "code",
   "execution_count": null,
   "metadata": {},
   "outputs": [],
   "source": [
    "s = Square(len_side=10, origin=np.array([0, 0]))\n",
    "s\n"
   ]
  },
  {
   "cell_type": "code",
   "execution_count": null,
   "metadata": {},
   "outputs": [],
   "source": [
    "s2 = Square(len_side=10, origin=np.array([10, 10]))\n",
    "s2\n"
   ]
  },
  {
   "cell_type": "code",
   "execution_count": null,
   "metadata": {},
   "outputs": [],
   "source": [
    "s.points\n"
   ]
  },
  {
   "cell_type": "code",
   "execution_count": null,
   "metadata": {},
   "outputs": [],
   "source": [
    "s.dist\n"
   ]
  },
  {
   "cell_type": "code",
   "execution_count": null,
   "metadata": {},
   "outputs": [],
   "source": [
    "s.total_dist\n"
   ]
  },
  {
   "cell_type": "code",
   "execution_count": null,
   "metadata": {},
   "outputs": [],
   "source": [
    "s.origin\n"
   ]
  },
  {
   "cell_type": "code",
   "execution_count": null,
   "metadata": {},
   "outputs": [],
   "source": [
    "s.end\n"
   ]
  },
  {
   "cell_type": "code",
   "execution_count": null,
   "metadata": {},
   "outputs": [],
   "source": [
    "prog.lines[0].origin\n"
   ]
  },
  {
   "cell_type": "code",
   "execution_count": null,
   "metadata": {},
   "outputs": [],
   "source": [
    "prog.lines[0].end\n"
   ]
  },
  {
   "cell_type": "code",
   "execution_count": null,
   "metadata": {},
   "outputs": [],
   "source": [
    "self = prog\n"
   ]
  },
  {
   "cell_type": "code",
   "execution_count": null,
   "metadata": {},
   "outputs": [],
   "source": [
    "jog_dist = np.cumsum(jog_dists)[-1]\n"
   ]
  }
 ],
 "metadata": {
  "kernelspec": {
   "display_name": "Python 3",
   "language": "python",
   "name": "python3"
  },
  "language_info": {
   "codemirror_mode": {
    "name": "ipython",
    "version": 3
   },
   "file_extension": ".py",
   "mimetype": "text/x-python",
   "name": "python",
   "nbconvert_exporter": "python",
   "pygments_lexer": "ipython3",
   "version": "3.6.5"
  }
 },
 "nbformat": 4,
 "nbformat_minor": 2
}
