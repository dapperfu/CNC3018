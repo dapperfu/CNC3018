{
 "cells": [
  {
   "cell_type": "code",
   "execution_count": 2,
   "metadata": {},
   "outputs": [],
   "source": [
    "import os\n",
    "import sys\n",
    "import time\n",
    "\n",
    "import matplotlib.pyplot as plt\n",
    "import numpy as np\n",
    "\n",
    "import GCode\n",
    "import GRBL\n"
   ]
  },
  {
   "cell_type": "code",
   "execution_count": 3,
   "metadata": {},
   "outputs": [],
   "source": [
    "# Poplar 1x4\". Cut\n",
    "BlockHeight = 89.0  # mm\n",
    "BlockLength = 2 * BlockHeight  # mm\n"
   ]
  },
  {
   "cell_type": "code",
   "execution_count": 4,
   "metadata": {},
   "outputs": [],
   "source": [
    "?GCode.HorzLine"
   ]
  },
  {
   "cell_type": "code",
   "execution_count": 5,
   "metadata": {},
   "outputs": [],
   "source": [
    "horz_lines = np.array([ 0. ,  8.9, 17.8, 26.7, 35.6, 44.5, 53.4, 62.3, 71.2, 80.1])"
   ]
  },
  {
   "cell_type": "code",
   "execution_count": 33,
   "metadata": {},
   "outputs": [
    {
     "data": {
      "text/plain": [
       "44.5"
      ]
     },
     "execution_count": 33,
     "metadata": {},
     "output_type": "execute_result"
    }
   ],
   "source": [
    "Line1_Y=horz_lines[5]\n",
    "Line1_Y"
   ]
  },
  {
   "cell_type": "code",
   "execution_count": 34,
   "metadata": {},
   "outputs": [
    {
     "data": {
      "text/html": [
       "<b>G21</b> <i></i><br>\n",
       "<b>G90</b> <i></i><br>\n",
       "<b>G28</b> <i></i><br>\n",
       "<b>G0</b> <i>F120</i><br>\n",
       "<b>G1</b> <i>F120</i><br>\n",
       "<b>M3</b> <i>S1</i><br>\n",
       "<b>G92</b> <i>X0 Y0 Z0</i><br>\n",
       "<b>G0</b> <i>X0.0 Y44.5</i><br>\n",
       "<b>M4</b> <i>S0</i><br>\n",
       "<b>G1</b> <i>X1.0 Y44.5 F300</i><br>\n",
       "<b>M5</b> <i></i><br>\n",
       "<b>G0</b> <i>X1.0 Y44.5</i><br>\n",
       "<b>M4</b> <i>S128</i><br>\n",
       "<b>G1</b> <i>X5.0 Y44.5 F300</i><br>\n",
       "<b>M5</b> <i></i><br>\n",
       "<b>G0</b> <i>X5.0 Y44.5</i><br>\n",
       "<b>M4</b> <i>S0</i><br>\n",
       "<b>G1</b> <i>X6.0 Y44.5 F300</i><br>\n",
       "<b>M5</b> <i></i><br>\n",
       "<b>G0</b> <i>X6.0 Y44.5</i><br>\n",
       "<b>M4</b> <i>S128</i><br>\n",
       "<b>G1</b> <i>X10.0 Y44.5 F300</i><br>\n",
       "<b>M5</b> <i></i><br>\n",
       "<b>G0</b> <i>X10.0 Y44.5</i><br>\n",
       "<b>M4</b> <i>S0</i><br>\n",
       "<b>G1</b> <i>X11.0 Y44.5 F300</i><br>\n",
       "<b>M5</b> <i></i><br>\n",
       "<b>G0</b> <i>X11.0 Y44.5</i><br>\n",
       "<b>M4</b> <i>S128</i><br>\n",
       "<b>G1</b> <i>X15.0 Y44.5 F300</i><br>\n",
       "<b>M5</b> <i></i><br>\n",
       "<b>G0</b> <i>X15.0 Y44.5</i><br>\n",
       "<b>M4</b> <i>S0</i><br>\n",
       "<b>G1</b> <i>X16.0 Y44.5 F300</i><br>\n",
       "<b>M5</b> <i></i><br>\n",
       "<b>G0</b> <i>X16.0 Y44.5</i><br>\n",
       "<b>M4</b> <i>S128</i><br>\n",
       "<b>G1</b> <i>X20.0 Y44.5 F300</i><br>\n",
       "<b>M5</b> <i></i><br>\n",
       "<b>G0</b> <i>X20.0 Y44.5</i><br>\n",
       "<b>M4</b> <i>S0</i><br>\n",
       "<b>G1</b> <i>X21.0 Y44.5 F300</i><br>\n",
       "<b>M5</b> <i></i><br>\n",
       "<b>G0</b> <i>X21.0 Y44.5</i><br>\n",
       "<b>M4</b> <i>S128</i><br>\n",
       "<b>G1</b> <i>X25.0 Y44.5 F300</i><br>\n",
       "<b>M5</b> <i></i><br>\n",
       "<b>G0</b> <i>X25.0 Y44.5</i><br>\n",
       "<b>M4</b> <i>S0</i><br>\n",
       "<b>G1</b> <i>X26.0 Y44.5 F300</i><br>\n",
       "<b>M5</b> <i></i><br>\n",
       "<b>G0</b> <i>X26.0 Y44.5</i><br>\n",
       "<b>M4</b> <i>S128</i><br>\n",
       "<b>G1</b> <i>X30.0 Y44.5 F300</i><br>\n",
       "<b>M5</b> <i></i><br>\n",
       "<b>G0</b> <i>X30.0 Y44.5</i><br>\n",
       "<b>M4</b> <i>S0</i><br>\n",
       "<b>G1</b> <i>X31.0 Y44.5 F300</i><br>\n",
       "<b>M5</b> <i></i><br>\n",
       "<b>G0</b> <i>X31.0 Y44.5</i><br>\n",
       "<b>M4</b> <i>S128</i><br>\n",
       "<b>G1</b> <i>X35.0 Y44.5 F300</i><br>\n",
       "<b>M5</b> <i></i><br>\n",
       "<b>G0</b> <i>X35.0 Y44.5</i><br>\n",
       "<b>M4</b> <i>S0</i><br>\n",
       "<b>G1</b> <i>X36.0 Y44.5 F300</i><br>\n",
       "<b>M5</b> <i></i><br>\n",
       "<b>G0</b> <i>X36.0 Y44.5</i><br>\n",
       "<b>M4</b> <i>S128</i><br>\n",
       "<b>G1</b> <i>X40.0 Y44.5 F300</i><br>\n",
       "<b>M5</b> <i></i><br>\n",
       "<b>G0</b> <i>X40.0 Y44.5</i><br>\n",
       "<b>M4</b> <i>S0</i><br>\n",
       "<b>G1</b> <i>X41.0 Y44.5 F300</i><br>\n",
       "<b>M5</b> <i></i><br>\n",
       "<b>G0</b> <i>X41.0 Y44.5</i><br>\n",
       "<b>M4</b> <i>S128</i><br>\n",
       "<b>G1</b> <i>X45.0 Y44.5 F300</i><br>\n",
       "<b>M5</b> <i></i><br>\n",
       "<b>G0</b> <i>X45.0 Y44.5</i><br>\n",
       "<b>M4</b> <i>S0</i><br>\n",
       "<b>G1</b> <i>X46.0 Y44.5 F300</i><br>\n",
       "<b>M5</b> <i></i><br>\n",
       "<b>G0</b> <i>X46.0 Y44.5</i><br>\n",
       "<b>M4</b> <i>S128</i><br>\n",
       "<b>G1</b> <i>X50.0 Y44.5 F300</i><br>\n",
       "<b>M5</b> <i></i><br>\n",
       "<b>G0</b> <i>X50.0 Y44.5</i><br>\n",
       "<b>M4</b> <i>S0</i><br>\n",
       "<b>G1</b> <i>X51.0 Y44.5 F300</i><br>\n",
       "<b>M5</b> <i></i><br>\n",
       "<b>G0</b> <i>X51.0 Y44.5</i><br>\n",
       "<b>M4</b> <i>S128</i><br>\n",
       "<b>G1</b> <i>X55.0 Y44.5 F300</i><br>\n",
       "<b>M5</b> <i></i><br>\n",
       "<b>G0</b> <i>X55.0 Y44.5</i><br>\n",
       "<b>M4</b> <i>S0</i><br>\n",
       "<b>G1</b> <i>X56.0 Y44.5 F300</i><br>\n",
       "<b>M5</b> <i></i><br>\n",
       "<b>G0</b> <i>X56.0 Y44.5</i><br>\n",
       "<b>M4</b> <i>S128</i><br>\n",
       "<b>G1</b> <i>X60.0 Y44.5 F300</i><br>\n",
       "<b>M5</b> <i></i><br>\n",
       "<b>G0</b> <i>X60.0 Y44.5</i><br>\n",
       "<b>M4</b> <i>S0</i><br>\n",
       "<b>G1</b> <i>X61.0 Y44.5 F300</i><br>\n",
       "<b>M5</b> <i></i><br>\n",
       "<b>G0</b> <i>X61.0 Y44.5</i><br>\n",
       "<b>M4</b> <i>S128</i><br>\n",
       "<b>G1</b> <i>X65.0 Y44.5 F300</i><br>\n",
       "<b>M5</b> <i></i><br>\n",
       "<b>G0</b> <i>X65.0 Y44.5</i><br>\n",
       "<b>M4</b> <i>S0</i><br>\n",
       "<b>G1</b> <i>X66.0 Y44.5 F300</i><br>\n",
       "<b>M5</b> <i></i><br>\n",
       "<b>G0</b> <i>X66.0 Y44.5</i><br>\n",
       "<b>M4</b> <i>S128</i><br>\n",
       "<b>G1</b> <i>X70.0 Y44.5 F300</i><br>\n",
       "<b>M5</b> <i></i><br>\n",
       "<b>G0</b> <i>X70.0 Y44.5</i><br>\n",
       "<b>M4</b> <i>S0</i><br>\n",
       "<b>G1</b> <i>X71.0 Y44.5 F300</i><br>\n",
       "<b>M5</b> <i></i><br>\n",
       "<b>G0</b> <i>X71.0 Y44.5</i><br>\n",
       "<b>M4</b> <i>S128</i><br>\n",
       "<b>G1</b> <i>X75.0 Y44.5 F300</i><br>\n",
       "<b>M5</b> <i></i><br>\n",
       "<b>G0</b> <i>X75.0 Y44.5</i><br>\n",
       "<b>M4</b> <i>S0</i><br>\n",
       "<b>G1</b> <i>X76.0 Y44.5 F300</i><br>\n",
       "<b>M5</b> <i></i><br>\n",
       "<b>G0</b> <i>X76.0 Y44.5</i><br>\n",
       "<b>M4</b> <i>S128</i><br>\n",
       "<b>G1</b> <i>X80.0 Y44.5 F300</i><br>\n",
       "<b>M5</b> <i></i><br>\n",
       "<b>G0</b> <i>X80.0 Y44.5</i><br>\n",
       "<b>M4</b> <i>S0</i><br>\n",
       "<b>G1</b> <i>X81.0 Y44.5 F300</i><br>\n",
       "<b>M5</b> <i></i><br>\n",
       "<b>G0</b> <i>X81.0 Y44.5</i><br>\n",
       "<b>M4</b> <i>S128</i><br>\n",
       "<b>G1</b> <i>X85.0 Y44.5 F300</i><br>\n",
       "<b>M5</b> <i></i><br>\n",
       "<b>G0</b> <i>X85.0 Y44.5</i><br>\n",
       "<b>M4</b> <i>S0</i><br>\n",
       "<b>G1</b> <i>X86.0 Y44.5 F300</i><br>\n",
       "<b>M5</b> <i></i><br>\n",
       "<b>G0</b> <i>X86.0 Y44.5</i><br>\n",
       "<b>M4</b> <i>S128</i><br>\n",
       "<b>G1</b> <i>X90.0 Y44.5 F300</i><br>\n",
       "<b>M5</b> <i></i><br>\n",
       "<b>G0</b> <i>X90.0 Y44.5</i><br>\n",
       "<b>M4</b> <i>S0</i><br>\n",
       "<b>G1</b> <i>X91.0 Y44.5 F300</i><br>\n",
       "<b>M5</b> <i></i><br>\n",
       "<b>G0</b> <i>X91.0 Y44.5</i><br>\n",
       "<b>M4</b> <i>S128</i><br>\n",
       "<b>G1</b> <i>X95.0 Y44.5 F300</i><br>\n",
       "<b>M5</b> <i></i><br>\n",
       "<b>G0</b> <i>X95.0 Y44.5</i><br>\n",
       "<b>M4</b> <i>S0</i><br>\n",
       "<b>G1</b> <i>X96.0 Y44.5 F300</i><br>\n",
       "<b>M5</b> <i></i><br>\n",
       "<b>G0</b> <i>X96.0 Y44.5</i><br>\n",
       "<b>M4</b> <i>S128</i><br>\n",
       "<b>G1</b> <i>X100.0 Y44.5 F300</i><br>\n",
       "<b>M5</b> <i></i><br>\n",
       "<b>G0</b> <i>X100.0 Y44.5</i><br>\n",
       "<b>M4</b> <i>S0</i><br>\n",
       "<b>G1</b> <i>X101.0 Y44.5 F300</i><br>\n",
       "<b>M5</b> <i></i><br>\n",
       "<b>G0</b> <i>X101.0 Y44.5</i><br>\n",
       "<b>M4</b> <i>S128</i><br>\n",
       "<b>G1</b> <i>X105.0 Y44.5 F300</i><br>\n",
       "<b>M5</b> <i></i><br>\n",
       "<b>G0</b> <i>X105.0 Y44.5</i><br>\n",
       "<b>M4</b> <i>S0</i><br>\n",
       "<b>G1</b> <i>X106.0 Y44.5 F300</i><br>\n",
       "<b>M5</b> <i></i><br>\n",
       "<b>G0</b> <i>X106.0 Y44.5</i><br>\n",
       "<b>M4</b> <i>S128</i><br>\n",
       "<b>G1</b> <i>X110.0 Y44.5 F300</i><br>\n",
       "<b>M5</b> <i></i><br>\n",
       "<b>G0</b> <i>X110.0 Y44.5</i><br>\n",
       "<b>M4</b> <i>S0</i><br>\n",
       "<b>G1</b> <i>X111.0 Y44.5 F300</i><br>\n",
       "<b>M5</b> <i></i><br>\n",
       "<b>G0</b> <i>X111.0 Y44.5</i><br>\n",
       "<b>M4</b> <i>S128</i><br>\n",
       "<b>G1</b> <i>X115.0 Y44.5 F300</i><br>\n",
       "<b>M5</b> <i></i><br>\n",
       "<b>G0</b> <i>X115.0 Y44.5</i><br>\n",
       "<b>M4</b> <i>S0</i><br>\n",
       "<b>G1</b> <i>X116.0 Y44.5 F300</i><br>\n",
       "<b>M5</b> <i></i><br>\n",
       "<b>G0</b> <i>X116.0 Y44.5</i><br>\n",
       "<b>M4</b> <i>S128</i><br>\n",
       "<b>G1</b> <i>X120.0 Y44.5 F300</i><br>\n",
       "<b>M5</b> <i></i><br>\n",
       "<b>G0</b> <i>X120.0 Y44.5</i><br>\n",
       "<b>M4</b> <i>S0</i><br>\n",
       "<b>G1</b> <i>X121.0 Y44.5 F300</i><br>\n",
       "<b>M5</b> <i></i><br>\n",
       "<b>G0</b> <i>X121.0 Y44.5</i><br>\n",
       "<b>M4</b> <i>S128</i><br>\n",
       "<b>G1</b> <i>X125.0 Y44.5 F300</i><br>\n",
       "<b>M5</b> <i></i><br>\n",
       "<b>G0</b> <i>X125.0 Y44.5</i><br>\n",
       "<b>M4</b> <i>S0</i><br>\n",
       "<b>G1</b> <i>X126.0 Y44.5 F300</i><br>\n",
       "<b>M5</b> <i></i><br>\n",
       "<b>G0</b> <i>X126.0 Y44.5</i><br>\n",
       "<b>M4</b> <i>S128</i><br>\n",
       "<b>G1</b> <i>X130.0 Y44.5 F300</i><br>\n",
       "<b>M5</b> <i></i><br>\n",
       "<b>G0</b> <i>X130.0 Y44.5</i><br>\n",
       "<b>M4</b> <i>S0</i><br>\n",
       "<b>G1</b> <i>X131.0 Y44.5 F300</i><br>\n",
       "<b>M5</b> <i></i><br>\n",
       "<b>G0</b> <i>X131.0 Y44.5</i><br>\n",
       "<b>M4</b> <i>S128</i><br>\n",
       "<b>G1</b> <i>X135.0 Y44.5 F300</i><br>\n",
       "<b>M5</b> <i></i><br>\n",
       "<b>G0</b> <i>X135.0 Y44.5</i><br>\n",
       "<b>M4</b> <i>S0</i><br>\n",
       "<b>G1</b> <i>X136.0 Y44.5 F300</i><br>\n",
       "<b>M5</b> <i></i><br>\n",
       "<b>G0</b> <i>X136.0 Y44.5</i><br>\n",
       "<b>M4</b> <i>S128</i><br>\n",
       "<b>G1</b> <i>X140.0 Y44.5 F300</i><br>\n",
       "<b>M5</b> <i></i><br>\n",
       "<b>G0</b> <i>X140.0 Y44.5</i><br>\n",
       "<b>M4</b> <i>S0</i><br>\n",
       "<b>G1</b> <i>X141.0 Y44.5 F300</i><br>\n",
       "<b>M5</b> <i></i><br>\n",
       "<b>G0</b> <i>X141.0 Y44.5</i><br>\n",
       "<b>M4</b> <i>S128</i><br>\n",
       "<b>G1</b> <i>X145.0 Y44.5 F300</i><br>\n",
       "<b>M5</b> <i></i><br>\n",
       "<b>G0</b> <i>X145.0 Y44.5</i><br>\n",
       "<b>M4</b> <i>S0</i><br>\n",
       "<b>G1</b> <i>X146.0 Y44.5 F300</i><br>\n",
       "<b>M5</b> <i></i><br>\n",
       "<b>G0</b> <i>X146.0 Y44.5</i><br>\n",
       "<b>M4</b> <i>S128</i><br>\n",
       "<b>G1</b> <i>X150.0 Y44.5 F300</i><br>\n",
       "<b>M5</b> <i></i><br>\n",
       "<b>G0</b> <i>X150.0 Y44.5</i><br>\n",
       "<b>M4</b> <i>S0</i><br>\n",
       "<b>G1</b> <i>X151.0 Y44.5 F300</i><br>\n",
       "<b>M5</b> <i></i><br>\n",
       "<b>G0</b> <i>X151.0 Y44.5</i><br>\n",
       "<b>M4</b> <i>S128</i><br>\n",
       "<b>G1</b> <i>X155.0 Y44.5 F300</i><br>\n",
       "<b>M5</b> <i></i><br>\n",
       "<b>G0</b> <i>X155.0 Y44.5</i><br>\n",
       "<b>M4</b> <i>S0</i><br>\n",
       "<b>G1</b> <i>X156.0 Y44.5 F300</i><br>\n",
       "<b>M5</b> <i></i><br>\n",
       "<b>G0</b> <i>X156.0 Y44.5</i><br>\n",
       "<b>M4</b> <i>S128</i><br>\n",
       "<b>G1</b> <i>X160.0 Y44.5 F300</i><br>\n",
       "<b>M5</b> <i></i><br>\n",
       "<b>G0</b> <i>X160.0 Y44.5</i><br>\n",
       "<b>M4</b> <i>S0</i><br>\n",
       "<b>G1</b> <i>X161.0 Y44.5 F300</i><br>\n",
       "<b>M5</b> <i></i><br>\n",
       "<b>G0</b> <i>X161.0 Y44.5</i><br>\n",
       "<b>M4</b> <i>S128</i><br>\n",
       "<b>G1</b> <i>X165.0 Y44.5 F300</i><br>\n",
       "<b>M5</b> <i></i><br>\n",
       "<b>G0</b> <i>X165.0 Y44.5</i><br>\n",
       "<b>M4</b> <i>S0</i><br>\n",
       "<b>G1</b> <i>X166.0 Y44.5 F300</i><br>\n",
       "<b>M5</b> <i></i><br>\n",
       "<b>G0</b> <i>X166.0 Y44.5</i><br>\n",
       "<b>M4</b> <i>S128</i><br>\n",
       "<b>G1</b> <i>X170.0 Y44.5 F300</i><br>\n",
       "<b>M5</b> <i></i><br>\n",
       "<b>G0</b> <i>X170.0 Y44.5</i><br>\n",
       "<b>M4</b> <i>S0</i><br>\n",
       "<b>G1</b> <i>X171.0 Y44.5 F300</i><br>\n",
       "<b>M5</b> <i></i><br>\n",
       "<b>G0</b> <i>X171.0 Y44.5</i><br>\n",
       "<b>M4</b> <i>S128</i><br>\n",
       "<b>G1</b> <i>X175.0 Y44.5 F300</i><br>\n",
       "<b>M5</b> <i></i><br>\n",
       "<b>G0</b> <i>X175.0 Y44.5</i><br>\n",
       "<b>M4</b> <i>S0</i><br>\n",
       "<b>G1</b> <i>X176.0 Y44.5 F300</i><br>\n",
       "<b>M5</b> <i></i><br>\n",
       "<b>G0</b> <i>X176.0 Y44.5</i><br>\n",
       "<b>M4</b> <i>S128</i><br>\n",
       "<b>G1</b> <i>X180.0 Y44.5 F300</i><br>\n",
       "<b>M5</b> <i></i><br>\n",
       "<b>M5</b> <i></i><br>\n",
       "<b>G28</b> <i></i>"
      ],
      "text/plain": [
       "Program<lines=72, dist=365.42mm, t=128.71s>"
      ]
     },
     "execution_count": 34,
     "metadata": {},
     "output_type": "execute_result"
    }
   ],
   "source": [
    "dit = 1\n",
    "dash = 4\n",
    "\n",
    "\n",
    "prog = GCode.Program()\n",
    "prog.lines=list()\n",
    "for X in range(0, int(BlockLength), dit+dash):\n",
    "    line_pts = GCode.HorzLine(X0=X, Xf=X+dit, Y=Line1_Y)\n",
    "    line=GCode.Line(points=line_pts, power=0, feed=300)\n",
    "    \n",
    "    prog.lines.append(line)\n",
    "    \n",
    "    \n",
    "    line_pts = GCode.HorzLine(X0=X+dit, Xf=X+dit+dash, Y=Line1_Y)\n",
    "    line=GCode.Line(points=line_pts, power=128, feed=300)\n",
    "    \n",
    "    prog.lines.append(line)\n",
    "\n",
    "prog.generate_gcode()\n",
    "prog"
   ]
  },
  {
   "cell_type": "code",
   "execution_count": 35,
   "metadata": {},
   "outputs": [
    {
     "data": {
      "text/plain": [
       "'<Idle|MPos:-255.900,-136.000,-1.000|Bf:15,127|FS:0,0|Ov:100,100,100>'"
      ]
     },
     "execution_count": 35,
     "metadata": {},
     "output_type": "execute_result"
    }
   ],
   "source": [
    "cnc = GRBL.GRBL(port=\"/dev/cnc_3018\")\n",
    "cnc.status"
   ]
  },
  {
   "cell_type": "code",
   "execution_count": 10,
   "metadata": {},
   "outputs": [
    {
     "data": {
      "text/plain": [
       "14"
      ]
     },
     "execution_count": 10,
     "metadata": {},
     "output_type": "execute_result"
    }
   ],
   "source": [
    "cnc.home()"
   ]
  },
  {
   "cell_type": "code",
   "execution_count": 36,
   "metadata": {},
   "outputs": [
    {
     "data": {
      "text/plain": [
       "'<Idle|MPos:-255.900,-136.000,-1.000|Bf:15,127|FS:0,0>'"
      ]
     },
     "execution_count": 36,
     "metadata": {},
     "output_type": "execute_result"
    }
   ],
   "source": [
    "cnc.status"
   ]
  },
  {
   "cell_type": "code",
   "execution_count": 37,
   "metadata": {},
   "outputs": [],
   "source": [
    "prog.machine=cnc"
   ]
  },
  {
   "cell_type": "code",
   "execution_count": 38,
   "metadata": {},
   "outputs": [
    {
     "data": {
      "text/plain": [
       "365.41911983395886"
      ]
     },
     "execution_count": 38,
     "metadata": {},
     "output_type": "execute_result"
    }
   ],
   "source": [
    "prog.dist"
   ]
  },
  {
   "cell_type": "code",
   "execution_count": 39,
   "metadata": {},
   "outputs": [
    {
     "data": {
      "text/plain": [
       "128.70955991697943"
      ]
     },
     "execution_count": 39,
     "metadata": {},
     "output_type": "execute_result"
    }
   ],
   "source": [
    "prog.time"
   ]
  },
  {
   "cell_type": "code",
   "execution_count": 40,
   "metadata": {},
   "outputs": [
    {
     "data": {
      "text/plain": [
       "100.49170517921448"
      ]
     },
     "execution_count": 40,
     "metadata": {},
     "output_type": "execute_result"
    }
   ],
   "source": [
    "t1=time.time()\n",
    "prog.run()\n",
    "t2=time.time()\n",
    "t2-t1"
   ]
  },
  {
   "cell_type": "code",
   "execution_count": null,
   "metadata": {},
   "outputs": [],
   "source": []
  }
 ],
 "metadata": {
  "kernelspec": {
   "display_name": "Python 3",
   "language": "python",
   "name": "python3"
  },
  "language_info": {
   "codemirror_mode": {
    "name": "ipython",
    "version": 3
   },
   "file_extension": ".py",
   "mimetype": "text/x-python",
   "name": "python",
   "nbconvert_exporter": "python",
   "pygments_lexer": "ipython3",
   "version": "3.6.5"
  }
 },
 "nbformat": 4,
 "nbformat_minor": 2
}
