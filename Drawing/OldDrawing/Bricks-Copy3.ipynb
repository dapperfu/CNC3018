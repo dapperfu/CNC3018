{
 "cells": [
  {
   "cell_type": "code",
   "execution_count": null,
   "metadata": {},
   "outputs": [],
   "source": [
    "import os\n",
    "import sys\n",
    "from time import sleep\n",
    "\n",
    "import numpy as np\n",
    "\n",
    "import GCode\n",
    "import GRBL\n"
   ]
  },
  {
   "cell_type": "markdown",
   "metadata": {},
   "source": [
    "# Draw a Brick Pattern\n",
    "\n",
    "> Standard bricks. The standard co-ordinating size for brickwork is 225 mm x 112.5 mm x 75 mm (length x depth x height). This includes 10 mm mortar joints, and so the standard size for a brick itself is 215 mm x 102.5 mm x 65 mm (length x depth x height).\n",
    "\n",
    "Attempt at programmatically making a brick pattern. "
   ]
  },
  {
   "cell_type": "markdown",
   "metadata": {},
   "source": [
    "\"Napkin\" scratches.\n",
    "\n",
    "![](http://luckofthedraw.fun/.imgs/brick_0003.jpeg)\n",
    "\n",
    "Drawn by hand. ~18mm brick height.\n",
    "\n",
    "![](http://luckofthedraw.fun/.imgs/brick_0001.jpeg)\n",
    "\n"
   ]
  },
  {
   "cell_type": "code",
   "execution_count": 5,
   "metadata": {},
   "outputs": [],
   "source": [
    "BrickHeight = 65\n",
    "BrickLength = 225\n",
    "BrickDepth = 12.5\n",
    "BrickRatio = 215 / 65\n"
   ]
  },
  {
   "cell_type": "code",
   "execution_count": 6,
   "metadata": {},
   "outputs": [],
   "source": [
    "BlockHeight = 89.0\n",
    "BlockLength = 176.0\n"
   ]
  },
  {
   "cell_type": "code",
   "execution_count": 7,
   "metadata": {},
   "outputs": [],
   "source": [
    "N_BrickRows = 5\n",
    "H_Block_Brick = BlockHeight / N_BrickRows\n",
    "L_Block_Brick = np.round(H_Block_Brick * BrickRatio, 4)\n"
   ]
  },
  {
   "cell_type": "markdown",
   "metadata": {},
   "source": [
    "# Code:"
   ]
  },
  {
   "cell_type": "code",
   "execution_count": 1,
   "metadata": {},
   "outputs": [
    {
     "ename": "NameError",
     "evalue": "name 'np' is not defined",
     "output_type": "error",
     "traceback": [
      "\u001b[0;31m---------------------------------------------------------------------------\u001b[0m",
      "\u001b[0;31mNameError\u001b[0m                                 Traceback (most recent call last)",
      "\u001b[0;32m<ipython-input-1-4c589450a7d2>\u001b[0m in \u001b[0;36m<module>\u001b[0;34m()\u001b[0m\n\u001b[0;32m----> 1\u001b[0;31m \u001b[0mdefault_line\u001b[0m\u001b[0;34m=\u001b[0m\u001b[0mnp\u001b[0m\u001b[0;34m.\u001b[0m\u001b[0marray\u001b[0m\u001b[0;34m(\u001b[0m\u001b[0;34m[\u001b[0m\u001b[0;34m[\u001b[0m\u001b[0;36m0\u001b[0m\u001b[0;34m,\u001b[0m \u001b[0;36m0\u001b[0m\u001b[0;34m]\u001b[0m\u001b[0;34m,\u001b[0m \u001b[0;34m[\u001b[0m\u001b[0;36m10\u001b[0m\u001b[0;34m,\u001b[0m \u001b[0;36m5\u001b[0m\u001b[0;34m]\u001b[0m\u001b[0;34m]\u001b[0m\u001b[0;34m)\u001b[0m\u001b[0;34m\u001b[0m\u001b[0m\n\u001b[0m\u001b[1;32m      2\u001b[0m \u001b[0mdefault_feed\u001b[0m \u001b[0;34m=\u001b[0m \u001b[0;36m300\u001b[0m\u001b[0;34m\u001b[0m\u001b[0m\n\u001b[1;32m      3\u001b[0m \u001b[0mdefault_power\u001b[0m \u001b[0;34m=\u001b[0m \u001b[0;36m150\u001b[0m\u001b[0;34m\u001b[0m\u001b[0m\n\u001b[1;32m      4\u001b[0m \u001b[0;34m\u001b[0m\u001b[0m\n\u001b[1;32m      5\u001b[0m \u001b[0mprog\u001b[0m \u001b[0;34m=\u001b[0m \u001b[0mGCode\u001b[0m\u001b[0;34m.\u001b[0m\u001b[0mGCode\u001b[0m\u001b[0;34m(\u001b[0m\u001b[0;34m)\u001b[0m\u001b[0;34m\u001b[0m\u001b[0m\n",
      "\u001b[0;31mNameError\u001b[0m: name 'np' is not defined"
     ]
    }
   ],
   "source": [
    "default_line = np.array([[0, 0], [10, 5]])\n",
    "default_feed = 300\n",
    "default_power = 150\n",
    "\n",
    "prog = GCode.GCode()\n",
    "\n",
    "\n",
    "def line(\n",
    "    points=default_line,\n",
    "    feed=default_feed,\n",
    "    power=default_power,\n",
    "    dynamic_power=True,\n",
    "):\n",
    "    points = np.round(points, 4)\n",
    "\n",
    "    print(points)\n",
    "    print()\n",
    "\n",
    "    prog.G0(X=points[0, 0], Y=points[0, 1])\n",
    "\n",
    "    if dynamic_power:\n",
    "        prog.M4(S=power)\n",
    "    else:\n",
    "        prog.M4(S=power)\n",
    "\n",
    "    for row_idx in range(1, points.shape[0]):\n",
    "        prog.G1(X=points[row_idx, 0], Y=points[row_idx, 1], F=feed)\n",
    "    prog.M5()\n",
    "\n",
    "\n",
    "line()\n",
    "prog\n"
   ]
  },
  {
   "cell_type": "code",
   "execution_count": 38,
   "metadata": {},
   "outputs": [
    {
     "name": "stdout",
     "output_type": "stream",
     "text": [
      "[[  0.   17.8]\n",
      " [176.   17.8]]\n",
      "\n",
      "[[ 0.     29.4384]\n",
      " [17.8    29.4384]]\n",
      "\n",
      "[[ 0.     88.3154]\n",
      " [17.8    88.3154]]\n",
      "\n",
      "[[  0.     147.1922]\n",
      " [ 17.8    147.1922]]\n",
      "\n",
      "[[  0.   35.6]\n",
      " [176.   35.6]]\n",
      "\n",
      "[[17.8    58.8769]\n",
      " [35.6    58.8769]]\n",
      "\n",
      "[[ 17.8    117.7538]\n",
      " [ 35.6    117.7538]]\n",
      "\n",
      "[[  0.   53.4]\n",
      " [176.   53.4]]\n",
      "\n",
      "[[35.6    29.4384]\n",
      " [53.4    29.4384]]\n",
      "\n",
      "[[35.6    88.3154]\n",
      " [53.4    88.3154]]\n",
      "\n",
      "[[ 35.6    147.1922]\n",
      " [ 53.4    147.1922]]\n",
      "\n",
      "[[  0.   71.2]\n",
      " [176.   71.2]]\n",
      "\n",
      "[[53.4    58.8769]\n",
      " [71.2    58.8769]]\n",
      "\n",
      "[[ 53.4    117.7538]\n",
      " [ 71.2    117.7538]]\n",
      "\n"
     ]
    },
    {
     "data": {
      "text/html": [
       "<b>G0</b> <i>X0.0 Y17.8</i><br>\n",
       "<b>M4</b> <i>S150</i><br>\n",
       "<b>G1</b> <i>X176.0 Y17.8 F300</i><br>\n",
       "<b>M5</b> <i></i><br>\n",
       "<b>G0</b> <i>X0.0 Y29.4384</i><br>\n",
       "<b>M4</b> <i>S150</i><br>\n",
       "<b>G1</b> <i>X17.8 Y29.4384 F300</i><br>\n",
       "<b>M5</b> <i></i><br>\n",
       "<b>G0</b> <i>X0.0 Y88.3154</i><br>\n",
       "<b>M4</b> <i>S150</i><br>\n",
       "<b>G1</b> <i>X17.8 Y88.3154 F300</i><br>\n",
       "<b>M5</b> <i></i><br>\n",
       "<b>G0</b> <i>X0.0 Y147.1922</i><br>\n",
       "<b>M4</b> <i>S150</i><br>\n",
       "<b>G1</b> <i>X17.8 Y147.1922 F300</i><br>\n",
       "<b>M5</b> <i></i><br>\n",
       "<b>G0</b> <i>X0.0 Y35.6</i><br>\n",
       "<b>M4</b> <i>S150</i><br>\n",
       "<b>G1</b> <i>X176.0 Y35.6 F300</i><br>\n",
       "<b>M5</b> <i></i><br>\n",
       "<b>G0</b> <i>X17.8 Y58.8769</i><br>\n",
       "<b>M4</b> <i>S150</i><br>\n",
       "<b>G1</b> <i>X35.6 Y58.8769 F300</i><br>\n",
       "<b>M5</b> <i></i><br>\n",
       "<b>G0</b> <i>X17.8 Y117.7538</i><br>\n",
       "<b>M4</b> <i>S150</i><br>\n",
       "<b>G1</b> <i>X35.6 Y117.7538 F300</i><br>\n",
       "<b>M5</b> <i></i><br>\n",
       "<b>G0</b> <i>X0.0 Y53.4</i><br>\n",
       "<b>M4</b> <i>S150</i><br>\n",
       "<b>G1</b> <i>X176.0 Y53.4 F300</i><br>\n",
       "<b>M5</b> <i></i><br>\n",
       "<b>G0</b> <i>X35.6 Y29.4384</i><br>\n",
       "<b>M4</b> <i>S150</i><br>\n",
       "<b>G1</b> <i>X53.4 Y29.4384 F300</i><br>\n",
       "<b>M5</b> <i></i><br>\n",
       "<b>G0</b> <i>X35.6 Y88.3154</i><br>\n",
       "<b>M4</b> <i>S150</i><br>\n",
       "<b>G1</b> <i>X53.4 Y88.3154 F300</i><br>\n",
       "<b>M5</b> <i></i><br>\n",
       "<b>G0</b> <i>X35.6 Y147.1922</i><br>\n",
       "<b>M4</b> <i>S150</i><br>\n",
       "<b>G1</b> <i>X53.4 Y147.1922 F300</i><br>\n",
       "<b>M5</b> <i></i><br>\n",
       "<b>G0</b> <i>X0.0 Y71.2</i><br>\n",
       "<b>M4</b> <i>S150</i><br>\n",
       "<b>G1</b> <i>X176.0 Y71.2 F300</i><br>\n",
       "<b>M5</b> <i></i><br>\n",
       "<b>G0</b> <i>X53.4 Y58.8769</i><br>\n",
       "<b>M4</b> <i>S150</i><br>\n",
       "<b>G1</b> <i>X71.2 Y58.8769 F300</i><br>\n",
       "<b>M5</b> <i></i><br>\n",
       "<b>G0</b> <i>X53.4 Y117.7538</i><br>\n",
       "<b>M4</b> <i>S150</i><br>\n",
       "<b>G1</b> <i>X71.2 Y117.7538 F300</i><br>\n",
       "<b>M5</b> <i></i>"
      ],
      "text/plain": [
       "<GCode>[cmds=56]"
      ]
     },
     "execution_count": 38,
     "metadata": {},
     "output_type": "execute_result"
    }
   ],
   "source": [
    "flip = np.array([[1, 1], [1, 0]])\n",
    "transform_tuple = (\n",
    "    np.eye(2),  # Identity matrix, do nothing.\n",
    "    np.eye(2),  # Do nothing, for debugging.\n",
    "    flip,  # Flip the matrix, reduces travel time.\n",
    ")\n",
    "vertical_brick_lines_tuple = (\n",
    "    np.round(\n",
    "        np.arange(L_Block_Brick, BlockLength, L_Block_Brick), 4\n",
    "    ),  # Odd rows.\n",
    "    np.round(\n",
    "        np.arange(L_Block_Brick / 2, BlockLength, L_Block_Brick), 4\n",
    "    ),  # Even rows.\n",
    ")\n",
    "horizontal_brick_lines = np.round(\n",
    "    np.linspace(0, BlockHeight, N_BrickRows, endpoint=False), 4\n",
    ")\n",
    "\n",
    "prog = GCode.GCode()\n",
    "for idx in range(1, len(horizontal_brick_lines)):\n",
    "    # Top horizontal line that defines each 'brick'\n",
    "    horizontal_brick_line = horizontal_brick_lines[idx]\n",
    "    row_line_points = np.round(\n",
    "        np.array(\n",
    "            [[0, horizontal_brick_line], [BlockLength, horizontal_brick_line]]\n",
    "        ),\n",
    "        4,\n",
    "    )\n",
    "\n",
    "    # Transform to perform on the row points.\n",
    "    transform = transform_tuple[np.mod(idx, 2)]\n",
    "    row_line_points = np.round(np.matmul(transform, row_line_points), 4)\n",
    "    line(row_line_points)\n",
    "\n",
    "    # Vertical brick line.\n",
    "    vertical_brick_lines = vertical_brick_lines_tuple[np.mod(idx, 2)]\n",
    "    start_point_y = horizontal_brick_lines[idx - 1]\n",
    "    end_point_y = horizontal_brick_lines[idx]\n",
    "    for idx2, vertical_brick_line in enumerate(vertical_brick_lines):\n",
    "        transform = np.round(transform_tuple[np.mod(idx2, 2)], 4)\n",
    "\n",
    "        column_line_points = np.round(\n",
    "            np.array(\n",
    "                [\n",
    "                    [start_point_y, vertical_brick_line],\n",
    "                    [end_point_y, vertical_brick_line],\n",
    "                ]\n",
    "            ),\n",
    "            4,\n",
    "        )\n",
    "        column_line_points = np.matmul(transform, column_line_points)\n",
    "        line(column_line_points)\n",
    "prog\n"
   ]
  },
  {
   "cell_type": "code",
   "execution_count": 39,
   "metadata": {
    "scrolled": true
   },
   "outputs": [],
   "source": [
    "cnc = GRBL.GRBL(port=\"/dev/cnc_3018\")\n",
    "cnc.reset()\n"
   ]
  },
  {
   "cell_type": "code",
   "execution_count": 40,
   "metadata": {},
   "outputs": [],
   "source": [
    "home_timeout = 360\n",
    "\n",
    "cnc.home()\n",
    "for _ in range(home_timeout):\n",
    "    if len(cnc.cmd(\"\")) == 2:\n",
    "        break\n",
    "    sleep(1)\n"
   ]
  },
  {
   "cell_type": "code",
   "execution_count": 41,
   "metadata": {},
   "outputs": [],
   "source": [
    "def init():\n",
    "    program = GCode.GCode()\n",
    "    program.G0(F=500)\n",
    "    program.G1(F=200)\n",
    "    program.M3(S=1)\n",
    "    program.G28()\n",
    "    program.G21()  # Metric Units\n",
    "    program.G90()  # Absolute positioning.\n",
    "    program.G92(X=0, Y=0, Z=0)\n",
    "    return program\n"
   ]
  },
  {
   "cell_type": "code",
   "execution_count": 42,
   "metadata": {},
   "outputs": [
    {
     "data": {
      "text/plain": [
       "0.7268331050872803"
      ]
     },
     "execution_count": 42,
     "metadata": {},
     "output_type": "execute_result"
    }
   ],
   "source": [
    "cnc.run(init())\n"
   ]
  },
  {
   "cell_type": "code",
   "execution_count": 43,
   "metadata": {},
   "outputs": [
    {
     "name": "stdout",
     "output_type": "stream",
     "text": [
      "^C\n"
     ]
    },
    {
     "data": {
      "text/plain": [
       "11958.478502988815"
      ]
     },
     "execution_count": 43,
     "metadata": {},
     "output_type": "execute_result"
    }
   ],
   "source": [
    "cnc.run(prog)\n"
   ]
  }
 ],
 "metadata": {
  "kernelspec": {
   "display_name": "Python 3",
   "language": "python",
   "name": "python3"
  },
  "language_info": {
   "codemirror_mode": {
    "name": "ipython",
    "version": 3
   },
   "file_extension": ".py",
   "mimetype": "text/x-python",
   "name": "python",
   "nbconvert_exporter": "python",
   "pygments_lexer": "ipython3",
   "version": "3.6.5"
  }
 },
 "nbformat": 4,
 "nbformat_minor": 2
}
