{
 "cells": [
  {
   "cell_type": "code",
   "execution_count": null,
   "metadata": {},
   "outputs": [],
   "source": [
    "import os\n",
    "import sys\n",
    "import threading\n",
    "import time\n",
    "\n",
    "import GCode\n",
    "import GCode.Line\n",
    "import GRBL\n",
    "import matplotlib.pyplot as plt\n",
    "import numpy as np"
   ]
  },
  {
   "cell_type": "markdown",
   "metadata": {},
   "source": [
    "# Code:"
   ]
  },
  {
   "cell_type": "markdown",
   "metadata": {},
   "source": [
    "Draw a 10 mm line from (0, 0) to (10, 0)."
   ]
  },
  {
   "cell_type": "code",
   "execution_count": 63,
   "metadata": {},
   "outputs": [
    {
     "data": {
      "text/plain": [
       "[Program<lines=2, dist=40.00mm, t=14.00s>,\n",
       " Program<lines=3, dist=60.00mm, t=21.00s>,\n",
       " Program<lines=4, dist=80.00mm, t=28.00s>,\n",
       " Program<lines=5, dist=100.00mm, t=35.00s>,\n",
       " Program<lines=6, dist=120.00mm, t=42.00s>,\n",
       " Program<lines=7, dist=140.00mm, t=49.00s>,\n",
       " Program<lines=8, dist=160.00mm, t=56.00s>,\n",
       " Program<lines=9, dist=180.00mm, t=63.00s>,\n",
       " Program<lines=10, dist=200.00mm, t=70.00s>]"
      ]
     },
     "execution_count": 63,
     "metadata": {},
     "output_type": "execute_result"
    }
   ],
   "source": [
    "progs = list()\n",
    "\n",
    "for n_lines in range(2, 11):\n",
    "\n",
    "    line_cfg = {\"X0\": 0, \"Xf\": 10, \"Y\": 0, \"n_points\": 2}\n",
    "    points = GCode.HorzLine(**line_cfg)\n",
    "\n",
    "    line_cfg = {\n",
    "        \"points\": points,\n",
    "        \"feed\": 120,\n",
    "        \"power\": 128,\n",
    "        \"dynamic_power\": True,\n",
    "    }\n",
    "    line = GCode.Line(**line_cfg)\n",
    "\n",
    "    prog_cfg = {\"lines\": [line] * n_lines, \"feed\": 120}\n",
    "    prog = GCode.Program(**prog_cfg)\n",
    "    progs.append(prog)\n",
    "progs\n"
   ]
  },
  {
   "cell_type": "code",
   "execution_count": 64,
   "metadata": {},
   "outputs": [],
   "source": [
    "def concurrent_map(func, data):    \"\"\"    Similar to the bultin function map(). But spawn a thread for each argument    and apply `func` concurrently.    Note: unlike map(), we cannot take an iterable argument. `data` should be an    indexable sequence.    \"\"\"    N = len(data)    result = [None] * N    # wrapper to dispose the result in the right slot    def task_wrapper(i):        result[i] = func(data[i])    threads = [        threading.Thread(target=task_wrapper, args=(i,)) for i in range(N)    ]    for t in threads:        t.start()    for t in threads:        t.join()    return result"
   ]
  },
  {
   "cell_type": "code",
   "execution_count": 67,
   "metadata": {
    "scrolled": true
   },
   "outputs": [],
   "source": [
    "line_config = {\"X0\": 0, \"Xf\": 10, \"Y\": 0}\n",
    "pointss = concurrent_map(\n",
    "    lambda n: GCode.HorzLine(n_points=n, **line_config), range(2, 11)\n",
    ")\n"
   ]
  },
  {
   "cell_type": "code",
   "execution_count": 70,
   "metadata": {},
   "outputs": [
    {
     "data": {
      "text/plain": [
       "[Line<len=10.0mm, feed=120, power=128>,\n",
       " Line<len=10.0mm, feed=120, power=128>,\n",
       " Line<len=10.0mm, feed=120, power=128>,\n",
       " Line<len=10.0mm, feed=120, power=128>,\n",
       " Line<len=10.0mm, feed=120, power=128>,\n",
       " Line<len=10.0mm, feed=120, power=128>,\n",
       " Line<len=10.0mm, feed=120, power=128>,\n",
       " Line<len=10.0mm, feed=120, power=128>,\n",
       " Line<len=10.0mm, feed=120, power=128>]"
      ]
     },
     "execution_count": 70,
     "metadata": {},
     "output_type": "execute_result"
    }
   ],
   "source": [
    "line_cfg = {\"feed\": 120, \"power\": 128, \"dynamic_power\": True}\n",
    "liness = concurrent_map(\n",
    "    lambda points: GCode.Line(points=points, **line_cfg), pointss\n",
    ")\n",
    "liness\n"
   ]
  },
  {
   "cell_type": "code",
   "execution_count": 58,
   "metadata": {},
   "outputs": [
    {
     "data": {
      "text/plain": [
       "[None, None, None, None, None, None, None, None, None]"
      ]
     },
     "execution_count": 58,
     "metadata": {},
     "output_type": "execute_result"
    }
   ],
   "source": [
    "concurrent_map(lambdap prog: prog.generate_gcode(), progs)"
   ]
  },
  {
   "cell_type": "code",
   "execution_count": 59,
   "metadata": {},
   "outputs": [
    {
     "data": {
      "text/plain": [
       "[17, 21, 25, 29, 33, 37, 41, 45, 49]"
      ]
     },
     "execution_count": 59,
     "metadata": {},
     "output_type": "execute_result"
    }
   ],
   "source": [
    "concurrent_map(lambda prog: len(prog.buffer), progs)\n"
   ]
  },
  {
   "cell_type": "code",
   "execution_count": 60,
   "metadata": {},
   "outputs": [
    {
     "data": {
      "text/plain": [
       "['Program<lines=2, dist=40.00mm, t=14.00s>',\n",
       " 'Program<lines=3, dist=60.00mm, t=21.00s>',\n",
       " 'Program<lines=4, dist=80.00mm, t=28.00s>',\n",
       " 'Program<lines=5, dist=100.00mm, t=35.00s>',\n",
       " 'Program<lines=6, dist=120.00mm, t=42.00s>',\n",
       " 'Program<lines=7, dist=140.00mm, t=49.00s>',\n",
       " 'Program<lines=8, dist=160.00mm, t=56.00s>',\n",
       " 'Program<lines=9, dist=180.00mm, t=63.00s>',\n",
       " 'Program<lines=10, dist=190.00mm, t=65.00s>']"
      ]
     },
     "execution_count": 60,
     "metadata": {},
     "output_type": "execute_result"
    }
   ],
   "source": [
    "concurrent_map(lambda prog: prog.__repr__(), progs)\n"
   ]
  },
  {
   "cell_type": "code",
   "execution_count": 61,
   "metadata": {},
   "outputs": [
    {
     "data": {
      "text/plain": [
       "[20.0, 30.0, 40.0, 50.0, 60.0, 70.0, 80.0, 90.0, 90.0]"
      ]
     },
     "execution_count": 61,
     "metadata": {},
     "output_type": "execute_result"
    }
   ],
   "source": [
    "concurrent_map(lambda prog: prog.jog_dist, progs)\n"
   ]
  },
  {
   "cell_type": "code",
   "execution_count": 49,
   "metadata": {
    "scrolled": true
   },
   "outputs": [
    {
     "data": {
      "text/plain": [
       "[20.0, 30.0, 40.0, 50.0, 60.0, 70.0, 80.0, 90.0, 100.0]"
      ]
     },
     "execution_count": 49,
     "metadata": {},
     "output_type": "execute_result"
    }
   ],
   "source": [
    "concurrent_map(lambda prog: prog.laserin_dist, progs)\n"
   ]
  },
  {
   "cell_type": "code",
   "execution_count": 50,
   "metadata": {},
   "outputs": [],
   "source": [
    "for prog in progs:\n",
    "    for line in prog.lines:\n",
    "        break\n"
   ]
  },
  {
   "cell_type": "code",
   "execution_count": 51,
   "metadata": {},
   "outputs": [
    {
     "data": {
      "text/plain": [
       "[10.0, 10.0, 10.0, 10.0, 10.0, 10.0, 10.0, 10.0, 10.0, 10.0]"
      ]
     },
     "execution_count": 51,
     "metadata": {},
     "output_type": "execute_result"
    }
   ],
   "source": [
    "list(map(lambda line: line.x_0, prog.lines))\n"
   ]
  },
  {
   "cell_type": "code",
   "execution_count": 52,
   "metadata": {},
   "outputs": [
    {
     "data": {
      "text/plain": [
       "[0.0, 0.0, 0.0, 0.0, 0.0, 0.0, 0.0, 0.0, 0.0, 0.0]"
      ]
     },
     "execution_count": 52,
     "metadata": {},
     "output_type": "execute_result"
    }
   ],
   "source": [
    "list(map(lambda line: line.x_f, prog.lines))\n"
   ]
  },
  {
   "cell_type": "code",
   "execution_count": 53,
   "metadata": {},
   "outputs": [
    {
     "data": {
      "text/plain": [
       "90.0"
      ]
     },
     "execution_count": 53,
     "metadata": {},
     "output_type": "execute_result"
    }
   ],
   "source": [
    "prog.jog_dist\n"
   ]
  },
  {
   "cell_type": "code",
   "execution_count": 54,
   "metadata": {},
   "outputs": [
    {
     "name": "stdout",
     "output_type": "stream",
     "text": [
      "1\n",
      "3\n",
      "5\n",
      "7\n",
      "9\n"
     ]
    },
    {
     "data": {
      "text/plain": [
       "90.0"
      ]
     },
     "execution_count": 54,
     "metadata": {},
     "output_type": "execute_result"
    }
   ],
   "source": [
    "for idx in range(len(prog.lines)):\n",
    "    if np.mod(idx, 2) == 1:\n",
    "        print(idx)\n",
    "# s        prog.lines[idx].reverse()\n",
    "prog.jog_dist\n"
   ]
  }
 ],
 "metadata": {
  "kernelspec": {
   "display_name": "Python 3",
   "language": "python",
   "name": "python3"
  },
  "language_info": {
   "codemirror_mode": {
    "name": "ipython",
    "version": 3
   },
   "file_extension": ".py",
   "mimetype": "text/x-python",
   "name": "python",
   "nbconvert_exporter": "python",
   "pygments_lexer": "ipython3",
   "version": "3.6.5"
  }
 },
 "nbformat": 4,
 "nbformat_minor": 2
}
