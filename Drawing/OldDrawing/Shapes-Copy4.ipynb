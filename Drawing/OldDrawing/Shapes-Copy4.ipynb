{
 "cells": [
  {
   "cell_type": "code",
   "execution_count": null,
   "metadata": {},
   "outputs": [],
   "source": [
    "import os\n",
    "import sys\n",
    "import time\n",
    "\n",
    "import GCode\n",
    "import GRBL\n",
    "import matplotlib.pyplot as plt\n",
    "import numpy as np"
   ]
  },
  {
   "cell_type": "markdown",
   "metadata": {},
   "source": [
    "# Draw a Shapes\n",
    "\n",
    "Attempt at programmatically drawing shapes.\n",
    "\n",
    "All units in mm. ```1``` = ```1 mm```."
   ]
  },
  {
   "cell_type": "code",
   "execution_count": 34,
   "metadata": {},
   "outputs": [],
   "source": [
    "s = GCode.Shapes.Square()\n"
   ]
  },
  {
   "cell_type": "code",
   "execution_count": 35,
   "metadata": {},
   "outputs": [
    {
     "data": {
      "text/html": [
       "<b>G0</b> <i>X0 Y0</i><br>\n",
       "<b>M4</b> <i>S150</i><br>\n",
       "<b>G1</b> <i>X10 Y0 F300</i><br>\n",
       "<b>G1</b> <i>X10 Y10 F300</i><br>\n",
       "<b>G1</b> <i>X0 Y10 F300</i><br>\n",
       "<b>G1</b> <i>X0 Y0 F300</i><br>\n",
       "<b>M5</b> <i></i>"
      ],
      "text/plain": [
       "Square<O=[0 0], L=10>"
      ]
     },
     "execution_count": 35,
     "metadata": {},
     "output_type": "execute_result"
    }
   ],
   "source": [
    "s\n"
   ]
  },
  {
   "cell_type": "code",
   "execution_count": 36,
   "metadata": {
    "scrolled": true
   },
   "outputs": [],
   "source": [
    "lines = list()\n"
   ]
  },
  {
   "cell_type": "code",
   "execution_count": 5,
   "metadata": {},
   "outputs": [],
   "source": [
    "_ = GCode.Shapes.Square(len_side=2.5, origin=[0, 0])\n",
    "lines.append(_)\n"
   ]
  },
  {
   "cell_type": "code",
   "execution_count": 6,
   "metadata": {},
   "outputs": [],
   "source": [
    "_ = GCode.Shapes.Square(len_side=5, origin=[2.5, 2.5])\n",
    "lines.append(_)\n"
   ]
  },
  {
   "cell_type": "code",
   "execution_count": 7,
   "metadata": {},
   "outputs": [],
   "source": [
    "def origin_calc(lines):\n",
    "    if len(lines) == 0:\n",
    "        o = 0\n",
    "    else:\n",
    "        o = np.sum(list(map(lambda s: s.len_side, lines)))\n",
    "    return np.array([[o], [o]])\n"
   ]
  },
  {
   "cell_type": "code",
   "execution_count": 8,
   "metadata": {},
   "outputs": [
    {
     "data": {
      "text/plain": [
       "[Square<O=[0, 0], L=2.5>, Square<O=[2.5, 2.5], L=5>, Square<O=[[7.5]\n",
       "  [7.5]], L=10>]"
      ]
     },
     "execution_count": 8,
     "metadata": {},
     "output_type": "execute_result"
    }
   ],
   "source": [
    "_ = GCode.Shapes.Square(len_side=10, origin=origin_calc(lines))\n",
    "lines.append(_)\n",
    "\n",
    "lines\n"
   ]
  },
  {
   "cell_type": "code",
   "execution_count": 9,
   "metadata": {},
   "outputs": [
    {
     "data": {
      "text/plain": [
       "array([[0],\n",
       "       [0]])"
      ]
     },
     "execution_count": 9,
     "metadata": {},
     "output_type": "execute_result"
    }
   ],
   "source": [
    "origin_calc(list())\n"
   ]
  },
  {
   "cell_type": "code",
   "execution_count": 10,
   "metadata": {},
   "outputs": [
    {
     "data": {
      "text/plain": [
       "42.9"
      ]
     },
     "execution_count": 10,
     "metadata": {},
     "output_type": "execute_result"
    }
   ],
   "source": [
    "np.sum([2.5, 5, 10, 25.4])\n"
   ]
  },
  {
   "cell_type": "code",
   "execution_count": 22,
   "metadata": {},
   "outputs": [
    {
     "data": {
      "text/plain": [
       "50.25"
      ]
     },
     "execution_count": 22,
     "metadata": {},
     "output_type": "execute_result"
    }
   ],
   "source": [
    "sides = [2.5, 5, 10, 25.4, 25.4 / 4, 1]\n",
    "np.sum(sides)\n"
   ]
  },
  {
   "cell_type": "code",
   "execution_count": 23,
   "metadata": {},
   "outputs": [],
   "source": [
    "lines = list()\n",
    "\n",
    "for side in sides:\n",
    "    _ = GCode.Shapes.Square(len_side=side, origin=origin_calc(lines))\n",
    "    lines.append(_)\n"
   ]
  },
  {
   "cell_type": "code",
   "execution_count": 25,
   "metadata": {},
   "outputs": [],
   "source": [
    "prog = GCode.Program(lines=lines)\n"
   ]
  },
  {
   "cell_type": "code",
   "execution_count": 29,
   "metadata": {},
   "outputs": [
    {
     "data": {
      "text/plain": [
       "[Square<O=[[0]\n",
       "  [0]], L=2.5>, Square<O=[[2.5]\n",
       "  [2.5]], L=5>, Square<O=[[7.5]\n",
       "  [7.5]], L=10>, Square<O=[[17.5]\n",
       "  [17.5]], L=25.4>, Square<O=[[42.9]\n",
       "  [42.9]], L=6.35>, Square<O=[[49.25]\n",
       "  [49.25]], L=1>]"
      ]
     },
     "execution_count": 29,
     "metadata": {},
     "output_type": "execute_result"
    }
   ],
   "source": [
    "prog.lines\n"
   ]
  },
  {
   "cell_type": "code",
   "execution_count": 31,
   "metadata": {},
   "outputs": [],
   "source": [
    "prog.generate_gcode()\n"
   ]
  },
  {
   "cell_type": "code",
   "execution_count": 32,
   "metadata": {},
   "outputs": [
    {
     "data": {
      "text/plain": [
       "['G0',\n",
       " 'G1 F60',\n",
       " 'M3 S1',\n",
       " 'G21',\n",
       " 'G90',\n",
       " 'G0 X[0.] Y[0.]',\n",
       " 'M4 S150',\n",
       " 'G1 X[2.5] Y[0.] F300',\n",
       " 'G1 X[2.5] Y[2.5] F300',\n",
       " 'G1 X[0.] Y[2.5] F300',\n",
       " 'G1 X[0.] Y[0.] F300',\n",
       " 'M5',\n",
       " 'G0 X[0.] Y[0.]',\n",
       " 'M4 S150',\n",
       " 'G1 X[2.5] Y[0.] F300',\n",
       " 'G1 X[2.5] Y[2.5] F300',\n",
       " 'G1 X[0.] Y[2.5] F300',\n",
       " 'G1 X[0.] Y[0.] F300',\n",
       " 'M5',\n",
       " 'G0 X[2.5] Y[2.5]',\n",
       " 'M4 S150',\n",
       " 'G1 X[7.5] Y[2.5] F300',\n",
       " 'G1 X[7.5] Y[7.5] F300',\n",
       " 'G1 X[2.5] Y[7.5] F300',\n",
       " 'G1 X[2.5] Y[2.5] F300',\n",
       " 'M5',\n",
       " 'G0 X[2.5] Y[2.5]',\n",
       " 'M4 S150',\n",
       " 'G1 X[7.5] Y[2.5] F300',\n",
       " 'G1 X[7.5] Y[7.5] F300',\n",
       " 'G1 X[2.5] Y[7.5] F300',\n",
       " 'G1 X[2.5] Y[2.5] F300',\n",
       " 'M5',\n",
       " 'G0 X[7.5] Y[7.5]',\n",
       " 'M4 S150',\n",
       " 'G1 X[17.5] Y[7.5] F300',\n",
       " 'G1 X[17.5] Y[17.5] F300',\n",
       " 'G1 X[7.5] Y[17.5] F300',\n",
       " 'G1 X[7.5] Y[7.5] F300',\n",
       " 'M5',\n",
       " 'G0 X[7.5] Y[7.5]',\n",
       " 'M4 S150',\n",
       " 'G1 X[17.5] Y[7.5] F300',\n",
       " 'G1 X[17.5] Y[17.5] F300',\n",
       " 'G1 X[7.5] Y[17.5] F300',\n",
       " 'G1 X[7.5] Y[7.5] F300',\n",
       " 'M5',\n",
       " 'G0 X[17.5] Y[17.5]',\n",
       " 'M4 S150',\n",
       " 'G1 X[42.9] Y[17.5] F300',\n",
       " 'G1 X[42.9] Y[42.9] F300',\n",
       " 'G1 X[17.5] Y[42.9] F300',\n",
       " 'G1 X[17.5] Y[17.5] F300',\n",
       " 'M5',\n",
       " 'G0 X[17.5] Y[17.5]',\n",
       " 'M4 S150',\n",
       " 'G1 X[42.9] Y[17.5] F300',\n",
       " 'G1 X[42.9] Y[42.9] F300',\n",
       " 'G1 X[17.5] Y[42.9] F300',\n",
       " 'G1 X[17.5] Y[17.5] F300',\n",
       " 'M5',\n",
       " 'G0 X[42.9] Y[42.9]',\n",
       " 'M4 S150',\n",
       " 'G1 X[49.25] Y[42.9] F300',\n",
       " 'G1 X[49.25] Y[49.25] F300',\n",
       " 'G1 X[42.9] Y[49.25] F300',\n",
       " 'G1 X[42.9] Y[42.9] F300',\n",
       " 'M5',\n",
       " 'G0 X[42.9] Y[42.9]',\n",
       " 'M4 S150',\n",
       " 'G1 X[49.25] Y[42.9] F300',\n",
       " 'G1 X[49.25] Y[49.25] F300',\n",
       " 'G1 X[42.9] Y[49.25] F300',\n",
       " 'G1 X[42.9] Y[42.9] F300',\n",
       " 'M5',\n",
       " 'G0 X[49.25] Y[49.25]',\n",
       " 'M4 S150',\n",
       " 'G1 X[50.25] Y[49.25] F300',\n",
       " 'G1 X[50.25] Y[50.25] F300',\n",
       " 'G1 X[49.25] Y[50.25] F300',\n",
       " 'G1 X[49.25] Y[49.25] F300',\n",
       " 'M5',\n",
       " 'G0 X[49.25] Y[49.25]',\n",
       " 'M4 S150',\n",
       " 'G1 X[50.25] Y[49.25] F300',\n",
       " 'G1 X[50.25] Y[50.25] F300',\n",
       " 'G1 X[49.25] Y[50.25] F300',\n",
       " 'G1 X[49.25] Y[49.25] F300',\n",
       " 'M5',\n",
       " 'M5',\n",
       " 'G28']"
      ]
     },
     "execution_count": 32,
     "metadata": {},
     "output_type": "execute_result"
    }
   ],
   "source": [
    "prog.buffer\n"
   ]
  }
 ],
 "metadata": {
  "kernelspec": {
   "display_name": "Python 3",
   "language": "python",
   "name": "python3"
  },
  "language_info": {
   "codemirror_mode": {
    "name": "ipython",
    "version": 3
   },
   "file_extension": ".py",
   "mimetype": "text/x-python",
   "name": "python",
   "nbconvert_exporter": "python",
   "pygments_lexer": "ipython3",
   "version": "3.6.5"
  }
 },
 "nbformat": 4,
 "nbformat_minor": 2
}
