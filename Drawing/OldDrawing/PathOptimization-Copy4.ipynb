{
 "cells": [
  {
   "cell_type": "code",
   "execution_count": null,
   "metadata": {},
   "outputs": [],
   "source": [
    "import os\n",
    "import sys\n",
    "import threading\n",
    "import time\n",
    "\n",
    "import GCode\n",
    "import GCode.Line\n",
    "import GRBL\n",
    "import matplotlib.pyplot as plt\n",
    "import numpy as np"
   ]
  },
  {
   "cell_type": "markdown",
   "metadata": {},
   "source": [
    "# Code:"
   ]
  },
  {
   "cell_type": "markdown",
   "metadata": {},
   "source": [
    "Draw a 10 mm line from (0, 0) to (10, 0)."
   ]
  },
  {
   "cell_type": "code",
   "execution_count": 3,
   "metadata": {},
   "outputs": [
    {
     "data": {
      "text/plain": [
       "[Program<lines=2, dist=40.00mm, t=14.00s>,\n",
       " Program<lines=2, dist=40.00mm, t=14.00s>,\n",
       " Program<lines=2, dist=40.00mm, t=14.00s>,\n",
       " Program<lines=2, dist=40.00mm, t=14.00s>,\n",
       " Program<lines=2, dist=40.00mm, t=14.00s>,\n",
       " Program<lines=2, dist=40.00mm, t=14.00s>,\n",
       " Program<lines=2, dist=40.00mm, t=14.00s>,\n",
       " Program<lines=2, dist=40.00mm, t=14.00s>]"
      ]
     },
     "execution_count": 3,
     "metadata": {},
     "output_type": "execute_result"
    }
   ],
   "source": [
    "progs = list()\n",
    "\n",
    "for n_points in range(2, 10):\n",
    "\n",
    "    line_cfg = {\"X0\": 0, \"Xf\": 10, \"Y\": 0, \"n_points\": n_points}\n",
    "    points = GCode.HorzLine(**line_cfg)\n",
    "\n",
    "    line_cfg = {\n",
    "        \"points\": points,\n",
    "        \"feed\": 120,\n",
    "        \"power\": 128,\n",
    "        \"dynamic_power\": True,\n",
    "    }\n",
    "    line = GCode.Line(points=points)\n",
    "\n",
    "    prog_cfg = {\"lines\": [line, line], \"feed\": 120}\n",
    "    prog = GCode.Program(**prog_cfg)\n",
    "    progs.append(prog)\n",
    "progs\n"
   ]
  },
  {
   "cell_type": "code",
   "execution_count": 5,
   "metadata": {},
   "outputs": [],
   "source": [
    "def concurrent_map(func, data):    \"\"\"    Similar to the bultin function map(). But spawn a thread for each argument    and apply `func` concurrently.    Note: unlike map(), we cannot take an iterable argument. `data` should be an    indexable sequence.    \"\"\"    N = len(data)    result = [None] * N    # wrapper to dispose the result in the right slot    def task_wrapper(i):        result[i] = func(data[i])    threads = [        threading.Thread(target=task_wrapper, args=(i,)) for i in range(N)    ]    for t in threads:        t.start()    for t in threads:        t.join()    return result"
   ]
  },
  {
   "cell_type": "code",
   "execution_count": 6,
   "metadata": {},
   "outputs": [
    {
     "data": {
      "text/plain": [
       "[None, None, None, None, None, None, None, None]"
      ]
     },
     "execution_count": 6,
     "metadata": {},
     "output_type": "execute_result"
    }
   ],
   "source": [
    "concurrent_map(lambda prog: prog.generate_gcode(), progs)\n"
   ]
  },
  {
   "cell_type": "code",
   "execution_count": 7,
   "metadata": {},
   "outputs": [
    {
     "data": {
      "text/plain": [
       "[17, 19, 21, 23, 25, 27, 29, 31]"
      ]
     },
     "execution_count": 7,
     "metadata": {},
     "output_type": "execute_result"
    }
   ],
   "source": [
    "concurrent_map(lambda prog: len(prog.buffer), progs)\n"
   ]
  },
  {
   "cell_type": "code",
   "execution_count": 8,
   "metadata": {},
   "outputs": [
    {
     "data": {
      "text/plain": [
       "['Program<lines=2, dist=40.00mm, t=14.00s>',\n",
       " 'Program<lines=2, dist=40.00mm, t=14.00s>',\n",
       " 'Program<lines=2, dist=40.00mm, t=14.00s>',\n",
       " 'Program<lines=2, dist=40.00mm, t=14.00s>',\n",
       " 'Program<lines=2, dist=40.00mm, t=14.00s>',\n",
       " 'Program<lines=2, dist=40.00mm, t=14.00s>',\n",
       " 'Program<lines=2, dist=40.00mm, t=14.00s>',\n",
       " 'Program<lines=2, dist=40.00mm, t=14.00s>']"
      ]
     },
     "execution_count": 8,
     "metadata": {},
     "output_type": "execute_result"
    }
   ],
   "source": [
    "concurrent_map(lambda prog: prog.__repr__(), progs)\n"
   ]
  },
  {
   "cell_type": "code",
   "execution_count": 9,
   "metadata": {},
   "outputs": [
    {
     "data": {
      "text/plain": [
       "[40.0, 40.0, 40.0, 40.0, 40.0, 40.0, 40.0, 40.0]"
      ]
     },
     "execution_count": 9,
     "metadata": {},
     "output_type": "execute_result"
    }
   ],
   "source": [
    "concurrent_map(lambda prog: prog.dist, progs)\n"
   ]
  },
  {
   "cell_type": "code",
   "execution_count": 10,
   "metadata": {},
   "outputs": [
    {
     "data": {
      "text/plain": [
       "[20.0, 20.0, 20.0, 20.0, 20.0, 20.0, 20.0, 20.0]"
      ]
     },
     "execution_count": 10,
     "metadata": {},
     "output_type": "execute_result"
    }
   ],
   "source": [
    "concurrent_map(lambda prog: prog.jog_dist, progs)\n"
   ]
  },
  {
   "cell_type": "code",
   "execution_count": 11,
   "metadata": {},
   "outputs": [
    {
     "data": {
      "text/plain": [
       "[20.0, 20.0, 20.0, 20.0, 20.0, 20.0, 20.0, 20.0]"
      ]
     },
     "execution_count": 11,
     "metadata": {},
     "output_type": "execute_result"
    }
   ],
   "source": [
    "concurrent_map(lambda prog: prog.laserin_dist, progs)\n"
   ]
  },
  {
   "cell_type": "code",
   "execution_count": 12,
   "metadata": {},
   "outputs": [],
   "source": [
    "for prog in progs:\n",
    "    for line in prog.lines:\n",
    "        break\n",
    "    break\n"
   ]
  },
  {
   "cell_type": "code",
   "execution_count": 13,
   "metadata": {},
   "outputs": [
    {
     "data": {
      "text/plain": [
       "[0.0, 0.0]"
      ]
     },
     "execution_count": 13,
     "metadata": {},
     "output_type": "execute_result"
    }
   ],
   "source": [
    "list(map(lambda line: line.x_0, prog.lines))\n"
   ]
  },
  {
   "cell_type": "code",
   "execution_count": 14,
   "metadata": {},
   "outputs": [
    {
     "data": {
      "text/plain": [
       "[10.0, 10.0]"
      ]
     },
     "execution_count": 14,
     "metadata": {},
     "output_type": "execute_result"
    }
   ],
   "source": [
    "list(map(lambda line: line.x_f, prog.lines))\n"
   ]
  },
  {
   "cell_type": "code",
   "execution_count": 20,
   "metadata": {},
   "outputs": [
    {
     "data": {
      "text/plain": [
       "20.0"
      ]
     },
     "execution_count": 20,
     "metadata": {},
     "output_type": "execute_result"
    }
   ],
   "source": [
    "prog.jog_dist\n"
   ]
  },
  {
   "cell_type": "code",
   "execution_count": 21,
   "metadata": {},
   "outputs": [
    {
     "data": {
      "text/plain": [
       "10.0"
      ]
     },
     "execution_count": 21,
     "metadata": {},
     "output_type": "execute_result"
    }
   ],
   "source": [
    "prog.jog_time\n"
   ]
  },
  {
   "cell_type": "code",
   "execution_count": 22,
   "metadata": {},
   "outputs": [],
   "source": [
    "prog.lines[1].reverse()\n"
   ]
  },
  {
   "cell_type": "code",
   "execution_count": 23,
   "metadata": {},
   "outputs": [
    {
     "data": {
      "text/plain": [
       "10.0"
      ]
     },
     "execution_count": 23,
     "metadata": {},
     "output_type": "execute_result"
    }
   ],
   "source": [
    "prog.jog_dist\n"
   ]
  },
  {
   "cell_type": "code",
   "execution_count": 24,
   "metadata": {},
   "outputs": [
    {
     "data": {
      "text/plain": [
       "5.0"
      ]
     },
     "execution_count": 24,
     "metadata": {},
     "output_type": "execute_result"
    }
   ],
   "source": [
    "prog.jog_time\n"
   ]
  },
  {
   "cell_type": "code",
   "execution_count": 25,
   "metadata": {},
   "outputs": [],
   "source": [
    "prog.lines.reverse()\n"
   ]
  },
  {
   "cell_type": "code",
   "execution_count": 26,
   "metadata": {},
   "outputs": [
    {
     "data": {
      "text/plain": [
       "10.0"
      ]
     },
     "execution_count": 26,
     "metadata": {},
     "output_type": "execute_result"
    }
   ],
   "source": [
    "prog.jog_dist\n"
   ]
  }
 ],
 "metadata": {
  "kernelspec": {
   "display_name": "Python 3",
   "language": "python",
   "name": "python3"
  },
  "language_info": {
   "codemirror_mode": {
    "name": "ipython",
    "version": 3
   },
   "file_extension": ".py",
   "mimetype": "text/x-python",
   "name": "python",
   "nbconvert_exporter": "python",
   "pygments_lexer": "ipython3",
   "version": "3.6.5"
  }
 },
 "nbformat": 4,
 "nbformat_minor": 2
}
