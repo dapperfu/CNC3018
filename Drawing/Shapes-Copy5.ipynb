{
 "cells": [
  {
   "cell_type": "code",
   "execution_count": 1,
   "metadata": {},
   "outputs": [],
   "source": [
    "import os\n",
    "import sys\n",
    "import time\n",
    "\n",
    "import matplotlib.pyplot as plt\n",
    "import numpy as np\n",
    "\n",
    "import GCode\n",
    "import GRBL\n"
   ]
  },
  {
   "cell_type": "markdown",
   "metadata": {},
   "source": [
    "# Draw a Shapes\n",
    "\n",
    "Attempt at programmatically drawing shapes.\n",
    "\n",
    "All units in mm. ```1``` = ```1 mm```."
   ]
  },
  {
   "cell_type": "code",
   "execution_count": 2,
   "metadata": {},
   "outputs": [],
   "source": [
    "s = GCode.Shapes.Square()"
   ]
  },
  {
   "cell_type": "code",
   "execution_count": 3,
   "metadata": {},
   "outputs": [
    {
     "data": {
      "text/html": [
       "<b>G0</b> <i>X0 Y0</i><br>\n",
       "<b>M4</b> <i>S150</i><br>\n",
       "<b>G1</b> <i>X10 Y0 F300</i><br>\n",
       "<b>G1</b> <i>X10 Y10 F300</i><br>\n",
       "<b>G1</b> <i>X0 Y10 F300</i><br>\n",
       "<b>G1</b> <i>X0 Y0 F300</i><br>\n",
       "<b>M5</b> <i></i>"
      ],
      "text/plain": [
       "Square<O=[0 0], L=10>"
      ]
     },
     "execution_count": 3,
     "metadata": {},
     "output_type": "execute_result"
    }
   ],
   "source": [
    "s"
   ]
  },
  {
   "cell_type": "code",
   "execution_count": 12,
   "metadata": {},
   "outputs": [],
   "source": [
    "def origin_calc(lines):\n",
    "    if len(lines)==0:\n",
    "        o = 0\n",
    "    else:\n",
    "        o = np.sum(list(map(lambda s: s.len_side, lines)))\n",
    "    return np.array([o, o])"
   ]
  },
  {
   "cell_type": "code",
   "execution_count": 13,
   "metadata": {},
   "outputs": [
    {
     "data": {
      "text/plain": [
       "65.85"
      ]
     },
     "execution_count": 13,
     "metadata": {},
     "output_type": "execute_result"
    }
   ],
   "source": [
    "sides = [2.5, 5, 10, 25.4, 25.4/4, 5, 4, 3, 2, 1, .75, .5, .25, .1]\n",
    "np.sum(sides)"
   ]
  },
  {
   "cell_type": "code",
   "execution_count": 14,
   "metadata": {},
   "outputs": [],
   "source": [
    "lines = list()\n",
    "\n",
    "for side in sides:\n",
    "    _ = GCode.Shapes.Square(\n",
    "        len_side=side,\n",
    "        origin=origin_calc(lines)\n",
    "    )\n",
    "    lines.append(_)"
   ]
  },
  {
   "cell_type": "code",
   "execution_count": 15,
   "metadata": {},
   "outputs": [
    {
     "data": {
      "text/plain": [
       "[Square<O=[0 0], L=2.5>,\n",
       " Square<O=[2.5 2.5], L=5>,\n",
       " Square<O=[7.5 7.5], L=10>,\n",
       " Square<O=[17.5 17.5], L=25.4>,\n",
       " Square<O=[42.9 42.9], L=6.35>,\n",
       " Square<O=[49.25 49.25], L=5>,\n",
       " Square<O=[54.25 54.25], L=4>,\n",
       " Square<O=[58.25 58.25], L=3>,\n",
       " Square<O=[61.25 61.25], L=2>,\n",
       " Square<O=[63.25 63.25], L=1>,\n",
       " Square<O=[64.25 64.25], L=0.75>,\n",
       " Square<O=[65. 65.], L=0.5>,\n",
       " Square<O=[65.5 65.5], L=0.25>,\n",
       " Square<O=[65.75 65.75], L=0.1>]"
      ]
     },
     "execution_count": 15,
     "metadata": {},
     "output_type": "execute_result"
    }
   ],
   "source": [
    "lines"
   ]
  },
  {
   "cell_type": "code",
   "execution_count": 16,
   "metadata": {},
   "outputs": [],
   "source": [
    "prog = GCode.Program(lines=lines)"
   ]
  },
  {
   "cell_type": "code",
   "execution_count": 17,
   "metadata": {},
   "outputs": [
    {
     "data": {
      "text/plain": [
       "[Square<O=[0 0], L=2.5>,\n",
       " Square<O=[2.5 2.5], L=5>,\n",
       " Square<O=[7.5 7.5], L=10>,\n",
       " Square<O=[17.5 17.5], L=25.4>,\n",
       " Square<O=[42.9 42.9], L=6.35>,\n",
       " Square<O=[49.25 49.25], L=5>,\n",
       " Square<O=[54.25 54.25], L=4>,\n",
       " Square<O=[58.25 58.25], L=3>,\n",
       " Square<O=[61.25 61.25], L=2>,\n",
       " Square<O=[63.25 63.25], L=1>,\n",
       " Square<O=[64.25 64.25], L=0.75>,\n",
       " Square<O=[65. 65.], L=0.5>,\n",
       " Square<O=[65.5 65.5], L=0.25>,\n",
       " Square<O=[65.75 65.75], L=0.1>]"
      ]
     },
     "execution_count": 17,
     "metadata": {},
     "output_type": "execute_result"
    }
   ],
   "source": [
    "prog.lines"
   ]
  },
  {
   "cell_type": "code",
   "execution_count": 18,
   "metadata": {},
   "outputs": [],
   "source": [
    "prog.generate_gcode()"
   ]
  },
  {
   "cell_type": "code",
   "execution_count": 19,
   "metadata": {},
   "outputs": [
    {
     "data": {
      "text/plain": [
       "['G0',\n",
       " 'G1 F60',\n",
       " 'M3 S1',\n",
       " 'G21',\n",
       " 'G90',\n",
       " 'G0 X0.0 Y0.0',\n",
       " 'M4 S150',\n",
       " 'G1 X2.5 Y0.0 F300',\n",
       " 'G1 X2.5 Y2.5 F300',\n",
       " 'G1 X0.0 Y2.5 F300',\n",
       " 'G1 X0.0 Y0.0 F300',\n",
       " 'M5',\n",
       " 'G0 X0.0 Y0.0',\n",
       " 'M4 S150',\n",
       " 'G1 X2.5 Y0.0 F300',\n",
       " 'G1 X2.5 Y2.5 F300',\n",
       " 'G1 X0.0 Y2.5 F300',\n",
       " 'G1 X0.0 Y0.0 F300',\n",
       " 'M5',\n",
       " 'G0 X2.5 Y2.5',\n",
       " 'M4 S150',\n",
       " 'G1 X7.5 Y2.5 F300',\n",
       " 'G1 X7.5 Y7.5 F300',\n",
       " 'G1 X2.5 Y7.5 F300',\n",
       " 'G1 X2.5 Y2.5 F300',\n",
       " 'M5',\n",
       " 'G0 X2.5 Y2.5',\n",
       " 'M4 S150',\n",
       " 'G1 X7.5 Y2.5 F300',\n",
       " 'G1 X7.5 Y7.5 F300',\n",
       " 'G1 X2.5 Y7.5 F300',\n",
       " 'G1 X2.5 Y2.5 F300',\n",
       " 'M5',\n",
       " 'G0 X7.5 Y7.5',\n",
       " 'M4 S150',\n",
       " 'G1 X17.5 Y7.5 F300',\n",
       " 'G1 X17.5 Y17.5 F300',\n",
       " 'G1 X7.5 Y17.5 F300',\n",
       " 'G1 X7.5 Y7.5 F300',\n",
       " 'M5',\n",
       " 'G0 X7.5 Y7.5',\n",
       " 'M4 S150',\n",
       " 'G1 X17.5 Y7.5 F300',\n",
       " 'G1 X17.5 Y17.5 F300',\n",
       " 'G1 X7.5 Y17.5 F300',\n",
       " 'G1 X7.5 Y7.5 F300',\n",
       " 'M5',\n",
       " 'G0 X17.5 Y17.5',\n",
       " 'M4 S150',\n",
       " 'G1 X42.9 Y17.5 F300',\n",
       " 'G1 X42.9 Y42.9 F300',\n",
       " 'G1 X17.5 Y42.9 F300',\n",
       " 'G1 X17.5 Y17.5 F300',\n",
       " 'M5',\n",
       " 'G0 X17.5 Y17.5',\n",
       " 'M4 S150',\n",
       " 'G1 X42.9 Y17.5 F300',\n",
       " 'G1 X42.9 Y42.9 F300',\n",
       " 'G1 X17.5 Y42.9 F300',\n",
       " 'G1 X17.5 Y17.5 F300',\n",
       " 'M5',\n",
       " 'G0 X42.9 Y42.9',\n",
       " 'M4 S150',\n",
       " 'G1 X49.25 Y42.9 F300',\n",
       " 'G1 X49.25 Y49.25 F300',\n",
       " 'G1 X42.9 Y49.25 F300',\n",
       " 'G1 X42.9 Y42.9 F300',\n",
       " 'M5',\n",
       " 'G0 X42.9 Y42.9',\n",
       " 'M4 S150',\n",
       " 'G1 X49.25 Y42.9 F300',\n",
       " 'G1 X49.25 Y49.25 F300',\n",
       " 'G1 X42.9 Y49.25 F300',\n",
       " 'G1 X42.9 Y42.9 F300',\n",
       " 'M5',\n",
       " 'G0 X49.25 Y49.25',\n",
       " 'M4 S150',\n",
       " 'G1 X54.25 Y49.25 F300',\n",
       " 'G1 X54.25 Y54.25 F300',\n",
       " 'G1 X49.25 Y54.25 F300',\n",
       " 'G1 X49.25 Y49.25 F300',\n",
       " 'M5',\n",
       " 'G0 X49.25 Y49.25',\n",
       " 'M4 S150',\n",
       " 'G1 X54.25 Y49.25 F300',\n",
       " 'G1 X54.25 Y54.25 F300',\n",
       " 'G1 X49.25 Y54.25 F300',\n",
       " 'G1 X49.25 Y49.25 F300',\n",
       " 'M5',\n",
       " 'G0 X54.25 Y54.25',\n",
       " 'M4 S150',\n",
       " 'G1 X58.25 Y54.25 F300',\n",
       " 'G1 X58.25 Y58.25 F300',\n",
       " 'G1 X54.25 Y58.25 F300',\n",
       " 'G1 X54.25 Y54.25 F300',\n",
       " 'M5',\n",
       " 'G0 X54.25 Y54.25',\n",
       " 'M4 S150',\n",
       " 'G1 X58.25 Y54.25 F300',\n",
       " 'G1 X58.25 Y58.25 F300',\n",
       " 'G1 X54.25 Y58.25 F300',\n",
       " 'G1 X54.25 Y54.25 F300',\n",
       " 'M5',\n",
       " 'G0 X58.25 Y58.25',\n",
       " 'M4 S150',\n",
       " 'G1 X61.25 Y58.25 F300',\n",
       " 'G1 X61.25 Y61.25 F300',\n",
       " 'G1 X58.25 Y61.25 F300',\n",
       " 'G1 X58.25 Y58.25 F300',\n",
       " 'M5',\n",
       " 'G0 X58.25 Y58.25',\n",
       " 'M4 S150',\n",
       " 'G1 X61.25 Y58.25 F300',\n",
       " 'G1 X61.25 Y61.25 F300',\n",
       " 'G1 X58.25 Y61.25 F300',\n",
       " 'G1 X58.25 Y58.25 F300',\n",
       " 'M5',\n",
       " 'G0 X61.25 Y61.25',\n",
       " 'M4 S150',\n",
       " 'G1 X63.25 Y61.25 F300',\n",
       " 'G1 X63.25 Y63.25 F300',\n",
       " 'G1 X61.25 Y63.25 F300',\n",
       " 'G1 X61.25 Y61.25 F300',\n",
       " 'M5',\n",
       " 'G0 X61.25 Y61.25',\n",
       " 'M4 S150',\n",
       " 'G1 X63.25 Y61.25 F300',\n",
       " 'G1 X63.25 Y63.25 F300',\n",
       " 'G1 X61.25 Y63.25 F300',\n",
       " 'G1 X61.25 Y61.25 F300',\n",
       " 'M5',\n",
       " 'G0 X63.25 Y63.25',\n",
       " 'M4 S150',\n",
       " 'G1 X64.25 Y63.25 F300',\n",
       " 'G1 X64.25 Y64.25 F300',\n",
       " 'G1 X63.25 Y64.25 F300',\n",
       " 'G1 X63.25 Y63.25 F300',\n",
       " 'M5',\n",
       " 'G0 X63.25 Y63.25',\n",
       " 'M4 S150',\n",
       " 'G1 X64.25 Y63.25 F300',\n",
       " 'G1 X64.25 Y64.25 F300',\n",
       " 'G1 X63.25 Y64.25 F300',\n",
       " 'G1 X63.25 Y63.25 F300',\n",
       " 'M5',\n",
       " 'G0 X64.25 Y64.25',\n",
       " 'M4 S150',\n",
       " 'G1 X65.0 Y64.25 F300',\n",
       " 'G1 X65.0 Y65.0 F300',\n",
       " 'G1 X64.25 Y65.0 F300',\n",
       " 'G1 X64.25 Y64.25 F300',\n",
       " 'M5',\n",
       " 'G0 X64.25 Y64.25',\n",
       " 'M4 S150',\n",
       " 'G1 X65.0 Y64.25 F300',\n",
       " 'G1 X65.0 Y65.0 F300',\n",
       " 'G1 X64.25 Y65.0 F300',\n",
       " 'G1 X64.25 Y64.25 F300',\n",
       " 'M5',\n",
       " 'G0 X65.0 Y65.0',\n",
       " 'M4 S150',\n",
       " 'G1 X65.5 Y65.0 F300',\n",
       " 'G1 X65.5 Y65.5 F300',\n",
       " 'G1 X65.0 Y65.5 F300',\n",
       " 'G1 X65.0 Y65.0 F300',\n",
       " 'M5',\n",
       " 'G0 X65.0 Y65.0',\n",
       " 'M4 S150',\n",
       " 'G1 X65.5 Y65.0 F300',\n",
       " 'G1 X65.5 Y65.5 F300',\n",
       " 'G1 X65.0 Y65.5 F300',\n",
       " 'G1 X65.0 Y65.0 F300',\n",
       " 'M5',\n",
       " 'G0 X65.5 Y65.5',\n",
       " 'M4 S150',\n",
       " 'G1 X65.75 Y65.5 F300',\n",
       " 'G1 X65.75 Y65.75 F300',\n",
       " 'G1 X65.5 Y65.75 F300',\n",
       " 'G1 X65.5 Y65.5 F300',\n",
       " 'M5',\n",
       " 'G0 X65.5 Y65.5',\n",
       " 'M4 S150',\n",
       " 'G1 X65.75 Y65.5 F300',\n",
       " 'G1 X65.75 Y65.75 F300',\n",
       " 'G1 X65.5 Y65.75 F300',\n",
       " 'G1 X65.5 Y65.5 F300',\n",
       " 'M5',\n",
       " 'G0 X65.75 Y65.75',\n",
       " 'M4 S150',\n",
       " 'G1 X65.85 Y65.75 F300',\n",
       " 'G1 X65.85 Y65.85 F300',\n",
       " 'G1 X65.75 Y65.85 F300',\n",
       " 'G1 X65.75 Y65.75 F300',\n",
       " 'M5',\n",
       " 'G0 X65.75 Y65.75',\n",
       " 'M4 S150',\n",
       " 'G1 X65.85 Y65.75 F300',\n",
       " 'G1 X65.85 Y65.85 F300',\n",
       " 'G1 X65.75 Y65.85 F300',\n",
       " 'G1 X65.75 Y65.75 F300',\n",
       " 'M5',\n",
       " 'M5',\n",
       " 'G28']"
      ]
     },
     "execution_count": 19,
     "metadata": {},
     "output_type": "execute_result"
    }
   ],
   "source": [
    "prog.prog"
   ]
  },
  {
   "cell_type": "code",
   "execution_count": null,
   "metadata": {},
   "outputs": [],
   "source": []
  }
 ],
 "metadata": {
  "kernelspec": {
   "display_name": "Python 3",
   "language": "python",
   "name": "python3"
  },
  "language_info": {
   "codemirror_mode": {
    "name": "ipython",
    "version": 3
   },
   "file_extension": ".py",
   "mimetype": "text/x-python",
   "name": "python",
   "nbconvert_exporter": "python",
   "pygments_lexer": "ipython3",
   "version": "3.6.5"
  }
 },
 "nbformat": 4,
 "nbformat_minor": 2
}
