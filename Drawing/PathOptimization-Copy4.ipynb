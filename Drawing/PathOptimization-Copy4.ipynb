{
 "cells": [
  {
   "cell_type": "code",
   "execution_count": 1,
   "metadata": {},
   "outputs": [],
   "source": [
    "import os\n",
    "import sys\n",
    "import time\n",
    "\n",
    "import matplotlib.pyplot as plt\n",
    "import numpy as np\n",
    "\n",
    "import GCode\n",
    "import GCode.Line\n",
    "import GRBL\n"
   ]
  },
  {
   "cell_type": "markdown",
   "metadata": {},
   "source": [
    "# Code:"
   ]
  },
  {
   "cell_type": "markdown",
   "metadata": {},
   "source": [
    "Draw a 10 mm line from (0, 0) to (10, 0)."
   ]
  },
  {
   "cell_type": "code",
   "execution_count": 2,
   "metadata": {},
   "outputs": [
    {
     "data": {
      "text/plain": [
       "[Program<lines=2, dist=40.00mm, t=14.00s>,\n",
       " Program<lines=2, dist=40.00mm, t=14.00s>,\n",
       " Program<lines=2, dist=40.00mm, t=14.00s>,\n",
       " Program<lines=2, dist=40.00mm, t=14.00s>,\n",
       " Program<lines=2, dist=40.00mm, t=14.00s>,\n",
       " Program<lines=2, dist=40.00mm, t=14.00s>,\n",
       " Program<lines=2, dist=40.00mm, t=14.00s>,\n",
       " Program<lines=2, dist=40.00mm, t=14.00s>]"
      ]
     },
     "execution_count": 2,
     "metadata": {},
     "output_type": "execute_result"
    }
   ],
   "source": [
    "progs = list()\n",
    "\n",
    "for n_points in range(2, 10):\n",
    "    \n",
    "    line_cfg = {\n",
    "        \"X0\": 0,\n",
    "        \"Xf\": 10,\n",
    "        \"Y\": 0,\n",
    "        \"n_points\": n_points\n",
    "    }    \n",
    "    points = GCode.HorzLine(**line_cfg)\n",
    "    \n",
    "    line_cfg = {\n",
    "        \"points\": points,\n",
    "        \"feed\":120,\n",
    "        \"power\":128,\n",
    "        \"dynamic_power\": True,\n",
    "    }\n",
    "    line = GCode.Line(points=points)\n",
    "    \n",
    "    \n",
    "    prog_cfg={\n",
    "        \"lines\": [line, line],\n",
    "        \"feed\": 120\n",
    "    }\n",
    "    prog = GCode.Program(**prog_cfg)\n",
    "    progs.append(prog)\n",
    "progs"
   ]
  },
  {
   "cell_type": "code",
   "execution_count": null,
   "metadata": {},
   "outputs": [],
   "source": [
    "for prog in progs:\n",
    "    print(len(prog.buffer))"
   ]
  },
  {
   "cell_type": "code",
   "execution_count": null,
   "metadata": {},
   "outputs": [],
   "source": [
    "for prog in progs:\n",
    "    prog.generate_gcode()\n",
    "    print(len(prog.buffer))"
   ]
  },
  {
   "cell_type": "code",
   "execution_count": null,
   "metadata": {},
   "outputs": [],
   "source": [
    "list(map(lambda prog: prog.generate_gcode(), progs))\n"
   ]
  },
  {
   "cell_type": "code",
   "execution_count": null,
   "metadata": {},
   "outputs": [],
   "source": [
    "list(map(lambda prog: len(prog.buffer), progs))"
   ]
  },
  {
   "cell_type": "code",
   "execution_count": null,
   "metadata": {},
   "outputs": [],
   "source": [
    "import threading\n",
    "\n",
    "def concurrent_map(func, data):\n",
    "    \"\"\"\n",
    "    Similar to the bultin function map(). But spawn a thread for each argument\n",
    "    and apply `func` concurrently.\n",
    "\n",
    "    Note: unlike map(), we cannot take an iterable argument. `data` should be an\n",
    "    indexable sequence.\n",
    "    \"\"\"\n",
    "\n",
    "    N = len(data)\n",
    "    result = [None] * N\n",
    "\n",
    "    # wrapper to dispose the result in the right slot\n",
    "    def task_wrapper(i):\n",
    "        result[i] = func(data[i])\n",
    "\n",
    "    threads = [threading.Thread(target=task_wrapper, args=(i,)) for i in range(N)]\n",
    "    for t in threads:\n",
    "        t.start()\n",
    "    for t in threads:\n",
    "        t.join()\n",
    "\n",
    "    return result"
   ]
  },
  {
   "cell_type": "code",
   "execution_count": null,
   "metadata": {},
   "outputs": [],
   "source": [
    "concurrent_map(lambda prog: prog.generate_gcode(), progs)"
   ]
  },
  {
   "cell_type": "code",
   "execution_count": null,
   "metadata": {},
   "outputs": [],
   "source": [
    "concurrent_map(lambda prog: len(prog.buffer), progs)"
   ]
  },
  {
   "cell_type": "code",
   "execution_count": null,
   "metadata": {},
   "outputs": [],
   "source": [
    "concurrent_map(lambda prog: prog.__repr__(), progs)"
   ]
  },
  {
   "cell_type": "code",
   "execution_count": null,
   "metadata": {},
   "outputs": [],
   "source": [
    "concurrent_map(lambda prog: prog.dist, progs)"
   ]
  },
  {
   "cell_type": "code",
   "execution_count": null,
   "metadata": {},
   "outputs": [],
   "source": [
    "concurrent_map(lambda prog: prog.jog_dist, progs)"
   ]
  },
  {
   "cell_type": "code",
   "execution_count": null,
   "metadata": {},
   "outputs": [],
   "source": [
    "concurrent_map(lambda prog: prog.laserin_dist, progs)"
   ]
  },
  {
   "cell_type": "code",
   "execution_count": null,
   "metadata": {},
   "outputs": [],
   "source": [
    "m=concurrent_map(lambda prog: prog.laserin_dist, progs)"
   ]
  },
  {
   "cell_type": "code",
   "execution_count": null,
   "metadata": {},
   "outputs": [],
   "source": [
    "np.diff(m)"
   ]
  },
  {
   "cell_type": "code",
   "execution_count": null,
   "metadata": {},
   "outputs": [],
   "source": [
    "np.diff(m)==0"
   ]
  },
  {
   "cell_type": "code",
   "execution_count": null,
   "metadata": {},
   "outputs": [],
   "source": [
    "np.all(np.diff(m)==0)"
   ]
  },
  {
   "cell_type": "code",
   "execution_count": null,
   "metadata": {},
   "outputs": [],
   "source": [
    "assert(np.all(np.diff(m)==0))"
   ]
  },
  {
   "cell_type": "code",
   "execution_count": null,
   "metadata": {
    "scrolled": true
   },
   "outputs": [],
   "source": [
    "flip2"
   ]
  },
  {
   "cell_type": "code",
   "execution_count": null,
   "metadata": {},
   "outputs": [],
   "source": [
    "reverse(None, progs[1].lines[0].points)"
   ]
  },
  {
   "cell_type": "code",
   "execution_count": null,
   "metadata": {},
   "outputs": [],
   "source": [
    "progs"
   ]
  },
  {
   "cell_type": "code",
   "execution_count": null,
   "metadata": {},
   "outputs": [],
   "source": []
  }
 ],
 "metadata": {
  "kernelspec": {
   "display_name": "Python 3",
   "language": "python",
   "name": "python3"
  },
  "language_info": {
   "codemirror_mode": {
    "name": "ipython",
    "version": 3
   },
   "file_extension": ".py",
   "mimetype": "text/x-python",
   "name": "python",
   "nbconvert_exporter": "python",
   "pygments_lexer": "ipython3",
   "version": "3.6.5"
  }
 },
 "nbformat": 4,
 "nbformat_minor": 2
}
