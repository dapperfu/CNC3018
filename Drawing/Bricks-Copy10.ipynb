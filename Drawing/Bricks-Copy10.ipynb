{
 "cells": [
  {
   "cell_type": "code",
   "execution_count": 1,
   "metadata": {},
   "outputs": [],
   "source": [
    "import os\n",
    "import sys\n",
    "import time\n",
    "\n",
    "import matplotlib.pyplot as plt\n",
    "import numpy as np\n",
    "\n",
    "import GCode\n",
    "import GRBL\n"
   ]
  },
  {
   "cell_type": "markdown",
   "metadata": {},
   "source": [
    "# Draw a Brick Pattern\n",
    "\n",
    "Attempt at programmatically making a brick pattern.\n",
    "\n",
    "All units in mm. ```1``` = ```1 mm```."
   ]
  },
  {
   "cell_type": "markdown",
   "metadata": {},
   "source": [
    "\"Napkin\" scratches.\n",
    "\n",
    "![](http://luckofthedraw.fun/.imgs/brick_0003.jpeg)\n",
    "\n",
    "Drawn by hand. ~18mm brick height.\n",
    "\n",
    "![](http://luckofthedraw.fun/.imgs/brick_0001.jpeg)"
   ]
  },
  {
   "cell_type": "markdown",
   "metadata": {},
   "source": [
    "> Standard bricks. The standard co-ordinating size for brickwork is 225 mm x 112.5 mm x 75 mm (length x depth x height). This includes 10 mm mortar joints, and so the standard size for a brick itself is 215 mm x 102.5 mm x 65 mm (length x depth x height)."
   ]
  },
  {
   "cell_type": "code",
   "execution_count": 2,
   "metadata": {},
   "outputs": [],
   "source": [
    "# Standard brick dimensions.\n",
    "BrickHeight = 65  # [mm]\n",
    "BrickLength = 225  # [mm]\n",
    "BrickDepth = 12.5  # [mm]\n",
    "BrickRatio = 215 / 65  # [dimensionless]\n"
   ]
  },
  {
   "cell_type": "code",
   "execution_count": 3,
   "metadata": {},
   "outputs": [],
   "source": [
    "# Poplar 1x4\". Cut\n",
    "BlockHeight = 89.0  # mm\n",
    "BlockLength = 2 * BlockHeight  # mm\n"
   ]
  },
  {
   "cell_type": "code",
   "execution_count": 4,
   "metadata": {},
   "outputs": [],
   "source": [
    "# Drawing configuration.\n",
    "# How many rows of bricks to draw on the block.\n",
    "N_BrickRows = 5  # [dimensionless]\n",
    "\n",
    "# Dimensions of a 'brick' projected onto the block of wood.\n",
    "H_Block_Brick = BlockHeight / N_BrickRows  # [mm]\n",
    "L_Block_Brick = H_Block_Brick * BrickRatio  # [mm]\n"
   ]
  },
  {
   "cell_type": "markdown",
   "metadata": {},
   "source": [
    "# Code:"
   ]
  },
  {
   "cell_type": "code",
   "execution_count": 5,
   "metadata": {},
   "outputs": [],
   "source": [
    "flip = np.array([[1, 1], [1, 0]])\n",
    "transform_tuple = (\n",
    "    np.eye(2),  # Identity matrix, do nothing.\n",
    "    np.eye(2),  # Do nothing, for debugging.\n",
    "    flip,  # Flip the matrix, reduces travel time.\n",
    ")\n",
    "vertical_brick_lines_tuple = (\n",
    "    np.arange(L_Block_Brick, BlockLength, L_Block_Brick),# Odd rows.\n",
    "    np.arange(L_Block_Brick / 2, BlockLength, L_Block_Brick), # Even rows.\n",
    ")\n",
    "horizontal_brick_lines = np.linspace(0, BlockHeight, N_BrickRows, endpoint=False)"
   ]
  },
  {
   "cell_type": "markdown",
   "metadata": {},
   "source": [
    "Lines parallel to the X-axis.\n",
    "Separates rows of bricks."
   ]
  },
  {
   "cell_type": "code",
   "execution_count": 6,
   "metadata": {},
   "outputs": [
    {
     "data": {
      "text/plain": [
       "array([ 0. , 17.8, 35.6, 53.4, 71.2])"
      ]
     },
     "execution_count": 6,
     "metadata": {},
     "output_type": "execute_result"
    }
   ],
   "source": [
    "horizontal_brick_lines"
   ]
  },
  {
   "cell_type": "markdown",
   "metadata": {},
   "source": [
    "Lines parallel to the Y-axis."
   ]
  },
  {
   "cell_type": "code",
   "execution_count": 7,
   "metadata": {},
   "outputs": [
    {
     "data": {
      "text/plain": [
       "(array([ 58.87692308, 117.75384615, 176.63076923]),\n",
       " array([ 29.43846154,  88.31538462, 147.19230769]))"
      ]
     },
     "execution_count": 7,
     "metadata": {},
     "output_type": "execute_result"
    }
   ],
   "source": [
    "vertical_brick_lines_tuple"
   ]
  },
  {
   "cell_type": "code",
   "execution_count": 8,
   "metadata": {},
   "outputs": [
    {
     "data": {
      "text/html": [],
      "text/plain": [
       "Program<lines=0>"
      ]
     },
     "execution_count": 8,
     "metadata": {},
     "output_type": "execute_result"
    }
   ],
   "source": [
    "BlockBrick = GCode.Program()\n",
    "BlockBrick"
   ]
  },
  {
   "cell_type": "code",
   "execution_count": 9,
   "metadata": {},
   "outputs": [
    {
     "data": {
      "text/plain": [
       "[]"
      ]
     },
     "execution_count": 9,
     "metadata": {},
     "output_type": "execute_result"
    }
   ],
   "source": [
    "BlockBrick.lines"
   ]
  },
  {
   "cell_type": "code",
   "execution_count": 10,
   "metadata": {},
   "outputs": [],
   "source": [
    "BlockBrick.lines=list()\n",
    "\n",
    "for idx in range(1, len(horizontal_brick_lines)):\n",
    "    # Top horizontal line that defines each 'brick'\n",
    "    horizontal_brick_line = horizontal_brick_lines[idx]\n",
    "    row_line_points = np.array(\n",
    "        [[0, horizontal_brick_line], [BlockLength, horizontal_brick_line]]\n",
    "    )\n",
    "    # Transform to perform on the row points.\n",
    "    transform = transform_tuple[np.mod(idx, 2)]\n",
    "    \n",
    "    row_line_points = np.matmul(transform, row_line_points)\n",
    "    line_ = GCode.Line(\n",
    "        points=row_line_points,\n",
    "    )\n",
    "    \n",
    "    BlockBrick.lines.append(line_)\n",
    "    \n",
    "    # Vertical brick line.\n",
    "    vertical_brick_lines = vertical_brick_lines_tuple[np.mod(idx, len(vertical_brick_lines_tuple))]\n",
    "    start_point_y = horizontal_brick_lines[idx - 1]\n",
    "    end_point_y = horizontal_brick_lines[idx]\n",
    "    for idx2, vertical_brick_line in enumerate(vertical_brick_lines):\n",
    "        transform = transform_tuple[np.mod(idx2, 2)]\n",
    "        column_line_points = (\n",
    "            np.array(\n",
    "                [\n",
    "                    [start_point_y, vertical_brick_line],\n",
    "                    [end_point_y, vertical_brick_line],\n",
    "                ]\n",
    "            ),\n",
    "        )\n",
    "        column_line_points = np.matmul(transform, column_line_points)\n",
    "        line_ = GCode.Line(column_line_points)\n",
    "        BlockBrick.lines.append(line_)"
   ]
  },
  {
   "cell_type": "code",
   "execution_count": 11,
   "metadata": {},
   "outputs": [
    {
     "data": {
      "text/html": [],
      "text/plain": [
       "Program<lines=16>"
      ]
     },
     "execution_count": 11,
     "metadata": {},
     "output_type": "execute_result"
    }
   ],
   "source": [
    "BlockBrick"
   ]
  },
  {
   "cell_type": "code",
   "execution_count": 12,
   "metadata": {},
   "outputs": [
    {
     "data": {
      "text/plain": [
       "[Line<cut=178.0mm, F=300, S=150>,\n",
       " Line<cut=17.8mm, F=300, S=150>,\n",
       " Line<cut=17.8mm, F=300, S=150>,\n",
       " Line<cut=17.8mm, F=300, S=150>,\n",
       " Line<cut=178.0mm, F=300, S=150>,\n",
       " Line<cut=17.8mm, F=300, S=150>,\n",
       " Line<cut=17.8mm, F=300, S=150>,\n",
       " Line<cut=17.8mm, F=300, S=150>,\n",
       " Line<cut=178.0mm, F=300, S=150>,\n",
       " Line<cut=17.800000000000004mm, F=300, S=150>,\n",
       " Line<cut=17.800000000000004mm, F=300, S=150>,\n",
       " Line<cut=17.800000000000004mm, F=300, S=150>,\n",
       " Line<cut=178.0mm, F=300, S=150>,\n",
       " Line<cut=17.799999999999997mm, F=300, S=150>,\n",
       " Line<cut=17.799999999999997mm, F=300, S=150>,\n",
       " Line<cut=17.799999999999997mm, F=300, S=150>]"
      ]
     },
     "execution_count": 12,
     "metadata": {},
     "output_type": "execute_result"
    }
   ],
   "source": [
    "BlockBrick.lines"
   ]
  },
  {
   "cell_type": "code",
   "execution_count": 13,
   "metadata": {},
   "outputs": [
    {
     "data": {
      "text/html": [
       "<b>G0</b> <i>X0.0 Y17.8</i><br>\n",
       "<b>M4</b> <i>S150</i><br>\n",
       "<b>G1</b> <i>X178.0 Y17.8 F300</i><br>\n",
       "<b>M5</b> <i></i>"
      ],
      "text/plain": [
       "Line<cut=178.0mm, F=300, S=150>"
      ]
     },
     "execution_count": 13,
     "metadata": {},
     "output_type": "execute_result"
    }
   ],
   "source": [
    "BlockBrick.lines[0]"
   ]
  },
  {
   "cell_type": "code",
   "execution_count": 14,
   "metadata": {
    "scrolled": true
   },
   "outputs": [
    {
     "data": {
      "text/html": [
       "<b>G0</b> <i>X0.0 Y29.4385</i><br>\n",
       "<b>M4</b> <i>S150</i><br>\n",
       "<b>G1</b> <i>X17.8 Y29.4385 F300</i><br>\n",
       "<b>M5</b> <i></i>"
      ],
      "text/plain": [
       "Line<cut=17.8mm, F=300, S=150>"
      ]
     },
     "execution_count": 14,
     "metadata": {},
     "output_type": "execute_result"
    }
   ],
   "source": [
    "BlockBrick.lines[1]"
   ]
  },
  {
   "cell_type": "code",
   "execution_count": null,
   "metadata": {},
   "outputs": [],
   "source": [
    "cnc = GRBL.GRBL(port=\"/dev/cnc_3018\")\n",
    "cnc.reset()\n"
   ]
  },
  {
   "cell_type": "code",
   "execution_count": null,
   "metadata": {},
   "outputs": [],
   "source": [
    "cnc.home()"
   ]
  },
  {
   "cell_type": "code",
   "execution_count": null,
   "metadata": {},
   "outputs": [],
   "source": [
    "cnc.cmd(\"$C\")"
   ]
  },
  {
   "cell_type": "code",
   "execution_count": null,
   "metadata": {},
   "outputs": [],
   "source": [
    "BlockBrick.generate_gcode()"
   ]
  },
  {
   "cell_type": "code",
   "execution_count": null,
   "metadata": {},
   "outputs": [],
   "source": [
    "BlockBrick.buffer"
   ]
  },
  {
   "cell_type": "code",
   "execution_count": null,
   "metadata": {},
   "outputs": [],
   "source": [
    "for line in BlockBrick.buffer:\n",
    "    ret = cnc.cmd(line)\n",
    "    assert(len(ret) == 2)\n",
    "    assert(ret[0]==\"ok\")\n",
    "    assert(ret[1]==\"ok\")"
   ]
  },
  {
   "cell_type": "code",
   "execution_count": null,
   "metadata": {},
   "outputs": [],
   "source": [
    "cnc.reset()\n",
    "cnc.home()\n",
    "cnc.cmd(\"G28\")"
   ]
  },
  {
   "cell_type": "code",
   "execution_count": null,
   "metadata": {},
   "outputs": [],
   "source": [
    "cnc.status"
   ]
  },
  {
   "cell_type": "code",
   "execution_count": null,
   "metadata": {},
   "outputs": [],
   "source": [
    "BlockBrick.generate_gcode()"
   ]
  },
  {
   "cell_type": "code",
   "execution_count": null,
   "metadata": {},
   "outputs": [],
   "source": [
    "BlockBrick.buffer"
   ]
  },
  {
   "cell_type": "code",
   "execution_count": null,
   "metadata": {},
   "outputs": [],
   "source": [
    "import cnc."
   ]
  },
  {
   "cell_type": "code",
   "execution_count": null,
   "metadata": {},
   "outputs": [],
   "source": [
    "for line in BlockBrick.buffer:\n",
    "    ret = cnc.cmd(line)\n",
    "    try:\n",
    "        assert(len(ret) == 2)\n",
    "        assert(ret[0]==\"ok\")\n",
    "        assert(ret[1]==\"ok\")\n",
    "    except:\n",
    "        print(line)\n",
    "        cnc.reset()\n",
    "        cnc.home()\n",
    "        cnc.cmd(\"G28\")\n",
    "        break"
   ]
  },
  {
   "cell_type": "code",
   "execution_count": null,
   "metadata": {},
   "outputs": [],
   "source": [
    "cnc.status"
   ]
  },
  {
   "cell_type": "code",
   "execution_count": null,
   "metadata": {},
   "outputs": [],
   "source": [
    "BlockBrick.buffer"
   ]
  },
  {
   "cell_type": "code",
   "execution_count": null,
   "metadata": {},
   "outputs": [],
   "source": []
  }
 ],
 "metadata": {
  "kernelspec": {
   "display_name": "Python 3",
   "language": "python",
   "name": "python3"
  },
  "language_info": {
   "codemirror_mode": {
    "name": "ipython",
    "version": 3
   },
   "file_extension": ".py",
   "mimetype": "text/x-python",
   "name": "python",
   "nbconvert_exporter": "python",
   "pygments_lexer": "ipython3",
   "version": "3.6.5"
  }
 },
 "nbformat": 4,
 "nbformat_minor": 2
}
