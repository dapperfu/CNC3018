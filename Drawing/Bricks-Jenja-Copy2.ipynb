{
 "cells": [
  {
   "cell_type": "code",
   "execution_count": 65,
   "metadata": {},
   "outputs": [],
   "source": [
    "import os\n",
    "import sys\n",
    "import time\n",
    "\n",
    "import matplotlib.pyplot as plt\n",
    "import numpy as np\n",
    "\n",
    "import GCode\n",
    "import GRBL\n"
   ]
  },
  {
   "cell_type": "code",
   "execution_count": 66,
   "metadata": {},
   "outputs": [],
   "source": [
    "sys.path.append(os.path.abspath(\"..\"))\n",
    "from utils import picture"
   ]
  },
  {
   "cell_type": "markdown",
   "metadata": {},
   "source": [
    "# Draw a Brick Pattern\n",
    "\n",
    "Attempt at programmatically making a brick pattern.\n",
    "\n",
    "All units in mm. ```1``` = ```1 mm```.\n",
    "\n",
    "> Jenga is played with 54 wooden blocks. Each block is three times longer than its width, and one fifth as thick as its length 1.5 cm × 2.5 cm × 7.5 cm (0.59 in × 0.98 in × 2.95 in).\n",
    "\n",
    "https://en.wikipedia.org/wiki/Jenga"
   ]
  },
  {
   "cell_type": "code",
   "execution_count": 67,
   "metadata": {},
   "outputs": [],
   "source": [
    "# Standard brick dimensions.\n",
    "BrickHeight = 65  # [mm]\n",
    "BrickLength = 225  # [mm]\n",
    "BrickDepth = 12.5  # [mm]\n",
    "BrickRatio = 215 / 65  # [dimensionless]"
   ]
  },
  {
   "cell_type": "code",
   "execution_count": 68,
   "metadata": {},
   "outputs": [],
   "source": [
    "# Jenga\n",
    "BlockHeight = 25  # [mm]\n",
    "BlockLength = 75  # [mm]"
   ]
  },
  {
   "cell_type": "code",
   "execution_count": 100,
   "metadata": {},
   "outputs": [],
   "source": [
    "# Drawing configuration.\n",
    "# How many rows of bricks to draw on the block.\n",
    "N_BrickRows = 10  # [dimensionless]\n",
    "\n",
    "# Dimensions of a 'brick' projected onto the block of wood.\n",
    "H_Block_Brick = BlockHeight / N_BrickRows  # [mm]\n",
    "L_Block_Brick = H_Block_Brick * BrickRatio  # [mm]\n"
   ]
  },
  {
   "cell_type": "markdown",
   "metadata": {},
   "source": [
    "# Code:"
   ]
  },
  {
   "cell_type": "code",
   "execution_count": 101,
   "metadata": {},
   "outputs": [],
   "source": [
    "flip = np.array([[1, 1], [1, 0]])\n",
    "transform_tuple = (\n",
    "    np.eye(2),  # Identity matrix, do nothing.\n",
    "    np.eye(2),  # Do nothing, for debugging.\n",
    "    flip,  # Flip the matrix, reduces travel time.\n",
    ")\n",
    "vertical_brick_lines_tuple = (\n",
    "    np.arange(L_Block_Brick, BlockLength, L_Block_Brick),# Odd rows.\n",
    "    np.arange(L_Block_Brick / 2, BlockLength, L_Block_Brick), # Even rows.\n",
    ")\n",
    "horizontal_brick_lines = np.linspace(0, BlockHeight, N_BrickRows, endpoint=False)"
   ]
  },
  {
   "cell_type": "markdown",
   "metadata": {},
   "source": [
    "Lines parallel to the X-axis.\n",
    "Separates rows of bricks."
   ]
  },
  {
   "cell_type": "code",
   "execution_count": 102,
   "metadata": {},
   "outputs": [
    {
     "data": {
      "text/plain": [
       "array([ 0. ,  2.5,  5. ,  7.5, 10. , 12.5, 15. , 17.5, 20. , 22.5])"
      ]
     },
     "execution_count": 102,
     "metadata": {},
     "output_type": "execute_result"
    }
   ],
   "source": [
    "horizontal_brick_lines"
   ]
  },
  {
   "cell_type": "markdown",
   "metadata": {},
   "source": [
    "Lines parallel to the Y-axis."
   ]
  },
  {
   "cell_type": "code",
   "execution_count": 103,
   "metadata": {},
   "outputs": [
    {
     "data": {
      "text/plain": [
       "(array([ 8.26923077, 16.53846154, 24.80769231, 33.07692308, 41.34615385,\n",
       "        49.61538462, 57.88461538, 66.15384615, 74.42307692]),\n",
       " array([ 4.13461538, 12.40384615, 20.67307692, 28.94230769, 37.21153846,\n",
       "        45.48076923, 53.75      , 62.01923077, 70.28846154]))"
      ]
     },
     "execution_count": 103,
     "metadata": {},
     "output_type": "execute_result"
    }
   ],
   "source": [
    "vertical_brick_lines_tuple"
   ]
  },
  {
   "cell_type": "code",
   "execution_count": 104,
   "metadata": {},
   "outputs": [],
   "source": [
    "BlockBrick=GCode.Program()\n",
    "BlockBrick.lines=list()\n",
    "\n",
    "for idx in range(1, len(horizontal_brick_lines)):\n",
    "    # Top horizontal line that defines each 'brick'\n",
    "    horizontal_brick_line = horizontal_brick_lines[idx]\n",
    "    row_line_points = np.array(\n",
    "        [[0, horizontal_brick_line], [BlockLength, horizontal_brick_line]]\n",
    "    )\n",
    "    # Transform to perform on the row points.\n",
    "    transform = transform_tuple[np.mod(idx, 2)]\n",
    "    \n",
    "    row_line_points = np.matmul(transform, row_line_points)\n",
    "    line_ = GCode.Line(\n",
    "        points=row_line_points,\n",
    "    )\n",
    "    \n",
    "    BlockBrick.lines.append(line_)"
   ]
  },
  {
   "cell_type": "code",
   "execution_count": 105,
   "metadata": {},
   "outputs": [],
   "source": [
    "for idx in range(1, len(horizontal_brick_lines)):\n",
    "\n",
    "    # Vertical brick line.\n",
    "    vertical_brick_lines = vertical_brick_lines_tuple[np.mod(idx, len(vertical_brick_lines_tuple))]\n",
    "    \n",
    "    start_point_y = horizontal_brick_lines[idx - 1]\n",
    "    end_point_y = horizontal_brick_lines[idx]\n",
    "    \n",
    "    for idx2, vertical_brick_line in enumerate(vertical_brick_lines):\n",
    "        transform = transform_tuple[np.mod(idx2, 2)]\n",
    "        column_line_points = (\n",
    "            np.array(\n",
    "                [\n",
    "                    [vertical_brick_line, start_point_y],\n",
    "                    [vertical_brick_line, end_point_y],\n",
    "                ]\n",
    "            ),\n",
    "        )\n",
    "        column_line_points = np.matmul(transform, column_line_points)\n",
    "        line_ = GCode.Line(column_line_points)\n",
    "        BlockBrick.lines.append(line_)\n",
    "# Not drawing the last row of vertical lines.\n",
    "idx+=1\n",
    "vertical_brick_lines = vertical_brick_lines_tuple[np.mod(idx, len(vertical_brick_lines_tuple))]\n",
    "\n",
    "start_point_y = horizontal_brick_lines[idx-1]\n",
    "end_point_y = BlockHeight\n",
    "        \n",
    "for idx2, vertical_brick_line in enumerate(vertical_brick_lines):\n",
    "    transform = transform_tuple[np.mod(idx2, 2)]\n",
    "    column_line_points = (\n",
    "        np.array(\n",
    "            [\n",
    "                [vertical_brick_line, start_point_y],\n",
    "                [vertical_brick_line, end_point_y],\n",
    "            ]\n",
    "        ),\n",
    "    )\n",
    "    column_line_points = np.matmul(transform, column_line_points)\n",
    "    line_ = GCode.Line(column_line_points)\n",
    "    BlockBrick.lines.append(line_)"
   ]
  },
  {
   "cell_type": "code",
   "execution_count": 106,
   "metadata": {},
   "outputs": [
    {
     "data": {
      "text/plain": [
       "[Line<cut=75.0mm, F=300, S=150>,\n",
       " Line<cut=75.0mm, F=300, S=150>,\n",
       " Line<cut=75.0mm, F=300, S=150>,\n",
       " Line<cut=75.0mm, F=300, S=150>,\n",
       " Line<cut=75.0mm, F=300, S=150>,\n",
       " Line<cut=75.0mm, F=300, S=150>,\n",
       " Line<cut=75.0mm, F=300, S=150>,\n",
       " Line<cut=75.0mm, F=300, S=150>,\n",
       " Line<cut=75.0mm, F=300, S=150>,\n",
       " Line<cut=2.5mm, F=300, S=150>,\n",
       " Line<cut=2.5mm, F=300, S=150>,\n",
       " Line<cut=2.5mm, F=300, S=150>,\n",
       " Line<cut=2.5mm, F=300, S=150>,\n",
       " Line<cut=2.5mm, F=300, S=150>,\n",
       " Line<cut=2.5mm, F=300, S=150>,\n",
       " Line<cut=2.5mm, F=300, S=150>,\n",
       " Line<cut=2.5mm, F=300, S=150>,\n",
       " Line<cut=2.5mm, F=300, S=150>,\n",
       " Line<cut=2.5mm, F=300, S=150>,\n",
       " Line<cut=2.5mm, F=300, S=150>,\n",
       " Line<cut=2.5mm, F=300, S=150>,\n",
       " Line<cut=2.5mm, F=300, S=150>,\n",
       " Line<cut=2.5mm, F=300, S=150>,\n",
       " Line<cut=2.5mm, F=300, S=150>,\n",
       " Line<cut=2.5mm, F=300, S=150>,\n",
       " Line<cut=2.5mm, F=300, S=150>,\n",
       " Line<cut=2.5mm, F=300, S=150>,\n",
       " Line<cut=2.5mm, F=300, S=150>,\n",
       " Line<cut=2.5mm, F=300, S=150>,\n",
       " Line<cut=2.5mm, F=300, S=150>,\n",
       " Line<cut=2.5mm, F=300, S=150>,\n",
       " Line<cut=2.5mm, F=300, S=150>,\n",
       " Line<cut=2.5mm, F=300, S=150>,\n",
       " Line<cut=2.5mm, F=300, S=150>,\n",
       " Line<cut=2.5mm, F=300, S=150>,\n",
       " Line<cut=2.5mm, F=300, S=150>,\n",
       " Line<cut=2.5mm, F=300, S=150>,\n",
       " Line<cut=2.5mm, F=300, S=150>,\n",
       " Line<cut=2.5mm, F=300, S=150>,\n",
       " Line<cut=2.5mm, F=300, S=150>,\n",
       " Line<cut=2.5mm, F=300, S=150>,\n",
       " Line<cut=2.5mm, F=300, S=150>,\n",
       " Line<cut=2.5mm, F=300, S=150>,\n",
       " Line<cut=2.5mm, F=300, S=150>,\n",
       " Line<cut=2.5mm, F=300, S=150>,\n",
       " Line<cut=2.5mm, F=300, S=150>,\n",
       " Line<cut=2.5mm, F=300, S=150>,\n",
       " Line<cut=2.5mm, F=300, S=150>,\n",
       " Line<cut=2.5mm, F=300, S=150>,\n",
       " Line<cut=2.5mm, F=300, S=150>,\n",
       " Line<cut=2.5mm, F=300, S=150>,\n",
       " Line<cut=2.5mm, F=300, S=150>,\n",
       " Line<cut=2.5mm, F=300, S=150>,\n",
       " Line<cut=2.5mm, F=300, S=150>,\n",
       " Line<cut=2.5mm, F=300, S=150>,\n",
       " Line<cut=2.5mm, F=300, S=150>,\n",
       " Line<cut=2.5mm, F=300, S=150>,\n",
       " Line<cut=2.5mm, F=300, S=150>,\n",
       " Line<cut=2.5mm, F=300, S=150>,\n",
       " Line<cut=2.5mm, F=300, S=150>,\n",
       " Line<cut=2.5mm, F=300, S=150>,\n",
       " Line<cut=2.5mm, F=300, S=150>,\n",
       " Line<cut=2.5mm, F=300, S=150>,\n",
       " Line<cut=2.5mm, F=300, S=150>,\n",
       " Line<cut=2.5mm, F=300, S=150>,\n",
       " Line<cut=2.5mm, F=300, S=150>,\n",
       " Line<cut=2.5mm, F=300, S=150>,\n",
       " Line<cut=2.5mm, F=300, S=150>,\n",
       " Line<cut=2.5mm, F=300, S=150>,\n",
       " Line<cut=2.5mm, F=300, S=150>,\n",
       " Line<cut=2.5mm, F=300, S=150>,\n",
       " Line<cut=2.5mm, F=300, S=150>,\n",
       " Line<cut=2.5mm, F=300, S=150>,\n",
       " Line<cut=2.5mm, F=300, S=150>,\n",
       " Line<cut=2.5mm, F=300, S=150>,\n",
       " Line<cut=2.5mm, F=300, S=150>,\n",
       " Line<cut=2.5mm, F=300, S=150>,\n",
       " Line<cut=2.5mm, F=300, S=150>,\n",
       " Line<cut=2.5mm, F=300, S=150>,\n",
       " Line<cut=2.5mm, F=300, S=150>,\n",
       " Line<cut=2.5mm, F=300, S=150>,\n",
       " Line<cut=2.5mm, F=300, S=150>,\n",
       " Line<cut=2.5mm, F=300, S=150>,\n",
       " Line<cut=2.5mm, F=300, S=150>,\n",
       " Line<cut=2.5mm, F=300, S=150>,\n",
       " Line<cut=2.5mm, F=300, S=150>,\n",
       " Line<cut=2.5mm, F=300, S=150>,\n",
       " Line<cut=2.5mm, F=300, S=150>,\n",
       " Line<cut=2.5mm, F=300, S=150>,\n",
       " Line<cut=2.5mm, F=300, S=150>,\n",
       " Line<cut=2.5mm, F=300, S=150>,\n",
       " Line<cut=2.5mm, F=300, S=150>,\n",
       " Line<cut=2.5mm, F=300, S=150>,\n",
       " Line<cut=2.5mm, F=300, S=150>,\n",
       " Line<cut=2.5mm, F=300, S=150>,\n",
       " Line<cut=2.5mm, F=300, S=150>,\n",
       " Line<cut=2.5mm, F=300, S=150>,\n",
       " Line<cut=2.5mm, F=300, S=150>,\n",
       " Line<cut=2.5mm, F=300, S=150>]"
      ]
     },
     "execution_count": 106,
     "metadata": {},
     "output_type": "execute_result"
    }
   ],
   "source": [
    "BlockBrick.lines"
   ]
  },
  {
   "cell_type": "code",
   "execution_count": 107,
   "metadata": {},
   "outputs": [
    {
     "data": {
      "text/plain": [
       "1197.777350267149"
      ]
     },
     "execution_count": 107,
     "metadata": {},
     "output_type": "execute_result"
    }
   ],
   "source": [
    "BlockBrick.time"
   ]
  },
  {
   "cell_type": "code",
   "execution_count": 108,
   "metadata": {},
   "outputs": [
    {
     "data": {
      "text/plain": [
       "2935.554700534298"
      ]
     },
     "execution_count": 108,
     "metadata": {},
     "output_type": "execute_result"
    }
   ],
   "source": [
    "BlockBrick.dist"
   ]
  },
  {
   "cell_type": "code",
   "execution_count": 109,
   "metadata": {},
   "outputs": [],
   "source": [
    "BlockBrick.generate_gcode()"
   ]
  },
  {
   "cell_type": "code",
   "execution_count": 110,
   "metadata": {
    "scrolled": true
   },
   "outputs": [
    {
     "data": {
      "text/html": [
       "<b>G21</b> <i></i><br>\n",
       "<b>G90</b> <i></i><br>\n",
       "<b>G28</b> <i></i><br>\n",
       "<b>G0</b> <i>F120</i><br>\n",
       "<b>G1</b> <i>F120</i><br>\n",
       "<b>M3</b> <i>S1</i><br>\n",
       "<b>G92</b> <i>X0 Y0 Z0</i><br>\n",
       "<b>G0</b> <i>X0.0 Y2.5</i><br>\n",
       "<b>M4</b> <i>S150</i><br>\n",
       "<b>G1</b> <i>X75.0 Y2.5 F300</i><br>\n",
       "<b>M5</b> <i></i><br>\n",
       "<b>G0</b> <i>X0.0 Y5.0</i><br>\n",
       "<b>M4</b> <i>S150</i><br>\n",
       "<b>G1</b> <i>X75.0 Y5.0 F300</i><br>\n",
       "<b>M5</b> <i></i><br>\n",
       "<b>G0</b> <i>X0.0 Y7.5</i><br>\n",
       "<b>M4</b> <i>S150</i><br>\n",
       "<b>G1</b> <i>X75.0 Y7.5 F300</i><br>\n",
       "<b>M5</b> <i></i><br>\n",
       "<b>G0</b> <i>X0.0 Y10.0</i><br>\n",
       "<b>M4</b> <i>S150</i><br>\n",
       "<b>G1</b> <i>X75.0 Y10.0 F300</i><br>\n",
       "<b>M5</b> <i></i><br>\n",
       "<b>G0</b> <i>X0.0 Y12.5</i><br>\n",
       "<b>M4</b> <i>S150</i><br>\n",
       "<b>G1</b> <i>X75.0 Y12.5 F300</i><br>\n",
       "<b>M5</b> <i></i><br>\n",
       "<b>G0</b> <i>X0.0 Y15.0</i><br>\n",
       "<b>M4</b> <i>S150</i><br>\n",
       "<b>G1</b> <i>X75.0 Y15.0 F300</i><br>\n",
       "<b>M5</b> <i></i><br>\n",
       "<b>G0</b> <i>X0.0 Y17.5</i><br>\n",
       "<b>M4</b> <i>S150</i><br>\n",
       "<b>G1</b> <i>X75.0 Y17.5 F300</i><br>\n",
       "<b>M5</b> <i></i><br>\n",
       "<b>G0</b> <i>X0.0 Y20.0</i><br>\n",
       "<b>M4</b> <i>S150</i><br>\n",
       "<b>G1</b> <i>X75.0 Y20.0 F300</i><br>\n",
       "<b>M5</b> <i></i><br>\n",
       "<b>G0</b> <i>X0.0 Y22.5</i><br>\n",
       "<b>M4</b> <i>S150</i><br>\n",
       "<b>G1</b> <i>X75.0 Y22.5 F300</i><br>\n",
       "<b>M5</b> <i></i><br>\n",
       "<b>G0</b> <i>X4.1346 Y0.0</i><br>\n",
       "<b>M4</b> <i>S150</i><br>\n",
       "<b>G1</b> <i>X4.1346 Y2.5 F300</i><br>\n",
       "<b>M5</b> <i></i><br>\n",
       "<b>G0</b> <i>X12.4038 Y0.0</i><br>\n",
       "<b>M4</b> <i>S150</i><br>\n",
       "<b>G1</b> <i>X12.4038 Y2.5 F300</i><br>\n",
       "<b>M5</b> <i></i><br>\n",
       "<b>G0</b> <i>X20.6731 Y0.0</i><br>\n",
       "<b>M4</b> <i>S150</i><br>\n",
       "<b>G1</b> <i>X20.6731 Y2.5 F300</i><br>\n",
       "<b>M5</b> <i></i><br>\n",
       "<b>G0</b> <i>X28.9423 Y0.0</i><br>\n",
       "<b>M4</b> <i>S150</i><br>\n",
       "<b>G1</b> <i>X28.9423 Y2.5 F300</i><br>\n",
       "<b>M5</b> <i></i><br>\n",
       "<b>G0</b> <i>X37.2115 Y0.0</i><br>\n",
       "<b>M4</b> <i>S150</i><br>\n",
       "<b>G1</b> <i>X37.2115 Y2.5 F300</i><br>\n",
       "<b>M5</b> <i></i><br>\n",
       "<b>G0</b> <i>X45.4808 Y0.0</i><br>\n",
       "<b>M4</b> <i>S150</i><br>\n",
       "<b>G1</b> <i>X45.4808 Y2.5 F300</i><br>\n",
       "<b>M5</b> <i></i><br>\n",
       "<b>G0</b> <i>X53.75 Y0.0</i><br>\n",
       "<b>M4</b> <i>S150</i><br>\n",
       "<b>G1</b> <i>X53.75 Y2.5 F300</i><br>\n",
       "<b>M5</b> <i></i><br>\n",
       "<b>G0</b> <i>X62.0192 Y0.0</i><br>\n",
       "<b>M4</b> <i>S150</i><br>\n",
       "<b>G1</b> <i>X62.0192 Y2.5 F300</i><br>\n",
       "<b>M5</b> <i></i><br>\n",
       "<b>G0</b> <i>X70.2885 Y0.0</i><br>\n",
       "<b>M4</b> <i>S150</i><br>\n",
       "<b>G1</b> <i>X70.2885 Y2.5 F300</i><br>\n",
       "<b>M5</b> <i></i><br>\n",
       "<b>G0</b> <i>X8.2692 Y2.5</i><br>\n",
       "<b>M4</b> <i>S150</i><br>\n",
       "<b>G1</b> <i>X8.2692 Y5.0 F300</i><br>\n",
       "<b>M5</b> <i></i><br>\n",
       "<b>G0</b> <i>X16.5385 Y2.5</i><br>\n",
       "<b>M4</b> <i>S150</i><br>\n",
       "<b>G1</b> <i>X16.5385 Y5.0 F300</i><br>\n",
       "<b>M5</b> <i></i><br>\n",
       "<b>G0</b> <i>X24.8077 Y2.5</i><br>\n",
       "<b>M4</b> <i>S150</i><br>\n",
       "<b>G1</b> <i>X24.8077 Y5.0 F300</i><br>\n",
       "<b>M5</b> <i></i><br>\n",
       "<b>G0</b> <i>X33.0769 Y2.5</i><br>\n",
       "<b>M4</b> <i>S150</i><br>\n",
       "<b>G1</b> <i>X33.0769 Y5.0 F300</i><br>\n",
       "<b>M5</b> <i></i><br>\n",
       "<b>G0</b> <i>X41.3462 Y2.5</i><br>\n",
       "<b>M4</b> <i>S150</i><br>\n",
       "<b>G1</b> <i>X41.3462 Y5.0 F300</i><br>\n",
       "<b>M5</b> <i></i><br>\n",
       "<b>G0</b> <i>X49.6154 Y2.5</i><br>\n",
       "<b>M4</b> <i>S150</i><br>\n",
       "<b>G1</b> <i>X49.6154 Y5.0 F300</i><br>\n",
       "<b>M5</b> <i></i><br>\n",
       "<b>G0</b> <i>X57.8846 Y2.5</i><br>\n",
       "<b>M4</b> <i>S150</i><br>\n",
       "<b>G1</b> <i>X57.8846 Y5.0 F300</i><br>\n",
       "<b>M5</b> <i></i><br>\n",
       "<b>G0</b> <i>X66.1538 Y2.5</i><br>\n",
       "<b>M4</b> <i>S150</i><br>\n",
       "<b>G1</b> <i>X66.1538 Y5.0 F300</i><br>\n",
       "<b>M5</b> <i></i><br>\n",
       "<b>G0</b> <i>X74.4231 Y2.5</i><br>\n",
       "<b>M4</b> <i>S150</i><br>\n",
       "<b>G1</b> <i>X74.4231 Y5.0 F300</i><br>\n",
       "<b>M5</b> <i></i><br>\n",
       "<b>G0</b> <i>X4.1346 Y5.0</i><br>\n",
       "<b>M4</b> <i>S150</i><br>\n",
       "<b>G1</b> <i>X4.1346 Y7.5 F300</i><br>\n",
       "<b>M5</b> <i></i><br>\n",
       "<b>G0</b> <i>X12.4038 Y5.0</i><br>\n",
       "<b>M4</b> <i>S150</i><br>\n",
       "<b>G1</b> <i>X12.4038 Y7.5 F300</i><br>\n",
       "<b>M5</b> <i></i><br>\n",
       "<b>G0</b> <i>X20.6731 Y5.0</i><br>\n",
       "<b>M4</b> <i>S150</i><br>\n",
       "<b>G1</b> <i>X20.6731 Y7.5 F300</i><br>\n",
       "<b>M5</b> <i></i><br>\n",
       "<b>G0</b> <i>X28.9423 Y5.0</i><br>\n",
       "<b>M4</b> <i>S150</i><br>\n",
       "<b>G1</b> <i>X28.9423 Y7.5 F300</i><br>\n",
       "<b>M5</b> <i></i><br>\n",
       "<b>G0</b> <i>X37.2115 Y5.0</i><br>\n",
       "<b>M4</b> <i>S150</i><br>\n",
       "<b>G1</b> <i>X37.2115 Y7.5 F300</i><br>\n",
       "<b>M5</b> <i></i><br>\n",
       "<b>G0</b> <i>X45.4808 Y5.0</i><br>\n",
       "<b>M4</b> <i>S150</i><br>\n",
       "<b>G1</b> <i>X45.4808 Y7.5 F300</i><br>\n",
       "<b>M5</b> <i></i><br>\n",
       "<b>G0</b> <i>X53.75 Y5.0</i><br>\n",
       "<b>M4</b> <i>S150</i><br>\n",
       "<b>G1</b> <i>X53.75 Y7.5 F300</i><br>\n",
       "<b>M5</b> <i></i><br>\n",
       "<b>G0</b> <i>X62.0192 Y5.0</i><br>\n",
       "<b>M4</b> <i>S150</i><br>\n",
       "<b>G1</b> <i>X62.0192 Y7.5 F300</i><br>\n",
       "<b>M5</b> <i></i><br>\n",
       "<b>G0</b> <i>X70.2885 Y5.0</i><br>\n",
       "<b>M4</b> <i>S150</i><br>\n",
       "<b>G1</b> <i>X70.2885 Y7.5 F300</i><br>\n",
       "<b>M5</b> <i></i><br>\n",
       "<b>G0</b> <i>X8.2692 Y7.5</i><br>\n",
       "<b>M4</b> <i>S150</i><br>\n",
       "<b>G1</b> <i>X8.2692 Y10.0 F300</i><br>\n",
       "<b>M5</b> <i></i><br>\n",
       "<b>G0</b> <i>X16.5385 Y7.5</i><br>\n",
       "<b>M4</b> <i>S150</i><br>\n",
       "<b>G1</b> <i>X16.5385 Y10.0 F300</i><br>\n",
       "<b>M5</b> <i></i><br>\n",
       "<b>G0</b> <i>X24.8077 Y7.5</i><br>\n",
       "<b>M4</b> <i>S150</i><br>\n",
       "<b>G1</b> <i>X24.8077 Y10.0 F300</i><br>\n",
       "<b>M5</b> <i></i><br>\n",
       "<b>G0</b> <i>X33.0769 Y7.5</i><br>\n",
       "<b>M4</b> <i>S150</i><br>\n",
       "<b>G1</b> <i>X33.0769 Y10.0 F300</i><br>\n",
       "<b>M5</b> <i></i><br>\n",
       "<b>G0</b> <i>X41.3462 Y7.5</i><br>\n",
       "<b>M4</b> <i>S150</i><br>\n",
       "<b>G1</b> <i>X41.3462 Y10.0 F300</i><br>\n",
       "<b>M5</b> <i></i><br>\n",
       "<b>G0</b> <i>X49.6154 Y7.5</i><br>\n",
       "<b>M4</b> <i>S150</i><br>\n",
       "<b>G1</b> <i>X49.6154 Y10.0 F300</i><br>\n",
       "<b>M5</b> <i></i><br>\n",
       "<b>G0</b> <i>X57.8846 Y7.5</i><br>\n",
       "<b>M4</b> <i>S150</i><br>\n",
       "<b>G1</b> <i>X57.8846 Y10.0 F300</i><br>\n",
       "<b>M5</b> <i></i><br>\n",
       "<b>G0</b> <i>X66.1538 Y7.5</i><br>\n",
       "<b>M4</b> <i>S150</i><br>\n",
       "<b>G1</b> <i>X66.1538 Y10.0 F300</i><br>\n",
       "<b>M5</b> <i></i><br>\n",
       "<b>G0</b> <i>X74.4231 Y7.5</i><br>\n",
       "<b>M4</b> <i>S150</i><br>\n",
       "<b>G1</b> <i>X74.4231 Y10.0 F300</i><br>\n",
       "<b>M5</b> <i></i><br>\n",
       "<b>G0</b> <i>X4.1346 Y10.0</i><br>\n",
       "<b>M4</b> <i>S150</i><br>\n",
       "<b>G1</b> <i>X4.1346 Y12.5 F300</i><br>\n",
       "<b>M5</b> <i></i><br>\n",
       "<b>G0</b> <i>X12.4038 Y10.0</i><br>\n",
       "<b>M4</b> <i>S150</i><br>\n",
       "<b>G1</b> <i>X12.4038 Y12.5 F300</i><br>\n",
       "<b>M5</b> <i></i><br>\n",
       "<b>G0</b> <i>X20.6731 Y10.0</i><br>\n",
       "<b>M4</b> <i>S150</i><br>\n",
       "<b>G1</b> <i>X20.6731 Y12.5 F300</i><br>\n",
       "<b>M5</b> <i></i><br>\n",
       "<b>G0</b> <i>X28.9423 Y10.0</i><br>\n",
       "<b>M4</b> <i>S150</i><br>\n",
       "<b>G1</b> <i>X28.9423 Y12.5 F300</i><br>\n",
       "<b>M5</b> <i></i><br>\n",
       "<b>G0</b> <i>X37.2115 Y10.0</i><br>\n",
       "<b>M4</b> <i>S150</i><br>\n",
       "<b>G1</b> <i>X37.2115 Y12.5 F300</i><br>\n",
       "<b>M5</b> <i></i><br>\n",
       "<b>G0</b> <i>X45.4808 Y10.0</i><br>\n",
       "<b>M4</b> <i>S150</i><br>\n",
       "<b>G1</b> <i>X45.4808 Y12.5 F300</i><br>\n",
       "<b>M5</b> <i></i><br>\n",
       "<b>G0</b> <i>X53.75 Y10.0</i><br>\n",
       "<b>M4</b> <i>S150</i><br>\n",
       "<b>G1</b> <i>X53.75 Y12.5 F300</i><br>\n",
       "<b>M5</b> <i></i><br>\n",
       "<b>G0</b> <i>X62.0192 Y10.0</i><br>\n",
       "<b>M4</b> <i>S150</i><br>\n",
       "<b>G1</b> <i>X62.0192 Y12.5 F300</i><br>\n",
       "<b>M5</b> <i></i><br>\n",
       "<b>G0</b> <i>X70.2885 Y10.0</i><br>\n",
       "<b>M4</b> <i>S150</i><br>\n",
       "<b>G1</b> <i>X70.2885 Y12.5 F300</i><br>\n",
       "<b>M5</b> <i></i><br>\n",
       "<b>G0</b> <i>X8.2692 Y12.5</i><br>\n",
       "<b>M4</b> <i>S150</i><br>\n",
       "<b>G1</b> <i>X8.2692 Y15.0 F300</i><br>\n",
       "<b>M5</b> <i></i><br>\n",
       "<b>G0</b> <i>X16.5385 Y12.5</i><br>\n",
       "<b>M4</b> <i>S150</i><br>\n",
       "<b>G1</b> <i>X16.5385 Y15.0 F300</i><br>\n",
       "<b>M5</b> <i></i><br>\n",
       "<b>G0</b> <i>X24.8077 Y12.5</i><br>\n",
       "<b>M4</b> <i>S150</i><br>\n",
       "<b>G1</b> <i>X24.8077 Y15.0 F300</i><br>\n",
       "<b>M5</b> <i></i><br>\n",
       "<b>G0</b> <i>X33.0769 Y12.5</i><br>\n",
       "<b>M4</b> <i>S150</i><br>\n",
       "<b>G1</b> <i>X33.0769 Y15.0 F300</i><br>\n",
       "<b>M5</b> <i></i><br>\n",
       "<b>G0</b> <i>X41.3462 Y12.5</i><br>\n",
       "<b>M4</b> <i>S150</i><br>\n",
       "<b>G1</b> <i>X41.3462 Y15.0 F300</i><br>\n",
       "<b>M5</b> <i></i><br>\n",
       "<b>G0</b> <i>X49.6154 Y12.5</i><br>\n",
       "<b>M4</b> <i>S150</i><br>\n",
       "<b>G1</b> <i>X49.6154 Y15.0 F300</i><br>\n",
       "<b>M5</b> <i></i><br>\n",
       "<b>G0</b> <i>X57.8846 Y12.5</i><br>\n",
       "<b>M4</b> <i>S150</i><br>\n",
       "<b>G1</b> <i>X57.8846 Y15.0 F300</i><br>\n",
       "<b>M5</b> <i></i><br>\n",
       "<b>G0</b> <i>X66.1538 Y12.5</i><br>\n",
       "<b>M4</b> <i>S150</i><br>\n",
       "<b>G1</b> <i>X66.1538 Y15.0 F300</i><br>\n",
       "<b>M5</b> <i></i><br>\n",
       "<b>G0</b> <i>X74.4231 Y12.5</i><br>\n",
       "<b>M4</b> <i>S150</i><br>\n",
       "<b>G1</b> <i>X74.4231 Y15.0 F300</i><br>\n",
       "<b>M5</b> <i></i><br>\n",
       "<b>G0</b> <i>X4.1346 Y15.0</i><br>\n",
       "<b>M4</b> <i>S150</i><br>\n",
       "<b>G1</b> <i>X4.1346 Y17.5 F300</i><br>\n",
       "<b>M5</b> <i></i><br>\n",
       "<b>G0</b> <i>X12.4038 Y15.0</i><br>\n",
       "<b>M4</b> <i>S150</i><br>\n",
       "<b>G1</b> <i>X12.4038 Y17.5 F300</i><br>\n",
       "<b>M5</b> <i></i><br>\n",
       "<b>G0</b> <i>X20.6731 Y15.0</i><br>\n",
       "<b>M4</b> <i>S150</i><br>\n",
       "<b>G1</b> <i>X20.6731 Y17.5 F300</i><br>\n",
       "<b>M5</b> <i></i><br>\n",
       "<b>G0</b> <i>X28.9423 Y15.0</i><br>\n",
       "<b>M4</b> <i>S150</i><br>\n",
       "<b>G1</b> <i>X28.9423 Y17.5 F300</i><br>\n",
       "<b>M5</b> <i></i><br>\n",
       "<b>G0</b> <i>X37.2115 Y15.0</i><br>\n",
       "<b>M4</b> <i>S150</i><br>\n",
       "<b>G1</b> <i>X37.2115 Y17.5 F300</i><br>\n",
       "<b>M5</b> <i></i><br>\n",
       "<b>G0</b> <i>X45.4808 Y15.0</i><br>\n",
       "<b>M4</b> <i>S150</i><br>\n",
       "<b>G1</b> <i>X45.4808 Y17.5 F300</i><br>\n",
       "<b>M5</b> <i></i><br>\n",
       "<b>G0</b> <i>X53.75 Y15.0</i><br>\n",
       "<b>M4</b> <i>S150</i><br>\n",
       "<b>G1</b> <i>X53.75 Y17.5 F300</i><br>\n",
       "<b>M5</b> <i></i><br>\n",
       "<b>G0</b> <i>X62.0192 Y15.0</i><br>\n",
       "<b>M4</b> <i>S150</i><br>\n",
       "<b>G1</b> <i>X62.0192 Y17.5 F300</i><br>\n",
       "<b>M5</b> <i></i><br>\n",
       "<b>G0</b> <i>X70.2885 Y15.0</i><br>\n",
       "<b>M4</b> <i>S150</i><br>\n",
       "<b>G1</b> <i>X70.2885 Y17.5 F300</i><br>\n",
       "<b>M5</b> <i></i><br>\n",
       "<b>G0</b> <i>X8.2692 Y17.5</i><br>\n",
       "<b>M4</b> <i>S150</i><br>\n",
       "<b>G1</b> <i>X8.2692 Y20.0 F300</i><br>\n",
       "<b>M5</b> <i></i><br>\n",
       "<b>G0</b> <i>X16.5385 Y17.5</i><br>\n",
       "<b>M4</b> <i>S150</i><br>\n",
       "<b>G1</b> <i>X16.5385 Y20.0 F300</i><br>\n",
       "<b>M5</b> <i></i><br>\n",
       "<b>G0</b> <i>X24.8077 Y17.5</i><br>\n",
       "<b>M4</b> <i>S150</i><br>\n",
       "<b>G1</b> <i>X24.8077 Y20.0 F300</i><br>\n",
       "<b>M5</b> <i></i><br>\n",
       "<b>G0</b> <i>X33.0769 Y17.5</i><br>\n",
       "<b>M4</b> <i>S150</i><br>\n",
       "<b>G1</b> <i>X33.0769 Y20.0 F300</i><br>\n",
       "<b>M5</b> <i></i><br>\n",
       "<b>G0</b> <i>X41.3462 Y17.5</i><br>\n",
       "<b>M4</b> <i>S150</i><br>\n",
       "<b>G1</b> <i>X41.3462 Y20.0 F300</i><br>\n",
       "<b>M5</b> <i></i><br>\n",
       "<b>G0</b> <i>X49.6154 Y17.5</i><br>\n",
       "<b>M4</b> <i>S150</i><br>\n",
       "<b>G1</b> <i>X49.6154 Y20.0 F300</i><br>\n",
       "<b>M5</b> <i></i><br>\n",
       "<b>G0</b> <i>X57.8846 Y17.5</i><br>\n",
       "<b>M4</b> <i>S150</i><br>\n",
       "<b>G1</b> <i>X57.8846 Y20.0 F300</i><br>\n",
       "<b>M5</b> <i></i><br>\n",
       "<b>G0</b> <i>X66.1538 Y17.5</i><br>\n",
       "<b>M4</b> <i>S150</i><br>\n",
       "<b>G1</b> <i>X66.1538 Y20.0 F300</i><br>\n",
       "<b>M5</b> <i></i><br>\n",
       "<b>G0</b> <i>X74.4231 Y17.5</i><br>\n",
       "<b>M4</b> <i>S150</i><br>\n",
       "<b>G1</b> <i>X74.4231 Y20.0 F300</i><br>\n",
       "<b>M5</b> <i></i><br>\n",
       "<b>G0</b> <i>X4.1346 Y20.0</i><br>\n",
       "<b>M4</b> <i>S150</i><br>\n",
       "<b>G1</b> <i>X4.1346 Y22.5 F300</i><br>\n",
       "<b>M5</b> <i></i><br>\n",
       "<b>G0</b> <i>X12.4038 Y20.0</i><br>\n",
       "<b>M4</b> <i>S150</i><br>\n",
       "<b>G1</b> <i>X12.4038 Y22.5 F300</i><br>\n",
       "<b>M5</b> <i></i><br>\n",
       "<b>G0</b> <i>X20.6731 Y20.0</i><br>\n",
       "<b>M4</b> <i>S150</i><br>\n",
       "<b>G1</b> <i>X20.6731 Y22.5 F300</i><br>\n",
       "<b>M5</b> <i></i><br>\n",
       "<b>G0</b> <i>X28.9423 Y20.0</i><br>\n",
       "<b>M4</b> <i>S150</i><br>\n",
       "<b>G1</b> <i>X28.9423 Y22.5 F300</i><br>\n",
       "<b>M5</b> <i></i><br>\n",
       "<b>G0</b> <i>X37.2115 Y20.0</i><br>\n",
       "<b>M4</b> <i>S150</i><br>\n",
       "<b>G1</b> <i>X37.2115 Y22.5 F300</i><br>\n",
       "<b>M5</b> <i></i><br>\n",
       "<b>G0</b> <i>X45.4808 Y20.0</i><br>\n",
       "<b>M4</b> <i>S150</i><br>\n",
       "<b>G1</b> <i>X45.4808 Y22.5 F300</i><br>\n",
       "<b>M5</b> <i></i><br>\n",
       "<b>G0</b> <i>X53.75 Y20.0</i><br>\n",
       "<b>M4</b> <i>S150</i><br>\n",
       "<b>G1</b> <i>X53.75 Y22.5 F300</i><br>\n",
       "<b>M5</b> <i></i><br>\n",
       "<b>G0</b> <i>X62.0192 Y20.0</i><br>\n",
       "<b>M4</b> <i>S150</i><br>\n",
       "<b>G1</b> <i>X62.0192 Y22.5 F300</i><br>\n",
       "<b>M5</b> <i></i><br>\n",
       "<b>G0</b> <i>X70.2885 Y20.0</i><br>\n",
       "<b>M4</b> <i>S150</i><br>\n",
       "<b>G1</b> <i>X70.2885 Y22.5 F300</i><br>\n",
       "<b>M5</b> <i></i><br>\n",
       "<b>G0</b> <i>X8.2692 Y22.5</i><br>\n",
       "<b>M4</b> <i>S150</i><br>\n",
       "<b>G1</b> <i>X8.2692 Y25.0 F300</i><br>\n",
       "<b>M5</b> <i></i><br>\n",
       "<b>G0</b> <i>X16.5385 Y22.5</i><br>\n",
       "<b>M4</b> <i>S150</i><br>\n",
       "<b>G1</b> <i>X16.5385 Y25.0 F300</i><br>\n",
       "<b>M5</b> <i></i><br>\n",
       "<b>G0</b> <i>X24.8077 Y22.5</i><br>\n",
       "<b>M4</b> <i>S150</i><br>\n",
       "<b>G1</b> <i>X24.8077 Y25.0 F300</i><br>\n",
       "<b>M5</b> <i></i><br>\n",
       "<b>G0</b> <i>X33.0769 Y22.5</i><br>\n",
       "<b>M4</b> <i>S150</i><br>\n",
       "<b>G1</b> <i>X33.0769 Y25.0 F300</i><br>\n",
       "<b>M5</b> <i></i><br>\n",
       "<b>G0</b> <i>X41.3462 Y22.5</i><br>\n",
       "<b>M4</b> <i>S150</i><br>\n",
       "<b>G1</b> <i>X41.3462 Y25.0 F300</i><br>\n",
       "<b>M5</b> <i></i><br>\n",
       "<b>G0</b> <i>X49.6154 Y22.5</i><br>\n",
       "<b>M4</b> <i>S150</i><br>\n",
       "<b>G1</b> <i>X49.6154 Y25.0 F300</i><br>\n",
       "<b>M5</b> <i></i><br>\n",
       "<b>G0</b> <i>X57.8846 Y22.5</i><br>\n",
       "<b>M4</b> <i>S150</i><br>\n",
       "<b>G1</b> <i>X57.8846 Y25.0 F300</i><br>\n",
       "<b>M5</b> <i></i><br>\n",
       "<b>G0</b> <i>X66.1538 Y22.5</i><br>\n",
       "<b>M4</b> <i>S150</i><br>\n",
       "<b>G1</b> <i>X66.1538 Y25.0 F300</i><br>\n",
       "<b>M5</b> <i></i><br>\n",
       "<b>G0</b> <i>X74.4231 Y22.5</i><br>\n",
       "<b>M4</b> <i>S150</i><br>\n",
       "<b>G1</b> <i>X74.4231 Y25.0 F300</i><br>\n",
       "<b>M5</b> <i></i><br>\n",
       "<b>M5</b> <i></i><br>\n",
       "<b>G28</b> <i></i>"
      ],
      "text/plain": [
       "Program<lines=99>"
      ]
     },
     "execution_count": 110,
     "metadata": {},
     "output_type": "execute_result"
    }
   ],
   "source": [
    "BlockBrick"
   ]
  },
  {
   "cell_type": "code",
   "execution_count": 111,
   "metadata": {},
   "outputs": [
    {
     "data": {
      "text/plain": [
       "(0, ['ok', '', \"Grbl 1.1f ['$' for help]\", 'ok'])"
      ]
     },
     "execution_count": 111,
     "metadata": {},
     "output_type": "execute_result"
    }
   ],
   "source": [
    "cnc = GRBL.GRBL(port=\"/dev/cnc_3018\")\n",
    "cnc.reset()"
   ]
  },
  {
   "cell_type": "code",
   "execution_count": 112,
   "metadata": {},
   "outputs": [
    {
     "data": {
      "text/plain": [
       "'<Idle|MPos:-255.900,-136.000,-1.000|Bf:15,127|FS:0,0|WCO:0.000,0.000,0.000>'"
      ]
     },
     "execution_count": 112,
     "metadata": {},
     "output_type": "execute_result"
    }
   ],
   "source": [
    "cnc.status"
   ]
  },
  {
   "cell_type": "code",
   "execution_count": 113,
   "metadata": {},
   "outputs": [],
   "source": [
    "BlockBrick.machine=cnc"
   ]
  },
  {
   "cell_type": "code",
   "execution_count": 114,
   "metadata": {},
   "outputs": [],
   "source": [
    "BlockBrick.run()"
   ]
  },
  {
   "cell_type": "code",
   "execution_count": 88,
   "metadata": {},
   "outputs": [
    {
     "data": {
      "text/html": [
       "<b>G0</b> <i>X0.0 Y3.125</i><br>\n",
       "<b>M4</b> <i>S150</i><br>\n",
       "<b>G1</b> <i>X75.0 Y3.125 F300</i><br>\n",
       "<b>M5</b> <i></i>"
      ],
      "text/plain": [
       "Line<cut=75.0mm, F=300, S=150>"
      ]
     },
     "execution_count": 88,
     "metadata": {},
     "output_type": "execute_result"
    }
   ],
   "source": [
    "BlockBrick.lines[0]"
   ]
  },
  {
   "cell_type": "code",
   "execution_count": 89,
   "metadata": {},
   "outputs": [
    {
     "data": {
      "text/plain": [
       "150"
      ]
     },
     "execution_count": 89,
     "metadata": {},
     "output_type": "execute_result"
    }
   ],
   "source": [
    "BlockBrick.lines[0].power"
   ]
  },
  {
   "cell_type": "code",
   "execution_count": 90,
   "metadata": {},
   "outputs": [
    {
     "data": {
      "text/plain": [
       "True"
      ]
     },
     "execution_count": 90,
     "metadata": {},
     "output_type": "execute_result"
    }
   ],
   "source": [
    "BlockBrick.lines[0].dynamic_power"
   ]
  },
  {
   "cell_type": "code",
   "execution_count": null,
   "metadata": {},
   "outputs": [],
   "source": [
    "BlockBrick.run()"
   ]
  }
 ],
 "metadata": {
  "kernelspec": {
   "display_name": "Python 3",
   "language": "python",
   "name": "python3"
  },
  "language_info": {
   "codemirror_mode": {
    "name": "ipython",
    "version": 3
   },
   "file_extension": ".py",
   "mimetype": "text/x-python",
   "name": "python",
   "nbconvert_exporter": "python",
   "pygments_lexer": "ipython3",
   "version": "3.6.5"
  }
 },
 "nbformat": 4,
 "nbformat_minor": 2
}
