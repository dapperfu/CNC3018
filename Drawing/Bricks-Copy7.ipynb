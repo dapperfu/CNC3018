{
 "cells": [
  {
   "cell_type": "code",
   "execution_count": 11,
   "metadata": {},
   "outputs": [],
   "source": [
    "import os\n",
    "import sys\n",
    "import time\n",
    "\n",
    "import numpy as np\n",
    "\n",
    "import GCode\n",
    "import GRBL"
   ]
  },
  {
   "cell_type": "markdown",
   "metadata": {},
   "source": [
    "# Draw a Brick Pattern\n",
    "\n",
    "Attempt at programmatically making a brick pattern.\n",
    "\n",
    "All units in mm. ```1``` = ```1 mm```."
   ]
  },
  {
   "cell_type": "markdown",
   "metadata": {},
   "source": [
    "\"Napkin\" scratches.\n",
    "\n",
    "![](http://luckofthedraw.fun/.imgs/brick_0003.jpeg)\n",
    "\n",
    "Drawn by hand. ~18mm brick height.\n",
    "\n",
    "![](http://luckofthedraw.fun/.imgs/brick_0001.jpeg)"
   ]
  },
  {
   "cell_type": "markdown",
   "metadata": {},
   "source": [
    "> Standard bricks. The standard co-ordinating size for brickwork is 225 mm x 112.5 mm x 75 mm (length x depth x height). This includes 10 mm mortar joints, and so the standard size for a brick itself is 215 mm x 102.5 mm x 65 mm (length x depth x height)."
   ]
  },
  {
   "cell_type": "code",
   "execution_count": 20,
   "metadata": {},
   "outputs": [],
   "source": [
    "# Standard brick dimensions.\n",
    "BrickHeight = 65  # [mm]\n",
    "BrickLength = 225  # [mm]\n",
    "BrickDepth = 12.5  # [mm]\n",
    "BrickRatio = 215 / 65  # [dimensionless]\n"
   ]
  },
  {
   "cell_type": "code",
   "execution_count": 21,
   "metadata": {},
   "outputs": [],
   "source": [
    "# Poplar 1x4\". Cut\n",
    "BlockHeight = 89.0  # mm\n",
    "BlockLength = 2 * BlockHeight  # mm\n"
   ]
  },
  {
   "cell_type": "code",
   "execution_count": 24,
   "metadata": {},
   "outputs": [],
   "source": [
    "# Drawing configuration.\n",
    "# How many rows of bricks to draw on the block.\n",
    "N_BrickRows = 5  # [dimensionless]\n",
    "\n",
    "# Dimensions of a 'brick' projected onto the block of wood.\n",
    "H_Block_Brick = BlockHeight / N_BrickRows  # [mm]\n",
    "L_Block_Brick = H_Block_Brick * BrickRatio  # [mm]\n"
   ]
  },
  {
   "cell_type": "markdown",
   "metadata": {},
   "source": [
    "# Code:"
   ]
  },
  {
   "cell_type": "code",
   "execution_count": 25,
   "metadata": {},
   "outputs": [],
   "source": [
    "flip = np.array([[1, 1], [1, 0]])\n",
    "transform_tuple = (\n",
    "    np.eye(2), # Identity matrix, do nothing.\n",
    "    np.eye(2), # Do nothing, for debugging.\n",
    "    flip # Flip the matrix, reduces travel time.\n",
    ")\n",
    "vertical_brick_lines_tuple = (\n",
    "    np.round(np.arange(L_Block_Brick, BlockLength, L_Block_Brick), 4), # Odd rows.\n",
    "    np.round(np.arange(L_Block_Brick/2, BlockLength, L_Block_Brick), 4), # Even rows.\n",
    ");\n",
    "horizontal_brick_lines = np.round(np.linspace(0, BlockHeight, N_BrickRows, endpoint=False), 4)\n"
   ]
  },
  {
   "cell_type": "markdown",
   "metadata": {},
   "source": [
    "Lines parallel to the X-axis.\n",
    "Separates rows of bricks."
   ]
  },
  {
   "cell_type": "code",
   "execution_count": 27,
   "metadata": {},
   "outputs": [
    {
     "data": {
      "text/plain": [
       "array([ 0. , 17.8, 35.6, 53.4, 71.2])"
      ]
     },
     "execution_count": 27,
     "metadata": {},
     "output_type": "execute_result"
    }
   ],
   "source": [
    "horizontal_brick_lines"
   ]
  },
  {
   "cell_type": "markdown",
   "metadata": {},
   "source": [
    "Lines parallel to the Y-axis."
   ]
  },
  {
   "cell_type": "code",
   "execution_count": 28,
   "metadata": {},
   "outputs": [
    {
     "data": {
      "text/plain": [
       "(array([ 58.8769, 117.7538, 176.6308]), array([ 29.4385,  88.3154, 147.1923]))"
      ]
     },
     "execution_count": 28,
     "metadata": {},
     "output_type": "execute_result"
    }
   ],
   "source": [
    "vertical_brick_lines_tuple"
   ]
  },
  {
   "cell_type": "code",
   "execution_count": 34,
   "metadata": {},
   "outputs": [],
   "source": [
    "points = list()\n",
    "\n",
    "\n",
    "lines = list()\n",
    "\n",
    "for idx in range(1, len(horizontal_brick_lines)):\n",
    "    # Top horizontal line that defines each 'brick'\n",
    "    horizontal_brick_line=horizontal_brick_lines[idx]\n",
    "    row_line_points = np.array(\n",
    "            [\n",
    "                [\n",
    "                    0,\n",
    "                    horizontal_brick_line\n",
    "                ],\n",
    "                [\n",
    "                    BlockLength,\n",
    "                    horizontal_brick_line\n",
    "                ]\n",
    "            ]\n",
    "        )\n",
    "\n",
    "    # Transform to perform on the row points.\n",
    "    transform = transform_tuple[np.mod(idx, 2)]\n",
    "    row_line_points = np.round(np.matmul(transform, row_line_points),4)\n",
    "    lines.append(GCode.Line(row_line_points))\n",
    "\n",
    "    # Vertical brick line.\n",
    "    vertical_brick_lines = vertical_brick_lines_tuple[np.mod(idx, 2)]\n",
    "    start_point_y = horizontal_brick_lines[idx-1]\n",
    "    end_point_y = horizontal_brick_lines[idx]\n",
    "    for idx2, vertical_brick_line in enumerate(vertical_brick_lines):\n",
    "        transform = np.round(transform_tuple[np.mod(idx2, 2)], 4)\n",
    "        \n",
    "        column_line_points =np.array(\n",
    "                [\n",
    "                    [start_point_y, vertical_brick_line],\n",
    "                    [end_point_y, vertical_brick_line]\n",
    "                ]\n",
    "            ),\n",
    "        column_line_points = np.matmul(transform, column_line_points)\n",
    "        lines.append(GCode.Line(row_line_points))"
   ]
  },
  {
   "cell_type": "code",
   "execution_count": 36,
   "metadata": {},
   "outputs": [
    {
     "data": {
      "text/plain": [
       "[<GCode>[cmds=0],\n",
       " <GCode>[cmds=0],\n",
       " <GCode>[cmds=0],\n",
       " <GCode>[cmds=0],\n",
       " <GCode>[cmds=0],\n",
       " <GCode>[cmds=0],\n",
       " <GCode>[cmds=0],\n",
       " <GCode>[cmds=0],\n",
       " <GCode>[cmds=0],\n",
       " <GCode>[cmds=0],\n",
       " <GCode>[cmds=0],\n",
       " <GCode>[cmds=0],\n",
       " <GCode>[cmds=0],\n",
       " <GCode>[cmds=0],\n",
       " <GCode>[cmds=0],\n",
       " <GCode>[cmds=0]]"
      ]
     },
     "execution_count": 36,
     "metadata": {},
     "output_type": "execute_result"
    }
   ],
   "source": [
    "lines"
   ]
  },
  {
   "cell_type": "code",
   "execution_count": 37,
   "metadata": {},
   "outputs": [],
   "source": [
    "for line in lines:\n",
    "    break"
   ]
  },
  {
   "cell_type": "code",
   "execution_count": 38,
   "metadata": {},
   "outputs": [],
   "source": [
    "line.generate_gcode()"
   ]
  },
  {
   "cell_type": "code",
   "execution_count": 39,
   "metadata": {},
   "outputs": [
    {
     "data": {
      "text/plain": [
       "[<GCode>[cmds=11],\n",
       " <GCode>[cmds=0],\n",
       " <GCode>[cmds=0],\n",
       " <GCode>[cmds=0],\n",
       " <GCode>[cmds=0],\n",
       " <GCode>[cmds=0],\n",
       " <GCode>[cmds=0],\n",
       " <GCode>[cmds=0],\n",
       " <GCode>[cmds=0],\n",
       " <GCode>[cmds=0],\n",
       " <GCode>[cmds=0],\n",
       " <GCode>[cmds=0],\n",
       " <GCode>[cmds=0],\n",
       " <GCode>[cmds=0],\n",
       " <GCode>[cmds=0],\n",
       " <GCode>[cmds=0]]"
      ]
     },
     "execution_count": 39,
     "metadata": {},
     "output_type": "execute_result"
    }
   ],
   "source": [
    "lines"
   ]
  },
  {
   "cell_type": "code",
   "execution_count": 45,
   "metadata": {},
   "outputs": [
    {
     "data": {
      "text/plain": [
       "[None,\n",
       " None,\n",
       " None,\n",
       " None,\n",
       " None,\n",
       " None,\n",
       " None,\n",
       " None,\n",
       " None,\n",
       " None,\n",
       " None,\n",
       " None,\n",
       " None,\n",
       " None,\n",
       " None,\n",
       " None]"
      ]
     },
     "execution_count": 45,
     "metadata": {},
     "output_type": "execute_result"
    }
   ],
   "source": [
    "list(map(lambda line: line.generate_gcode(), lines))"
   ]
  },
  {
   "cell_type": "code",
   "execution_count": 46,
   "metadata": {},
   "outputs": [
    {
     "data": {
      "text/plain": [
       "[<GCode>[cmds=11],\n",
       " <GCode>[cmds=11],\n",
       " <GCode>[cmds=11],\n",
       " <GCode>[cmds=11],\n",
       " <GCode>[cmds=11],\n",
       " <GCode>[cmds=11],\n",
       " <GCode>[cmds=11],\n",
       " <GCode>[cmds=11],\n",
       " <GCode>[cmds=11],\n",
       " <GCode>[cmds=11],\n",
       " <GCode>[cmds=11],\n",
       " <GCode>[cmds=11],\n",
       " <GCode>[cmds=11],\n",
       " <GCode>[cmds=11],\n",
       " <GCode>[cmds=11],\n",
       " <GCode>[cmds=11]]"
      ]
     },
     "execution_count": 46,
     "metadata": {},
     "output_type": "execute_result"
    }
   ],
   "source": [
    "lines"
   ]
  },
  {
   "cell_type": "code",
   "execution_count": 48,
   "metadata": {},
   "outputs": [
    {
     "data": {
      "text/html": [
       "<b>G0</b> <i>F60</i><br>\n",
       "<b>G1</b> <i>F60</i><br>\n",
       "<b>M3</b> <i>S1</i><br>\n",
       "<b>G28</b> <i></i><br>\n",
       "<b>G21</b> <i></i><br>\n",
       "<b>G90</b> <i></i><br>\n",
       "<b>G92</b> <i>X0 Y0 Z0</i><br>\n",
       "<b>G0</b> <i>X0.0 Y17.8</i><br>\n",
       "<b>M4</b> <i>S150</i><br>\n",
       "<b>G1</b> <i>X178.0 Y17.8 F300</i><br>\n",
       "<b>M5</b> <i></i>"
      ],
      "text/plain": [
       "<GCode>[cmds=11]"
      ]
     },
     "execution_count": 48,
     "metadata": {},
     "output_type": "execute_result"
    }
   ],
   "source": [
    "line"
   ]
  },
  {
   "cell_type": "code",
   "execution_count": 49,
   "metadata": {},
   "outputs": [
    {
     "data": {
      "text/plain": [
       "True"
      ]
     },
     "execution_count": 49,
     "metadata": {},
     "output_type": "execute_result"
    }
   ],
   "source": [
    "line.dynamic_power"
   ]
  }
 ],
 "metadata": {
  "kernelspec": {
   "display_name": "Python 3",
   "language": "python",
   "name": "python3"
  },
  "language_info": {
   "codemirror_mode": {
    "name": "ipython",
    "version": 3
   },
   "file_extension": ".py",
   "mimetype": "text/x-python",
   "name": "python",
   "nbconvert_exporter": "python",
   "pygments_lexer": "ipython3",
   "version": "3.6.5"
  }
 },
 "nbformat": 4,
 "nbformat_minor": 2
}
