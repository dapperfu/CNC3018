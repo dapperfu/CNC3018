{
 "cells": [
  {
   "cell_type": "code",
   "execution_count": 1,
   "metadata": {},
   "outputs": [],
   "source": [
    "import os\n",
    "import sys\n",
    "import time\n",
    "\n",
    "import numpy as np\n",
    "\n",
    "import GCode\n",
    "import GRBL"
   ]
  },
  {
   "cell_type": "markdown",
   "metadata": {},
   "source": [
    "# Draw a Brick Pattern\n",
    "\n",
    "Attempt at programmatically making a brick pattern.\n",
    "\n",
    "All units in mm. ```1``` = ```1 mm```."
   ]
  },
  {
   "cell_type": "markdown",
   "metadata": {},
   "source": [
    "\"Napkin\" scratches.\n",
    "\n",
    "![](http://luckofthedraw.fun/.imgs/brick_0003.jpeg)\n",
    "\n",
    "Drawn by hand. ~18mm brick height.\n",
    "\n",
    "![](http://luckofthedraw.fun/.imgs/brick_0001.jpeg)"
   ]
  },
  {
   "cell_type": "markdown",
   "metadata": {},
   "source": [
    "> Standard bricks. The standard co-ordinating size for brickwork is 225 mm x 112.5 mm x 75 mm (length x depth x height). This includes 10 mm mortar joints, and so the standard size for a brick itself is 215 mm x 102.5 mm x 65 mm (length x depth x height)."
   ]
  },
  {
   "cell_type": "code",
   "execution_count": 2,
   "metadata": {},
   "outputs": [],
   "source": [
    "# Standard brick dimensions.\n",
    "BrickHeight = 65  # [mm]\n",
    "BrickLength = 225  # [mm]\n",
    "BrickDepth = 12.5  # [mm]\n",
    "BrickRatio = 215 / 65  # [dimensionless]\n"
   ]
  },
  {
   "cell_type": "code",
   "execution_count": 3,
   "metadata": {},
   "outputs": [],
   "source": [
    "# Poplar 1x4\". Cut\n",
    "BlockHeight = 89.0  # mm\n",
    "BlockLength = 2 * BlockHeight  # mm\n"
   ]
  },
  {
   "cell_type": "code",
   "execution_count": 4,
   "metadata": {},
   "outputs": [],
   "source": [
    "# Drawing configuration.\n",
    "# How many rows of bricks to draw on the block.\n",
    "N_BrickRows = 5  # [dimensionless]\n",
    "\n",
    "# Dimensions of a 'brick' projected onto the block of wood.\n",
    "H_Block_Brick = BlockHeight / N_BrickRows  # [mm]\n",
    "L_Block_Brick = H_Block_Brick * BrickRatio, 4  # [mm]\n"
   ]
  },
  {
   "cell_type": "markdown",
   "metadata": {},
   "source": [
    "# Code:"
   ]
  },
  {
   "cell_type": "markdown",
   "metadata": {},
   "source": [
    "# Default Line\n",
    "\n",
    "Sane default for the ```draw_line``` command. Designed so that ```draw_line()``` does something that is easly measureable.\n",
    "\n",
    "Draw a 30-60-90 triangle.\n",
    "\n",
    "From: https://www.dummies.com/education/math/calculus/how-to-work-with-30-60-90-degree-triangles.\n",
    "\n",
    "If you look at the 30:60:90-degree triangle in radians, it translates to the following:\n",
    "\n",
    "$$\\frac{\\pi}{6}:\\frac{\\pi}{3}:\\frac{\\pi}{2}$$\n",
    "\n",
    "In any 30-60-90 triangle, you see the following:\n",
    "\n",
    "- The shortest leg is across from the 30-degree angle.\n",
    "\n",
    "- The length of the hypotenuse is always two times the length of the shortest leg.\n",
    "\n",
    "- You can find the long leg by multiplying the short leg by the square root of 3.\n",
    "\n",
    "If you know one side of a 30-60-90 triangle, you can find the other two by using shortcuts. Here are the three situations you come across when doing these calculations:\n",
    "\n",
    "- **Type 1**: You know the short leg (the side across from the 30-degree angle). Double its length to find the hypotenuse. You can multiply the short side by the square root of 3 to find the long leg.\n",
    "\n",
    "- **Type 2**: You know the hypotenuse. Divide the hypotenuse by 2 to find the short side. Multiply this answer by the square root of 3 to find the long leg.\n",
    "\n",
    "- **Type 3**: You know the long leg (the side across from the 60-degree angle). Divide this side by the square root of 3 to find the short side. Double that figure to find the hypotenuse.\n",
    "\n",
    "Let:\n",
    "\n",
    "- a: Shortest Side. Opposite 30$^o$ ($\\frac{\\pi}{6}$)"
   ]
  },
  {
   "cell_type": "code",
   "execution_count": 5,
   "metadata": {},
   "outputs": [],
   "source": [
    "a = 10  # [mm]. Shorest leg of the triangle will be 10 mm, 1 cm, 0.01 m long.\n"
   ]
  },
  {
   "cell_type": "markdown",
   "metadata": {},
   "source": [
    "Default settings for feed rate and laser power:"
   ]
  },
  {
   "cell_type": "code",
   "execution_count": null,
   "metadata": {},
   "outputs": [],
   "source": [
    "default_feed = 300  # mm/n\n",
    "default_power = 150  # [dimensionless]\n"
   ]
  },
  {
   "cell_type": "code",
   "execution_count": null,
   "metadata": {},
   "outputs": [],
   "source": [
    "class Line(GCode):\n",
    "    def __init__(\n",
    "        self,\n",
    "        points=default_points,\n",
    "        feed=default_feed,\n",
    "        power=default_power,\n",
    "        dynamic_power=True,\n",
    "        *args,\n",
    "        **kwargs,\n",
    "    ):\n",
    "        super().__init__(*args, **kwargs)\n",
    "\n",
    "        self.points = points\n",
    "        self.feed = feed\n",
    "        self.power = power\n",
    "        self.dynamic_power = dynamic_power\n",
    "\n",
    "    def generate_gcode(self):\n",
    "        self.buffer = list()\n",
    "        self.G0(F=60)  # 60 mm / min = 1 mm / sec\n",
    "        self.G1(F=60)  # 60 mm / min = 1 mm / sec\n",
    "        self.M3(\n",
    "            S=1\n",
    "        )  # Set laser power so that movement can be seen, but does nothing.\n",
    "        self.G28()  # \"Home\"\n",
    "        self.G21()  # Metric Units\n",
    "        self.G90()  # Absolute positioning.\n",
    "        self.G92(\n",
    "            X=0, Y=0, Z=0\n",
    "        )  # The cliche, I forgot why I added it. It works. Don't touch it.\n",
    "\n",
    "        self.G0(X=self.points[0, 0], Y=self.points[0, 1])\n",
    "\n",
    "        if self.dynamic_power:\n",
    "            self.M4(S=self.power)\n",
    "        else:\n",
    "            self.M4(S=self.power)\n",
    "\n",
    "        for row_idx in range(1, self.points.shape[0]):\n",
    "            self.G1(\n",
    "                X=self.points[row_idx, 0],\n",
    "                Y=self.points[row_idx, 1],\n",
    "                F=self.feed,\n",
    "            )\n",
    "        self.M5()\n",
    "\n",
    "\n",
    "self = Line()\n",
    "self.generate_gcode()\n",
    "self.buffer\n"
   ]
  }
 ],
 "metadata": {
  "kernelspec": {
   "display_name": "Python 3",
   "language": "python",
   "name": "python3"
  },
  "language_info": {
   "codemirror_mode": {
    "name": "ipython",
    "version": 3
   },
   "file_extension": ".py",
   "mimetype": "text/x-python",
   "name": "python",
   "nbconvert_exporter": "python",
   "pygments_lexer": "ipython3",
   "version": "3.6.5"
  }
 },
 "nbformat": 4,
 "nbformat_minor": 2
}
