{
 "cells": [
  {
   "cell_type": "code",
   "execution_count": 1,
   "metadata": {},
   "outputs": [],
   "source": [
    "import os\n",
    "import sys\n",
    "import time\n",
    "\n",
    "import matplotlib.pyplot as plt\n",
    "import numpy as np\n",
    "\n",
    "import GCode\n",
    "import GRBL\n"
   ]
  },
  {
   "cell_type": "code",
   "execution_count": 3,
   "metadata": {},
   "outputs": [],
   "source": [
    "sys.path.append(os.path.abspath(\"..\"))\n",
    "from utils import picture"
   ]
  },
  {
   "cell_type": "markdown",
   "metadata": {},
   "source": [
    "# Draw a Brick Pattern\n",
    "\n",
    "Attempt at programmatically making a brick pattern.\n",
    "\n",
    "All units in mm. ```1``` = ```1 mm```.\n",
    "\n",
    "> Jenga is played with 54 wooden blocks. Each block is three times longer than its width, and one fifth as thick as its length 1.5 cm × 2.5 cm × 7.5 cm (0.59 in × 0.98 in × 2.95 in).\n",
    "\n",
    "https://en.wikipedia.org/wiki/Jenga"
   ]
  },
  {
   "cell_type": "code",
   "execution_count": 6,
   "metadata": {},
   "outputs": [],
   "source": [
    "# Standard brick dimensions.\n",
    "BrickHeight = 65  # [mm]\n",
    "BrickLength = 225  # [mm]\n",
    "BrickDepth = 12.5  # [mm]\n",
    "BrickRatio = 215 / 65  # [dimensionless]\n"
   ]
  },
  {
   "cell_type": "code",
   "execution_count": 8,
   "metadata": {},
   "outputs": [],
   "source": [
    "# Jenga\n",
    "BlockHeight = 25  # [mm]\n",
    "BlockLength = 75  # [mm]\n"
   ]
  },
  {
   "cell_type": "code",
   "execution_count": 9,
   "metadata": {},
   "outputs": [],
   "source": [
    "# Drawing configuration.\n",
    "# How many rows of bricks to draw on the block.\n",
    "N_BrickRows = 3  # [dimensionless]\n",
    "\n",
    "# Dimensions of a 'brick' projected onto the block of wood.\n",
    "H_Block_Brick = BlockHeight / N_BrickRows  # [mm]\n",
    "L_Block_Brick = H_Block_Brick * BrickRatio  # [mm]\n"
   ]
  },
  {
   "cell_type": "markdown",
   "metadata": {},
   "source": [
    "# Code:"
   ]
  },
  {
   "cell_type": "code",
   "execution_count": 10,
   "metadata": {},
   "outputs": [],
   "source": [
    "flip = np.array([[1, 1], [1, 0]])\n",
    "transform_tuple = (\n",
    "    np.eye(2),  # Identity matrix, do nothing.\n",
    "    np.eye(2),  # Do nothing, for debugging.\n",
    "    flip,  # Flip the matrix, reduces travel time.\n",
    ")\n",
    "vertical_brick_lines_tuple = (\n",
    "    np.arange(L_Block_Brick, BlockLength, L_Block_Brick),# Odd rows.\n",
    "    np.arange(L_Block_Brick / 2, BlockLength, L_Block_Brick), # Even rows.\n",
    ")\n",
    "horizontal_brick_lines = np.linspace(0, BlockHeight, N_BrickRows, endpoint=False)"
   ]
  },
  {
   "cell_type": "markdown",
   "metadata": {},
   "source": [
    "Lines parallel to the X-axis.\n",
    "Separates rows of bricks."
   ]
  },
  {
   "cell_type": "code",
   "execution_count": 11,
   "metadata": {},
   "outputs": [
    {
     "data": {
      "text/plain": [
       "array([ 0.        ,  8.33333333, 16.66666667])"
      ]
     },
     "execution_count": 11,
     "metadata": {},
     "output_type": "execute_result"
    }
   ],
   "source": [
    "horizontal_brick_lines"
   ]
  },
  {
   "cell_type": "markdown",
   "metadata": {},
   "source": [
    "Lines parallel to the Y-axis."
   ]
  },
  {
   "cell_type": "code",
   "execution_count": 12,
   "metadata": {},
   "outputs": [
    {
     "data": {
      "text/plain": [
       "(array([27.56410256, 55.12820513]),\n",
       " array([13.78205128, 41.34615385, 68.91025641]))"
      ]
     },
     "execution_count": 12,
     "metadata": {},
     "output_type": "execute_result"
    }
   ],
   "source": [
    "vertical_brick_lines_tuple"
   ]
  },
  {
   "cell_type": "code",
   "execution_count": 13,
   "metadata": {},
   "outputs": [],
   "source": [
    "BlockBrick=GCode.Program()\n",
    "BlockBrick.lines=list()\n",
    "\n",
    "for idx in range(1, len(horizontal_brick_lines)):\n",
    "    # Top horizontal line that defines each 'brick'\n",
    "    horizontal_brick_line = horizontal_brick_lines[idx]\n",
    "    row_line_points = np.array(\n",
    "        [[0, horizontal_brick_line], [BlockLength, horizontal_brick_line]]\n",
    "    )\n",
    "    # Transform to perform on the row points.\n",
    "    transform = transform_tuple[np.mod(idx, 2)]\n",
    "    \n",
    "    row_line_points = np.matmul(transform, row_line_points)\n",
    "    line_ = GCode.Line(\n",
    "        points=row_line_points,\n",
    "    )\n",
    "    \n",
    "    BlockBrick.lines.append(line_)\n",
    "    \n",
    "    # Vertical brick line.\n",
    "    vertical_brick_lines = vertical_brick_lines_tuple[np.mod(idx, len(vertical_brick_lines_tuple))]\n",
    "    \n",
    "    start_point_y = horizontal_brick_lines[idx - 1]\n",
    "    end_point_y = horizontal_brick_lines[idx]\n",
    "    \n",
    "    for idx2, vertical_brick_line in enumerate(vertical_brick_lines):\n",
    "        transform = transform_tuple[np.mod(idx2, 2)]\n",
    "        column_line_points = (\n",
    "            np.array(\n",
    "                [\n",
    "                    [vertical_brick_line, start_point_y],\n",
    "                    [vertical_brick_line, end_point_y],\n",
    "                ]\n",
    "            ),\n",
    "        )\n",
    "        column_line_points = np.matmul(transform, column_line_points)\n",
    "        line_ = GCode.Line(column_line_points)\n",
    "        BlockBrick.lines.append(line_)"
   ]
  },
  {
   "cell_type": "code",
   "execution_count": 14,
   "metadata": {},
   "outputs": [
    {
     "data": {
      "text/plain": [
       "[Line<cut=75.0mm, F=300, S=150>,\n",
       " Line<cut=8.33333mm, F=300, S=150>,\n",
       " Line<cut=8.33333mm, F=300, S=150>,\n",
       " Line<cut=8.33333mm, F=300, S=150>,\n",
       " Line<cut=75.0mm, F=300, S=150>,\n",
       " Line<cut=8.33333mm, F=300, S=150>,\n",
       " Line<cut=8.33333mm, F=300, S=150>]"
      ]
     },
     "execution_count": 14,
     "metadata": {},
     "output_type": "execute_result"
    }
   ],
   "source": [
    "BlockBrick.lines"
   ]
  },
  {
   "cell_type": "code",
   "execution_count": 15,
   "metadata": {},
   "outputs": [
    {
     "data": {
      "text/plain": [
       "200.00256100731036"
      ]
     },
     "execution_count": 15,
     "metadata": {},
     "output_type": "execute_result"
    }
   ],
   "source": [
    "BlockBrick.time"
   ]
  },
  {
   "cell_type": "code",
   "execution_count": 17,
   "metadata": {},
   "outputs": [
    {
     "data": {
      "text/plain": [
       "515.0050720146207"
      ]
     },
     "execution_count": 17,
     "metadata": {},
     "output_type": "execute_result"
    }
   ],
   "source": [
    "BlockBrick.dist"
   ]
  },
  {
   "cell_type": "code",
   "execution_count": 18,
   "metadata": {},
   "outputs": [],
   "source": [
    "BlockBrick.generate_gcode()"
   ]
  },
  {
   "cell_type": "code",
   "execution_count": 19,
   "metadata": {
    "scrolled": true
   },
   "outputs": [
    {
     "data": {
      "text/html": [
       "<b>G21</b> <i></i><br>\n",
       "<b>G90</b> <i></i><br>\n",
       "<b>G28</b> <i></i><br>\n",
       "<b>G0</b> <i>F120</i><br>\n",
       "<b>G1</b> <i>F120</i><br>\n",
       "<b>M3</b> <i>S1</i><br>\n",
       "<b>G92</b> <i>X0 Y0 Z0</i><br>\n",
       "<b>G0</b> <i>X0.0 Y8.3333</i><br>\n",
       "<b>M4</b> <i>S150</i><br>\n",
       "<b>G1</b> <i>X75.0 Y8.3333 F300</i><br>\n",
       "<b>M5</b> <i></i><br>\n",
       "<b>G0</b> <i>X13.7821 Y0.0</i><br>\n",
       "<b>M4</b> <i>S150</i><br>\n",
       "<b>G1</b> <i>X13.7821 Y8.3333 F300</i><br>\n",
       "<b>M5</b> <i></i><br>\n",
       "<b>G0</b> <i>X41.3462 Y0.0</i><br>\n",
       "<b>M4</b> <i>S150</i><br>\n",
       "<b>G1</b> <i>X41.3462 Y8.3333 F300</i><br>\n",
       "<b>M5</b> <i></i><br>\n",
       "<b>G0</b> <i>X68.9103 Y0.0</i><br>\n",
       "<b>M4</b> <i>S150</i><br>\n",
       "<b>G1</b> <i>X68.9103 Y8.3333 F300</i><br>\n",
       "<b>M5</b> <i></i><br>\n",
       "<b>G0</b> <i>X0.0 Y16.6667</i><br>\n",
       "<b>M4</b> <i>S150</i><br>\n",
       "<b>G1</b> <i>X75.0 Y16.6667 F300</i><br>\n",
       "<b>M5</b> <i></i><br>\n",
       "<b>G0</b> <i>X27.5641 Y8.3333</i><br>\n",
       "<b>M4</b> <i>S150</i><br>\n",
       "<b>G1</b> <i>X27.5641 Y16.6667 F300</i><br>\n",
       "<b>M5</b> <i></i><br>\n",
       "<b>G0</b> <i>X55.1282 Y8.3333</i><br>\n",
       "<b>M4</b> <i>S150</i><br>\n",
       "<b>G1</b> <i>X55.1282 Y16.6667 F300</i><br>\n",
       "<b>M5</b> <i></i><br>\n",
       "<b>M5</b> <i></i><br>\n",
       "<b>G28</b> <i></i>"
      ],
      "text/plain": [
       "Program<lines=7>"
      ]
     },
     "execution_count": 19,
     "metadata": {},
     "output_type": "execute_result"
    }
   ],
   "source": [
    "BlockBrick"
   ]
  },
  {
   "cell_type": "code",
   "execution_count": 20,
   "metadata": {},
   "outputs": [
    {
     "data": {
      "text/plain": [
       "(0, ['ok', '', \"Grbl 1.1f ['$' for help]\", 'ok'])"
      ]
     },
     "execution_count": 20,
     "metadata": {},
     "output_type": "execute_result"
    }
   ],
   "source": [
    "cnc = GRBL.GRBL(port=\"/dev/cnc_3018\")\n",
    "cnc.reset()"
   ]
  },
  {
   "cell_type": "code",
   "execution_count": 21,
   "metadata": {},
   "outputs": [
    {
     "data": {
      "text/plain": [
       "'<Idle|MPos:-255.900,-136.000,-1.000|Bf:15,127|FS:0,0|WCO:0.000,0.000,0.000>'"
      ]
     },
     "execution_count": 21,
     "metadata": {},
     "output_type": "execute_result"
    }
   ],
   "source": [
    "cnc.status"
   ]
  },
  {
   "cell_type": "code",
   "execution_count": 22,
   "metadata": {},
   "outputs": [],
   "source": [
    "BlockBrick.machine=cnc"
   ]
  },
  {
   "cell_type": "code",
   "execution_count": 23,
   "metadata": {},
   "outputs": [],
   "source": [
    "BlockBrick.run()"
   ]
  },
  {
   "cell_type": "code",
   "execution_count": null,
   "metadata": {},
   "outputs": [],
   "source": []
  }
 ],
 "metadata": {
  "kernelspec": {
   "display_name": "Python 3",
   "language": "python",
   "name": "python3"
  },
  "language_info": {
   "codemirror_mode": {
    "name": "ipython",
    "version": 3
   },
   "file_extension": ".py",
   "mimetype": "text/x-python",
   "name": "python",
   "nbconvert_exporter": "python",
   "pygments_lexer": "ipython3",
   "version": "3.6.5"
  }
 },
 "nbformat": 4,
 "nbformat_minor": 2
}
