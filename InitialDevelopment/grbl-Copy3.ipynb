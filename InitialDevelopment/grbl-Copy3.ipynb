{
 "cells": [
  {
   "cell_type": "code",
   "execution_count": 53,
   "metadata": {},
   "outputs": [
    {
     "name": "stdout",
     "output_type": "stream",
     "text": [
      "The autoreload extension is already loaded. To reload it, use:\n",
      "  %reload_ext autoreload\n"
     ]
    }
   ],
   "source": [
    "%load_ext autoreload\n",
    "%autoreload 1"
   ]
  },
  {
   "cell_type": "code",
   "execution_count": 62,
   "metadata": {},
   "outputs": [
    {
     "name": "stdout",
     "output_type": "stream",
     "text": [
      "Overwriting GRBL.py\n"
     ]
    }
   ],
   "source": [
    "%%file GRBL.py\n",
    "import serial\n",
    "class GRBL(object):\n",
    "    BAUDRATE = 115200\n",
    "    \n",
    "    def __init__(self, port):\n",
    "        self.serial = serial.Serial(port=port,\n",
    "                                    baudrate=GRBL.BAUDRATE,\n",
    "                                    timeout=0.10)\n",
    "        \n",
    "    def write(self, command_line=\"\"):\n",
    "        self.serial.flushInput()\n",
    "        self.serial.write(\"\\n\".encode())\n",
    "        self.serial.write(\"{cmd}\\n\".format(cmd=command_line).encode())\n",
    "        \n",
    "    def read(self, multiline=True):\n",
    "        if multiline:\n",
    "            responses = self.serial.readlines()\n",
    "            responses = [response.decode().strip() for response in responses]\n",
    "            return responses\n",
    "        else:\n",
    "            response = self.serial.readline()\n",
    "            return response.decode().strip()\n",
    " \n",
    "    def cmd(self, command_line, resp=True, multiline=True):\n",
    "        self.write(command_line)\n",
    "        if resp:\n",
    "            return self.read(multiline=multiline)\n",
    "        return None\n",
    "        \n",
    "\n",
    "settings = [\n",
    "    (\"$0\", \"step_pulse\"),\n",
    "    (\"$1\", \"step_idle_delay\"),\n",
    "    (\"$2\", \"step_port_invert\"),\n",
    "    (\"$3\", \"direction_port_invert\"),\n",
    "    (\"$4\", \"step_enable_invert\"),\n",
    "    (\"$5\", \"limit_pin_invert\"),\n",
    "    (\"$6\", \"probe_pin_invert\"),\n",
    "    (\"$10\", \"status_report\"),\n",
    "    (\"$11\", \"junction_deviation\"),\n",
    "    (\"$12\", \"arc_tolerance\"),\n",
    "    (\"$13\", \"report_inches\"),\n",
    "    (\"$20\", \"soft_limits\"),\n",
    "    (\"$21\", \"hard_limits\"),\n",
    "    (\"$22\", \"homing_cycle\"),\n",
    "    (\"$23\", \"homing_dir_invert\"),\n",
    "    (\"$24\", \"homing_feed\"),\n",
    "    (\"$25\", \"homing_seek\"),\n",
    "    (\"$26\", \"homing_debounce\"),\n",
    "    (\"$27\", \"homing_pull_off\"),\n",
    "    (\"$30\", \"max_spindle_speed\"),\n",
    "    (\"$31\", \"min_spindle_speed\"),\n",
    "    (\"$32\", \"laser_mode\"),\n",
    "    (\"$100\", \"x_steps_mm\"),\n",
    "    (\"$101\", \"y_steps_mm\"),\n",
    "    (\"$102\", \"z_steps_mm\"),\n",
    "    (\"$110\", \"x_max_rate\"),\n",
    "    (\"$111\", \"y_max_rate\"),\n",
    "    (\"$112\", \"z_max_rate\"),\n",
    "    (\"$120\", \"x_acceleration\"),\n",
    "    (\"$121\", \"y_acceleration\"),\n",
    "    (\"$122\", \"z_acceleration\"),\n",
    "    (\"$130\", \"x_travel\"),\n",
    "    (\"$131\", \"y_travel\"),\n",
    "    (\"$132\", \"z_travel\"),\n",
    "    ]\n",
    "\n",
    "def grbl_getter_generator(cmd):\n",
    "    def grbl_getter(self):\n",
    "        config = self.cmd(\"$$\", resp=True, multiline=True)\n",
    "        for config_line in config:\n",
    "            if config_line.startswith(\"$\"):\n",
    "                key, value = config_line.split(\"=\")\n",
    "                if key == cmd:\n",
    "                    return float(value)\n",
    "        return None\n",
    "    return grbl_getter\n",
    "    \n",
    "def grbl_setter_generator(cmd):\n",
    "    def grbl_setter(self, value):\n",
    "        set_cmd = \"{cmd}={value}\".format(cmd=cmd, value=value)\n",
    "        ret = self.cmd(set_cmd, resp=True, multiline=False)\n",
    "        print(ret)\n",
    "        \n",
    "    return grbl_setter\n",
    "\n",
    "for setting in settings:\n",
    "    cmd = setting[0]\n",
    "    name = setting[1]\n",
    "    \n",
    "    setter = grbl_setter_generator(cmd)\n",
    "    getter = grbl_getter_generator(cmd)\n",
    "    \n",
    "    prop = property(fget=getter,\n",
    "                    fset=setter,\n",
    "                    doc=\" \".join(name.split(\"_\")))\n",
    "    \n",
    "    setattr(GRBL, name, prop)"
   ]
  },
  {
   "cell_type": "code",
   "execution_count": 63,
   "metadata": {
    "collapsed": true
   },
   "outputs": [],
   "source": [
    "%aimport GRBL"
   ]
  },
  {
   "cell_type": "code",
   "execution_count": 64,
   "metadata": {
    "collapsed": true
   },
   "outputs": [],
   "source": [
    "grbl = GRBL.GRBL(\"/dev/cnc_3018\")"
   ]
  },
  {
   "cell_type": "markdown",
   "metadata": {},
   "source": [
    "# Grbl '$' Commands"
   ]
  },
  {
   "cell_type": "code",
   "execution_count": 65,
   "metadata": {},
   "outputs": [
    {
     "data": {
      "text/plain": [
       "['<Hold:0|MPos:0.000,0.000,0.000|FS:0,0>']"
      ]
     },
     "execution_count": 65,
     "metadata": {},
     "output_type": "execute_result"
    }
   ],
   "source": [
    "grbl.cmd(\"?\")"
   ]
  },
  {
   "cell_type": "code",
   "execution_count": 66,
   "metadata": {},
   "outputs": [
    {
     "data": {
      "text/plain": [
       "['<Hold:0|MPos:0.000,0.000,0.000|FS:0,0>']"
      ]
     },
     "execution_count": 66,
     "metadata": {},
     "output_type": "execute_result"
    }
   ],
   "source": [
    "grbl.cmd(\"$?\")"
   ]
  },
  {
   "cell_type": "code",
   "execution_count": 77,
   "metadata": {},
   "outputs": [
    {
     "data": {
      "text/plain": [
       "['ok',\n",
       " '[G54:0.000,0.000,0.000]',\n",
       " '[G55:0.000,0.000,0.000]',\n",
       " '[G56:0.000,0.000,0.000]',\n",
       " '[G57:0.000,0.000,0.000]',\n",
       " '[G58:0.000,0.000,0.000]',\n",
       " '[G59:0.000,0.000,0.000]',\n",
       " '[G28:0.000,0.000,0.000]',\n",
       " '[G30:0.000,0.000,0.000]',\n",
       " '[G92:0.000,0.000,0.000]',\n",
       " '[TLO:0.000]',\n",
       " '[PRB:0.000,0.000,0.000:0]',\n",
       " 'ok']"
      ]
     },
     "execution_count": 77,
     "metadata": {},
     "output_type": "execute_result"
    }
   ],
   "source": [
    "grbl.cmd(\"$#\") # View gcode parameters"
   ]
  },
  {
   "cell_type": "code",
   "execution_count": 80,
   "metadata": {},
   "outputs": [
    {
     "data": {
      "text/plain": [
       "['ok', '[GC:G0 G54 G17 G21 G90 G94 M5 M9 T0 F0 S0]', 'ok']"
      ]
     },
     "execution_count": 80,
     "metadata": {},
     "output_type": "execute_result"
    }
   ],
   "source": [
    "grbl.cmd(\"$G\")"
   ]
  },
  {
   "cell_type": "code",
   "execution_count": 81,
   "metadata": {},
   "outputs": [
    {
     "data": {
      "text/plain": [
       "['ok', '[VER:1.1f.20170801:]', '[OPT:V,15,128]', 'ok']"
      ]
     },
     "execution_count": 81,
     "metadata": {},
     "output_type": "execute_result"
    }
   ],
   "source": [
    "grbl.cmd(\"$I\")"
   ]
  },
  {
   "cell_type": "code",
   "execution_count": 82,
   "metadata": {},
   "outputs": [
    {
     "data": {
      "text/plain": [
       "['ok', '$N0=', '$N1=', 'ok']"
      ]
     },
     "execution_count": 82,
     "metadata": {},
     "output_type": "execute_result"
    }
   ],
   "source": [
    "grbl.cmd(\"$N\")"
   ]
  },
  {
   "cell_type": "code",
   "execution_count": 83,
   "metadata": {},
   "outputs": [
    {
     "data": {
      "text/plain": [
       "['ok', '[MSG:Enabled]', 'ok']"
      ]
     },
     "execution_count": 83,
     "metadata": {},
     "output_type": "execute_result"
    }
   ],
   "source": [
    "grbl.cmd(\"$C\")"
   ]
  },
  {
   "cell_type": "code",
   "execution_count": 84,
   "metadata": {},
   "outputs": [
    {
     "data": {
      "text/plain": [
       "['ok', '[MSG:Disabled]', 'ok', '', \"Grbl 1.1f ['$' for help]\"]"
      ]
     },
     "execution_count": 84,
     "metadata": {},
     "output_type": "execute_result"
    }
   ],
   "source": [
    "grbl.cmd(\"$C\")"
   ]
  },
  {
   "cell_type": "code",
   "execution_count": 34,
   "metadata": {},
   "outputs": [
    {
     "data": {
      "text/plain": [
       "['ok', 'ok']"
      ]
     },
     "execution_count": 34,
     "metadata": {},
     "output_type": "execute_result"
    }
   ],
   "source": [
    "grbl.cmd(\"$X\")"
   ]
  },
  {
   "cell_type": "code",
   "execution_count": null,
   "metadata": {
    "collapsed": true
   },
   "outputs": [],
   "source": [
    "# Not until I'm on the machine.\n",
    "#grbl.cmd(\"$H\")"
   ]
  },
  {
   "cell_type": "markdown",
   "metadata": {},
   "source": [
    "ASCII Realtime Command Descriptions\n",
    "\n",
    "Four realtime commands are type-able by users on a keyboard and shown in the $ Grbl help message. These realtime command characters control some of Grbl's basic functions."
   ]
  },
  {
   "cell_type": "code",
   "execution_count": null,
   "metadata": {
    "collapsed": true
   },
   "outputs": [],
   "source": []
  },
  {
   "cell_type": "code",
   "execution_count": 76,
   "metadata": {},
   "outputs": [
    {
     "data": {
      "text/plain": [
       "['', \"Grbl 1.1f ['$' for help]\", 'ok']"
      ]
     },
     "execution_count": 76,
     "metadata": {},
     "output_type": "execute_result"
    }
   ],
   "source": [
    "grbl.cmd(\"\\x18\")"
   ]
  },
  {
   "cell_type": "code",
   "execution_count": 75,
   "metadata": {},
   "outputs": [
    {
     "data": {
      "text/plain": [
       "['<Hold:0|MPos:0.000,0.000,0.000|FS:0,0>']"
      ]
     },
     "execution_count": 75,
     "metadata": {},
     "output_type": "execute_result"
    }
   ],
   "source": [
    "grbl.cmd(\"?\")"
   ]
  },
  {
   "cell_type": "code",
   "execution_count": 72,
   "metadata": {},
   "outputs": [
    {
     "data": {
      "text/plain": [
       "['ok', 'ok']"
      ]
     },
     "execution_count": 72,
     "metadata": {},
     "output_type": "execute_result"
    }
   ],
   "source": [
    "grbl.cmd(\"~\")"
   ]
  },
  {
   "cell_type": "code",
   "execution_count": 73,
   "metadata": {},
   "outputs": [
    {
     "data": {
      "text/plain": [
       "['ok']"
      ]
     },
     "execution_count": 73,
     "metadata": {},
     "output_type": "execute_result"
    }
   ],
   "source": [
    "grbl.cmd(\"!\")"
   ]
  },
  {
   "cell_type": "code",
   "execution_count": 40,
   "metadata": {
    "collapsed": true
   },
   "outputs": [],
   "source": [
    "ser = grbl.serial"
   ]
  },
  {
   "cell_type": "code",
   "execution_count": 46,
   "metadata": {},
   "outputs": [
    {
     "name": "stdout",
     "output_type": "stream",
     "text": [
      "b''\n",
      "b''\n"
     ]
    }
   ],
   "source": [
    "grbl.write(\"$$\")\n",
    "exit = 0\n",
    "ser.timeout = 0.001\n",
    "msg = b''\n",
    "while exit < 2:\n",
    "    more = ser.read(200)\n",
    "    print(more)\n",
    "    msg += more\n",
    "    if len(more) == 0:\n",
    "        exit += 1\n",
    "    else:\n",
    "        exit = 0"
   ]
  },
  {
   "cell_type": "code",
   "execution_count": 49,
   "metadata": {},
   "outputs": [],
   "source": [
    "ser.timeout=0.05"
   ]
  },
  {
   "cell_type": "code",
   "execution_count": 51,
   "metadata": {},
   "outputs": [
    {
     "data": {
      "text/plain": [
       "[]"
      ]
     },
     "execution_count": 51,
     "metadata": {},
     "output_type": "execute_result"
    }
   ],
   "source": [
    "grbl.write(\"$$\")\n",
    "ser.readlines()"
   ]
  },
  {
   "cell_type": "code",
   "execution_count": null,
   "metadata": {
    "collapsed": true
   },
   "outputs": [],
   "source": []
  }
 ],
 "metadata": {
  "kernelspec": {
   "display_name": "Python 3",
   "language": "python",
   "name": "python3"
  },
  "language_info": {
   "codemirror_mode": {
    "name": "ipython",
    "version": 3
   },
   "file_extension": ".py",
   "mimetype": "text/x-python",
   "name": "python",
   "nbconvert_exporter": "python",
   "pygments_lexer": "ipython3",
   "version": "3.5.2"
  }
 },
 "nbformat": 4,
 "nbformat_minor": 2
}
