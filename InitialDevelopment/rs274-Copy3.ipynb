{
 "cells": [
  {
   "cell_type": "markdown",
   "metadata": {},
   "source": [
    "Turn chicken scratches into module.\n",
    "\n",
    "Reference:\n",
    "-http://www.cnccookbook.com/CCCNCGCodeG20G21MetricImperialUnitConversion.htm\n",
    "- http://marlinfw.org/meta/gcode/\n",
    "- https://github.com/grbl/grbl/wiki\n",
    "- http://www.linuxcnc.org/docs/2.5/html/gcode/other-code.html"
   ]
  },
  {
   "cell_type": "code",
   "execution_count": 3,
   "metadata": {},
   "outputs": [],
   "source": [
    "%load_ext autoreload\n",
    "%autoreload 1"
   ]
  },
  {
   "cell_type": "markdown",
   "metadata": {},
   "source": [
    "#### V0.07"
   ]
  },
  {
   "cell_type": "code",
   "execution_count": 4,
   "metadata": {},
   "outputs": [
    {
     "name": "stdout",
     "output_type": "stream",
     "text": [
      "Overwriting GCode.py\n"
     ]
    }
   ],
   "source": [
    "%%file GCode.py\n",
    "class GCode(object):\n",
    "    def __init__(self, machine = None, buffer=None):\n",
    "        self.linenumbering = False\n",
    "        self.machine = machine\n",
    "        if buffer is None:\n",
    "            self.buffer = list()\n",
    "        else:\n",
    "            self.buffer = buffer\n",
    "    @property\n",
    "    def code(self):\n",
    "        if self.linenumbering:\n",
    "            pass\n",
    "        return \"\\n\".join(self.buffer)\n",
    "    \n",
    "    def load(self, filename):\n",
    "        with open(filename, \"r\") as fid:\n",
    "            data = fid.read()\n",
    "        self.buffer = data.splitlines()\n",
    "        \n",
    "    def save(self, filename):\n",
    "        with open(filename, \"w\") as fid:\n",
    "            print(str(self), file=fid)\n",
    "    \n",
    "    def __str__(self):\n",
    "        return self.code\n",
    "\n",
    "    def __repr__(self):\n",
    "        return \"<GCode>[cmds={}]\".format(len(self.buffer))\n",
    "    \n",
    "    def _repr_html_(self):\n",
    "        html = list()\n",
    "        for cmd_line in self.buffer:\n",
    "            cmd, *args = cmd_line.split(\" \")\n",
    "            html_line = \"<b>{cmd}</b> <i>{args}</i>\".format(cmd=cmd, args=\" \".join(args))\n",
    "            html.append(html_line)\n",
    "        return \"<br>\\n\".join(html)\n",
    "    \n",
    "    def __add__(self, other):\n",
    "        buffer = self.buffer\n",
    "        buffer2 = other.buffer\n",
    "        \n",
    "        buffer.extend(buffer2)\n",
    "        \n",
    "        return GCode(machine=self.machine, buffer=buffer)\n",
    "        \n",
    "    def __iter__(self):\n",
    "        self.line = -1\n",
    "        return self\n",
    "    \n",
    "    def run(self):\n",
    "        if self.machine is None:\n",
    "            raise Exception(\"No machine to run on\")\n",
    "        self.machine.run(self)\n",
    "    \n",
    "    def __next__(self):\n",
    "        self.line += 1\n",
    "        if self.line >= len(self.buffer):\n",
    "            raise StopIteration\n",
    "        return self.buffer[self.line]\n",
    "    \n",
    "    def optimise(self):\n",
    "        \"\"\" Optimize the GCode \"\"\"\n",
    "        raise(NotImplemented(\"\"))\n",
    "\n",
    "def cmd_factory(cmd, doc=None):\n",
    "    def cmd_fcn(self, **kwargs):\n",
    "        args = list()\n",
    "        for key, value in kwargs.items():\n",
    "            args.append(\"{key}{value}\".format(key=key, value=value))\n",
    "        \n",
    "        cmd_str = \"{cmd} {args}\".format(cmd=cmd, args=\" \".join(args))\n",
    "        # For commands with no arguments.\n",
    "        cmd_str = cmd_str.strip()\n",
    "        self.buffer.append(cmd_str)  \n",
    "    return cmd_fcn      \n",
    "\n",
    "# Good core to start with.\n",
    "commands=list()\n",
    "# GCodes\n",
    "for code in [0, 1, 2, 3, 4, 20, 21, 28, 90, 91]:\n",
    "    commands.append(\"G{code}\".format(code=code))\n",
    "# MCodes\n",
    "for code in [0, 1, 2, 3, 4, 5, 6]:\n",
    "    commands.append(\"M{code}\".format(code=code))\n",
    "\n",
    "for command in commands:\n",
    "    setattr(GCode, command, cmd_factory(command))"
   ]
  },
  {
   "cell_type": "code",
   "execution_count": 5,
   "metadata": {},
   "outputs": [],
   "source": [
    "%aimport GCode"
   ]
  },
  {
   "cell_type": "code",
   "execution_count": 6,
   "metadata": {},
   "outputs": [],
   "source": [
    "square_20 = GCode.GCode()"
   ]
  },
  {
   "cell_type": "code",
   "execution_count": 7,
   "metadata": {},
   "outputs": [],
   "source": [
    "square_20.load(\"square_20mm.gcode\")"
   ]
  },
  {
   "cell_type": "code",
   "execution_count": 8,
   "metadata": {},
   "outputs": [
    {
     "data": {
      "text/html": [
       "<b>G21</b> <i></i><br>\n",
       "<b>G91</b> <i></i><br>\n",
       "<b>G1</b> <i>F200</i><br>\n",
       "<b>M4</b> <i>S25</i><br>\n",
       "<b>G1</b> <i>X20</i><br>\n",
       "<b>G1</b> <i>Y20</i><br>\n",
       "<b>G1</b> <i>X-20</i><br>\n",
       "<b>G1</b> <i>X-20</i><br>\n",
       "<b>M5</b> <i></i>"
      ],
      "text/plain": [
       "<GCode>[cmds=9]"
      ]
     },
     "execution_count": 8,
     "metadata": {},
     "output_type": "execute_result"
    }
   ],
   "source": [
    "square_20"
   ]
  },
  {
   "cell_type": "code",
   "execution_count": 9,
   "metadata": {},
   "outputs": [],
   "source": [
    "from GRBL import GRBL"
   ]
  },
  {
   "cell_type": "code",
   "execution_count": 10,
   "metadata": {
    "collapsed": true
   },
   "outputs": [],
   "source": [
    "cnc = GRBL(port=\"/dev/cnc_3018\")"
   ]
  },
  {
   "cell_type": "code",
   "execution_count": 11,
   "metadata": {
    "collapsed": true
   },
   "outputs": [],
   "source": [
    "square_20 = GCode.GCode(machine=cnc)"
   ]
  },
  {
   "cell_type": "code",
   "execution_count": null,
   "metadata": {},
   "outputs": [],
   "source": [
    "square_20.load(\"square_20mm.gcode\")"
   ]
  },
  {
   "cell_type": "code",
   "execution_count": null,
   "metadata": {},
   "outputs": [],
   "source": [
    "square_20.run() # It works..."
   ]
  },
  {
   "cell_type": "markdown",
   "metadata": {},
   "source": [
    "def metric"
   ]
  },
  {
   "cell_type": "code",
   "execution_count": null,
   "metadata": {
    "collapsed": true
   },
   "outputs": [],
   "source": [
    "def init(feed = 200, laser = 25):\n",
    "    program = GCode.GCode()\n",
    "    program.G21() # Metric Units\n",
    "    program.G91() # Absolute positioning.\n",
    "    program.G1(F=feed) #\n",
    "    program.M4(S=laser) # Laser settings.\n",
    "    return program"
   ]
  },
  {
   "cell_type": "code",
   "execution_count": null,
   "metadata": {
    "collapsed": true
   },
   "outputs": [],
   "source": [
    "def end():\n",
    "    program = GCode.GCode()\n",
    "    program.M5() # Laser settings.\n",
    "    return program"
   ]
  },
  {
   "cell_type": "code",
   "execution_count": null,
   "metadata": {},
   "outputs": [],
   "source": [
    "def square(size=20):    \n",
    "    program = GCode.GCode()\n",
    "    program.G1(X=size)\n",
    "    program.G1(Y=size)\n",
    "    program.G1(X=-size)\n",
    "    program.G1(X=-size)\n",
    "    return program"
   ]
  },
  {
   "cell_type": "code",
   "execution_count": null,
   "metadata": {},
   "outputs": [],
   "source": [
    "init() + square() + end()"
   ]
  },
  {
   "cell_type": "code",
   "execution_count": null,
   "metadata": {},
   "outputs": [],
   "source": [
    "cnc.run(init() + square() + end())"
   ]
  },
  {
   "cell_type": "code",
   "execution_count": null,
   "metadata": {},
   "outputs": [],
   "source": [
    "cnc.cmd(\"G0 Y-90\")"
   ]
  },
  {
   "cell_type": "code",
   "execution_count": null,
   "metadata": {},
   "outputs": [],
   "source": [
    "cnc.run(init(laser=50) + square() + end())"
   ]
  },
  {
   "cell_type": "code",
   "execution_count": null,
   "metadata": {},
   "outputs": [],
   "source": [
    "cnc.run(init(laser=100) + square() + end())"
   ]
  },
  {
   "cell_type": "code",
   "execution_count": null,
   "metadata": {
    "collapsed": true
   },
   "outputs": [],
   "source": [
    "def init(feed = 200, laser = 25):\n",
    "    program = GCode.GCode()\n",
    "    program.G21() # Metric Units\n",
    "    program.G91() # Absolute positioning.\n",
    "    program.G1(F=feed) #\n",
    "    program.M3(S=laser) # Laser settings.\n",
    "    return program"
   ]
  },
  {
   "cell_type": "code",
   "execution_count": null,
   "metadata": {},
   "outputs": [],
   "source": [
    "cnc.run(init(laser=1))"
   ]
  },
  {
   "cell_type": "code",
   "execution_count": null,
   "metadata": {},
   "outputs": [],
   "source": [
    "cnc.run(init(laser=75) + square() + end())"
   ]
  },
  {
   "cell_type": "code",
   "execution_count": null,
   "metadata": {},
   "outputs": [],
   "source": [
    "init(laser=75) + square() + end()"
   ]
  },
  {
   "cell_type": "code",
   "execution_count": null,
   "metadata": {
    "collapsed": true
   },
   "outputs": [],
   "source": []
  }
 ],
 "metadata": {
  "kernelspec": {
   "display_name": "Python 3",
   "language": "python",
   "name": "python3"
  },
  "language_info": {
   "codemirror_mode": {
    "name": "ipython",
    "version": 3
   },
   "file_extension": ".py",
   "mimetype": "text/x-python",
   "name": "python",
   "nbconvert_exporter": "python",
   "pygments_lexer": "ipython3",
   "version": "3.5.2"
  }
 },
 "nbformat": 4,
 "nbformat_minor": 2
}
