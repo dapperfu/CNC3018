{
 "cells": [
  {
   "cell_type": "code",
   "execution_count": 1,
   "metadata": {},
   "outputs": [],
   "source": [
    "import glob\n",
    "import os"
   ]
  },
  {
   "cell_type": "code",
   "execution_count": 2,
   "metadata": {},
   "outputs": [
    {
     "data": {
      "text/plain": [
       "['NewDev/06_FocusShading.ipynb',\n",
       " 'NewDev/08_DotShading-Copy5.ipynb',\n",
       " 'NewDev/08_DotShading-Copy10.ipynb',\n",
       " 'NewDev/06_FocusShading-Copy2.ipynb',\n",
       " 'NewDev/NewDevCycle.ipynb',\n",
       " 'NewDev/WorkspaceCalibration2-Copy1.ipynb',\n",
       " 'NewDev/11_Parsing.ipynb',\n",
       " 'NewDev/08_DotShading-Copy8.ipynb',\n",
       " 'NewDev/WorkspaceCalibration2.ipynb',\n",
       " 'NewDev/08_DotShading-Copy3.ipynb',\n",
       " 'NewDev/08_DotShading-Copy4.ipynb',\n",
       " 'NewDev/06_FocusShading-Copy3.ipynb',\n",
       " 'NewDev/08_DotShading-Copy9.ipynb',\n",
       " 'NewDev/03_LaserCircles-Copy3.ipynb',\n",
       " 'NewDev/01_Bricks2.ipynb',\n",
       " 'NewDev/02_Sine-Copy4.ipynb',\n",
       " 'NewDev/05_Shading-Copy1.ipynb',\n",
       " 'NewDev/08_AIM.ipynb',\n",
       " 'NewDev/08_AIM-Copy1.ipynb',\n",
       " 'NewDev/04_Squares-Copy1.ipynb',\n",
       " 'NewDev/10_Playback-Copy1.ipynb',\n",
       " 'NewDev/08_DotShading-Copy6.ipynb',\n",
       " 'NewDev/06_FocusShading-Copy4.ipynb',\n",
       " 'NewDev/08_DotShading-Copy2.ipynb',\n",
       " 'NewDev/08_DotShading.ipynb',\n",
       " 'NewDev/08_DotShading-Copy1.ipynb',\n",
       " 'NewDev/07_FocusShadingLeather.ipynb',\n",
       " 'NewDev/06_FocusShading-Copy1.ipynb',\n",
       " 'NewDev/08_DotShading-Copy7.ipynb']"
      ]
     },
     "execution_count": 2,
     "metadata": {},
     "output_type": "execute_result"
    }
   ],
   "source": [
    "glob.glob(\"NewDev/*.ipynb\", recursive=False)"
   ]
  },
  {
   "cell_type": "code",
   "execution_count": 3,
   "metadata": {},
   "outputs": [],
   "source": [
    "copies = list()\n",
    "originals = list()\n",
    "for nb in glob.glob(\"NewDev/*.ipynb\", recursive=False):\n",
    "    basename, ext = os.path.basename(nb).split(\".\")\n",
    "    if \"-Copy\" in basename:\n",
    "        copies.append(nb)\n",
    "    else:\n",
    "        originals.append(nb)"
   ]
  },
  {
   "cell_type": "code",
   "execution_count": 5,
   "metadata": {},
   "outputs": [
    {
     "data": {
      "text/plain": [
       "['NewDev/08_DotShading-Copy5.ipynb',\n",
       " 'NewDev/08_DotShading-Copy10.ipynb',\n",
       " 'NewDev/06_FocusShading-Copy2.ipynb',\n",
       " 'NewDev/WorkspaceCalibration2-Copy1.ipynb',\n",
       " 'NewDev/08_DotShading-Copy8.ipynb',\n",
       " 'NewDev/08_DotShading-Copy3.ipynb',\n",
       " 'NewDev/08_DotShading-Copy4.ipynb',\n",
       " 'NewDev/06_FocusShading-Copy3.ipynb',\n",
       " 'NewDev/08_DotShading-Copy9.ipynb',\n",
       " 'NewDev/03_LaserCircles-Copy3.ipynb',\n",
       " 'NewDev/02_Sine-Copy4.ipynb',\n",
       " 'NewDev/05_Shading-Copy1.ipynb',\n",
       " 'NewDev/08_AIM-Copy1.ipynb',\n",
       " 'NewDev/04_Squares-Copy1.ipynb',\n",
       " 'NewDev/10_Playback-Copy1.ipynb',\n",
       " 'NewDev/08_DotShading-Copy6.ipynb',\n",
       " 'NewDev/06_FocusShading-Copy4.ipynb',\n",
       " 'NewDev/08_DotShading-Copy2.ipynb',\n",
       " 'NewDev/08_DotShading-Copy1.ipynb',\n",
       " 'NewDev/06_FocusShading-Copy1.ipynb',\n",
       " 'NewDev/08_DotShading-Copy7.ipynb']"
      ]
     },
     "execution_count": 5,
     "metadata": {},
     "output_type": "execute_result"
    }
   ],
   "source": [
    "copies"
   ]
  },
  {
   "cell_type": "code",
   "execution_count": 6,
   "metadata": {},
   "outputs": [
    {
     "data": {
      "text/plain": [
       "['NewDev/06_FocusShading.ipynb',\n",
       " 'NewDev/NewDevCycle.ipynb',\n",
       " 'NewDev/11_Parsing.ipynb',\n",
       " 'NewDev/WorkspaceCalibration2.ipynb',\n",
       " 'NewDev/01_Bricks2.ipynb',\n",
       " 'NewDev/08_AIM.ipynb',\n",
       " 'NewDev/08_DotShading.ipynb',\n",
       " 'NewDev/07_FocusShadingLeather.ipynb']"
      ]
     },
     "execution_count": 6,
     "metadata": {},
     "output_type": "execute_result"
    }
   ],
   "source": [
    "originals"
   ]
  },
  {
   "cell_type": "code",
   "execution_count": 8,
   "metadata": {},
   "outputs": [
    {
     "name": "stdout",
     "output_type": "stream",
     "text": [
      "BirthdayDevelopment/10_Playback-Copy1.ipynb\n",
      "BirthdayDevelopment/04_Squares-Copy1.ipynb\n",
      "BirthdayDevelopment/05_Shading-Copy1.ipynb\n",
      "BirthdayDevelopment/03_LaserCircles-Copy1.ipynb\n",
      "BirthdayDevelopment/03_LaserCircles-Copy2.ipynb\n",
      "BirthdayDevelopment/03_LaserCircles-Copy3.ipynb\n",
      "BirthdayDevelopment/02_Sine-Copy1.ipynb\n",
      "BirthdayDevelopment/02_Sine-Copy2.ipynb\n",
      "BirthdayDevelopment/02_Sine-Copy3.ipynb\n",
      "BirthdayDevelopment/02_Sine-Copy4.ipynb\n"
     ]
    }
   ],
   "source": [
    "for original in originals:\n",
    "    base, ext = os.path.splitext(original)\n",
    "    highest_copy = None\n",
    "    for copy_num in range(1,100,1):\n",
    "        copy_name = base+\"-Copy{}\".format(copy_num)+ext\n",
    "        if os.path.exists(copy_name):\n",
    "            print(copy_name)"
   ]
  },
  {
   "cell_type": "code",
   "execution_count": 9,
   "metadata": {},
   "outputs": [],
   "source": [
    "os.makedirs(\"NewDev\")\n",
    "os.makedirs(\"OldDev\")"
   ]
  },
  {
   "cell_type": "code",
   "execution_count": 17,
   "metadata": {},
   "outputs": [],
   "source": [
    "import shutil"
   ]
  },
  {
   "cell_type": "code",
   "execution_count": 19,
   "metadata": {},
   "outputs": [],
   "source": [
    "for original in originals:\n",
    "    base, ext = os.path.splitext(original)\n",
    "    highest_copy = original\n",
    "    all_copies = list([original])\n",
    "    for copy_num in range(1,100,1):\n",
    "        copy_name = base+\"-Copy{}\".format(copy_num)+ext\n",
    "        if os.path.exists(copy_name):\n",
    "            highest_copy = copy_name\n",
    "            all_copies.append(copy_name)\n",
    "        \n",
    "        \n",
    "            \n",
    "    for copy in all_copies:\n",
    "        if copy == highest_copy:\n",
    "            shutil.copy2(copy, \"NewDev/\")\n",
    "        shutil.move(copy, \"OldDev/\")"
   ]
  },
  {
   "cell_type": "code",
   "execution_count": 20,
   "metadata": {},
   "outputs": [
    {
     "name": "stdout",
     "output_type": "stream",
     "text": [
      "On branch development/jed-frey/2018-Oct\r\n",
      "Your branch is up to date with 'origin/development/jed-frey/2018-Oct'.\r\n",
      "\r\n",
      "Changes to be committed:\r\n",
      "  (use \"git reset HEAD <file>...\" to unstage)\r\n",
      "\r\n",
      "\t\u001b[32mmodified:   .gitmodules\u001b[m\r\n",
      "\t\u001b[32mnew file:   jupyter_NotebookCleaners\u001b[m\r\n",
      "\r\n",
      "Changes not staged for commit:\r\n",
      "  (use \"git add <file>...\" to update what will be committed)\r\n",
      "  (use \"git checkout -- <file>...\" to discard changes in working directory)\r\n",
      "\r\n",
      "\t\u001b[31mmodified:   NewDevelopmentCycle-Copy1.ipynb\u001b[m\r\n",
      "\r\n",
      "Untracked files:\r\n",
      "  (use \"git add <file>...\" to include in what will be committed)\r\n",
      "\r\n",
      "\t\u001b[31m.requirements.txt.swp\u001b[m\r\n",
      "\t\u001b[31mBirthdayDevelopment/\u001b[m\r\n",
      "\r\n"
     ]
    }
   ],
   "source": [
    "!git status"
   ]
  },
  {
   "cell_type": "code",
   "execution_count": null,
   "metadata": {},
   "outputs": [],
   "source": []
  }
 ],
 "metadata": {
  "kernelspec": {
   "display_name": "Python 3",
   "language": "python",
   "name": "python3"
  },
  "language_info": {
   "codemirror_mode": {
    "name": "ipython",
    "version": 3
   },
   "file_extension": ".py",
   "mimetype": "text/x-python",
   "name": "python",
   "nbconvert_exporter": "python",
   "pygments_lexer": "ipython3",
   "version": "3.6.6"
  }
 },
 "nbformat": 4,
 "nbformat_minor": 2
}
