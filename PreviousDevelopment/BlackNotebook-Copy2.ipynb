{
 "cells": [
  {
   "cell_type": "code",
   "execution_count": 1,
   "metadata": {},
   "outputs": [],
   "source": [
    "import glob\n",
    "import os\n",
    "\n",
    "import black\n",
    "import nbformat"
   ]
  },
  {
   "cell_type": "code",
   "execution_count": 4,
   "metadata": {},
   "outputs": [],
   "source": [
    "notebooks = glob.glob(\"*.ipynb\")"
   ]
  },
  {
   "cell_type": "code",
   "execution_count": 36,
   "metadata": {},
   "outputs": [],
   "source": [
    "def isort_notebook_cells(notebook):\n",
    "    with open(notebook, \"rb\") as fp:\n",
    "        nb = nbformat.read(fp=fp, as_version=nbformat.NO_CONVERT)\n",
    "\n",
    "    markdown_cells = list()\n",
    "    code_cells = list()\n",
    "\n",
    "    for cell in nb[\"cells\"]:\n",
    "        if cell[\"cell_type\"] == \"code\":\n",
    "            code_cells.append(cell)\n",
    "        elif cell[\"cell_type\"] == \"markdown\":\n",
    "            markdown_cells.append(cell)\n",
    "        else:\n",
    "            raise Exception(cell[\"cell_type\"])\n",
    "\n",
    "    for code_cell in code_cells:\n",
    "        if code_cell[\"source\"] == \"\":\n",
    "            continue\n",
    "        if \"import\" in code_cell[\"source\"]:\n",
    "            s = isort.SortImports(file_contents=code_cell.source)\n",
    "            code_cell.source=s.output.strip()\n",
    "\n",
    "    with open(notebook, \"w\") as fp:\n",
    "        nbformat.write(nb, fp)"
   ]
  },
  {
   "cell_type": "code",
   "execution_count": null,
   "metadata": {},
   "outputs": [],
   "source": [
    "for notebook in notebooks:\n",
    "    break"
   ]
  }
 ],
 "metadata": {
  "kernelspec": {
   "display_name": "Python 3",
   "language": "python",
   "name": "python3"
  },
  "language_info": {
   "codemirror_mode": {
    "name": "ipython",
    "version": 3
   },
   "file_extension": ".py",
   "mimetype": "text/x-python",
   "name": "python",
   "nbconvert_exporter": "python",
   "pygments_lexer": "ipython3",
   "version": "3.6.5"
  }
 },
 "nbformat": 4,
 "nbformat_minor": 2
}
