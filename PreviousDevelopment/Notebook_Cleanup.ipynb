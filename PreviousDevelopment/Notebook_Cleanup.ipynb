{
 "cells": [
  {
   "cell_type": "code",
   "execution_count": null,
   "metadata": {},
   "outputs": [],
   "source": [
    "import glob\n",
    "import os\n",
    "\n",
    "import black\n",
    "import isort\n",
    "import nbformat\n",
    "\n",
    "        if \"import\" in code_cell[\"source\"]:"
   ]
  },
  {
   "cell_type": "code",
   "execution_count": 8,
   "metadata": {},
   "outputs": [],
   "source": [
    "def isort_notebook_cells(notebook):    with open(notebook, \"rb\") as fp:        nb = nbformat.read(fp=fp, as_version=nbformat.NO_CONVERT)    markdown_cells = list()    code_cells = list()    for cell in nb[\"cells\"]:        if cell[\"cell_type\"] == \"code\":            code_cells.append(cell)        elif cell[\"cell_type\"] == \"markdown\":            markdown_cells.append(cell)        else:            raise Exception(cell[\"cell_type\"])    for code_cell in code_cells:        if code_cell[\"source\"] == \"\":            continue            s = isort.SortImports(file_contents=code_cell.source)            code_cell.source = s.output.strip()    with open(notebook, \"w\") as fp:        nbformat.write(nb, fp)"
   ]
  },
  {
   "cell_type": "code",
   "execution_count": 16,
   "metadata": {},
   "outputs": [],
   "source": [
    "def black_notebook_cells(notebook=None):\n",
    "    with open(notebook, \"rb\") as fp:\n",
    "        nb = nbformat.read(fp=fp, as_version=nbformat.NO_CONVERT)\n",
    "\n",
    "    markdown_cells = list()\n",
    "    code_cells = list()\n",
    "\n",
    "    for cell in nb[\"cells\"]:\n",
    "        if cell[\"cell_type\"] == \"code\":\n",
    "            code_cells.append(cell)\n",
    "        elif cell[\"cell_type\"] == \"markdown\":\n",
    "            markdown_cells.append(cell)\n",
    "        else:\n",
    "            raise Exception(cell[\"cell_type\"])\n",
    "\n",
    "    for code_cell in code_cells:\n",
    "        if code_cell[\"source\"] == \"\":\n",
    "            continue\n",
    "        code_cell[\"source\"] = black.format_str(\n",
    "            code_cell[\"source\"], line_length=80\n",
    "        )\n",
    "\n",
    "    with open(notebook, \"w\") as fp:\n",
    "        nbformat.write(nb, fp)\n"
   ]
  },
  {
   "cell_type": "code",
   "execution_count": 17,
   "metadata": {},
   "outputs": [],
   "source": [
    "cleaning_functions = list()\n",
    "\n",
    "cleaning_functions.append(black_notebook_cells)\n",
    "cleaning_functions.append(isort_notebook_cells)\n",
    "\n",
    "\n",
    "def format_folder(path=None):\n",
    "    abs_path = os.path.abspath(path)\n",
    "    try:\n",
    "        assert os.path.exists(abs_path)\n",
    "        notebooks = glob.glob(os.path.join(abs_path, \"*.ipynb\"))\n",
    "        for notebook in notebooks:\n",
    "            for cleaning_function in cleaning_functions:\n",
    "                cleaning_function(notebook=notebook)\n",
    "    except:\n",
    "        print(notebook)\n"
   ]
  },
  {
   "cell_type": "code",
   "execution_count": 18,
   "metadata": {},
   "outputs": [
    {
     "name": "stdout",
     "output_type": "stream",
     "text": [
      "/projects/CNC3018/PreviousDevelopment/HandCodeG.ipynb\n"
     ]
    }
   ],
   "source": [
    "format_folder(\".\")\n"
   ]
  },
  {
   "cell_type": "code",
   "execution_count": 19,
   "metadata": {},
   "outputs": [
    {
     "name": "stdout",
     "output_type": "stream",
     "text": [
      "/projects/CNC3018/DevelopmentSandbox/SpindleTests.ipynb\n"
     ]
    }
   ],
   "source": [
    "format_folder(\"../DevelopmentSandbox/\")\n"
   ]
  },
  {
   "cell_type": "code",
   "execution_count": 21,
   "metadata": {},
   "outputs": [
    {
     "name": "stdout",
     "output_type": "stream",
     "text": [
      "Collecting get_files from git+https://github.com/jed-frey/get_files.git#egg=get_files\n",
      "  Cloning https://github.com/jed-frey/get_files.git to /tmp/pip-install-nrtuueoo/get-files\n",
      "Building wheels for collected packages: get-files\n",
      "  Running setup.py bdist_wheel for get-files ... \u001b[?25ldone\n",
      "\u001b[?25h  Stored in directory: /tmp/pip-ephem-wheel-cache-_ausq495/wheels/17/b2/6f/45df83d039a028baef628acd633462ba8418974ac916a67b44\n",
      "Successfully built get-files\n",
      "Installing collected packages: get-files\n",
      "Successfully installed get-files-0.7.1\n"
     ]
    }
   ],
   "source": [
    "!pip install "
   ]
  }
 ],
 "metadata": {
  "kernelspec": {
   "display_name": "Python 3",
   "language": "python",
   "name": "python3"
  },
  "language_info": {
   "codemirror_mode": {
    "name": "ipython",
    "version": 3
   },
   "file_extension": ".py",
   "mimetype": "text/x-python",
   "name": "python",
   "nbconvert_exporter": "python",
   "pygments_lexer": "ipython3",
   "version": "3.6.5"
  }
 },
 "nbformat": 4,
 "nbformat_minor": 2
}
