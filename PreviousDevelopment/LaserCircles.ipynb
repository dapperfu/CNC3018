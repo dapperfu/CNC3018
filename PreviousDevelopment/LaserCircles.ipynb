{
 "cells": [
  {
   "cell_type": "markdown",
   "metadata": {},
   "source": [
    "# Laser Circles "
   ]
  },
  {
   "cell_type": "markdown",
   "metadata": {},
   "source": [
    "# Code:"
   ]
  },
  {
   "cell_type": "code",
   "execution_count": 1,
   "metadata": {
    "collapsed": true
   },
   "outputs": [],
   "source": [
    "import GCode\n",
    "import GRBL\n",
    "import numpy as np\n",
    "from uuid import uuid4\n",
    "import os\n",
    "import sys\n",
    "from time import sleep\n",
    "\n",
    "sys.path.append(\"..\")\n",
    "from utils import picture\n"
   ]
  },
  {
   "cell_type": "code",
   "execution_count": 2,
   "metadata": {},
   "outputs": [
    {
     "name": "stdout",
     "output_type": "stream",
     "text": [
      "\n",
      "Laser Mode: None\n"
     ]
    }
   ],
   "source": [
    "cnc = GRBL.GRBL(port=\"/dev/cnc_3018\")\n",
    "sleep(0.5)\n",
    "cnc.laser_mode = 1\n",
    "sleep(0.5)\n",
    "print(\"Laser Mode: {}\".format(cnc.laser_mode))\n"
   ]
  },
  {
   "cell_type": "code",
   "execution_count": 3,
   "metadata": {},
   "outputs": [],
   "source": [
    "def init(feed=200):\n",
    "    program = GCode.GCode()\n",
    "    program.G21()  # Metric Units\n",
    "    program.G90()  # Absolute positioning.\n",
    "    program.G92(X=0, Y=0, Z=0)  # Zero position.\n",
    "    program.G1(F=feed)\n",
    "    return program\n",
    "\n",
    "\n",
    "def end():\n",
    "    program = GCode.GCode()\n",
    "    program.G0(X=0, Y=0, Z=0)\n",
    "    program.M5()\n",
    "    return program\n"
   ]
  },
  {
   "cell_type": "code",
   "execution_count": 4,
   "metadata": {
    "collapsed": true
   },
   "outputs": [],
   "source": [
    "def circle(center_x=5, center_y=5, radius=5, laser_pwm=255):\n",
    "    prog = GCode.GCode()\n",
    "    prog.G0(X=center_x, Y=center_y)\n",
    "    prog.M3(S=laser_pwm)\n",
    "    prog.G2(X=center_x - radius, Y=center_y, I=radius, J=0)\n",
    "    prog.M5()\n",
    "    prog.G0(X=center_x, Y=center_y)\n",
    "    return prog\n"
   ]
  },
  {
   "cell_type": "code",
   "execution_count": 5,
   "metadata": {
    "collapsed": true
   },
   "outputs": [],
   "source": [
    "radius = 15\n"
   ]
  },
  {
   "cell_type": "code",
   "execution_count": 6,
   "metadata": {},
   "outputs": [],
   "source": [
    "Y_centers = np.linspace(radius, 90 - radius, 4)\n",
    "X_centers = np.linspace(radius, 180 - radius, 5)\n"
   ]
  },
  {
   "cell_type": "code",
   "execution_count": 7,
   "metadata": {},
   "outputs": [],
   "source": [
    "test_run = GCode.GCode()\n",
    "test_run += init()\n",
    "for x_center in X_centers:\n",
    "    for y_center in Y_centers:\n",
    "        test_run += circle(\n",
    "            center_x=x_center, center_y=y_center, radius=radius, laser_pwm=5\n",
    "        )\n",
    "test_run += end()\n"
   ]
  },
  {
   "cell_type": "code",
   "execution_count": 13,
   "metadata": {
    "collapsed": true
   },
   "outputs": [],
   "source": [
    "gcode_file = \"CircleTests.gcode\"\n"
   ]
  },
  {
   "cell_type": "code",
   "execution_count": 14,
   "metadata": {
    "collapsed": true
   },
   "outputs": [],
   "source": [
    "test_run.save(gcode_file)\n",
    "\n",
    "del test_run\n",
    "test_run = GCode.GCode()\n",
    "\n",
    "test_run.load(gcode_file)\n"
   ]
  },
  {
   "cell_type": "code",
   "execution_count": 15,
   "metadata": {},
   "outputs": [
    {
     "data": {
      "text/plain": [
       "['G21', 'G90', 'G92 Y0 X0 Z0', 'G1 F200', 'G0 Y15.0 X15.0']"
      ]
     },
     "execution_count": 15,
     "metadata": {},
     "output_type": "execute_result"
    }
   ],
   "source": [
    "test_run.buffer[0:5]\n"
   ]
  },
  {
   "cell_type": "code",
   "execution_count": 12,
   "metadata": {},
   "outputs": [
    {
     "data": {
      "text/plain": [
       "0.310122013092041"
      ]
     },
     "execution_count": 12,
     "metadata": {},
     "output_type": "execute_result"
    }
   ],
   "source": [
    "cnc.run([\"G0\", \"M3S1\", \"G1F1\"])\n"
   ]
  },
  {
   "cell_type": "code",
   "execution_count": null,
   "metadata": {
    "collapsed": true
   },
   "outputs": [],
   "source": [
    "from time import sleep\n"
   ]
  },
  {
   "cell_type": "code",
   "execution_count": 16,
   "metadata": {},
   "outputs": [
    {
     "data": {
      "text/html": [
       "<b>G21</b> <i></i><br>\n",
       "<b>G90</b> <i></i><br>\n",
       "<b>G92</b> <i>Y0 X0 Z0</i><br>\n",
       "<b>G1</b> <i>F200</i><br>\n",
       "<b>G0</b> <i>Y15.0 X15.0</i><br>\n",
       "<b>M3</b> <i>S5</i><br>\n",
       "<b>G2</b> <i>Y15.0 X0.0 I15 J0</i><br>\n",
       "<b>M5</b> <i></i><br>\n",
       "<b>G0</b> <i>Y15.0 X15.0</i><br>\n",
       "<b>G0</b> <i>Y35.0 X15.0</i><br>\n",
       "<b>M3</b> <i>S5</i><br>\n",
       "<b>G2</b> <i>Y35.0 X0.0 I15 J0</i><br>\n",
       "<b>M5</b> <i></i><br>\n",
       "<b>G0</b> <i>Y35.0 X15.0</i><br>\n",
       "<b>G0</b> <i>Y55.0 X15.0</i><br>\n",
       "<b>M3</b> <i>S5</i><br>\n",
       "<b>G2</b> <i>Y55.0 X0.0 I15 J0</i><br>\n",
       "<b>M5</b> <i></i><br>\n",
       "<b>G0</b> <i>Y55.0 X15.0</i><br>\n",
       "<b>G0</b> <i>Y75.0 X15.0</i><br>\n",
       "<b>M3</b> <i>S5</i><br>\n",
       "<b>G2</b> <i>Y75.0 X0.0 I15 J0</i><br>\n",
       "<b>M5</b> <i></i><br>\n",
       "<b>G0</b> <i>Y75.0 X15.0</i><br>\n",
       "<b>G0</b> <i>Y15.0 X52.5</i><br>\n",
       "<b>M3</b> <i>S5</i><br>\n",
       "<b>G2</b> <i>Y15.0 X37.5 I15 J0</i><br>\n",
       "<b>M5</b> <i></i><br>\n",
       "<b>G0</b> <i>Y15.0 X52.5</i><br>\n",
       "<b>G0</b> <i>Y35.0 X52.5</i><br>\n",
       "<b>M3</b> <i>S5</i><br>\n",
       "<b>G2</b> <i>Y35.0 X37.5 I15 J0</i><br>\n",
       "<b>M5</b> <i></i><br>\n",
       "<b>G0</b> <i>Y35.0 X52.5</i><br>\n",
       "<b>G0</b> <i>Y55.0 X52.5</i><br>\n",
       "<b>M3</b> <i>S5</i><br>\n",
       "<b>G2</b> <i>Y55.0 X37.5 I15 J0</i><br>\n",
       "<b>M5</b> <i></i><br>\n",
       "<b>G0</b> <i>Y55.0 X52.5</i><br>\n",
       "<b>G0</b> <i>Y75.0 X52.5</i><br>\n",
       "<b>M3</b> <i>S5</i><br>\n",
       "<b>G2</b> <i>Y75.0 X37.5 I15 J0</i><br>\n",
       "<b>M5</b> <i></i><br>\n",
       "<b>G0</b> <i>Y75.0 X52.5</i><br>\n",
       "<b>G0</b> <i>Y15.0 X90.0</i><br>\n",
       "<b>M3</b> <i>S5</i><br>\n",
       "<b>G2</b> <i>Y15.0 X75.0 I15 J0</i><br>\n",
       "<b>M5</b> <i></i><br>\n",
       "<b>G0</b> <i>Y15.0 X90.0</i><br>\n",
       "<b>G0</b> <i>Y35.0 X90.0</i><br>\n",
       "<b>M3</b> <i>S5</i><br>\n",
       "<b>G2</b> <i>Y35.0 X75.0 I15 J0</i><br>\n",
       "<b>M5</b> <i></i><br>\n",
       "<b>G0</b> <i>Y35.0 X90.0</i><br>\n",
       "<b>G0</b> <i>Y55.0 X90.0</i><br>\n",
       "<b>M3</b> <i>S5</i><br>\n",
       "<b>G2</b> <i>Y55.0 X75.0 I15 J0</i><br>\n",
       "<b>M5</b> <i></i><br>\n",
       "<b>G0</b> <i>Y55.0 X90.0</i><br>\n",
       "<b>G0</b> <i>Y75.0 X90.0</i><br>\n",
       "<b>M3</b> <i>S5</i><br>\n",
       "<b>G2</b> <i>Y75.0 X75.0 I15 J0</i><br>\n",
       "<b>M5</b> <i></i><br>\n",
       "<b>G0</b> <i>Y75.0 X90.0</i><br>\n",
       "<b>G0</b> <i>Y15.0 X127.5</i><br>\n",
       "<b>M3</b> <i>S5</i><br>\n",
       "<b>G2</b> <i>Y15.0 X112.5 I15 J0</i><br>\n",
       "<b>M5</b> <i></i><br>\n",
       "<b>G0</b> <i>Y15.0 X127.5</i><br>\n",
       "<b>G0</b> <i>Y35.0 X127.5</i><br>\n",
       "<b>M3</b> <i>S5</i><br>\n",
       "<b>G2</b> <i>Y35.0 X112.5 I15 J0</i><br>\n",
       "<b>M5</b> <i></i><br>\n",
       "<b>G0</b> <i>Y35.0 X127.5</i><br>\n",
       "<b>G0</b> <i>Y55.0 X127.5</i><br>\n",
       "<b>M3</b> <i>S5</i><br>\n",
       "<b>G2</b> <i>Y55.0 X112.5 I15 J0</i><br>\n",
       "<b>M5</b> <i></i><br>\n",
       "<b>G0</b> <i>Y55.0 X127.5</i><br>\n",
       "<b>G0</b> <i>Y75.0 X127.5</i><br>\n",
       "<b>M3</b> <i>S5</i><br>\n",
       "<b>G2</b> <i>Y75.0 X112.5 I15 J0</i><br>\n",
       "<b>M5</b> <i></i><br>\n",
       "<b>G0</b> <i>Y75.0 X127.5</i><br>\n",
       "<b>G0</b> <i>Y15.0 X165.0</i><br>\n",
       "<b>M3</b> <i>S5</i><br>\n",
       "<b>G2</b> <i>Y15.0 X150.0 I15 J0</i><br>\n",
       "<b>M5</b> <i></i><br>\n",
       "<b>G0</b> <i>Y15.0 X165.0</i><br>\n",
       "<b>G0</b> <i>Y35.0 X165.0</i><br>\n",
       "<b>M3</b> <i>S5</i><br>\n",
       "<b>G2</b> <i>Y35.0 X150.0 I15 J0</i><br>\n",
       "<b>M5</b> <i></i><br>\n",
       "<b>G0</b> <i>Y35.0 X165.0</i><br>\n",
       "<b>G0</b> <i>Y55.0 X165.0</i><br>\n",
       "<b>M3</b> <i>S5</i><br>\n",
       "<b>G2</b> <i>Y55.0 X150.0 I15 J0</i><br>\n",
       "<b>M5</b> <i></i><br>\n",
       "<b>G0</b> <i>Y55.0 X165.0</i><br>\n",
       "<b>G0</b> <i>Y75.0 X165.0</i><br>\n",
       "<b>M3</b> <i>S5</i><br>\n",
       "<b>G2</b> <i>Y75.0 X150.0 I15 J0</i><br>\n",
       "<b>M5</b> <i></i><br>\n",
       "<b>G0</b> <i>Y75.0 X165.0</i><br>\n",
       "<b>G0</b> <i>Y0 X0 Z0</i><br>\n",
       "<b>M5</b> <i></i>"
      ],
      "text/plain": [
       "<GCode>[cmds=106]"
      ]
     },
     "execution_count": 16,
     "metadata": {},
     "output_type": "execute_result"
    }
   ],
   "source": [
    "test_run\n"
   ]
  },
  {
   "cell_type": "code",
   "execution_count": 17,
   "metadata": {},
   "outputs": [
    {
     "name": "stdout",
     "output_type": "stream",
     "text": [
      "^C\n"
     ]
    },
    {
     "ename": "AssertionError",
     "evalue": "",
     "output_type": "error",
     "traceback": [
      "\u001b[0;31m---------------------------------------------------------------------------\u001b[0m",
      "\u001b[0;31mAssertionError\u001b[0m                            Traceback (most recent call last)",
      "\u001b[0;32m<ipython-input-17-94d98957436c>\u001b[0m in \u001b[0;36m<module>\u001b[0;34m()\u001b[0m\n\u001b[1;32m      2\u001b[0m     \u001b[0mcnc\u001b[0m\u001b[0;34m.\u001b[0m\u001b[0mrun\u001b[0m\u001b[0;34m(\u001b[0m\u001b[0mtest_run\u001b[0m\u001b[0;34m)\u001b[0m\u001b[0;34m\u001b[0m\u001b[0m\n\u001b[1;32m      3\u001b[0m     \u001b[0;32mwhile\u001b[0m \u001b[0;36m1\u001b[0m\u001b[0;34m:\u001b[0m\u001b[0;34m\u001b[0m\u001b[0m\n\u001b[0;32m----> 4\u001b[0;31m         \u001b[0mprint\u001b[0m\u001b[0;34m(\u001b[0m\u001b[0mcnc\u001b[0m\u001b[0;34m.\u001b[0m\u001b[0mstatus\u001b[0m\u001b[0;34m)\u001b[0m\u001b[0;34m\u001b[0m\u001b[0m\n\u001b[0m\u001b[1;32m      5\u001b[0m         \u001b[0msleep\u001b[0m\u001b[0;34m(\u001b[0m\u001b[0;36m5\u001b[0m\u001b[0;34m)\u001b[0m\u001b[0;34m\u001b[0m\u001b[0m\n\u001b[1;32m      6\u001b[0m \u001b[0;32mexcept\u001b[0m \u001b[0mKeyboardInterrupt\u001b[0m \u001b[0;32mas\u001b[0m \u001b[0merror\u001b[0m\u001b[0;34m:\u001b[0m\u001b[0;34m\u001b[0m\u001b[0m\n",
      "\u001b[0;32m/projects/CNC3018/python_grbl/GRBL/__init__.py\u001b[0m in \u001b[0;36mstatus\u001b[0;34m(self)\u001b[0m\n\u001b[1;32m     68\u001b[0m         \"\"\"\n\u001b[1;32m     69\u001b[0m         \u001b[0mret\u001b[0m \u001b[0;34m=\u001b[0m \u001b[0mself\u001b[0m\u001b[0;34m.\u001b[0m\u001b[0mcmd\u001b[0m\u001b[0;34m(\u001b[0m\u001b[0;34m\"?\"\u001b[0m\u001b[0;34m)\u001b[0m\u001b[0;34m\u001b[0m\u001b[0m\n\u001b[0;32m---> 70\u001b[0;31m         \u001b[0;32massert\u001b[0m\u001b[0;34m(\u001b[0m\u001b[0mret\u001b[0m\u001b[0;34m[\u001b[0m\u001b[0;34m-\u001b[0m\u001b[0;36m1\u001b[0m\u001b[0;34m]\u001b[0m \u001b[0;34m==\u001b[0m \u001b[0;34m'ok'\u001b[0m\u001b[0;34m)\u001b[0m\u001b[0;34m\u001b[0m\u001b[0m\n\u001b[0m\u001b[1;32m     71\u001b[0m         \u001b[0;32mreturn\u001b[0m \u001b[0mret\u001b[0m\u001b[0;34m[\u001b[0m\u001b[0;36m1\u001b[0m\u001b[0;34m]\u001b[0m\u001b[0;34m\u001b[0m\u001b[0m\n\u001b[1;32m     72\u001b[0m \u001b[0;34m\u001b[0m\u001b[0m\n",
      "\u001b[0;31mAssertionError\u001b[0m: "
     ]
    }
   ],
   "source": [
    "try:\n",
    "    cnc.run(test_run)\n",
    "    while 1:\n",
    "        print(cnc.status)\n",
    "        sleep(5)\n",
    "except KeyboardInterrupt as error:\n",
    "    print(\"Feed Hold\")\n",
    "    cnc.cmd(\"!\")\n",
    "    while 1:\n",
    "        try:\n",
    "            cnc.reset()\n",
    "            break\n",
    "        except:\n",
    "            pass\n",
    "    print(\"^C\")\n"
   ]
  },
  {
   "cell_type": "code",
   "execution_count": null,
   "metadata": {},
   "outputs": [],
   "source": [
    "cnc.cmd(\"G0X0Y0\")\n"
   ]
  },
  {
   "cell_type": "code",
   "execution_count": null,
   "metadata": {
    "collapsed": true
   },
   "outputs": [],
   "source": [
    "cnc.reset()\n"
   ]
  },
  {
   "cell_type": "code",
   "execution_count": null,
   "metadata": {
    "collapsed": true
   },
   "outputs": [],
   "source": [
    "cnc.reset()\n"
   ]
  },
  {
   "cell_type": "code",
   "execution_count": null,
   "metadata": {},
   "outputs": [],
   "source": [
    "picture()\n"
   ]
  },
  {
   "cell_type": "markdown",
   "metadata": {},
   "source": [
    "# Test Aborted.\n",
    "\n",
    "Cuts were way too aggressive."
   ]
  },
  {
   "cell_type": "code",
   "execution_count": null,
   "metadata": {
    "collapsed": true
   },
   "outputs": [],
   "source": []
  }
 ],
 "metadata": {
  "kernelspec": {
   "display_name": "Python 3",
   "language": "python",
   "name": "python3"
  },
  "language_info": {
   "codemirror_mode": {
    "name": "ipython",
    "version": 3
   },
   "file_extension": ".py",
   "mimetype": "text/x-python",
   "name": "python",
   "nbconvert_exporter": "python",
   "pygments_lexer": "ipython3",
   "version": "3.5.2"
  }
 },
 "nbformat": 4,
 "nbformat_minor": 2
}
