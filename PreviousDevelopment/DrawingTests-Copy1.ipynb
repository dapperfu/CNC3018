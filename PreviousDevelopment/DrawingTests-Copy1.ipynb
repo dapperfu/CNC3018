{
 "cells": [
  {
   "cell_type": "code",
   "execution_count": null,
   "metadata": {},
   "outputs": [],
   "source": [
    "from enum import IntEnum\n",
    "from time import sleep\n",
    "\n",
    "import numpy as np\n",
    "\n",
    "import GCode\n",
    "import GRBL\n",
    "from utils import picture\n"
   ]
  },
  {
   "cell_type": "markdown",
   "metadata": {},
   "source": [
    "# Drawing Tests\n",
    "\n",
    "## Object\n",
    "- Play around with drawing things."
   ]
  },
  {
   "cell_type": "markdown",
   "metadata": {},
   "source": [
    "# Code:"
   ]
  },
  {
   "cell_type": "code",
   "execution_count": 95,
   "metadata": {},
   "outputs": [
    {
     "name": "stdout",
     "output_type": "stream",
     "text": [
      "Laser Mode: 1.0\n"
     ]
    }
   ],
   "source": [
    "cnc = GRBL.GRBL(port=\"/dev/cnc_3018\")print(\"Laser Mode: {}\".format(cnc.laser_mode))class Tool(IntEnum):    SPINDLE = 0    LASER = 1class LaserPower(IntEnum):    CONSTANT = 0    DYNAMIC = 1LaserPower.CONSTANTdef init(power_mode=LaserPower(0), feed=200, pwm=1):    program = GCode.GCode()    program.G21()  # Metric Units    program.G91()  # Absolute positioning.    program.G1(F=feed)  #    if power_mode == LaserPower.CONSTANT:        program.M3(S=pwm)  # Laser settings    else:        program.M4(S=pwm)  # Laser settings    return programdef end():    program = GCode.GCode()    program.M5()  # Laser settings.    return programdef square(size=0.25):    program = GCode.GCode()    program.G1(X=size)    program.G1(Y=-size)    program.G1(X=-size)    program.G1(Y=size)    return program"
   ]
  },
  {
   "cell_type": "markdown",
   "metadata": {},
   "source": [
    "## Test Setup\n",
    "\n",
    "Power Supply:\n",
    "- CicuitSpecialists CSI3010SW @ 12V\n",
    "- PostIt Note Grid notes. .25\" grid.\n",
    "\n",
    "Position the paper & other things."
   ]
  },
  {
   "cell_type": "code",
   "execution_count": 81,
   "metadata": {
    "collapsed": true
   },
   "outputs": [],
   "source": [
    "def laser_on(pwm):\n",
    "    if int(pwm) != np.uint8(pwm):\n",
    "        raise (Exception(\"UINT8! {}\".format(pwm)))\n",
    "    # Set minimal power setting to focus and position laser\n",
    "    cnc.cmd(\"M3 S{:03d}\".format(np.uint8(pwm)))\n",
    "    cnc.cmd(\"G1 F10\")  # Laser On\n",
    "\n",
    "\n",
    "def laser_off():\n",
    "    cnc.cmd(\"M5\")  # Laser off\n"
   ]
  },
  {
   "cell_type": "code",
   "execution_count": 34,
   "metadata": {},
   "outputs": [
    {
     "data": {
      "text/plain": [
       "['ok', 'ok']"
      ]
     },
     "execution_count": 34,
     "metadata": {},
     "output_type": "execute_result"
    }
   ],
   "source": [
    "cnc.cmd(\"$X\")\n"
   ]
  },
  {
   "cell_type": "code",
   "execution_count": 35,
   "metadata": {},
   "outputs": [
    {
     "data": {
      "text/plain": [
       "['ok', 'ok']"
      ]
     },
     "execution_count": 35,
     "metadata": {},
     "output_type": "execute_result"
    }
   ],
   "source": [
    "cnc.cmd(\"G1 F10\")\n"
   ]
  },
  {
   "cell_type": "code",
   "execution_count": 22,
   "metadata": {
    "collapsed": true
   },
   "outputs": [],
   "source": [
    "laser_on(1)  # Position the axis by hand\n"
   ]
  },
  {
   "cell_type": "code",
   "execution_count": 21,
   "metadata": {
    "collapsed": true
   },
   "outputs": [],
   "source": [
    "laser_off()\n"
   ]
  },
  {
   "cell_type": "code",
   "execution_count": 54,
   "metadata": {
    "collapsed": true
   },
   "outputs": [],
   "source": [
    "tests_x = 10\n",
    "tests_y = 7\n"
   ]
  },
  {
   "cell_type": "code",
   "execution_count": 40,
   "metadata": {},
   "outputs": [
    {
     "data": {
      "text/plain": [
       "0.8319504261016846"
      ]
     },
     "execution_count": 40,
     "metadata": {},
     "output_type": "execute_result"
    }
   ],
   "source": [
    "cnc.run(init(laser=0.1) + square(0.25))\n"
   ]
  },
  {
   "cell_type": "code",
   "execution_count": 23,
   "metadata": {
    "collapsed": true
   },
   "outputs": [],
   "source": [
    "def jogx(x=10):\n",
    "    program = GCode.GCode()\n",
    "    program.G0(X=x)\n",
    "    cnc.run(program)\n",
    "\n",
    "\n",
    "def jogy(y=10):\n",
    "    program = GCode.GCode()\n",
    "    program.G0(Y=y)\n",
    "    cnc.run(program)\n",
    "\n",
    "\n",
    "def jogz(z=10):\n",
    "    program = GCode.GCode()\n",
    "    program.G0(Z=z)\n",
    "    cnc.run(program)\n"
   ]
  },
  {
   "cell_type": "markdown",
   "metadata": {},
   "source": [
    "# Test Setup"
   ]
  },
  {
   "cell_type": "code",
   "execution_count": 49,
   "metadata": {},
   "outputs": [
    {
     "data": {
      "image/jpeg": "[encoded data removed]"
     },
     "metadata": {},
     "output_type": "display_data"
    }
   ],
   "source": [
    "picture()\n"
   ]
  },
  {
   "cell_type": "code",
   "execution_count": 100,
   "metadata": {},
   "outputs": [],
   "source": [
    "def test_program(power_mode=0, feed=100, pwm=1):\n",
    "    program = GCode.GCode()\n",
    "    program += init(power_mode=power_mode, pwm=pwm, feed=feed)\n",
    "    negX = 0\n",
    "    negZ = 0\n",
    "    for dZ in [5, 5, 5, 5]:\n",
    "        dX = 10\n",
    "        program.G1(X=dX, Z=dZ, F=feed)\n",
    "\n",
    "        negX -= dX\n",
    "        negZ -= dZ\n",
    "    program.G0(X=negX, Z=negZ)\n",
    "\n",
    "    program += end()\n",
    "    return program\n"
   ]
  },
  {
   "cell_type": "code",
   "execution_count": 101,
   "metadata": {},
   "outputs": [
    {
     "data": {
      "text/html": [
       "<b>G21</b> <i></i><br>\n",
       "<b>G91</b> <i></i><br>\n",
       "<b>G1</b> <i>F100</i><br>\n",
       "<b>M3</b> <i>S1</i><br>\n",
       "<b>G1</b> <i>F100 X10 Z5</i><br>\n",
       "<b>G1</b> <i>F100 X10 Z5</i><br>\n",
       "<b>G1</b> <i>F100 X10 Z5</i><br>\n",
       "<b>G1</b> <i>F100 X10 Z5</i><br>\n",
       "<b>G0</b> <i>X-40 Z-20</i><br>\n",
       "<b>M5</b> <i></i>"
      ],
      "text/plain": [
       "<GCode>[cmds=10]"
      ]
     },
     "execution_count": 101,
     "metadata": {},
     "output_type": "execute_result"
    }
   ],
   "source": [
    "test_program()\n"
   ]
  },
  {
   "cell_type": "code",
   "execution_count": 102,
   "metadata": {
    "scrolled": false
   },
   "outputs": [
    {
     "data": {
      "text/html": [
       "<b>G21</b> <i></i><br>\n",
       "<b>G91</b> <i></i><br>\n",
       "<b>G1</b> <i>F200</i><br>\n",
       "<b>M3</b> <i>S50</i><br>\n",
       "<b>G1</b> <i>F200 X10 Z5</i><br>\n",
       "<b>G1</b> <i>F200 X10 Z5</i><br>\n",
       "<b>G1</b> <i>F200 X10 Z5</i><br>\n",
       "<b>G1</b> <i>F200 X10 Z5</i><br>\n",
       "<b>G0</b> <i>X-40 Z-20</i><br>\n",
       "<b>M5</b> <i></i>"
      ],
      "text/plain": [
       "<GCode>[cmds=10]"
      ]
     },
     "execution_count": 102,
     "metadata": {},
     "output_type": "execute_result"
    }
   ],
   "source": [
    "test_program(pwm=50, feed=200)\n"
   ]
  },
  {
   "cell_type": "code",
   "execution_count": 106,
   "metadata": {},
   "outputs": [],
   "source": [
    "# This test is going to immediately run out of Y axis. To test Ctrl-C and interrupting tests.\n",
    "test_run = GCode.GCode()\n",
    "for pwm in [25, 50, 255]:\n",
    "    for feed in [50, 100, 250, 500, 750, 1000]:\n",
    "        for power_mode in [LaserPower.CONSTANT, LaserPower.DYNAMIC]:\n",
    "            test_run += test_program(pwm=50, feed=200)\n",
    "            test_run.G0(Y=10)\n"
   ]
  },
  {
   "cell_type": "code",
   "execution_count": 107,
   "metadata": {},
   "outputs": [
    {
     "data": {
      "text/html": [
       "<b>G21</b> <i></i><br>\n",
       "<b>G91</b> <i></i><br>\n",
       "<b>G1</b> <i>F200</i><br>\n",
       "<b>M3</b> <i>S50</i><br>\n",
       "<b>G1</b> <i>F200 X10 Z5</i><br>\n",
       "<b>G1</b> <i>F200 X10 Z5</i><br>\n",
       "<b>G1</b> <i>F200 X10 Z5</i><br>\n",
       "<b>G1</b> <i>F200 X10 Z5</i><br>\n",
       "<b>G0</b> <i>X-40 Z-20</i><br>\n",
       "<b>M5</b> <i></i><br>\n",
       "<b>G0</b> <i>Y10</i><br>\n",
       "<b>G21</b> <i></i><br>\n",
       "<b>G91</b> <i></i><br>\n",
       "<b>G1</b> <i>F200</i><br>\n",
       "<b>M3</b> <i>S50</i><br>\n",
       "<b>G1</b> <i>F200 X10 Z5</i><br>\n",
       "<b>G1</b> <i>F200 X10 Z5</i><br>\n",
       "<b>G1</b> <i>F200 X10 Z5</i><br>\n",
       "<b>G1</b> <i>F200 X10 Z5</i><br>\n",
       "<b>G0</b> <i>X-40 Z-20</i><br>\n",
       "<b>M5</b> <i></i><br>\n",
       "<b>G0</b> <i>Y10</i><br>\n",
       "<b>G21</b> <i></i><br>\n",
       "<b>G91</b> <i></i><br>\n",
       "<b>G1</b> <i>F200</i><br>\n",
       "<b>M3</b> <i>S50</i><br>\n",
       "<b>G1</b> <i>F200 X10 Z5</i><br>\n",
       "<b>G1</b> <i>F200 X10 Z5</i><br>\n",
       "<b>G1</b> <i>F200 X10 Z5</i><br>\n",
       "<b>G1</b> <i>F200 X10 Z5</i><br>\n",
       "<b>G0</b> <i>X-40 Z-20</i><br>\n",
       "<b>M5</b> <i></i><br>\n",
       "<b>G0</b> <i>Y10</i><br>\n",
       "<b>G21</b> <i></i><br>\n",
       "<b>G91</b> <i></i><br>\n",
       "<b>G1</b> <i>F200</i><br>\n",
       "<b>M3</b> <i>S50</i><br>\n",
       "<b>G1</b> <i>F200 X10 Z5</i><br>\n",
       "<b>G1</b> <i>F200 X10 Z5</i><br>\n",
       "<b>G1</b> <i>F200 X10 Z5</i><br>\n",
       "<b>G1</b> <i>F200 X10 Z5</i><br>\n",
       "<b>G0</b> <i>X-40 Z-20</i><br>\n",
       "<b>M5</b> <i></i><br>\n",
       "<b>G0</b> <i>Y10</i><br>\n",
       "<b>G21</b> <i></i><br>\n",
       "<b>G91</b> <i></i><br>\n",
       "<b>G1</b> <i>F200</i><br>\n",
       "<b>M3</b> <i>S50</i><br>\n",
       "<b>G1</b> <i>F200 X10 Z5</i><br>\n",
       "<b>G1</b> <i>F200 X10 Z5</i><br>\n",
       "<b>G1</b> <i>F200 X10 Z5</i><br>\n",
       "<b>G1</b> <i>F200 X10 Z5</i><br>\n",
       "<b>G0</b> <i>X-40 Z-20</i><br>\n",
       "<b>M5</b> <i></i><br>\n",
       "<b>G0</b> <i>Y10</i><br>\n",
       "<b>G21</b> <i></i><br>\n",
       "<b>G91</b> <i></i><br>\n",
       "<b>G1</b> <i>F200</i><br>\n",
       "<b>M3</b> <i>S50</i><br>\n",
       "<b>G1</b> <i>F200 X10 Z5</i><br>\n",
       "<b>G1</b> <i>F200 X10 Z5</i><br>\n",
       "<b>G1</b> <i>F200 X10 Z5</i><br>\n",
       "<b>G1</b> <i>F200 X10 Z5</i><br>\n",
       "<b>G0</b> <i>X-40 Z-20</i><br>\n",
       "<b>M5</b> <i></i><br>\n",
       "<b>G0</b> <i>Y10</i><br>\n",
       "<b>G21</b> <i></i><br>\n",
       "<b>G91</b> <i></i><br>\n",
       "<b>G1</b> <i>F200</i><br>\n",
       "<b>M3</b> <i>S50</i><br>\n",
       "<b>G1</b> <i>F200 X10 Z5</i><br>\n",
       "<b>G1</b> <i>F200 X10 Z5</i><br>\n",
       "<b>G1</b> <i>F200 X10 Z5</i><br>\n",
       "<b>G1</b> <i>F200 X10 Z5</i><br>\n",
       "<b>G0</b> <i>X-40 Z-20</i><br>\n",
       "<b>M5</b> <i></i><br>\n",
       "<b>G0</b> <i>Y10</i><br>\n",
       "<b>G21</b> <i></i><br>\n",
       "<b>G91</b> <i></i><br>\n",
       "<b>G1</b> <i>F200</i><br>\n",
       "<b>M3</b> <i>S50</i><br>\n",
       "<b>G1</b> <i>F200 X10 Z5</i><br>\n",
       "<b>G1</b> <i>F200 X10 Z5</i><br>\n",
       "<b>G1</b> <i>F200 X10 Z5</i><br>\n",
       "<b>G1</b> <i>F200 X10 Z5</i><br>\n",
       "<b>G0</b> <i>X-40 Z-20</i><br>\n",
       "<b>M5</b> <i></i><br>\n",
       "<b>G0</b> <i>Y10</i><br>\n",
       "<b>G21</b> <i></i><br>\n",
       "<b>G91</b> <i></i><br>\n",
       "<b>G1</b> <i>F200</i><br>\n",
       "<b>M3</b> <i>S50</i><br>\n",
       "<b>G1</b> <i>F200 X10 Z5</i><br>\n",
       "<b>G1</b> <i>F200 X10 Z5</i><br>\n",
       "<b>G1</b> <i>F200 X10 Z5</i><br>\n",
       "<b>G1</b> <i>F200 X10 Z5</i><br>\n",
       "<b>G0</b> <i>X-40 Z-20</i><br>\n",
       "<b>M5</b> <i></i><br>\n",
       "<b>G0</b> <i>Y10</i><br>\n",
       "<b>G21</b> <i></i><br>\n",
       "<b>G91</b> <i></i><br>\n",
       "<b>G1</b> <i>F200</i><br>\n",
       "<b>M3</b> <i>S50</i><br>\n",
       "<b>G1</b> <i>F200 X10 Z5</i><br>\n",
       "<b>G1</b> <i>F200 X10 Z5</i><br>\n",
       "<b>G1</b> <i>F200 X10 Z5</i><br>\n",
       "<b>G1</b> <i>F200 X10 Z5</i><br>\n",
       "<b>G0</b> <i>X-40 Z-20</i><br>\n",
       "<b>M5</b> <i></i><br>\n",
       "<b>G0</b> <i>Y10</i><br>\n",
       "<b>G21</b> <i></i><br>\n",
       "<b>G91</b> <i></i><br>\n",
       "<b>G1</b> <i>F200</i><br>\n",
       "<b>M3</b> <i>S50</i><br>\n",
       "<b>G1</b> <i>F200 X10 Z5</i><br>\n",
       "<b>G1</b> <i>F200 X10 Z5</i><br>\n",
       "<b>G1</b> <i>F200 X10 Z5</i><br>\n",
       "<b>G1</b> <i>F200 X10 Z5</i><br>\n",
       "<b>G0</b> <i>X-40 Z-20</i><br>\n",
       "<b>M5</b> <i></i><br>\n",
       "<b>G0</b> <i>Y10</i><br>\n",
       "<b>G21</b> <i></i><br>\n",
       "<b>G91</b> <i></i><br>\n",
       "<b>G1</b> <i>F200</i><br>\n",
       "<b>M3</b> <i>S50</i><br>\n",
       "<b>G1</b> <i>F200 X10 Z5</i><br>\n",
       "<b>G1</b> <i>F200 X10 Z5</i><br>\n",
       "<b>G1</b> <i>F200 X10 Z5</i><br>\n",
       "<b>G1</b> <i>F200 X10 Z5</i><br>\n",
       "<b>G0</b> <i>X-40 Z-20</i><br>\n",
       "<b>M5</b> <i></i><br>\n",
       "<b>G0</b> <i>Y10</i><br>\n",
       "<b>G21</b> <i></i><br>\n",
       "<b>G91</b> <i></i><br>\n",
       "<b>G1</b> <i>F200</i><br>\n",
       "<b>M3</b> <i>S50</i><br>\n",
       "<b>G1</b> <i>F200 X10 Z5</i><br>\n",
       "<b>G1</b> <i>F200 X10 Z5</i><br>\n",
       "<b>G1</b> <i>F200 X10 Z5</i><br>\n",
       "<b>G1</b> <i>F200 X10 Z5</i><br>\n",
       "<b>G0</b> <i>X-40 Z-20</i><br>\n",
       "<b>M5</b> <i></i><br>\n",
       "<b>G0</b> <i>Y10</i><br>\n",
       "<b>G21</b> <i></i><br>\n",
       "<b>G91</b> <i></i><br>\n",
       "<b>G1</b> <i>F200</i><br>\n",
       "<b>M3</b> <i>S50</i><br>\n",
       "<b>G1</b> <i>F200 X10 Z5</i><br>\n",
       "<b>G1</b> <i>F200 X10 Z5</i><br>\n",
       "<b>G1</b> <i>F200 X10 Z5</i><br>\n",
       "<b>G1</b> <i>F200 X10 Z5</i><br>\n",
       "<b>G0</b> <i>X-40 Z-20</i><br>\n",
       "<b>M5</b> <i></i><br>\n",
       "<b>G0</b> <i>Y10</i><br>\n",
       "<b>G21</b> <i></i><br>\n",
       "<b>G91</b> <i></i><br>\n",
       "<b>G1</b> <i>F200</i><br>\n",
       "<b>M3</b> <i>S50</i><br>\n",
       "<b>G1</b> <i>F200 X10 Z5</i><br>\n",
       "<b>G1</b> <i>F200 X10 Z5</i><br>\n",
       "<b>G1</b> <i>F200 X10 Z5</i><br>\n",
       "<b>G1</b> <i>F200 X10 Z5</i><br>\n",
       "<b>G0</b> <i>X-40 Z-20</i><br>\n",
       "<b>M5</b> <i></i><br>\n",
       "<b>G0</b> <i>Y10</i><br>\n",
       "<b>G21</b> <i></i><br>\n",
       "<b>G91</b> <i></i><br>\n",
       "<b>G1</b> <i>F200</i><br>\n",
       "<b>M3</b> <i>S50</i><br>\n",
       "<b>G1</b> <i>F200 X10 Z5</i><br>\n",
       "<b>G1</b> <i>F200 X10 Z5</i><br>\n",
       "<b>G1</b> <i>F200 X10 Z5</i><br>\n",
       "<b>G1</b> <i>F200 X10 Z5</i><br>\n",
       "<b>G0</b> <i>X-40 Z-20</i><br>\n",
       "<b>M5</b> <i></i><br>\n",
       "<b>G0</b> <i>Y10</i><br>\n",
       "<b>G21</b> <i></i><br>\n",
       "<b>G91</b> <i></i><br>\n",
       "<b>G1</b> <i>F200</i><br>\n",
       "<b>M3</b> <i>S50</i><br>\n",
       "<b>G1</b> <i>F200 X10 Z5</i><br>\n",
       "<b>G1</b> <i>F200 X10 Z5</i><br>\n",
       "<b>G1</b> <i>F200 X10 Z5</i><br>\n",
       "<b>G1</b> <i>F200 X10 Z5</i><br>\n",
       "<b>G0</b> <i>X-40 Z-20</i><br>\n",
       "<b>M5</b> <i></i><br>\n",
       "<b>G0</b> <i>Y10</i><br>\n",
       "<b>G21</b> <i></i><br>\n",
       "<b>G91</b> <i></i><br>\n",
       "<b>G1</b> <i>F200</i><br>\n",
       "<b>M3</b> <i>S50</i><br>\n",
       "<b>G1</b> <i>F200 X10 Z5</i><br>\n",
       "<b>G1</b> <i>F200 X10 Z5</i><br>\n",
       "<b>G1</b> <i>F200 X10 Z5</i><br>\n",
       "<b>G1</b> <i>F200 X10 Z5</i><br>\n",
       "<b>G0</b> <i>X-40 Z-20</i><br>\n",
       "<b>M5</b> <i></i><br>\n",
       "<b>G0</b> <i>Y10</i><br>\n",
       "<b>G21</b> <i></i><br>\n",
       "<b>G91</b> <i></i><br>\n",
       "<b>G1</b> <i>F200</i><br>\n",
       "<b>M3</b> <i>S50</i><br>\n",
       "<b>G1</b> <i>F200 X10 Z5</i><br>\n",
       "<b>G1</b> <i>F200 X10 Z5</i><br>\n",
       "<b>G1</b> <i>F200 X10 Z5</i><br>\n",
       "<b>G1</b> <i>F200 X10 Z5</i><br>\n",
       "<b>G0</b> <i>X-40 Z-20</i><br>\n",
       "<b>M5</b> <i></i><br>\n",
       "<b>G0</b> <i>Y10</i><br>\n",
       "<b>G21</b> <i></i><br>\n",
       "<b>G91</b> <i></i><br>\n",
       "<b>G1</b> <i>F200</i><br>\n",
       "<b>M3</b> <i>S50</i><br>\n",
       "<b>G1</b> <i>F200 X10 Z5</i><br>\n",
       "<b>G1</b> <i>F200 X10 Z5</i><br>\n",
       "<b>G1</b> <i>F200 X10 Z5</i><br>\n",
       "<b>G1</b> <i>F200 X10 Z5</i><br>\n",
       "<b>G0</b> <i>X-40 Z-20</i><br>\n",
       "<b>M5</b> <i></i><br>\n",
       "<b>G0</b> <i>Y10</i><br>\n",
       "<b>G21</b> <i></i><br>\n",
       "<b>G91</b> <i></i><br>\n",
       "<b>G1</b> <i>F200</i><br>\n",
       "<b>M3</b> <i>S50</i><br>\n",
       "<b>G1</b> <i>F200 X10 Z5</i><br>\n",
       "<b>G1</b> <i>F200 X10 Z5</i><br>\n",
       "<b>G1</b> <i>F200 X10 Z5</i><br>\n",
       "<b>G1</b> <i>F200 X10 Z5</i><br>\n",
       "<b>G0</b> <i>X-40 Z-20</i><br>\n",
       "<b>M5</b> <i></i><br>\n",
       "<b>G0</b> <i>Y10</i><br>\n",
       "<b>G21</b> <i></i><br>\n",
       "<b>G91</b> <i></i><br>\n",
       "<b>G1</b> <i>F200</i><br>\n",
       "<b>M3</b> <i>S50</i><br>\n",
       "<b>G1</b> <i>F200 X10 Z5</i><br>\n",
       "<b>G1</b> <i>F200 X10 Z5</i><br>\n",
       "<b>G1</b> <i>F200 X10 Z5</i><br>\n",
       "<b>G1</b> <i>F200 X10 Z5</i><br>\n",
       "<b>G0</b> <i>X-40 Z-20</i><br>\n",
       "<b>M5</b> <i></i><br>\n",
       "<b>G0</b> <i>Y10</i><br>\n",
       "<b>G21</b> <i></i><br>\n",
       "<b>G91</b> <i></i><br>\n",
       "<b>G1</b> <i>F200</i><br>\n",
       "<b>M3</b> <i>S50</i><br>\n",
       "<b>G1</b> <i>F200 X10 Z5</i><br>\n",
       "<b>G1</b> <i>F200 X10 Z5</i><br>\n",
       "<b>G1</b> <i>F200 X10 Z5</i><br>\n",
       "<b>G1</b> <i>F200 X10 Z5</i><br>\n",
       "<b>G0</b> <i>X-40 Z-20</i><br>\n",
       "<b>M5</b> <i></i><br>\n",
       "<b>G0</b> <i>Y10</i><br>\n",
       "<b>G21</b> <i></i><br>\n",
       "<b>G91</b> <i></i><br>\n",
       "<b>G1</b> <i>F200</i><br>\n",
       "<b>M3</b> <i>S50</i><br>\n",
       "<b>G1</b> <i>F200 X10 Z5</i><br>\n",
       "<b>G1</b> <i>F200 X10 Z5</i><br>\n",
       "<b>G1</b> <i>F200 X10 Z5</i><br>\n",
       "<b>G1</b> <i>F200 X10 Z5</i><br>\n",
       "<b>G0</b> <i>X-40 Z-20</i><br>\n",
       "<b>M5</b> <i></i><br>\n",
       "<b>G0</b> <i>Y10</i><br>\n",
       "<b>G21</b> <i></i><br>\n",
       "<b>G91</b> <i></i><br>\n",
       "<b>G1</b> <i>F200</i><br>\n",
       "<b>M3</b> <i>S50</i><br>\n",
       "<b>G1</b> <i>F200 X10 Z5</i><br>\n",
       "<b>G1</b> <i>F200 X10 Z5</i><br>\n",
       "<b>G1</b> <i>F200 X10 Z5</i><br>\n",
       "<b>G1</b> <i>F200 X10 Z5</i><br>\n",
       "<b>G0</b> <i>X-40 Z-20</i><br>\n",
       "<b>M5</b> <i></i><br>\n",
       "<b>G0</b> <i>Y10</i><br>\n",
       "<b>G21</b> <i></i><br>\n",
       "<b>G91</b> <i></i><br>\n",
       "<b>G1</b> <i>F200</i><br>\n",
       "<b>M3</b> <i>S50</i><br>\n",
       "<b>G1</b> <i>F200 X10 Z5</i><br>\n",
       "<b>G1</b> <i>F200 X10 Z5</i><br>\n",
       "<b>G1</b> <i>F200 X10 Z5</i><br>\n",
       "<b>G1</b> <i>F200 X10 Z5</i><br>\n",
       "<b>G0</b> <i>X-40 Z-20</i><br>\n",
       "<b>M5</b> <i></i><br>\n",
       "<b>G0</b> <i>Y10</i><br>\n",
       "<b>G21</b> <i></i><br>\n",
       "<b>G91</b> <i></i><br>\n",
       "<b>G1</b> <i>F200</i><br>\n",
       "<b>M3</b> <i>S50</i><br>\n",
       "<b>G1</b> <i>F200 X10 Z5</i><br>\n",
       "<b>G1</b> <i>F200 X10 Z5</i><br>\n",
       "<b>G1</b> <i>F200 X10 Z5</i><br>\n",
       "<b>G1</b> <i>F200 X10 Z5</i><br>\n",
       "<b>G0</b> <i>X-40 Z-20</i><br>\n",
       "<b>M5</b> <i></i><br>\n",
       "<b>G0</b> <i>Y10</i><br>\n",
       "<b>G21</b> <i></i><br>\n",
       "<b>G91</b> <i></i><br>\n",
       "<b>G1</b> <i>F200</i><br>\n",
       "<b>M3</b> <i>S50</i><br>\n",
       "<b>G1</b> <i>F200 X10 Z5</i><br>\n",
       "<b>G1</b> <i>F200 X10 Z5</i><br>\n",
       "<b>G1</b> <i>F200 X10 Z5</i><br>\n",
       "<b>G1</b> <i>F200 X10 Z5</i><br>\n",
       "<b>G0</b> <i>X-40 Z-20</i><br>\n",
       "<b>M5</b> <i></i><br>\n",
       "<b>G0</b> <i>Y10</i><br>\n",
       "<b>G21</b> <i></i><br>\n",
       "<b>G91</b> <i></i><br>\n",
       "<b>G1</b> <i>F200</i><br>\n",
       "<b>M3</b> <i>S50</i><br>\n",
       "<b>G1</b> <i>F200 X10 Z5</i><br>\n",
       "<b>G1</b> <i>F200 X10 Z5</i><br>\n",
       "<b>G1</b> <i>F200 X10 Z5</i><br>\n",
       "<b>G1</b> <i>F200 X10 Z5</i><br>\n",
       "<b>G0</b> <i>X-40 Z-20</i><br>\n",
       "<b>M5</b> <i></i><br>\n",
       "<b>G0</b> <i>Y10</i><br>\n",
       "<b>G21</b> <i></i><br>\n",
       "<b>G91</b> <i></i><br>\n",
       "<b>G1</b> <i>F200</i><br>\n",
       "<b>M3</b> <i>S50</i><br>\n",
       "<b>G1</b> <i>F200 X10 Z5</i><br>\n",
       "<b>G1</b> <i>F200 X10 Z5</i><br>\n",
       "<b>G1</b> <i>F200 X10 Z5</i><br>\n",
       "<b>G1</b> <i>F200 X10 Z5</i><br>\n",
       "<b>G0</b> <i>X-40 Z-20</i><br>\n",
       "<b>M5</b> <i></i><br>\n",
       "<b>G0</b> <i>Y10</i><br>\n",
       "<b>G21</b> <i></i><br>\n",
       "<b>G91</b> <i></i><br>\n",
       "<b>G1</b> <i>F200</i><br>\n",
       "<b>M3</b> <i>S50</i><br>\n",
       "<b>G1</b> <i>F200 X10 Z5</i><br>\n",
       "<b>G1</b> <i>F200 X10 Z5</i><br>\n",
       "<b>G1</b> <i>F200 X10 Z5</i><br>\n",
       "<b>G1</b> <i>F200 X10 Z5</i><br>\n",
       "<b>G0</b> <i>X-40 Z-20</i><br>\n",
       "<b>M5</b> <i></i><br>\n",
       "<b>G0</b> <i>Y10</i><br>\n",
       "<b>G21</b> <i></i><br>\n",
       "<b>G91</b> <i></i><br>\n",
       "<b>G1</b> <i>F200</i><br>\n",
       "<b>M3</b> <i>S50</i><br>\n",
       "<b>G1</b> <i>F200 X10 Z5</i><br>\n",
       "<b>G1</b> <i>F200 X10 Z5</i><br>\n",
       "<b>G1</b> <i>F200 X10 Z5</i><br>\n",
       "<b>G1</b> <i>F200 X10 Z5</i><br>\n",
       "<b>G0</b> <i>X-40 Z-20</i><br>\n",
       "<b>M5</b> <i></i><br>\n",
       "<b>G0</b> <i>Y10</i><br>\n",
       "<b>G21</b> <i></i><br>\n",
       "<b>G91</b> <i></i><br>\n",
       "<b>G1</b> <i>F200</i><br>\n",
       "<b>M3</b> <i>S50</i><br>\n",
       "<b>G1</b> <i>F200 X10 Z5</i><br>\n",
       "<b>G1</b> <i>F200 X10 Z5</i><br>\n",
       "<b>G1</b> <i>F200 X10 Z5</i><br>\n",
       "<b>G1</b> <i>F200 X10 Z5</i><br>\n",
       "<b>G0</b> <i>X-40 Z-20</i><br>\n",
       "<b>M5</b> <i></i><br>\n",
       "<b>G0</b> <i>Y10</i><br>\n",
       "<b>G21</b> <i></i><br>\n",
       "<b>G91</b> <i></i><br>\n",
       "<b>G1</b> <i>F200</i><br>\n",
       "<b>M3</b> <i>S50</i><br>\n",
       "<b>G1</b> <i>F200 X10 Z5</i><br>\n",
       "<b>G1</b> <i>F200 X10 Z5</i><br>\n",
       "<b>G1</b> <i>F200 X10 Z5</i><br>\n",
       "<b>G1</b> <i>F200 X10 Z5</i><br>\n",
       "<b>G0</b> <i>X-40 Z-20</i><br>\n",
       "<b>M5</b> <i></i><br>\n",
       "<b>G0</b> <i>Y10</i><br>\n",
       "<b>G21</b> <i></i><br>\n",
       "<b>G91</b> <i></i><br>\n",
       "<b>G1</b> <i>F200</i><br>\n",
       "<b>M3</b> <i>S50</i><br>\n",
       "<b>G1</b> <i>F200 X10 Z5</i><br>\n",
       "<b>G1</b> <i>F200 X10 Z5</i><br>\n",
       "<b>G1</b> <i>F200 X10 Z5</i><br>\n",
       "<b>G1</b> <i>F200 X10 Z5</i><br>\n",
       "<b>G0</b> <i>X-40 Z-20</i><br>\n",
       "<b>M5</b> <i></i><br>\n",
       "<b>G0</b> <i>Y10</i><br>\n",
       "<b>G21</b> <i></i><br>\n",
       "<b>G91</b> <i></i><br>\n",
       "<b>G1</b> <i>F200</i><br>\n",
       "<b>M3</b> <i>S50</i><br>\n",
       "<b>G1</b> <i>F200 X10 Z5</i><br>\n",
       "<b>G1</b> <i>F200 X10 Z5</i><br>\n",
       "<b>G1</b> <i>F200 X10 Z5</i><br>\n",
       "<b>G1</b> <i>F200 X10 Z5</i><br>\n",
       "<b>G0</b> <i>X-40 Z-20</i><br>\n",
       "<b>M5</b> <i></i><br>\n",
       "<b>G0</b> <i>Y10</i>"
      ],
      "text/plain": [
       "<GCode>[cmds=396]"
      ]
     },
     "execution_count": 107,
     "metadata": {},
     "output_type": "execute_result"
    }
   ],
   "source": [
    "test_run\n"
   ]
  },
  {
   "cell_type": "code",
   "execution_count": 108,
   "metadata": {
    "collapsed": true
   },
   "outputs": [],
   "source": [
    "test_run.save(\"DrawingTests-Copy1.gcode\")\n"
   ]
  },
  {
   "cell_type": "code",
   "execution_count": 109,
   "metadata": {
    "collapsed": true
   },
   "outputs": [],
   "source": [
    "test_run = GCode.GCode()\n"
   ]
  },
  {
   "cell_type": "code",
   "execution_count": 110,
   "metadata": {
    "collapsed": true
   },
   "outputs": [],
   "source": [
    "test_run.load(\"DrawingTests-Copy1.gcode\")\n"
   ]
  },
  {
   "cell_type": "code",
   "execution_count": 111,
   "metadata": {},
   "outputs": [
    {
     "data": {
      "text/plain": [
       "['G21', 'G91', 'G1 F200', 'M3 S50', 'G1 F200 X10 Z5']"
      ]
     },
     "execution_count": 111,
     "metadata": {},
     "output_type": "execute_result"
    }
   ],
   "source": [
    "test_run.buffer[0:5]\n"
   ]
  },
  {
   "cell_type": "code",
   "execution_count": 113,
   "metadata": {},
   "outputs": [],
   "source": [
    "cnc.reset()\n"
   ]
  },
  {
   "cell_type": "code",
   "execution_count": 114,
   "metadata": {},
   "outputs": [
    {
     "data": {
      "text/plain": [
       "'<Idle|MPos:0.000,0.000,-5.000|Bf:15,127|FS:0,0|WCO:0.000,0.000,0.000>'"
      ]
     },
     "execution_count": 114,
     "metadata": {},
     "output_type": "execute_result"
    }
   ],
   "source": [
    "cnc.status\n"
   ]
  },
  {
   "cell_type": "code",
   "execution_count": 121,
   "metadata": {},
   "outputs": [
    {
     "name": "stdout",
     "output_type": "stream",
     "text": [
      ".\n",
      ".\n",
      ".\n",
      ".\n",
      ".\n",
      ".\n",
      ".\n",
      ".\n",
      ".\n",
      ".\n",
      ".\n",
      ".\n",
      ".\n",
      ".\n",
      ".\n",
      ".\n",
      ".\n",
      ".\n",
      ".\n",
      ".\n",
      ".\n",
      ".\n",
      ".\n",
      ".\n",
      ".\n",
      ".\n",
      ".\n",
      ".\n",
      ".\n",
      ".\n",
      ".\n",
      ".\n",
      ".\n",
      ".\n",
      ".\n",
      ".\n",
      ".\n",
      ".\n",
      ".\n",
      ".\n",
      ".\n",
      ".\n",
      ".\n",
      ".\n",
      ".\n",
      ".\n",
      ".\n",
      ".\n",
      ".\n",
      ".\n",
      ".\n",
      ".\n",
      ".\n",
      ".\n",
      ".\n",
      ".\n",
      ".\n",
      ".\n",
      ".\n",
      ".\n",
      ".\n",
      ".\n",
      ".\n",
      ".\n",
      ".\n",
      ".\n",
      ".\n",
      ".\n",
      ".\n",
      ".\n",
      ".\n",
      ".\n",
      ".\n",
      ".\n",
      ".\n",
      ".\n",
      ".\n",
      ".\n",
      ".\n",
      ".\n",
      ".\n",
      ".\n",
      ".\n",
      ".\n",
      ".\n",
      ".\n",
      ".\n",
      ".\n",
      ".\n",
      ".\n",
      ".\n",
      ".\n",
      ".\n",
      ".\n",
      ".\n",
      ".\n",
      ".\n",
      ".\n",
      ".\n",
      ".\n",
      ".\n",
      ".\n",
      ".\n",
      ".\n",
      ".\n",
      ".\n",
      ".\n",
      ".\n",
      ".\n",
      ".\n",
      ".\n",
      ".\n",
      ".\n",
      ".\n",
      ".\n",
      ".\n",
      ".\n",
      ".\n",
      ".\n",
      ".\n",
      ".\n",
      ".\n",
      ".\n",
      ".\n",
      ".\n",
      ".\n",
      ".\n",
      ".\n",
      ".\n",
      ".\n",
      ".\n",
      ".\n",
      ".\n",
      ".\n",
      ".\n",
      ".\n",
      ".\n",
      ".\n",
      ".\n",
      ".\n",
      ".\n",
      ".\n",
      ".\n",
      ".\n",
      ".\n",
      ".\n",
      ".\n",
      ".\n",
      ".\n",
      ".\n",
      ".\n",
      ".\n",
      ".\n",
      ".\n",
      ".\n",
      ".\n",
      ".\n",
      ".\n",
      ".\n",
      ".\n",
      ".\n",
      ".\n",
      ".\n",
      ".\n",
      ".\n",
      ".\n",
      ".\n",
      ".\n",
      ".\n",
      ".\n",
      ".\n",
      ".\n",
      ".\n",
      ".\n",
      ".\n",
      ".\n",
      ".\n",
      ".\n",
      ".\n",
      ".\n",
      ".\n",
      ".\n",
      ".\n",
      ".\n",
      ".\n",
      ".\n",
      ".\n",
      ".\n",
      ".\n",
      ".\n",
      ".\n",
      ".\n",
      ".\n",
      ".\n",
      ".\n",
      ".\n",
      ".\n",
      ".\n",
      ".\n",
      ".\n",
      ".\n",
      ".\n",
      ".\n",
      ".\n",
      ".\n",
      ".\n",
      ".\n",
      ".\n",
      ".\n",
      ".\n",
      ".\n",
      ".\n",
      ".\n",
      ".\n",
      ".\n",
      ".\n",
      ".\n",
      ".\n",
      ".\n",
      ".\n",
      ".\n",
      ".\n",
      ".\n",
      ".\n",
      ".\n",
      ".\n",
      ".\n",
      ".\n",
      ".\n",
      ".\n",
      ".\n",
      ".\n",
      ".\n",
      ".\n",
      "Feed Hold\n",
      "^C\n"
     ]
    }
   ],
   "source": [
    "while 1:\n",
    "    try:\n",
    "        cnc.run(test_run)\n",
    "        while 1:\n",
    "            print(cnc.status)\n",
    "            sleep(5)\n",
    "    except KeyboardInterrupt as error:\n",
    "        print(\"Feed Hold\")\n",
    "        cnc.cmd(\"!\")\n",
    "        print(\"^C\")\n",
    "        break\n",
    "    except:\n",
    "        raise\n"
   ]
  },
  {
   "cell_type": "code",
   "execution_count": 124,
   "metadata": {},
   "outputs": [
    {
     "data": {
      "text/plain": [
       "['<Hold:0|MPos:21.548,70.000,5.774|Bf:12,0|FS:0,0>']"
      ]
     },
     "execution_count": 124,
     "metadata": {},
     "output_type": "execute_result"
    }
   ],
   "source": [
    "cnc.cmd(\"?\")\n",
    "# .status does not return 'ok'/'ok' when this requested on hold.\n"
   ]
  },
  {
   "cell_type": "markdown",
   "metadata": {},
   "source": [
    "GRBL Source that controls this string: https://github.com/gnea/grbl/blob/master/grbl/report.c"
   ]
  },
  {
   "cell_type": "markdown",
   "metadata": {},
   "source": [
    "Bf = Plan block buffer available.\n",
    "FS = real-time feed rate & spindle speed."
   ]
  },
  {
   "cell_type": "markdown",
   "metadata": {},
   "source": [
    "# New Test Setup!\n",
    "\n",
    "This notebook's structure makes it much easier to run tests and debug before exceuting the tests.\n",
    "\n",
    "- Makes it easier & safer to interrupt test (^C / interrupt)\n",
    "- Saves the GCode for version control.\n",
    "- "
   ]
  }
 ],
 "metadata": {
  "kernelspec": {
   "display_name": "Python 3",
   "language": "python",
   "name": "python3"
  },
  "language_info": {
   "codemirror_mode": {
    "name": "ipython",
    "version": 3
   },
   "file_extension": ".py",
   "mimetype": "text/x-python",
   "name": "python",
   "nbconvert_exporter": "python",
   "pygments_lexer": "ipython3",
   "version": "3.5.2"
  }
 },
 "nbformat": 4,
 "nbformat_minor": 2
}
