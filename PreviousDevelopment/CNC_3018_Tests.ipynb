{
 "cells": [
  {
   "cell_type": "code",
   "execution_count": null,
   "metadata": {},
   "outputs": [],
   "source": [
    "%aimport GCode\n",
    "%aimport GRBL"
   ]
  },
  {
   "cell_type": "markdown",
   "metadata": {},
   "source": [
    "# CNC Laser Power Settings Test\n",
    "\n",
    "### Reference:\n",
    "-http://www.cnccookbook.com/CCCNCGCodeG20G21MetricImperialUnitConversion.htm\n",
    "- http://marlinfw.org/meta/gcode/\n",
    "- https://github.com/grbl/grbl/wiki\n",
    "- http://www.linuxcnc.org/docs/2.5/html/gcode/other-code.html"
   ]
  },
  {
   "cell_type": "markdown",
   "metadata": {},
   "source": [
    "# Code:"
   ]
  },
  {
   "cell_type": "code",
   "execution_count": 1,
   "metadata": {},
   "outputs": [],
   "source": [
    "%load_ext autoreload\n",
    "%autoreload 1"
   ]
  },
  {
   "cell_type": "markdown",
   "metadata": {},
   "source": [
    "If this throws an error, user needs to be added to dialout group.\n",
    "\n",
    "    usermod -aG dialout [USER]"
   ]
  },
  {
   "cell_type": "code",
   "execution_count": 5,
   "metadata": {},
   "outputs": [],
   "source": [
    "cnc = GRBL.GRBL(port=\"/dev/cnc_3018\")\n"
   ]
  },
  {
   "cell_type": "code",
   "execution_count": 7,
   "metadata": {},
   "outputs": [
    {
     "data": {
      "text/plain": [
       "0.0"
      ]
     },
     "execution_count": 7,
     "metadata": {},
     "output_type": "execute_result"
    }
   ],
   "source": [
    "cnc.laser_mode\n"
   ]
  },
  {
   "cell_type": "code",
   "execution_count": 8,
   "metadata": {},
   "outputs": [],
   "source": [
    "def init(M3=True, feed=200, laser=25):\n",
    "    program = GCode.GCode()\n",
    "    program.G21()  # Metric Units\n",
    "    program.G91()  # Absolute positioning.\n",
    "    program.G1(F=feed)  #\n",
    "    program.M3(S=laser)  # Laser settings.\n",
    "    return program\n"
   ]
  },
  {
   "cell_type": "code",
   "execution_count": 9,
   "metadata": {},
   "outputs": [],
   "source": [
    "def end():\n",
    "    program = GCode.GCode()\n",
    "    program.M5()  # Laser settings.\n",
    "    return program\n"
   ]
  },
  {
   "cell_type": "code",
   "execution_count": 10,
   "metadata": {},
   "outputs": [],
   "source": [
    "def square(size=20):\n",
    "    program = GCode.GCode()\n",
    "    program.G1(X=size)\n",
    "    program.G1(Y=size)\n",
    "    program.G1(X=-size)\n",
    "    program.G1(Y=-size)\n",
    "    return program\n"
   ]
  },
  {
   "cell_type": "code",
   "execution_count": 13,
   "metadata": {},
   "outputs": [
    {
     "data": {
      "text/plain": [
       "'<Alarm|MPos:0.000,0.000,0.000|Bf:15,127|FS:0,0|WCO:0.000,0.000,0.000>'"
      ]
     },
     "execution_count": 13,
     "metadata": {},
     "output_type": "execute_result"
    }
   ],
   "source": [
    "cnc.status\n"
   ]
  },
  {
   "cell_type": "code",
   "execution_count": 15,
   "metadata": {},
   "outputs": [],
   "source": [
    "cnc.kill_alarm()\n"
   ]
  },
  {
   "cell_type": "code",
   "execution_count": 28,
   "metadata": {},
   "outputs": [
    {
     "data": {
      "text/plain": [
       "['ok', 'ok']"
      ]
     },
     "execution_count": 28,
     "metadata": {},
     "output_type": "execute_result"
    }
   ],
   "source": [
    "cnc.cmd(\"M5\")\n"
   ]
  },
  {
   "cell_type": "code",
   "execution_count": 27,
   "metadata": {},
   "outputs": [
    {
     "data": {
      "text/plain": [
       "['ok', 'ok']"
      ]
     },
     "execution_count": 27,
     "metadata": {},
     "output_type": "execute_result"
    }
   ],
   "source": [
    "cnc.cmd(\"G0 X0\")  # Laser off\n"
   ]
  },
  {
   "cell_type": "code",
   "execution_count": 26,
   "metadata": {},
   "outputs": [
    {
     "data": {
      "text/plain": [
       "['ok', 'error:22']"
      ]
     },
     "execution_count": 26,
     "metadata": {},
     "output_type": "execute_result"
    }
   ],
   "source": [
    "cnc.cmd(\"G1 X0\")  # Laser On\n"
   ]
  },
  {
   "cell_type": "code",
   "execution_count": null,
   "metadata": {},
   "outputs": [],
   "source": [
    "# JogY to position table.\n",
    "cnc.cmd(\"G0 Y+80\")\n"
   ]
  },
  {
   "cell_type": "code",
   "execution_count": null,
   "metadata": {
    "collapsed": true
   },
   "outputs": [],
   "source": [
    "# Write function to JogX.\n",
    "def jogx(x=10):\n",
    "    program = GCode.GCode()\n",
    "    program.G0(X=x)\n",
    "    return program\n"
   ]
  },
  {
   "cell_type": "code",
   "execution_count": null,
   "metadata": {},
   "outputs": [],
   "source": [
    "cnc.run(jogx(-20))\n"
   ]
  },
  {
   "cell_type": "code",
   "execution_count": null,
   "metadata": {},
   "outputs": [],
   "source": [
    "for laser in [1, 10, 50, 100, 150, 255, 1024]:\n",
    "    print(\"\\t\" * 3 + \"Lasers Set To: {}\".format(laser))\n",
    "    program = init(M3=True, laser=laser) + square(size=10) + end()\n",
    "    cnc.run(program)\n",
    "    cnc.run(jogx(20))\n"
   ]
  },
  {
   "cell_type": "markdown",
   "metadata": {},
   "source": [
    "# Experimental Setup.\n",
    "\n",
    "Assembled Chinese CNC 3018.\n",
    "GRBL Version"
   ]
  },
  {
   "cell_type": "code",
   "execution_count": 12,
   "metadata": {},
   "outputs": [
    {
     "data": {
      "text/plain": [
       "['ok',\n",
       " '$0=10',\n",
       " '$1=25',\n",
       " '$2=0',\n",
       " '$3=5',\n",
       " '$4=0',\n",
       " '$5=0',\n",
       " '$6=0',\n",
       " '$10=3',\n",
       " '$11=0.010',\n",
       " '$12=0.002',\n",
       " '$13=0',\n",
       " '$20=0',\n",
       " '$21=1',\n",
       " '$22=0',\n",
       " '$23=0',\n",
       " '$24=25.000',\n",
       " '$25=500.000',\n",
       " '$26=250',\n",
       " '$27=1.000',\n",
       " '$30=1000',\n",
       " '$31=0',\n",
       " '$32=1',\n",
       " '$100=800.000',\n",
       " '$101=800.000',\n",
       " '$102=800.000',\n",
       " '$110=800.000',\n",
       " '$111=800.000',\n",
       " '$112=500.000',\n",
       " '$120=10.000',\n",
       " '$121=10.000',\n",
       " '$122=10.000',\n",
       " '$130=200.000',\n",
       " '$131=200.000',\n",
       " '$132=200.000',\n",
       " 'ok']"
      ]
     },
     "execution_count": 12,
     "metadata": {},
     "output_type": "execute_result"
    }
   ],
   "source": [
    "cnc.cmd(\"$$\")\n"
   ]
  },
  {
   "cell_type": "code",
   "execution_count": 13,
   "metadata": {},
   "outputs": [
    {
     "data": {
      "text/plain": [
       "['ok',\n",
       " '[G54:0.000,0.000,0.000]',\n",
       " '[G55:0.000,0.000,0.000]',\n",
       " '[G56:0.000,0.000,0.000]',\n",
       " '[G57:0.000,0.000,0.000]',\n",
       " '[G58:0.000,0.000,0.000]',\n",
       " '[G59:0.000,0.000,0.000]',\n",
       " '[G28:0.000,0.000,0.000]',\n",
       " '[G30:0.000,0.000,0.000]',\n",
       " '[G92:0.000,0.000,0.000]',\n",
       " '[TLO:0.000]',\n",
       " '[PRB:0.000,0.000,0.000:0]',\n",
       " 'ok']"
      ]
     },
     "execution_count": 13,
     "metadata": {},
     "output_type": "execute_result"
    }
   ],
   "source": [
    "cnc.cmd(\"$#\")\n"
   ]
  },
  {
   "cell_type": "code",
   "execution_count": 14,
   "metadata": {},
   "outputs": [
    {
     "data": {
      "text/plain": [
       "['ok', '[VER:1.1f.20170801:]', '[OPT:V,15,128]', 'ok']"
      ]
     },
     "execution_count": 14,
     "metadata": {},
     "output_type": "execute_result"
    }
   ],
   "source": [
    "cnc.cmd(\"$I\")\n"
   ]
  },
  {
   "cell_type": "code",
   "execution_count": 15,
   "metadata": {},
   "outputs": [
    {
     "data": {
      "text/plain": [
       "['ok', '$N0=', '$N1=', 'ok']"
      ]
     },
     "execution_count": 15,
     "metadata": {},
     "output_type": "execute_result"
    }
   ],
   "source": [
    "cnc.cmd(\"$N\")\n"
   ]
  },
  {
   "cell_type": "markdown",
   "metadata": {},
   "source": [
    "# Results\n",
    "\n",
    "- ``1`` Can not be seen.\n",
    "- ``10`` Can not be seen.\n",
    "- ``50`` Cut through 1 piece of paper & marked one under it.\n",
    "- ``100`` cut through 2 pieces and light etch on clipboard.\n",
    "- ``150`` Cut through 2 pieces and dark etch on clipboard.\n",
    "- ``255`` & ``1024`` look identical. Etched 'well' into clipboard."
   ]
  },
  {
   "cell_type": "markdown",
   "metadata": {
    "collapsed": true
   },
   "source": [
    "# Test Conclusion.\n",
    "\n",
    "- Need to wrap Keyboard Kill with a CNC Kill.\n",
    "- Need to test 10-50 in smaller increments."
   ]
  }
 ],
 "metadata": {
  "kernelspec": {
   "display_name": "Python 3",
   "language": "python",
   "name": "python3"
  },
  "language_info": {
   "codemirror_mode": {
    "name": "ipython",
    "version": 3
   },
   "file_extension": ".py",
   "mimetype": "text/x-python",
   "name": "python",
   "nbconvert_exporter": "python",
   "pygments_lexer": "ipython3",
   "version": "3.6.5"
  }
 },
 "nbformat": 4,
 "nbformat_minor": 2
}
