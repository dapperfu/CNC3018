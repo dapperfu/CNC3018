{
 "cells": [
  {
   "cell_type": "markdown",
   "metadata": {},
   "source": [
    "# CNC Laser Power Settings Test 3\n"
   ]
  },
  {
   "cell_type": "markdown",
   "metadata": {},
   "source": [
    "# Code:"
   ]
  },
  {
   "cell_type": "code",
   "execution_count": 1,
   "metadata": {
    "collapsed": true
   },
   "outputs": [],
   "source": [
    "import GCode\n",
    "import GRBL"
   ]
  },
  {
   "cell_type": "code",
   "execution_count": 2,
   "metadata": {},
   "outputs": [
    {
     "name": "stdout",
     "output_type": "stream",
     "text": [
      "Laser Mode: 0.0\n"
     ]
    }
   ],
   "source": [
    "cnc = GRBL.GRBL(port=\"/dev/cnc_3018\")\n",
    "\n",
    "print(\"Laser Mode: {}\".format(cnc.laser_mode))\n"
   ]
  },
  {
   "cell_type": "code",
   "execution_count": 3,
   "metadata": {},
   "outputs": [
    {
     "name": "stdout",
     "output_type": "stream",
     "text": [
      "ok\n"
     ]
    }
   ],
   "source": [
    "cnc.laser_mode = 1\n"
   ]
  },
  {
   "cell_type": "code",
   "execution_count": 4,
   "metadata": {
    "collapsed": true
   },
   "outputs": [],
   "source": [
    "from enum import IntEnum\n",
    "\n",
    "\n",
    "class Tool(IntEnum):\n",
    "    SPINDLE = 0\n",
    "    LASER = 1"
   ]
  },
  {
   "cell_type": "code",
   "execution_count": 5,
   "metadata": {
    "collapsed": true
   },
   "outputs": [],
   "source": [
    "from enum import IntEnum\n",
    "\n",
    "\n",
    "class LaserPower(IntEnum):\n",
    "    CONSTANT = 0\n",
    "    DYNAMIC = 1"
   ]
  },
  {
   "cell_type": "code",
   "execution_count": 6,
   "metadata": {},
   "outputs": [
    {
     "data": {
      "text/plain": [
       "<LaserPower.CONSTANT: 0>"
      ]
     },
     "execution_count": 6,
     "metadata": {},
     "output_type": "execute_result"
    }
   ],
   "source": [
    "LaserPower.CONSTANT\n"
   ]
  },
  {
   "cell_type": "code",
   "execution_count": 12,
   "metadata": {
    "collapsed": true
   },
   "outputs": [],
   "source": [
    "def init(power=LaserPower(0), feed=200, laser=25):\n",
    "    program = GCode.GCode()\n",
    "    program.G21()  # Metric Units\n",
    "    program.G91()  # Absolute positioning.\n",
    "    program.G1(F=feed)  #\n",
    "    if power == LaserPower.CONSTANT:\n",
    "        program.M3(S=laser)  # Laser settings\n",
    "    else:\n",
    "        program.M4(S=laser)  # Laser settings\n",
    "    return program\n"
   ]
  },
  {
   "cell_type": "code",
   "execution_count": 13,
   "metadata": {
    "collapsed": true
   },
   "outputs": [],
   "source": [
    "def end():\n",
    "    program = GCode.GCode()\n",
    "    program.M5()  # Laser settings.\n",
    "    return program\n"
   ]
  },
  {
   "cell_type": "code",
   "execution_count": 14,
   "metadata": {
    "collapsed": true
   },
   "outputs": [],
   "source": [
    "def square(size=20):\n",
    "    program = GCode.GCode()\n",
    "    program.G1(X=size)\n",
    "    program.G1(Y=size)\n",
    "    program.G1(X=-size)\n",
    "    program.G1(Y=-size)\n",
    "    return program\n"
   ]
  },
  {
   "cell_type": "markdown",
   "metadata": {},
   "source": [
    "## Test Setup\n",
    "\n",
    "Position the paper & other things."
   ]
  },
  {
   "cell_type": "code",
   "execution_count": 15,
   "metadata": {
    "scrolled": true
   },
   "outputs": [
    {
     "data": {
      "text/plain": [
       "['ok', 'ok']"
      ]
     },
     "execution_count": 15,
     "metadata": {},
     "output_type": "execute_result"
    }
   ],
   "source": [
    "cnc.cmd(\"M5\")  # Laser off\n"
   ]
  },
  {
   "cell_type": "code",
   "execution_count": 16,
   "metadata": {},
   "outputs": [
    {
     "data": {
      "text/plain": [
       "['ok', 'ok']"
      ]
     },
     "execution_count": 16,
     "metadata": {},
     "output_type": "execute_result"
    }
   ],
   "source": [
    "# Set minimal power setting to focus and position laser\n",
    "cnc.cmd(\"M3 S1\")\n",
    "cnc.cmd(\"G1 X0\")  # Laser On\n"
   ]
  },
  {
   "cell_type": "code",
   "execution_count": 30,
   "metadata": {
    "collapsed": true
   },
   "outputs": [],
   "source": [
    "def pulse(pulse_duration=100):\n",
    "    prog = GCode.GCode()\n",
    "    prog.M5()\n",
    "    prog.G1(X=0)\n",
    "    prog.M3(S=255)\n",
    "    prog.M4(P=pulse_duration)\n",
    "    prog.G1(X=0)\n",
    "    prog.M5()\n",
    "    return prog\n"
   ]
  },
  {
   "cell_type": "code",
   "execution_count": 31,
   "metadata": {},
   "outputs": [
    {
     "data": {
      "text/html": [
       "<b>M5</b> <i></i><br>\n",
       "<b>G1</b> <i>X0</i><br>\n",
       "<b>M3</b> <i>S255</i><br>\n",
       "<b>M4</b> <i>P100</i><br>\n",
       "<b>G1</b> <i>X0</i><br>\n",
       "<b>M5</b> <i></i>"
      ],
      "text/plain": [
       "<GCode>[cmds=6]"
      ]
     },
     "execution_count": 31,
     "metadata": {},
     "output_type": "execute_result"
    }
   ],
   "source": [
    "pulse(100)\n"
   ]
  },
  {
   "cell_type": "code",
   "execution_count": 32,
   "metadata": {},
   "outputs": [
    {
     "name": "stdout",
     "output_type": "stream",
     "text": [
      "^C\n"
     ]
    },
    {
     "data": {
      "text/plain": [
       "21.264846563339233"
      ]
     },
     "execution_count": 32,
     "metadata": {},
     "output_type": "execute_result"
    }
   ],
   "source": [
    "cnc.run(pulse(100))\n"
   ]
  },
  {
   "cell_type": "code",
   "execution_count": 38,
   "metadata": {
    "collapsed": true
   },
   "outputs": [],
   "source": [
    "test_run = GCode.GCode()\n",
    "test_run.G21()\n",
    "test_run.G91()\n",
    "test_run.G0(F=500)\n",
    "test_run.G1(F=500)\n",
    "for test_num in range(16):\n",
    "    pulse_duration = (test_num + 1) * 25\n",
    "    test_run += pulse(pulse_duration)\n",
    "    test_run.G0(X=5)\n",
    "test_run += end()\n"
   ]
  },
  {
   "cell_type": "code",
   "execution_count": 39,
   "metadata": {},
   "outputs": [
    {
     "data": {
      "text/html": [
       "<b>G21</b> <i></i><br>\n",
       "<b>G91</b> <i></i><br>\n",
       "<b>G0</b> <i>F500</i><br>\n",
       "<b>G1</b> <i>F500</i><br>\n",
       "<b>M5</b> <i></i><br>\n",
       "<b>G1</b> <i>X0</i><br>\n",
       "<b>M3</b> <i>S255</i><br>\n",
       "<b>M4</b> <i>P25</i><br>\n",
       "<b>G1</b> <i>X0</i><br>\n",
       "<b>M5</b> <i></i><br>\n",
       "<b>G0</b> <i>X5</i><br>\n",
       "<b>M5</b> <i></i><br>\n",
       "<b>G1</b> <i>X0</i><br>\n",
       "<b>M3</b> <i>S255</i><br>\n",
       "<b>M4</b> <i>P50</i><br>\n",
       "<b>G1</b> <i>X0</i><br>\n",
       "<b>M5</b> <i></i><br>\n",
       "<b>G0</b> <i>X5</i><br>\n",
       "<b>M5</b> <i></i><br>\n",
       "<b>G1</b> <i>X0</i><br>\n",
       "<b>M3</b> <i>S255</i><br>\n",
       "<b>M4</b> <i>P75</i><br>\n",
       "<b>G1</b> <i>X0</i><br>\n",
       "<b>M5</b> <i></i><br>\n",
       "<b>G0</b> <i>X5</i><br>\n",
       "<b>M5</b> <i></i><br>\n",
       "<b>G1</b> <i>X0</i><br>\n",
       "<b>M3</b> <i>S255</i><br>\n",
       "<b>M4</b> <i>P100</i><br>\n",
       "<b>G1</b> <i>X0</i><br>\n",
       "<b>M5</b> <i></i><br>\n",
       "<b>G0</b> <i>X5</i><br>\n",
       "<b>M5</b> <i></i><br>\n",
       "<b>G1</b> <i>X0</i><br>\n",
       "<b>M3</b> <i>S255</i><br>\n",
       "<b>M4</b> <i>P125</i><br>\n",
       "<b>G1</b> <i>X0</i><br>\n",
       "<b>M5</b> <i></i><br>\n",
       "<b>G0</b> <i>X5</i><br>\n",
       "<b>M5</b> <i></i><br>\n",
       "<b>G1</b> <i>X0</i><br>\n",
       "<b>M3</b> <i>S255</i><br>\n",
       "<b>M4</b> <i>P150</i><br>\n",
       "<b>G1</b> <i>X0</i><br>\n",
       "<b>M5</b> <i></i><br>\n",
       "<b>G0</b> <i>X5</i><br>\n",
       "<b>M5</b> <i></i><br>\n",
       "<b>G1</b> <i>X0</i><br>\n",
       "<b>M3</b> <i>S255</i><br>\n",
       "<b>M4</b> <i>P175</i><br>\n",
       "<b>G1</b> <i>X0</i><br>\n",
       "<b>M5</b> <i></i><br>\n",
       "<b>G0</b> <i>X5</i><br>\n",
       "<b>M5</b> <i></i><br>\n",
       "<b>G1</b> <i>X0</i><br>\n",
       "<b>M3</b> <i>S255</i><br>\n",
       "<b>M4</b> <i>P200</i><br>\n",
       "<b>G1</b> <i>X0</i><br>\n",
       "<b>M5</b> <i></i><br>\n",
       "<b>G0</b> <i>X5</i><br>\n",
       "<b>M5</b> <i></i><br>\n",
       "<b>G1</b> <i>X0</i><br>\n",
       "<b>M3</b> <i>S255</i><br>\n",
       "<b>M4</b> <i>P225</i><br>\n",
       "<b>G1</b> <i>X0</i><br>\n",
       "<b>M5</b> <i></i><br>\n",
       "<b>G0</b> <i>X5</i><br>\n",
       "<b>M5</b> <i></i><br>\n",
       "<b>G1</b> <i>X0</i><br>\n",
       "<b>M3</b> <i>S255</i><br>\n",
       "<b>M4</b> <i>P250</i><br>\n",
       "<b>G1</b> <i>X0</i><br>\n",
       "<b>M5</b> <i></i><br>\n",
       "<b>G0</b> <i>X5</i><br>\n",
       "<b>M5</b> <i></i><br>\n",
       "<b>G1</b> <i>X0</i><br>\n",
       "<b>M3</b> <i>S255</i><br>\n",
       "<b>M4</b> <i>P275</i><br>\n",
       "<b>G1</b> <i>X0</i><br>\n",
       "<b>M5</b> <i></i><br>\n",
       "<b>G0</b> <i>X5</i><br>\n",
       "<b>M5</b> <i></i><br>\n",
       "<b>G1</b> <i>X0</i><br>\n",
       "<b>M3</b> <i>S255</i><br>\n",
       "<b>M4</b> <i>P300</i><br>\n",
       "<b>G1</b> <i>X0</i><br>\n",
       "<b>M5</b> <i></i><br>\n",
       "<b>G0</b> <i>X5</i><br>\n",
       "<b>M5</b> <i></i><br>\n",
       "<b>G1</b> <i>X0</i><br>\n",
       "<b>M3</b> <i>S255</i><br>\n",
       "<b>M4</b> <i>P325</i><br>\n",
       "<b>G1</b> <i>X0</i><br>\n",
       "<b>M5</b> <i></i><br>\n",
       "<b>G0</b> <i>X5</i><br>\n",
       "<b>M5</b> <i></i><br>\n",
       "<b>G1</b> <i>X0</i><br>\n",
       "<b>M3</b> <i>S255</i><br>\n",
       "<b>M4</b> <i>P350</i><br>\n",
       "<b>G1</b> <i>X0</i><br>\n",
       "<b>M5</b> <i></i><br>\n",
       "<b>G0</b> <i>X5</i><br>\n",
       "<b>M5</b> <i></i><br>\n",
       "<b>G1</b> <i>X0</i><br>\n",
       "<b>M3</b> <i>S255</i><br>\n",
       "<b>M4</b> <i>P375</i><br>\n",
       "<b>G1</b> <i>X0</i><br>\n",
       "<b>M5</b> <i></i><br>\n",
       "<b>G0</b> <i>X5</i><br>\n",
       "<b>M5</b> <i></i><br>\n",
       "<b>G1</b> <i>X0</i><br>\n",
       "<b>M3</b> <i>S255</i><br>\n",
       "<b>M4</b> <i>P400</i><br>\n",
       "<b>G1</b> <i>X0</i><br>\n",
       "<b>M5</b> <i></i><br>\n",
       "<b>G0</b> <i>X5</i><br>\n",
       "<b>M5</b> <i></i>"
      ],
      "text/plain": [
       "<GCode>[cmds=117]"
      ]
     },
     "execution_count": 39,
     "metadata": {},
     "output_type": "execute_result"
    }
   ],
   "source": [
    "test_run\n"
   ]
  },
  {
   "cell_type": "code",
   "execution_count": 40,
   "metadata": {},
   "outputs": [
    {
     "data": {
      "text/plain": [
       "30.084847450256348"
      ]
     },
     "execution_count": 40,
     "metadata": {},
     "output_type": "execute_result"
    }
   ],
   "source": [
    "cnc.run(test_run)\n"
   ]
  },
  {
   "cell_type": "code",
   "execution_count": 37,
   "metadata": {},
   "outputs": [
    {
     "data": {
      "text/plain": [
       "'<Idle|MPos:-123.276,0.000,2.800|Bf:15,127|FS:0,0|Ov:100,100,100>'"
      ]
     },
     "execution_count": 37,
     "metadata": {},
     "output_type": "execute_result"
    }
   ],
   "source": [
    "cnc.status\n"
   ]
  },
  {
   "cell_type": "code",
   "execution_count": null,
   "metadata": {
    "collapsed": true
   },
   "outputs": [],
   "source": []
  }
 ],
 "metadata": {
  "kernelspec": {
   "display_name": "Python 3",
   "language": "python",
   "name": "python3"
  },
  "language_info": {
   "codemirror_mode": {
    "name": "ipython",
    "version": 3
   },
   "file_extension": ".py",
   "mimetype": "text/x-python",
   "name": "python",
   "nbconvert_exporter": "python",
   "pygments_lexer": "ipython3",
   "version": "3.5.2"
  }
 },
 "nbformat": 4,
 "nbformat_minor": 2
}
