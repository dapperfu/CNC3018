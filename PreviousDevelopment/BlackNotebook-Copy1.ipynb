{
 "cells": [
  {
   "cell_type": "code",
   "execution_count": 52,
   "metadata": {},
   "outputs": [],
   "source": [
    "import glob\n",
    "import os\n",
    "\n",
    "import black\n",
    "import nbformat"
   ]
  },
  {
   "cell_type": "code",
   "execution_count": 53,
   "metadata": {},
   "outputs": [],
   "source": [
    "notebooks = glob.glob(\"*.ipynb\")"
   ]
  },
  {
   "cell_type": "code",
   "execution_count": 54,
   "metadata": {},
   "outputs": [],
   "source": [
    "def format_notebook(notebook=None):\n",
    "    with open(notebook, \"rb\") as fp:\n",
    "        nb = nbformat.read(fp=fp, as_version=nbformat.NO_CONVERT)\n",
    "\n",
    "    markdown_cells = list()\n",
    "    code_cells = list()\n",
    "\n",
    "    for cell in nb[\"cells\"]:\n",
    "        if cell[\"cell_type\"] == \"code\":\n",
    "            code_cells.append(cell)\n",
    "        elif cell[\"cell_type\"] == \"markdown\":\n",
    "            markdown_cells.append(cell)\n",
    "        else:\n",
    "            raise Exception(cell[\"cell_type\"])\n",
    "\n",
    "    for code_cell in code_cells:\n",
    "        if code_cell[\"source\"] == \"\":\n",
    "            continue\n",
    "        code_cell[\"source\"] = black.format_str(\n",
    "            code_cell[\"source\"], line_length=80\n",
    "        )\n",
    "\n",
    "    with open(notebook, \"w\") as fp:\n",
    "        nbformat.write(nb, fp)\n"
   ]
  },
  {
   "cell_type": "code",
   "execution_count": 55,
   "metadata": {},
   "outputs": [
    {
     "name": "stdout",
     "output_type": "stream",
     "text": [
      "Cannot parse: 1:0:     def heart(scale = 1):\n",
      "Cannot parse: 1:0: %matplotlib inline\n",
      "Cannot parse: 1:0: %load_ext autoreload\n",
      "Cannot parse: 1:0: %load_ext autoreload\n",
      "Cannot parse: 1:5: bbbm 8ghhhhhhhhhhh8ghhhhhhhhhhhhhhhhhhhhhhhhhhhhhhhhh\n",
      "Cannot parse: 1:0: %%cmagic\n",
      "Cannot parse: 1:0: %matplotlib inline\n",
      "Cannot parse: 1:0: %%CNC\n"
     ]
    }
   ],
   "source": [
    "for notebook in notebooks:\n",
    "    try:\n",
    "        format_notebook(notebook=notebook)\n",
    "    except ValueError as err:\n",
    "        print(err)\n",
    "    except:\n",
    "        raise"
   ]
  },
  {
   "cell_type": "code",
   "execution_count": 56,
   "metadata": {},
   "outputs": [],
   "source": [
    "def format_folder(path=None):\n",
    "    abs_path=os.path.abspath(path)\n",
    "    try:\n",
    "        assert os.path.exists(abs_path)\n",
    "        notebooks = glob.glob(\n",
    "            os.path.join(abs_path, \"*.ipynb\")\n",
    "        )\n",
    "        for notebook in notebooks:\n",
    "            format_notebook(\n",
    "                notebook=notebook\n",
    "            )\n",
    "    except:\n",
    "        print(abs_path)\n",
    "        print(notebook)"
   ]
  },
  {
   "cell_type": "code",
   "execution_count": 46,
   "metadata": {},
   "outputs": [
    {
     "name": "stdout",
     "output_type": "stream",
     "text": [
      "/projects/CNC3018/PreviousDevelopment\n",
      "/projects/CNC3018/PreviousDevelopment/HandCodeG.ipynb\n"
     ]
    }
   ],
   "source": [
    "format_folder(\".\")"
   ]
  },
  {
   "cell_type": "code",
   "execution_count": 58,
   "metadata": {},
   "outputs": [
    {
     "name": "stdout",
     "output_type": "stream",
     "text": [
      "Collecting isort\n",
      "  Using cached https://files.pythonhosted.org/packages/1f/2c/22eee714d7199ae0464beda6ad5fedec8fee6a2f7ffd1e8f1840928fe318/isort-4.3.4-py3-none-any.whl\n",
      "Installing collected packages: isort\n",
      "Successfully installed isort-4.3.4\n"
     ]
    }
   ],
   "source": [
    "!pip install isort"
   ]
  },
  {
   "cell_type": "code",
   "execution_count": 59,
   "metadata": {},
   "outputs": [],
   "source": [
    "import isort"
   ]
  },
  {
   "cell_type": "code",
   "execution_count": 61,
   "metadata": {},
   "outputs": [],
   "source": [
    "?isort.SortImports"
   ]
  },
  {
   "cell_type": "code",
   "execution_count": null,
   "metadata": {},
   "outputs": [],
   "source": [
    "cell"
   ]
  }
 ],
 "metadata": {
  "kernelspec": {
   "display_name": "Python 3",
   "language": "python",
   "name": "python3"
  },
  "language_info": {
   "codemirror_mode": {
    "name": "ipython",
    "version": 3
   },
   "file_extension": ".py",
   "mimetype": "text/x-python",
   "name": "python",
   "nbconvert_exporter": "python",
   "pygments_lexer": "ipython3",
   "version": "3.6.5"
  }
 },
 "nbformat": 4,
 "nbformat_minor": 2
}
