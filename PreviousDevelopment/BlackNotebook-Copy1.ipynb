{
 "cells": [
  {
   "cell_type": "code",
   "execution_count": 16,
   "metadata": {},
   "outputs": [],
   "source": [
    "import glob\n",
    "import nbformat\n",
    "import black\n"
   ]
  },
  {
   "cell_type": "code",
   "execution_count": 17,
   "metadata": {},
   "outputs": [],
   "source": [
    "notebooks = glob.glob(\"*.ipynb\")\n"
   ]
  },
  {
   "cell_type": "code",
   "execution_count": 18,
   "metadata": {},
   "outputs": [],
   "source": [
    "def format_notebook(notebook=None):\n",
    "    with open(notebook, \"rb\") as fp:\n",
    "        nb = nbformat.read(fp=fp, as_version=nbformat.NO_CONVERT)\n",
    "\n",
    "    markdown_cells = list()\n",
    "    code_cells = list()\n",
    "\n",
    "    for cell in nb[\"cells\"]:\n",
    "        if cell[\"cell_type\"] == \"code\":\n",
    "            code_cells.append(cell)\n",
    "        elif cell[\"cell_type\"] == \"markdown\":\n",
    "            markdown_cells.append(cell)\n",
    "        else:\n",
    "            raise Exception(cell[\"cell_type\"])\n",
    "\n",
    "    for code_cell in code_cells:\n",
    "        if code_cell[\"source\"] == \"\":\n",
    "            continue\n",
    "        code_cell[\"source\"] = black.format_str(\n",
    "            code_cell[\"source\"], line_length=80\n",
    "        )\n",
    "\n",
    "    with open(notebook, \"w\") as fp:\n",
    "        nbformat.write(nb, fp)\n"
   ]
  },
  {
   "cell_type": "code",
   "execution_count": 20,
   "metadata": {},
   "outputs": [
    {
     "ename": "SyntaxError",
     "evalue": "invalid syntax (<ipython-input-20-b3ef5e719e81>, line 4)",
     "output_type": "error",
     "traceback": [
      "\u001b[0;36m  File \u001b[0;32m\"<ipython-input-20-b3ef5e719e81>\"\u001b[0;36m, line \u001b[0;32m4\u001b[0m\n\u001b[0;31m    except ValueError, err:\u001b[0m\n\u001b[0m                     ^\u001b[0m\n\u001b[0;31mSyntaxError\u001b[0m\u001b[0;31m:\u001b[0m invalid syntax\n"
     ]
    }
   ],
   "source": [
    "for notebook in notebooks:\n",
    "    try:\n",
    "        format_notebook(notebook=notebook)\n",
    "    except ValueError as err:\n",
    "        print(err)\n",
    "    except:\n",
    "        raise\n"
   ]
  },
  {
   "cell_type": "code",
   "execution_count": null,
   "metadata": {},
   "outputs": [],
   "source": []
  }
 ],
 "metadata": {
  "kernelspec": {
   "display_name": "Python 3",
   "language": "python",
   "name": "python3"
  },
  "language_info": {
   "codemirror_mode": {
    "name": "ipython",
    "version": 3
   },
   "file_extension": ".py",
   "mimetype": "text/x-python",
   "name": "python",
   "nbconvert_exporter": "python",
   "pygments_lexer": "ipython3",
   "version": "3.6.5"
  }
 },
 "nbformat": 4,
 "nbformat_minor": 2
}
