{
 "cells": [
  {
   "cell_type": "code",
   "execution_count": null,
   "metadata": {},
   "outputs": [],
   "source": [
    "import glob\n",
    "import os\n",
    "\n",
    "import black\n",
    "import nbformat\n"
   ]
  },
  {
   "cell_type": "code",
   "execution_count": 2,
   "metadata": {},
   "outputs": [],
   "source": [
    "notebooks = glob.glob(\"*.ipynb\")\n"
   ]
  },
  {
   "cell_type": "code",
   "execution_count": 3,
   "metadata": {},
   "outputs": [],
   "source": [
    "def black_notebook_cells(notebook=None):\n",
    "    with open(notebook, \"rb\") as fp:\n",
    "        nb = nbformat.read(fp=fp, as_version=nbformat.NO_CONVERT)\n",
    "\n",
    "    markdown_cells = list()\n",
    "    code_cells = list()\n",
    "\n",
    "    for cell in nb[\"cells\"]:\n",
    "        if cell[\"cell_type\"] == \"code\":\n",
    "            code_cells.append(cell)\n",
    "        elif cell[\"cell_type\"] == \"markdown\":\n",
    "            markdown_cells.append(cell)\n",
    "        else:\n",
    "            raise Exception(cell[\"cell_type\"])\n",
    "\n",
    "    for code_cell in code_cells:\n",
    "        if code_cell[\"source\"] == \"\":\n",
    "            continue\n",
    "        code_cell[\"source\"] = black.format_str(\n",
    "            code_cell[\"source\"], line_length=80\n",
    "        )\n",
    "\n",
    "    with open(notebook, \"w\") as fp:\n",
    "        nbformat.write(nb, fp)\n"
   ]
  },
  {
   "cell_type": "code",
   "execution_count": 5,
   "metadata": {},
   "outputs": [
    {
     "name": "stdout",
     "output_type": "stream",
     "text": [
      "Cannot parse: 1:0:     def heart(scale = 1):\n",
      "Cannot parse: 1:0: %matplotlib inline\n",
      "Cannot parse: 1:0: !pip install git+https://github.com/jed-frey/get_files.git#egg=get_files\n",
      "Cannot parse: 1:0: %load_ext autoreload\n",
      "Cannot parse: 1:0: %load_ext autoreload\n",
      "Cannot parse: 1:5: bbbm 8ghhhhhhhhhhh8ghhhhhhhhhhhhhhhhhhhhhhhhhhhhhhhhh\n",
      "Cannot parse: 1:0: %%cmagic\n",
      "Cannot parse: 1:0: %matplotlib inline\n",
      "Cannot parse: 1:0: %%CNC\n"
     ]
    }
   ],
   "source": [
    "for notebook in notebooks:\n",
    "    try:\n",
    "        black_notebook_cells(notebook=notebook)\n",
    "    except ValueError as err:\n",
    "        print(err)\n",
    "    except:\n",
    "        raise\n"
   ]
  },
  {
   "cell_type": "code",
   "execution_count": 72,
   "metadata": {},
   "outputs": [],
   "source": [
    "def format_folder(path=None):\n",
    "    abs_path = os.path.abspath(path)\n",
    "    try:\n",
    "        assert os.path.exists(abs_path)\n",
    "        notebooks = glob.glob(os.path.join(abs_path, \"*.ipynb\"))\n",
    "        for notebook in notebooks:\n",
    "            black_notebook_cells(notebook=notebook)\n",
    "    except:\n",
    "        print(notebook)\n"
   ]
  },
  {
   "cell_type": "code",
   "execution_count": 73,
   "metadata": {},
   "outputs": [
    {
     "name": "stdout",
     "output_type": "stream",
     "text": [
      "/projects/CNC3018/PreviousDevelopment/HandCodeG.ipynb\n"
     ]
    }
   ],
   "source": [
    "format_folder(\".\")\n"
   ]
  }
 ],
 "metadata": {
  "kernelspec": {
   "display_name": "Python 3",
   "language": "python",
   "name": "python3"
  },
  "language_info": {
   "codemirror_mode": {
    "name": "ipython",
    "version": 3
   },
   "file_extension": ".py",
   "mimetype": "text/x-python",
   "name": "python",
   "nbconvert_exporter": "python",
   "pygments_lexer": "ipython3",
   "version": "3.6.5"
  }
 },
 "nbformat": 4,
 "nbformat_minor": 2
}
