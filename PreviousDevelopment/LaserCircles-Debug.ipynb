{
 "cells": [
  {
   "cell_type": "markdown",
   "metadata": {},
   "source": [
    "# Laser Circles "
   ]
  },
  {
   "cell_type": "markdown",
   "metadata": {},
   "source": [
    "# Code:"
   ]
  },
  {
   "cell_type": "code",
   "execution_count": 15,
   "metadata": {
    "collapsed": true
   },
   "outputs": [],
   "source": [
    "import os\n",
    "import sys\n",
    "from time import sleep\n",
    "from uuid import uuid4\n",
    "\n",
    "import numpy as np\n",
    "\n",
    "import GCode\n",
    "import GRBL\n",
    "from utils import picture\n",
    "\n",
    "sys.path.append(\"..\")"
   ]
  },
  {
   "cell_type": "code",
   "execution_count": null,
   "metadata": {
    "collapsed": true
   },
   "outputs": [],
   "source": [
    "cnc.config\n"
   ]
  },
  {
   "cell_type": "code",
   "execution_count": 16,
   "metadata": {},
   "outputs": [
    {
     "name": "stdout",
     "output_type": "stream",
     "text": [
      "ok\n",
      "Laser Mode: 1.0\n"
     ]
    }
   ],
   "source": [
    "cnc = GRBL.GRBL(port=\"/dev/cnc_3018\")\n",
    "sleep(0.5)\n",
    "cnc.laser_mode = 1\n",
    "sleep(0.5)\n",
    "print(\"Laser Mode: {}\".format(cnc.laser_mode))\n"
   ]
  },
  {
   "cell_type": "code",
   "execution_count": 17,
   "metadata": {},
   "outputs": [
    {
     "data": {
      "text/plain": [
       "['ok', '<Idle|MPos:0.023,15.798,0.000|Bf:15,127|FS:0,0>', 'ok']"
      ]
     },
     "execution_count": 17,
     "metadata": {},
     "output_type": "execute_result"
    }
   ],
   "source": [
    "cnc.cmd(\"?\")\n"
   ]
  },
  {
   "cell_type": "code",
   "execution_count": null,
   "metadata": {
    "collapsed": true
   },
   "outputs": [],
   "source": []
  },
  {
   "cell_type": "code",
   "execution_count": 31,
   "metadata": {
    "collapsed": true
   },
   "outputs": [],
   "source": [
    "def init(feed=200, zero=True):\n",
    "    program = GCode.GCode()\n",
    "    program.G21()  # Metric Units\n",
    "    program.G90()  # Absolute positioning.\n",
    "    if zero:\n",
    "        program.G92(X=0, Y=0, Z=0)  # Zero position.\n",
    "    # Set the laser on rates.\n",
    "    program.G1(F=feed)\n",
    "    program.G2(F=feed)\n",
    "    program.G3(F=feed)\n",
    "    return program\n",
    "\n",
    "\n",
    "def end():\n",
    "    program = GCode.GCode()\n",
    "    program.G0(X=0, Y=0, Z=0)\n",
    "    program.M5()\n",
    "    return program\n"
   ]
  },
  {
   "cell_type": "code",
   "execution_count": 44,
   "metadata": {
    "collapsed": true
   },
   "outputs": [],
   "source": [
    "def circle(center_x=5, center_y=5, radius=5, laser_pwm=255):\n",
    "    prog = GCode.GCode()\n",
    "    prog.G0(X=center_x - radius, Y=center_y)\n",
    "    prog.M3(S=laser_pwm)\n",
    "    prog.G2(X=center_x - radius, Y=center_y, I=radius, J=0)\n",
    "    prog.M5()\n",
    "    prog.G0(X=center_x - radius, Y=center_y)\n",
    "    return prog\n"
   ]
  },
  {
   "cell_type": "code",
   "execution_count": 66,
   "metadata": {},
   "outputs": [
    {
     "data": {
      "text/plain": [
       "0.3106093406677246"
      ]
     },
     "execution_count": 66,
     "metadata": {},
     "output_type": "execute_result"
    }
   ],
   "source": [
    "cnc.run([\"G0\", \"M3S1\", \"G1F1\"])\n"
   ]
  },
  {
   "cell_type": "code",
   "execution_count": 24,
   "metadata": {
    "collapsed": true
   },
   "outputs": [],
   "source": [
    "radius = 15\n"
   ]
  },
  {
   "cell_type": "code",
   "execution_count": 25,
   "metadata": {},
   "outputs": [
    {
     "data": {
      "text/plain": [
       "0.41327452659606934"
      ]
     },
     "execution_count": 25,
     "metadata": {},
     "output_type": "execute_result"
    }
   ],
   "source": [
    "cnc.run(init(feed=200))\n"
   ]
  },
  {
   "cell_type": "code",
   "execution_count": 26,
   "metadata": {},
   "outputs": [
    {
     "data": {
      "text/plain": [
       "0.10416984558105469"
      ]
     },
     "execution_count": 26,
     "metadata": {},
     "output_type": "execute_result"
    }
   ],
   "source": [
    "cnc.run(\"G0X15Y15\")\n"
   ]
  },
  {
   "cell_type": "code",
   "execution_count": 41,
   "metadata": {},
   "outputs": [
    {
     "data": {
      "text/plain": [
       "0.10398340225219727"
      ]
     },
     "execution_count": 41,
     "metadata": {},
     "output_type": "execute_result"
    }
   ],
   "source": [
    "cnc.run(\"G0X0Y15\")\n"
   ]
  },
  {
   "cell_type": "code",
   "execution_count": 34,
   "metadata": {},
   "outputs": [
    {
     "data": {
      "text/plain": [
       "0.10330462455749512"
      ]
     },
     "execution_count": 34,
     "metadata": {},
     "output_type": "execute_result"
    }
   ],
   "source": [
    "cnc.run(\"M3S1\")\n"
   ]
  },
  {
   "cell_type": "code",
   "execution_count": 37,
   "metadata": {},
   "outputs": [
    {
     "data": {
      "text/plain": [
       "['ok', 'error:33']"
      ]
     },
     "execution_count": 37,
     "metadata": {},
     "output_type": "execute_result"
    }
   ],
   "source": [
    "cnc.cmd(\"G2X15Y15R15F200\")\n"
   ]
  },
  {
   "cell_type": "code",
   "execution_count": 47,
   "metadata": {},
   "outputs": [
    {
     "data": {
      "text/plain": [
       "29.354402542114258"
      ]
     },
     "execution_count": 47,
     "metadata": {},
     "output_type": "execute_result"
    }
   ],
   "source": [
    "cnc.run(circle(15, 15, 15, 2))\n"
   ]
  },
  {
   "cell_type": "code",
   "execution_count": 49,
   "metadata": {},
   "outputs": [
    {
     "data": {
      "text/plain": [
       "0.10359907150268555"
      ]
     },
     "execution_count": 49,
     "metadata": {},
     "output_type": "execute_result"
    }
   ],
   "source": [
    "cnc.run(\"G0X0Y0\")\n"
   ]
  },
  {
   "cell_type": "code",
   "execution_count": 67,
   "metadata": {},
   "outputs": [],
   "source": [
    "X_centers = np.linspace(radius, 180 - radius, 5)\n",
    "Y_centers = np.linspace(radius, 90 - radius, 4)\n",
    "test_run = GCode.GCode()\n",
    "test_run += init(feed=200)\n",
    "for x_center in X_centers:\n",
    "    for y_center in Y_centers:\n",
    "        test_run += circle(\n",
    "            center_x=x_center, center_y=y_center, radius=radius, laser_pwm=150\n",
    "        )\n",
    "test_run += end()\n"
   ]
  },
  {
   "cell_type": "code",
   "execution_count": 70,
   "metadata": {},
   "outputs": [
    {
     "data": {
      "text/html": [
       "<b>G21</b> <i></i><br>\n",
       "<b>G90</b> <i></i><br>\n",
       "<b>G92</b> <i>X0 Z0 Y0</i><br>\n",
       "<b>G1</b> <i>F200</i><br>\n",
       "<b>G2</b> <i>F200</i><br>\n",
       "<b>G3</b> <i>F200</i><br>\n",
       "<b>G0</b> <i>X0.0 Y15.0</i><br>\n",
       "<b>M3</b> <i>S150</i><br>\n",
       "<b>G2</b> <i>X0.0 I15 J0 Y15.0</i><br>\n",
       "<b>M5</b> <i></i><br>\n",
       "<b>G0</b> <i>X0.0 Y15.0</i><br>\n",
       "<b>G0</b> <i>X0.0 Y35.0</i><br>\n",
       "<b>M3</b> <i>S150</i><br>\n",
       "<b>G2</b> <i>X0.0 I15 J0 Y35.0</i><br>\n",
       "<b>M5</b> <i></i><br>\n",
       "<b>G0</b> <i>X0.0 Y35.0</i><br>\n",
       "<b>G0</b> <i>X0.0 Y55.0</i><br>\n",
       "<b>M3</b> <i>S150</i><br>\n",
       "<b>G2</b> <i>X0.0 I15 J0 Y55.0</i><br>\n",
       "<b>M5</b> <i></i><br>\n",
       "<b>G0</b> <i>X0.0 Y55.0</i><br>\n",
       "<b>G0</b> <i>X0.0 Y75.0</i><br>\n",
       "<b>M3</b> <i>S150</i><br>\n",
       "<b>G2</b> <i>X0.0 I15 J0 Y75.0</i><br>\n",
       "<b>M5</b> <i></i><br>\n",
       "<b>G0</b> <i>X0.0 Y75.0</i><br>\n",
       "<b>G0</b> <i>X37.5 Y15.0</i><br>\n",
       "<b>M3</b> <i>S150</i><br>\n",
       "<b>G2</b> <i>X37.5 I15 J0 Y15.0</i><br>\n",
       "<b>M5</b> <i></i><br>\n",
       "<b>G0</b> <i>X37.5 Y15.0</i><br>\n",
       "<b>G0</b> <i>X37.5 Y35.0</i><br>\n",
       "<b>M3</b> <i>S150</i><br>\n",
       "<b>G2</b> <i>X37.5 I15 J0 Y35.0</i><br>\n",
       "<b>M5</b> <i></i><br>\n",
       "<b>G0</b> <i>X37.5 Y35.0</i><br>\n",
       "<b>G0</b> <i>X37.5 Y55.0</i><br>\n",
       "<b>M3</b> <i>S150</i><br>\n",
       "<b>G2</b> <i>X37.5 I15 J0 Y55.0</i><br>\n",
       "<b>M5</b> <i></i><br>\n",
       "<b>G0</b> <i>X37.5 Y55.0</i><br>\n",
       "<b>G0</b> <i>X37.5 Y75.0</i><br>\n",
       "<b>M3</b> <i>S150</i><br>\n",
       "<b>G2</b> <i>X37.5 I15 J0 Y75.0</i><br>\n",
       "<b>M5</b> <i></i><br>\n",
       "<b>G0</b> <i>X37.5 Y75.0</i><br>\n",
       "<b>G0</b> <i>X75.0 Y15.0</i><br>\n",
       "<b>M3</b> <i>S150</i><br>\n",
       "<b>G2</b> <i>X75.0 I15 J0 Y15.0</i><br>\n",
       "<b>M5</b> <i></i><br>\n",
       "<b>G0</b> <i>X75.0 Y15.0</i><br>\n",
       "<b>G0</b> <i>X75.0 Y35.0</i><br>\n",
       "<b>M3</b> <i>S150</i><br>\n",
       "<b>G2</b> <i>X75.0 I15 J0 Y35.0</i><br>\n",
       "<b>M5</b> <i></i><br>\n",
       "<b>G0</b> <i>X75.0 Y35.0</i><br>\n",
       "<b>G0</b> <i>X75.0 Y55.0</i><br>\n",
       "<b>M3</b> <i>S150</i><br>\n",
       "<b>G2</b> <i>X75.0 I15 J0 Y55.0</i><br>\n",
       "<b>M5</b> <i></i><br>\n",
       "<b>G0</b> <i>X75.0 Y55.0</i><br>\n",
       "<b>G0</b> <i>X75.0 Y75.0</i><br>\n",
       "<b>M3</b> <i>S150</i><br>\n",
       "<b>G2</b> <i>X75.0 I15 J0 Y75.0</i><br>\n",
       "<b>M5</b> <i></i><br>\n",
       "<b>G0</b> <i>X75.0 Y75.0</i><br>\n",
       "<b>G0</b> <i>X112.5 Y15.0</i><br>\n",
       "<b>M3</b> <i>S150</i><br>\n",
       "<b>G2</b> <i>X112.5 I15 J0 Y15.0</i><br>\n",
       "<b>M5</b> <i></i><br>\n",
       "<b>G0</b> <i>X112.5 Y15.0</i><br>\n",
       "<b>G0</b> <i>X112.5 Y35.0</i><br>\n",
       "<b>M3</b> <i>S150</i><br>\n",
       "<b>G2</b> <i>X112.5 I15 J0 Y35.0</i><br>\n",
       "<b>M5</b> <i></i><br>\n",
       "<b>G0</b> <i>X112.5 Y35.0</i><br>\n",
       "<b>G0</b> <i>X112.5 Y55.0</i><br>\n",
       "<b>M3</b> <i>S150</i><br>\n",
       "<b>G2</b> <i>X112.5 I15 J0 Y55.0</i><br>\n",
       "<b>M5</b> <i></i><br>\n",
       "<b>G0</b> <i>X112.5 Y55.0</i><br>\n",
       "<b>G0</b> <i>X112.5 Y75.0</i><br>\n",
       "<b>M3</b> <i>S150</i><br>\n",
       "<b>G2</b> <i>X112.5 I15 J0 Y75.0</i><br>\n",
       "<b>M5</b> <i></i><br>\n",
       "<b>G0</b> <i>X112.5 Y75.0</i><br>\n",
       "<b>G0</b> <i>X150.0 Y15.0</i><br>\n",
       "<b>M3</b> <i>S150</i><br>\n",
       "<b>G2</b> <i>X150.0 I15 J0 Y15.0</i><br>\n",
       "<b>M5</b> <i></i><br>\n",
       "<b>G0</b> <i>X150.0 Y15.0</i><br>\n",
       "<b>G0</b> <i>X150.0 Y35.0</i><br>\n",
       "<b>M3</b> <i>S150</i><br>\n",
       "<b>G2</b> <i>X150.0 I15 J0 Y35.0</i><br>\n",
       "<b>M5</b> <i></i><br>\n",
       "<b>G0</b> <i>X150.0 Y35.0</i><br>\n",
       "<b>G0</b> <i>X150.0 Y55.0</i><br>\n",
       "<b>M3</b> <i>S150</i><br>\n",
       "<b>G2</b> <i>X150.0 I15 J0 Y55.0</i><br>\n",
       "<b>M5</b> <i></i><br>\n",
       "<b>G0</b> <i>X150.0 Y55.0</i><br>\n",
       "<b>G0</b> <i>X150.0 Y75.0</i><br>\n",
       "<b>M3</b> <i>S150</i><br>\n",
       "<b>G2</b> <i>X150.0 I15 J0 Y75.0</i><br>\n",
       "<b>M5</b> <i></i><br>\n",
       "<b>G0</b> <i>X150.0 Y75.0</i><br>\n",
       "<b>G0</b> <i>X0 Z0 Y0</i><br>\n",
       "<b>M5</b> <i></i>"
      ],
      "text/plain": [
       "<GCode>[cmds=108]"
      ]
     },
     "execution_count": 70,
     "metadata": {},
     "output_type": "execute_result"
    }
   ],
   "source": [
    "gcode_file = \"CircleTests.gcode\"\n",
    "test_run.save(gcode_file)\n",
    "del test_run\n",
    "test_run = GCode.GCode()\n",
    "test_run.load(gcode_file)\n",
    "test_run\n"
   ]
  },
  {
   "cell_type": "code",
   "execution_count": 71,
   "metadata": {
    "collapsed": true
   },
   "outputs": [],
   "source": [
    "from time import sleep"
   ]
  },
  {
   "cell_type": "code",
   "execution_count": 72,
   "metadata": {},
   "outputs": [
    {
     "name": "stdout",
     "output_type": "stream",
     "text": [
      "<Run|MPos:178.353,119.705,0.000|Bf:14,127|FS:235,0|Ov:100,100,100>\n",
      "<Run|MPos:114.724,87.890,0.000|Bf:14,127|FS:894,0>\n",
      "<Run|MPos:45.938,53.498,0.000|Bf:14,127|FS:894,0>\n"
     ]
    }
   ],
   "source": [
    "try:\n",
    "    cnc.run(test_run)\n",
    "    while \"Idle\" not in cnc.status:\n",
    "        print(cnc.status)\n",
    "        sleep(5)\n",
    "except KeyboardInterrupt as error:\n",
    "    print(\"Feed Hold\")\n",
    "    cnc.cmd(\"!\")\n",
    "    while 1:\n",
    "        try:\n",
    "            cnc.reset()\n",
    "            break\n",
    "        except:\n",
    "            pass\n",
    "    print(\"^C\")\n"
   ]
  },
  {
   "cell_type": "code",
   "execution_count": null,
   "metadata": {
    "collapsed": true
   },
   "outputs": [],
   "source": [
    "cnc.cmd(\"G0X0Y0\")\n"
   ]
  },
  {
   "cell_type": "code",
   "execution_count": null,
   "metadata": {
    "collapsed": true
   },
   "outputs": [],
   "source": [
    "cnc.reset()\n"
   ]
  },
  {
   "cell_type": "code",
   "execution_count": null,
   "metadata": {
    "collapsed": true
   },
   "outputs": [],
   "source": [
    "cnc.reset()\n"
   ]
  },
  {
   "cell_type": "code",
   "execution_count": null,
   "metadata": {
    "collapsed": true
   },
   "outputs": [],
   "source": [
    "picture()\n"
   ]
  },
  {
   "cell_type": "markdown",
   "metadata": {},
   "source": [
    "# Test Aborted.\n",
    "\n",
    "Cuts were way too aggressive."
   ]
  },
  {
   "cell_type": "code",
   "execution_count": 64,
   "metadata": {},
   "outputs": [
    {
     "data": {
      "text/plain": [
       "False"
      ]
     },
     "execution_count": 64,
     "metadata": {},
     "output_type": "execute_result"
    }
   ],
   "source": []
  },
  {
   "cell_type": "code",
   "execution_count": null,
   "metadata": {
    "collapsed": true
   },
   "outputs": [],
   "source": []
  }
 ],
 "metadata": {
  "kernelspec": {
   "display_name": "Python 3",
   "language": "python",
   "name": "python3"
  },
  "language_info": {
   "codemirror_mode": {
    "name": "ipython",
    "version": 3
   },
   "file_extension": ".py",
   "mimetype": "text/x-python",
   "name": "python",
   "nbconvert_exporter": "python",
   "pygments_lexer": "ipython3",
   "version": "3.5.2"
  }
 },
 "nbformat": 4,
 "nbformat_minor": 2
}
