{
 "cells": [
  {
   "cell_type": "code",
   "execution_count": null,
   "metadata": {},
   "outputs": [],
   "source": [
    "import GCode\n",
    "import GRBL\n",
    "import numpy as np"
   ]
  },
  {
   "cell_type": "markdown",
   "metadata": {},
   "source": [
    "# Laser Power Off Test\n",
    "\n",
    "## Object\n",
    "- Figure out at what voltage the laser resets the MCU"
   ]
  },
  {
   "cell_type": "markdown",
   "metadata": {},
   "source": [
    "# Code:"
   ]
  },
  {
   "cell_type": "code",
   "execution_count": 1,
   "metadata": {},
   "outputs": [
    {
     "name": "stdout",
     "output_type": "stream",
     "text": [
      "Laser Mode: None\n"
     ]
    }
   ],
   "source": [
    "cnc = GRBL.GRBL(port=\"/dev/cnc_3018\")print(\"Laser Mode: {}\".format(cnc.laser_mode))"
   ]
  },
  {
   "cell_type": "markdown",
   "metadata": {},
   "source": [
    "## Test Setup\n",
    "\n",
    "Power Supply:\n",
    "- CicuitSpecialists CSI3010SW\n",
    "\n",
    "Position the paper & other things."
   ]
  },
  {
   "cell_type": "code",
   "execution_count": 3,
   "metadata": {
    "collapsed": true
   },
   "outputs": [],
   "source": [
    "def laser_on(pwm):\n",
    "    if int(pwm) != np.uint8(pwm):\n",
    "        raise (Exception(\"UINT8! {}\".format(pwm)))\n",
    "    # Set minimal power setting to focus and position laser\n",
    "    cnc.cmd(\"M3 S{:03d}\".format(np.uint8(pwm)))\n",
    "    cnc.cmd(\"G1 F10\")  # Laser On\n",
    "\n",
    "\n",
    "def laser_off():\n",
    "    cnc.cmd(\"M5\")  # Laser off\n"
   ]
  },
  {
   "cell_type": "code",
   "execution_count": 4,
   "metadata": {},
   "outputs": [],
   "source": [
    "laser_on(255)\n"
   ]
  },
  {
   "cell_type": "markdown",
   "metadata": {},
   "source": [
    "- ~18 volts."
   ]
  }
 ],
 "metadata": {
  "kernelspec": {
   "display_name": "Python 3",
   "language": "python",
   "name": "python3"
  },
  "language_info": {
   "codemirror_mode": {
    "name": "ipython",
    "version": 3
   },
   "file_extension": ".py",
   "mimetype": "text/x-python",
   "name": "python",
   "nbconvert_exporter": "python",
   "pygments_lexer": "ipython3",
   "version": "3.5.2"
  }
 },
 "nbformat": 4,
 "nbformat_minor": 2
}
