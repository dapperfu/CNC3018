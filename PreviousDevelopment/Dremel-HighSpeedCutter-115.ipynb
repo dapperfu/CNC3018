{
 "cells": [
  {
   "cell_type": "markdown",
   "metadata": {},
   "source": [
    "# Spindle Cutting Tests\n",
    "\n",
    "## Objective\n",
    "- Play around with Dremel High Speed Cutter 115"
   ]
  },
  {
   "cell_type": "markdown",
   "metadata": {},
   "source": [
    "## Test Setup\n",
    "\n",
    "- CSI3010SW dialed all the way up: 31.6V"
   ]
  },
  {
   "cell_type": "markdown",
   "metadata": {},
   "source": [
    "# Code:"
   ]
  },
  {
   "cell_type": "code",
   "execution_count": 2,
   "metadata": {
    "collapsed": true
   },
   "outputs": [],
   "source": [
    "import os\n",
    "import sys\n",
    "\n",
    "import numpy as np\n",
    "\n",
    "import GCode\n",
    "import GRBL\n",
    "from utils import picture\n",
    "\n",
    "sys.path.append(\"..\")"
   ]
  },
  {
   "cell_type": "code",
   "execution_count": 51,
   "metadata": {},
   "outputs": [
    {
     "name": "stdout",
     "output_type": "stream",
     "text": [
      "Laser Mode: 0.0\n"
     ]
    }
   ],
   "source": [
    "cnc = GRBL.GRBL(port=\"/dev/cnc_3018\")\n",
    "\n",
    "print(\"Laser Mode: {}\".format(cnc.laser_mode))\n",
    "\n",
    "\n",
    "def init(feed=100):\n",
    "    program = GCode.GCode()\n",
    "    program.M5()\n",
    "    program.G21()  # Metric Units\n",
    "    program.G90()  # Absolute positioning.\n",
    "    program.G92(X=0, Y=0, Z=0)  # Zero on where we put the workpiece\n",
    "    program.G1(F=feed)\n",
    "    return program\n",
    "\n",
    "\n",
    "def end():\n",
    "    program = GCode.GCode()\n",
    "    program.M5()\n",
    "    return program\n"
   ]
  },
  {
   "cell_type": "code",
   "execution_count": 52,
   "metadata": {},
   "outputs": [
    {
     "data": {
      "text/plain": [
       "0.5170202255249023"
      ]
     },
     "execution_count": 52,
     "metadata": {},
     "output_type": "execute_result"
    }
   ],
   "source": [
    "cnc.run(init())\n"
   ]
  },
  {
   "cell_type": "code",
   "execution_count": 55,
   "metadata": {},
   "outputs": [
    {
     "data": {
      "text/plain": [
       "0.20840096473693848"
      ]
     },
     "execution_count": 55,
     "metadata": {},
     "output_type": "execute_result"
    }
   ],
   "source": [
    "program = GCode.GCode()\n",
    "program.G0(X=0, Y=0, Z=0)\n",
    "program.G1(X=1, Y=0, R=1)\n",
    "cnc.run(program)\n"
   ]
  },
  {
   "cell_type": "code",
   "execution_count": 64,
   "metadata": {},
   "outputs": [
    {
     "data": {
      "text/plain": [
       "['ok', 'ok']"
      ]
     },
     "execution_count": 64,
     "metadata": {},
     "output_type": "execute_result"
    }
   ],
   "source": [
    "cnc.cmd(\"G0 X0 Y0 Z0\")\n"
   ]
  },
  {
   "cell_type": "code",
   "execution_count": 83,
   "metadata": {},
   "outputs": [
    {
     "data": {
      "text/plain": [
       "['ok', 'ok']"
      ]
     },
     "execution_count": 83,
     "metadata": {},
     "output_type": "execute_result"
    }
   ],
   "source": [
    "cnc.cmd(\"G0 X0 Y0 Z0\")\n"
   ]
  },
  {
   "cell_type": "code",
   "execution_count": 92,
   "metadata": {
    "collapsed": true
   },
   "outputs": [],
   "source": [
    "x = 0.1\n",
    "z = -0.1\n"
   ]
  },
  {
   "cell_type": "code",
   "execution_count": 91,
   "metadata": {},
   "outputs": [
    {
     "data": {
      "text/plain": [
       "['ok', 'ok']"
      ]
     },
     "execution_count": 91,
     "metadata": {},
     "output_type": "execute_result"
    }
   ],
   "source": [
    "cnc.cmd(\"G1 X{x:.4f} Y0 Z{z:.4f}\".format(x=x, z=z))\n",
    "cnc.cmd(\"G2 X{x:.4f} Y0 I-{x:.4f} J0\".format(x=x))\n"
   ]
  },
  {
   "cell_type": "code",
   "execution_count": 93,
   "metadata": {},
   "outputs": [
    {
     "data": {
      "text/plain": [
       "array([  0.1,   1.1,   2.1,   3.1,   4.1,   5.1,   6.1,   7.1,   8.1,\n",
       "         9.1,  10.1,  11.1,  12.1,  13.1,  14.1,  15.1,  16.1,  17.1,\n",
       "        18.1,  19.1,  20.1,  21.1,  22.1,  23.1,  24.1,  25.1,  26.1,\n",
       "        27.1,  28.1])"
      ]
     },
     "execution_count": 93,
     "metadata": {},
     "output_type": "execute_result"
    }
   ],
   "source": []
  },
  {
   "cell_type": "code",
   "execution_count": 109,
   "metadata": {
    "scrolled": false
   },
   "outputs": [
    {
     "data": {
      "text/html": [
       "<b>M5</b> <i></i><br>\n",
       "<b>G21</b> <i></i><br>\n",
       "<b>G90</b> <i></i><br>\n",
       "<b>G92</b> <i>Z0 Y0 X0</i><br>\n",
       "<b>G1</b> <i>F100</i><br>\n",
       "<b>G0</b> <i>Z0 Y0 X0</i><br>\n",
       "<b>G0</b> <i>Z2</i><br>\n",
       "<b>M3</b> <i>S1000</i><br>\n",
       "<b>G1</b> <i>Z0</i><br>\n",
       "<b>G1</b> <i>Z-0.01 Y0 X0.1</i><br>\n",
       "<b>G2</b> <i>Y0 X0.1 I-0.1 J0</i><br>\n",
       "<b>G1</b> <i>Z-0.01 Y0 X1.1</i><br>\n",
       "<b>G2</b> <i>Y0 X1.1 I-1.1 J0</i><br>\n",
       "<b>G1</b> <i>Z-0.01 Y0 X2.1</i><br>\n",
       "<b>G2</b> <i>Y0 X2.1 I-2.1 J0</i><br>\n",
       "<b>G1</b> <i>Z-0.01 Y0 X3.1</i><br>\n",
       "<b>G2</b> <i>Y0 X3.1 I-3.1 J0</i><br>\n",
       "<b>G1</b> <i>Z-0.01 Y0 X4.1</i><br>\n",
       "<b>G2</b> <i>Y0 X4.1 I-4.1 J0</i><br>\n",
       "<b>G1</b> <i>Z-0.01 Y0 X5.1</i><br>\n",
       "<b>G2</b> <i>Y0 X5.1 I-5.1 J0</i><br>\n",
       "<b>G1</b> <i>Z-0.01 Y0 X6.1</i><br>\n",
       "<b>G2</b> <i>Y0 X6.1 I-6.1 J0</i><br>\n",
       "<b>G1</b> <i>Z-0.01 Y0 X7.1</i><br>\n",
       "<b>G2</b> <i>Y0 X7.1 I-7.1 J0</i><br>\n",
       "<b>G1</b> <i>Z-0.01 Y0 X8.1</i><br>\n",
       "<b>G2</b> <i>Y0 X8.1 I-8.1 J0</i><br>\n",
       "<b>G1</b> <i>Z-0.01 Y0 X9.1</i><br>\n",
       "<b>G2</b> <i>Y0 X9.1 I-9.1 J0</i><br>\n",
       "<b>G1</b> <i>Z-0.01 Y0 X10.1</i><br>\n",
       "<b>G2</b> <i>Y0 X10.1 I-10.1 J0</i><br>\n",
       "<b>G1</b> <i>Z-0.01 Y0 X11.1</i><br>\n",
       "<b>G2</b> <i>Y0 X11.1 I-11.1 J0</i><br>\n",
       "<b>G1</b> <i>Z-0.01 Y0 X12.1</i><br>\n",
       "<b>G2</b> <i>Y0 X12.1 I-12.1 J0</i><br>\n",
       "<b>G1</b> <i>Z-0.01 Y0 X13.1</i><br>\n",
       "<b>G2</b> <i>Y0 X13.1 I-13.1 J0</i><br>\n",
       "<b>G1</b> <i>Z-0.01 Y0 X14.1</i><br>\n",
       "<b>G2</b> <i>Y0 X14.1 I-14.1 J0</i><br>\n",
       "<b>G1</b> <i>Z-0.01 Y0 X15.1</i><br>\n",
       "<b>G2</b> <i>Y0 X15.1 I-15.1 J0</i><br>\n",
       "<b>G1</b> <i>Z-0.01 Y0 X16.1</i><br>\n",
       "<b>G2</b> <i>Y0 X16.1 I-16.1 J0</i><br>\n",
       "<b>G1</b> <i>Z-0.01 Y0 X17.1</i><br>\n",
       "<b>G2</b> <i>Y0 X17.1 I-17.1 J0</i><br>\n",
       "<b>G1</b> <i>Z-0.01 Y0 X18.1</i><br>\n",
       "<b>G2</b> <i>Y0 X18.1 I-18.1 J0</i><br>\n",
       "<b>G1</b> <i>Z-0.01 Y0 X19.1</i><br>\n",
       "<b>G2</b> <i>Y0 X19.1 I-19.1 J0</i><br>\n",
       "<b>G1</b> <i>Z-0.01 Y0 X20.1</i><br>\n",
       "<b>G2</b> <i>Y0 X20.1 I-20.1 J0</i><br>\n",
       "<b>G1</b> <i>Z-0.01 Y0 X21.1</i><br>\n",
       "<b>G2</b> <i>Y0 X21.1 I-21.1 J0</i><br>\n",
       "<b>G1</b> <i>Z-0.01 Y0 X22.1</i><br>\n",
       "<b>G2</b> <i>Y0 X22.1 I-22.1 J0</i><br>\n",
       "<b>G1</b> <i>Z-0.01 Y0 X23.1</i><br>\n",
       "<b>G2</b> <i>Y0 X23.1 I-23.1 J0</i><br>\n",
       "<b>G1</b> <i>Z-0.01 Y0 X24.1</i><br>\n",
       "<b>G2</b> <i>Y0 X24.1 I-24.1 J0</i><br>\n",
       "<b>G1</b> <i>Z-0.01 Y0 X25.1</i><br>\n",
       "<b>G2</b> <i>Y0 X25.1 I-25.1 J0</i><br>\n",
       "<b>G1</b> <i>Z-0.01 Y0 X26.1</i><br>\n",
       "<b>G2</b> <i>Y0 X26.1 I-26.1 J0</i><br>\n",
       "<b>G1</b> <i>Z-0.01 Y0 X27.1</i><br>\n",
       "<b>G2</b> <i>Y0 X27.1 I-27.1 J0</i><br>\n",
       "<b>G1</b> <i>Z-0.01 Y0 X28.1</i><br>\n",
       "<b>G2</b> <i>Y0 X28.1 I-28.1 J0</i><br>\n",
       "<b>G0</b> <i>Z1 Y0 X0</i><br>\n",
       "<b>G1</b> <i>Z-0.02 Y0 X0.1</i><br>\n",
       "<b>G2</b> <i>Y0 X0.1 I-0.1 J0</i><br>\n",
       "<b>G1</b> <i>Z-0.02 Y0 X1.1</i><br>\n",
       "<b>G2</b> <i>Y0 X1.1 I-1.1 J0</i><br>\n",
       "<b>G1</b> <i>Z-0.02 Y0 X2.1</i><br>\n",
       "<b>G2</b> <i>Y0 X2.1 I-2.1 J0</i><br>\n",
       "<b>G1</b> <i>Z-0.02 Y0 X3.1</i><br>\n",
       "<b>G2</b> <i>Y0 X3.1 I-3.1 J0</i><br>\n",
       "<b>G1</b> <i>Z-0.02 Y0 X4.1</i><br>\n",
       "<b>G2</b> <i>Y0 X4.1 I-4.1 J0</i><br>\n",
       "<b>G1</b> <i>Z-0.02 Y0 X5.1</i><br>\n",
       "<b>G2</b> <i>Y0 X5.1 I-5.1 J0</i><br>\n",
       "<b>G1</b> <i>Z-0.02 Y0 X6.1</i><br>\n",
       "<b>G2</b> <i>Y0 X6.1 I-6.1 J0</i><br>\n",
       "<b>G1</b> <i>Z-0.02 Y0 X7.1</i><br>\n",
       "<b>G2</b> <i>Y0 X7.1 I-7.1 J0</i><br>\n",
       "<b>G1</b> <i>Z-0.02 Y0 X8.1</i><br>\n",
       "<b>G2</b> <i>Y0 X8.1 I-8.1 J0</i><br>\n",
       "<b>G1</b> <i>Z-0.02 Y0 X9.1</i><br>\n",
       "<b>G2</b> <i>Y0 X9.1 I-9.1 J0</i><br>\n",
       "<b>G1</b> <i>Z-0.02 Y0 X10.1</i><br>\n",
       "<b>G2</b> <i>Y0 X10.1 I-10.1 J0</i><br>\n",
       "<b>G1</b> <i>Z-0.02 Y0 X11.1</i><br>\n",
       "<b>G2</b> <i>Y0 X11.1 I-11.1 J0</i><br>\n",
       "<b>G1</b> <i>Z-0.02 Y0 X12.1</i><br>\n",
       "<b>G2</b> <i>Y0 X12.1 I-12.1 J0</i><br>\n",
       "<b>G1</b> <i>Z-0.02 Y0 X13.1</i><br>\n",
       "<b>G2</b> <i>Y0 X13.1 I-13.1 J0</i><br>\n",
       "<b>G1</b> <i>Z-0.02 Y0 X14.1</i><br>\n",
       "<b>G2</b> <i>Y0 X14.1 I-14.1 J0</i><br>\n",
       "<b>G1</b> <i>Z-0.02 Y0 X15.1</i><br>\n",
       "<b>G2</b> <i>Y0 X15.1 I-15.1 J0</i><br>\n",
       "<b>G1</b> <i>Z-0.02 Y0 X16.1</i><br>\n",
       "<b>G2</b> <i>Y0 X16.1 I-16.1 J0</i><br>\n",
       "<b>G1</b> <i>Z-0.02 Y0 X17.1</i><br>\n",
       "<b>G2</b> <i>Y0 X17.1 I-17.1 J0</i><br>\n",
       "<b>G1</b> <i>Z-0.02 Y0 X18.1</i><br>\n",
       "<b>G2</b> <i>Y0 X18.1 I-18.1 J0</i><br>\n",
       "<b>G1</b> <i>Z-0.02 Y0 X19.1</i><br>\n",
       "<b>G2</b> <i>Y0 X19.1 I-19.1 J0</i><br>\n",
       "<b>G1</b> <i>Z-0.02 Y0 X20.1</i><br>\n",
       "<b>G2</b> <i>Y0 X20.1 I-20.1 J0</i><br>\n",
       "<b>G1</b> <i>Z-0.02 Y0 X21.1</i><br>\n",
       "<b>G2</b> <i>Y0 X21.1 I-21.1 J0</i><br>\n",
       "<b>G1</b> <i>Z-0.02 Y0 X22.1</i><br>\n",
       "<b>G2</b> <i>Y0 X22.1 I-22.1 J0</i><br>\n",
       "<b>G1</b> <i>Z-0.02 Y0 X23.1</i><br>\n",
       "<b>G2</b> <i>Y0 X23.1 I-23.1 J0</i><br>\n",
       "<b>G1</b> <i>Z-0.02 Y0 X24.1</i><br>\n",
       "<b>G2</b> <i>Y0 X24.1 I-24.1 J0</i><br>\n",
       "<b>G1</b> <i>Z-0.02 Y0 X25.1</i><br>\n",
       "<b>G2</b> <i>Y0 X25.1 I-25.1 J0</i><br>\n",
       "<b>G1</b> <i>Z-0.02 Y0 X26.1</i><br>\n",
       "<b>G2</b> <i>Y0 X26.1 I-26.1 J0</i><br>\n",
       "<b>G1</b> <i>Z-0.02 Y0 X27.1</i><br>\n",
       "<b>G2</b> <i>Y0 X27.1 I-27.1 J0</i><br>\n",
       "<b>G1</b> <i>Z-0.02 Y0 X28.1</i><br>\n",
       "<b>G2</b> <i>Y0 X28.1 I-28.1 J0</i><br>\n",
       "<b>G0</b> <i>Z1 Y0 X0</i><br>\n",
       "<b>G1</b> <i>Z-0.03 Y0 X0.1</i><br>\n",
       "<b>G2</b> <i>Y0 X0.1 I-0.1 J0</i><br>\n",
       "<b>G1</b> <i>Z-0.03 Y0 X1.1</i><br>\n",
       "<b>G2</b> <i>Y0 X1.1 I-1.1 J0</i><br>\n",
       "<b>G1</b> <i>Z-0.03 Y0 X2.1</i><br>\n",
       "<b>G2</b> <i>Y0 X2.1 I-2.1 J0</i><br>\n",
       "<b>G1</b> <i>Z-0.03 Y0 X3.1</i><br>\n",
       "<b>G2</b> <i>Y0 X3.1 I-3.1 J0</i><br>\n",
       "<b>G1</b> <i>Z-0.03 Y0 X4.1</i><br>\n",
       "<b>G2</b> <i>Y0 X4.1 I-4.1 J0</i><br>\n",
       "<b>G1</b> <i>Z-0.03 Y0 X5.1</i><br>\n",
       "<b>G2</b> <i>Y0 X5.1 I-5.1 J0</i><br>\n",
       "<b>G1</b> <i>Z-0.03 Y0 X6.1</i><br>\n",
       "<b>G2</b> <i>Y0 X6.1 I-6.1 J0</i><br>\n",
       "<b>G1</b> <i>Z-0.03 Y0 X7.1</i><br>\n",
       "<b>G2</b> <i>Y0 X7.1 I-7.1 J0</i><br>\n",
       "<b>G1</b> <i>Z-0.03 Y0 X8.1</i><br>\n",
       "<b>G2</b> <i>Y0 X8.1 I-8.1 J0</i><br>\n",
       "<b>G1</b> <i>Z-0.03 Y0 X9.1</i><br>\n",
       "<b>G2</b> <i>Y0 X9.1 I-9.1 J0</i><br>\n",
       "<b>G1</b> <i>Z-0.03 Y0 X10.1</i><br>\n",
       "<b>G2</b> <i>Y0 X10.1 I-10.1 J0</i><br>\n",
       "<b>G1</b> <i>Z-0.03 Y0 X11.1</i><br>\n",
       "<b>G2</b> <i>Y0 X11.1 I-11.1 J0</i><br>\n",
       "<b>G1</b> <i>Z-0.03 Y0 X12.1</i><br>\n",
       "<b>G2</b> <i>Y0 X12.1 I-12.1 J0</i><br>\n",
       "<b>G1</b> <i>Z-0.03 Y0 X13.1</i><br>\n",
       "<b>G2</b> <i>Y0 X13.1 I-13.1 J0</i><br>\n",
       "<b>G1</b> <i>Z-0.03 Y0 X14.1</i><br>\n",
       "<b>G2</b> <i>Y0 X14.1 I-14.1 J0</i><br>\n",
       "<b>G1</b> <i>Z-0.03 Y0 X15.1</i><br>\n",
       "<b>G2</b> <i>Y0 X15.1 I-15.1 J0</i><br>\n",
       "<b>G1</b> <i>Z-0.03 Y0 X16.1</i><br>\n",
       "<b>G2</b> <i>Y0 X16.1 I-16.1 J0</i><br>\n",
       "<b>G1</b> <i>Z-0.03 Y0 X17.1</i><br>\n",
       "<b>G2</b> <i>Y0 X17.1 I-17.1 J0</i><br>\n",
       "<b>G1</b> <i>Z-0.03 Y0 X18.1</i><br>\n",
       "<b>G2</b> <i>Y0 X18.1 I-18.1 J0</i><br>\n",
       "<b>G1</b> <i>Z-0.03 Y0 X19.1</i><br>\n",
       "<b>G2</b> <i>Y0 X19.1 I-19.1 J0</i><br>\n",
       "<b>G1</b> <i>Z-0.03 Y0 X20.1</i><br>\n",
       "<b>G2</b> <i>Y0 X20.1 I-20.1 J0</i><br>\n",
       "<b>G1</b> <i>Z-0.03 Y0 X21.1</i><br>\n",
       "<b>G2</b> <i>Y0 X21.1 I-21.1 J0</i><br>\n",
       "<b>G1</b> <i>Z-0.03 Y0 X22.1</i><br>\n",
       "<b>G2</b> <i>Y0 X22.1 I-22.1 J0</i><br>\n",
       "<b>G1</b> <i>Z-0.03 Y0 X23.1</i><br>\n",
       "<b>G2</b> <i>Y0 X23.1 I-23.1 J0</i><br>\n",
       "<b>G1</b> <i>Z-0.03 Y0 X24.1</i><br>\n",
       "<b>G2</b> <i>Y0 X24.1 I-24.1 J0</i><br>\n",
       "<b>G1</b> <i>Z-0.03 Y0 X25.1</i><br>\n",
       "<b>G2</b> <i>Y0 X25.1 I-25.1 J0</i><br>\n",
       "<b>G1</b> <i>Z-0.03 Y0 X26.1</i><br>\n",
       "<b>G2</b> <i>Y0 X26.1 I-26.1 J0</i><br>\n",
       "<b>G1</b> <i>Z-0.03 Y0 X27.1</i><br>\n",
       "<b>G2</b> <i>Y0 X27.1 I-27.1 J0</i><br>\n",
       "<b>G1</b> <i>Z-0.03 Y0 X28.1</i><br>\n",
       "<b>G2</b> <i>Y0 X28.1 I-28.1 J0</i><br>\n",
       "<b>G0</b> <i>Z1 Y0 X0</i><br>\n",
       "<b>G1</b> <i>Z-0.04 Y0 X0.1</i><br>\n",
       "<b>G2</b> <i>Y0 X0.1 I-0.1 J0</i><br>\n",
       "<b>G1</b> <i>Z-0.04 Y0 X1.1</i><br>\n",
       "<b>G2</b> <i>Y0 X1.1 I-1.1 J0</i><br>\n",
       "<b>G1</b> <i>Z-0.04 Y0 X2.1</i><br>\n",
       "<b>G2</b> <i>Y0 X2.1 I-2.1 J0</i><br>\n",
       "<b>G1</b> <i>Z-0.04 Y0 X3.1</i><br>\n",
       "<b>G2</b> <i>Y0 X3.1 I-3.1 J0</i><br>\n",
       "<b>G1</b> <i>Z-0.04 Y0 X4.1</i><br>\n",
       "<b>G2</b> <i>Y0 X4.1 I-4.1 J0</i><br>\n",
       "<b>G1</b> <i>Z-0.04 Y0 X5.1</i><br>\n",
       "<b>G2</b> <i>Y0 X5.1 I-5.1 J0</i><br>\n",
       "<b>G1</b> <i>Z-0.04 Y0 X6.1</i><br>\n",
       "<b>G2</b> <i>Y0 X6.1 I-6.1 J0</i><br>\n",
       "<b>G1</b> <i>Z-0.04 Y0 X7.1</i><br>\n",
       "<b>G2</b> <i>Y0 X7.1 I-7.1 J0</i><br>\n",
       "<b>G1</b> <i>Z-0.04 Y0 X8.1</i><br>\n",
       "<b>G2</b> <i>Y0 X8.1 I-8.1 J0</i><br>\n",
       "<b>G1</b> <i>Z-0.04 Y0 X9.1</i><br>\n",
       "<b>G2</b> <i>Y0 X9.1 I-9.1 J0</i><br>\n",
       "<b>G1</b> <i>Z-0.04 Y0 X10.1</i><br>\n",
       "<b>G2</b> <i>Y0 X10.1 I-10.1 J0</i><br>\n",
       "<b>G1</b> <i>Z-0.04 Y0 X11.1</i><br>\n",
       "<b>G2</b> <i>Y0 X11.1 I-11.1 J0</i><br>\n",
       "<b>G1</b> <i>Z-0.04 Y0 X12.1</i><br>\n",
       "<b>G2</b> <i>Y0 X12.1 I-12.1 J0</i><br>\n",
       "<b>G1</b> <i>Z-0.04 Y0 X13.1</i><br>\n",
       "<b>G2</b> <i>Y0 X13.1 I-13.1 J0</i><br>\n",
       "<b>G1</b> <i>Z-0.04 Y0 X14.1</i><br>\n",
       "<b>G2</b> <i>Y0 X14.1 I-14.1 J0</i><br>\n",
       "<b>G1</b> <i>Z-0.04 Y0 X15.1</i><br>\n",
       "<b>G2</b> <i>Y0 X15.1 I-15.1 J0</i><br>\n",
       "<b>G1</b> <i>Z-0.04 Y0 X16.1</i><br>\n",
       "<b>G2</b> <i>Y0 X16.1 I-16.1 J0</i><br>\n",
       "<b>G1</b> <i>Z-0.04 Y0 X17.1</i><br>\n",
       "<b>G2</b> <i>Y0 X17.1 I-17.1 J0</i><br>\n",
       "<b>G1</b> <i>Z-0.04 Y0 X18.1</i><br>\n",
       "<b>G2</b> <i>Y0 X18.1 I-18.1 J0</i><br>\n",
       "<b>G1</b> <i>Z-0.04 Y0 X19.1</i><br>\n",
       "<b>G2</b> <i>Y0 X19.1 I-19.1 J0</i><br>\n",
       "<b>G1</b> <i>Z-0.04 Y0 X20.1</i><br>\n",
       "<b>G2</b> <i>Y0 X20.1 I-20.1 J0</i><br>\n",
       "<b>G1</b> <i>Z-0.04 Y0 X21.1</i><br>\n",
       "<b>G2</b> <i>Y0 X21.1 I-21.1 J0</i><br>\n",
       "<b>G1</b> <i>Z-0.04 Y0 X22.1</i><br>\n",
       "<b>G2</b> <i>Y0 X22.1 I-22.1 J0</i><br>\n",
       "<b>G1</b> <i>Z-0.04 Y0 X23.1</i><br>\n",
       "<b>G2</b> <i>Y0 X23.1 I-23.1 J0</i><br>\n",
       "<b>G1</b> <i>Z-0.04 Y0 X24.1</i><br>\n",
       "<b>G2</b> <i>Y0 X24.1 I-24.1 J0</i><br>\n",
       "<b>G1</b> <i>Z-0.04 Y0 X25.1</i><br>\n",
       "<b>G2</b> <i>Y0 X25.1 I-25.1 J0</i><br>\n",
       "<b>G1</b> <i>Z-0.04 Y0 X26.1</i><br>\n",
       "<b>G2</b> <i>Y0 X26.1 I-26.1 J0</i><br>\n",
       "<b>G1</b> <i>Z-0.04 Y0 X27.1</i><br>\n",
       "<b>G2</b> <i>Y0 X27.1 I-27.1 J0</i><br>\n",
       "<b>G1</b> <i>Z-0.04 Y0 X28.1</i><br>\n",
       "<b>G2</b> <i>Y0 X28.1 I-28.1 J0</i><br>\n",
       "<b>G0</b> <i>Z1 Y0 X0</i><br>\n",
       "<b>G1</b> <i>Z-0.05 Y0 X0.1</i><br>\n",
       "<b>G2</b> <i>Y0 X0.1 I-0.1 J0</i><br>\n",
       "<b>G1</b> <i>Z-0.05 Y0 X1.1</i><br>\n",
       "<b>G2</b> <i>Y0 X1.1 I-1.1 J0</i><br>\n",
       "<b>G1</b> <i>Z-0.05 Y0 X2.1</i><br>\n",
       "<b>G2</b> <i>Y0 X2.1 I-2.1 J0</i><br>\n",
       "<b>G1</b> <i>Z-0.05 Y0 X3.1</i><br>\n",
       "<b>G2</b> <i>Y0 X3.1 I-3.1 J0</i><br>\n",
       "<b>G1</b> <i>Z-0.05 Y0 X4.1</i><br>\n",
       "<b>G2</b> <i>Y0 X4.1 I-4.1 J0</i><br>\n",
       "<b>G1</b> <i>Z-0.05 Y0 X5.1</i><br>\n",
       "<b>G2</b> <i>Y0 X5.1 I-5.1 J0</i><br>\n",
       "<b>G1</b> <i>Z-0.05 Y0 X6.1</i><br>\n",
       "<b>G2</b> <i>Y0 X6.1 I-6.1 J0</i><br>\n",
       "<b>G1</b> <i>Z-0.05 Y0 X7.1</i><br>\n",
       "<b>G2</b> <i>Y0 X7.1 I-7.1 J0</i><br>\n",
       "<b>G1</b> <i>Z-0.05 Y0 X8.1</i><br>\n",
       "<b>G2</b> <i>Y0 X8.1 I-8.1 J0</i><br>\n",
       "<b>G1</b> <i>Z-0.05 Y0 X9.1</i><br>\n",
       "<b>G2</b> <i>Y0 X9.1 I-9.1 J0</i><br>\n",
       "<b>G1</b> <i>Z-0.05 Y0 X10.1</i><br>\n",
       "<b>G2</b> <i>Y0 X10.1 I-10.1 J0</i><br>\n",
       "<b>G1</b> <i>Z-0.05 Y0 X11.1</i><br>\n",
       "<b>G2</b> <i>Y0 X11.1 I-11.1 J0</i><br>\n",
       "<b>G1</b> <i>Z-0.05 Y0 X12.1</i><br>\n",
       "<b>G2</b> <i>Y0 X12.1 I-12.1 J0</i><br>\n",
       "<b>G1</b> <i>Z-0.05 Y0 X13.1</i><br>\n",
       "<b>G2</b> <i>Y0 X13.1 I-13.1 J0</i><br>\n",
       "<b>G1</b> <i>Z-0.05 Y0 X14.1</i><br>\n",
       "<b>G2</b> <i>Y0 X14.1 I-14.1 J0</i><br>\n",
       "<b>G1</b> <i>Z-0.05 Y0 X15.1</i><br>\n",
       "<b>G2</b> <i>Y0 X15.1 I-15.1 J0</i><br>\n",
       "<b>G1</b> <i>Z-0.05 Y0 X16.1</i><br>\n",
       "<b>G2</b> <i>Y0 X16.1 I-16.1 J0</i><br>\n",
       "<b>G1</b> <i>Z-0.05 Y0 X17.1</i><br>\n",
       "<b>G2</b> <i>Y0 X17.1 I-17.1 J0</i><br>\n",
       "<b>G1</b> <i>Z-0.05 Y0 X18.1</i><br>\n",
       "<b>G2</b> <i>Y0 X18.1 I-18.1 J0</i><br>\n",
       "<b>G1</b> <i>Z-0.05 Y0 X19.1</i><br>\n",
       "<b>G2</b> <i>Y0 X19.1 I-19.1 J0</i><br>\n",
       "<b>G1</b> <i>Z-0.05 Y0 X20.1</i><br>\n",
       "<b>G2</b> <i>Y0 X20.1 I-20.1 J0</i><br>\n",
       "<b>G1</b> <i>Z-0.05 Y0 X21.1</i><br>\n",
       "<b>G2</b> <i>Y0 X21.1 I-21.1 J0</i><br>\n",
       "<b>G1</b> <i>Z-0.05 Y0 X22.1</i><br>\n",
       "<b>G2</b> <i>Y0 X22.1 I-22.1 J0</i><br>\n",
       "<b>G1</b> <i>Z-0.05 Y0 X23.1</i><br>\n",
       "<b>G2</b> <i>Y0 X23.1 I-23.1 J0</i><br>\n",
       "<b>G1</b> <i>Z-0.05 Y0 X24.1</i><br>\n",
       "<b>G2</b> <i>Y0 X24.1 I-24.1 J0</i><br>\n",
       "<b>G1</b> <i>Z-0.05 Y0 X25.1</i><br>\n",
       "<b>G2</b> <i>Y0 X25.1 I-25.1 J0</i><br>\n",
       "<b>G1</b> <i>Z-0.05 Y0 X26.1</i><br>\n",
       "<b>G2</b> <i>Y0 X26.1 I-26.1 J0</i><br>\n",
       "<b>G1</b> <i>Z-0.05 Y0 X27.1</i><br>\n",
       "<b>G2</b> <i>Y0 X27.1 I-27.1 J0</i><br>\n",
       "<b>G1</b> <i>Z-0.05 Y0 X28.1</i><br>\n",
       "<b>G2</b> <i>Y0 X28.1 I-28.1 J0</i><br>\n",
       "<b>G0</b> <i>Z1 Y0 X0</i><br>\n",
       "<b>M5</b> <i></i>"
      ],
      "text/plain": [
       "<GCode>[cmds=305]"
      ]
     },
     "execution_count": 109,
     "metadata": {},
     "output_type": "execute_result"
    }
   ],
   "source": [
    "prog = GCode.GCode()\n",
    "prog += init()\n",
    "prog.G0(X=0, Y=0, Z=0)\n",
    "prog.G0(Z=2)\n",
    "prog.M3(S=1000)\n",
    "prog.G1(Z=0)\n",
    "for z in [-0.01, -0.02, -0.03, -0.04, -0.05]:\n",
    "    for x in np.arange(0.1, 28.57, 1):\n",
    "        prog.G1(X=x, Y=0, Z=z)\n",
    "        prog.G2(X=x, Y=0, I=-x, J=0)\n",
    "    prog.G0(Z=1, X=0, Y=0)\n",
    "prog += end()\n",
    "prog\n"
   ]
  },
  {
   "cell_type": "code",
   "execution_count": 110,
   "metadata": {},
   "outputs": [
    {
     "name": "stdout",
     "output_type": "stream",
     "text": [
      "^C\n"
     ]
    },
    {
     "data": {
      "text/plain": [
       "1052.573856830597"
      ]
     },
     "execution_count": 110,
     "metadata": {},
     "output_type": "execute_result"
    }
   ],
   "source": [
    "cnc.run(prog)\n"
   ]
  },
  {
   "cell_type": "code",
   "execution_count": 106,
   "metadata": {
    "collapsed": true
   },
   "outputs": [],
   "source": [
    "cnc.reset()\n"
   ]
  },
  {
   "cell_type": "code",
   "execution_count": 107,
   "metadata": {},
   "outputs": [
    {
     "data": {
      "text/plain": [
       "['ok', 'ok']"
      ]
     },
     "execution_count": 107,
     "metadata": {},
     "output_type": "execute_result"
    }
   ],
   "source": [
    "cnc.cmd(\"G0 X0Y0Z0\")\n"
   ]
  },
  {
   "cell_type": "code",
   "execution_count": 108,
   "metadata": {},
   "outputs": [
    {
     "data": {
      "text/plain": [
       "['ok', 'ok']"
      ]
     },
     "execution_count": 108,
     "metadata": {},
     "output_type": "execute_result"
    }
   ],
   "source": [
    "cnc.cmd(\"G0 Z10\")\n"
   ]
  },
  {
   "cell_type": "code",
   "execution_count": 111,
   "metadata": {},
   "outputs": [
    {
     "data": {
      "text/plain": [
       "[]"
      ]
     },
     "execution_count": 111,
     "metadata": {},
     "output_type": "execute_result"
    }
   ],
   "source": [
    "cnc.cmd(\"~\")\n"
   ]
  },
  {
   "cell_type": "code",
   "execution_count": 113,
   "metadata": {},
   "outputs": [
    {
     "data": {
      "text/plain": [
       "9.714595079421997"
      ]
     },
     "execution_count": 113,
     "metadata": {},
     "output_type": "execute_result"
    }
   ],
   "source": [
    "cnc.run(\"M5\")\n"
   ]
  },
  {
   "cell_type": "code",
   "execution_count": 114,
   "metadata": {},
   "outputs": [
    {
     "data": {
      "text/plain": [
       "3.7061407566070557"
      ]
     },
     "execution_count": 114,
     "metadata": {},
     "output_type": "execute_result"
    }
   ],
   "source": [
    "cnc.run(\"G0X0Y0Z1\")\n"
   ]
  },
  {
   "cell_type": "code",
   "execution_count": 121,
   "metadata": {},
   "outputs": [
    {
     "data": {
      "text/plain": [
       "224.98462653160095"
      ]
     },
     "execution_count": 121,
     "metadata": {},
     "output_type": "execute_result"
    }
   ],
   "source": [
    "prog = GCode.GCode()\n",
    "prog += init()\n",
    "prog.G0(X=0, Y=0, Z=0)\n",
    "prog.G0(Z=2)\n",
    "prog.M3(S=1000)\n",
    "prog.G1(Z=0)\n",
    "for z in [-0.2, -0.4, -0.6, -0.8, -0.1]:\n",
    "    for x in np.arange(0.1, 5, 1):\n",
    "        prog.G1(X=x, Y=0, Z=z)\n",
    "        prog.G2(X=x, Y=0, I=-x, J=0)\n",
    "    prog.G0(Z=1, X=0, Y=0)\n",
    "prog += end()\n",
    "prog\n",
    "cnc.run(prog)\n"
   ]
  },
  {
   "cell_type": "code",
   "execution_count": 118,
   "metadata": {},
   "outputs": [
    {
     "data": {
      "text/plain": [
       "9.113475799560547"
      ]
     },
     "execution_count": 118,
     "metadata": {},
     "output_type": "execute_result"
    }
   ],
   "source": [
    "cnc.run(\"~\")\n"
   ]
  },
  {
   "cell_type": "code",
   "execution_count": 120,
   "metadata": {},
   "outputs": [
    {
     "data": {
      "text/plain": [
       "['ok', 'ok']"
      ]
     },
     "execution_count": 120,
     "metadata": {},
     "output_type": "execute_result"
    }
   ],
   "source": [
    "cnc.cmd(\"G0 X0Y0Z0\")\n"
   ]
  },
  {
   "cell_type": "code",
   "execution_count": 122,
   "metadata": {},
   "outputs": [
    {
     "data": {
      "text/plain": [
       "0.5168354511260986"
      ]
     },
     "execution_count": 122,
     "metadata": {},
     "output_type": "execute_result"
    }
   ],
   "source": [
    "cnc.run(init())\n"
   ]
  },
  {
   "cell_type": "code",
   "execution_count": 124,
   "metadata": {},
   "outputs": [
    {
     "data": {
      "text/plain": [
       "0.1034088134765625"
      ]
     },
     "execution_count": 124,
     "metadata": {},
     "output_type": "execute_result"
    }
   ],
   "source": [
    "cnc.run(\"M3 S10000\")\n"
   ]
  },
  {
   "cell_type": "code",
   "execution_count": 125,
   "metadata": {},
   "outputs": [
    {
     "data": {
      "text/plain": [
       "['ok', 'ok']"
      ]
     },
     "execution_count": 125,
     "metadata": {},
     "output_type": "execute_result"
    }
   ],
   "source": [
    "cnc.cmd(\"G1 Z-2\")\n"
   ]
  },
  {
   "cell_type": "code",
   "execution_count": 129,
   "metadata": {},
   "outputs": [
    {
     "data": {
      "text/plain": [
       "['ok', 'ok']"
      ]
     },
     "execution_count": 129,
     "metadata": {},
     "output_type": "execute_result"
    }
   ],
   "source": [
    "cnc.cmd(\"G1 Y4\")\n"
   ]
  },
  {
   "cell_type": "code",
   "execution_count": 131,
   "metadata": {},
   "outputs": [
    {
     "data": {
      "text/plain": [
       "['ok', 'ok']"
      ]
     },
     "execution_count": 131,
     "metadata": {},
     "output_type": "execute_result"
    }
   ],
   "source": [
    "cnc.cmd(\"G1 X-10\")\n"
   ]
  },
  {
   "cell_type": "code",
   "execution_count": 132,
   "metadata": {},
   "outputs": [
    {
     "data": {
      "text/plain": [
       "['ok', 'ok']"
      ]
     },
     "execution_count": 132,
     "metadata": {},
     "output_type": "execute_result"
    }
   ],
   "source": [
    "cnc.cmd(\"G1 Y8\")\n"
   ]
  },
  {
   "cell_type": "code",
   "execution_count": 133,
   "metadata": {},
   "outputs": [
    {
     "data": {
      "text/plain": [
       "['ok', 'ok']"
      ]
     },
     "execution_count": 133,
     "metadata": {},
     "output_type": "execute_result"
    }
   ],
   "source": [
    "cnc.cmd(\"G1 X10 F10\")\n"
   ]
  },
  {
   "cell_type": "code",
   "execution_count": 134,
   "metadata": {},
   "outputs": [
    {
     "data": {
      "text/plain": [
       "['ok', 'ok']"
      ]
     },
     "execution_count": 134,
     "metadata": {},
     "output_type": "execute_result"
    }
   ],
   "source": [
    "cnc.cmd(\"M5\")\n"
   ]
  },
  {
   "cell_type": "code",
   "execution_count": null,
   "metadata": {
    "collapsed": true
   },
   "outputs": [],
   "source": []
  }
 ],
 "metadata": {
  "kernelspec": {
   "display_name": "Python 3",
   "language": "python",
   "name": "python3"
  },
  "language_info": {
   "codemirror_mode": {
    "name": "ipython",
    "version": 3
   },
   "file_extension": ".py",
   "mimetype": "text/x-python",
   "name": "python",
   "nbconvert_exporter": "python",
   "pygments_lexer": "ipython3",
   "version": "3.5.2"
  }
 },
 "nbformat": 4,
 "nbformat_minor": 2
}
