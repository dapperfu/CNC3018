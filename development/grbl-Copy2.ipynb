{
 "cells": [
  {
   "cell_type": "code",
   "execution_count": 4,
   "metadata": {
    "collapsed": true
   },
   "outputs": [],
   "source": [
    "import serial"
   ]
  },
  {
   "cell_type": "code",
   "execution_count": 31,
   "metadata": {},
   "outputs": [],
   "source": [
    "class GRBL(serial.Serial):\n",
    "    BAUDRATE = 115200\n",
    "    \n",
    "    def __init__(self, port):\n",
    "        super().__init__(port=port, baudrate=GRBL.BAUDRATE, timeout=0.01)"
   ]
  },
  {
   "cell_type": "code",
   "execution_count": 32,
   "metadata": {
    "collapsed": true
   },
   "outputs": [],
   "source": [
    "grbl.close()"
   ]
  },
  {
   "cell_type": "code",
   "execution_count": 33,
   "metadata": {
    "collapsed": true
   },
   "outputs": [],
   "source": [
    "grbl = GRBL(\"/dev/cnc_3018\")"
   ]
  },
  {
   "cell_type": "code",
   "execution_count": 34,
   "metadata": {},
   "outputs": [
    {
     "data": {
      "text/plain": [
       "[b'$0=10\\r\\n',\n",
       " b'$1=25\\r\\n',\n",
       " b'$2=0\\r\\n',\n",
       " b'$3=0\\r\\n',\n",
       " b'$4=0\\r\\n',\n",
       " b'$5=0\\r\\n',\n",
       " b'$6=0\\r\\n',\n",
       " b'$10=1\\r\\n',\n",
       " b'$11=0.010\\r\\n',\n",
       " b'$12=0.002\\r\\n',\n",
       " b'$13=0\\r\\n',\n",
       " b'$20=0\\r\\n',\n",
       " b'$21=0\\r\\n',\n",
       " b'$22=0\\r\\n',\n",
       " b'$23=0\\r\\n',\n",
       " b'$24=25.000\\r\\n',\n",
       " b'$25=500.000\\r\\n',\n",
       " b'$26=250\\r\\n',\n",
       " b'$27=1.000\\r\\n',\n",
       " b'$30=1000\\r\\n',\n",
       " b'$31=0\\r\\n',\n",
       " b'$32=0\\r\\n',\n",
       " b'$100=250.000\\r\\n',\n",
       " b'$101=250.000\\r\\n',\n",
       " b'$102=250.000\\r\\n',\n",
       " b'$110=500.000\\r\\n',\n",
       " b'$111=500.000\\r\\n',\n",
       " b'$112=500.000\\r\\n',\n",
       " b'$120=10.000\\r\\n',\n",
       " b'$121=10.000\\r\\n',\n",
       " b'$122=10.000\\r\\n',\n",
       " b'$130=200.000\\r\\n',\n",
       " b'$131=200.000\\r\\n',\n",
       " b'$132=200.000\\r\\n',\n",
       " b'ok\\r\\n']"
      ]
     },
     "execution_count": 34,
     "metadata": {},
     "output_type": "execute_result"
    }
   ],
   "source": [
    "grbl.write(\"$$\\n\".encode())\n",
    "grbl.readlines()"
   ]
  },
  {
   "cell_type": "code",
   "execution_count": 35,
   "metadata": {
    "collapsed": true
   },
   "outputs": [],
   "source": [
    "class GRBL(serial.Serial):\n",
    "    BAUDRATE = 115200\n",
    "    \n",
    "    def __init__(self, port):\n",
    "        super().__init__(port=port, baudrate=GRBL.BAUDRATE, timeout=0.01)\n",
    "        \n",
    "    def cmd(self, command_line, resp=True, multiline=True):\n",
    "        self.flushInput()\n",
    "        self.write(\"{cmd}\\n\".format(cmd=command_line).encode())\n",
    "        if not resp:\n",
    "            return None\n",
    "        \n",
    "        if multiline:\n",
    "            responses = self.readlines()\n",
    "            responses = [response.decode().strip() for response in responses]\n",
    "            return responses\n",
    "        else:\n",
    "            response = self.readline()\n",
    "            return response.decode().strip()"
   ]
  },
  {
   "cell_type": "code",
   "execution_count": 37,
   "metadata": {},
   "outputs": [],
   "source": [
    "grbl.close()"
   ]
  },
  {
   "cell_type": "code",
   "execution_count": 38,
   "metadata": {
    "collapsed": true
   },
   "outputs": [],
   "source": [
    "grbl = GRBL(\"/dev/cnc_3018\")"
   ]
  },
  {
   "cell_type": "code",
   "execution_count": 40,
   "metadata": {
    "collapsed": true,
    "scrolled": true
   },
   "outputs": [],
   "source": [
    "settings = [\n",
    "    (\"$0\", \"step_pulse\"),\n",
    "    (\"$1\", \"step_idle_delay\"),\n",
    "    (\"$2\", \"step_port_invert\"),\n",
    "    (\"$3\", \"direction_port_invert\"),\n",
    "    (\"$4\", \"step_enable_invert\"),\n",
    "    (\"$5\", \"limit_pin_invert\"),\n",
    "    (\"$6\", \"probe_pin_invert\"),\n",
    "    (\"$10\", \"status_report\"),\n",
    "    (\"$11\", \"junction_deviation\"),\n",
    "    (\"$12\", \"arc_tolerance\"),\n",
    "    (\"$13\", \"report_inches\"),\n",
    "    (\"$20\", \"soft_limits\"),\n",
    "    (\"$21\", \"hard_limits\"),\n",
    "    (\"$22\", \"homing_cycle\"),\n",
    "    (\"$23\", \"homing_dir_invert\"),\n",
    "    (\"$24\", \"homing_feed\"),\n",
    "    (\"$25\", \"homing_seek\"),\n",
    "    (\"$26\", \"homing_debounce\"),\n",
    "    (\"$27\", \"homing_pull_off\"),\n",
    "    (\"$30\", \"max_spindle_speed\"),\n",
    "    (\"$31\", \"min_spindle_speed\"),\n",
    "    (\"$32\", \"laser_mode\"),\n",
    "    (\"$100\", \"x_steps_mm\"),\n",
    "    (\"$101\", \"y_steps_mm\"),\n",
    "    (\"$102\", \"z_steps_mm\"),\n",
    "    (\"$110\", \"x_max_rate\"),\n",
    "    (\"$111\", \"y_max_rate\"),\n",
    "    (\"$112\", \"z_max_rate\"),\n",
    "    (\"$120\", \"x_acceleration\"),\n",
    "    (\"$121\", \"y_acceleration\"),\n",
    "    (\"$122\", \"z_acceleration\"),\n",
    "    (\"$130\", \"x_travel\"),\n",
    "    (\"$131\", \"y_travel\"),\n",
    "    (\"$132\", \"z_travel\"),\n",
    "    ]"
   ]
  },
  {
   "cell_type": "code",
   "execution_count": 50,
   "metadata": {
    "collapsed": true
   },
   "outputs": [],
   "source": [
    "for setting in settings:\n",
    "    cmd = setting[0]\n",
    "    name = setting[1]\n",
    "    \n",
    "    setter = grbl_setter_generator(cmd)\n",
    "    getter = grbl_getter_generator(cmd)\n",
    "    \n",
    "    prop = property(fget=getter,\n",
    "                    fset=setter,\n",
    "                    doc=\" \".join(name.split(\"_\")))\n",
    "    \n",
    "    setattr(GRBL, name, prop)"
   ]
  },
  {
   "cell_type": "code",
   "execution_count": 51,
   "metadata": {},
   "outputs": [],
   "source": [
    "grbl = GRBL(\"/dev/cnc_3018\")"
   ]
  },
  {
   "cell_type": "code",
   "execution_count": 52,
   "metadata": {},
   "outputs": [
    {
     "data": {
      "text/plain": [
       "10.0"
      ]
     },
     "execution_count": 52,
     "metadata": {},
     "output_type": "execute_result"
    }
   ],
   "source": [
    "grbl.step_pulse"
   ]
  },
  {
   "cell_type": "code",
   "execution_count": 56,
   "metadata": {},
   "outputs": [
    {
     "name": "stdout",
     "output_type": "stream",
     "text": [
      "ok\n"
     ]
    }
   ],
   "source": [
    "grbl.step_pulse = 10"
   ]
  },
  {
   "cell_type": "code",
   "execution_count": 57,
   "metadata": {
    "collapsed": true
   },
   "outputs": [],
   "source": [
    "\n",
    "import serial\n",
    "class GRBL(object):\n",
    "    BAUDRATE = 115200\n",
    "    \n",
    "    def __init__(self, port):\n",
    "        self.serial = serial.Serial(port=port,\n",
    "                                    baudrate=GRBL.BAUDRATE,\n",
    "                                    timeout=0.10)\n",
    "        \n",
    "    def write(self, cmd):\n",
    "        self.serial.flushInput()\n",
    "        self.serial.write(cmd)\n",
    "        \n",
    "    def cmd(self, command_line, resp=True, multiline=True):\n",
    "        self.flushInput()\n",
    "        self.write(\"{cmd}\\n\".format(cmd=command_line).encode())\n",
    "        if not resp:\n",
    "            return None\n",
    "        \n",
    "        if multiline:\n",
    "            responses = self.readlines()\n",
    "            responses = [response.decode().strip() for response in responses]\n",
    "            return responses\n",
    "        else:\n",
    "            response = self.readline()\n",
    "            return response.decode().strip()\n",
    "        \n",
    "settings = [\n",
    "    (\"$0\", \"step_pulse\"),\n",
    "    (\"$1\", \"step_idle_delay\"),\n",
    "    (\"$2\", \"step_port_invert\"),\n",
    "    (\"$3\", \"direction_port_invert\"),\n",
    "    (\"$4\", \"step_enable_invert\"),\n",
    "    (\"$5\", \"limit_pin_invert\"),\n",
    "    (\"$6\", \"probe_pin_invert\"),\n",
    "    (\"$10\", \"status_report\"),\n",
    "    (\"$11\", \"junction_deviation\"),\n",
    "    (\"$12\", \"arc_tolerance\"),\n",
    "    (\"$13\", \"report_inches\"),\n",
    "    (\"$20\", \"soft_limits\"),\n",
    "    (\"$21\", \"hard_limits\"),\n",
    "    (\"$22\", \"homing_cycle\"),\n",
    "    (\"$23\", \"homing_dir_invert\"),\n",
    "    (\"$24\", \"homing_feed\"),\n",
    "    (\"$25\", \"homing_seek\"),\n",
    "    (\"$26\", \"homing_debounce\"),\n",
    "    (\"$27\", \"homing_pull_off\"),\n",
    "    (\"$30\", \"max_spindle_speed\"),\n",
    "    (\"$31\", \"min_spindle_speed\"),\n",
    "    (\"$32\", \"laser_mode\"),\n",
    "    (\"$100\", \"x_steps_mm\"),\n",
    "    (\"$101\", \"y_steps_mm\"),\n",
    "    (\"$102\", \"z_steps_mm\"),\n",
    "    (\"$110\", \"x_max_rate\"),\n",
    "    (\"$111\", \"y_max_rate\"),\n",
    "    (\"$112\", \"z_max_rate\"),\n",
    "    (\"$120\", \"x_acceleration\"),\n",
    "    (\"$121\", \"y_acceleration\"),\n",
    "    (\"$122\", \"z_acceleration\"),\n",
    "    (\"$130\", \"x_travel\"),\n",
    "    (\"$131\", \"y_travel\"),\n",
    "    (\"$132\", \"z_travel\"),\n",
    "    ]\n",
    "\n",
    "def grbl_getter_generator(cmd):\n",
    "    def grbl_getter(self):\n",
    "        config = self.cmd(\"$$\", resp=True, multiline=True)\n",
    "        for config_line in config:\n",
    "            if config_line.startswith(\"$\"):\n",
    "                key, value = config_line.split(\"=\")\n",
    "                if key == cmd:\n",
    "                    return float(value)\n",
    "        return None\n",
    "    return grbl_getter\n",
    "    \n",
    "def grbl_setter_generator(cmd):\n",
    "    def grbl_setter(self, value):\n",
    "        set_cmd = \"{cmd}={value}\".format(cmd=cmd, value=value)\n",
    "        ret = self.cmd(set_cmd, resp=True, multiline=False)\n",
    "        print(ret)\n",
    "        \n",
    "    return grbl_setter\n",
    "\n",
    "for setting in settings:\n",
    "    cmd = setting[0]\n",
    "    name = setting[1]\n",
    "    \n",
    "    setter = grbl_setter_generator(cmd)\n",
    "    getter = grbl_getter_generator(cmd)\n",
    "    \n",
    "    prop = property(fget=getter,\n",
    "                    fset=setter,\n",
    "                    doc=\" \".join(name.split(\"_\")))\n",
    "    \n",
    "    setattr(GRBL, name, prop)"
   ]
  },
  {
   "cell_type": "code",
   "execution_count": 58,
   "metadata": {
    "collapsed": true
   },
   "outputs": [],
   "source": [
    "grbl = GRBL(\"/dev/cnc_3018\")"
   ]
  },
  {
   "cell_type": "code",
   "execution_count": 59,
   "metadata": {},
   "outputs": [
    {
     "name": "stdout",
     "output_type": "stream",
     "text": [
      "Help on GRBL in module __main__ object:\n",
      "\n",
      "class GRBL(builtins.object)\n",
      " |  Methods defined here:\n",
      " |  \n",
      " |  __init__(self, port)\n",
      " |      Initialize self.  See help(type(self)) for accurate signature.\n",
      " |  \n",
      " |  cmd(self, command_line, resp=True, multiline=True)\n",
      " |  \n",
      " |  write(self, cmd)\n",
      " |  \n",
      " |  ----------------------------------------------------------------------\n",
      " |  Data descriptors defined here:\n",
      " |  \n",
      " |  __dict__\n",
      " |      dictionary for instance variables (if defined)\n",
      " |  \n",
      " |  __weakref__\n",
      " |      list of weak references to the object (if defined)\n",
      " |  \n",
      " |  arc_tolerance\n",
      " |      arc tolerance\n",
      " |  \n",
      " |  direction_port_invert\n",
      " |      direction port invert\n",
      " |  \n",
      " |  hard_limits\n",
      " |      hard limits\n",
      " |  \n",
      " |  homing_cycle\n",
      " |      homing cycle\n",
      " |  \n",
      " |  homing_debounce\n",
      " |      homing debounce\n",
      " |  \n",
      " |  homing_dir_invert\n",
      " |      homing dir invert\n",
      " |  \n",
      " |  homing_feed\n",
      " |      homing feed\n",
      " |  \n",
      " |  homing_pull_off\n",
      " |      homing pull off\n",
      " |  \n",
      " |  homing_seek\n",
      " |      homing seek\n",
      " |  \n",
      " |  junction_deviation\n",
      " |      junction deviation\n",
      " |  \n",
      " |  laser_mode\n",
      " |      laser mode\n",
      " |  \n",
      " |  limit_pin_invert\n",
      " |      limit pin invert\n",
      " |  \n",
      " |  max_spindle_speed\n",
      " |      max spindle speed\n",
      " |  \n",
      " |  min_spindle_speed\n",
      " |      min spindle speed\n",
      " |  \n",
      " |  probe_pin_invert\n",
      " |      probe pin invert\n",
      " |  \n",
      " |  report_inches\n",
      " |      report inches\n",
      " |  \n",
      " |  soft_limits\n",
      " |      soft limits\n",
      " |  \n",
      " |  status_report\n",
      " |      status report\n",
      " |  \n",
      " |  step_enable_invert\n",
      " |      step enable invert\n",
      " |  \n",
      " |  step_idle_delay\n",
      " |      step idle delay\n",
      " |  \n",
      " |  step_port_invert\n",
      " |      step port invert\n",
      " |  \n",
      " |  step_pulse\n",
      " |      step pulse\n",
      " |  \n",
      " |  x_acceleration\n",
      " |      x acceleration\n",
      " |  \n",
      " |  x_max_rate\n",
      " |      x max rate\n",
      " |  \n",
      " |  x_steps_mm\n",
      " |      x steps mm\n",
      " |  \n",
      " |  x_travel\n",
      " |      x travel\n",
      " |  \n",
      " |  y_acceleration\n",
      " |      y acceleration\n",
      " |  \n",
      " |  y_max_rate\n",
      " |      y max rate\n",
      " |  \n",
      " |  y_steps_mm\n",
      " |      y steps mm\n",
      " |  \n",
      " |  y_travel\n",
      " |      y travel\n",
      " |  \n",
      " |  z_acceleration\n",
      " |      z acceleration\n",
      " |  \n",
      " |  z_max_rate\n",
      " |      z max rate\n",
      " |  \n",
      " |  z_steps_mm\n",
      " |      z steps mm\n",
      " |  \n",
      " |  z_travel\n",
      " |      z travel\n",
      " |  \n",
      " |  ----------------------------------------------------------------------\n",
      " |  Data and other attributes defined here:\n",
      " |  \n",
      " |  BAUDRATE = 115200\n",
      "\n"
     ]
    }
   ],
   "source": [
    "help(grbl)"
   ]
  }
 ],
 "metadata": {
  "kernelspec": {
   "display_name": "Python 3",
   "language": "python",
   "name": "python3"
  },
  "language_info": {
   "codemirror_mode": {
    "name": "ipython",
    "version": 3
   },
   "file_extension": ".py",
   "mimetype": "text/x-python",
   "name": "python",
   "nbconvert_exporter": "python",
   "pygments_lexer": "ipython3",
   "version": "3.5.2"
  }
 },
 "nbformat": 4,
 "nbformat_minor": 2
}
