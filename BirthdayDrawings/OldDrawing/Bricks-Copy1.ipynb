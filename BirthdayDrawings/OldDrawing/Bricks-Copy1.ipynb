{
 "cells": [
  {
   "cell_type": "code",
   "execution_count": null,
   "metadata": {},
   "outputs": [],
   "source": [
    "import os\n",
    "import sys\n",
    "from time import sleep\n",
    "\n",
    "import GCode\n",
    "import GRBL\n",
    "import numpy as np"
   ]
  },
  {
   "cell_type": "markdown",
   "metadata": {},
   "source": [
    "# Draw a Brick Pattern\n",
    "\n",
    "> Standard bricks. The standard co-ordinating size for brickwork is 225 mm x 112.5 mm x 75 mm (length x depth x height). This includes 10 mm mortar joints, and so the standard size for a brick itself is 215 mm x 102.5 mm x 65 mm (length x depth x height).\n",
    "\n",
    "Attempt at programmatically making a brick pattern. "
   ]
  },
  {
   "cell_type": "markdown",
   "metadata": {},
   "source": [
    "\"Napkin\" scratches.\n",
    "\n",
    "![](http://luckofthedraw.fun/.imgs/brick_0003.jpeg)\n",
    "\n",
    "Drawn by hand. ~18mm brick height.\n",
    "\n",
    "![](http://luckofthedraw.fun/.imgs/brick_0001.jpeg)\n",
    "\n"
   ]
  },
  {
   "cell_type": "code",
   "execution_count": 1,
   "metadata": {},
   "outputs": [
    {
     "data": {
      "text/plain": [
       "3.3076923076923075"
      ]
     },
     "execution_count": 1,
     "metadata": {},
     "output_type": "execute_result"
    }
   ],
   "source": [
    "BrickHeight = 65\n",
    "BrickLength = 225\n",
    "BrickDepth = 102.5\n",
    "\n",
    "BrickRatio = 215 / 65\n",
    "BrickRatio\n"
   ]
  },
  {
   "cell_type": "code",
   "execution_count": 2,
   "metadata": {},
   "outputs": [],
   "source": [
    "BlockHeight = 89.0\n",
    "BlockLength = 176.0\n"
   ]
  },
  {
   "cell_type": "code",
   "execution_count": 3,
   "metadata": {},
   "outputs": [],
   "source": [
    "N_BrickRows = 5\n"
   ]
  },
  {
   "cell_type": "code",
   "execution_count": 4,
   "metadata": {},
   "outputs": [],
   "source": [
    "H_Block_Brick = BlockHeight / N_BrickRows\n"
   ]
  },
  {
   "cell_type": "code",
   "execution_count": 5,
   "metadata": {},
   "outputs": [],
   "source": [
    "L_Block_Brick = H_Block_Brick * BrickRatio\n"
   ]
  },
  {
   "cell_type": "code",
   "execution_count": 6,
   "metadata": {},
   "outputs": [
    {
     "data": {
      "text/plain": [
       "17.8"
      ]
     },
     "execution_count": 6,
     "metadata": {},
     "output_type": "execute_result"
    }
   ],
   "source": [
    "H_Block_Brick\n"
   ]
  },
  {
   "cell_type": "code",
   "execution_count": 7,
   "metadata": {},
   "outputs": [
    {
     "data": {
      "text/plain": [
       "58.87692307692308"
      ]
     },
     "execution_count": 7,
     "metadata": {},
     "output_type": "execute_result"
    }
   ],
   "source": [
    "L_Block_Brick\n"
   ]
  },
  {
   "cell_type": "markdown",
   "metadata": {},
   "source": [
    "# Code:"
   ]
  },
  {
   "cell_type": "code",
   "execution_count": 9,
   "metadata": {
    "scrolled": true
   },
   "outputs": [
    {
     "name": "stdout",
     "output_type": "stream",
     "text": [
      "ok\n"
     ]
    }
   ],
   "source": [
    "cnc = GRBL.GRBL(port=\"/dev/cnc_3018\")\n",
    "cnc.reset()\n"
   ]
  },
  {
   "cell_type": "code",
   "execution_count": null,
   "metadata": {},
   "outputs": [],
   "source": [
    "cnc.home()\n"
   ]
  },
  {
   "cell_type": "code",
   "execution_count": 19,
   "metadata": {
    "scrolled": true
   },
   "outputs": [
    {
     "name": "stdout",
     "output_type": "stream",
     "text": [
      "1.0\n"
     ]
    }
   ],
   "source": [
    "print(cnc.laser_mode)\n"
   ]
  },
  {
   "cell_type": "code",
   "execution_count": 20,
   "metadata": {},
   "outputs": [
    {
     "data": {
      "text/plain": [
       "['ok', 'ok']"
      ]
     },
     "execution_count": 20,
     "metadata": {},
     "output_type": "execute_result"
    }
   ],
   "source": [
    "cnc.cmd(\"G28\")\n"
   ]
  },
  {
   "cell_type": "code",
   "execution_count": 21,
   "metadata": {},
   "outputs": [],
   "source": [
    "def init():\n",
    "    program = GCode.GCode()\n",
    "    program.G0(F=500)\n",
    "    program.G1(F=200)\n",
    "    program.M3(S=1)\n",
    "    program.G28()\n",
    "    program.G21()  # Metric Units\n",
    "    program.G90()  # Absolute positioning.\n",
    "    program.G92(X=0, Y=0, Z=0)\n",
    "    return program\n"
   ]
  },
  {
   "cell_type": "code",
   "execution_count": 22,
   "metadata": {},
   "outputs": [
    {
     "data": {
      "text/plain": [
       "array([17.8, 35.6, 53.4, 71.2])"
      ]
     },
     "execution_count": 22,
     "metadata": {},
     "output_type": "execute_result"
    }
   ],
   "source": [
    "np.arange(H_Block_Brick, BlockHeight, H_Block_Brick)\n"
   ]
  },
  {
   "cell_type": "code",
   "execution_count": 23,
   "metadata": {},
   "outputs": [
    {
     "data": {
      "text/plain": [
       "array([[  0. ,  17.8],\n",
       "       [176. ,  17.8]])"
      ]
     },
     "execution_count": 23,
     "metadata": {},
     "output_type": "execute_result"
    }
   ],
   "source": [
    "Brick_Line = np.array([[0, H_Block_Brick], [BlockLength, H_Block_Brick]])\n",
    "Brick_Line\n"
   ]
  },
  {
   "cell_type": "code",
   "execution_count": 24,
   "metadata": {},
   "outputs": [
    {
     "data": {
      "text/plain": [
       "2"
      ]
     },
     "execution_count": 24,
     "metadata": {},
     "output_type": "execute_result"
    }
   ],
   "source": [
    "Brick_Line.shape[0]\n"
   ]
  },
  {
   "cell_type": "code",
   "execution_count": 25,
   "metadata": {},
   "outputs": [
    {
     "name": "stdout",
     "output_type": "stream",
     "text": [
      "[  0. 176.]\n"
     ]
    }
   ],
   "source": [
    "for row_idx in range(Brick_Line.shape[0]):\n",
    "    print(Brick_Line[:, row_idx])\n",
    "    break\n"
   ]
  },
  {
   "cell_type": "code",
   "execution_count": 26,
   "metadata": {},
   "outputs": [],
   "source": [
    "default_line = np.array([[0, 0], [10, 5]])\n"
   ]
  },
  {
   "cell_type": "code",
   "execution_count": 27,
   "metadata": {},
   "outputs": [
    {
     "data": {
      "text/plain": [
       "array([[ 0,  0],\n",
       "       [10,  5]])"
      ]
     },
     "execution_count": 27,
     "metadata": {},
     "output_type": "execute_result"
    }
   ],
   "source": [
    "default_line\n"
   ]
  },
  {
   "cell_type": "markdown",
   "metadata": {},
   "source": [
    "Draw a line from (0, 0) to (10, 5)."
   ]
  },
  {
   "cell_type": "code",
   "execution_count": 28,
   "metadata": {},
   "outputs": [
    {
     "data": {
      "text/html": [
       "<b>G0</b> <i>X0 Y10</i>"
      ],
      "text/plain": [
       "<GCode>[cmds=1]"
      ]
     },
     "execution_count": 28,
     "metadata": {},
     "output_type": "execute_result"
    }
   ],
   "source": [
    "prog = GCode.GCode()\n",
    "\n",
    "\n",
    "def line(points=default_line, feed=300, power=150, dynamic_power=True):\n",
    "    prog.G0(X=points[:, 0][0], Y=points[:, 0][1])\n",
    "\n",
    "\n",
    "line()\n",
    "prog\n"
   ]
  },
  {
   "cell_type": "code",
   "execution_count": 29,
   "metadata": {},
   "outputs": [
    {
     "data": {
      "text/html": [
       "<b>G0</b> <i>X0 Y10</i><br>\n",
       "<b>G1</b> <i>X0 Y5</i>"
      ],
      "text/plain": [
       "<GCode>[cmds=2]"
      ]
     },
     "execution_count": 29,
     "metadata": {},
     "output_type": "execute_result"
    }
   ],
   "source": [
    "prog = GCode.GCode()\n",
    "\n",
    "\n",
    "def line(points=default_line, feed=300, power=150, dynamic_power=True):\n",
    "    prog.G0(X=points[:, 0][0], Y=points[:, 0][1])\n",
    "    prog.G1(X=points[:, 1][0], Y=points[:, 1][1])\n",
    "\n",
    "\n",
    "line()\n",
    "prog\n"
   ]
  },
  {
   "cell_type": "code",
   "execution_count": 30,
   "metadata": {},
   "outputs": [
    {
     "data": {
      "text/html": [
       "<b>G0</b> <i>X0 Y10</i><br>\n",
       "<b>M4</b> <i>S150</i><br>\n",
       "<b>G1</b> <i>X10 Y5</i><br>\n",
       "<b>M5</b> <i></i>"
      ],
      "text/plain": [
       "<GCode>[cmds=4]"
      ]
     },
     "execution_count": 30,
     "metadata": {},
     "output_type": "execute_result"
    }
   ],
   "source": [
    "prog = GCode.GCode()\n",
    "\n",
    "\n",
    "def line(points=default_line, feed=300, power=150, dynamic_power=True):\n",
    "    prog.G0(X=points[:, 0][0], Y=points[:, 0][1])\n",
    "\n",
    "    if dynamic_power:\n",
    "        prog.M4(S=power)\n",
    "    else:\n",
    "        prog.M4(S=power)\n",
    "\n",
    "    for row_idx in range(1, points.shape[0]):\n",
    "        prog.G1(X=points[row_idx, 0], Y=points[row_idx, 1])\n",
    "    prog.M5()\n",
    "\n",
    "\n",
    "line()\n",
    "prog\n"
   ]
  },
  {
   "cell_type": "markdown",
   "metadata": {},
   "source": [
    "Draw a 10mm x 10mm square"
   ]
  },
  {
   "cell_type": "code",
   "execution_count": 31,
   "metadata": {},
   "outputs": [],
   "source": [
    "square_static = np.array([[0, 0], [10, 0], [10, 10], [0, 10], [0, 0]])\n"
   ]
  },
  {
   "cell_type": "code",
   "execution_count": 49,
   "metadata": {},
   "outputs": [
    {
     "data": {
      "text/html": [
       "<b>G0</b> <i>X0 Y0</i><br>\n",
       "<b>M4</b> <i>S150</i><br>\n",
       "<b>G1</b> <i>X10 Y0</i><br>\n",
       "<b>G1</b> <i>X10 Y10</i><br>\n",
       "<b>G1</b> <i>X0 Y10</i><br>\n",
       "<b>G1</b> <i>X0 Y0</i><br>\n",
       "<b>M5</b> <i></i>"
      ],
      "text/plain": [
       "<GCode>[cmds=7]"
      ]
     },
     "execution_count": 49,
     "metadata": {},
     "output_type": "execute_result"
    }
   ],
   "source": [
    "prog = GCode.GCode()\n",
    "\n",
    "\n",
    "def line(points=default_line, feed=300, power=150, dynamic_power=True):\n",
    "    prog.G0(X=points[0, 0], Y=points[0, 1])\n",
    "\n",
    "    if dynamic_power:\n",
    "        prog.M4(S=power)\n",
    "    else:\n",
    "        prog.M4(S=power)\n",
    "\n",
    "    for row_idx in range(1, points.shape[0]):\n",
    "        prog.G1(X=points[row_idx, 0], Y=points[row_idx, 1])\n",
    "    prog.M5()\n",
    "\n",
    "\n",
    "line(points=square_static)\n",
    "prog\n"
   ]
  },
  {
   "cell_type": "code",
   "execution_count": 50,
   "metadata": {},
   "outputs": [
    {
     "name": "stdout",
     "output_type": "stream",
     "text": [
      "0.0\n",
      "17.8\n",
      "35.6\n",
      "53.400000000000006\n",
      "71.2\n"
     ]
    }
   ],
   "source": [
    "for r in range(N_BrickRows):\n",
    "    print(H_Block_Brick * r)\n"
   ]
  },
  {
   "cell_type": "code",
   "execution_count": 59,
   "metadata": {
    "scrolled": true
   },
   "outputs": [
    {
     "data": {
      "text/html": [
       "<b>G0</b> <i>X0.0 Y17.8</i><br>\n",
       "<b>M4</b> <i>S150</i><br>\n",
       "<b>G1</b> <i>X176.0 Y17.8</i><br>\n",
       "<b>M5</b> <i></i><br>\n",
       "<b>G0</b> <i>X0.0 Y35.6</i><br>\n",
       "<b>M4</b> <i>S150</i><br>\n",
       "<b>G1</b> <i>X176.0 Y35.6</i><br>\n",
       "<b>M5</b> <i></i><br>\n",
       "<b>G0</b> <i>X0.0 Y53.4</i><br>\n",
       "<b>M4</b> <i>S150</i><br>\n",
       "<b>G1</b> <i>X176.0 Y53.4</i><br>\n",
       "<b>M5</b> <i></i><br>\n",
       "<b>G0</b> <i>X0.0 Y71.2</i><br>\n",
       "<b>M4</b> <i>S150</i><br>\n",
       "<b>G1</b> <i>X176.0 Y71.2</i><br>\n",
       "<b>M5</b> <i></i>"
      ],
      "text/plain": [
       "<GCode>[cmds=16]"
      ]
     },
     "execution_count": 59,
     "metadata": {},
     "output_type": "execute_result"
    }
   ],
   "source": [
    "prog = GCode.GCode()\n",
    "for r in range(1, N_BrickRows):\n",
    "    y_ = np.round(r * H_Block_Brick, 4)\n",
    "    row_line = np.array([[0, y_], [BlockLength, y_]])\n",
    "    line(points=row_line)\n",
    "prog\n"
   ]
  },
  {
   "cell_type": "code",
   "execution_count": 60,
   "metadata": {},
   "outputs": [
    {
     "name": "stdout",
     "output_type": "stream",
     "text": [
      "^C\n"
     ]
    },
    {
     "data": {
      "text/plain": [
       "352.22867918014526"
      ]
     },
     "execution_count": 60,
     "metadata": {},
     "output_type": "execute_result"
    }
   ],
   "source": [
    "cnc.run(prog)\n"
   ]
  },
  {
   "cell_type": "code",
   "execution_count": 63,
   "metadata": {},
   "outputs": [],
   "source": [
    "cnc.reset()\n"
   ]
  },
  {
   "cell_type": "code",
   "execution_count": 71,
   "metadata": {},
   "outputs": [],
   "source": [
    "cnc.home()\n",
    "for _ in range(360):\n",
    "    if len(cnc.cmd(\"\")) == 2:\n",
    "        break\n",
    "    sleep(1)\n"
   ]
  },
  {
   "cell_type": "code",
   "execution_count": 72,
   "metadata": {},
   "outputs": [
    {
     "data": {
      "text/plain": [
       "10"
      ]
     },
     "execution_count": 72,
     "metadata": {},
     "output_type": "execute_result"
    }
   ],
   "source": [
    "_\n"
   ]
  },
  {
   "cell_type": "code",
   "execution_count": 73,
   "metadata": {},
   "outputs": [
    {
     "data": {
      "text/html": [
       "<b>G0</b> <i>F500</i><br>\n",
       "<b>G1</b> <i>F200</i><br>\n",
       "<b>M3</b> <i>S1</i><br>\n",
       "<b>G28</b> <i></i><br>\n",
       "<b>G21</b> <i></i><br>\n",
       "<b>G90</b> <i></i><br>\n",
       "<b>G92</b> <i>X0 Y0 Z0</i>"
      ],
      "text/plain": [
       "<GCode>[cmds=7]"
      ]
     },
     "execution_count": 73,
     "metadata": {},
     "output_type": "execute_result"
    }
   ],
   "source": [
    "init()\n"
   ]
  },
  {
   "cell_type": "code",
   "execution_count": 74,
   "metadata": {},
   "outputs": [
    {
     "data": {
      "text/plain": [
       "0.7270307540893555"
      ]
     },
     "execution_count": 74,
     "metadata": {},
     "output_type": "execute_result"
    }
   ],
   "source": [
    "cnc.run(init())\n"
   ]
  },
  {
   "cell_type": "code",
   "execution_count": 75,
   "metadata": {},
   "outputs": [
    {
     "data": {
      "text/plain": [
       "209.87263464927673"
      ]
     },
     "execution_count": 75,
     "metadata": {},
     "output_type": "execute_result"
    }
   ],
   "source": [
    "cnc.run(prog)\n"
   ]
  }
 ],
 "metadata": {
  "kernelspec": {
   "display_name": "Python 3",
   "language": "python",
   "name": "python3"
  },
  "language_info": {
   "codemirror_mode": {
    "name": "ipython",
    "version": 3
   },
   "file_extension": ".py",
   "mimetype": "text/x-python",
   "name": "python",
   "nbconvert_exporter": "python",
   "pygments_lexer": "ipython3",
   "version": "3.6.5"
  }
 },
 "nbformat": 4,
 "nbformat_minor": 2
}
