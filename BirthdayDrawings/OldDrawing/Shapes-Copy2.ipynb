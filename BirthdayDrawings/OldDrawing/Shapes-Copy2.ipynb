{
 "cells": [
  {
   "cell_type": "code",
   "execution_count": null,
   "metadata": {},
   "outputs": [],
   "source": [
    "import os\n",
    "import sys\n",
    "import time\n",
    "\n",
    "import GCode\n",
    "import GRBL\n",
    "import matplotlib.pyplot as plt\n",
    "import numpy as np"
   ]
  },
  {
   "cell_type": "markdown",
   "metadata": {},
   "source": [
    "# Draw a Shapes\n",
    "\n",
    "Attempt at programmatically drawing shapes.\n",
    "\n",
    "All units in mm. ```1``` = ```1 mm```."
   ]
  },
  {
   "cell_type": "code",
   "execution_count": 6,
   "metadata": {},
   "outputs": [
    {
     "data": {
      "text/plain": [
       "[<GCode>[cmds=9], <GCode>[cmds=9], <GCode>[cmds=9], <GCode>[cmds=9]]"
      ]
     },
     "execution_count": 6,
     "metadata": {},
     "output_type": "execute_result"
    }
   ],
   "source": [
    "# Draw line from (0, 0) to (10, 0)\n",
    "lines = list()\n",
    "line_points = np.array([[0, 0], [10, 0]])\n",
    "lines.append(GCode.Line(points=line_points))\n",
    "\n",
    "# Draw line from (0, 0) to (0, 10)\n",
    "line_points = np.array([[0, 0], [0, 10]])\n",
    "lines.append(GCode.Line(points=line_points))\n",
    "lines\n",
    "\n",
    "# Draw line from (0, 0) to (-10, 0)\n",
    "line_points = np.array([[0, 0], [-10, 0]])\n",
    "lines.append(GCode.Line(points=line_points))\n",
    "lines\n",
    "\n",
    "# Draw line from (0, 0) to (0, -10)\n",
    "line_points = np.array([[0, 0], [0, -10]])\n",
    "lines.append(GCode.Line(points=line_points))\n",
    "lines\n"
   ]
  },
  {
   "cell_type": "code",
   "execution_count": 20,
   "metadata": {},
   "outputs": [
    {
     "data": {
      "text/plain": [
       "[<GCode>[cmds=9], <GCode>[cmds=9], <GCode>[cmds=9], <GCode>[cmds=9]]"
      ]
     },
     "execution_count": 20,
     "metadata": {},
     "output_type": "execute_result"
    }
   ],
   "source": [
    "class Program(GCode.GCode):\n",
    "    def __init__(self, lines=list()):\n",
    "        self.lines = lines\n",
    "\n",
    "        super().__init__(*args, **kwargs)\n",
    "\n",
    "    def generate_gcode(self):\n",
    "        list(map(lambda line: line.generate_gcode(), self.lines))\n",
    "\n",
    "    def setup(self):\n",
    "        self.buffer = list()\n",
    "        self.G0()\n",
    "        self.G1(F=60)  # 60 mm / min = 1 mm / sec\n",
    "        self.M3(\n",
    "            S=1\n",
    "        )  # Set laser power so that movement can be seen, but does nothing.\n",
    "        self.G21()  # Metric Units\n",
    "        self.G90()  # Absolute positioning.\n",
    "\n",
    "    def teardown(self):\n",
    "        self.M5()  # Power down laser.\n",
    "        self.G28()  # Move home.\n",
    "        # pushover(\"Laser is done.\")\n",
    "\n",
    "    @property\n",
    "    def jog_dist(self):\n",
    "        jog_dists = list()\n",
    "        for idx in range(1, len(self.lines)):\n",
    "            # Jog to new startpoint\n",
    "            dX = self.lines[idx].x_0 - self.lines[idx - 1].x_f\n",
    "            dY = self.lines[idx].y_0 - self.lines[idx - 1].y_f\n",
    "            d = np.sqrt(np.power(dX, 2) + np.power(dY, 2))\n",
    "            jog_dists.append(d)\n",
    "        return np.cumsum(jog_dists)[-1]\n",
    "\n",
    "    @property\n",
    "    def laserin_dist(self):\n",
    "        laserin_dists = [line.dist]\n",
    "        return np.c\n",
    "\n",
    "    def __repr__(self):\n",
    "        return \"Program<lines={}>\".format(len(self.lines))\n",
    "\n",
    "\n",
    "prog = Program(lines=lines)\n",
    "prog.lines\n"
   ]
  },
  {
   "cell_type": "code",
   "execution_count": 25,
   "metadata": {
    "scrolled": true
   },
   "outputs": [
    {
     "name": "stdout",
     "output_type": "stream",
     "text": [
      "[10.0]\n",
      "[10.0]\n",
      "[10.0]\n",
      "[10.0]\n"
     ]
    }
   ],
   "source": [
    "for line in prog.lines:\n",
    "    print(line.dist)\n"
   ]
  },
  {
   "cell_type": "code",
   "execution_count": 26,
   "metadata": {},
   "outputs": [
    {
     "data": {
      "text/plain": [
       "[<GCode>[cmds=9], <GCode>[cmds=9], <GCode>[cmds=9], <GCode>[cmds=9]]"
      ]
     },
     "execution_count": 26,
     "metadata": {},
     "output_type": "execute_result"
    }
   ],
   "source": [
    "prog.lines\n"
   ]
  },
  {
   "cell_type": "code",
   "execution_count": 23,
   "metadata": {},
   "outputs": [],
   "source": [
    "class Square(GCode.Line):\n",
    "    def __init__(\n",
    "        self, len_side=10, origin=np.array([0, 0]), rotation=0, *args, **kwargs\n",
    "    ):\n",
    "        square_points = np.array(\n",
    "            [\n",
    "                [origin[0], origin[1]],\n",
    "                [origin[0] + len_side, origin[1]],\n",
    "                [origin[0] + len_side, origin[1] + len_side],\n",
    "                [origin[0], origin[1] + len_side],\n",
    "                [origin[0], origin[1]],\n",
    "            ]\n",
    "        )\n",
    "\n",
    "        kwargs[\"points\"] = square_points\n",
    "\n",
    "        super().__init__(*args, **kwargs)\n",
    "\n",
    "\n",
    "s = Square()\n"
   ]
  },
  {
   "cell_type": "code",
   "execution_count": 9,
   "metadata": {},
   "outputs": [
    {
     "data": {
      "text/html": [
       "<b>G0</b> <i>F60</i><br>\n",
       "<b>G1</b> <i>F60</i><br>\n",
       "<b>M3</b> <i>S1</i><br>\n",
       "<b>G21</b> <i></i><br>\n",
       "<b>G90</b> <i></i><br>\n",
       "<b>G0</b> <i>X0 Y0</i><br>\n",
       "<b>M4</b> <i>S150</i><br>\n",
       "<b>G1</b> <i>X10 Y0 F300</i><br>\n",
       "<b>G1</b> <i>X10 Y10 F300</i><br>\n",
       "<b>G1</b> <i>X0 Y10 F300</i><br>\n",
       "<b>G1</b> <i>X0 Y0 F300</i><br>\n",
       "<b>M5</b> <i></i>"
      ],
      "text/plain": [
       "<GCode>[cmds=12]"
      ]
     },
     "execution_count": 9,
     "metadata": {},
     "output_type": "execute_result"
    }
   ],
   "source": [
    "s = Square(len_side=10, origin=np.array([0, 0]))\n",
    "s\n"
   ]
  },
  {
   "cell_type": "code",
   "execution_count": 10,
   "metadata": {},
   "outputs": [
    {
     "data": {
      "text/html": [
       "<b>G0</b> <i>F60</i><br>\n",
       "<b>G1</b> <i>F60</i><br>\n",
       "<b>M3</b> <i>S1</i><br>\n",
       "<b>G21</b> <i></i><br>\n",
       "<b>G90</b> <i></i><br>\n",
       "<b>G0</b> <i>X10 Y10</i><br>\n",
       "<b>M4</b> <i>S150</i><br>\n",
       "<b>G1</b> <i>X20 Y10 F300</i><br>\n",
       "<b>G1</b> <i>X20 Y20 F300</i><br>\n",
       "<b>G1</b> <i>X10 Y20 F300</i><br>\n",
       "<b>G1</b> <i>X10 Y10 F300</i><br>\n",
       "<b>M5</b> <i></i>"
      ],
      "text/plain": [
       "<GCode>[cmds=12]"
      ]
     },
     "execution_count": 10,
     "metadata": {},
     "output_type": "execute_result"
    }
   ],
   "source": [
    "s2 = Square(len_side=10, origin=np.array([10, 10]))\n",
    "s2\n"
   ]
  },
  {
   "cell_type": "code",
   "execution_count": 11,
   "metadata": {},
   "outputs": [
    {
     "data": {
      "text/plain": [
       "array([[ 0,  0],\n",
       "       [10,  0],\n",
       "       [10, 10],\n",
       "       [ 0, 10],\n",
       "       [ 0,  0]])"
      ]
     },
     "execution_count": 11,
     "metadata": {},
     "output_type": "execute_result"
    }
   ],
   "source": [
    "s.points\n"
   ]
  },
  {
   "cell_type": "code",
   "execution_count": 12,
   "metadata": {},
   "outputs": [
    {
     "data": {
      "text/plain": [
       "[10.0, 10.0, 10.0, 10.0]"
      ]
     },
     "execution_count": 12,
     "metadata": {},
     "output_type": "execute_result"
    }
   ],
   "source": [
    "s.dist\n"
   ]
  },
  {
   "cell_type": "code",
   "execution_count": 13,
   "metadata": {},
   "outputs": [
    {
     "data": {
      "text/plain": [
       "40.0"
      ]
     },
     "execution_count": 13,
     "metadata": {},
     "output_type": "execute_result"
    }
   ],
   "source": [
    "s.total_dist\n"
   ]
  },
  {
   "cell_type": "code",
   "execution_count": 14,
   "metadata": {},
   "outputs": [
    {
     "data": {
      "text/plain": [
       "array([0, 0])"
      ]
     },
     "execution_count": 14,
     "metadata": {},
     "output_type": "execute_result"
    }
   ],
   "source": [
    "s.origin\n"
   ]
  },
  {
   "cell_type": "code",
   "execution_count": 15,
   "metadata": {},
   "outputs": [
    {
     "data": {
      "text/plain": [
       "array([0, 0])"
      ]
     },
     "execution_count": 15,
     "metadata": {},
     "output_type": "execute_result"
    }
   ],
   "source": [
    "s.end\n"
   ]
  },
  {
   "cell_type": "code",
   "execution_count": 16,
   "metadata": {},
   "outputs": [
    {
     "data": {
      "text/plain": [
       "array([0, 0])"
      ]
     },
     "execution_count": 16,
     "metadata": {},
     "output_type": "execute_result"
    }
   ],
   "source": [
    "prog.lines[0].origin\n"
   ]
  },
  {
   "cell_type": "code",
   "execution_count": 17,
   "metadata": {},
   "outputs": [
    {
     "data": {
      "text/plain": [
       "array([10,  0])"
      ]
     },
     "execution_count": 17,
     "metadata": {},
     "output_type": "execute_result"
    }
   ],
   "source": [
    "prog.lines[0].end\n"
   ]
  },
  {
   "cell_type": "code",
   "execution_count": 19,
   "metadata": {},
   "outputs": [],
   "source": [
    "self = prog\n"
   ]
  },
  {
   "cell_type": "code",
   "execution_count": 32,
   "metadata": {},
   "outputs": [],
   "source": [
    "jog_dist = np.cumsum(jog_dists)[-1]\n"
   ]
  }
 ],
 "metadata": {
  "kernelspec": {
   "display_name": "Python 3",
   "language": "python",
   "name": "python3"
  },
  "language_info": {
   "codemirror_mode": {
    "name": "ipython",
    "version": 3
   },
   "file_extension": ".py",
   "mimetype": "text/x-python",
   "name": "python",
   "nbconvert_exporter": "python",
   "pygments_lexer": "ipython3",
   "version": "3.6.5"
  }
 },
 "nbformat": 4,
 "nbformat_minor": 2
}
