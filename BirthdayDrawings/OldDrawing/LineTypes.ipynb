{
 "cells": [
  {
   "cell_type": "code",
   "execution_count": null,
   "metadata": {},
   "outputs": [],
   "source": [
    "import os\n",
    "import sys\n",
    "import time\n",
    "\n",
    "import GCode\n",
    "import GRBL\n",
    "import matplotlib.pyplot as plt\n",
    "import numpy as np"
   ]
  },
  {
   "cell_type": "code",
   "execution_count": 2,
   "metadata": {},
   "outputs": [],
   "source": [
    "# Poplar 1x4\". Cut\n",
    "BlockHeight = 89.0  # mm\n",
    "BlockLength = 2 * BlockHeight  # mm\n"
   ]
  },
  {
   "cell_type": "code",
   "execution_count": 3,
   "metadata": {},
   "outputs": [],
   "source": [
    "?GCode.HorzLine"
   ]
  },
  {
   "cell_type": "code",
   "execution_count": 12,
   "metadata": {},
   "outputs": [],
   "source": [
    "horz_lines = np.array([0., 8.9, 17.8, 26.7, 35.6, 44.5, 53.4, 62.3, 71.2, 80.1])\n"
   ]
  },
  {
   "cell_type": "code",
   "execution_count": 13,
   "metadata": {},
   "outputs": [
    {
     "data": {
      "text/plain": [
       "8.9"
      ]
     },
     "execution_count": 13,
     "metadata": {},
     "output_type": "execute_result"
    }
   ],
   "source": [
    "Line1_Y = horz_lines[1]\n",
    "Line1_Y\n"
   ]
  },
  {
   "cell_type": "code",
   "execution_count": 34,
   "metadata": {},
   "outputs": [
    {
     "data": {
      "text/html": [
       "<b>G21</b> <i></i><br>\n",
       "<b>G90</b> <i></i><br>\n",
       "<b>G28</b> <i></i><br>\n",
       "<b>G0</b> <i>F120</i><br>\n",
       "<b>G1</b> <i>F120</i><br>\n",
       "<b>M3</b> <i>S1</i><br>\n",
       "<b>G92</b> <i>X0 Y0 Z0</i><br>\n",
       "<b>G0</b> <i>X0.0 Y8.9</i><br>\n",
       "<b>M4</b> <i>S255</i><br>\n",
       "<b>G1</b> <i>X2.0 Y8.9 F100</i><br>\n",
       "<b>M5</b> <i></i><br>\n",
       "<b>G0</b> <i>X2.0 Y8.9</i><br>\n",
       "<b>M4</b> <i>S128</i><br>\n",
       "<b>G1</b> <i>X10.0 Y8.9 F300</i><br>\n",
       "<b>M5</b> <i></i><br>\n",
       "<b>G0</b> <i>X10.0 Y8.9</i><br>\n",
       "<b>M4</b> <i>S255</i><br>\n",
       "<b>G1</b> <i>X12.0 Y8.9 F100</i><br>\n",
       "<b>M5</b> <i></i><br>\n",
       "<b>G0</b> <i>X12.0 Y8.9</i><br>\n",
       "<b>M4</b> <i>S128</i><br>\n",
       "<b>G1</b> <i>X20.0 Y8.9 F300</i><br>\n",
       "<b>M5</b> <i></i><br>\n",
       "<b>G0</b> <i>X20.0 Y8.9</i><br>\n",
       "<b>M4</b> <i>S255</i><br>\n",
       "<b>G1</b> <i>X22.0 Y8.9 F100</i><br>\n",
       "<b>M5</b> <i></i><br>\n",
       "<b>G0</b> <i>X22.0 Y8.9</i><br>\n",
       "<b>M4</b> <i>S128</i><br>\n",
       "<b>G1</b> <i>X30.0 Y8.9 F300</i><br>\n",
       "<b>M5</b> <i></i><br>\n",
       "<b>G0</b> <i>X30.0 Y8.9</i><br>\n",
       "<b>M4</b> <i>S255</i><br>\n",
       "<b>G1</b> <i>X32.0 Y8.9 F100</i><br>\n",
       "<b>M5</b> <i></i><br>\n",
       "<b>G0</b> <i>X32.0 Y8.9</i><br>\n",
       "<b>M4</b> <i>S128</i><br>\n",
       "<b>G1</b> <i>X40.0 Y8.9 F300</i><br>\n",
       "<b>M5</b> <i></i><br>\n",
       "<b>G0</b> <i>X40.0 Y8.9</i><br>\n",
       "<b>M4</b> <i>S255</i><br>\n",
       "<b>G1</b> <i>X42.0 Y8.9 F100</i><br>\n",
       "<b>M5</b> <i></i><br>\n",
       "<b>G0</b> <i>X42.0 Y8.9</i><br>\n",
       "<b>M4</b> <i>S128</i><br>\n",
       "<b>G1</b> <i>X50.0 Y8.9 F300</i><br>\n",
       "<b>M5</b> <i></i><br>\n",
       "<b>G0</b> <i>X50.0 Y8.9</i><br>\n",
       "<b>M4</b> <i>S255</i><br>\n",
       "<b>G1</b> <i>X52.0 Y8.9 F100</i><br>\n",
       "<b>M5</b> <i></i><br>\n",
       "<b>G0</b> <i>X52.0 Y8.9</i><br>\n",
       "<b>M4</b> <i>S128</i><br>\n",
       "<b>G1</b> <i>X60.0 Y8.9 F300</i><br>\n",
       "<b>M5</b> <i></i><br>\n",
       "<b>G0</b> <i>X60.0 Y8.9</i><br>\n",
       "<b>M4</b> <i>S255</i><br>\n",
       "<b>G1</b> <i>X62.0 Y8.9 F100</i><br>\n",
       "<b>M5</b> <i></i><br>\n",
       "<b>G0</b> <i>X62.0 Y8.9</i><br>\n",
       "<b>M4</b> <i>S128</i><br>\n",
       "<b>G1</b> <i>X70.0 Y8.9 F300</i><br>\n",
       "<b>M5</b> <i></i><br>\n",
       "<b>G0</b> <i>X70.0 Y8.9</i><br>\n",
       "<b>M4</b> <i>S255</i><br>\n",
       "<b>G1</b> <i>X72.0 Y8.9 F100</i><br>\n",
       "<b>M5</b> <i></i><br>\n",
       "<b>G0</b> <i>X72.0 Y8.9</i><br>\n",
       "<b>M4</b> <i>S128</i><br>\n",
       "<b>G1</b> <i>X80.0 Y8.9 F300</i><br>\n",
       "<b>M5</b> <i></i><br>\n",
       "<b>G0</b> <i>X80.0 Y8.9</i><br>\n",
       "<b>M4</b> <i>S255</i><br>\n",
       "<b>G1</b> <i>X82.0 Y8.9 F100</i><br>\n",
       "<b>M5</b> <i></i><br>\n",
       "<b>G0</b> <i>X82.0 Y8.9</i><br>\n",
       "<b>M4</b> <i>S128</i><br>\n",
       "<b>G1</b> <i>X90.0 Y8.9 F300</i><br>\n",
       "<b>M5</b> <i></i><br>\n",
       "<b>G0</b> <i>X90.0 Y8.9</i><br>\n",
       "<b>M4</b> <i>S255</i><br>\n",
       "<b>G1</b> <i>X92.0 Y8.9 F100</i><br>\n",
       "<b>M5</b> <i></i><br>\n",
       "<b>G0</b> <i>X92.0 Y8.9</i><br>\n",
       "<b>M4</b> <i>S128</i><br>\n",
       "<b>G1</b> <i>X100.0 Y8.9 F300</i><br>\n",
       "<b>M5</b> <i></i><br>\n",
       "<b>M5</b> <i></i><br>\n",
       "<b>G28</b> <i></i>"
      ],
      "text/plain": [
       "Program<lines=20, dist=200.40mm, t=78.20s>"
      ]
     },
     "execution_count": 34,
     "metadata": {},
     "output_type": "execute_result"
    }
   ],
   "source": [
    "dit = 2\n",
    "dash = 8\n",
    "\n",
    "\n",
    "prog = GCode.Program()\n",
    "prog.lines = list()\n",
    "for X in range(0, 100, dit + dash):\n",
    "    line_pts = GCode.HorzLine(X0=X, Xf=X + dit, Y=Line1_Y)\n",
    "    line = GCode.Line(points=line_pts, power=255, feed=100)\n",
    "\n",
    "    prog.lines.append(line)\n",
    "\n",
    "    line_pts = GCode.HorzLine(X0=X + dit, Xf=X + dit + dash, Y=Line1_Y)\n",
    "    line = GCode.Line(points=line_pts, power=128, feed=300)\n",
    "\n",
    "    prog.lines.append(line)\n",
    "\n",
    "prog.generate_gcode()\n",
    "prog\n"
   ]
  },
  {
   "cell_type": "code",
   "execution_count": 35,
   "metadata": {},
   "outputs": [
    {
     "data": {
      "text/plain": [
       "'<Idle|MPos:-255.900,-136.000,-1.000|Bf:15,127|FS:0,0>'"
      ]
     },
     "execution_count": 35,
     "metadata": {},
     "output_type": "execute_result"
    }
   ],
   "source": [
    "cnc = GRBL.GRBL(port=\"/dev/cnc_3018\")\n",
    "cnc.status\n"
   ]
  },
  {
   "cell_type": "code",
   "execution_count": 36,
   "metadata": {},
   "outputs": [],
   "source": [
    "prog.machine = cnc\n"
   ]
  },
  {
   "cell_type": "code",
   "execution_count": 37,
   "metadata": {},
   "outputs": [
    {
     "data": {
      "text/plain": [
       "200.39526881282802"
      ]
     },
     "execution_count": 37,
     "metadata": {},
     "output_type": "execute_result"
    }
   ],
   "source": [
    "prog.dist\n"
   ]
  },
  {
   "cell_type": "code",
   "execution_count": 38,
   "metadata": {},
   "outputs": [
    {
     "data": {
      "text/plain": [
       "78.19763440641401"
      ]
     },
     "execution_count": 38,
     "metadata": {},
     "output_type": "execute_result"
    }
   ],
   "source": [
    "prog.time\n"
   ]
  },
  {
   "cell_type": "code",
   "execution_count": 39,
   "metadata": {},
   "outputs": [
    {
     "data": {
      "text/plain": [
       "47.18646836280823"
      ]
     },
     "execution_count": 39,
     "metadata": {},
     "output_type": "execute_result"
    }
   ],
   "source": [
    "cnc.run(prog)\n"
   ]
  }
 ],
 "metadata": {
  "kernelspec": {
   "display_name": "Python 3",
   "language": "python",
   "name": "python3"
  },
  "language_info": {
   "codemirror_mode": {
    "name": "ipython",
    "version": 3
   },
   "file_extension": ".py",
   "mimetype": "text/x-python",
   "name": "python",
   "nbconvert_exporter": "python",
   "pygments_lexer": "ipython3",
   "version": "3.6.5"
  }
 },
 "nbformat": 4,
 "nbformat_minor": 2
}
