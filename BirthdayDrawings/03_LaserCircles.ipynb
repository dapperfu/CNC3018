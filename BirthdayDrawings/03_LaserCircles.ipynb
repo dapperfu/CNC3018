{
 "cells": [
  {
   "cell_type": "code",
   "execution_count": null,
   "metadata": {},
   "outputs": [],
   "source": [
    "import os\n",
    "import sys\n",
    "from time import sleep\n",
    "from uuid import uuid4\n",
    "\n",
    "import GCode\n",
    "import GRBL\n",
    "import numpy as np"
   ]
  },
  {
   "cell_type": "markdown",
   "metadata": {},
   "source": [
    "# Laser Circles "
   ]
  },
  {
   "cell_type": "markdown",
   "metadata": {},
   "source": [
    "# Code:"
   ]
  },
  {
   "cell_type": "code",
   "execution_count": 3,
   "metadata": {},
   "outputs": [
    {
     "name": "stdout",
     "output_type": "stream",
     "text": [
      "ok\n",
      "Laser Mode: 1.0\n"
     ]
    }
   ],
   "source": [
    "cnc = GRBL.GRBL(port=\"/dev/cnc_3018\")\n",
    "sleep(0.5)\n",
    "cnc.laser_mode = 1\n",
    "sleep(0.5)\n",
    "print(\"Laser Mode: {}\".format(cnc.laser_mode))\n"
   ]
  },
  {
   "cell_type": "code",
   "execution_count": 14,
   "metadata": {},
   "outputs": [
    {
     "data": {
      "text/plain": [
       "'<Idle|MPos:-255.900,-136.000,-1.000|Bf:15,127|FS:0,0|WCO:0.000,0.000,0.000>'"
      ]
     },
     "execution_count": 14,
     "metadata": {},
     "output_type": "execute_result"
    }
   ],
   "source": [
    "cnc.status\n"
   ]
  },
  {
   "cell_type": "code",
   "execution_count": 4,
   "metadata": {},
   "outputs": [],
   "source": [
    "def init(feed=200):\n",
    "    program = GCode.GCode()\n",
    "    program.G21()  # Metric Units\n",
    "    program.G90()  # Absolute positioning.\n",
    "    program.G92(X=0, Y=0, Z=0)  # Zero position.\n",
    "    program.G1(F=feed)\n",
    "    return program\n",
    "\n",
    "\n",
    "def end():\n",
    "    program = GCode.GCode()\n",
    "    program.G0(X=0, Y=0, Z=0)\n",
    "    program.M5()\n",
    "    return program\n"
   ]
  },
  {
   "cell_type": "code",
   "execution_count": 1,
   "metadata": {},
   "outputs": [],
   "source": [
    "def circle(center_x=5, center_y=5, radius=5, laser_pwm=255):\n",
    "    prog = GCode.GCode()\n",
    "    prog.G0(X=(center_x - radius), Y=(center_y - radius))\n",
    "    prog.M3(S=laser_pwm)\n",
    "    prog.G2(X=(center_x - radius), Y=(center_y - radius), I=radius, J=radius)\n",
    "    prog.M5()\n",
    "    return prog\n"
   ]
  },
  {
   "cell_type": "code",
   "execution_count": 6,
   "metadata": {},
   "outputs": [],
   "source": [
    "radius = 15\n"
   ]
  },
  {
   "cell_type": "code",
   "execution_count": 7,
   "metadata": {},
   "outputs": [],
   "source": [
    "Y_centers = np.linspace(radius, 90 - radius, 4)\n",
    "X_centers = np.linspace(radius, 180 - radius, 5)\n"
   ]
  },
  {
   "cell_type": "code",
   "execution_count": 8,
   "metadata": {},
   "outputs": [],
   "source": [
    "test_run = GCode.GCode()\n",
    "test_run += init()\n",
    "for x_center in X_centers:\n",
    "    for y_center in Y_centers:\n",
    "        test_run += circle(\n",
    "            center_x=x_center, center_y=y_center, radius=radius, laser_pwm=100\n",
    "        )\n",
    "test_run += end()\n"
   ]
  },
  {
   "cell_type": "code",
   "execution_count": 9,
   "metadata": {},
   "outputs": [],
   "source": [
    "gcode_file = \"CircleTests.gcode\"\n"
   ]
  },
  {
   "cell_type": "code",
   "execution_count": 10,
   "metadata": {},
   "outputs": [],
   "source": [
    "test_run.save(gcode_file)\n",
    "\n",
    "del test_run\n",
    "test_run = GCode.GCode()\n",
    "\n",
    "test_run.load(gcode_file)\n"
   ]
  },
  {
   "cell_type": "code",
   "execution_count": 11,
   "metadata": {},
   "outputs": [
    {
     "data": {
      "text/plain": [
       "['G21', 'G90', 'G92 X0 Y0 Z0', 'G1 F200', 'G0 X15.0 Y15.0']"
      ]
     },
     "execution_count": 11,
     "metadata": {},
     "output_type": "execute_result"
    }
   ],
   "source": [
    "test_run.buffer[0:5]\n"
   ]
  },
  {
   "cell_type": "code",
   "execution_count": null,
   "metadata": {},
   "outputs": [
    {
     "name": "stdout",
     "output_type": "stream",
     "text": [
      "<Run|MPos:-91.393,-61.224,-1.000|Bf:14,127|FS:237,0|Ov:100,100,100>\n",
      "<Run|MPos:-153.648,-89.521,-1.000|Bf:14,127|FS:879,0>\n",
      "<Run|MPos:-221.071,-120.169,-1.000|Bf:14,127|FS:879,0>\n",
      "<Idle|MPos:-255.900,-136.000,-1.000|Bf:15,127|FS:0,0>\n",
      "<Idle|MPos:-255.900,-136.000,-1.000|Bf:15,127|FS:0,0>\n",
      "<Idle|MPos:-255.900,-136.000,-1.000|Bf:15,127|FS:0,0>\n",
      "<Idle|MPos:-255.900,-136.000,-1.000|Bf:15,127|FS:0,0>\n",
      "<Idle|MPos:-255.900,-136.000,-1.000|Bf:15,127|FS:0,0>\n",
      "<Idle|MPos:-255.900,-136.000,-1.000|Bf:15,127|FS:0,0>\n",
      "<Idle|MPos:-255.900,-136.000,-1.000|Bf:15,127|FS:0,0>\n",
      "<Idle|MPos:-255.900,-136.000,-1.000|Bf:15,127|FS:0,0>\n",
      "<Idle|MPos:-255.900,-136.000,-1.000|Bf:15,127|FS:0,0>\n",
      "<Idle|MPos:-255.900,-136.000,-1.000|Bf:15,127|FS:0,0>\n",
      "<Idle|MPos:-255.900,-136.000,-1.000|Bf:15,127|FS:0,0>\n",
      "<Idle|MPos:-255.900,-136.000,-1.000|Bf:15,127|FS:0,0>\n",
      "<Idle|MPos:-255.900,-136.000,-1.000|Bf:15,127|FS:0,0>\n",
      "<Idle|MPos:-255.900,-136.000,-1.000|Bf:15,127|FS:0,0>\n",
      "<Idle|MPos:-255.900,-136.000,-1.000|Bf:15,127|FS:0,0>\n",
      "<Idle|MPos:-255.900,-136.000,-1.000|Bf:15,127|FS:0,0>\n",
      "<Idle|MPos:-255.900,-136.000,-1.000|Bf:15,127|FS:0,0|Ov:100,100,100>\n",
      "<Idle|MPos:-255.900,-136.000,-1.000|Bf:15,127|FS:0,0>\n",
      "<Idle|MPos:-255.900,-136.000,-1.000|Bf:15,127|FS:0,0>\n",
      "<Idle|MPos:-255.900,-136.000,-1.000|Bf:15,127|FS:0,0>\n",
      "<Idle|MPos:-255.900,-136.000,-1.000|Bf:15,127|FS:0,0>\n",
      "<Idle|MPos:-255.900,-136.000,-1.000|Bf:15,127|FS:0,0>\n",
      "<Idle|MPos:-255.900,-136.000,-1.000|Bf:15,127|FS:0,0>\n",
      "<Idle|MPos:-255.900,-136.000,-1.000|Bf:15,127|FS:0,0>\n",
      "<Idle|MPos:-255.900,-136.000,-1.000|Bf:15,127|FS:0,0>\n",
      "<Run|MPos:-257.385,-133.816,-1.000|Bf:0,122|FS:200,255|WCO:-255.900,-136.000,-1.000>\n",
      "<Run|MPos:-248.103,-124.506,-1.000|Bf:0,120|FS:200,255|Ov:100,100,100|A:S>\n",
      "<Run|MPos:-248.489,-137.646,-1.000|Bf:0,118|FS:200,255>\n",
      "<Idle|MPos:-250.900,-131.000,-1.000|Bf:15,127|FS:0,0>\n",
      "<Idle|MPos:-250.900,-131.000,-1.000|Bf:15,127|FS:0,0>\n",
      "<Idle|MPos:-250.900,-131.000,-1.000|Bf:15,127|FS:0,0>\n",
      "<Idle|MPos:-250.900,-131.000,-1.000|Bf:15,127|FS:0,0>\n",
      "<Idle|MPos:-250.900,-131.000,-1.000|Bf:15,127|FS:0,0>\n",
      "<Idle|MPos:-250.900,-131.000,-1.000|Bf:15,127|FS:0,0>\n",
      "<Idle|MPos:-250.900,-131.000,-1.000|Bf:15,127|FS:0,0>\n",
      "<Run|MPos:-252.308,-128.985,-1.000|Bf:0,122|FS:200,100|WCO:-250.900,-131.000,-1.000>\n",
      "<Run|MPos:-243.276,-119.436,-1.000|Bf:0,120|FS:200,100|Ov:100,100,100|A:S>\n",
      "<Run|MPos:-243.314,-132.579,-1.000|Bf:0,118|FS:200,100>\n",
      "<Run|MPos:-247.495,-119.086,-1.000|Bf:14,106|FS:753,0|Ov:100,100,100>\n",
      "<Run|MPos:-251.394,-94.884,-1.000|Bf:0,120|FS:200,100|Ov:100,100,100|A:S>\n",
      "<RnMo:2889-89-.0|Bf8S:200,>\n",
      "<RunMo:2068-0.5,000Bf,S:41,>\n",
      "<Run|MPos:-251.779,-76.595,-1.000|Bf:0,122|FS:200,100|Ov:100,100,100|A:S>\n",
      "<Run|MPos:-244.311,-65.779,-1.000|Bf:0,120|FS:200,100>\n",
      "<Run|MPos:-242.333,-78.770,-1.000|Bf:0,118|FS:200,100>\n",
      "<Run|MPos:-246.728,-69.082,-1.000|Bf:14,109|FS:550,0|Ov:100,100,100>\n",
      "<Run|MPos:-252.009,-42.443,-1.000|Bf:0,120|FS:200,100|Ov:100,100,100|A:S>\n",
      "<Run|MPos:-239.013,-44.404,-1.000|Bf:0,118|FS:200,100>\n",
      "<Run|MPos:-249.818,-51.885,-1.000|Bf:11,109|FS:200,100>\n",
      "<Run|MPos:-231.383,-78.908,-1.000|Bf:14,109|FS:874,0|Ov:100,100,100>\n",
      "<unMs-0.8,1020-.0|f:,2|S2010O:0,0010|:S\n",
      "<Run|MPos:-201.811,-119.111,-1.000|Bf:0,105|FS:200,100>\n",
      "<u|Mos-9.3,1212-.0|f:,03F:0,0>\n",
      "<Idle|MPos:-203.400,-126.000,-1.000|Bf:15,127|FS:0,0|Ov:100,100,100>\n",
      "<Idle|MPos:-203.400,-126.000,-1.000|Bf:15,127|FS:0,0>\n",
      "<Idle|MPos:-203.400,-126.000,-1.000|Bf:15,127|FS:0,0>\n",
      "<Idle|MPos:-203.400,-126.000,-1.000|Bf:15,127|FS:0,0>\n",
      "<Idle|MPos:-203.400,-126.000,-1.000|Bf:15,127|FS:0,0>\n",
      "<Idle|MPos:-203.400,-126.000,-1.000|Bf:15,127|FS:0,0>\n",
      "<Idle|MPos:-203.400,-126.000,-1.000|Bf:15,127|FS:0,0>\n",
      "<Idle|MPos:-203.400,-126.000,-1.000|Bf:15,127|FS:0,0>\n",
      "<Idle|MPos:-203.400,-126.000,-1.000|Bf:15,127|FS:0,0>\n",
      "<Idle|MPos:-203.400,-126.000,-1.000|Bf:15,127|FS:0,0>\n",
      "<Idle|MPos:-203.400,-126.000,-1.000|Bf:15,127|FS:0,0|Ov:100,100,100>\n",
      "<Idle|MPos:-203.400,-126.000,-1.000|Bf:15,127|FS:0,0>\n",
      "<Idle|MPos:-203.400,-126.000,-1.000|Bf:15,127|FS:0,0|WCO:-250.900,-131.000,-1.000>\n",
      "<Idle|MPos:-203.400,-126.000,-1.000|Bf:15,127|FS:0,0>\n",
      "<Idle|MPos:-203.400,-126.000,-1.000|Bf:15,127|FS:0,0>\n",
      "<Idle|MPos:-203.400,-126.000,-1.000|Bf:15,127|FS:0,0>\n",
      "<Idle|MPos:-203.400,-126.000,-1.000|Bf:15,127|FS:0,0>\n",
      "<Idle|MPos:-203.400,-126.000,-1.000|Bf:15,127|FS:0,0>\n"
     ]
    }
   ],
   "source": [
    "try:\n",
    "    cnc.run(test_run)\n",
    "    while 1:\n",
    "        print(cnc.status)\n",
    "        sleep(5)\n",
    "except KeyboardInterrupt as error:\n",
    "    print(\"Feed Hold\")\n",
    "    cnc.cmd(\"!\")\n",
    "    while 1:\n",
    "        try:\n",
    "            cnc.reset()\n",
    "            break\n",
    "        except:\n",
    "            pass\n",
    "    print(\"^C\")\n"
   ]
  },
  {
   "cell_type": "code",
   "execution_count": null,
   "metadata": {},
   "outputs": [],
   "source": [
    "cnc.cmd(\"G0X0Y0\")\n"
   ]
  },
  {
   "cell_type": "code",
   "execution_count": null,
   "metadata": {},
   "outputs": [],
   "source": [
    "cnc.reset()\n"
   ]
  },
  {
   "cell_type": "code",
   "execution_count": null,
   "metadata": {},
   "outputs": [],
   "source": [
    "cnc.reset()\n"
   ]
  },
  {
   "cell_type": "code",
   "execution_count": null,
   "metadata": {},
   "outputs": [],
   "source": [
    "picture()\n"
   ]
  },
  {
   "cell_type": "markdown",
   "metadata": {},
   "source": [
    "# Test Aborted.\n",
    "\n",
    "Cuts were way too aggressive."
   ]
  }
 ],
 "metadata": {
  "kernelspec": {
   "display_name": "Python 3",
   "language": "python",
   "name": "python3"
  },
  "language_info": {
   "codemirror_mode": {
    "name": "ipython",
    "version": 3
   },
   "file_extension": ".py",
   "mimetype": "text/x-python",
   "name": "python",
   "nbconvert_exporter": "python",
   "pygments_lexer": "ipython3",
   "version": "3.6.5"
  }
 },
 "nbformat": 4,
 "nbformat_minor": 2
}
