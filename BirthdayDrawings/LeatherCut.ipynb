{
 "cells": [
  {
   "cell_type": "code",
   "execution_count": 1,
   "metadata": {},
   "outputs": [],
   "source": [
    "import os\n",
    "import sys\n",
    "from time import sleep\n",
    "from uuid import uuid4\n",
    "\n",
    "import GCode\n",
    "import GRBL\n",
    "import numpy as np"
   ]
  },
  {
   "cell_type": "markdown",
   "metadata": {},
   "source": [
    "# Laser Circles "
   ]
  },
  {
   "cell_type": "markdown",
   "metadata": {},
   "source": [
    "# Code:"
   ]
  },
  {
   "cell_type": "code",
   "execution_count": 10,
   "metadata": {},
   "outputs": [
    {
     "name": "stdout",
     "output_type": "stream",
     "text": [
      "ok\n",
      "Laser Mode: 1.0\n"
     ]
    }
   ],
   "source": [
    "cnc = GRBL.GRBL(port=\"/dev/cnc_3018\")\n",
    "if cnc.laser_mode is None:\n",
    "    cnc.reset()\n",
    "    sleep(0.5)\n",
    "cnc.laser_mode = 1\n",
    "sleep(0.5)\n",
    "print(\"Laser Mode: {}\".format(cnc.laser_mode))\n",
    "if \"Alarm\" in cnc.status:\n",
    "    cnc.home()"
   ]
  },
  {
   "cell_type": "code",
   "execution_count": 11,
   "metadata": {},
   "outputs": [],
   "source": [
    "def init():\n",
    "    program = GCode.GCode()\n",
    "    program.G0(F=500)\n",
    "    program.G1(F=300)\n",
    "    program.M3(S=1)\n",
    "    program.G28()\n",
    "    program.G21()  # Metric Units\n",
    "    program.G90()  # Absolute positioning.\n",
    "    program.G92(X=0, Y=0)\n",
    "    program.M5()\n",
    "    return program\n",
    "\n",
    "\n",
    "def end():\n",
    "    program = GCode.GCode()\n",
    "    program.M5()\n",
    "    program.G28()\n",
    "    return program\n"
   ]
  },
  {
   "cell_type": "code",
   "execution_count": 14,
   "metadata": {},
   "outputs": [],
   "source": [
    "def circle(center_x=10, center_y=10, radius=10, laser_pwm=255, clockwise=True):\n",
    "    prog = GCode.GCode()\n",
    "    prog.G0(X=(center_x - radius), Y=(center_y))\n",
    "    prog.M3(S=laser_pwm)\n",
    "    arc_cfg={\n",
    "        \"X\": (center_x - radius),\n",
    "        \"Y\": (center_y),\n",
    "        \"I\": radius,\n",
    "        \"J\": 0,      \n",
    "    }\n",
    "    if clockwise:\n",
    "        prog.G2(**arc_cfg)\n",
    "    else:\n",
    "        prog.G3(**arc_cfg)\n",
    "    prog.M5()\n",
    "    return prog\n",
    "\n",
    "def circle(center=(10, 10), radius=10, laser_pwm=255, clockwise=True, dynamic_power=False):\n",
    "    (center_x, center_y) = center\n",
    "    prog = GCode.GCode()\n",
    "    prog.G0(X=(center_x - radius), Y=(center_y))\n",
    "    if dynamic_power:\n",
    "        prog.M4(S=laser_pwm)\n",
    "    else:\n",
    "        prog.M3(S=laser_pwm)\n",
    "    arc_cfg={\n",
    "        \"X\": (center_x - radius),\n",
    "        \"Y\": (center_y),\n",
    "        \"I\": radius,\n",
    "        \"J\": 0,      \n",
    "    }\n",
    "    if clockwise:\n",
    "        prog.G2(**arc_cfg)\n",
    "    else:\n",
    "        prog.G3(**arc_cfg)\n",
    "    prog.M5()\n",
    "    return prog\n"
   ]
  },
  {
   "cell_type": "code",
   "execution_count": 16,
   "metadata": {},
   "outputs": [
    {
     "data": {
      "text/html": [
       "<b>G0</b> <i>X190 Y50</i><br>\n",
       "<b>M3</b> <i>S255</i><br>\n",
       "<b>G2</b> <i>X190 Y50 I10 J0</i><br>\n",
       "<b>M5</b> <i></i>"
      ],
      "text/plain": [
       "<GCode>[cmds=4]"
      ]
     },
     "execution_count": 16,
     "metadata": {},
     "output_type": "execute_result"
    }
   ],
   "source": [
    "circle(center=(200,50), radius=10, laser_pwm=255,clockwise=True)"
   ]
  },
  {
   "cell_type": "code",
   "execution_count": 20,
   "metadata": {},
   "outputs": [],
   "source": [
    "prog=GCode.GCode(machine=cnc)\n",
    "prog+=init()\n",
    "prog.G0(Z=-16)\n",
    "prog+=circle(center=(200,50), radius=10, laser_pwm=255,clockwise=True)\n",
    "prog.M5()"
   ]
  },
  {
   "cell_type": "code",
   "execution_count": 21,
   "metadata": {},
   "outputs": [],
   "source": [
    "prog.run()"
   ]
  },
  {
   "cell_type": "code",
   "execution_count": null,
   "metadata": {},
   "outputs": [
    {
     "name": "stdout",
     "output_type": "stream",
     "text": [
      "^C\n"
     ]
    }
   ],
   "source": [
    "while True:\n",
    "    for F in [50, 100, 200, 300]:\n",
    "        prog=GCode.GCode(machine=cnc)\n",
    "        prog.G0(Z=-16)\n",
    "        prog.G1(F=F)\n",
    "        prog+=circle(center=(200,50), radius=10, laser_pwm=255,clockwise=True)\n",
    "        prog.run()"
   ]
  },
  {
   "cell_type": "code",
   "execution_count": null,
   "metadata": {},
   "outputs": [],
   "source": []
  }
 ],
 "metadata": {
  "kernelspec": {
   "display_name": "Python 3",
   "language": "python",
   "name": "python3"
  },
  "language_info": {
   "codemirror_mode": {
    "name": "ipython",
    "version": 3
   },
   "file_extension": ".py",
   "mimetype": "text/x-python",
   "name": "python",
   "nbconvert_exporter": "python",
   "pygments_lexer": "ipython3",
   "version": "3.6.6"
  }
 },
 "nbformat": 4,
 "nbformat_minor": 2
}
