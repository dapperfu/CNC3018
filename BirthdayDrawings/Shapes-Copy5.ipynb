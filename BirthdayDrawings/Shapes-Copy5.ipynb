{
 "cells": [
  {
   "cell_type": "code",
   "execution_count": null,
   "metadata": {},
   "outputs": [],
   "source": [
    "import os\n",
    "import sys\n",
    "import time\n",
    "\n",
    "import GCode\n",
    "import GRBL\n",
    "import matplotlib.pyplot as plt\n",
    "import numpy as np"
   ]
  },
  {
   "cell_type": "markdown",
   "metadata": {},
   "source": [
    "# Draw a Shapes\n",
    "\n",
    "Attempt at programmatically drawing shapes.\n",
    "\n",
    "All units in mm. ```1``` = ```1 mm```."
   ]
  },
  {
   "cell_type": "code",
   "execution_count": 2,
   "metadata": {},
   "outputs": [],
   "source": [
    "s = GCode.Shapes.Square()\n"
   ]
  },
  {
   "cell_type": "code",
   "execution_count": 3,
   "metadata": {},
   "outputs": [
    {
     "data": {
      "text/html": [
       "<b>G0</b> <i>X0 Y0</i><br>\n",
       "<b>M4</b> <i>S150</i><br>\n",
       "<b>G1</b> <i>X10 Y0 F300</i><br>\n",
       "<b>G1</b> <i>X10 Y10 F300</i><br>\n",
       "<b>G1</b> <i>X0 Y10 F300</i><br>\n",
       "<b>G1</b> <i>X0 Y0 F300</i><br>\n",
       "<b>M5</b> <i></i>"
      ],
      "text/plain": [
       "Square<O=[0 0], L=10>"
      ]
     },
     "execution_count": 3,
     "metadata": {},
     "output_type": "execute_result"
    }
   ],
   "source": [
    "s\n"
   ]
  },
  {
   "cell_type": "code",
   "execution_count": 4,
   "metadata": {},
   "outputs": [],
   "source": [
    "p = GCode.Program()\n"
   ]
  },
  {
   "cell_type": "code",
   "execution_count": 5,
   "metadata": {},
   "outputs": [
    {
     "data": {
      "text/html": [],
      "text/plain": [
       "Program<lines=0>"
      ]
     },
     "execution_count": 5,
     "metadata": {},
     "output_type": "execute_result"
    }
   ],
   "source": [
    "p\n"
   ]
  },
  {
   "cell_type": "code",
   "execution_count": 6,
   "metadata": {},
   "outputs": [
    {
     "data": {
      "text/html": [
       "<b>G28</b> <i></i><br>\n",
       "<b>G0</b> <i>F120</i><br>\n",
       "<b>M3</b> <i>S1</i><br>\n",
       "<b>G21</b> <i></i><br>\n",
       "<b>G90</b> <i></i><br>\n",
       "<b>G92</b> <i>X0 Y0 Z0</i><br>\n",
       "<b>M5</b> <i></i><br>\n",
       "<b>G28</b> <i></i>"
      ],
      "text/plain": [
       "Program<lines=0>"
      ]
     },
     "execution_count": 6,
     "metadata": {},
     "output_type": "execute_result"
    }
   ],
   "source": [
    "p.generate_gcode()\n",
    "p\n"
   ]
  },
  {
   "cell_type": "code",
   "execution_count": 7,
   "metadata": {},
   "outputs": [
    {
     "data": {
      "text/plain": [
       "(6, ['', \"Grbl 1.1f ['$' for help]\", \"[MSG:'$H'|'$X' to unlock]\"])"
      ]
     },
     "execution_count": 7,
     "metadata": {},
     "output_type": "execute_result"
    }
   ],
   "source": [
    "cnc = GRBL.GRBL(port=\"/dev/cnc_3018\")\n",
    "cnc.reset()\n"
   ]
  },
  {
   "cell_type": "code",
   "execution_count": 8,
   "metadata": {},
   "outputs": [
    {
     "data": {
      "text/plain": [
       "'<Alarm|MPos:0.000,0.000,0.000|Bf:15,127|FS:0,0|WCO:0.000,0.000,0.000>'"
      ]
     },
     "execution_count": 8,
     "metadata": {},
     "output_type": "execute_result"
    }
   ],
   "source": [
    "cnc.status\n"
   ]
  },
  {
   "cell_type": "code",
   "execution_count": 9,
   "metadata": {},
   "outputs": [
    {
     "data": {
      "text/plain": [
       "'<Idle|MPos:-259.000,-174.000,-1.000|Bf:15,127|FS:0,0|Ov:100,100,100>'"
      ]
     },
     "execution_count": 9,
     "metadata": {},
     "output_type": "execute_result"
    }
   ],
   "source": [
    "cnc.home()\n",
    "cnc.status\n"
   ]
  },
  {
   "cell_type": "code",
   "execution_count": 10,
   "metadata": {},
   "outputs": [],
   "source": [
    "o0 = 10\n",
    "\n",
    "\n",
    "def origin_calc(lines):\n",
    "    if len(lines) == 0:\n",
    "        o = o0\n",
    "    else:\n",
    "        o = np.sum(list(map(lambda s: s.len_side, lines))) + o0\n",
    "    return np.array([o, o])\n"
   ]
  },
  {
   "cell_type": "code",
   "execution_count": 1,
   "metadata": {},
   "outputs": [
    {
     "ename": "NameError",
     "evalue": "name 'np' is not defined",
     "output_type": "error",
     "traceback": [
      "\u001b[0;31m---------------------------------------------------------------------------\u001b[0m",
      "\u001b[0;31mNameError\u001b[0m                                 Traceback (most recent call last)",
      "\u001b[0;32m<ipython-input-1-e096e07db095>\u001b[0m in \u001b[0;36m<module>\u001b[0;34m()\u001b[0m\n\u001b[1;32m      1\u001b[0m \u001b[0msides\u001b[0m \u001b[0;34m=\u001b[0m \u001b[0;34m[\u001b[0m\u001b[0;36m0.1\u001b[0m\u001b[0;34m,\u001b[0m \u001b[0;36m0.25\u001b[0m\u001b[0;34m,\u001b[0m \u001b[0;36m0.5\u001b[0m\u001b[0;34m,\u001b[0m \u001b[0;36m0.75\u001b[0m\u001b[0;34m,\u001b[0m \u001b[0;36m1\u001b[0m\u001b[0;34m,\u001b[0m \u001b[0;36m2.5\u001b[0m\u001b[0;34m,\u001b[0m \u001b[0;36m5\u001b[0m\u001b[0;34m,\u001b[0m \u001b[0;36m10\u001b[0m\u001b[0;34m,\u001b[0m \u001b[0;36m20\u001b[0m\u001b[0;34m,\u001b[0m \u001b[0;36m25.4\u001b[0m\u001b[0;34m,\u001b[0m \u001b[0;36m25.4\u001b[0m\u001b[0;34m/\u001b[0m\u001b[0;36m4\u001b[0m\u001b[0;34m]\u001b[0m\u001b[0;34m\u001b[0m\u001b[0m\n\u001b[0;32m----> 2\u001b[0;31m \u001b[0mnp\u001b[0m\u001b[0;34m.\u001b[0m\u001b[0msum\u001b[0m\u001b[0;34m(\u001b[0m\u001b[0msides\u001b[0m\u001b[0;34m)\u001b[0m\u001b[0;34m+\u001b[0m\u001b[0mo0\u001b[0m\u001b[0;34m\u001b[0m\u001b[0m\n\u001b[0m",
      "\u001b[0;31mNameError\u001b[0m: name 'np' is not defined"
     ]
    }
   ],
   "source": [
    "sides = [0.1, 0.25, 0.5, 0.75, 1, 2.5, 5, 10, 20, 25.4, 25.4 / 4]\n",
    "np.sum(sides) + o0\n"
   ]
  },
  {
   "cell_type": "code",
   "execution_count": 12,
   "metadata": {},
   "outputs": [],
   "source": [
    "lines = list()\n",
    "\n",
    "for side in sides:\n",
    "    _ = GCode.Shapes.Square(len_side=side, origin=origin_calc(lines))\n",
    "    lines.append(_)\n"
   ]
  },
  {
   "cell_type": "code",
   "execution_count": 13,
   "metadata": {},
   "outputs": [
    {
     "data": {
      "text/plain": [
       "[Square<O=[10 10], L=0.1>,\n",
       " Square<O=[10.1 10.1], L=0.25>,\n",
       " Square<O=[10.35 10.35], L=0.5>,\n",
       " Square<O=[10.85 10.85], L=0.75>,\n",
       " Square<O=[11.6 11.6], L=1>,\n",
       " Square<O=[12.6 12.6], L=2.5>,\n",
       " Square<O=[15.1 15.1], L=5>,\n",
       " Square<O=[20.1 20.1], L=10>,\n",
       " Square<O=[30.1 30.1], L=25.4>,\n",
       " Square<O=[55.5 55.5], L=6.35>]"
      ]
     },
     "execution_count": 13,
     "metadata": {},
     "output_type": "execute_result"
    }
   ],
   "source": [
    "lines\n"
   ]
  },
  {
   "cell_type": "code",
   "execution_count": 15,
   "metadata": {},
   "outputs": [
    {
     "data": {
      "text/plain": [
       "['G28', 'G0 F120', 'M3 S1', 'G21', 'G90', 'G92 X0 Y0 Z0', 'M5', 'G28']"
      ]
     },
     "execution_count": 15,
     "metadata": {},
     "output_type": "execute_result"
    }
   ],
   "source": [
    "prog = GCode.Program()\n",
    "\n",
    "prog.generate_gcode()\n",
    "\n",
    "prog.buffer\n"
   ]
  },
  {
   "cell_type": "code",
   "execution_count": 23,
   "metadata": {},
   "outputs": [
    {
     "data": {
      "text/plain": [
       "2.6323344707489014"
      ]
     },
     "execution_count": 23,
     "metadata": {},
     "output_type": "execute_result"
    }
   ],
   "source": [
    "cnc.run(prog)\n"
   ]
  },
  {
   "cell_type": "code",
   "execution_count": 17,
   "metadata": {},
   "outputs": [],
   "source": [
    "for line in lines:\n",
    "    break\n"
   ]
  },
  {
   "cell_type": "code",
   "execution_count": 19,
   "metadata": {},
   "outputs": [
    {
     "data": {
      "text/plain": [
       "'Square<O=[10 10], L=0.1>'"
      ]
     },
     "execution_count": 19,
     "metadata": {},
     "output_type": "execute_result"
    }
   ],
   "source": [
    "line.__repr__()\n"
   ]
  },
  {
   "cell_type": "code",
   "execution_count": 20,
   "metadata": {},
   "outputs": [
    {
     "data": {
      "text/plain": [
       "['G0 X10.0 Y10.0',\n",
       " 'M4 S150',\n",
       " 'G1 X10.1 Y10.0 F300',\n",
       " 'G1 X10.1 Y10.1 F300',\n",
       " 'G1 X10.0 Y10.1 F300',\n",
       " 'G1 X10.0 Y10.0 F300',\n",
       " 'M5']"
      ]
     },
     "execution_count": 20,
     "metadata": {},
     "output_type": "execute_result"
    }
   ],
   "source": [
    "line.buffer\n"
   ]
  },
  {
   "cell_type": "code",
   "execution_count": 21,
   "metadata": {},
   "outputs": [
    {
     "data": {
      "text/plain": [
       "'<Idle|MPos:-255.900,-136.000,-1.000|Bf:15,127|FS:0,0|WCO:-255.900,-136.000,-1.000>'"
      ]
     },
     "execution_count": 21,
     "metadata": {},
     "output_type": "execute_result"
    }
   ],
   "source": [
    "cnc.status\n"
   ]
  },
  {
   "cell_type": "code",
   "execution_count": 22,
   "metadata": {},
   "outputs": [
    {
     "data": {
      "text/plain": [
       "2.579211711883545"
      ]
     },
     "execution_count": 22,
     "metadata": {},
     "output_type": "execute_result"
    }
   ],
   "source": [
    "cnc.run(line)\n"
   ]
  }
 ],
 "metadata": {
  "kernelspec": {
   "display_name": "Python 3",
   "language": "python",
   "name": "python3"
  },
  "language_info": {
   "codemirror_mode": {
    "name": "ipython",
    "version": 3
   },
   "file_extension": ".py",
   "mimetype": "text/x-python",
   "name": "python",
   "nbconvert_exporter": "python",
   "pygments_lexer": "ipython3",
   "version": "3.6.5"
  }
 },
 "nbformat": 4,
 "nbformat_minor": 2
}
