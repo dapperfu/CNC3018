{
 "cells": [
  {
   "cell_type": "code",
   "execution_count": 1,
   "metadata": {},
   "outputs": [],
   "source": [
    "import os\n",
    "import sys\n",
    "from time import sleep\n",
    "from uuid import uuid4\n",
    "\n",
    "import GCode\n",
    "import GRBL\n",
    "import numpy as np"
   ]
  },
  {
   "cell_type": "markdown",
   "metadata": {},
   "source": [
    "# GCode Playback"
   ]
  },
  {
   "cell_type": "markdown",
   "metadata": {},
   "source": [
    "# Code:"
   ]
  },
  {
   "cell_type": "code",
   "execution_count": 2,
   "metadata": {},
   "outputs": [
    {
     "name": "stdout",
     "output_type": "stream",
     "text": [
      "ok\n",
      "Laser Mode: 1.0\n"
     ]
    }
   ],
   "source": [
    "cnc = GRBL.GRBL(port=\"/dev/cnc_3018\")\n",
    "cnc.reset()\n",
    "sleep(0.5)\n",
    "cnc.laser_mode = 1\n",
    "sleep(0.5)\n",
    "print(\"Laser Mode: {}\".format(cnc.laser_mode))"
   ]
  },
  {
   "cell_type": "code",
   "execution_count": 3,
   "metadata": {
    "scrolled": true
   },
   "outputs": [
    {
     "data": {
      "text/plain": [
       "'<Idle|MPos:-184.726,-66.349,-1.000|Bf:15,127|FS:0,0|WCO:0.000,0.000,0.000>'"
      ]
     },
     "execution_count": 3,
     "metadata": {},
     "output_type": "execute_result"
    }
   ],
   "source": [
    "cnc.status"
   ]
  },
  {
   "cell_type": "code",
   "execution_count": 4,
   "metadata": {},
   "outputs": [],
   "source": [
    "if \"Alarm\" in cnc.status:\n",
    "    cnc.home()"
   ]
  },
  {
   "cell_type": "code",
   "execution_count": 14,
   "metadata": {},
   "outputs": [],
   "source": [
    "def init(**kwargs):\n",
    "    program = GCode.GCode(**kwargs)\n",
    "    program.G0(F=500)\n",
    "    program.G1(F=300)\n",
    "    program.M3(S=1) # Track the laser\n",
    "    program.G28()\n",
    "    program.G21()  # Metric Units\n",
    "    program.G90()  # Absolute positioning.\n",
    "    program.G92(X=0, Y=0, Z=0)\n",
    "    program.M5()\n",
    "    return program\n",
    "\n",
    "\n",
    "def end():\n",
    "    program = GCode.GCode()\n",
    "    program.M5()\n",
    "    program.G28()\n",
    "    return program\n"
   ]
  },
  {
   "cell_type": "code",
   "execution_count": 13,
   "metadata": {},
   "outputs": [
    {
     "data": {
      "text/plain": [
       "8743.171305418015"
      ]
     },
     "execution_count": 13,
     "metadata": {},
     "output_type": "execute_result"
    }
   ],
   "source": [
    "prog = GCode.GCode()\n",
    "prog.load(\"/tmp/output_0001.gcode\")\n",
    "full_prog = GCode.GCode(machine=cnc)\n",
    "full_prog+=init()\n",
    "full_prog.G0(Z=-16)\n",
    "\n",
    "\n",
    "full_prog+=prog\n",
    "full_prog+=end()\n",
    "\n",
    "cnc.run(full_prog)"
   ]
  },
  {
   "cell_type": "code",
   "execution_count": 16,
   "metadata": {},
   "outputs": [
    {
     "name": "stdout",
     "output_type": "stream",
     "text": [
      "^C\n"
     ]
    }
   ],
   "source": [
    "init(machine=cnc).run()"
   ]
  },
  {
   "cell_type": "code",
   "execution_count": 17,
   "metadata": {},
   "outputs": [
    {
     "data": {
      "text/plain": [
       "'<Hold:0|MPos:-54.504,-76.100,-16.000|Bf:0,102|FS:0,0|Ov:100,100,100>'"
      ]
     },
     "execution_count": 17,
     "metadata": {},
     "output_type": "execute_result"
    }
   ],
   "source": [
    "cnc.status()"
   ]
  },
  {
   "cell_type": "code",
   "execution_count": 18,
   "metadata": {},
   "outputs": [
    {
     "data": {
      "text/plain": [
       "(0, ['ok', '', \"Grbl 1.1f ['$' for help]\", 'ok'])"
      ]
     },
     "execution_count": 18,
     "metadata": {},
     "output_type": "execute_result"
    }
   ],
   "source": [
    "cnc.reset()"
   ]
  },
  {
   "cell_type": "code",
   "execution_count": null,
   "metadata": {},
   "outputs": [],
   "source": []
  }
 ],
 "metadata": {
  "kernelspec": {
   "display_name": "Python 3",
   "language": "python",
   "name": "python3"
  },
  "language_info": {
   "codemirror_mode": {
    "name": "ipython",
    "version": 3
   },
   "file_extension": ".py",
   "mimetype": "text/x-python",
   "name": "python",
   "nbconvert_exporter": "python",
   "pygments_lexer": "ipython3",
   "version": "3.6.6"
  }
 },
 "nbformat": 4,
 "nbformat_minor": 2
}
