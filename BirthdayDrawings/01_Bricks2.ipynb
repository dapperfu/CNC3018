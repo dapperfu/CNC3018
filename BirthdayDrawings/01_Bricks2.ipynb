{
 "cells": [
  {
   "cell_type": "code",
   "execution_count": 1,
   "metadata": {},
   "outputs": [],
   "source": [
    "import os\n",
    "import sys\n",
    "import time\n",
    "\n",
    "import GCode\n",
    "import GRBL\n",
    "import matplotlib.pyplot as plt\n",
    "import numpy as np"
   ]
  },
  {
   "cell_type": "markdown",
   "metadata": {},
   "source": [
    "# Draw a Brick Pattern\n",
    "\n",
    "Attempt at programmatically making a brick pattern.\n",
    "\n",
    "All units in mm. ```1``` = ```1 mm```."
   ]
  },
  {
   "cell_type": "markdown",
   "metadata": {},
   "source": [
    "\"Napkin\" scratches.\n",
    "\n",
    "![](http://luckofthedraw.fun/.imgs/brick_0003.jpeg)\n",
    "\n",
    "Drawn by hand. ~18mm brick height.\n",
    "\n",
    "![](http://luckofthedraw.fun/.imgs/brick_0001.jpeg)"
   ]
  },
  {
   "cell_type": "markdown",
   "metadata": {},
   "source": [
    "> Standard bricks. The standard co-ordinating size for brickwork is 225 mm x 112.5 mm x 75 mm (length x depth x height). This includes 10 mm mortar joints, and so the standard size for a brick itself is 215 mm x 102.5 mm x 65 mm (length x depth x height)."
   ]
  },
  {
   "cell_type": "code",
   "execution_count": 2,
   "metadata": {},
   "outputs": [],
   "source": [
    "# Standard brick dimensions.\n",
    "BrickHeight = 65  # [mm]\n",
    "BrickLength = 225  # [mm]\n",
    "BrickDepth = 12.5  # [mm]\n",
    "BrickRatio = 215 / 65  # [dimensionless]\n"
   ]
  },
  {
   "cell_type": "code",
   "execution_count": 3,
   "metadata": {},
   "outputs": [],
   "source": [
    "# Poplar 1x4\". Cut\n",
    "BlockHeight = 89.0  # mm\n",
    "BlockLength = 2 * BlockHeight  # mm\n"
   ]
  },
  {
   "cell_type": "code",
   "execution_count": 4,
   "metadata": {},
   "outputs": [],
   "source": [
    "# Drawing configuration.\n",
    "# How many rows of bricks to draw on the block.\n",
    "N_BrickRows = 12  # [dimensionless]\n",
    "\n",
    "# Dimensions of a 'brick' projected onto the block of wood.\n",
    "H_Block_Brick = BlockHeight / N_BrickRows  # [mm]\n",
    "L_Block_Brick = H_Block_Brick * BrickRatio  # [mm]\n"
   ]
  },
  {
   "cell_type": "markdown",
   "metadata": {},
   "source": [
    "# Code:"
   ]
  },
  {
   "cell_type": "code",
   "execution_count": 5,
   "metadata": {},
   "outputs": [],
   "source": [
    "flip = np.array([[1, 1], [1, 0]])\n",
    "transform_tuple = (\n",
    "    np.eye(2),  # Identity matrix, do nothing.\n",
    "    np.eye(2),  # Do nothing, for debugging.\n",
    "    flip,  # Flip the matrix, reduces travel time.\n",
    ")\n",
    "vertical_brick_lines_tuple = (\n",
    "    np.arange(L_Block_Brick, BlockLength, L_Block_Brick),  # Odd rows.\n",
    "    np.arange(L_Block_Brick / 2, BlockLength, L_Block_Brick),  # Even rows.\n",
    ")\n",
    "horizontal_brick_lines = np.linspace(\n",
    "    0, BlockHeight, N_BrickRows, endpoint=False\n",
    ")\n"
   ]
  },
  {
   "cell_type": "markdown",
   "metadata": {},
   "source": [
    "Lines parallel to the X-axis.\n",
    "Separates rows of bricks."
   ]
  },
  {
   "cell_type": "code",
   "execution_count": 6,
   "metadata": {},
   "outputs": [
    {
     "data": {
      "text/plain": [
       "array([ 0.        ,  7.41666667, 14.83333333, 22.25      , 29.66666667,\n",
       "       37.08333333, 44.5       , 51.91666667, 59.33333333, 66.75      ,\n",
       "       74.16666667, 81.58333333])"
      ]
     },
     "execution_count": 6,
     "metadata": {},
     "output_type": "execute_result"
    }
   ],
   "source": [
    "horizontal_brick_lines\n"
   ]
  },
  {
   "cell_type": "markdown",
   "metadata": {},
   "source": [
    "Lines parallel to the Y-axis."
   ]
  },
  {
   "cell_type": "code",
   "execution_count": 7,
   "metadata": {},
   "outputs": [
    {
     "data": {
      "text/plain": [
       "(array([ 24.53205128,  49.06410256,  73.59615385,  98.12820513,\n",
       "        122.66025641, 147.19230769, 171.72435897]),\n",
       " array([ 12.26602564,  36.79807692,  61.33012821,  85.86217949,\n",
       "        110.39423077, 134.92628205, 159.45833333]))"
      ]
     },
     "execution_count": 7,
     "metadata": {},
     "output_type": "execute_result"
    }
   ],
   "source": [
    "vertical_brick_lines_tuple\n"
   ]
  },
  {
   "cell_type": "code",
   "execution_count": 8,
   "metadata": {},
   "outputs": [],
   "source": [
    "BlockBrick = GCode.Program()\n",
    "BlockBrick.lines = list()\n",
    "\n",
    "for idx in range(1, len(horizontal_brick_lines)):\n",
    "    # Top horizontal line that defines each 'brick'\n",
    "    horizontal_brick_line = horizontal_brick_lines[idx]\n",
    "    row_line_points = np.array(\n",
    "        [[0, horizontal_brick_line], [BlockLength, horizontal_brick_line]]\n",
    "    )\n",
    "    # Transform to perform on the row points.\n",
    "    transform = transform_tuple[np.mod(idx, 2)]\n",
    "\n",
    "    row_line_points = np.matmul(transform, row_line_points)\n",
    "    line_ = GCode.Line(points=row_line_points)\n",
    "\n",
    "    BlockBrick.lines.append(line_)\n",
    "\n",
    "    # Vertical brick line.\n",
    "    vertical_brick_lines = vertical_brick_lines_tuple[\n",
    "        np.mod(idx, len(vertical_brick_lines_tuple))\n",
    "    ]\n",
    "\n",
    "    start_point_y = horizontal_brick_lines[idx - 1]\n",
    "    end_point_y = horizontal_brick_lines[idx]\n",
    "\n",
    "    for idx2, vertical_brick_line in enumerate(vertical_brick_lines):\n",
    "        transform = transform_tuple[np.mod(idx2, 2)]\n",
    "        column_line_points = (\n",
    "            np.array(\n",
    "                [\n",
    "                    [vertical_brick_line, start_point_y],\n",
    "                    [vertical_brick_line, end_point_y],\n",
    "                ]\n",
    "            ),\n",
    "        )\n",
    "        column_line_points = np.matmul(transform, column_line_points)\n",
    "        line_ = GCode.Line(column_line_points)\n",
    "        BlockBrick.lines.append(line_)\n",
    "\n",
    "# Not drawing the last row of vertical lines.\n",
    "idx += 1\n",
    "vertical_brick_lines = vertical_brick_lines_tuple[\n",
    "    np.mod(idx, len(vertical_brick_lines_tuple))\n",
    "]\n",
    "\n",
    "start_point_y = horizontal_brick_lines[idx - 1]\n",
    "end_point_y = BlockHeight\n",
    "\n",
    "for idx2, vertical_brick_line in enumerate(vertical_brick_lines):\n",
    "    transform = transform_tuple[np.mod(idx2, 2)]\n",
    "    column_line_points = (\n",
    "        np.array(\n",
    "            [\n",
    "                [vertical_brick_line, start_point_y],\n",
    "                [vertical_brick_line, end_point_y],\n",
    "            ]\n",
    "        ),\n",
    "    )\n",
    "    column_line_points = np.matmul(transform, column_line_points)\n",
    "    line_ = GCode.Line(column_line_points)\n",
    "    BlockBrick.lines.append(line_)\n"
   ]
  },
  {
   "cell_type": "code",
   "execution_count": 9,
   "metadata": {},
   "outputs": [
    {
     "data": {
      "text/plain": [
       "[Line<len=178.0mm, feed=300, power=150>,\n",
       " Line<len=7.41667mm, feed=300, power=150>,\n",
       " Line<len=7.41667mm, feed=300, power=150>,\n",
       " Line<len=7.41667mm, feed=300, power=150>,\n",
       " Line<len=7.41667mm, feed=300, power=150>,\n",
       " Line<len=7.41667mm, feed=300, power=150>,\n",
       " Line<len=7.41667mm, feed=300, power=150>,\n",
       " Line<len=7.41667mm, feed=300, power=150>,\n",
       " Line<len=178.0mm, feed=300, power=150>,\n",
       " Line<len=7.41667mm, feed=300, power=150>,\n",
       " Line<len=7.41667mm, feed=300, power=150>,\n",
       " Line<len=7.41667mm, feed=300, power=150>,\n",
       " Line<len=7.41667mm, feed=300, power=150>,\n",
       " Line<len=7.41667mm, feed=300, power=150>,\n",
       " Line<len=7.41667mm, feed=300, power=150>,\n",
       " Line<len=7.41667mm, feed=300, power=150>,\n",
       " Line<len=178.0mm, feed=300, power=150>,\n",
       " Line<len=7.41667mm, feed=300, power=150>,\n",
       " Line<len=7.41667mm, feed=300, power=150>,\n",
       " Line<len=7.41667mm, feed=300, power=150>,\n",
       " Line<len=7.41667mm, feed=300, power=150>,\n",
       " Line<len=7.41667mm, feed=300, power=150>,\n",
       " Line<len=7.41667mm, feed=300, power=150>,\n",
       " Line<len=7.41667mm, feed=300, power=150>,\n",
       " Line<len=178.0mm, feed=300, power=150>,\n",
       " Line<len=7.41667mm, feed=300, power=150>,\n",
       " Line<len=7.41667mm, feed=300, power=150>,\n",
       " Line<len=7.41667mm, feed=300, power=150>,\n",
       " Line<len=7.41667mm, feed=300, power=150>,\n",
       " Line<len=7.41667mm, feed=300, power=150>,\n",
       " Line<len=7.41667mm, feed=300, power=150>,\n",
       " Line<len=7.41667mm, feed=300, power=150>,\n",
       " Line<len=178.0mm, feed=300, power=150>,\n",
       " Line<len=7.41667mm, feed=300, power=150>,\n",
       " Line<len=7.41667mm, feed=300, power=150>,\n",
       " Line<len=7.41667mm, feed=300, power=150>,\n",
       " Line<len=7.41667mm, feed=300, power=150>,\n",
       " Line<len=7.41667mm, feed=300, power=150>,\n",
       " Line<len=7.41667mm, feed=300, power=150>,\n",
       " Line<len=7.41667mm, feed=300, power=150>,\n",
       " Line<len=178.0mm, feed=300, power=150>,\n",
       " Line<len=7.41667mm, feed=300, power=150>,\n",
       " Line<len=7.41667mm, feed=300, power=150>,\n",
       " Line<len=7.41667mm, feed=300, power=150>,\n",
       " Line<len=7.41667mm, feed=300, power=150>,\n",
       " Line<len=7.41667mm, feed=300, power=150>,\n",
       " Line<len=7.41667mm, feed=300, power=150>,\n",
       " Line<len=7.41667mm, feed=300, power=150>,\n",
       " Line<len=178.0mm, feed=300, power=150>,\n",
       " Line<len=7.41667mm, feed=300, power=150>,\n",
       " Line<len=7.41667mm, feed=300, power=150>,\n",
       " Line<len=7.41667mm, feed=300, power=150>,\n",
       " Line<len=7.41667mm, feed=300, power=150>,\n",
       " Line<len=7.41667mm, feed=300, power=150>,\n",
       " Line<len=7.41667mm, feed=300, power=150>,\n",
       " Line<len=7.41667mm, feed=300, power=150>,\n",
       " Line<len=178.0mm, feed=300, power=150>,\n",
       " Line<len=7.41667mm, feed=300, power=150>,\n",
       " Line<len=7.41667mm, feed=300, power=150>,\n",
       " Line<len=7.41667mm, feed=300, power=150>,\n",
       " Line<len=7.41667mm, feed=300, power=150>,\n",
       " Line<len=7.41667mm, feed=300, power=150>,\n",
       " Line<len=7.41667mm, feed=300, power=150>,\n",
       " Line<len=7.41667mm, feed=300, power=150>,\n",
       " Line<len=178.0mm, feed=300, power=150>,\n",
       " Line<len=7.41667mm, feed=300, power=150>,\n",
       " Line<len=7.41667mm, feed=300, power=150>,\n",
       " Line<len=7.41667mm, feed=300, power=150>,\n",
       " Line<len=7.41667mm, feed=300, power=150>,\n",
       " Line<len=7.41667mm, feed=300, power=150>,\n",
       " Line<len=7.41667mm, feed=300, power=150>,\n",
       " Line<len=7.41667mm, feed=300, power=150>,\n",
       " Line<len=178.0mm, feed=300, power=150>,\n",
       " Line<len=7.41667mm, feed=300, power=150>,\n",
       " Line<len=7.41667mm, feed=300, power=150>,\n",
       " Line<len=7.41667mm, feed=300, power=150>,\n",
       " Line<len=7.41667mm, feed=300, power=150>,\n",
       " Line<len=7.41667mm, feed=300, power=150>,\n",
       " Line<len=7.41667mm, feed=300, power=150>,\n",
       " Line<len=7.41667mm, feed=300, power=150>,\n",
       " Line<len=178.0mm, feed=300, power=150>,\n",
       " Line<len=7.41667mm, feed=300, power=150>,\n",
       " Line<len=7.41667mm, feed=300, power=150>,\n",
       " Line<len=7.41667mm, feed=300, power=150>,\n",
       " Line<len=7.41667mm, feed=300, power=150>,\n",
       " Line<len=7.41667mm, feed=300, power=150>,\n",
       " Line<len=7.41667mm, feed=300, power=150>,\n",
       " Line<len=7.41667mm, feed=300, power=150>,\n",
       " Line<len=7.41667mm, feed=300, power=150>,\n",
       " Line<len=7.41667mm, feed=300, power=150>,\n",
       " Line<len=7.41667mm, feed=300, power=150>,\n",
       " Line<len=7.41667mm, feed=300, power=150>,\n",
       " Line<len=7.41667mm, feed=300, power=150>,\n",
       " Line<len=7.41667mm, feed=300, power=150>,\n",
       " Line<len=7.41667mm, feed=300, power=150>]"
      ]
     },
     "execution_count": 9,
     "metadata": {},
     "output_type": "execute_result"
    }
   ],
   "source": [
    "BlockBrick.lines\n"
   ]
  },
  {
   "cell_type": "code",
   "execution_count": 10,
   "metadata": {},
   "outputs": [
    {
     "data": {
      "text/plain": [
       "3313.6085462389365"
      ]
     },
     "execution_count": 10,
     "metadata": {},
     "output_type": "execute_result"
    }
   ],
   "source": [
    "BlockBrick.time\n"
   ]
  },
  {
   "cell_type": "code",
   "execution_count": 11,
   "metadata": {},
   "outputs": [
    {
     "data": {
      "text/plain": [
       "8175.817932477876"
      ]
     },
     "execution_count": 11,
     "metadata": {},
     "output_type": "execute_result"
    }
   ],
   "source": [
    "BlockBrick.dist\n"
   ]
  },
  {
   "cell_type": "code",
   "execution_count": 12,
   "metadata": {},
   "outputs": [],
   "source": [
    "BlockBrick.generate_gcode()\n"
   ]
  },
  {
   "cell_type": "code",
   "execution_count": 15,
   "metadata": {
    "scrolled": true
   },
   "outputs": [],
   "source": [
    "BlockBrick.save(\"12row_brick_2x1.gcode\")"
   ]
  },
  {
   "cell_type": "code",
   "execution_count": 18,
   "metadata": {},
   "outputs": [
    {
     "data": {
      "text/plain": [
       "(4, ['', \"Grbl 1.1f ['$' for help]\", \"[MSG:'$H'|'$X' to unlock]\"])"
      ]
     },
     "execution_count": 18,
     "metadata": {},
     "output_type": "execute_result"
    }
   ],
   "source": [
    "cnc = GRBL.GRBL(port=\"/dev/cnc_3018\")\n",
    "cnc.reset()\n"
   ]
  },
  {
   "cell_type": "code",
   "execution_count": 19,
   "metadata": {},
   "outputs": [
    {
     "data": {
      "text/plain": [
       "'<Alarm|MPos:0.000,0.000,0.000|Bf:15,127|FS:0,0|WCO:0.000,0.000,0.000>'"
      ]
     },
     "execution_count": 19,
     "metadata": {},
     "output_type": "execute_result"
    }
   ],
   "source": [
    "cnc.status\n"
   ]
  },
  {
   "cell_type": "code",
   "execution_count": 20,
   "metadata": {},
   "outputs": [
    {
     "data": {
      "text/plain": [
       "14"
      ]
     },
     "execution_count": 20,
     "metadata": {},
     "output_type": "execute_result"
    }
   ],
   "source": [
    "cnc.home()\n"
   ]
  },
  {
   "cell_type": "code",
   "execution_count": 21,
   "metadata": {},
   "outputs": [
    {
     "data": {
      "text/plain": [
       "'<Idle|MPos:-259.000,-174.000,-1.000|Bf:15,127|FS:0,0|Ov:100,100,100>'"
      ]
     },
     "execution_count": 21,
     "metadata": {},
     "output_type": "execute_result"
    }
   ],
   "source": [
    "cnc.status\n"
   ]
  },
  {
   "cell_type": "code",
   "execution_count": 22,
   "metadata": {},
   "outputs": [],
   "source": [
    "BlockBrick.machine = cnc\n"
   ]
  },
  {
   "cell_type": "code",
   "execution_count": 34,
   "metadata": {},
   "outputs": [],
   "source": [
    "BlockBrick.run()\n"
   ]
  }
 ],
 "metadata": {
  "kernelspec": {
   "display_name": "Python 3",
   "language": "python",
   "name": "python3"
  },
  "language_info": {
   "codemirror_mode": {
    "name": "ipython",
    "version": 3
   },
   "file_extension": ".py",
   "mimetype": "text/x-python",
   "name": "python",
   "nbconvert_exporter": "python",
   "pygments_lexer": "ipython3",
   "version": "3.6.5"
  }
 },
 "nbformat": 4,
 "nbformat_minor": 2
}
