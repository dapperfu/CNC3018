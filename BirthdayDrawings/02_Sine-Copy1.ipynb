{
 "cells": [
  {
   "cell_type": "code",
   "execution_count": null,
   "metadata": {},
   "outputs": [],
   "source": [
    "import os\n",
    "import sys\n",
    "import time\n",
    "\n",
    "import GCode\n",
    "import GRBL\n",
    "import matplotlib.pyplot as plt\n",
    "import numpy as np\n",
    "#import ushr.coord.homogeneous as h\n",
    "import seaborn as sns"
   ]
  },
  {
   "cell_type": "markdown",
   "metadata": {},
   "source": [
    "All units in mm. ```1``` = ```1 mm```."
   ]
  },
  {
   "cell_type": "code",
   "execution_count": 42,
   "metadata": {},
   "outputs": [
    {
     "data": {
      "text/plain": [
       "'<Idle|MPos:-248.293,-102.145,-1.000|Bf:15,127|FS:0,0|WCO:0.000,0.000,0.000>'"
      ]
     },
     "execution_count": 42,
     "metadata": {},
     "output_type": "execute_result"
    }
   ],
   "source": [
    "cnc = GRBL.GRBL(port=\"/dev/cnc_3018\")\n",
    "cnc.reset()\n",
    "cnc.status\n"
   ]
  },
  {
   "cell_type": "code",
   "execution_count": 43,
   "metadata": {},
   "outputs": [
    {
     "data": {
      "text/plain": [
       "18"
      ]
     },
     "execution_count": 43,
     "metadata": {},
     "output_type": "execute_result"
    }
   ],
   "source": [
    "cnc.home()\n"
   ]
  },
  {
   "cell_type": "code",
   "execution_count": 19,
   "metadata": {},
   "outputs": [],
   "source": [
    "def init():\n",
    "    program = GCode.GCode()\n",
    "    program.G0(F=500)\n",
    "    program.G1(F=300)\n",
    "    program.M3(S=1)\n",
    "    program.G28()\n",
    "    program.G21()  # Metric Units\n",
    "    program.G90()  # Absolute positioning.\n",
    "    program.G92(X=0, Y=0)\n",
    "    program.M5()\n",
    "    return program\n"
   ]
  },
  {
   "cell_type": "code",
   "execution_count": 20,
   "metadata": {},
   "outputs": [
    {
     "data": {
      "text/plain": [
       "0.9432158470153809"
      ]
     },
     "execution_count": 20,
     "metadata": {},
     "output_type": "execute_result"
    }
   ],
   "source": [
    "cnc.run(init())\n"
   ]
  },
  {
   "cell_type": "code",
   "execution_count": 22,
   "metadata": {},
   "outputs": [],
   "source": [
    "# Poplar 1x4\". Cut\n",
    "BlockHeight = 89.0  # mm\n",
    "BlockLength = 2 * BlockHeight  # mm\n"
   ]
  },
  {
   "cell_type": "code",
   "execution_count": 23,
   "metadata": {},
   "outputs": [
    {
     "data": {
      "text/plain": [
       "2.3661482334136963"
      ]
     },
     "execution_count": 23,
     "metadata": {},
     "output_type": "execute_result"
    }
   ],
   "source": [
    "x0 = 10\n",
    "cnc.run(GCode.Line(points=np.array([[x0, 0], [x0, BlockHeight]]), power=100))\n"
   ]
  },
  {
   "cell_type": "code",
   "execution_count": 25,
   "metadata": {},
   "outputs": [],
   "source": [
    "y0 = BlockHeight / 2\n"
   ]
  },
  {
   "cell_type": "code",
   "execution_count": 26,
   "metadata": {},
   "outputs": [
    {
     "data": {
      "text/plain": [
       "5.330165147781372"
      ]
     },
     "execution_count": 26,
     "metadata": {},
     "output_type": "execute_result"
    }
   ],
   "source": [
    "x0 = 10\n",
    "cnc.run(GCode.Line(points=np.array([[0, y0], [BlockLength, y0]]), power=100))\n"
   ]
  },
  {
   "cell_type": "code",
   "execution_count": 29,
   "metadata": {},
   "outputs": [],
   "source": [
    "cycles = 4\n",
    "total_distance = BlockLength - 10  # [mm]\n",
    "wave_length = total_distance / cycles  # [mm]\n",
    "amplitude = 10\n",
    "x = np.arange(0, total_distance, 1)\n",
    "y = amplitude * np.sin(2 * np.pi * x / wave_length)\n"
   ]
  },
  {
   "cell_type": "code",
   "execution_count": 30,
   "metadata": {},
   "outputs": [],
   "source": [
    "%matplotlib inlinesns.set()"
   ]
  },
  {
   "cell_type": "code",
   "execution_count": 31,
   "metadata": {},
   "outputs": [
    {
     "data": {
      "image/png": "[encoded data removed]",
      "text/plain": [
       "<Figure size 432x288 with 1 Axes>"
      ]
     },
     "metadata": {},
     "output_type": "display_data"
    }
   ],
   "source": [
    "fig, (ax1) = plt.subplots(1, 1)\n",
    "ax1.grid(True)\n",
    "ax1.plot(x, y)\n",
    "l = ax1.lines\n"
   ]
  },
  {
   "cell_type": "code",
   "execution_count": 32,
   "metadata": {},
   "outputs": [
    {
     "data": {
      "text/plain": [
       "array([ 10.,  11.,  12.,  13.,  14.,  15.,  16.,  17.,  18.,  19.,  20.,\n",
       "        21.,  22.,  23.,  24.,  25.,  26.,  27.,  28.,  29.,  30.,  31.,\n",
       "        32.,  33.,  34.,  35.,  36.,  37.,  38.,  39.,  40.,  41.,  42.,\n",
       "        43.,  44.,  45.,  46.,  47.,  48.,  49.,  50.,  51.,  52.,  53.,\n",
       "        54.,  55.,  56.,  57.,  58.,  59.,  60.,  61.,  62.,  63.,  64.,\n",
       "        65.,  66.,  67.,  68.,  69.,  70.,  71.,  72.,  73.,  74.,  75.,\n",
       "        76.,  77.,  78.,  79.,  80.,  81.,  82.,  83.,  84.,  85.,  86.,\n",
       "        87.,  88.,  89.,  90.,  91.,  92.,  93.,  94.,  95.,  96.,  97.,\n",
       "        98.,  99., 100., 101., 102., 103., 104., 105., 106., 107., 108.,\n",
       "       109., 110., 111., 112., 113., 114., 115., 116., 117., 118., 119.,\n",
       "       120., 121., 122., 123., 124., 125., 126., 127., 128., 129., 130.,\n",
       "       131., 132., 133., 134., 135., 136., 137., 138., 139., 140., 141.,\n",
       "       142., 143., 144., 145., 146., 147., 148., 149., 150., 151., 152.,\n",
       "       153., 154., 155., 156., 157., 158., 159., 160., 161., 162., 163.,\n",
       "       164., 165., 166., 167., 168., 169., 170., 171., 172., 173., 174.,\n",
       "       175., 176., 177.])"
      ]
     },
     "execution_count": 32,
     "metadata": {},
     "output_type": "execute_result"
    }
   ],
   "source": [
    "x + x0\n"
   ]
  },
  {
   "cell_type": "code",
   "execution_count": 33,
   "metadata": {},
   "outputs": [
    {
     "data": {
      "text/plain": [
       "array([44.5       , 45.99042266, 47.44755174, 48.83883739, 50.13320058,\n",
       "       51.30172738, 52.31831482, 53.16025404, 53.80873749, 54.24927912,\n",
       "       54.47203797, 54.47203797, 54.24927912, 53.80873749, 53.16025404,\n",
       "       52.31831482, 51.30172738, 50.13320058, 48.83883739, 47.44755174,\n",
       "       45.99042266, 44.5       , 43.00957734, 41.55244826, 40.16116261,\n",
       "       38.86679942, 37.69827262, 36.68168518, 35.83974596, 35.19126251,\n",
       "       34.75072088, 34.52796203, 34.52796203, 34.75072088, 35.19126251,\n",
       "       35.83974596, 36.68168518, 37.69827262, 38.86679942, 40.16116261,\n",
       "       41.55244826, 43.00957734, 44.5       , 45.99042266, 47.44755174,\n",
       "       48.83883739, 50.13320058, 51.30172738, 52.31831482, 53.16025404,\n",
       "       53.80873749, 54.24927912, 54.47203797, 54.47203797, 54.24927912,\n",
       "       53.80873749, 53.16025404, 52.31831482, 51.30172738, 50.13320058,\n",
       "       48.83883739, 47.44755174, 45.99042266, 44.5       , 43.00957734,\n",
       "       41.55244826, 40.16116261, 38.86679942, 37.69827262, 36.68168518,\n",
       "       35.83974596, 35.19126251, 34.75072088, 34.52796203, 34.52796203,\n",
       "       34.75072088, 35.19126251, 35.83974596, 36.68168518, 37.69827262,\n",
       "       38.86679942, 40.16116261, 41.55244826, 43.00957734, 44.5       ,\n",
       "       45.99042266, 47.44755174, 48.83883739, 50.13320058, 51.30172738,\n",
       "       52.31831482, 53.16025404, 53.80873749, 54.24927912, 54.47203797,\n",
       "       54.47203797, 54.24927912, 53.80873749, 53.16025404, 52.31831482,\n",
       "       51.30172738, 50.13320058, 48.83883739, 47.44755174, 45.99042266,\n",
       "       44.5       , 43.00957734, 41.55244826, 40.16116261, 38.86679942,\n",
       "       37.69827262, 36.68168518, 35.83974596, 35.19126251, 34.75072088,\n",
       "       34.52796203, 34.52796203, 34.75072088, 35.19126251, 35.83974596,\n",
       "       36.68168518, 37.69827262, 38.86679942, 40.16116261, 41.55244826,\n",
       "       43.00957734, 44.5       , 45.99042266, 47.44755174, 48.83883739,\n",
       "       50.13320058, 51.30172738, 52.31831482, 53.16025404, 53.80873749,\n",
       "       54.24927912, 54.47203797, 54.47203797, 54.24927912, 53.80873749,\n",
       "       53.16025404, 52.31831482, 51.30172738, 50.13320058, 48.83883739,\n",
       "       47.44755174, 45.99042266, 44.5       , 43.00957734, 41.55244826,\n",
       "       40.16116261, 38.86679942, 37.69827262, 36.68168518, 35.83974596,\n",
       "       35.19126251, 34.75072088, 34.52796203, 34.52796203, 34.75072088,\n",
       "       35.19126251, 35.83974596, 36.68168518, 37.69827262, 38.86679942,\n",
       "       40.16116261, 41.55244826, 43.00957734])"
      ]
     },
     "execution_count": 33,
     "metadata": {},
     "output_type": "execute_result"
    }
   ],
   "source": [
    "y + y0\n"
   ]
  },
  {
   "cell_type": "code",
   "execution_count": 34,
   "metadata": {},
   "outputs": [],
   "source": [
    "X = x + x0\n",
    "Y = y + y0\n"
   ]
  },
  {
   "cell_type": "code",
   "execution_count": 35,
   "metadata": {},
   "outputs": [
    {
     "data": {
      "text/plain": [
       "[<matplotlib.lines.Line2D at 0x7efddcfc6518>,\n",
       " <matplotlib.lines.Line2D at 0x7efddcf89b00>]"
      ]
     },
     "execution_count": 35,
     "metadata": {},
     "output_type": "execute_result"
    },
    {
     "data": {
      "image/png": "[encoded data removed]",
      "text/plain": [
       "<Figure size 432x288 with 1 Axes>"
      ]
     },
     "metadata": {},
     "output_type": "display_data"
    }
   ],
   "source": [
    "fig, (ax1) = plt.subplots(1, 1)\n",
    "ax1.grid(True)\n",
    "ax1.plot(x, y, X, Y)\n"
   ]
  },
  {
   "cell_type": "code",
   "execution_count": 44,
   "metadata": {},
   "outputs": [],
   "source": [
    "prog = GCode.GCode()\n",
    "prog.G28()\n",
    "for x, y in zip(X, Y):\n",
    "    break\n"
   ]
  },
  {
   "cell_type": "code",
   "execution_count": 47,
   "metadata": {},
   "outputs": [],
   "source": [
    "prog = GCode.GCode()\n",
    "prog.M3(S=255)\n",
    "prog.G1(X=x, Y=y)\n"
   ]
  },
  {
   "cell_type": "code",
   "execution_count": 48,
   "metadata": {},
   "outputs": [
    {
     "data": {
      "text/html": [
       "<b>M3</b> <i>S255</i><br>\n",
       "<b>G1</b> <i>X10.0 Y44.5</i>"
      ],
      "text/plain": [
       "<GCode>[cmds=2]"
      ]
     },
     "execution_count": 48,
     "metadata": {},
     "output_type": "execute_result"
    }
   ],
   "source": [
    "prog\n"
   ]
  },
  {
   "cell_type": "code",
   "execution_count": 49,
   "metadata": {},
   "outputs": [
    {
     "data": {
      "text/plain": [
       "5.145188331604004"
      ]
     },
     "execution_count": 49,
     "metadata": {},
     "output_type": "execute_result"
    }
   ],
   "source": [
    "cnc.run(init())\n"
   ]
  },
  {
   "cell_type": "code",
   "execution_count": 51,
   "metadata": {},
   "outputs": [
    {
     "data": {
      "text/plain": [
       "0.32056331634521484"
      ]
     },
     "execution_count": 51,
     "metadata": {},
     "output_type": "execute_result"
    }
   ],
   "source": [
    "cnc.run(prog)\n"
   ]
  },
  {
   "cell_type": "code",
   "execution_count": 52,
   "metadata": {},
   "outputs": [
    {
     "data": {
      "text/plain": [
       "['ok', 'ok']"
      ]
     },
     "execution_count": 52,
     "metadata": {},
     "output_type": "execute_result"
    }
   ],
   "source": [
    "cnc.cmd(\"M5\")\n"
   ]
  },
  {
   "cell_type": "code",
   "execution_count": 55,
   "metadata": {},
   "outputs": [],
   "source": [
    "prog = GCode.GCode()\n",
    "prog.G28()\n",
    "prog.M3(S=255)\n",
    "prog.G0(X=X[0], Y=Y[0])\n",
    "for x, y in zip(X, Y):\n",
    "    prog.G1(X=x, Y=y)\n",
    "prog.M5()\n",
    "prog.G28()\n"
   ]
  },
  {
   "cell_type": "code",
   "execution_count": 54,
   "metadata": {},
   "outputs": [
    {
     "data": {
      "text/plain": [
       "54.44862771034241"
      ]
     },
     "execution_count": 54,
     "metadata": {},
     "output_type": "execute_result"
    }
   ],
   "source": [
    "cnc.run(prog)\n"
   ]
  }
 ],
 "metadata": {
  "kernelspec": {
   "display_name": "Python 3",
   "language": "python",
   "name": "python3"
  },
  "language_info": {
   "codemirror_mode": {
    "name": "ipython",
    "version": 3
   },
   "file_extension": ".py",
   "mimetype": "text/x-python",
   "name": "python",
   "nbconvert_exporter": "python",
   "pygments_lexer": "ipython3",
   "version": "3.6.5"
  }
 },
 "nbformat": 4,
 "nbformat_minor": 2
}
