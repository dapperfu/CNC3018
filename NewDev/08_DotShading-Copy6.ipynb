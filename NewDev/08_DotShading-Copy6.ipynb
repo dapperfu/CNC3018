{
 "cells": [
  {
   "cell_type": "code",
   "execution_count": 1,
   "metadata": {},
   "outputs": [],
   "source": [
    "import configparser\n",
    "import os\n",
    "import sys\n",
    "from time import sleep\n",
    "from uuid import uuid4\n",
    "\n",
    "import numpy as np\n",
    "\n",
    "import GCode\n",
    "import GRBL"
   ]
  },
  {
   "cell_type": "markdown",
   "metadata": {},
   "source": [
    "#"
   ]
  },
  {
   "cell_type": "markdown",
   "metadata": {},
   "source": [
    "# Code:"
   ]
  },
  {
   "cell_type": "code",
   "execution_count": 2,
   "metadata": {},
   "outputs": [
    {
     "name": "stdout",
     "output_type": "stream",
     "text": [
      "68.0 x 143 x 19.0\n"
     ]
    }
   ],
   "source": [
    "# Poplar 1x4\". Cut\n",
    "BlockHeight = 68.0  # [mm]\n",
    "BlockLength = 143  # [mm]\n",
    "BlockThickness = 19.0  # [mm]\n",
    "print(\"{} x {} x {}\".format(BlockHeight, BlockLength, BlockThickness))\n"
   ]
  },
  {
   "cell_type": "code",
   "execution_count": 3,
   "metadata": {},
   "outputs": [
    {
     "data": {
      "text/plain": [
       "(7, ['', \"Grbl 1.1f ['$' for help]\", \"[MSG:'$H'|'$X' to unlock]\"])"
      ]
     },
     "execution_count": 3,
     "metadata": {},
     "output_type": "execute_result"
    }
   ],
   "source": [
    "config = configparser.ConfigParser()\n",
    "config[\"GRBL\"] = dict()\n",
    "config[\"GRBL\"][\"port\"] = \"/dev/cnc_3018\"\n",
    "cnc = GRBL.GRBL(**config[\"GRBL\"])\n",
    "\n",
    "cnc.reset()"
   ]
  },
  {
   "cell_type": "code",
   "execution_count": 7,
   "metadata": {},
   "outputs": [
    {
     "data": {
      "text/plain": [
       "14"
      ]
     },
     "execution_count": 7,
     "metadata": {},
     "output_type": "execute_result"
    }
   ],
   "source": [
    "cnc.home()"
   ]
  },
  {
   "cell_type": "code",
   "execution_count": 4,
   "metadata": {
    "collapsed": true
   },
   "outputs": [],
   "source": [
    "if \"Alarm\" in cnc.status:\n",
    "    cnc.home()"
   ]
  },
  {
   "cell_type": "code",
   "execution_count": 8,
   "metadata": {},
   "outputs": [
    {
     "data": {
      "text/plain": [
       "True"
      ]
     },
     "execution_count": 8,
     "metadata": {},
     "output_type": "execute_result"
    }
   ],
   "source": [
    "cnc.init()"
   ]
  },
  {
   "cell_type": "code",
   "execution_count": 9,
   "metadata": {
    "scrolled": true
   },
   "outputs": [
    {
     "data": {
      "text/plain": [
       "'<Idle|MPos:-255.900,-136.000,-1.000|Bf:15,127|FS:0,0|Ov:100,100,100>'"
      ]
     },
     "execution_count": 9,
     "metadata": {},
     "output_type": "execute_result"
    }
   ],
   "source": [
    "cnc.status"
   ]
  },
  {
   "cell_type": "markdown",
   "metadata": {},
   "source": [
    "# Generate Program\n"
   ]
  },
  {
   "cell_type": "code",
   "execution_count": 13,
   "metadata": {},
   "outputs": [],
   "source": [
    "def dot(X=10, Y=10, Z=0, power=1, dwell=1, **kwargs):\n",
    "    program = GCode.GCode(**kwargs)\n",
    "    \n",
    "    program.G0(X=X, Y=Y, Z=Z)\n",
    "    program.M3(S=power)\n",
    "    program.G1(Z=Z, Y=Y, X=X)\n",
    "    program.G4(P=dwell)\n",
    "    program.M5()  # Laser. Off.\n",
    "\n",
    "    return program\n",
    "\n",
    "def dot_grid(X=(0, 10), Y=(0, 10), Z=0, n=3, power=1, dwell=1, **kwargs):\n",
    "    XX = np.linspace(X[0], X[1], n, endpoint=True)\n",
    "    YY = np.linspace(Y[0], Y[1], n, endpoint=True)\n",
    "    XXX, YYY = np.meshgrid(XX, YY)\n",
    "    program = GCode.GCode(**kwargs)\n",
    "    \n",
    "    for XXX_, YYY_ in zip(XXX, YYY):\n",
    "        for X, Y in zip(XXX_, YYY_):\n",
    "            program+=dot(X=X, Y=Y, Z=Z, power=power, dwell=dwell)\n",
    "    return program\n",
    "\n",
    "def dot(X=10, Y=10, Z=0, power=1, dwell=1, **kwargs):\n",
    "    program = GCode.GCode(**kwargs)\n",
    "    \n",
    "    program.G0(X=X, Y=Y, Z=Z)\n",
    "    program.M3(S=power)\n",
    "    program.G1(Z=Z, Y=Y, X=X)\n",
    "    program.G4(P=dwell)\n",
    "    program.M5()  # Laser. Off.\n",
    "\n",
    "    return program\n",
    "\n",
    "def dot_grid(XX=(0, 10), YY=(0, 10), Z=0, power=1, dwell=1, **kwargs):\n",
    "    XXX, YYY = np.meshgrid(XX, YY)\n",
    "    program = GCode.GCode(**kwargs)\n",
    "    \n",
    "    for XXX_, YYY_ in zip(XXX, YYY):\n",
    "        for X, Y in zip(XXX_, YYY_):\n",
    "            program+=dot(X=X, Y=Y, Z=Z, power=power, dwell=dwell)\n",
    "    return program"
   ]
  },
  {
   "cell_type": "code",
   "execution_count": 14,
   "metadata": {},
   "outputs": [
    {
     "data": {
      "text/html": [
       "<b>G0</b> <i>X0 Y0 Z0</i><br>\n",
       "<b>M3</b> <i>S1</i><br>\n",
       "<b>G1</b> <i>Z0 Y0 X0</i><br>\n",
       "<b>G4</b> <i>P1</i><br>\n",
       "<b>M5</b> <i></i><br>\n",
       "<b>G0</b> <i>X10 Y0 Z0</i><br>\n",
       "<b>M3</b> <i>S1</i><br>\n",
       "<b>G1</b> <i>Z0 Y0 X10</i><br>\n",
       "<b>G4</b> <i>P1</i><br>\n",
       "<b>M5</b> <i></i><br>\n",
       "<b>G0</b> <i>X0 Y10 Z0</i><br>\n",
       "<b>M3</b> <i>S1</i><br>\n",
       "<b>G1</b> <i>Z0 Y10 X0</i><br>\n",
       "<b>G4</b> <i>P1</i><br>\n",
       "<b>M5</b> <i></i><br>\n",
       "<b>G0</b> <i>X10 Y10 Z0</i><br>\n",
       "<b>M3</b> <i>S1</i><br>\n",
       "<b>G1</b> <i>Z0 Y10 X10</i><br>\n",
       "<b>G4</b> <i>P1</i><br>\n",
       "<b>M5</b> <i></i>"
      ],
      "text/plain": [
       "<GCode>[cmds=20]"
      ]
     },
     "execution_count": 14,
     "metadata": {},
     "output_type": "execute_result"
    }
   ],
   "source": [
    "dot_grid()"
   ]
  },
  {
   "cell_type": "code",
   "execution_count": 34,
   "metadata": {},
   "outputs": [],
   "source": [
    "spacings=[0.1, 0.1, 1, 2, 5]"
   ]
  },
  {
   "cell_type": "code",
   "execution_count": 35,
   "metadata": {},
   "outputs": [
    {
     "data": {
      "text/plain": [
       "[0.1, 0.1, 1, 2, 5]"
      ]
     },
     "execution_count": 35,
     "metadata": {},
     "output_type": "execute_result"
    }
   ],
   "source": [
    "spacings"
   ]
  },
  {
   "cell_type": "code",
   "execution_count": 38,
   "metadata": {},
   "outputs": [],
   "source": [
    "for spacing in spacings:\n",
    "    break"
   ]
  },
  {
   "cell_type": "code",
   "execution_count": 39,
   "metadata": {},
   "outputs": [
    {
     "data": {
      "text/plain": [
       "array([10. , 10.1, 10.2, 10.3, 10.4, 10.5, 10.6, 10.7, 10.8, 10.9, 11. ,\n",
       "       11.1, 11.2, 11.3, 11.4, 11.5, 11.6, 11.7, 11.8, 11.9, 12. , 12.1,\n",
       "       12.2, 12.3, 12.4, 12.5, 12.6, 12.7, 12.8, 12.9, 13. , 13.1, 13.2,\n",
       "       13.3, 13.4, 13.5, 13.6, 13.7, 13.8, 13.9, 14. , 14.1, 14.2, 14.3,\n",
       "       14.4, 14.5, 14.6, 14.7, 14.8, 14.9])"
      ]
     },
     "execution_count": 39,
     "metadata": {},
     "output_type": "execute_result"
    }
   ],
   "source": [
    "X0=10\n",
    "XX=np.arange(X0, X0+5, spacing)\n",
    "XX"
   ]
  },
  {
   "cell_type": "code",
   "execution_count": 40,
   "metadata": {},
   "outputs": [
    {
     "data": {
      "text/plain": [
       "array([10. , 10.1, 10.2, 10.3, 10.4, 10.5, 10.6, 10.7, 10.8, 10.9, 11. ,\n",
       "       11.1, 11.2, 11.3, 11.4, 11.5, 11.6, 11.7, 11.8, 11.9, 12. , 12.1,\n",
       "       12.2, 12.3, 12.4, 12.5, 12.6, 12.7, 12.8, 12.9, 13. , 13.1, 13.2,\n",
       "       13.3, 13.4, 13.5, 13.6, 13.7, 13.8, 13.9, 14. , 14.1, 14.2, 14.3,\n",
       "       14.4, 14.5, 14.6, 14.7, 14.8, 14.9])"
      ]
     },
     "execution_count": 40,
     "metadata": {},
     "output_type": "execute_result"
    }
   ],
   "source": [
    "Y0=10\n",
    "YY=np.arange(Y0, Y0+5, spacing)\n",
    "YY"
   ]
  },
  {
   "cell_type": "code",
   "execution_count": 41,
   "metadata": {},
   "outputs": [],
   "source": [
    "program = dot_grid(XX=XX, YY=YY, Z=-14, power=255, dwell=1)"
   ]
  },
  {
   "cell_type": "code",
   "execution_count": 42,
   "metadata": {},
   "outputs": [],
   "source": [
    "program.machine=cnc"
   ]
  },
  {
   "cell_type": "code",
   "execution_count": 43,
   "metadata": {},
   "outputs": [],
   "source": [
    "program.run()"
   ]
  },
  {
   "cell_type": "code",
   "execution_count": null,
   "metadata": {},
   "outputs": [],
   "source": []
  }
 ],
 "metadata": {
  "kernelspec": {
   "display_name": "Python 3",
   "language": "python",
   "name": "python3"
  },
  "language_info": {
   "codemirror_mode": {
    "name": "ipython",
    "version": 3
   },
   "file_extension": ".py",
   "mimetype": "text/x-python",
   "name": "python",
   "nbconvert_exporter": "python",
   "pygments_lexer": "ipython3",
   "version": "3.6.6"
  }
 },
 "nbformat": 4,
 "nbformat_minor": 2
}
