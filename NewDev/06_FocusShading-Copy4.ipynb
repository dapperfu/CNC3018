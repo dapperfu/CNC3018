{
 "cells": [
  {
   "cell_type": "code",
   "execution_count": 1,
   "metadata": {},
   "outputs": [],
   "source": [
    "import configparser\n",
    "import os\n",
    "import sys\n",
    "from time import sleep\n",
    "from uuid import uuid4\n",
    "\n",
    "import numpy as np\n",
    "\n",
    "import GCode\n",
    "import GRBL"
   ]
  },
  {
   "cell_type": "markdown",
   "metadata": {},
   "source": [
    "# Laser Shading By adjusting focus on the Z-axis"
   ]
  },
  {
   "cell_type": "markdown",
   "metadata": {},
   "source": [
    "# Code:"
   ]
  },
  {
   "cell_type": "code",
   "execution_count": 2,
   "metadata": {},
   "outputs": [
    {
     "name": "stdout",
     "output_type": "stream",
     "text": [
      "89.0 x 178.0 x 19.0\n"
     ]
    }
   ],
   "source": [
    "# Poplar 1x4\". Cut\n",
    "BlockHeight = 89.0  # [mm]\n",
    "BlockLength = 2 * BlockHeight  # [mm]\n",
    "BlockThickness = 19.0  # [mm]\n",
    "print(\"{} x {} x {}\".format(BlockHeight, BlockLength, BlockThickness))\n"
   ]
  },
  {
   "cell_type": "code",
   "execution_count": 3,
   "metadata": {},
   "outputs": [
    {
     "name": "stdout",
     "output_type": "stream",
     "text": [
      "Homing.\n"
     ]
    }
   ],
   "source": [
    "config = configparser.ConfigParser()\n",
    "config[\"GRBL\"] = dict()\n",
    "config[\"GRBL\"][\"port\"] = \"/dev/cnc_3018\"\n",
    "cnc = GRBL.GRBL(**config[\"GRBL\"])\n",
    "\n",
    "cnc.reset(home=True)\n",
    "\n",
    "if \"Alarm\" in cnc.status:\n",
    "    print(\"Homing.\")\n",
    "    cnc.home()\n"
   ]
  },
  {
   "cell_type": "markdown",
   "metadata": {},
   "source": [
    "# Generate Program\n",
    "\n",
    "Generate the G-code program that will test how the laser focus affects shading.\n",
    "\n",
    "- Laser 'focused' at -14mm.\n",
    "- Testing 17 positions between [-28, 0]\n",
    "- Testing 3 different feed rates [100, 200, 300]\n",
    "- Testing 5 different power settings between [100, 255]"
   ]
  },
  {
   "cell_type": "code",
   "execution_count": 4,
   "metadata": {},
   "outputs": [
    {
     "data": {
      "text/plain": [
       "array([ 5., 10., 15., 20., 25., 30., 35., 40., 45., 50., 55., 60., 65.,\n",
       "       70., 75., 80., 85.])"
      ]
     },
     "execution_count": 4,
     "metadata": {},
     "output_type": "execute_result"
    }
   ],
   "source": [
    "# Define a gap between horizontal lines\n",
    "vgap = 5  # [mm]\n",
    "# Generate a list of horizontal line vertical coordinates\n",
    "vs = np.arange(vgap, BlockHeight, vgap)\n",
    "vs\n"
   ]
  },
  {
   "cell_type": "code",
   "execution_count": 5,
   "metadata": {},
   "outputs": [
    {
     "data": {
      "text/plain": [
       "array([  0.,  10.,  20.,  30.,  40.,  50.,  60.,  70.,  80.,  90., 100.,\n",
       "       110., 120., 130., 140., 150., 160., 170.])"
      ]
     },
     "execution_count": 5,
     "metadata": {},
     "output_type": "execute_result"
    }
   ],
   "source": [
    "# Define a horizontal distance to test lazerin.\n",
    "hgap = 10  # [mm]\n",
    "hs = np.arange(0, BlockLength, hgap)\n",
    "hs\n"
   ]
  },
  {
   "cell_type": "code",
   "execution_count": 9,
   "metadata": {},
   "outputs": [],
   "source": [
    "# Total travel range, starts at ztravel, ends at 0. \"negative space\"(?)\n",
    "ztravel = -28\n",
    "# Generate a number of z-axis test positions.\n",
    "# Each z-height will have 10 mm marked at the given feed rate and power.\n",
    "\n",
    "# Generate the full list of z-stops from the initial test.\n",
    "zs_ = np.linspace(start=ztravel, stop=0, num=len(hs) - 1, endpoint=True)\n",
    "\n",
    "zs = np.linspace(start=zs_[5], stop=zs_[13], num=len(hs) - 1, endpoint=True)\n"
   ]
  },
  {
   "cell_type": "code",
   "execution_count": 8,
   "metadata": {},
   "outputs": [
    {
     "data": {
      "text/plain": [
       "-5.25"
      ]
     },
     "execution_count": 8,
     "metadata": {},
     "output_type": "execute_result"
    }
   ],
   "source": []
  },
  {
   "cell_type": "code",
   "execution_count": 8,
   "metadata": {},
   "outputs": [
    {
     "data": {
      "text/plain": [
       "array([255, 216, 177, 138, 100], dtype=uint8)"
      ]
     },
     "execution_count": 8,
     "metadata": {},
     "output_type": "execute_result"
    }
   ],
   "source": [
    "-# Laser powers to test.\n",
    "powers = np.linspace(255, 100, 5, endpoint=True, dtype=np.uint8)\n",
    "powers\n"
   ]
  },
  {
   "cell_type": "code",
   "execution_count": 9,
   "metadata": {},
   "outputs": [],
   "source": [
    "def init2(**kwargs):\n",
    "    program = GCode.GCode(**kwargs)\n",
    "    program.G0(F=500)\n",
    "    program.G1(F=500)\n",
    "    program.G21()  # Metric Units\n",
    "    program.G90()  # Absolute positioning.\n",
    "    return program\n"
   ]
  },
  {
   "cell_type": "code",
   "execution_count": 12,
   "metadata": {},
   "outputs": [],
   "source": [
    "feeds = [100, 300, 200]\n",
    "programs = list()\n",
    "for idx1, feed in enumerate(feeds):  # [mm/min]\n",
    "    for idx2, power in enumerate(powers):\n",
    "\n",
    "        v_idx = idx1 * len(feeds) + idx2\n",
    "        Y = vs[v_idx]\n",
    "        for idx3, z in enumerate(zs):\n",
    "            x0 = hs[idx3]\n",
    "            xf = hs[idx3 + 1]\n",
    "\n",
    "            program = init2(machine=cnc)\n",
    "            program.G0(Z=z, Y=Y, X=x0)\n",
    "            program.M4(S=power)\n",
    "            program.G1(X=xf, Y=Y, Z=z, F=feed)\n",
    "            program.M5()  # Laser. Off.\n",
    "            programs.append(program)\n"
   ]
  },
  {
   "cell_type": "code",
   "execution_count": 13,
   "metadata": {},
   "outputs": [
    {
     "data": {
      "text/plain": [
       "[<GCode>[cmds=8],\n",
       " <GCode>[cmds=8],\n",
       " <GCode>[cmds=8],\n",
       " <GCode>[cmds=8],\n",
       " <GCode>[cmds=8],\n",
       " <GCode>[cmds=8],\n",
       " <GCode>[cmds=8],\n",
       " <GCode>[cmds=8],\n",
       " <GCode>[cmds=8],\n",
       " <GCode>[cmds=8],\n",
       " <GCode>[cmds=8],\n",
       " <GCode>[cmds=8],\n",
       " <GCode>[cmds=8],\n",
       " <GCode>[cmds=8],\n",
       " <GCode>[cmds=8],\n",
       " <GCode>[cmds=8],\n",
       " <GCode>[cmds=8],\n",
       " <GCode>[cmds=8],\n",
       " <GCode>[cmds=8],\n",
       " <GCode>[cmds=8],\n",
       " <GCode>[cmds=8],\n",
       " <GCode>[cmds=8],\n",
       " <GCode>[cmds=8],\n",
       " <GCode>[cmds=8],\n",
       " <GCode>[cmds=8],\n",
       " <GCode>[cmds=8],\n",
       " <GCode>[cmds=8],\n",
       " <GCode>[cmds=8],\n",
       " <GCode>[cmds=8],\n",
       " <GCode>[cmds=8],\n",
       " <GCode>[cmds=8],\n",
       " <GCode>[cmds=8],\n",
       " <GCode>[cmds=8],\n",
       " <GCode>[cmds=8],\n",
       " <GCode>[cmds=8],\n",
       " <GCode>[cmds=8],\n",
       " <GCode>[cmds=8],\n",
       " <GCode>[cmds=8],\n",
       " <GCode>[cmds=8],\n",
       " <GCode>[cmds=8],\n",
       " <GCode>[cmds=8],\n",
       " <GCode>[cmds=8],\n",
       " <GCode>[cmds=8],\n",
       " <GCode>[cmds=8],\n",
       " <GCode>[cmds=8],\n",
       " <GCode>[cmds=8],\n",
       " <GCode>[cmds=8],\n",
       " <GCode>[cmds=8],\n",
       " <GCode>[cmds=8],\n",
       " <GCode>[cmds=8],\n",
       " <GCode>[cmds=8],\n",
       " <GCode>[cmds=8],\n",
       " <GCode>[cmds=8],\n",
       " <GCode>[cmds=8],\n",
       " <GCode>[cmds=8],\n",
       " <GCode>[cmds=8],\n",
       " <GCode>[cmds=8],\n",
       " <GCode>[cmds=8],\n",
       " <GCode>[cmds=8],\n",
       " <GCode>[cmds=8],\n",
       " <GCode>[cmds=8],\n",
       " <GCode>[cmds=8],\n",
       " <GCode>[cmds=8],\n",
       " <GCode>[cmds=8],\n",
       " <GCode>[cmds=8],\n",
       " <GCode>[cmds=8],\n",
       " <GCode>[cmds=8],\n",
       " <GCode>[cmds=8],\n",
       " <GCode>[cmds=8],\n",
       " <GCode>[cmds=8],\n",
       " <GCode>[cmds=8],\n",
       " <GCode>[cmds=8],\n",
       " <GCode>[cmds=8],\n",
       " <GCode>[cmds=8],\n",
       " <GCode>[cmds=8],\n",
       " <GCode>[cmds=8],\n",
       " <GCode>[cmds=8],\n",
       " <GCode>[cmds=8],\n",
       " <GCode>[cmds=8],\n",
       " <GCode>[cmds=8],\n",
       " <GCode>[cmds=8],\n",
       " <GCode>[cmds=8],\n",
       " <GCode>[cmds=8],\n",
       " <GCode>[cmds=8],\n",
       " <GCode>[cmds=8],\n",
       " <GCode>[cmds=8],\n",
       " <GCode>[cmds=8],\n",
       " <GCode>[cmds=8],\n",
       " <GCode>[cmds=8],\n",
       " <GCode>[cmds=8],\n",
       " <GCode>[cmds=8],\n",
       " <GCode>[cmds=8],\n",
       " <GCode>[cmds=8],\n",
       " <GCode>[cmds=8],\n",
       " <GCode>[cmds=8],\n",
       " <GCode>[cmds=8],\n",
       " <GCode>[cmds=8],\n",
       " <GCode>[cmds=8],\n",
       " <GCode>[cmds=8],\n",
       " <GCode>[cmds=8],\n",
       " <GCode>[cmds=8],\n",
       " <GCode>[cmds=8],\n",
       " <GCode>[cmds=8],\n",
       " <GCode>[cmds=8],\n",
       " <GCode>[cmds=8],\n",
       " <GCode>[cmds=8],\n",
       " <GCode>[cmds=8],\n",
       " <GCode>[cmds=8],\n",
       " <GCode>[cmds=8],\n",
       " <GCode>[cmds=8],\n",
       " <GCode>[cmds=8],\n",
       " <GCode>[cmds=8],\n",
       " <GCode>[cmds=8],\n",
       " <GCode>[cmds=8],\n",
       " <GCode>[cmds=8],\n",
       " <GCode>[cmds=8],\n",
       " <GCode>[cmds=8],\n",
       " <GCode>[cmds=8],\n",
       " <GCode>[cmds=8],\n",
       " <GCode>[cmds=8],\n",
       " <GCode>[cmds=8],\n",
       " <GCode>[cmds=8],\n",
       " <GCode>[cmds=8],\n",
       " <GCode>[cmds=8],\n",
       " <GCode>[cmds=8],\n",
       " <GCode>[cmds=8],\n",
       " <GCode>[cmds=8],\n",
       " <GCode>[cmds=8],\n",
       " <GCode>[cmds=8],\n",
       " <GCode>[cmds=8],\n",
       " <GCode>[cmds=8],\n",
       " <GCode>[cmds=8],\n",
       " <GCode>[cmds=8],\n",
       " <GCode>[cmds=8],\n",
       " <GCode>[cmds=8],\n",
       " <GCode>[cmds=8],\n",
       " <GCode>[cmds=8],\n",
       " <GCode>[cmds=8],\n",
       " <GCode>[cmds=8],\n",
       " <GCode>[cmds=8],\n",
       " <GCode>[cmds=8],\n",
       " <GCode>[cmds=8],\n",
       " <GCode>[cmds=8],\n",
       " <GCode>[cmds=8],\n",
       " <GCode>[cmds=8],\n",
       " <GCode>[cmds=8],\n",
       " <GCode>[cmds=8],\n",
       " <GCode>[cmds=8],\n",
       " <GCode>[cmds=8],\n",
       " <GCode>[cmds=8],\n",
       " <GCode>[cmds=8],\n",
       " <GCode>[cmds=8],\n",
       " <GCode>[cmds=8],\n",
       " <GCode>[cmds=8],\n",
       " <GCode>[cmds=8],\n",
       " <GCode>[cmds=8],\n",
       " <GCode>[cmds=8],\n",
       " <GCode>[cmds=8],\n",
       " <GCode>[cmds=8],\n",
       " <GCode>[cmds=8],\n",
       " <GCode>[cmds=8],\n",
       " <GCode>[cmds=8],\n",
       " <GCode>[cmds=8],\n",
       " <GCode>[cmds=8],\n",
       " <GCode>[cmds=8],\n",
       " <GCode>[cmds=8],\n",
       " <GCode>[cmds=8],\n",
       " <GCode>[cmds=8],\n",
       " <GCode>[cmds=8],\n",
       " <GCode>[cmds=8],\n",
       " <GCode>[cmds=8],\n",
       " <GCode>[cmds=8],\n",
       " <GCode>[cmds=8],\n",
       " <GCode>[cmds=8],\n",
       " <GCode>[cmds=8],\n",
       " <GCode>[cmds=8],\n",
       " <GCode>[cmds=8],\n",
       " <GCode>[cmds=8],\n",
       " <GCode>[cmds=8],\n",
       " <GCode>[cmds=8],\n",
       " <GCode>[cmds=8],\n",
       " <GCode>[cmds=8],\n",
       " <GCode>[cmds=8],\n",
       " <GCode>[cmds=8],\n",
       " <GCode>[cmds=8],\n",
       " <GCode>[cmds=8],\n",
       " <GCode>[cmds=8],\n",
       " <GCode>[cmds=8],\n",
       " <GCode>[cmds=8],\n",
       " <GCode>[cmds=8],\n",
       " <GCode>[cmds=8],\n",
       " <GCode>[cmds=8],\n",
       " <GCode>[cmds=8],\n",
       " <GCode>[cmds=8],\n",
       " <GCode>[cmds=8],\n",
       " <GCode>[cmds=8],\n",
       " <GCode>[cmds=8],\n",
       " <GCode>[cmds=8],\n",
       " <GCode>[cmds=8],\n",
       " <GCode>[cmds=8],\n",
       " <GCode>[cmds=8],\n",
       " <GCode>[cmds=8],\n",
       " <GCode>[cmds=8],\n",
       " <GCode>[cmds=8],\n",
       " <GCode>[cmds=8],\n",
       " <GCode>[cmds=8],\n",
       " <GCode>[cmds=8],\n",
       " <GCode>[cmds=8],\n",
       " <GCode>[cmds=8],\n",
       " <GCode>[cmds=8],\n",
       " <GCode>[cmds=8],\n",
       " <GCode>[cmds=8],\n",
       " <GCode>[cmds=8],\n",
       " <GCode>[cmds=8],\n",
       " <GCode>[cmds=8],\n",
       " <GCode>[cmds=8],\n",
       " <GCode>[cmds=8],\n",
       " <GCode>[cmds=8],\n",
       " <GCode>[cmds=8],\n",
       " <GCode>[cmds=8],\n",
       " <GCode>[cmds=8],\n",
       " <GCode>[cmds=8],\n",
       " <GCode>[cmds=8],\n",
       " <GCode>[cmds=8],\n",
       " <GCode>[cmds=8],\n",
       " <GCode>[cmds=8],\n",
       " <GCode>[cmds=8],\n",
       " <GCode>[cmds=8],\n",
       " <GCode>[cmds=8],\n",
       " <GCode>[cmds=8],\n",
       " <GCode>[cmds=8],\n",
       " <GCode>[cmds=8],\n",
       " <GCode>[cmds=8],\n",
       " <GCode>[cmds=8],\n",
       " <GCode>[cmds=8],\n",
       " <GCode>[cmds=8],\n",
       " <GCode>[cmds=8],\n",
       " <GCode>[cmds=8],\n",
       " <GCode>[cmds=8],\n",
       " <GCode>[cmds=8],\n",
       " <GCode>[cmds=8],\n",
       " <GCode>[cmds=8],\n",
       " <GCode>[cmds=8],\n",
       " <GCode>[cmds=8],\n",
       " <GCode>[cmds=8],\n",
       " <GCode>[cmds=8],\n",
       " <GCode>[cmds=8],\n",
       " <GCode>[cmds=8],\n",
       " <GCode>[cmds=8],\n",
       " <GCode>[cmds=8],\n",
       " <GCode>[cmds=8],\n",
       " <GCode>[cmds=8],\n",
       " <GCode>[cmds=8],\n",
       " <GCode>[cmds=8],\n",
       " <GCode>[cmds=8]]"
      ]
     },
     "execution_count": 13,
     "metadata": {},
     "output_type": "execute_result"
    }
   ],
   "source": [
    "programs\n"
   ]
  },
  {
   "cell_type": "code",
   "execution_count": 14,
   "metadata": {},
   "outputs": [
    {
     "data": {
      "text/html": [
       "<b>G0</b> <i>F500</i><br>\n",
       "<b>G1</b> <i>F500</i><br>\n",
       "<b>G21</b> <i></i><br>\n",
       "<b>G90</b> <i></i><br>\n",
       "<b>G0</b> <i>Z-28.0 Y10.0 X0.0</i><br>\n",
       "<b>M4</b> <i>S216</i><br>\n",
       "<b>G1</b> <i>X10.0 Y10.0 Z-28.0 F100</i><br>\n",
       "<b>M5</b> <i></i>"
      ],
      "text/plain": [
       "<GCode>[cmds=8]"
      ]
     },
     "execution_count": 14,
     "metadata": {},
     "output_type": "execute_result"
    }
   ],
   "source": [
    "programs[17]\n"
   ]
  },
  {
   "cell_type": "code",
   "execution_count": 16,
   "metadata": {},
   "outputs": [
    {
     "data": {
      "text/plain": [
       "-28.0"
      ]
     },
     "execution_count": 16,
     "metadata": {},
     "output_type": "execute_result"
    }
   ],
   "source": [
    "zs[0]\n"
   ]
  },
  {
   "cell_type": "code",
   "execution_count": 17,
   "metadata": {},
   "outputs": [
    {
     "data": {
      "text/plain": [
       "-19.25"
      ]
     },
     "execution_count": 17,
     "metadata": {},
     "output_type": "execute_result"
    }
   ],
   "source": [
    "zs[5]\n"
   ]
  },
  {
   "cell_type": "code",
   "execution_count": 19,
   "metadata": {},
   "outputs": [
    {
     "data": {
      "text/plain": [
       "-5.25"
      ]
     },
     "execution_count": 19,
     "metadata": {},
     "output_type": "execute_result"
    }
   ],
   "source": [
    "zs[13]\n"
   ]
  },
  {
   "cell_type": "code",
   "execution_count": null,
   "metadata": {
    "scrolled": true
   },
   "outputs": [
    {
     "name": "stdout",
     "output_type": "stream",
     "text": [
      "0:\n",
      "1:\n",
      "2:\n",
      "3:\n",
      "4:\n",
      "5:\n",
      "6:\n",
      "7:\n",
      "8:\n",
      "9:\n",
      "10:\n",
      "11:\n",
      "12:\n",
      "13:\n",
      "14:\n",
      "15:\n",
      "16:\n",
      "^C\n",
      "17:\n",
      "^C\n",
      "18:\n"
     ]
    }
   ],
   "source": [
    "for idx, program in enumerate(programs):\n",
    "    print(\"{}:\".format(idx))\n",
    "    program.machine = cnc\n",
    "    program.run()\n"
   ]
  },
  {
   "cell_type": "code",
   "execution_count": null,
   "metadata": {},
   "outputs": [],
   "source": [
    "cnc.status\n"
   ]
  }
 ],
 "metadata": {
  "kernelspec": {
   "display_name": "Python 3",
   "language": "python",
   "name": "python3"
  },
  "language_info": {
   "codemirror_mode": {
    "name": "ipython",
    "version": 3
   },
   "file_extension": ".py",
   "mimetype": "text/x-python",
   "name": "python",
   "nbconvert_exporter": "python",
   "pygments_lexer": "ipython3",
   "version": "3.6.6"
  }
 },
 "nbformat": 4,
 "nbformat_minor": 2
}
