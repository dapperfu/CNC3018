{
 "cells": [
  {
   "cell_type": "code",
   "execution_count": 1,
   "metadata": {},
   "outputs": [],
   "source": [
    "import configparser\n",
    "import os\n",
    "import sys\n",
    "from time import sleep\n",
    "from uuid import uuid4\n",
    "\n",
    "import numpy as np\n",
    "\n",
    "import GCode\n",
    "import GRBL"
   ]
  },
  {
   "cell_type": "markdown",
   "metadata": {},
   "source": [
    "# Laser Shading By adjusting focus on the Z-axis"
   ]
  },
  {
   "cell_type": "markdown",
   "metadata": {},
   "source": [
    "# Code:"
   ]
  },
  {
   "cell_type": "code",
   "execution_count": 2,
   "metadata": {},
   "outputs": [
    {
     "name": "stdout",
     "output_type": "stream",
     "text": [
      "89.0 x 178.0 x 19.0\n"
     ]
    }
   ],
   "source": [
    "# Poplar 1x4\". Cut\n",
    "BlockHeight = 89.0  # [mm]\n",
    "BlockLength = 2 * BlockHeight  # [mm]\n",
    "BlockThickness = 19.0  # [mm]\n",
    "print(\"{} x {} x {}\".format(BlockHeight, BlockLength, BlockThickness))\n"
   ]
  },
  {
   "cell_type": "code",
   "execution_count": 3,
   "metadata": {},
   "outputs": [
    {
     "data": {
      "text/plain": [
       "(3, ['', \"Grbl 1.1f ['$' for help]\", \"[MSG:'$H'|'$X' to unlock]\"])"
      ]
     },
     "execution_count": 3,
     "metadata": {},
     "output_type": "execute_result"
    }
   ],
   "source": [
    "config = configparser.ConfigParser()\n",
    "config[\"GRBL\"] = dict()\n",
    "config[\"GRBL\"][\"port\"] = \"/dev/cnc_3018\"\n",
    "cnc = GRBL.GRBL(**config[\"GRBL\"])\n",
    "\n",
    "cnc.reset(home=True)\n"
   ]
  },
  {
   "cell_type": "code",
   "execution_count": 6,
   "metadata": {},
   "outputs": [],
   "source": [
    "status = cnc.status\n",
    "while \"Alarm\" in status:\n",
    "    cnc.home()\n",
    "    status = cnc.status"
   ]
  },
  {
   "cell_type": "markdown",
   "metadata": {},
   "source": [
    "# Generate Program\n",
    "\n",
    "Generate the G-code program that will test how the laser focus affects shading.\n",
    "\n",
    "- Laser 'focused' at -14mm.\n",
    "- Testing 17 positions between [-28, 0]\n",
    "- Testing 3 different feed rates [100, 200, 300]\n",
    "- Testing 5 different power settings between [100, 255]"
   ]
  },
  {
   "cell_type": "code",
   "execution_count": 7,
   "metadata": {},
   "outputs": [
    {
     "data": {
      "text/plain": [
       "array([ 5., 10., 15., 20., 25., 30., 35., 40., 45., 50., 55., 60., 65.,\n",
       "       70., 75., 80., 85.])"
      ]
     },
     "execution_count": 7,
     "metadata": {},
     "output_type": "execute_result"
    }
   ],
   "source": [
    "# Define a gap between horizontal lines\n",
    "vgap = 5  # [mm]\n",
    "# Generate a list of horizontal line vertical coordinates\n",
    "vs = np.arange(vgap, BlockHeight, vgap)\n",
    "vs\n"
   ]
  },
  {
   "cell_type": "code",
   "execution_count": 8,
   "metadata": {},
   "outputs": [
    {
     "data": {
      "text/plain": [
       "array([  0.,  10.,  20.,  30.,  40.,  50.,  60.,  70.,  80.,  90., 100.,\n",
       "       110., 120., 130., 140., 150., 160., 170.])"
      ]
     },
     "execution_count": 8,
     "metadata": {},
     "output_type": "execute_result"
    }
   ],
   "source": [
    "# Define a horizontal distance to test lazerin.\n",
    "hgap = 10  # [mm]\n",
    "hs = np.arange(0, BlockLength, hgap)\n",
    "hs\n"
   ]
  },
  {
   "cell_type": "code",
   "execution_count": 10,
   "metadata": {},
   "outputs": [
    {
     "data": {
      "text/plain": [
       "array([-19.25 , -18.375, -17.5  , -16.625, -15.75 , -14.875, -14.   ,\n",
       "       -13.125, -12.25 , -11.375, -10.5  ,  -9.625,  -8.75 ,  -7.875,\n",
       "        -7.   ,  -6.125,  -5.25 ])"
      ]
     },
     "execution_count": 10,
     "metadata": {},
     "output_type": "execute_result"
    }
   ],
   "source": [
    "# Total travel range, starts at ztravel, ends at 0. \"negative space\"(?)\n",
    "ztravel = -28\n",
    "# Generate a number of z-axis test positions.\n",
    "# Each z-height will have 10 mm marked at the given feed rate and power.\n",
    "\n",
    "# Generate the full list of z-stops from the initial test.\n",
    "zs_ = np.linspace(start=ztravel, stop=0, num=len(hs) - 1, endpoint=True)\n",
    "# Generate a narrower list of z-stops where the laser worked.\n",
    "zs = np.linspace(start=zs_[5], stop=zs_[13], num=len(hs) - 1, endpoint=True)\n",
    "zs"
   ]
  },
  {
   "cell_type": "code",
   "execution_count": 11,
   "metadata": {},
   "outputs": [
    {
     "data": {
      "text/plain": [
       "[255, 200, 150]"
      ]
     },
     "execution_count": 11,
     "metadata": {},
     "output_type": "execute_result"
    }
   ],
   "source": [
    "# Laser powers to test.\n",
    "powers = [255, 200, 150]\n",
    "powers\n"
   ]
  },
  {
   "cell_type": "code",
   "execution_count": 12,
   "metadata": {},
   "outputs": [],
   "source": [
    "feeds = [50, 100, 150, 200, 300]"
   ]
  },
  {
   "cell_type": "code",
   "execution_count": 13,
   "metadata": {},
   "outputs": [],
   "source": [
    "def init2(**kwargs):\n",
    "    program = GCode.GCode(**kwargs)\n",
    "    program.G0(F=500)\n",
    "    program.G1(F=500)\n",
    "    program.G21()  # Metric Units\n",
    "    program.G90()  # Absolute positioning.\n",
    "    return program"
   ]
  },
  {
   "cell_type": "code",
   "execution_count": 16,
   "metadata": {},
   "outputs": [],
   "source": [
    "import matplotlib.pyplot as plt\n",
    "import matplotlib as mpl"
   ]
  },
  {
   "cell_type": "code",
   "execution_count": null,
   "metadata": {},
   "outputs": [],
   "source": []
  },
  {
   "cell_type": "code",
   "execution_count": 31,
   "metadata": {},
   "outputs": [
    {
     "data": {
      "image/png": "[encoded data removed]",
      "text/plain": [
       "<Figure size 432x288 with 1 Axes>"
      ]
     },
     "metadata": {
      "needs_background": "light"
     },
     "output_type": "display_data"
    }
   ],
   "source": [
    "plt.figure()\n",
    "ax1=plt.subplot(1,1,1)\n",
    "programs = list()\n",
    "for idx1, power in enumerate(powers): # [uint8 duty cycle]\n",
    "    for idx2, feed in enumerate(feeds):  # [mm/min]\n",
    "        v_idx = idx1 * len(powers) + idx2\n",
    "        Y = vs[v_idx]\n",
    "        for idx3, z in enumerate(zs):\n",
    "            x0 = hs[idx3]\n",
    "            xf = hs[idx3 + 1]\n",
    "            ax1.plot(np.array([x0, xf]), np.array([Y, Y]), marker='.')\n",
    "            break\n",
    "        break\n",
    "    break"
   ]
  },
  {
   "cell_type": "code",
   "execution_count": 32,
   "metadata": {},
   "outputs": [
    {
     "data": {
      "image/png": "[encoded data removed]",
      "text/plain": [
       "<Figure size 432x288 with 1 Axes>"
      ]
     },
     "metadata": {
      "needs_background": "light"
     },
     "output_type": "display_data"
    }
   ],
   "source": [
    "plt.figure()\n",
    "ax1=plt.subplot(1,1,1)\n",
    "programs = list()\n",
    "for idx1, power in enumerate(powers): # [uint8 duty cycle]\n",
    "    for idx2, feed in enumerate(feeds):  # [mm/min]\n",
    "        v_idx = idx1 * len(powers) + idx2\n",
    "        Y = vs[v_idx]\n",
    "        for idx3, z in enumerate(zs):\n",
    "            x0 = hs[idx3]\n",
    "            xf = hs[idx3 + 1]\n",
    "            ax1.plot(np.array([x0, xf]), np.array([Y, Y]), marker='.')\n",
    "        break\n",
    "    break"
   ]
  },
  {
   "cell_type": "code",
   "execution_count": 33,
   "metadata": {},
   "outputs": [
    {
     "data": {
      "image/png": "[encoded data removed]",
      "text/plain": [
       "<Figure size 432x288 with 1 Axes>"
      ]
     },
     "metadata": {
      "needs_background": "light"
     },
     "output_type": "display_data"
    }
   ],
   "source": [
    "plt.figure()\n",
    "ax1=plt.subplot(1,1,1)\n",
    "programs = list()\n",
    "for idx1, power in enumerate(powers): # [uint8 duty cycle]\n",
    "    for idx2, feed in enumerate(feeds):  # [mm/min]\n",
    "        v_idx = idx1 * len(powers) + idx2\n",
    "        Y = vs[v_idx]\n",
    "        for idx3, z in enumerate(zs):\n",
    "            x0 = hs[idx3]\n",
    "            xf = hs[idx3 + 1]\n",
    "            ax1.plot(np.array([x0, xf]), np.array([Y, Y]), marker='.')\n",
    "            break\n",
    "    break"
   ]
  },
  {
   "cell_type": "code",
   "execution_count": null,
   "metadata": {},
   "outputs": [],
   "source": [
    "plt.figure()\n",
    "ax1=plt.subplot(1,1,1)\n",
    "programs = list()\n",
    "for idx1, power in enumerate(powers): # [uint8 duty cycle]\n",
    "    for idx2, feed in enumerate(feeds):  # [mm/min]\n",
    "        v_idx = idx1 * len(powers) + idx2\n",
    "        Y = vs[v_idx]\n",
    "        for idx3, z in enumerate(zs):\n",
    "            x0 = hs[idx3]\n",
    "            xf = hs[idx3 + 1]\n",
    "            ax1.plot(np.array([x0, xf]), np.array([Y, Y]), marker='.')\n",
    "            break\n",
    "        break"
   ]
  },
  {
   "cell_type": "code",
   "execution_count": 29,
   "metadata": {},
   "outputs": [
    {
     "data": {
      "text/plain": [
       "(array([ 0., 55.]), array([10., 55.]))"
      ]
     },
     "execution_count": 29,
     "metadata": {},
     "output_type": "execute_result"
    }
   ],
   "source": [
    "np.array([x0, Y]), np.array([xf, Y])"
   ]
  },
  {
   "cell_type": "code",
   "execution_count": null,
   "metadata": {},
   "outputs": [],
   "source": [
    "        \n",
    "        \n",
    "\n",
    "            program = init2(machine=cnc)\n",
    "            program.G0(Z=z, Y=Y, X=x0)\n",
    "            program.M4(S=power)\n",
    "            program.G1(X=xf, Y=Y, Z=z, F=feed)\n",
    "            program.M5()  # Laser. Off.\n",
    "            programs.append(program)"
   ]
  },
  {
   "cell_type": "code",
   "execution_count": null,
   "metadata": {},
   "outputs": [],
   "source": []
  },
  {
   "cell_type": "code",
   "execution_count": null,
   "metadata": {},
   "outputs": [],
   "source": []
  },
  {
   "cell_type": "code",
   "execution_count": null,
   "metadata": {},
   "outputs": [],
   "source": [
    "programs\n"
   ]
  },
  {
   "cell_type": "code",
   "execution_count": null,
   "metadata": {},
   "outputs": [],
   "source": [
    "programs[17]\n"
   ]
  },
  {
   "cell_type": "code",
   "execution_count": null,
   "metadata": {},
   "outputs": [],
   "source": [
    "zs[0]\n"
   ]
  },
  {
   "cell_type": "code",
   "execution_count": null,
   "metadata": {},
   "outputs": [],
   "source": [
    "zs[5]\n"
   ]
  },
  {
   "cell_type": "code",
   "execution_count": null,
   "metadata": {},
   "outputs": [],
   "source": [
    "zs[13]\n"
   ]
  },
  {
   "cell_type": "code",
   "execution_count": null,
   "metadata": {
    "scrolled": true
   },
   "outputs": [],
   "source": [
    "for idx, program in enumerate(programs):\n",
    "    print(\"{}:\".format(idx))\n",
    "    program.machine = cnc\n",
    "    program.run()\n"
   ]
  },
  {
   "cell_type": "code",
   "execution_count": null,
   "metadata": {},
   "outputs": [],
   "source": [
    "cnc.status\n"
   ]
  }
 ],
 "metadata": {
  "kernelspec": {
   "display_name": "Python 3",
   "language": "python",
   "name": "python3"
  },
  "language_info": {
   "codemirror_mode": {
    "name": "ipython",
    "version": 3
   },
   "file_extension": ".py",
   "mimetype": "text/x-python",
   "name": "python",
   "nbconvert_exporter": "python",
   "pygments_lexer": "ipython3",
   "version": "3.6.6"
  }
 },
 "nbformat": 4,
 "nbformat_minor": 2
}
