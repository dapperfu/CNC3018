{
 "cells": [
  {
   "cell_type": "code",
   "execution_count": 2,
   "metadata": {},
   "outputs": [],
   "source": [
    "import configparser\n",
    "import os\n",
    "import sys\n",
    "from time import sleep\n",
    "from uuid import uuid4\n",
    "\n",
    "import numpy as np\n",
    "\n",
    "import GCode\n",
    "import GRBL"
   ]
  },
  {
   "cell_type": "markdown",
   "metadata": {},
   "source": [
    "# Laser Shading By adjusting focus on the Z-axis"
   ]
  },
  {
   "cell_type": "markdown",
   "metadata": {},
   "source": [
    "# Code:"
   ]
  },
  {
   "cell_type": "code",
   "execution_count": 3,
   "metadata": {},
   "outputs": [
    {
     "name": "stdout",
     "output_type": "stream",
     "text": [
      "64.0 x 147.0 x 19.0\n"
     ]
    }
   ],
   "source": [
    "# Poplar 1x4\". Cut\n",
    "BlockHeight = 64.0  # [mm]\n",
    "BlockLength = 147.0  # [mm]\n",
    "BlockThickness = 19.0  # [mm]\n",
    "print(\"{} x {} x {}\".format(BlockHeight, BlockLength, BlockThickness))\n"
   ]
  },
  {
   "cell_type": "code",
   "execution_count": 7,
   "metadata": {},
   "outputs": [
    {
     "data": {
      "text/plain": [
       "(0, ['ok', \"Gl.f' rhp\", \"S:$''ouok\", ''])"
      ]
     },
     "execution_count": 7,
     "metadata": {},
     "output_type": "execute_result"
    }
   ],
   "source": [
    "config = configparser.ConfigParser()\n",
    "config[\"GRBL\"] = dict()\n",
    "config[\"GRBL\"][\"port\"] = \"/dev/cnc_3018\"\n",
    "cnc = GRBL.GRBL(**config[\"GRBL\"])\n",
    "\n",
    "cnc.reset(home=True)"
   ]
  },
  {
   "cell_type": "code",
   "execution_count": 8,
   "metadata": {},
   "outputs": [],
   "source": [
    "if \"Alarm\" in cnc.status:\n",
    "    cnc.home()"
   ]
  },
  {
   "cell_type": "code",
   "execution_count": 9,
   "metadata": {},
   "outputs": [
    {
     "data": {
      "text/plain": [
       "True"
      ]
     },
     "execution_count": 9,
     "metadata": {},
     "output_type": "execute_result"
    }
   ],
   "source": [
    "cnc.init()"
   ]
  },
  {
   "cell_type": "code",
   "execution_count": 10,
   "metadata": {},
   "outputs": [
    {
     "data": {
      "text/plain": [
       "['ok', 'ok']"
      ]
     },
     "execution_count": 10,
     "metadata": {},
     "output_type": "execute_result"
    }
   ],
   "source": [
    "cnc.cmd(\"M3S1\")"
   ]
  },
  {
   "cell_type": "code",
   "execution_count": 12,
   "metadata": {},
   "outputs": [
    {
     "data": {
      "text/plain": [
       "['ok', 'ok']"
      ]
     },
     "execution_count": 12,
     "metadata": {},
     "output_type": "execute_result"
    }
   ],
   "source": [
    "cnc.cmd(\"G1Z-24\")"
   ]
  },
  {
   "cell_type": "code",
   "execution_count": 19,
   "metadata": {},
   "outputs": [
    {
     "data": {
      "text/plain": [
       "['ok', 'ok']"
      ]
     },
     "execution_count": 19,
     "metadata": {},
     "output_type": "execute_result"
    }
   ],
   "source": [
    "cnc.cmd(\"G1Y4.25\")"
   ]
  },
  {
   "cell_type": "code",
   "execution_count": 21,
   "metadata": {},
   "outputs": [
    {
     "data": {
      "text/plain": [
       "['ok', 'ok']"
      ]
     },
     "execution_count": 21,
     "metadata": {},
     "output_type": "execute_result"
    }
   ],
   "source": [
    "cnc.cmd(\"G1Y10.25\")"
   ]
  },
  {
   "cell_type": "code",
   "execution_count": null,
   "metadata": {},
   "outputs": [],
   "source": []
  },
  {
   "cell_type": "code",
   "execution_count": 22,
   "metadata": {},
   "outputs": [],
   "source": [
    "program = GCode.GCode(machine=cnc)\n",
    "program.G1(X=0, Y=4.25, F=240)\n",
    "program.M4(S=255)\n",
    "program.G1(X=100, Y=4.25, F=240)\n",
    "program.G0(X=100, Y=10.25, F=240)\n",
    "program.G1(X=0, Y=10.25, F=240)\n",
    "program.M5()\n",
    "program.run()"
   ]
  },
  {
   "cell_type": "code",
   "execution_count": 23,
   "metadata": {},
   "outputs": [
    {
     "data": {
      "text/plain": [
       "7.25"
      ]
     },
     "execution_count": 23,
     "metadata": {},
     "output_type": "execute_result"
    }
   ],
   "source": [
    "(4.25+10.25)/2"
   ]
  },
  {
   "cell_type": "code",
   "execution_count": 26,
   "metadata": {},
   "outputs": [],
   "source": [
    "GCode.Line?"
   ]
  },
  {
   "cell_type": "code",
   "execution_count": 27,
   "metadata": {},
   "outputs": [],
   "source": [
    "program = GCode.GCode(machine=cnc)\n",
    "program.G0(X=10, Y=7.25-2, F=240)\n",
    "program.M4(S=255)\n",
    "program.G1(X=10, Y=7.25+2, F=240)\n",
    "program.M5()\n",
    "program.G0(X=87, Y=7.25-2, F=240)\n",
    "program.M4(S=255)\n",
    "program.G1(X=87, Y=7.25+2, F=240)\n",
    "program.M5()\n",
    "program.run()"
   ]
  },
  {
   "cell_type": "code",
   "execution_count": 28,
   "metadata": {},
   "outputs": [],
   "source": [
    "program = GCode.GCode(machine=cnc)\n",
    "program.G0(X=10-2, Y=7.25, F=240)\n",
    "program.M4(S=255)\n",
    "program.G1(X=10+2, Y=7.25, F=240)\n",
    "program.M5()\n",
    "program.G0(X=87-2, Y=7.25, F=240)\n",
    "program.M4(S=255)\n",
    "program.G1(X=87+2, Y=7.25, F=240)\n",
    "program.M5()\n",
    "program.run()"
   ]
  },
  {
   "cell_type": "code",
   "execution_count": 29,
   "metadata": {},
   "outputs": [],
   "source": [
    "program = GCode.GCode(machine=cnc)\n",
    "program.G0(X=80, Y=7.25-2, F=240)\n",
    "program.M4(S=255)\n",
    "program.G1(X=80, Y=7.25+2, F=240)\n",
    "program.M5()\n",
    "program.G0(X=80-2, Y=7.25, F=240)\n",
    "program.M4(S=255)\n",
    "program.G1(X=80+2, Y=7.25, F=240)\n",
    "program.M5()\n",
    "program.run()"
   ]
  },
  {
   "cell_type": "code",
   "execution_count": null,
   "metadata": {},
   "outputs": [],
   "source": [
    "def aim(**kwargs):\n",
    "    program = GCode.GCode(**kwargs)\n",
    "    program.G0(F=500)\n",
    "    program.G1(F=300)\n",
    "    program.M3(S=1)\n",
    "    program.G21()  # Metric Units\n",
    "    program.G90()  # Absolute positioning.\n",
    "    program.G1(X=10, Y=10, Z=-14.0)\n",
    "    return program"
   ]
  },
  {
   "cell_type": "code",
   "execution_count": null,
   "metadata": {},
   "outputs": [],
   "source": [
    "aim(machine=cnc).run()"
   ]
  },
  {
   "cell_type": "code",
   "execution_count": null,
   "metadata": {},
   "outputs": [],
   "source": [
    "cnc.init()"
   ]
  }
 ],
 "metadata": {
  "kernelspec": {
   "display_name": "Python 3",
   "language": "python",
   "name": "python3"
  },
  "language_info": {
   "codemirror_mode": {
    "name": "ipython",
    "version": 3
   },
   "file_extension": ".py",
   "mimetype": "text/x-python",
   "name": "python",
   "nbconvert_exporter": "python",
   "pygments_lexer": "ipython3",
   "version": "3.6.6"
  }
 },
 "nbformat": 4,
 "nbformat_minor": 2
}
