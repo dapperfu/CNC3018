{
 "cells": [
  {
   "cell_type": "code",
   "execution_count": 3,
   "metadata": {},
   "outputs": [],
   "source": [
    "import configparser\n",
    "import os\n",
    "import sys\n",
    "from time import sleep\n",
    "from uuid import uuid4\n",
    "\n",
    "import numpy as np\n",
    "\n",
    "import GCode\n",
    "import GRBL"
   ]
  },
  {
   "cell_type": "markdown",
   "metadata": {},
   "source": [
    "#"
   ]
  },
  {
   "cell_type": "markdown",
   "metadata": {},
   "source": [
    "# Code:"
   ]
  },
  {
   "cell_type": "code",
   "execution_count": 4,
   "metadata": {},
   "outputs": [
    {
     "name": "stdout",
     "output_type": "stream",
     "text": [
      "64.0 x 68 x 19.0\n"
     ]
    }
   ],
   "source": [
    "# Poplar 1x4\". Cut\n",
    "BlockHeight = 64.0  # [mm]\n",
    "BlockLength = 68  # [mm]\n",
    "BlockThickness = 19.0  # [mm]\n",
    "print(\"{} x {} x {}\".format(BlockHeight, BlockLength, BlockThickness))\n"
   ]
  },
  {
   "cell_type": "code",
   "execution_count": 5,
   "metadata": {},
   "outputs": [
    {
     "data": {
      "text/plain": [
       "(0, ['ok', '', \"Grbl 1.1f ['$' for help]\", 'ok'])"
      ]
     },
     "execution_count": 5,
     "metadata": {},
     "output_type": "execute_result"
    }
   ],
   "source": [
    "config = configparser.ConfigParser()\n",
    "config[\"GRBL\"] = dict()\n",
    "config[\"GRBL\"][\"port\"] = \"/dev/cnc_3018\"\n",
    "cnc = GRBL.GRBL(**config[\"GRBL\"])\n",
    "\n",
    "cnc.reset()"
   ]
  },
  {
   "cell_type": "code",
   "execution_count": 6,
   "metadata": {},
   "outputs": [],
   "source": [
    "if \"Alarm\" in cnc.status:\n",
    "    cnc.home()"
   ]
  },
  {
   "cell_type": "code",
   "execution_count": 7,
   "metadata": {},
   "outputs": [
    {
     "data": {
      "text/plain": [
       "True"
      ]
     },
     "execution_count": 7,
     "metadata": {},
     "output_type": "execute_result"
    }
   ],
   "source": [
    "cnc.init()"
   ]
  },
  {
   "cell_type": "markdown",
   "metadata": {},
   "source": [
    "# Generate Program\n"
   ]
  },
  {
   "cell_type": "code",
   "execution_count": 8,
   "metadata": {},
   "outputs": [],
   "source": [
    "def dot(X=10, Y=10, Z=0, power=1, dwell=1, **kwargs):\n",
    "    program = GCode.GCode(**kwargs)\n",
    "    \n",
    "    program.G0(X=X, Y=Y, Z=Z)\n",
    "    program.M3(S=power)\n",
    "    program.G1(Z=Z, Y=Y, X=X)\n",
    "    program.G4(P=dwell)\n",
    "    program.M5()  # Laser. Off.\n",
    "\n",
    "    return program"
   ]
  },
  {
   "cell_type": "code",
   "execution_count": 10,
   "metadata": {},
   "outputs": [
    {
     "data": {
      "text/plain": [
       "5"
      ]
     },
     "execution_count": 10,
     "metadata": {},
     "output_type": "execute_result"
    }
   ],
   "source": [
    "spacings=[1/cnc.x_steps_mm*128, 1/cnc.x_steps_mm*256, 1/cnc.x_steps_mm*512, 1/cnc.x_steps_mm*768, 1/cnc.x_steps_mm*1024]\n",
    "len(spacings)"
   ]
  },
  {
   "cell_type": "code",
   "execution_count": 11,
   "metadata": {},
   "outputs": [
    {
     "data": {
      "text/plain": [
       "6"
      ]
     },
     "execution_count": 11,
     "metadata": {},
     "output_type": "execute_result"
    }
   ],
   "source": [
    "powers = [25, 50, 75, 100, 150, 200]\n",
    "len(powers)"
   ]
  },
  {
   "cell_type": "code",
   "execution_count": 26,
   "metadata": {},
   "outputs": [],
   "source": [
    "dwells = [0.1, 0.5]"
   ]
  },
  {
   "cell_type": "code",
   "execution_count": 27,
   "metadata": {},
   "outputs": [
    {
     "data": {
      "text/plain": [
       "5"
      ]
     },
     "execution_count": 27,
     "metadata": {},
     "output_type": "execute_result"
    }
   ],
   "source": [
    "len(spacings)"
   ]
  },
  {
   "cell_type": "code",
   "execution_count": 28,
   "metadata": {},
   "outputs": [
    {
     "data": {
      "text/plain": [
       "13.6"
      ]
     },
     "execution_count": 28,
     "metadata": {},
     "output_type": "execute_result"
    }
   ],
   "source": [
    "BlockLength/5"
   ]
  },
  {
   "cell_type": "code",
   "execution_count": 29,
   "metadata": {},
   "outputs": [
    {
     "data": {
      "text/plain": [
       "0.32"
      ]
     },
     "execution_count": 29,
     "metadata": {},
     "output_type": "execute_result"
    }
   ],
   "source": [
    "spacing"
   ]
  },
  {
   "cell_type": "code",
   "execution_count": 32,
   "metadata": {},
   "outputs": [
    {
     "name": "stdout",
     "output_type": "stream",
     "text": [
      "Laserin(1:0.16:6, 1, 25, 0.1)... Done\n",
      "Laserin(6:0.32:11, 1, 25, 0.1)... Done\n",
      "Laserin(11:0.64:16, 1, 25, 0.1)... Done\n",
      "Laserin(16:0.96:21, 1, 25, 0.1)... Done\n",
      "Laserin(21:1.28:26, 1, 25, 0.1)... Done\n",
      "Laserin(31:0.16:36, 1, 25, 0.5)... Done\n",
      "Laserin(36:0.32:41, 1, 25, 0.5)... Done\n",
      "Laserin(41:0.64:46, 1, 25, 0.5)... Done\n",
      "Laserin(46:0.96:51, 1, 25, 0.5)... Done\n",
      "Laserin(51:1.28:56, 1, 25, 0.5)... Done\n",
      "Laserin(1:0.16:6, 6, 50, 0.1)... Done\n",
      "Laserin(6:0.32:11, 6, 50, 0.1)... Done\n",
      "Laserin(11:0.64:16, 6, 50, 0.1)... Done\n",
      "Laserin(16:0.96:21, 6, 50, 0.1)... Done\n",
      "Laserin(21:1.28:26, 6, 50, 0.1)... Done\n",
      "Laserin(31:0.16:36, 6, 50, 0.5)... Done\n",
      "Laserin(36:0.32:41, 6, 50, 0.5)... Done\n",
      "Laserin(41:0.64:46, 6, 50, 0.5)... Done\n",
      "Laserin(46:0.96:51, 6, 50, 0.5)... Done\n",
      "Laserin(51:1.28:56, 6, 50, 0.5)... Done\n",
      "Laserin(1:0.16:6, 11, 75, 0.1)... Done\n",
      "Laserin(6:0.32:11, 11, 75, 0.1)... Done\n",
      "Laserin(11:0.64:16, 11, 75, 0.1)... Done\n",
      "Laserin(16:0.96:21, 11, 75, 0.1)... Done\n",
      "Laserin(21:1.28:26, 11, 75, 0.1)... Done\n",
      "Laserin(31:0.16:36, 11, 75, 0.5)... Done\n",
      "Laserin(36:0.32:41, 11, 75, 0.5)... Done\n",
      "Laserin(41:0.64:46, 11, 75, 0.5)... Done\n",
      "Laserin(46:0.96:51, 11, 75, 0.5)... Done\n",
      "Laserin(51:1.28:56, 11, 75, 0.5)... Done\n",
      "Laserin(1:0.16:6, 16, 100, 0.1)... Done\n",
      "Laserin(6:0.32:11, 16, 100, 0.1)... Done\n",
      "Laserin(11:0.64:16, 16, 100, 0.1)... Done\n",
      "Laserin(16:0.96:21, 16, 100, 0.1)... Done\n",
      "Laserin(21:1.28:26, 16, 100, 0.1)... Done\n",
      "Laserin(31:0.16:36, 16, 100, 0.5)... Done\n",
      "Laserin(36:0.32:41, 16, 100, 0.5)... Done\n",
      "Laserin(41:0.64:46, 16, 100, 0.5)... Done\n",
      "Laserin(46:0.96:51, 16, 100, 0.5)... Done\n",
      "Laserin(51:1.28:56, 16, 100, 0.5)... Done\n",
      "Laserin(1:0.16:6, 21, 150, 0.1)... Done\n",
      "Laserin(6:0.32:11, 21, 150, 0.1)... Done\n",
      "Laserin(11:0.64:16, 21, 150, 0.1)... Done\n",
      "Laserin(16:0.96:21, 21, 150, 0.1)... Done\n",
      "Laserin(21:1.28:26, 21, 150, 0.1)... Done\n",
      "Laserin(31:0.16:36, 21, 150, 0.5)... Done\n",
      "Laserin(36:0.32:41, 21, 150, 0.5)... Done\n",
      "Laserin(41:0.64:46, 21, 150, 0.5)... Done\n",
      "Laserin(46:0.96:51, 21, 150, 0.5)... Done\n",
      "Laserin(51:1.28:56, 21, 150, 0.5)... Done\n",
      "Laserin(1:0.16:6, 26, 200, 0.1)... Done\n",
      "Laserin(6:0.32:11, 26, 200, 0.1)... Done\n",
      "Laserin(11:0.64:16, 26, 200, 0.1)... Done\n",
      "Laserin(16:0.96:21, 26, 200, 0.1)... Done\n",
      "Laserin(21:1.28:26, 26, 200, 0.1)... Done\n",
      "Laserin(31:0.16:36, 26, 200, 0.5)... Done\n",
      "Laserin(36:0.32:41, 26, 200, 0.5)... Done\n",
      "Laserin(41:0.64:46, 26, 200, 0.5)... Done\n",
      "Laserin(46:0.96:51, 26, 200, 0.5)... Done\n",
      "Laserin(51:1.28:56, 26, 200, 0.5)... Done\n"
     ]
    }
   ],
   "source": [
    "cnc.init()\n",
    "margin=1 # [mm]\n",
    "test_len=5 # [mm]\n",
    "for idx0, power in enumerate(powers):\n",
    "    X0_next=margin # [mm]\n",
    "    Y = margin + idx0*5 # [mm]\n",
    "    assert(Y<BlockHeight)\n",
    "    for idx1, dwell in enumerate(dwells):\n",
    "        for idx2, spacing in enumerate(spacings):\n",
    "            X0=X0_next+(idx2*(test_len)) #[mm]\n",
    "            Xf=X0+test_len #[mm]\n",
    "            assert(Xf<BlockLength)\n",
    "            XX=np.arange(X0, Xf, spacing)\n",
    "            print(\"Laserin({}:{}:{}, {}, {}, {})\".format(X0, spacing, Xf, Y, power, dwell), end=\"\")\n",
    "            for X in XX:\n",
    "                pass\n",
    "                program = dot(X=X, Y=Y, Z=-14, power=power, dwell=dwell)\n",
    "                cnc.run(program)\n",
    "            print(\"... Done\")\n",
    "        X0_next = Xf+test_len"
   ]
  },
  {
   "cell_type": "code",
   "execution_count": 34,
   "metadata": {},
   "outputs": [
    {
     "data": {
      "text/plain": [
       "[0.16, 0.32, 0.64, 0.96, 1.28]"
      ]
     },
     "execution_count": 34,
     "metadata": {},
     "output_type": "execute_result"
    }
   ],
   "source": [
    "spacings"
   ]
  },
  {
   "cell_type": "code",
   "execution_count": 35,
   "metadata": {},
   "outputs": [
    {
     "data": {
      "text/plain": [
       "[25, 50, 75, 100, 150, 200]"
      ]
     },
     "execution_count": 35,
     "metadata": {},
     "output_type": "execute_result"
    }
   ],
   "source": [
    "powers"
   ]
  },
  {
   "cell_type": "code",
   "execution_count": 36,
   "metadata": {},
   "outputs": [
    {
     "data": {
      "text/plain": [
       "[0.1, 0.5]"
      ]
     },
     "execution_count": 36,
     "metadata": {},
     "output_type": "execute_result"
    }
   ],
   "source": [
    "dwells"
   ]
  },
  {
   "cell_type": "code",
   "execution_count": null,
   "metadata": {},
   "outputs": [],
   "source": []
  }
 ],
 "metadata": {
  "kernelspec": {
   "display_name": "Python 3",
   "language": "python",
   "name": "python3"
  },
  "language_info": {
   "codemirror_mode": {
    "name": "ipython",
    "version": 3
   },
   "file_extension": ".py",
   "mimetype": "text/x-python",
   "name": "python",
   "nbconvert_exporter": "python",
   "pygments_lexer": "ipython3",
   "version": "3.6.6"
  }
 },
 "nbformat": 4,
 "nbformat_minor": 2
}
