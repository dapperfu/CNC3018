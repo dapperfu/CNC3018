{
 "cells": [
  {
   "cell_type": "code",
   "execution_count": 1,
   "metadata": {},
   "outputs": [],
   "source": [
    "import configparser\n",
    "import os\n",
    "import sys\n",
    "from time import sleep\n",
    "from uuid import uuid4\n",
    "\n",
    "import numpy as np\n",
    "\n",
    "import GCode\n",
    "import GRBL"
   ]
  },
  {
   "cell_type": "markdown",
   "metadata": {},
   "source": [
    "#"
   ]
  },
  {
   "cell_type": "markdown",
   "metadata": {},
   "source": [
    "# Code:"
   ]
  },
  {
   "cell_type": "code",
   "execution_count": 2,
   "metadata": {},
   "outputs": [
    {
     "name": "stdout",
     "output_type": "stream",
     "text": [
      "89.0 x 174 x 19.0\n"
     ]
    }
   ],
   "source": [
    "# Poplar 1x4\". Cut\n",
    "BlockHeight = 89.0  # [mm]\n",
    "BlockLength = 174  # [mm]\n",
    "BlockThickness = 19.0  # [mm]\n",
    "print(\"{} x {} x {}\".format(BlockHeight, BlockLength, BlockThickness))\n"
   ]
  },
  {
   "cell_type": "code",
   "execution_count": 3,
   "metadata": {},
   "outputs": [
    {
     "data": {
      "text/plain": [
       "(0, ['ok', '', \"Grbl 1.1f ['$' for help]\", 'ok'])"
      ]
     },
     "execution_count": 3,
     "metadata": {},
     "output_type": "execute_result"
    }
   ],
   "source": [
    "config = configparser.ConfigParser()\n",
    "config[\"GRBL\"] = dict()\n",
    "config[\"GRBL\"][\"port\"] = \"/dev/cnc_3018\"\n",
    "cnc = GRBL.GRBL(**config[\"GRBL\"])\n",
    "\n",
    "cnc.reset()"
   ]
  },
  {
   "cell_type": "code",
   "execution_count": 4,
   "metadata": {},
   "outputs": [],
   "source": [
    "if \"Alarm\" in cnc.status:\n",
    "    cnc.home()"
   ]
  },
  {
   "cell_type": "code",
   "execution_count": 5,
   "metadata": {},
   "outputs": [
    {
     "data": {
      "text/plain": [
       "True"
      ]
     },
     "execution_count": 5,
     "metadata": {},
     "output_type": "execute_result"
    }
   ],
   "source": [
    "cnc.init()"
   ]
  },
  {
   "cell_type": "markdown",
   "metadata": {},
   "source": [
    "# Generate Program\n"
   ]
  },
  {
   "cell_type": "code",
   "execution_count": 6,
   "metadata": {},
   "outputs": [],
   "source": [
    "def dot(X=10, Y=10, Z=0, power=1, dwell=1, **kwargs):\n",
    "    program = GCode.GCode(**kwargs)\n",
    "    \n",
    "    program.G0(X=X, Y=Y, Z=Z)\n",
    "    program.M3(S=power)\n",
    "    program.G1(Z=Z, Y=Y, X=X)\n",
    "    program.G4(P=dwell)\n",
    "    program.M5()  # Laser. Off.\n",
    "\n",
    "    return program"
   ]
  },
  {
   "cell_type": "code",
   "execution_count": 7,
   "metadata": {},
   "outputs": [
    {
     "data": {
      "text/plain": [
       "[0.75, 1, 1.25]"
      ]
     },
     "execution_count": 7,
     "metadata": {},
     "output_type": "execute_result"
    }
   ],
   "source": [
    "spacings=[0.75, 1, 1.25]\n",
    "spacings"
   ]
  },
  {
   "cell_type": "code",
   "execution_count": 8,
   "metadata": {},
   "outputs": [
    {
     "data": {
      "text/plain": [
       "7"
      ]
     },
     "execution_count": 8,
     "metadata": {},
     "output_type": "execute_result"
    }
   ],
   "source": [
    "powers = [25, 50, 75, 100, 150, 200, 255]\n",
    "len(powers)"
   ]
  },
  {
   "cell_type": "code",
   "execution_count": 9,
   "metadata": {},
   "outputs": [
    {
     "data": {
      "text/plain": [
       "7"
      ]
     },
     "execution_count": 9,
     "metadata": {},
     "output_type": "execute_result"
    }
   ],
   "source": [
    "dwells = [0.1, 0.5, 0.75, 1, 1.5, 2, 2.5]\n",
    "len(dwells)"
   ]
  },
  {
   "cell_type": "code",
   "execution_count": 10,
   "metadata": {},
   "outputs": [
    {
     "name": "stdout",
     "output_type": "stream",
     "text": [
      "Laserin(5:0.75:10, 5.0, 25, 0.1)... Done\n",
      "Laserin(10:1:15, 5.0, 25, 0.1)... Done\n",
      "Laserin(15:1.25:20, 5.0, 25, 0.1)... Done\n",
      "Laserin(21:0.75:26, 5.0, 25, 0.5)... Done\n",
      "Laserin(26:1:31, 5.0, 25, 0.5)... Done\n",
      "Laserin(31:1.25:36, 5.0, 25, 0.5)... Done\n",
      "Laserin(37:0.75:42, 5.0, 25, 0.75)... Done\n",
      "Laserin(42:1:47, 5.0, 25, 0.75)... Done\n",
      "Laserin(47:1.25:52, 5.0, 25, 0.75)... Done\n",
      "Laserin(53:0.75:58, 5.0, 25, 1)... Done\n",
      "Laserin(58:1:63, 5.0, 25, 1)... Done\n",
      "Laserin(63:1.25:68, 5.0, 25, 1)... Done\n",
      "Laserin(69:0.75:74, 5.0, 25, 1.5)... Done\n",
      "Laserin(74:1:79, 5.0, 25, 1.5)... Done\n",
      "Laserin(79:1.25:84, 5.0, 25, 1.5)... Done\n",
      "Laserin(85:0.75:90, 5.0, 25, 2)... Done\n",
      "Laserin(90:1:95, 5.0, 25, 2)... Done\n",
      "Laserin(95:1.25:100, 5.0, 25, 2)... Done\n",
      "Laserin(101:0.75:106, 5.0, 25, 2.5)... Done\n",
      "Laserin(106:1:111, 5.0, 25, 2.5)... Done\n",
      "Laserin(111:1.25:116, 5.0, 25, 2.5)... Done\n",
      "Laserin(5:0.75:10, 7.5, 50, 0.1)... Done\n",
      "Laserin(10:1:15, 7.5, 50, 0.1)... Done\n",
      "Laserin(15:1.25:20, 7.5, 50, 0.1)... Done\n",
      "Laserin(21:0.75:26, 7.5, 50, 0.5)... Done\n",
      "Laserin(26:1:31, 7.5, 50, 0.5)... Done\n",
      "Laserin(31:1.25:36, 7.5, 50, 0.5)... Done\n",
      "Laserin(37:0.75:42, 7.5, 50, 0.75)... Done\n",
      "Laserin(42:1:47, 7.5, 50, 0.75)... Done\n",
      "Laserin(47:1.25:52, 7.5, 50, 0.75)... Done\n",
      "Laserin(53:0.75:58, 7.5, 50, 1)... Done\n",
      "Laserin(58:1:63, 7.5, 50, 1)... Done\n",
      "Laserin(63:1.25:68, 7.5, 50, 1)... Done\n",
      "Laserin(69:0.75:74, 7.5, 50, 1.5)... Done\n",
      "Laserin(74:1:79, 7.5, 50, 1.5)... Done\n",
      "Laserin(79:1.25:84, 7.5, 50, 1.5)... Done\n",
      "Laserin(85:0.75:90, 7.5, 50, 2)... Done\n",
      "Laserin(90:1:95, 7.5, 50, 2)... Done\n",
      "Laserin(95:1.25:100, 7.5, 50, 2)... Done\n",
      "Laserin(101:0.75:106, 7.5, 50, 2.5)... Done\n",
      "Laserin(106:1:111, 7.5, 50, 2.5)... Done\n",
      "Laserin(111:1.25:116, 7.5, 50, 2.5)... Done\n",
      "Laserin(5:0.75:10, 10.0, 75, 0.1)... Done\n",
      "Laserin(10:1:15, 10.0, 75, 0.1)... Done\n",
      "Laserin(15:1.25:20, 10.0, 75, 0.1)... Done\n",
      "Laserin(21:0.75:26, 10.0, 75, 0.5)... Done\n",
      "Laserin(26:1:31, 10.0, 75, 0.5)... Done\n",
      "Laserin(31:1.25:36, 10.0, 75, 0.5)... Done\n",
      "Laserin(37:0.75:42, 10.0, 75, 0.75)... Done\n",
      "Laserin(42:1:47, 10.0, 75, 0.75)... Done\n",
      "Laserin(47:1.25:52, 10.0, 75, 0.75)... Done\n",
      "Laserin(53:0.75:58, 10.0, 75, 1)... Done\n",
      "Laserin(58:1:63, 10.0, 75, 1)... Done\n",
      "Laserin(63:1.25:68, 10.0, 75, 1)... Done\n",
      "Laserin(69:0.75:74, 10.0, 75, 1.5)... Done\n",
      "Laserin(74:1:79, 10.0, 75, 1.5)... Done\n",
      "Laserin(79:1.25:84, 10.0, 75, 1.5)... Done\n",
      "Laserin(85:0.75:90, 10.0, 75, 2)... Done\n",
      "Laserin(90:1:95, 10.0, 75, 2)... Done\n",
      "Laserin(95:1.25:100, 10.0, 75, 2)... Done\n",
      "Laserin(101:0.75:106, 10.0, 75, 2.5)... Done\n",
      "Laserin(106:1:111, 10.0, 75, 2.5)... Done\n",
      "Laserin(111:1.25:116, 10.0, 75, 2.5)... Done\n",
      "Laserin(5:0.75:10, 12.5, 100, 0.1)... Done\n",
      "Laserin(10:1:15, 12.5, 100, 0.1)... Done\n",
      "Laserin(15:1.25:20, 12.5, 100, 0.1)... Done\n",
      "Laserin(21:0.75:26, 12.5, 100, 0.5)... Done\n",
      "Laserin(26:1:31, 12.5, 100, 0.5)... Done\n",
      "Laserin(31:1.25:36, 12.5, 100, 0.5)... Done\n",
      "Laserin(37:0.75:42, 12.5, 100, 0.75)... Done\n",
      "Laserin(42:1:47, 12.5, 100, 0.75)... Done\n",
      "Laserin(47:1.25:52, 12.5, 100, 0.75)... Done\n",
      "Laserin(53:0.75:58, 12.5, 100, 1)... Done\n",
      "Laserin(58:1:63, 12.5, 100, 1)... Done\n",
      "Laserin(63:1.25:68, 12.5, 100, 1)... Done\n",
      "Laserin(69:0.75:74, 12.5, 100, 1.5)... Done\n",
      "Laserin(74:1:79, 12.5, 100, 1.5)... Done\n",
      "Laserin(79:1.25:84, 12.5, 100, 1.5)... Done\n",
      "Laserin(85:0.75:90, 12.5, 100, 2)... Done\n",
      "Laserin(90:1:95, 12.5, 100, 2)... Done\n",
      "Laserin(95:1.25:100, 12.5, 100, 2)... Done\n",
      "Laserin(101:0.75:106, 12.5, 100, 2.5)... Done\n",
      "Laserin(106:1:111, 12.5, 100, 2.5)... Done\n",
      "Laserin(111:1.25:116, 12.5, 100, 2.5)... Done\n",
      "Laserin(5:0.75:10, 15.0, 150, 0.1)... Done\n",
      "Laserin(10:1:15, 15.0, 150, 0.1)... Done\n",
      "Laserin(15:1.25:20, 15.0, 150, 0.1)... Done\n",
      "Laserin(21:0.75:26, 15.0, 150, 0.5)... Done\n",
      "Laserin(26:1:31, 15.0, 150, 0.5)... Done\n",
      "Laserin(31:1.25:36, 15.0, 150, 0.5)... Done\n",
      "Laserin(37:0.75:42, 15.0, 150, 0.75)... Done\n",
      "Laserin(42:1:47, 15.0, 150, 0.75)... Done\n",
      "Laserin(47:1.25:52, 15.0, 150, 0.75)... Done\n",
      "Laserin(53:0.75:58, 15.0, 150, 1)... Done\n",
      "Laserin(58:1:63, 15.0, 150, 1)... Done\n",
      "Laserin(63:1.25:68, 15.0, 150, 1)... Done\n",
      "Laserin(69:0.75:74, 15.0, 150, 1.5)... Done\n",
      "Laserin(74:1:79, 15.0, 150, 1.5)... Done\n",
      "Laserin(79:1.25:84, 15.0, 150, 1.5)... Done\n",
      "Laserin(85:0.75:90, 15.0, 150, 2)... Done\n",
      "Laserin(90:1:95, 15.0, 150, 2)... Done\n",
      "Laserin(95:1.25:100, 15.0, 150, 2)... Done\n",
      "Laserin(101:0.75:106, 15.0, 150, 2.5)... Done\n",
      "Laserin(106:1:111, 15.0, 150, 2.5)... Done\n",
      "Laserin(111:1.25:116, 15.0, 150, 2.5)... Done\n",
      "Laserin(5:0.75:10, 17.5, 200, 0.1)... Done\n",
      "Laserin(10:1:15, 17.5, 200, 0.1)... Done\n",
      "Laserin(15:1.25:20, 17.5, 200, 0.1)... Done\n",
      "Laserin(21:0.75:26, 17.5, 200, 0.5)... Done\n",
      "Laserin(26:1:31, 17.5, 200, 0.5)... Done\n",
      "Laserin(31:1.25:36, 17.5, 200, 0.5)... Done\n",
      "Laserin(37:0.75:42, 17.5, 200, 0.75)... Done\n",
      "Laserin(42:1:47, 17.5, 200, 0.75)... Done\n",
      "Laserin(47:1.25:52, 17.5, 200, 0.75)... Done\n",
      "Laserin(53:0.75:58, 17.5, 200, 1)... Done\n",
      "Laserin(58:1:63, 17.5, 200, 1)... Done\n",
      "Laserin(63:1.25:68, 17.5, 200, 1)... Done\n",
      "Laserin(69:0.75:74, 17.5, 200, 1.5)... Done\n",
      "Laserin(74:1:79, 17.5, 200, 1.5)... Done\n",
      "Laserin(79:1.25:84, 17.5, 200, 1.5)... Done\n",
      "Laserin(85:0.75:90, 17.5, 200, 2)... Done\n",
      "Laserin(90:1:95, 17.5, 200, 2)... Done\n",
      "Laserin(95:1.25:100, 17.5, 200, 2)... Done\n",
      "Laserin(101:0.75:106, 17.5, 200, 2.5)... Done\n",
      "Laserin(106:1:111, 17.5, 200, 2.5)... Done\n",
      "Laserin(111:1.25:116, 17.5, 200, 2.5)... Done\n",
      "Laserin(5:0.75:10, 20.0, 255, 0.1)... Done\n",
      "Laserin(10:1:15, 20.0, 255, 0.1)... Done\n",
      "Laserin(15:1.25:20, 20.0, 255, 0.1)... Done\n",
      "Laserin(21:0.75:26, 20.0, 255, 0.5)... Done\n",
      "Laserin(26:1:31, 20.0, 255, 0.5)... Done\n",
      "Laserin(31:1.25:36, 20.0, 255, 0.5)... Done\n",
      "Laserin(37:0.75:42, 20.0, 255, 0.75)... Done\n",
      "Laserin(42:1:47, 20.0, 255, 0.75)... Done\n",
      "Laserin(47:1.25:52, 20.0, 255, 0.75)... Done\n",
      "Laserin(53:0.75:58, 20.0, 255, 1)... Done\n",
      "Laserin(58:1:63, 20.0, 255, 1)... Done\n",
      "Laserin(63:1.25:68, 20.0, 255, 1)... Done\n",
      "Laserin(69:0.75:74, 20.0, 255, 1.5)... Done\n",
      "Laserin(74:1:79, 20.0, 255, 1.5)... Done\n",
      "Laserin(79:1.25:84, 20.0, 255, 1.5)... Done\n",
      "Laserin(85:0.75:90, 20.0, 255, 2)... Done\n",
      "Laserin(90:1:95, 20.0, 255, 2)... Done\n",
      "Laserin(95:1.25:100, 20.0, 255, 2)... Done\n",
      "Laserin(101:0.75:106, 20.0, 255, 2.5)... Done\n",
      "Laserin(106:1:111, 20.0, 255, 2.5)... Done\n",
      "Laserin(111:1.25:116, 20.0, 255, 2.5)... Done\n"
     ]
    }
   ],
   "source": [
    "cnc.init()\n",
    "margin=5 # [mm]\n",
    "test_len=5 # [mm]\n",
    "for idx0, power in enumerate(powers):\n",
    "    X0_next=margin # [mm]\n",
    "    Y = margin + idx0*2.5 # [mm]\n",
    "    assert(Y<BlockHeight)\n",
    "    for idx1, dwell in enumerate(dwells):\n",
    "        for idx2, spacing in enumerate(spacings):\n",
    "            X0=X0_next+(idx2*(test_len)) #[mm]\n",
    "            Xf=X0+test_len #[mm]\n",
    "            assert(Xf<BlockLength)\n",
    "            XX=np.arange(X0, Xf, spacing)\n",
    "            print(\"Laserin({}:{}:{}, {}, {}, {})\".format(X0, spacing, Xf, Y, power, dwell), end=\"\")\n",
    "            for X in XX:\n",
    "                pass\n",
    "                program = dot(X=X, Y=Y, Z=-14, power=power, dwell=dwell)\n",
    "                cnc.run(program)\n",
    "            print(\"... Done\")\n",
    "        X0_next = Xf+1"
   ]
  },
  {
   "cell_type": "code",
   "execution_count": null,
   "metadata": {},
   "outputs": [],
   "source": [
    "spacings"
   ]
  },
  {
   "cell_type": "code",
   "execution_count": null,
   "metadata": {},
   "outputs": [],
   "source": [
    "powers"
   ]
  },
  {
   "cell_type": "code",
   "execution_count": null,
   "metadata": {},
   "outputs": [],
   "source": [
    "dwells"
   ]
  },
  {
   "cell_type": "code",
   "execution_count": null,
   "metadata": {},
   "outputs": [],
   "source": []
  }
 ],
 "metadata": {
  "kernelspec": {
   "display_name": "Python 3",
   "language": "python",
   "name": "python3"
  },
  "language_info": {
   "codemirror_mode": {
    "name": "ipython",
    "version": 3
   },
   "file_extension": ".py",
   "mimetype": "text/x-python",
   "name": "python",
   "nbconvert_exporter": "python",
   "pygments_lexer": "ipython3",
   "version": "3.6.6"
  }
 },
 "nbformat": 4,
 "nbformat_minor": 2
}
