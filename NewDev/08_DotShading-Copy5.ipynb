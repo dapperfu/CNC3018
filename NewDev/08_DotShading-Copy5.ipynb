{
 "cells": [
  {
   "cell_type": "code",
   "execution_count": 56,
   "metadata": {},
   "outputs": [],
   "source": [
    "import configparser\n",
    "import os\n",
    "import sys\n",
    "from time import sleep\n",
    "from uuid import uuid4\n",
    "\n",
    "import numpy as np\n",
    "\n",
    "import GCode\n",
    "import GRBL"
   ]
  },
  {
   "cell_type": "markdown",
   "metadata": {},
   "source": [
    "#"
   ]
  },
  {
   "cell_type": "markdown",
   "metadata": {},
   "source": [
    "# Code:"
   ]
  },
  {
   "cell_type": "code",
   "execution_count": 73,
   "metadata": {},
   "outputs": [
    {
     "name": "stdout",
     "output_type": "stream",
     "text": [
      "68.0 x 143 x 19.0\n"
     ]
    }
   ],
   "source": [
    "# Poplar 1x4\". Cut\n",
    "BlockHeight = 68.0  # [mm]\n",
    "BlockLength = 143  # [mm]\n",
    "BlockThickness = 19.0  # [mm]\n",
    "print(\"{} x {} x {}\".format(BlockHeight, BlockLength, BlockThickness))\n"
   ]
  },
  {
   "cell_type": "code",
   "execution_count": 58,
   "metadata": {},
   "outputs": [
    {
     "data": {
      "text/plain": [
       "(0, ['ok', '', \"Grbl 1.1f ['$' for help]\", 'ok'])"
      ]
     },
     "execution_count": 58,
     "metadata": {},
     "output_type": "execute_result"
    }
   ],
   "source": [
    "config = configparser.ConfigParser()\n",
    "config[\"GRBL\"] = dict()\n",
    "config[\"GRBL\"][\"port\"] = \"/dev/cnc_3018\"\n",
    "cnc = GRBL.GRBL(**config[\"GRBL\"])\n",
    "\n",
    "cnc.reset()"
   ]
  },
  {
   "cell_type": "code",
   "execution_count": 59,
   "metadata": {},
   "outputs": [],
   "source": [
    "if \"Alarm\" in cnc.status:\n",
    "    cnc.home()"
   ]
  },
  {
   "cell_type": "code",
   "execution_count": 60,
   "metadata": {},
   "outputs": [
    {
     "data": {
      "text/plain": [
       "True"
      ]
     },
     "execution_count": 60,
     "metadata": {},
     "output_type": "execute_result"
    }
   ],
   "source": [
    "cnc.init()"
   ]
  },
  {
   "cell_type": "code",
   "execution_count": 63,
   "metadata": {},
   "outputs": [
    {
     "data": {
      "text/plain": [
       "'<Idle|MPos:-255.900,-136.000,-1.000|Bf:15,127|FS:0,0>'"
      ]
     },
     "execution_count": 63,
     "metadata": {},
     "output_type": "execute_result"
    }
   ],
   "source": [
    "cnc.status"
   ]
  },
  {
   "cell_type": "markdown",
   "metadata": {},
   "source": [
    "# Generate Program\n"
   ]
  },
  {
   "cell_type": "code",
   "execution_count": 64,
   "metadata": {},
   "outputs": [],
   "source": [
    "def dot(X=10, Y=10, Z=0, power=1, dwell=1, **kwargs):\n",
    "    program = GCode.GCode(**kwargs)\n",
    "    \n",
    "    program.G0(X=X, Y=Y, Z=Z)\n",
    "    program.M3(S=power)\n",
    "    program.G1(Z=Z, Y=Y, X=X)\n",
    "    program.G4(P=dwell)\n",
    "    program.M5()  # Laser. Off.\n",
    "\n",
    "    return program\n",
    "\n",
    "def dot_grid(X=(0, 10), Y=(0, 10), Z=0, n=3, power=1, dwell=1, **kwargs):\n",
    "    XX = np.linspace(X[0], X[1], n, endpoint=True)\n",
    "    YY = np.linspace(Y[0], Y[1], n, endpoint=True)\n",
    "    XXX, YYY = np.meshgrid(XX, YY)\n",
    "    program = GCode.GCode(**kwargs)\n",
    "    \n",
    "    for XXX_, YYY_ in zip(XXX, YYY):\n",
    "        for X, Y in zip(XXX_, YYY_):\n",
    "            program+=dot(X=X, Y=Y, Z=Z, power=power, dwell=dwell)\n",
    "    return program"
   ]
  },
  {
   "cell_type": "code",
   "execution_count": null,
   "metadata": {},
   "outputs": [],
   "source": [
    "dots"
   ]
  },
  {
   "cell_type": "code",
   "execution_count": 81,
   "metadata": {},
   "outputs": [
    {
     "name": "stdout",
     "output_type": "stream",
     "text": [
      "0 3 3\n",
      "10 4 4\n",
      "20 5 5\n",
      "30 6 6\n",
      "40 7 7\n",
      "50 8 8\n",
      "60 9 9\n",
      "70 10 10\n",
      "80 11 11\n",
      "90 12 12\n",
      "100 13 13\n",
      "110 14 14\n",
      "120 15 15\n",
      "130 16 16\n"
     ]
    }
   ],
   "source": [
    "\n",
    "for idx, n in enumerate(range(3, 17, 1)):\n",
    "    print(\"{} {} {}\".format(idx*10, n, n))"
   ]
  },
  {
   "cell_type": "code",
   "execution_count": 82,
   "metadata": {},
   "outputs": [],
   "source": [
    "dwells = np.linspace(0.5, 5, 5)"
   ]
  },
  {
   "cell_type": "code",
   "execution_count": 85,
   "metadata": {},
   "outputs": [],
   "source": [
    "programs=list()\n",
    "for idx3, dwell in enumerate([1]):\n",
    "    for idx4, n in enumerate(range(3, 17, 1)):\n",
    "        X=(idx4*10, (idx4+1)*10)\n",
    "        Y=(10, 20)\n",
    "        Z=-14\n",
    "        program = dot_grid(X=X, Y=Y, Z=Z,n=n, power=power, dwell=dwell)\n",
    "        programs.append(program)"
   ]
  },
  {
   "cell_type": "code",
   "execution_count": 86,
   "metadata": {},
   "outputs": [
    {
     "data": {
      "text/plain": [
       "[<GCode>[cmds=45],\n",
       " <GCode>[cmds=80],\n",
       " <GCode>[cmds=125],\n",
       " <GCode>[cmds=180],\n",
       " <GCode>[cmds=245],\n",
       " <GCode>[cmds=320],\n",
       " <GCode>[cmds=405],\n",
       " <GCode>[cmds=500],\n",
       " <GCode>[cmds=605],\n",
       " <GCode>[cmds=720],\n",
       " <GCode>[cmds=845],\n",
       " <GCode>[cmds=980],\n",
       " <GCode>[cmds=1125],\n",
       " <GCode>[cmds=1280]]"
      ]
     },
     "execution_count": 86,
     "metadata": {},
     "output_type": "execute_result"
    }
   ],
   "source": [
    "programs"
   ]
  },
  {
   "cell_type": "code",
   "execution_count": null,
   "metadata": {},
   "outputs": [],
   "source": [
    "programs[0]"
   ]
  },
  {
   "cell_type": "code",
   "execution_count": 88,
   "metadata": {},
   "outputs": [
    {
     "data": {
      "text/plain": [
       "'<Idle|MPos:-255.900,-136.000,-1.000|Bf:15,127|FS:0,0>'"
      ]
     },
     "execution_count": 88,
     "metadata": {},
     "output_type": "execute_result"
    }
   ],
   "source": [
    "cnc.status"
   ]
  },
  {
   "cell_type": "code",
   "execution_count": 89,
   "metadata": {},
   "outputs": [
    {
     "data": {
      "text/plain": [
       "True"
      ]
     },
     "execution_count": 89,
     "metadata": {},
     "output_type": "execute_result"
    }
   ],
   "source": [
    "cnc.init()"
   ]
  },
  {
   "cell_type": "code",
   "execution_count": null,
   "metadata": {},
   "outputs": [
    {
     "name": "stdout",
     "output_type": "stream",
     "text": [
      "0: ...29.153420209884644\n",
      "1: ...49.34726667404175\n",
      "2: ...76.23311734199524\n",
      "3: ...108.95877170562744\n",
      "4: ...124.29014897346497\n",
      "5: ...158.26511192321777\n",
      "6: ...198.8418197631836\n",
      "7: ...244.13330698013306\n",
      "8: ...293.9530816078186\n",
      "9: ...348.5237305164337\n",
      "10: ...407.628680229187\n",
      "11: ...471.439325094223\n",
      "12: ...539.8347897529602\n",
      "13: ..."
     ]
    }
   ],
   "source": [
    "for idx, program in enumerate(programs):\n",
    "    print(\"{}: \".format(idx), end=\"...\")\n",
    "    print(cnc.run(program))"
   ]
  },
  {
   "cell_type": "code",
   "execution_count": null,
   "metadata": {},
   "outputs": [],
   "source": []
  }
 ],
 "metadata": {
  "kernelspec": {
   "display_name": "Python 3",
   "language": "python",
   "name": "python3"
  },
  "language_info": {
   "codemirror_mode": {
    "name": "ipython",
    "version": 3
   },
   "file_extension": ".py",
   "mimetype": "text/x-python",
   "name": "python",
   "nbconvert_exporter": "python",
   "pygments_lexer": "ipython3",
   "version": "3.6.6"
  }
 },
 "nbformat": 4,
 "nbformat_minor": 2
}
