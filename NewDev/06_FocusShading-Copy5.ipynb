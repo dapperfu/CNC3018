{
 "cells": [
  {
   "cell_type": "code",
   "execution_count": 2,
   "metadata": {},
   "outputs": [],
   "source": [
    "import configparser\n",
    "import os\n",
    "import sys\n",
    "from time import sleep\n",
    "from uuid import uuid4\n",
    "\n",
    "import numpy as np\n",
    "\n",
    "import GCode\n",
    "import GRBL"
   ]
  },
  {
   "cell_type": "markdown",
   "metadata": {},
   "source": [
    "# Laser Shading By adjusting focus on the Z-axis"
   ]
  },
  {
   "cell_type": "markdown",
   "metadata": {},
   "source": [
    "# Code:"
   ]
  },
  {
   "cell_type": "code",
   "execution_count": 3,
   "metadata": {},
   "outputs": [
    {
     "name": "stdout",
     "output_type": "stream",
     "text": [
      "89.0 x 178.0 x 19.0\n"
     ]
    }
   ],
   "source": [
    "# Poplar 1x4\". Cut\n",
    "BlockHeight = 89.0  # [mm]\n",
    "BlockLength = 2 * BlockHeight  # [mm]\n",
    "BlockThickness = 19.0  # [mm]\n",
    "print(\"{} x {} x {}\".format(BlockHeight, BlockLength, BlockThickness))\n"
   ]
  },
  {
   "cell_type": "code",
   "execution_count": 4,
   "metadata": {},
   "outputs": [
    {
     "data": {
      "text/plain": [
       "(3, ['', \"Grbl 1.1f ['$' for help]\", \"[MSG:'$H'|'$X' to unlock]\"])"
      ]
     },
     "execution_count": 4,
     "metadata": {},
     "output_type": "execute_result"
    }
   ],
   "source": [
    "config = configparser.ConfigParser()\n",
    "config[\"GRBL\"] = dict()\n",
    "config[\"GRBL\"][\"port\"] = \"/dev/cnc_3018\"\n",
    "cnc = GRBL.GRBL(**config[\"GRBL\"])\n",
    "\n",
    "cnc.reset(home=True)"
   ]
  },
  {
   "cell_type": "code",
   "execution_count": 8,
   "metadata": {},
   "outputs": [],
   "source": [
    "if \"Alarm\" in cnc.status:\n",
    "    cnc.home()"
   ]
  },
  {
   "cell_type": "markdown",
   "metadata": {},
   "source": [
    "# Generate Program\n",
    "\n",
    "Generate the G-code program that will test how the laser focus affects shading.\n",
    "\n",
    "- Laser 'focused' at -14mm.\n",
    "- Testing 17 positions between [-28, 0]\n",
    "- Testing 3 different feed rates [100, 200, 300]\n",
    "- Testing 5 different power settings between [100, 255]"
   ]
  },
  {
   "cell_type": "code",
   "execution_count": 9,
   "metadata": {},
   "outputs": [],
   "source": [
    "# Define a gap between horizontal lines\n",
    "vgap = 5  # [mm]\n",
    "# Generate a list of horizontal line vertical coordinates\n",
    "vs = np.arange(vgap, BlockHeight, vgap)\n",
    "\n",
    "# Define a horizontal distance to test lazerin.\n",
    "hgap = 10  # [mm]\n",
    "hs = np.arange(0, BlockLength, hgap)\n",
    "\n",
    "# Total travel range, starts at ztravel, ends at 0. \"negative space\"(?)\n",
    "ztravel = -28\n",
    "# Generate a number of z-axis test positions.\n",
    "# Each z-height will have 10 mm marked at the given feed rate and power.\n",
    "\n",
    "# Generate the full list of z-stops from the initial test.\n",
    "zs_ = np.linspace(start=ztravel, stop=0, num=len(hs) - 1, endpoint=True)\n",
    "# Generate a narrower list of z-stops where the laser worked.\n",
    "zs = np.linspace(start=zs_[5], stop=zs_[13], num=len(hs) - 1, endpoint=True)\n",
    "zs\n",
    "\n",
    "# Laser powers to test.\n",
    "powers = [255, 200, 150]\n",
    "\n",
    "feeds = [50, 100, 150, 200, 300]"
   ]
  },
  {
   "cell_type": "code",
   "execution_count": 10,
   "metadata": {},
   "outputs": [],
   "source": [
    "def init2(**kwargs):\n",
    "    program = GCode.GCode(**kwargs)\n",
    "    program.G0(F=500)\n",
    "    program.G1(F=500)\n",
    "    program.G21()  # Metric Units\n",
    "    program.G90()  # Absolute positioning.\n",
    "    return program"
   ]
  },
  {
   "cell_type": "code",
   "execution_count": 11,
   "metadata": {},
   "outputs": [],
   "source": [
    "import matplotlib.pyplot as plt\n",
    "import matplotlib as mpl"
   ]
  },
  {
   "cell_type": "code",
   "execution_count": 12,
   "metadata": {
    "scrolled": true
   },
   "outputs": [
    {
     "data": {
      "image/png": "[encoded data removed]",
      "text/plain": [
       "<Figure size 432x288 with 1 Axes>"
      ]
     },
     "metadata": {
      "needs_background": "light"
     },
     "output_type": "display_data"
    }
   ],
   "source": [
    "plt.figure()\n",
    "ax1=plt.subplot(1,1,1)\n",
    "programs = list()\n",
    "for idx1, power in enumerate(powers): # [uint8 duty cycle]\n",
    "    for idx2, feed in enumerate(feeds):  # [mm/min]\n",
    "        v_idx = idx1 * len(powers) + idx2\n",
    "        Y = vs[v_idx]\n",
    "        for idx3, z in enumerate(zs):\n",
    "            x0 = hs[idx3]\n",
    "            xf = hs[idx3 + 1]\n",
    "            ax1.plot(np.array([x0, xf]), np.array([Y, Y]), marker='.')\n",
    "            \n",
    "            program = init2(machine=cnc)\n",
    "            program.G0(Z=z, Y=Y, X=x0)\n",
    "            program.M4(S=power)\n",
    "            program.G1(X=xf, Y=Y, Z=z, F=feed)\n",
    "            program.M5()  # Laser. Off.\n",
    "            programs.append(program)"
   ]
  },
  {
   "cell_type": "code",
   "execution_count": 15,
   "metadata": {},
   "outputs": [
    {
     "data": {
      "text/plain": [
       "12"
      ]
     },
     "execution_count": 15,
     "metadata": {},
     "output_type": "execute_result"
    }
   ],
   "source": [
    "cnc.home()"
   ]
  },
  {
   "cell_type": "code",
   "execution_count": 16,
   "metadata": {},
   "outputs": [
    {
     "data": {
      "text/plain": [
       "True"
      ]
     },
     "execution_count": 16,
     "metadata": {},
     "output_type": "execute_result"
    }
   ],
   "source": [
    "cnc.init()"
   ]
  },
  {
   "cell_type": "code",
   "execution_count": 17,
   "metadata": {
    "scrolled": false
   },
   "outputs": [
    {
     "name": "stdout",
     "output_type": "stream",
     "text": [
      "0: 3.941985845565796\n",
      "1: 13.55605149269104\n",
      "2: 13.555519104003906\n",
      "3: 13.556596994400024\n",
      "4: 13.555415153503418\n",
      "5: 13.554771900177002\n",
      "6: 13.553548812866211\n",
      "7: 13.555274963378906\n",
      "8: 13.554189443588257\n",
      "9: 13.554581880569458\n",
      "10: 13.554708480834961\n",
      "11: 13.554260015487671\n",
      "12: 13.554081916809082\n",
      "13: 13.554462909698486\n",
      "14: 13.553756475448608\n",
      "15: 13.554683446884155\n",
      "16: 13.55438494682312\n",
      "17: 27.375301122665405\n",
      "18: 7.544731378555298\n",
      "19: 7.5446977615356445\n",
      "20: 7.545018196105957\n",
      "21: 7.544924736022949\n",
      "22: 7.544915676116943\n",
      "23: 7.544929504394531\n",
      "24: 7.543767213821411\n",
      "25: 7.544123411178589\n",
      "26: 7.545109748840332\n",
      "27: 7.545728445053101\n",
      "28: 7.544438600540161\n",
      "29: 7.545063734054565\n",
      "30: 7.5461106300354\n",
      "31: 7.544776916503906\n",
      "32: 7.544702529907227\n",
      "33: 7.543821334838867\n",
      "34: 21.366981983184814\n",
      "35: 5.188392162322998\n",
      "36: 5.741476058959961\n",
      "37: 5.743166923522949\n",
      "38: 5.741687297821045\n",
      "39: 5.7436981201171875\n",
      "40: 5.7412495613098145\n",
      "41: 5.742617845535278\n",
      "42: 5.740963459014893\n",
      "43: 5.743375301361084\n",
      "44: 5.742610454559326\n",
      "45: 5.7406580448150635\n",
      "46: 5.742184162139893\n",
      "47: 5.74301290512085\n",
      "48: 5.7413482666015625\n",
      "49: 5.742089748382568\n",
      "50: 5.742249488830566\n",
      "51: 19.56372880935669\n",
      "52: 4.540402173995972\n",
      "53: 4.540545463562012\n",
      "54: 4.540954351425171\n",
      "55: 4.539743900299072\n",
      "56: 4.540090084075928\n",
      "57: 4.540461778640747\n",
      "58: 4.541436433792114\n",
      "59: 4.539918661117554\n",
      "60: 4.539624929428101\n",
      "61: 4.540454626083374\n",
      "62: 4.540886402130127\n",
      "63: 4.540245771408081\n",
      "64: 4.54150390625\n",
      "65: 4.539796829223633\n",
      "66: 4.539978265762329\n",
      "67: 4.5398924350738525\n",
      "68: 18.36200714111328\n",
      "69: 3.419003963470459\n",
      "70: 3.939892292022705\n",
      "71: 3.9398438930511475\n",
      "72: 3.9396955966949463\n",
      "73: 3.940302848815918\n",
      "74: 3.938563823699951\n",
      "75: 3.9400196075439453\n",
      "76: 3.9401962757110596\n",
      "77: 3.9394052028656006\n",
      "78: 3.9406049251556396\n",
      "79: 3.9393980503082275\n",
      "80: 3.938917875289917\n",
      "81: 3.9404146671295166\n",
      "82: 3.93925404548645\n",
      "83: 3.9389407634735107\n",
      "84: 3.9389097690582275\n",
      "85: 17.76049256324768\n",
      "86: 13.554787158966064\n",
      "87: 13.553808450698853\n",
      "88: 13.554567098617554\n",
      "89: 13.554349899291992\n",
      "90: 13.553636074066162\n",
      "91: 13.553680181503296\n",
      "92: 13.553985118865967\n",
      "93: 13.554279804229736\n",
      "94: 13.554788589477539\n",
      "95: 13.553150415420532\n",
      "96: 13.554372549057007\n",
      "97: 13.554665565490723\n",
      "98: 13.555047035217285\n",
      "99: 13.555507898330688\n",
      "100: 13.5548677444458\n",
      "101: 13.553911685943604\n",
      "102: 27.376047372817993\n",
      "103: 7.54561448097229\n",
      "104: 7.544918537139893\n",
      "105: 7.54499077796936\n",
      "106: 7.544643878936768\n",
      "107: 7.544429302215576\n",
      "108: 7.544982433319092\n",
      "109: 7.545242547988892\n",
      "110: 7.545904159545898\n",
      "111: 7.54498815536499\n",
      "112: 7.54570746421814\n",
      "113: 7.545037746429443\n",
      "114: 7.545664072036743\n",
      "115: 7.5449793338775635\n",
      "116: 7.54498553276062\n",
      "117: 7.545435667037964\n",
      "118: 7.545655012130737\n",
      "119: 21.3670551776886\n",
      "120: 5.191026449203491\n",
      "121: 5.742810487747192\n",
      "122: 5.742659330368042\n",
      "123: 5.74243688583374\n",
      "124: 5.742278337478638\n",
      "125: 5.7428812980651855\n",
      "126: 5.742390155792236\n",
      "127: 5.742707252502441\n",
      "128: 5.743146657943726\n",
      "129: 5.742811918258667\n",
      "130: 5.741872072219849\n",
      "131: 5.742159128189087\n",
      "132: 5.742955684661865\n",
      "133: 5.742589712142944\n",
      "134: 5.742627382278442\n",
      "135: 5.74204158782959\n",
      "136: 19.56428074836731\n",
      "137: 4.540863752365112\n",
      "138: 4.540194511413574\n",
      "139: 4.539816379547119\n",
      "140: 4.540449380874634\n",
      "141: 4.540112018585205\n",
      "142: 4.540856838226318\n",
      "143: 4.541390657424927\n",
      "144: 4.539900302886963\n",
      "145: 4.539874315261841\n",
      "146: 4.539434909820557\n",
      "147: 4.541130304336548\n",
      "148: 4.541179180145264\n",
      "149: 4.540393114089966\n",
      "150: 4.539513826370239\n",
      "151: 4.540796995162964\n",
      "152: 4.5394532680511475\n",
      "153: 18.360908031463623\n",
      "154: 3.4210546016693115\n",
      "155: 3.939764976501465\n",
      "156: 3.9398434162139893\n",
      "157: 3.939161539077759\n",
      "158: 3.940129280090332\n",
      "159: 3.9409000873565674\n",
      "160: 3.9397966861724854\n",
      "161: 3.93981671333313\n",
      "162: 3.939669370651245\n",
      "163: 3.9390320777893066\n",
      "164: 3.939990520477295\n",
      "165: 3.938742160797119\n",
      "166: 3.939908266067505\n",
      "167: 3.9387173652648926\n",
      "168: 3.939528465270996\n",
      "169: 3.939452886581421\n",
      "170: 17.76155185699463\n",
      "171: 13.554677724838257\n",
      "172: 13.554211616516113\n",
      "173: 13.55417513847351\n",
      "174: 13.554422616958618\n",
      "175: 13.554357528686523\n",
      "176: 13.552985191345215\n",
      "177: 13.553295373916626\n",
      "178: 13.554322719573975\n",
      "179: 13.554447889328003\n",
      "180: 13.555207252502441\n",
      "181: 13.553965330123901\n",
      "182: 13.554359197616577\n",
      "183: 13.554359912872314\n",
      "184: 13.553361892700195\n",
      "185: 13.5544273853302\n",
      "186: 13.55409836769104\n",
      "187: 27.37556028366089\n",
      "188: 7.54381537437439\n",
      "189: 7.545364856719971\n",
      "190: 7.544786214828491\n",
      "191: 7.544191360473633\n",
      "192: 7.54500675201416\n",
      "193: 7.5440075397491455\n",
      "194: 7.543972492218018\n",
      "195: 7.544934511184692\n",
      "196: 7.54577374458313\n",
      "197: 7.545194387435913\n",
      "198: 7.545196294784546\n",
      "199: 7.54344630241394\n",
      "200: 7.545518636703491\n",
      "201: 7.544311046600342\n",
      "202: 7.544963359832764\n",
      "203: 7.545032262802124\n",
      "204: 21.36595058441162\n",
      "205: 5.191449880599976\n",
      "206: 5.7420973777771\n",
      "207: 5.742703437805176\n",
      "208: 5.741607189178467\n",
      "209: 5.74239182472229\n",
      "210: 5.742312431335449\n",
      "211: 5.742290735244751\n",
      "212: 5.741508960723877\n",
      "213: 5.742962837219238\n",
      "214: 5.741760969161987\n",
      "215: 5.74236273765564\n",
      "216: 5.7417638301849365\n",
      "217: 5.7424705028533936\n",
      "218: 5.7423882484436035\n",
      "219: 5.743150949478149\n",
      "220: 5.74211573600769\n",
      "221: 19.562530517578125\n",
      "222: 4.541314601898193\n",
      "223: 4.540858745574951\n",
      "224: 4.540025949478149\n",
      "225: 4.5411436557769775\n",
      "226: 4.540961265563965\n",
      "227: 4.540454149246216\n",
      "228: 4.539537191390991\n",
      "229: 4.540410041809082\n",
      "230: 4.539422988891602\n",
      "231: 4.54131817817688\n",
      "232: 4.54020881652832\n",
      "233: 4.539809465408325\n",
      "234: 4.539290904998779\n",
      "235: 4.539614677429199\n",
      "236: 4.540550470352173\n",
      "237: 4.5398383140563965\n",
      "238: 18.36098837852478\n",
      "239: 3.421060562133789\n",
      "240: 3.9396982192993164\n",
      "241: 3.9388530254364014\n",
      "242: 3.9396865367889404\n",
      "243: 3.9393248558044434\n",
      "244: 3.9394192695617676\n",
      "245: 3.939502239227295\n",
      "246: 3.938798189163208\n",
      "247: 3.9399943351745605\n",
      "248: 3.9388859272003174\n",
      "249: 3.9403884410858154\n",
      "250: 3.9391732215881348\n",
      "251: 3.9395015239715576\n",
      "252: 3.9389944076538086\n",
      "253: 3.9393742084503174\n",
      "254: 3.939424753189087\n"
     ]
    }
   ],
   "source": [
    "for idx, program in enumerate(programs):\n",
    "    print(\"{}: \".format(idx), end=\"\")\n",
    "    print(cnc.run(program))"
   ]
  },
  {
   "cell_type": "code",
   "execution_count": null,
   "metadata": {},
   "outputs": [],
   "source": []
  }
 ],
 "metadata": {
  "kernelspec": {
   "display_name": "Python 3",
   "language": "python",
   "name": "python3"
  },
  "language_info": {
   "codemirror_mode": {
    "name": "ipython",
    "version": 3
   },
   "file_extension": ".py",
   "mimetype": "text/x-python",
   "name": "python",
   "nbconvert_exporter": "python",
   "pygments_lexer": "ipython3",
   "version": "3.6.6"
  }
 },
 "nbformat": 4,
 "nbformat_minor": 2
}
