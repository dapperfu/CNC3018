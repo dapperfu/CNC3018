{
 "cells": [
  {
   "cell_type": "code",
   "execution_count": 1,
   "metadata": {},
   "outputs": [],
   "source": [
    "import os\n",
    "import sys\n",
    "from time import sleep\n",
    "\n",
    "import numpy as np\n",
    "\n",
    "import GCode\n",
    "import GRBL"
   ]
  },
  {
   "cell_type": "markdown",
   "metadata": {},
   "source": [
    "# Workspace Calibration\n",
    "\n",
    "Need a new home?"
   ]
  },
  {
   "cell_type": "markdown",
   "metadata": {},
   "source": [
    "# Code:"
   ]
  },
  {
   "cell_type": "code",
   "execution_count": 20,
   "metadata": {},
   "outputs": [
    {
     "name": "stdout",
     "output_type": "stream",
     "text": [
      "<Idle|MPos:-249.000,-164.000,-14.000|Bf:15,127|FS:0,1|Ov:100,100,100|A:S>\n"
     ]
    }
   ],
   "source": [
    "cnc = GRBL.GRBL(port=\"/dev/cnc_3018\")\n",
    "\n",
    "print(cnc.status)\n",
    "if \"Alarm\" in cnc.status:\n",
    "    cnc.reset()"
   ]
  },
  {
   "cell_type": "code",
   "execution_count": 21,
   "metadata": {},
   "outputs": [
    {
     "name": "stdout",
     "output_type": "stream",
     "text": [
      "1.0\n"
     ]
    }
   ],
   "source": [
    "print(cnc.laser_mode)\n"
   ]
  },
  {
   "cell_type": "code",
   "execution_count": 9,
   "metadata": {},
   "outputs": [
    {
     "data": {
      "text/plain": [
       "['ok', 'ok']"
      ]
     },
     "execution_count": 9,
     "metadata": {},
     "output_type": "execute_result"
    }
   ],
   "source": [
    "cnc.cmd(\"G28.1\")\n"
   ]
  },
  {
   "cell_type": "code",
   "execution_count": 13,
   "metadata": {},
   "outputs": [
    {
     "data": {
      "text/plain": [
       "(0, ['ok', '', \"Grbl 1.1f ['$' for help]\", \"[MSG:'$H'|'$X' to unlock]\", 'ok'])"
      ]
     },
     "execution_count": 13,
     "metadata": {},
     "output_type": "execute_result"
    }
   ],
   "source": [
    "cnc.reset()"
   ]
  },
  {
   "cell_type": "code",
   "execution_count": 14,
   "metadata": {},
   "outputs": [
    {
     "data": {
      "text/plain": [
       "10"
      ]
     },
     "execution_count": 14,
     "metadata": {},
     "output_type": "execute_result"
    }
   ],
   "source": [
    "cnc.home()"
   ]
  },
  {
   "cell_type": "code",
   "execution_count": 15,
   "metadata": {},
   "outputs": [
    {
     "data": {
      "text/plain": [
       "True"
      ]
     },
     "execution_count": 15,
     "metadata": {},
     "output_type": "execute_result"
    }
   ],
   "source": [
    "cnc.init()"
   ]
  },
  {
   "cell_type": "markdown",
   "metadata": {},
   "source": [
    "Relative, metric, jog (+10, +10) mm at 200 mm/min."
   ]
  },
  {
   "cell_type": "code",
   "execution_count": 16,
   "metadata": {},
   "outputs": [
    {
     "data": {
      "text/plain": [
       "['ok', 'ok']"
      ]
     },
     "execution_count": 16,
     "metadata": {},
     "output_type": "execute_result"
    }
   ],
   "source": [
    "cnc.cmd(\"G91G21G0X10Y10F200\")"
   ]
  },
  {
   "cell_type": "code",
   "execution_count": null,
   "metadata": {},
   "outputs": [],
   "source": []
  },
  {
   "cell_type": "code",
   "execution_count": 17,
   "metadata": {},
   "outputs": [
    {
     "data": {
      "text/plain": [
       "['ok', 'ok']"
      ]
     },
     "execution_count": 17,
     "metadata": {},
     "output_type": "execute_result"
    }
   ],
   "source": [
    "cnc.cmd(\"M3S1G1F200\")"
   ]
  },
  {
   "cell_type": "markdown",
   "metadata": {},
   "source": [
    "Laser Drill."
   ]
  },
  {
   "cell_type": "code",
   "execution_count": 25,
   "metadata": {},
   "outputs": [
    {
     "data": {
      "text/plain": [
       "['ok', 'ok']"
      ]
     },
     "execution_count": 25,
     "metadata": {},
     "output_type": "execute_result"
    }
   ],
   "source": [
    "cnc.cmd(\"G90G21G1Z-28F14\")"
   ]
  },
  {
   "cell_type": "code",
   "execution_count": 24,
   "metadata": {},
   "outputs": [
    {
     "data": {
      "text/plain": [
       "['ok', 'ok']"
      ]
     },
     "execution_count": 24,
     "metadata": {},
     "output_type": "execute_result"
    }
   ],
   "source": [
    "cnc.cmd(\"M3S255\")"
   ]
  },
  {
   "cell_type": "code",
   "execution_count": 26,
   "metadata": {},
   "outputs": [
    {
     "data": {
      "text/plain": [
       "['ok']"
      ]
     },
     "execution_count": 26,
     "metadata": {},
     "output_type": "execute_result"
    }
   ],
   "source": [
    "cnc.cmd(\"G4P1\")"
   ]
  },
  {
   "cell_type": "code",
   "execution_count": 27,
   "metadata": {},
   "outputs": [
    {
     "data": {
      "text/plain": [
       "['ok', 'ok']"
      ]
     },
     "execution_count": 27,
     "metadata": {},
     "output_type": "execute_result"
    }
   ],
   "source": [
    "cnc.cmd(\"M5\")"
   ]
  },
  {
   "cell_type": "code",
   "execution_count": null,
   "metadata": {},
   "outputs": [],
   "source": [
    "cnc.cmd(\"G91G21G0X10Y10F200\")"
   ]
  },
  {
   "cell_type": "markdown",
   "metadata": {},
   "source": [
    "Hard Home in GRBL (NOT G28)"
   ]
  },
  {
   "cell_type": "code",
   "execution_count": 29,
   "metadata": {},
   "outputs": [
    {
     "data": {
      "text/plain": [
       "10"
      ]
     },
     "execution_count": 29,
     "metadata": {},
     "output_type": "execute_result"
    }
   ],
   "source": [
    "cnc.home()"
   ]
  },
  {
   "cell_type": "markdown",
   "metadata": {},
   "source": [
    "CNC Macros?"
   ]
  },
  {
   "cell_type": "code",
   "execution_count": 33,
   "metadata": {},
   "outputs": [
    {
     "data": {
      "text/plain": [
       "True"
      ]
     },
     "execution_count": 33,
     "metadata": {},
     "output_type": "execute_result"
    }
   ],
   "source": [
    "cnc.init()"
   ]
  },
  {
   "cell_type": "code",
   "execution_count": 32,
   "metadata": {},
   "outputs": [],
   "source": [
    "program = GCode.GCode(machine=cnc)\n",
    "program.G90()\n",
    "program.G21()\n",
    "program.run()"
   ]
  },
  {
   "cell_type": "code",
   "execution_count": 34,
   "metadata": {},
   "outputs": [
    {
     "data": {
      "text/plain": [
       "['ok', 'ok']"
      ]
     },
     "execution_count": 34,
     "metadata": {},
     "output_type": "execute_result"
    }
   ],
   "source": [
    "cnc.cmd(\"G28.1\")"
   ]
  },
  {
   "cell_type": "code",
   "execution_count": 35,
   "metadata": {},
   "outputs": [
    {
     "data": {
      "text/plain": [
       "'<Idle|MPos:-259.000,-174.000,-1.000|Bf:15,127|FS:0,0|Ov:100,100,100>'"
      ]
     },
     "execution_count": 35,
     "metadata": {},
     "output_type": "execute_result"
    }
   ],
   "source": [
    "cnc.status"
   ]
  },
  {
   "cell_type": "code",
   "execution_count": 36,
   "metadata": {},
   "outputs": [],
   "source": [
    "program = GCode.GCode(machine=cnc)\n",
    "program.G0(Z=-14, F=240)\n",
    "program.M3(S=1)\n",
    "program.G1(X=10, Y=10, F=240)\n",
    "program.G1(X=5, Y=5, F=240)\n",
    "program.run()"
   ]
  },
  {
   "cell_type": "code",
   "execution_count": 37,
   "metadata": {},
   "outputs": [],
   "source": [
    "program = GCode.GCode(machine=cnc)\n",
    "program.G0(Z=-14, F=240)\n",
    "program.M3(S=1)\n",
    "program.G1(X=10, Y=10, F=240)\n",
    "program.G1(X=5, Y=5, F=240)\n",
    "program.run()"
   ]
  },
  {
   "cell_type": "code",
   "execution_count": 39,
   "metadata": {},
   "outputs": [],
   "source": [
    "calibrated_focus_thickness = 19 # [mm] @ -14mm\n",
    "material_thickness = 9"
   ]
  },
  {
   "cell_type": "code",
   "execution_count": 42,
   "metadata": {},
   "outputs": [
    {
     "data": {
      "text/plain": [
       "-24"
      ]
     },
     "execution_count": 42,
     "metadata": {},
     "output_type": "execute_result"
    }
   ],
   "source": [
    "-14-(calibrated_focus_thickness-material_thickness)"
   ]
  },
  {
   "cell_type": "code",
   "execution_count": 43,
   "metadata": {},
   "outputs": [],
   "source": [
    "program = GCode.GCode(machine=cnc)\n",
    "program.G0(Z=-24, F=240)\n",
    "program.M3(S=1)\n",
    "program.G1(X=10, Y=10, F=240)\n",
    "program.G1(X=0, Y=0, F=240)\n",
    "program.M4(S=255)\n",
    "program.G1(X=10, Y=0, F=240)\n",
    "program.M3(S=1)\n",
    "program.G1(X=0, Y=0, F=240)\n",
    "program.M4(S=255)\n",
    "program.G1(X=0, Y=10, F=240)\n",
    "program.M5()\n",
    "program.run()"
   ]
  },
  {
   "cell_type": "code",
   "execution_count": null,
   "metadata": {},
   "outputs": [],
   "source": []
  },
  {
   "cell_type": "code",
   "execution_count": null,
   "metadata": {},
   "outputs": [],
   "source": []
  },
  {
   "cell_type": "code",
   "execution_count": 52,
   "metadata": {},
   "outputs": [],
   "source": [
    "program = GCode.GCode(machine=cnc)\n",
    "program.G0(Z=-14, F=240)\n",
    "program.M3(S=1)\n",
    "program.G1(X=0, Y=7.3, F=240)\n",
    "\n",
    "program.run()"
   ]
  },
  {
   "cell_type": "code",
   "execution_count": 56,
   "metadata": {},
   "outputs": [],
   "source": [
    "program = GCode.GCode(machine=cnc)\n",
    "program.G0(Z=-14, F=240)\n",
    "program.M3(S=1)\n",
    "program.G1(X=0, Y=17, F=240)\n",
    "\n",
    "program.run()"
   ]
  },
  {
   "cell_type": "code",
   "execution_count": 58,
   "metadata": {},
   "outputs": [],
   "source": [
    "import numpy as np"
   ]
  },
  {
   "cell_type": "code",
   "execution_count": 60,
   "metadata": {},
   "outputs": [
    {
     "name": "stdout",
     "output_type": "stream",
     "text": [
      "-14.0\n",
      "-14.1\n",
      "-14.2\n",
      "-14.3\n",
      "-14.4\n",
      "-14.5\n",
      "-14.6\n",
      "-14.7\n",
      "-14.8\n",
      "-14.9\n",
      "-15.0\n",
      "-15.1\n",
      "-15.2\n",
      "-15.3\n",
      "-15.4\n",
      "-15.5\n",
      "-15.6\n",
      "-15.7\n",
      "-15.8\n",
      "-15.9\n",
      "-16.0\n",
      "-16.1\n",
      "-16.2\n",
      "-16.3\n",
      "-16.4\n",
      "-16.5\n",
      "-16.6\n",
      "-16.7\n",
      "-16.8\n",
      "-16.9\n",
      "-17.0\n",
      "-17.1\n",
      "-17.2\n",
      "-17.3\n",
      "-17.4\n",
      "-17.5\n",
      "-17.6\n",
      "-17.7\n",
      "-17.8\n",
      "-17.9\n",
      "-18.0\n",
      "-18.1\n",
      "-18.2\n",
      "-18.3\n",
      "-18.4\n",
      "-18.5\n",
      "-18.6\n",
      "-18.7\n",
      "-18.8\n",
      "-18.9\n",
      "-19.0\n",
      "-19.1\n",
      "-19.2\n",
      "-19.3\n",
      "-19.4\n",
      "-19.5\n",
      "-19.6\n",
      "-19.7\n",
      "-19.8\n",
      "-19.9\n",
      "-20.0\n",
      "-20.1\n",
      "-20.2\n",
      "-20.3\n",
      "-20.4\n",
      "-20.5\n",
      "-20.6\n",
      "-20.7\n",
      "-20.8\n",
      "-20.9\n",
      "-21.0\n",
      "-21.1\n",
      "-21.2\n",
      "-21.3\n",
      "-21.4\n",
      "-21.5\n",
      "-21.6\n",
      "-21.7\n",
      "-21.8\n",
      "-21.9\n",
      "-22.0\n",
      "-22.1\n",
      "-22.2\n",
      "-22.3\n",
      "-22.4\n",
      "-22.5\n",
      "-22.6\n",
      "-22.7\n",
      "-22.8\n",
      "-22.9\n",
      "-23.0\n",
      "-23.1\n",
      "-23.2\n",
      "-23.3\n",
      "-23.4\n",
      "-23.5\n",
      "-23.6\n",
      "-23.7\n",
      "-23.8\n",
      "-23.9\n",
      "-24.0\n",
      "-24.1\n",
      "-24.2\n",
      "-24.3\n",
      "-24.4\n",
      "-24.5\n",
      "-24.6\n",
      "-24.7\n",
      "-24.8\n",
      "-24.9\n",
      "-25.0\n",
      "-25.1\n",
      "-25.2\n",
      "-25.3\n",
      "-25.4\n",
      "-25.5\n",
      "-25.6\n",
      "-25.7\n",
      "-25.8\n",
      "-25.9\n",
      "-26.0\n",
      "-26.1\n",
      "-26.2\n",
      "-26.3\n",
      "-26.4\n",
      "-26.5\n",
      "-26.6\n",
      "-26.7\n",
      "-26.8\n",
      "-26.9\n",
      "-27.0\n",
      "-27.1\n",
      "-27.2\n",
      "-27.3\n",
      "-27.4\n",
      "-27.5\n",
      "-27.6\n",
      "-27.7\n",
      "-27.8\n",
      "-27.9\n"
     ]
    }
   ],
   "source": [
    "for Z in np.arange(-14, -28, -0.1):\n",
    "    Z=np.round(Z,2)\n",
    "    print(Z)"
   ]
  },
  {
   "cell_type": "code",
   "execution_count": 62,
   "metadata": {},
   "outputs": [],
   "source": [
    "depth_cuts = 10"
   ]
  },
  {
   "cell_type": "code",
   "execution_count": null,
   "metadata": {},
   "outputs": [
    {
     "name": "stdout",
     "output_type": "stream",
     "text": [
      "Z: -14.00, 1, 2, 3, 4, 5, 6, 7, 8, 9, \n",
      "Z: -14.10, 1, 2, 3, 4, 5, 6, 7, 8, 9, \n",
      "Z: -14.20, 1, 2, 3, 4, 5, 6, 7, 8, 9, \n",
      "Z: -14.30, 1, 2, 3, 4, 5, 6, 7, 8, 9, \n",
      "Z: -14.40, 1, 2, 3, 4, 5, 6, 7, 8, 9, \n",
      "Z: -14.50, 1, 2, 3, 4, 5, 6, 7, 8, 9, \n",
      "Z: -14.60, 1, 2, 3, 4, 5, 6, 7, 8, 9, \n",
      "Z: -14.70, 1, 2, 3, 4, 5, 6, 7, 8, 9, \n",
      "Z: -14.80, 1, 2, 3, 4, 5, 6, 7, 8, 9, \n",
      "Z: -14.90, 1, 2, 3, 4, 5, 6, 7, 8, 9, \n",
      "Z: -15.00, 1, 2, 3, 4, 5, 6, 7, 8, 9, \n",
      "Z: -15.10, 1, 2, 3, 4, 5, 6, 7, 8, 9, \n",
      "Z: -15.20, 1, 2, 3, 4, 5, 6, 7, 8, 9, \n",
      "Z: -15.30, 1, 2, 3, 4, 5, 6, 7, 8, 9, \n",
      "Z: -15.40, 1, 2, 3, 4, 5, 6, 7, 8, 9, \n",
      "Z: -15.50, 1, 2, 3, 4, 5, 6, 7, 8, 9, \n",
      "Z: -15.60, 1, 2, 3, 4, 5, 6, 7, 8, 9, \n",
      "Z: -15.70, 1, 2, 3, 4, 5, 6, 7, 8, 9, \n",
      "Z: -15.80, 1, 2, 3, 4, 5, 6, 7, 8, 9, \n",
      "Z: -15.90, 1, 2, 3, 4, 5, 6, 7, 8, 9, \n",
      "Z: -16.00, 1, 2, 3, 4, 5, 6, 7, 8, 9, \n",
      "Z: -16.10, 1, 2, 3, 4, 5, 6, 7, 8, 9, \n",
      "Z: -16.20, 1, 2, 3, 4, 5, 6, 7, 8, 9, \n",
      "Z: -16.30, 1, 2, 3, 4, 5, 6, 7, 8, 9, \n",
      "Z: -16.40, 1, 2, 3, 4, 5, 6, 7, 8, 9, \n",
      "Z: -16.50, 1, 2, 3, 4, 5, 6, 7, 8, 9, \n",
      "Z: -16.60, 1, 2, 3, 4, 5, 6, 7, 8, 9, \n",
      "Z: -16.70, 1, 2, 3, 4, 5, 6, 7, 8, 9, \n",
      "Z: -16.80, 1, 2, 3, 4, 5, 6, 7, 8, 9, \n",
      "Z: -16.90, 1, 2, 3, 4, 5, 6, 7, 8, 9, \n",
      "Z: -17.00, 1, 2, 3, 4, 5, 6, 7, 8, 9, \n",
      "Z: -17.10, 1, 2, 3, 4, 5, 6, 7, 8, 9, \n",
      "Z: -17.20, 1, 2, 3, 4, 5, 6, 7, 8, 9, \n",
      "Z: -17.30, 1, 2, 3, 4, 5, 6, 7, 8, 9, \n",
      "Z: -17.40, 1, 2, 3, 4, 5, 6, 7, 8, 9, \n",
      "Z: -17.50, 1, 2, 3, 4, 5, 6, 7, 8, 9, \n",
      "Z: -17.60, 1, 2, 3, 4, 5, 6, 7, 8, 9, \n",
      "Z: -17.70, 1, 2, 3, 4, 5, 6, 7, 8, 9, \n",
      "Z: -17.80, 1, 2, 3, 4, 5, 6, 7, 8, 9, \n",
      "Z: -17.90, 1, 2, 3, 4, 5, 6, 7, 8, 9, \n",
      "Z: -18.00, 1, 2, 3, 4, 5, 6, 7, 8, 9, \n",
      "Z: -18.10, 1, 2, 3, 4, 5, 6, 7, 8, 9, \n",
      "Z: -18.20, 1, 2, 3, 4, 5, 6, 7, 8, 9, \n",
      "Z: -18.30, 1, 2, 3, 4, 5, 6, 7, 8, 9, \n",
      "Z: -18.40, 1, 2, 3, 4, 5, 6, 7, 8, 9, \n",
      "Z: -18.50, 1, 2, 3, 4, 5, 6, 7, 8, 9, \n",
      "Z: -18.60, 1, 2, 3, 4, 5, 6, 7, 8, 9, \n",
      "Z: -18.70, 1, 2, 3, 4, 5, 6, 7, 8, 9, \n",
      "Z: -18.80, 1, 2, 3, 4, 5, 6, 7, 8, 9, \n",
      "Z: -18.90, 1, 2, 3, 4, 5, 6, 7, 8, 9, \n",
      "Z: -19.00, 1, 2, 3, 4, 5, 6, 7, 8, 9, \n",
      "Z: -19.10, 1, 2, 3, 4, 5, 6, 7, 8, 9, \n",
      "Z: -19.20, 1, 2, 3, 4, 5, 6, 7, 8, 9, \n",
      "Z: -19.30, 1, 2, 3, 4, 5, 6, 7, 8, 9, \n",
      "Z: -19.40, 1, 2, 3, 4, 5, 6, 7, 8, 9, \n",
      "Z: -19.50, 1, 2, 3, 4, 5, 6, 7, 8, 9, \n",
      "Z: -19.60, 1, 2, 3, 4, 5, 6, 7, 8, 9, \n",
      "Z: -19.70, 1, 2, 3, 4, 5, 6, 7, 8, 9, \n",
      "Z: -19.80, 1, 2, 3, 4, 5, 6, 7, 8, 9, \n",
      "Z: -19.90, 1, 2, 3, 4, 5, 6, 7, 8, 9, \n",
      "Z: -20.00, 1, 2, 3, 4, 5, 6, 7, 8, 9, \n",
      "Z: -20.10, 1, 2, 3, 4, 5, 6, 7, 8, 9, \n",
      "Z: -20.20, 1, 2, 3, 4, 5, 6, 7, 8, 9, \n",
      "Z: -20.30, 1, 2, 3, 4, 5, 6, 7, 8, 9, \n",
      "Z: -20.40, 1, 2, 3, 4, 5, 6, 7, 8, 9, \n",
      "Z: -20.50, 1, 2, 3, 4, 5, 6, 7, 8, 9, \n",
      "Z: -20.60, 1, 2, 3, 4, 5, 6, 7, 8, 9, \n",
      "Z: -20.70, 1, 2, 3, 4, 5, 6, 7, 8, 9, \n",
      "Z: -20.80, 1, 2, 3, 4, 5, 6, 7, 8, 9, \n",
      "Z: -20.90, 1, 2, 3, 4, 5, 6, 7, 8, 9, \n",
      "Z: -21.00, 1, 2, 3, 4, 5, 6, 7, 8, 9, \n",
      "Z: -21.10, 1, 2, 3, 4, 5, 6, 7, 8, 9, \n",
      "Z: -21.20, 1, 2, 3, 4, 5, 6, 7, 8, 9, \n",
      "Z: -21.30, 1, 2, 3, 4, 5, 6, 7, 8, 9, \n",
      "Z: -21.40, 1, 2, 3, 4, 5, 6, 7, 8, 9, \n",
      "Z: -21.50, 1, 2, 3, 4, 5, 6, 7, 8, 9, \n",
      "Z: -21.60, 1, 2, 3, 4, 5, 6, 7, 8, 9, \n",
      "Z: -21.70, 1, 2, 3, 4, 5, 6, 7, 8, 9, \n",
      "Z: -21.80, 1, 2, 3, 4, 5, 6, 7, 8, 9, \n",
      "Z: -21.90, 1, 2, 3, 4, 5, 6, 7, 8, 9, \n",
      "Z: -22.00, 1, 2, 3, 4, 5, 6, 7, 8, 9, \n",
      "Z: -22.10, 1, 2, 3, 4, 5, 6, 7, 8, 9, \n",
      "Z: -22.20, 1, 2, 3, 4, 5, 6, 7, 8, 9, \n",
      "Z: -22.30, 1, 2, 3, 4, 5, 6, 7, 8, 9, \n",
      "Z: -22.40, 1, 2, 3, 4, 5, 6, 7, 8, 9, \n",
      "Z: -22.50, 1, 2, 3, 4, 5, 6, 7, 8, 9, \n",
      "Z: -22.60, 1, 2, 3, 4, 5, 6, 7, 8, 9, \n",
      "Z: -22.70, 1, 2, 3, 4, 5, 6, 7, 8, 9, \n",
      "Z: -22.80, 1, 2, 3, 4, 5, 6, 7, 8, 9, \n",
      "Z: -22.90, 1, 2, 3, 4, 5, 6, 7, 8, 9, \n",
      "Z: -23.00, 1, 2, 3, 4, 5, 6, 7, 8, 9, \n",
      "Z: -23.10, 1, 2, 3, 4, 5, 6, 7, 8, 9, \n",
      "Z: -23.20, 1, 2, 3, 4, 5, 6, 7, 8, 9, \n",
      "Z: -23.30, 1, 2, 3, 4, 5, 6, 7, 8, 9, \n",
      "Z: -23.40, 1, 2, 3, 4, 5, 6, 7, 8, 9, \n",
      "Z: -23.50, 1, 2, 3, 4, 5, 6, 7, 8, 9, \n",
      "Z: -23.60, 1, 2, 3, 4, 5, 6, 7, 8, 9, \n",
      "Z: -23.70, 1, 2, 3, 4, 5, 6, 7, 8, 9, \n",
      "Z: -23.80, 1, 2, 3, 4, 5, 6, 7, 8, 9, \n",
      "Z: -23.90, 1, 2, 3, 4, 5, 6, 7, 8, 9, \n",
      "Z: -24.00, 1, 2, 3, 4, 5, 6, 7, 8, 9, \n",
      "Z: -24.10, 1, 2, 3, 4, 5, 6, 7, 8, 9, \n",
      "Z: -24.20, 1, 2, 3, 4, 5, 6, 7, 8, 9, \n",
      "Z: -24.30, 1, 2, 3, 4, 5, 6, 7, 8, 9, \n",
      "Z: -24.40, 1, 2, 3, 4, 5, 6, 7, 8, 9, \n",
      "Z: -24.50, 1, 2, 3, 4, 5, 6, 7, 8, 9, \n",
      "Z: -24.60, 1, 2, 3, 4, 5, 6, 7, 8, 9, \n",
      "Z: -24.70, 1, 2, 3, 4, 5, 6, 7, 8, 9, \n",
      "Z: -24.80, 1, 2, 3, 4, 5, 6, 7, 8, 9, \n",
      "Z: -24.90, 1, 2, 3, 4, 5, 6, 7, 8, 9, \n",
      "Z: -25.00, 1, 2, 3, 4, 5, 6, 7, 8, 9, \n",
      "Z: -25.10, 1, 2, 3, 4, 5, 6, 7, 8, 9, \n",
      "Z: -25.20, 1, 2, 3, 4, 5, 6, 7, 8, 9, \n",
      "Z: -25.30, 1, 2, 3, 4, 5, 6, 7, 8, 9, \n",
      "Z: -25.40, 1, 2, 3, 4, 5, 6, 7, 8, 9, \n",
      "Z: -25.50, 1, 2, 3, 4, 5, 6, 7, 8, 9, \n",
      "Z: -25.60, 1, 2, 3, 4, 5, 6, 7, 8, 9, \n",
      "Z: -25.70, 1, 2, 3, 4, 5, 6, 7, 8, 9, \n",
      "Z: -25.80, 1, 2, 3, 4, 5, 6, 7, 8, 9, \n",
      "Z: -25.90, 1, 2, 3, 4, 5, 6, 7, 8, 9, \n",
      "Z: -26.00, 1, 2, 3, 4, 5, 6, 7, 8, 9, \n",
      "Z: -26.10, 1, 2, 3, 4, 5, 6, 7, 8, 9, \n",
      "Z: -26.20, 1, 2, 3, 4, 5, 6, 7, 8, 9, \n",
      "Z: -26.30, 1, 2, 3, 4, 5, 6, 7, 8, 9, \n",
      "Z: -26.40, 1, 2, 3, 4, 5, 6, 7, 8, 9, \n",
      "Z: -26.50, 1, 2, 3, 4, 5, 6, 7, 8, 9, \n",
      "Z: -26.60, 1, 2, 3, 4, 5, 6, 7, 8, 9, \n",
      "Z: -26.70, 1, 2, 3, 4, 5, 6, 7, 8, 9, \n",
      "Z: -26.80, 1, 2, 3, 4, 5, 6, 7, 8, 9, \n",
      "Z: -26.90, 1, 2, 3, 4, 5, 6, 7, 8, 9, \n",
      "Z: -27.00, 1, 2, 3, 4, 5, 6, 7, 8, 9, \n",
      "Z: -27.10, 1, 2, 3, 4, 5, 6, 7, 8, 9, \n",
      "Z: -27.20, 1, 2, 3, 4, 5, 6, 7, 8, ^C\n",
      "9, ^C\n",
      "\n",
      "Z: -27.30, "
     ]
    }
   ],
   "source": [
    "for Z in np.arange(-14, -28, -0.1):\n",
    "    Z=np.round(Z,2)\n",
    "    print(\"Z: {}\".format(Z), end=\"\")\n",
    "    for cut in range(depth_cuts):\n",
    "        print(\"{}, \".format(cut), end=\"\")\n",
    "        program = GCode.GCode(machine=cnc)\n",
    "        program.G0(Z=Z, F=240)\n",
    "        program.M3(S=255)\n",
    "        program.G1(X=0, Y=17, F=240)\n",
    "        program.M3(S=255)\n",
    "        program.G1(X=0, Y=7.3, F=240)\n",
    "        program.run()\n",
    "    print()"
   ]
  },
  {
   "cell_type": "code",
   "execution_count": null,
   "metadata": {},
   "outputs": [],
   "source": [
    "program = GCode.GCode(machine=cnc)\n",
    "program.G0(Z=Z, F=240)\n",
    "program.M3(S=255)\n",
    "program.G1(X=0, Y=17, F=240)\n",
    "program.M3(S=255)\n",
    "program.G1(X=0, Y=7.3, F=240)\n",
    "program.run()"
   ]
  },
  {
   "cell_type": "code",
   "execution_count": 75,
   "metadata": {},
   "outputs": [
    {
     "data": {
      "text/plain": [
       "{'MPos': '-259.000,-174.000,-1.000', 'Bf': '15,127', 'FS': '0,0'}"
      ]
     },
     "execution_count": 75,
     "metadata": {},
     "output_type": "execute_result"
    }
   ],
   "source": [
    "status = dict()\n",
    "for stat in status_:\n",
    "    if \":\" not in sa\n",
    "    tat:\n",
    "        continue\n",
    "    field, value = stat.split(\":\")\n",
    "    status[field] = value\n",
    "status\n"
   ]
  },
  {
   "cell_type": "code",
   "execution_count": 82,
   "metadata": {},
   "outputs": [],
   "source": [
    "cnc.reset()\n"
   ]
  },
  {
   "cell_type": "code",
   "execution_count": 216,
   "metadata": {},
   "outputs": [
    {
     "data": {
      "text/plain": [
       "['ok', 'ok']"
      ]
     },
     "execution_count": 216,
     "metadata": {},
     "output_type": "execute_result"
    }
   ],
   "source": [
    "cnc.cmd(\"G91G1Y-1F100\")\n"
   ]
  },
  {
   "cell_type": "code",
   "execution_count": 212,
   "metadata": {},
   "outputs": [
    {
     "data": {
      "text/plain": [
       "['ok', 'ok']"
      ]
     },
     "execution_count": 212,
     "metadata": {},
     "output_type": "execute_result"
    }
   ],
   "source": [
    "cnc.cmd(\"G28.1\")\n"
   ]
  },
  {
   "cell_type": "code",
   "execution_count": 213,
   "metadata": {},
   "outputs": [
    {
     "data": {
      "text/plain": [
       "'<Idle|MPos:-255.900,-136.000,-1.000|Bf:15,127|FS:0,1|Ov:100,100,100|A:S>'"
      ]
     },
     "execution_count": 213,
     "metadata": {},
     "output_type": "execute_result"
    }
   ],
   "source": [
    "cnc.status\n"
   ]
  },
  {
   "cell_type": "code",
   "execution_count": null,
   "metadata": {},
   "outputs": [],
   "source": [
    "cnc.cmd(\"\")\n"
   ]
  },
  {
   "cell_type": "code",
   "execution_count": 217,
   "metadata": {},
   "outputs": [
    {
     "data": {
      "text/plain": [
       "['ok', 'ok']"
      ]
     },
     "execution_count": 217,
     "metadata": {},
     "output_type": "execute_result"
    }
   ],
   "source": [
    "cnc.cmd(\"M4S75\")\n",
    "cnc.cmd(\"G91G1X50F200\")\n"
   ]
  },
  {
   "cell_type": "code",
   "execution_count": 218,
   "metadata": {},
   "outputs": [
    {
     "data": {
      "text/plain": [
       "'<Idle|MPos:-205.900,-137.000,-1.000|Bf:15,127|FS:0,0|Ov:100,100,100>'"
      ]
     },
     "execution_count": 218,
     "metadata": {},
     "output_type": "execute_result"
    }
   ],
   "source": [
    "cnc.status\n"
   ]
  },
  {
   "cell_type": "code",
   "execution_count": 220,
   "metadata": {},
   "outputs": [
    {
     "data": {
      "text/plain": [
       "['ok', 'ok']"
      ]
     },
     "execution_count": 220,
     "metadata": {},
     "output_type": "execute_result"
    }
   ],
   "source": [
    "cnc.cmd(\"G28\")\n"
   ]
  }
 ],
 "metadata": {
  "kernelspec": {
   "display_name": "Python 3",
   "language": "python",
   "name": "python3"
  },
  "language_info": {
   "codemirror_mode": {
    "name": "ipython",
    "version": 3
   },
   "file_extension": ".py",
   "mimetype": "text/x-python",
   "name": "python",
   "nbconvert_exporter": "python",
   "pygments_lexer": "ipython3",
   "version": "3.6.6"
  }
 },
 "nbformat": 4,
 "nbformat_minor": 2
}
