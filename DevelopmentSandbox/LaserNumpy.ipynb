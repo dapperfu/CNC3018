{
 "cells": [
  {
   "cell_type": "code",
   "execution_count": null,
   "metadata": {},
   "outputs": [],
   "source": [
    "import os\n",
    "import sys\n",
    "from time import sleep\n",
    "\n",
    "import GRBL\n",
    "import numpy as np\n",
    "\n",
    "import GCode"
   ]
  },
  {
   "cell_type": "markdown",
   "metadata": {},
   "source": [
    "# Inkscape G-Code Laser Numpy"
   ]
  },
  {
   "cell_type": "markdown",
   "metadata": {},
   "source": [
    "## Test Setup"
   ]
  },
  {
   "cell_type": "markdown",
   "metadata": {},
   "source": [
    "# Code:"
   ]
  },
  {
   "cell_type": "code",
   "execution_count": 2,
   "metadata": {
    "scrolled": true
   },
   "outputs": [
    {
     "name": "stdout",
     "output_type": "stream",
     "text": [
      "ok\n"
     ]
    }
   ],
   "source": [
    "cnc = GRBL.GRBL(port=\"/dev/cnc_3018\")\n",
    "cnc.laser_mode = 1\n"
   ]
  },
  {
   "cell_type": "code",
   "execution_count": 19,
   "metadata": {},
   "outputs": [],
   "source": [
    "def init():\n",
    "    program = GCode.GCode()\n",
    "    program.G0(F=500)\n",
    "    program.G1(F=300)\n",
    "    program.M3(S=1)\n",
    "    program.G28()\n",
    "    program.G21()  # Metric Units\n",
    "    program.G90()  # Absolute positioning.\n",
    "    program.G92(X=0, Y=0)\n",
    "    return program\n"
   ]
  },
  {
   "cell_type": "code",
   "execution_count": 3,
   "metadata": {},
   "outputs": [
    {
     "name": "stdout",
     "output_type": "stream",
     "text": [
      "1.0\n"
     ]
    }
   ],
   "source": [
    "print(cnc.laser_mode)\n"
   ]
  },
  {
   "cell_type": "code",
   "execution_count": 4,
   "metadata": {},
   "outputs": [
    {
     "data": {
      "text/plain": [
       "'<Idle|MPos:-255.900,-136.000,-1.000|Bf:15,127|FS:0,0|Ov:100,100,100>'"
      ]
     },
     "execution_count": 4,
     "metadata": {},
     "output_type": "execute_result"
    }
   ],
   "source": [
    "cnc.status\n"
   ]
  },
  {
   "cell_type": "code",
   "execution_count": 17,
   "metadata": {},
   "outputs": [
    {
     "data": {
      "text/plain": [
       "0.10468697547912598"
      ]
     },
     "execution_count": 17,
     "metadata": {},
     "output_type": "execute_result"
    }
   ],
   "source": [
    "cnc.run(\"G28\")\n"
   ]
  },
  {
   "cell_type": "code",
   "execution_count": null,
   "metadata": {},
   "outputs": [],
   "source": [
    "cnc.run(\"G0Y{:0.4f}F500\".format(89 / 2))\n"
   ]
  },
  {
   "cell_type": "code",
   "execution_count": 10,
   "metadata": {},
   "outputs": [
    {
     "data": {
      "text/plain": [
       "'44.5000'"
      ]
     },
     "execution_count": 10,
     "metadata": {},
     "output_type": "execute_result"
    }
   ],
   "source": [
    "\"{:0.4f}\".format(89 / 2)\n"
   ]
  },
  {
   "cell_type": "code",
   "execution_count": 20,
   "metadata": {},
   "outputs": [
    {
     "data": {
      "text/plain": [
       "0.7279822826385498"
      ]
     },
     "execution_count": 20,
     "metadata": {},
     "output_type": "execute_result"
    }
   ],
   "source": [
    "cnc.run(init())\n"
   ]
  },
  {
   "cell_type": "code",
   "execution_count": 12,
   "metadata": {},
   "outputs": [
    {
     "data": {
      "text/plain": [
       "0.1053013801574707"
      ]
     },
     "execution_count": 12,
     "metadata": {},
     "output_type": "execute_result"
    }
   ],
   "source": [
    "cnc.run(\"G0Y{:0.4f}F500\".format(89 / 2))\n"
   ]
  },
  {
   "cell_type": "code",
   "execution_count": 41,
   "metadata": {},
   "outputs": [],
   "source": [
    "X = np.arange(0, 250, 1)\n",
    "\n",
    "f = (3 * 2 * np.pi) / 250\n",
    "\n",
    "A = 25\n",
    "Y = A * np.sin(X * f) + 89 / 2\n"
   ]
  },
  {
   "cell_type": "code",
   "execution_count": 44,
   "metadata": {},
   "outputs": [
    {
     "data": {
      "text/plain": [
       "[<matplotlib.lines.Line2D at 0x7f3eb45347b8>]"
      ]
     },
     "execution_count": 44,
     "metadata": {},
     "output_type": "execute_result"
    },
    {
     "data": {
      "image/png": "[encoded data removed]",
      "text/plain": [
       "<Figure size 432x288 with 1 Axes>"
      ]
     },
     "metadata": {},
     "output_type": "display_data"
    }
   ],
   "source": [
    "plt.plot(X, Y)\n"
   ]
  },
  {
   "cell_type": "code",
   "execution_count": 46,
   "metadata": {},
   "outputs": [
    {
     "data": {
      "text/plain": [
       "0"
      ]
     },
     "execution_count": 46,
     "metadata": {},
     "output_type": "execute_result"
    }
   ],
   "source": [
    "x\n"
   ]
  },
  {
   "cell_type": "code",
   "execution_count": 47,
   "metadata": {},
   "outputs": [
    {
     "data": {
      "text/plain": [
       "44.5"
      ]
     },
     "execution_count": 47,
     "metadata": {},
     "output_type": "execute_result"
    }
   ],
   "source": [
    "y\n"
   ]
  },
  {
   "cell_type": "code",
   "execution_count": 59,
   "metadata": {},
   "outputs": [],
   "source": [
    "prog = GCode.GCode()\n",
    "prog.G28()\n",
    "prog.G0(X=X[0], Y=Y[0])\n",
    "\n",
    "prog.M4(S=250)\n",
    "for x, y in zip(X, Y):\n",
    "    prog.G1(X=np.round(x, 4), Y=np.round(y, 4), F=300)\n",
    "prog.M5()\n",
    "prog.G28()\n"
   ]
  },
  {
   "cell_type": "code",
   "execution_count": 60,
   "metadata": {},
   "outputs": [
    {
     "data": {
      "text/html": [
       "<b>G28</b> <i></i><br>\n",
       "<b>G0</b> <i>X0 Y44.5</i><br>\n",
       "<b>M4</b> <i>S250</i><br>\n",
       "<b>G1</b> <i>X0 Y44.5 F300</i><br>\n",
       "<b>G1</b> <i>X1 Y46.3832 F300</i><br>\n",
       "<b>G1</b> <i>X2 Y48.2556 F300</i><br>\n",
       "<b>G1</b> <i>X3 Y50.1068 F300</i><br>\n",
       "<b>G1</b> <i>X4 Y51.926 F300</i><br>\n",
       "<b>G1</b> <i>X5 Y53.7031 F300</i><br>\n",
       "<b>G1</b> <i>X6 Y55.4279 F300</i><br>\n",
       "<b>G1</b> <i>X7 Y57.0906 F300</i><br>\n",
       "<b>G1</b> <i>X8 Y58.6817 F300</i><br>\n",
       "<b>G1</b> <i>X9 Y60.1923 F300</i><br>\n",
       "<b>G1</b> <i>X10 Y61.6137 F300</i><br>\n",
       "<b>G1</b> <i>X11 Y62.9378 F300</i><br>\n",
       "<b>G1</b> <i>X12 Y64.1572 F300</i><br>\n",
       "<b>G1</b> <i>X13 Y65.2649 F300</i><br>\n",
       "<b>G1</b> <i>X14 Y66.2546 F300</i><br>\n",
       "<b>G1</b> <i>X15 Y67.1207 F300</i><br>\n",
       "<b>G1</b> <i>X16 Y67.8582 F300</i><br>\n",
       "<b>G1</b> <i>X17 Y68.463 F300</i><br>\n",
       "<b>G1</b> <i>X18 Y68.9317 F300</i><br>\n",
       "<b>G1</b> <i>X19 Y69.2615 F300</i><br>\n",
       "<b>G1</b> <i>X20 Y69.4507 F300</i><br>\n",
       "<b>G1</b> <i>X21 Y69.498 F300</i><br>\n",
       "<b>G1</b> <i>X22 Y69.4033 F300</i><br>\n",
       "<b>G1</b> <i>X23 Y69.1671 F300</i><br>\n",
       "<b>G1</b> <i>X24 Y68.7908 F300</i><br>\n",
       "<b>G1</b> <i>X25 Y68.2764 F300</i><br>\n",
       "<b>G1</b> <i>X26 Y67.6269 F300</i><br>\n",
       "<b>G1</b> <i>X27 Y66.846 F300</i><br>\n",
       "<b>G1</b> <i>X28 Y65.9382 F300</i><br>\n",
       "<b>G1</b> <i>X29 Y64.9085 F300</i><br>\n",
       "<b>G1</b> <i>X30 Y63.7628 F300</i><br>\n",
       "<b>G1</b> <i>X31 Y62.5077 F300</i><br>\n",
       "<b>G1</b> <i>X32 Y61.1503 F300</i><br>\n",
       "<b>G1</b> <i>X33 Y59.6983 F300</i><br>\n",
       "<b>G1</b> <i>X34 Y58.1599 F300</i><br>\n",
       "<b>G1</b> <i>X35 Y56.5438 F300</i><br>\n",
       "<b>G1</b> <i>X36 Y54.8594 F300</i><br>\n",
       "<b>G1</b> <i>X37 Y53.1161 F300</i><br>\n",
       "<b>G1</b> <i>X38 Y51.3238 F300</i><br>\n",
       "<b>G1</b> <i>X39 Y49.4927 F300</i><br>\n",
       "<b>G1</b> <i>X40 Y47.6333 F300</i><br>\n",
       "<b>G1</b> <i>X41 Y45.7561 F300</i><br>\n",
       "<b>G1</b> <i>X42 Y43.8717 F300</i><br>\n",
       "<b>G1</b> <i>X43 Y41.991 F300</i><br>\n",
       "<b>G1</b> <i>X44 Y40.1244 F300</i><br>\n",
       "<b>G1</b> <i>X45 Y38.2828 F300</i><br>\n",
       "<b>G1</b> <i>X46 Y36.4764 F300</i><br>\n",
       "<b>G1</b> <i>X47 Y34.7157 F300</i><br>\n",
       "<b>G1</b> <i>X48 Y33.0105 F300</i><br>\n",
       "<b>G1</b> <i>X49 Y31.3706 F300</i><br>\n",
       "<b>G1</b> <i>X50 Y29.8054 F300</i><br>\n",
       "<b>G1</b> <i>X51 Y28.3236 F300</i><br>\n",
       "<b>G1</b> <i>X52 Y26.9338 F300</i><br>\n",
       "<b>G1</b> <i>X53 Y25.6437 F300</i><br>\n",
       "<b>G1</b> <i>X54 Y24.4608 F300</i><br>\n",
       "<b>G1</b> <i>X55 Y23.3918 F300</i><br>\n",
       "<b>G1</b> <i>X56 Y22.4427 F300</i><br>\n",
       "<b>G1</b> <i>X57 Y21.619 F300</i><br>\n",
       "<b>G1</b> <i>X58 Y20.9252 F300</i><br>\n",
       "<b>G1</b> <i>X59 Y20.3655 F300</i><br>\n",
       "<b>G1</b> <i>X60 Y19.9428 F300</i><br>\n",
       "<b>G1</b> <i>X61 Y19.6597 F300</i><br>\n",
       "<b>G1</b> <i>X62 Y19.5178 F300</i><br>\n",
       "<b>G1</b> <i>X63 Y19.5178 F300</i><br>\n",
       "<b>G1</b> <i>X64 Y19.6597 F300</i><br>\n",
       "<b>G1</b> <i>X65 Y19.9428 F300</i><br>\n",
       "<b>G1</b> <i>X66 Y20.3655 F300</i><br>\n",
       "<b>G1</b> <i>X67 Y20.9252 F300</i><br>\n",
       "<b>G1</b> <i>X68 Y21.619 F300</i><br>\n",
       "<b>G1</b> <i>X69 Y22.4427 F300</i><br>\n",
       "<b>G1</b> <i>X70 Y23.3918 F300</i><br>\n",
       "<b>G1</b> <i>X71 Y24.4608 F300</i><br>\n",
       "<b>G1</b> <i>X72 Y25.6437 F300</i><br>\n",
       "<b>G1</b> <i>X73 Y26.9338 F300</i><br>\n",
       "<b>G1</b> <i>X74 Y28.3236 F300</i><br>\n",
       "<b>G1</b> <i>X75 Y29.8054 F300</i><br>\n",
       "<b>G1</b> <i>X76 Y31.3706 F300</i><br>\n",
       "<b>G1</b> <i>X77 Y33.0105 F300</i><br>\n",
       "<b>G1</b> <i>X78 Y34.7157 F300</i><br>\n",
       "<b>G1</b> <i>X79 Y36.4764 F300</i><br>\n",
       "<b>G1</b> <i>X80 Y38.2828 F300</i><br>\n",
       "<b>G1</b> <i>X81 Y40.1244 F300</i><br>\n",
       "<b>G1</b> <i>X82 Y41.991 F300</i><br>\n",
       "<b>G1</b> <i>X83 Y43.8717 F300</i><br>\n",
       "<b>G1</b> <i>X84 Y45.7561 F300</i><br>\n",
       "<b>G1</b> <i>X85 Y47.6333 F300</i><br>\n",
       "<b>G1</b> <i>X86 Y49.4927 F300</i><br>\n",
       "<b>G1</b> <i>X87 Y51.3238 F300</i><br>\n",
       "<b>G1</b> <i>X88 Y53.1161 F300</i><br>\n",
       "<b>G1</b> <i>X89 Y54.8594 F300</i><br>\n",
       "<b>G1</b> <i>X90 Y56.5438 F300</i><br>\n",
       "<b>G1</b> <i>X91 Y58.1599 F300</i><br>\n",
       "<b>G1</b> <i>X92 Y59.6983 F300</i><br>\n",
       "<b>G1</b> <i>X93 Y61.1503 F300</i><br>\n",
       "<b>G1</b> <i>X94 Y62.5077 F300</i><br>\n",
       "<b>G1</b> <i>X95 Y63.7628 F300</i><br>\n",
       "<b>G1</b> <i>X96 Y64.9085 F300</i><br>\n",
       "<b>G1</b> <i>X97 Y65.9382 F300</i><br>\n",
       "<b>G1</b> <i>X98 Y66.846 F300</i><br>\n",
       "<b>G1</b> <i>X99 Y67.6269 F300</i><br>\n",
       "<b>G1</b> <i>X100 Y68.2764 F300</i><br>\n",
       "<b>G1</b> <i>X101 Y68.7908 F300</i><br>\n",
       "<b>G1</b> <i>X102 Y69.1671 F300</i><br>\n",
       "<b>G1</b> <i>X103 Y69.4033 F300</i><br>\n",
       "<b>G1</b> <i>X104 Y69.498 F300</i><br>\n",
       "<b>G1</b> <i>X105 Y69.4507 F300</i><br>\n",
       "<b>G1</b> <i>X106 Y69.2615 F300</i><br>\n",
       "<b>G1</b> <i>X107 Y68.9317 F300</i><br>\n",
       "<b>G1</b> <i>X108 Y68.463 F300</i><br>\n",
       "<b>G1</b> <i>X109 Y67.8582 F300</i><br>\n",
       "<b>G1</b> <i>X110 Y67.1207 F300</i><br>\n",
       "<b>G1</b> <i>X111 Y66.2546 F300</i><br>\n",
       "<b>G1</b> <i>X112 Y65.2649 F300</i><br>\n",
       "<b>G1</b> <i>X113 Y64.1572 F300</i><br>\n",
       "<b>G1</b> <i>X114 Y62.9378 F300</i><br>\n",
       "<b>G1</b> <i>X115 Y61.6137 F300</i><br>\n",
       "<b>G1</b> <i>X116 Y60.1923 F300</i><br>\n",
       "<b>G1</b> <i>X117 Y58.6817 F300</i><br>\n",
       "<b>G1</b> <i>X118 Y57.0906 F300</i><br>\n",
       "<b>G1</b> <i>X119 Y55.4279 F300</i><br>\n",
       "<b>G1</b> <i>X120 Y53.7031 F300</i><br>\n",
       "<b>G1</b> <i>X121 Y51.926 F300</i><br>\n",
       "<b>G1</b> <i>X122 Y50.1068 F300</i><br>\n",
       "<b>G1</b> <i>X123 Y48.2556 F300</i><br>\n",
       "<b>G1</b> <i>X124 Y46.3832 F300</i><br>\n",
       "<b>G1</b> <i>X125 Y44.5 F300</i><br>\n",
       "<b>G1</b> <i>X126 Y42.6168 F300</i><br>\n",
       "<b>G1</b> <i>X127 Y40.7444 F300</i><br>\n",
       "<b>G1</b> <i>X128 Y38.8932 F300</i><br>\n",
       "<b>G1</b> <i>X129 Y37.074 F300</i><br>\n",
       "<b>G1</b> <i>X130 Y35.2969 F300</i><br>\n",
       "<b>G1</b> <i>X131 Y33.5721 F300</i><br>\n",
       "<b>G1</b> <i>X132 Y31.9094 F300</i><br>\n",
       "<b>G1</b> <i>X133 Y30.3183 F300</i><br>\n",
       "<b>G1</b> <i>X134 Y28.8077 F300</i><br>\n",
       "<b>G1</b> <i>X135 Y27.3863 F300</i><br>\n",
       "<b>G1</b> <i>X136 Y26.0622 F300</i><br>\n",
       "<b>G1</b> <i>X137 Y24.8428 F300</i><br>\n",
       "<b>G1</b> <i>X138 Y23.7351 F300</i><br>\n",
       "<b>G1</b> <i>X139 Y22.7454 F300</i><br>\n",
       "<b>G1</b> <i>X140 Y21.8793 F300</i><br>\n",
       "<b>G1</b> <i>X141 Y21.1418 F300</i><br>\n",
       "<b>G1</b> <i>X142 Y20.537 F300</i><br>\n",
       "<b>G1</b> <i>X143 Y20.0683 F300</i><br>\n",
       "<b>G1</b> <i>X144 Y19.7385 F300</i><br>\n",
       "<b>G1</b> <i>X145 Y19.5493 F300</i><br>\n",
       "<b>G1</b> <i>X146 Y19.502 F300</i><br>\n",
       "<b>G1</b> <i>X147 Y19.5967 F300</i><br>\n",
       "<b>G1</b> <i>X148 Y19.8329 F300</i><br>\n",
       "<b>G1</b> <i>X149 Y20.2092 F300</i><br>\n",
       "<b>G1</b> <i>X150 Y20.7236 F300</i><br>\n",
       "<b>G1</b> <i>X151 Y21.3731 F300</i><br>\n",
       "<b>G1</b> <i>X152 Y22.154 F300</i><br>\n",
       "<b>G1</b> <i>X153 Y23.0618 F300</i><br>\n",
       "<b>G1</b> <i>X154 Y24.0915 F300</i><br>\n",
       "<b>G1</b> <i>X155 Y25.2372 F300</i><br>\n",
       "<b>G1</b> <i>X156 Y26.4923 F300</i><br>\n",
       "<b>G1</b> <i>X157 Y27.8497 F300</i><br>\n",
       "<b>G1</b> <i>X158 Y29.3017 F300</i><br>\n",
       "<b>G1</b> <i>X159 Y30.8401 F300</i><br>\n",
       "<b>G1</b> <i>X160 Y32.4562 F300</i><br>\n",
       "<b>G1</b> <i>X161 Y34.1406 F300</i><br>\n",
       "<b>G1</b> <i>X162 Y35.8839 F300</i><br>\n",
       "<b>G1</b> <i>X163 Y37.6762 F300</i><br>\n",
       "<b>G1</b> <i>X164 Y39.5073 F300</i><br>\n",
       "<b>G1</b> <i>X165 Y41.3667 F300</i><br>\n",
       "<b>G1</b> <i>X166 Y43.2439 F300</i><br>\n",
       "<b>G1</b> <i>X167 Y45.1283 F300</i><br>\n",
       "<b>G1</b> <i>X168 Y47.009 F300</i><br>\n",
       "<b>G1</b> <i>X169 Y48.8756 F300</i><br>\n",
       "<b>G1</b> <i>X170 Y50.7172 F300</i><br>\n",
       "<b>G1</b> <i>X171 Y52.5236 F300</i><br>\n",
       "<b>G1</b> <i>X172 Y54.2843 F300</i><br>\n",
       "<b>G1</b> <i>X173 Y55.9895 F300</i><br>\n",
       "<b>G1</b> <i>X174 Y57.6294 F300</i><br>\n",
       "<b>G1</b> <i>X175 Y59.1946 F300</i><br>\n",
       "<b>G1</b> <i>X176 Y60.6764 F300</i><br>\n",
       "<b>G1</b> <i>X177 Y62.0662 F300</i><br>\n",
       "<b>G1</b> <i>X178 Y63.3563 F300</i><br>\n",
       "<b>G1</b> <i>X179 Y64.5392 F300</i><br>\n",
       "<b>G1</b> <i>X180 Y65.6082 F300</i><br>\n",
       "<b>G1</b> <i>X181 Y66.5573 F300</i><br>\n",
       "<b>G1</b> <i>X182 Y67.381 F300</i><br>\n",
       "<b>G1</b> <i>X183 Y68.0748 F300</i><br>\n",
       "<b>G1</b> <i>X184 Y68.6345 F300</i><br>\n",
       "<b>G1</b> <i>X185 Y69.0572 F300</i><br>\n",
       "<b>G1</b> <i>X186 Y69.3403 F300</i><br>\n",
       "<b>G1</b> <i>X187 Y69.4822 F300</i><br>\n",
       "<b>G1</b> <i>X188 Y69.4822 F300</i><br>\n",
       "<b>G1</b> <i>X189 Y69.3403 F300</i><br>\n",
       "<b>G1</b> <i>X190 Y69.0572 F300</i><br>\n",
       "<b>G1</b> <i>X191 Y68.6345 F300</i><br>\n",
       "<b>G1</b> <i>X192 Y68.0748 F300</i><br>\n",
       "<b>G1</b> <i>X193 Y67.381 F300</i><br>\n",
       "<b>G1</b> <i>X194 Y66.5573 F300</i><br>\n",
       "<b>G1</b> <i>X195 Y65.6082 F300</i><br>\n",
       "<b>G1</b> <i>X196 Y64.5392 F300</i><br>\n",
       "<b>G1</b> <i>X197 Y63.3563 F300</i><br>\n",
       "<b>G1</b> <i>X198 Y62.0662 F300</i><br>\n",
       "<b>G1</b> <i>X199 Y60.6764 F300</i><br>\n",
       "<b>G1</b> <i>X200 Y59.1946 F300</i><br>\n",
       "<b>G1</b> <i>X201 Y57.6294 F300</i><br>\n",
       "<b>G1</b> <i>X202 Y55.9895 F300</i><br>\n",
       "<b>G1</b> <i>X203 Y54.2843 F300</i><br>\n",
       "<b>G1</b> <i>X204 Y52.5236 F300</i><br>\n",
       "<b>G1</b> <i>X205 Y50.7172 F300</i><br>\n",
       "<b>G1</b> <i>X206 Y48.8756 F300</i><br>\n",
       "<b>G1</b> <i>X207 Y47.009 F300</i><br>\n",
       "<b>G1</b> <i>X208 Y45.1283 F300</i><br>\n",
       "<b>G1</b> <i>X209 Y43.2439 F300</i><br>\n",
       "<b>G1</b> <i>X210 Y41.3667 F300</i><br>\n",
       "<b>G1</b> <i>X211 Y39.5073 F300</i><br>\n",
       "<b>G1</b> <i>X212 Y37.6762 F300</i><br>\n",
       "<b>G1</b> <i>X213 Y35.8839 F300</i><br>\n",
       "<b>G1</b> <i>X214 Y34.1406 F300</i><br>\n",
       "<b>G1</b> <i>X215 Y32.4562 F300</i><br>\n",
       "<b>G1</b> <i>X216 Y30.8401 F300</i><br>\n",
       "<b>G1</b> <i>X217 Y29.3017 F300</i><br>\n",
       "<b>G1</b> <i>X218 Y27.8497 F300</i><br>\n",
       "<b>G1</b> <i>X219 Y26.4923 F300</i><br>\n",
       "<b>G1</b> <i>X220 Y25.2372 F300</i><br>\n",
       "<b>G1</b> <i>X221 Y24.0915 F300</i><br>\n",
       "<b>G1</b> <i>X222 Y23.0618 F300</i><br>\n",
       "<b>G1</b> <i>X223 Y22.154 F300</i><br>\n",
       "<b>G1</b> <i>X224 Y21.3731 F300</i><br>\n",
       "<b>G1</b> <i>X225 Y20.7236 F300</i><br>\n",
       "<b>G1</b> <i>X226 Y20.2092 F300</i><br>\n",
       "<b>G1</b> <i>X227 Y19.8329 F300</i><br>\n",
       "<b>G1</b> <i>X228 Y19.5967 F300</i><br>\n",
       "<b>G1</b> <i>X229 Y19.502 F300</i><br>\n",
       "<b>G1</b> <i>X230 Y19.5493 F300</i><br>\n",
       "<b>G1</b> <i>X231 Y19.7385 F300</i><br>\n",
       "<b>G1</b> <i>X232 Y20.0683 F300</i><br>\n",
       "<b>G1</b> <i>X233 Y20.537 F300</i><br>\n",
       "<b>G1</b> <i>X234 Y21.1418 F300</i><br>\n",
       "<b>G1</b> <i>X235 Y21.8793 F300</i><br>\n",
       "<b>G1</b> <i>X236 Y22.7454 F300</i><br>\n",
       "<b>G1</b> <i>X237 Y23.7351 F300</i><br>\n",
       "<b>G1</b> <i>X238 Y24.8428 F300</i><br>\n",
       "<b>G1</b> <i>X239 Y26.0622 F300</i><br>\n",
       "<b>G1</b> <i>X240 Y27.3863 F300</i><br>\n",
       "<b>G1</b> <i>X241 Y28.8077 F300</i><br>\n",
       "<b>G1</b> <i>X242 Y30.3183 F300</i><br>\n",
       "<b>G1</b> <i>X243 Y31.9094 F300</i><br>\n",
       "<b>G1</b> <i>X244 Y33.5721 F300</i><br>\n",
       "<b>G1</b> <i>X245 Y35.2969 F300</i><br>\n",
       "<b>G1</b> <i>X246 Y37.074 F300</i><br>\n",
       "<b>G1</b> <i>X247 Y38.8932 F300</i><br>\n",
       "<b>G1</b> <i>X248 Y40.7444 F300</i><br>\n",
       "<b>G1</b> <i>X249 Y42.6168 F300</i><br>\n",
       "<b>M5</b> <i></i><br>\n",
       "<b>G28</b> <i></i>"
      ],
      "text/plain": [
       "<GCode>[cmds=255]"
      ]
     },
     "execution_count": 60,
     "metadata": {},
     "output_type": "execute_result"
    }
   ],
   "source": [
    "prog\n"
   ]
  },
  {
   "cell_type": "code",
   "execution_count": 61,
   "metadata": {
    "scrolled": true
   },
   "outputs": [
    {
     "data": {
      "text/plain": [
       "92.31557559967041"
      ]
     },
     "execution_count": 61,
     "metadata": {},
     "output_type": "execute_result"
    }
   ],
   "source": [
    "cnc.run(prog)\n"
   ]
  },
  {
   "cell_type": "code",
   "execution_count": 63,
   "metadata": {},
   "outputs": [],
   "source": [
    "X = np.arange(0, 250, 5)\n",
    "\n",
    "f = (3 * 2 * np.pi) / 250\n",
    "\n",
    "A = 10\n",
    "Y = A * np.sin(X * f) + 89 / 2\n"
   ]
  },
  {
   "cell_type": "code",
   "execution_count": 64,
   "metadata": {},
   "outputs": [],
   "source": [
    "prog = GCode.GCode()\n",
    "prog.G28()\n",
    "prog.G0(X=X[0], Y=Y[0])\n",
    "\n",
    "prog.M4(S=250)\n",
    "for x, y in zip(X, Y):\n",
    "    prog.G1(X=np.round(x, 4), Y=np.round(y, 4), F=300)\n",
    "prog.M5()\n",
    "prog.G28()\n"
   ]
  },
  {
   "cell_type": "code",
   "execution_count": 65,
   "metadata": {},
   "outputs": [
    {
     "data": {
      "text/plain": [
       "62.3743634223938"
      ]
     },
     "execution_count": 65,
     "metadata": {},
     "output_type": "execute_result"
    }
   ],
   "source": [
    "cnc.run(prog)\n"
   ]
  },
  {
   "cell_type": "code",
   "execution_count": 75,
   "metadata": {},
   "outputs": [],
   "source": [
    "prog = GCode.GCode()\n",
    "prog.G28()\n",
    "prog.G0(X=0, Y=89 / 2)\n",
    "\n",
    "prog.M4(S=250)\n",
    "\n",
    "\n",
    "for i, x in enumerate(np.arange(0, 250, 10)):\n",
    "    if np.mod(i, 2) == 0:\n",
    "        prog.M4(S=100)\n",
    "        prog.G1(X=np.round(x, 4), Y=np.round(89 / 2, 4), F=300)\n",
    "    else:\n",
    "        prog.M4(S=255)\n",
    "        prog.G2(X=np.round(x, 4), Y=np.round(89 / 2, 4), F=200)\n",
    "prog.M5()\n",
    "prog.G28()\n"
   ]
  },
  {
   "cell_type": "code",
   "execution_count": 76,
   "metadata": {},
   "outputs": [
    {
     "data": {
      "text/html": [
       "<b>G28</b> <i></i><br>\n",
       "<b>G0</b> <i>X0 Y44.5</i><br>\n",
       "<b>M4</b> <i>S250</i><br>\n",
       "<b>M4</b> <i>S100</i><br>\n",
       "<b>G1</b> <i>X0 Y44.5 F300</i><br>\n",
       "<b>M4</b> <i>S255</i><br>\n",
       "<b>G2</b> <i>X10 Y44.5 F200</i><br>\n",
       "<b>M4</b> <i>S100</i><br>\n",
       "<b>G1</b> <i>X20 Y44.5 F300</i><br>\n",
       "<b>M4</b> <i>S255</i><br>\n",
       "<b>G2</b> <i>X30 Y44.5 F200</i><br>\n",
       "<b>M4</b> <i>S100</i><br>\n",
       "<b>G1</b> <i>X40 Y44.5 F300</i><br>\n",
       "<b>M4</b> <i>S255</i><br>\n",
       "<b>G2</b> <i>X50 Y44.5 F200</i><br>\n",
       "<b>M4</b> <i>S100</i><br>\n",
       "<b>G1</b> <i>X60 Y44.5 F300</i><br>\n",
       "<b>M4</b> <i>S255</i><br>\n",
       "<b>G2</b> <i>X70 Y44.5 F200</i><br>\n",
       "<b>M4</b> <i>S100</i><br>\n",
       "<b>G1</b> <i>X80 Y44.5 F300</i><br>\n",
       "<b>M4</b> <i>S255</i><br>\n",
       "<b>G2</b> <i>X90 Y44.5 F200</i><br>\n",
       "<b>M4</b> <i>S100</i><br>\n",
       "<b>G1</b> <i>X100 Y44.5 F300</i><br>\n",
       "<b>M4</b> <i>S255</i><br>\n",
       "<b>G2</b> <i>X110 Y44.5 F200</i><br>\n",
       "<b>M4</b> <i>S100</i><br>\n",
       "<b>G1</b> <i>X120 Y44.5 F300</i><br>\n",
       "<b>M4</b> <i>S255</i><br>\n",
       "<b>G2</b> <i>X130 Y44.5 F200</i><br>\n",
       "<b>M4</b> <i>S100</i><br>\n",
       "<b>G1</b> <i>X140 Y44.5 F300</i><br>\n",
       "<b>M4</b> <i>S255</i><br>\n",
       "<b>G2</b> <i>X150 Y44.5 F200</i><br>\n",
       "<b>M4</b> <i>S100</i><br>\n",
       "<b>G1</b> <i>X160 Y44.5 F300</i><br>\n",
       "<b>M4</b> <i>S255</i><br>\n",
       "<b>G2</b> <i>X170 Y44.5 F200</i><br>\n",
       "<b>M4</b> <i>S100</i><br>\n",
       "<b>G1</b> <i>X180 Y44.5 F300</i><br>\n",
       "<b>M4</b> <i>S255</i><br>\n",
       "<b>G2</b> <i>X190 Y44.5 F200</i><br>\n",
       "<b>M4</b> <i>S100</i><br>\n",
       "<b>G1</b> <i>X200 Y44.5 F300</i><br>\n",
       "<b>M4</b> <i>S255</i><br>\n",
       "<b>G2</b> <i>X210 Y44.5 F200</i><br>\n",
       "<b>M4</b> <i>S100</i><br>\n",
       "<b>G1</b> <i>X220 Y44.5 F300</i><br>\n",
       "<b>M4</b> <i>S255</i><br>\n",
       "<b>G2</b> <i>X230 Y44.5 F200</i><br>\n",
       "<b>M4</b> <i>S100</i><br>\n",
       "<b>G1</b> <i>X240 Y44.5 F300</i><br>\n",
       "<b>G28</b> <i></i>"
      ],
      "text/plain": [
       "<GCode>[cmds=54]"
      ]
     },
     "execution_count": 76,
     "metadata": {},
     "output_type": "execute_result"
    }
   ],
   "source": [
    "prog\n"
   ]
  },
  {
   "cell_type": "code",
   "execution_count": 77,
   "metadata": {},
   "outputs": [
    {
     "data": {
      "text/plain": [
       "63.280966997146606"
      ]
     },
     "execution_count": 77,
     "metadata": {},
     "output_type": "execute_result"
    }
   ],
   "source": [
    "cnc.run(prog)\n"
   ]
  }
 ],
 "metadata": {
  "kernelspec": {
   "display_name": "Python 3",
   "language": "python",
   "name": "python3"
  },
  "language_info": {
   "codemirror_mode": {
    "name": "ipython",
    "version": 3
   },
   "file_extension": ".py",
   "mimetype": "text/x-python",
   "name": "python",
   "nbconvert_exporter": "python",
   "pygments_lexer": "ipython3",
   "version": "3.6.5"
  }
 },
 "nbformat": 4,
 "nbformat_minor": 2
}
