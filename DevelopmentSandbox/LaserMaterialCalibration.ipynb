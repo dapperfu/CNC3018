{
 "cells": [
  {
   "cell_type": "code",
   "execution_count": null,
   "metadata": {},
   "outputs": [],
   "source": [
    "import os\n",
    "import sys\n",
    "from time import sleep\n",
    "\n",
    "import GRBL\n",
    "import numpy as np\n",
    "\n",
    "import GCode"
   ]
  },
  {
   "cell_type": "markdown",
   "metadata": {},
   "source": [
    "# Laser Material Calibration\n",
    "\n",
    "Loop over laser power settings and feed rate to determine how a given material looks."
   ]
  },
  {
   "cell_type": "markdown",
   "metadata": {},
   "source": [
    "# Code:"
   ]
  },
  {
   "cell_type": "code",
   "execution_count": 6,
   "metadata": {
    "scrolled": true
   },
   "outputs": [
    {
     "name": "stdout",
     "output_type": "stream",
     "text": [
      "ok\n"
     ]
    }
   ],
   "source": [
    "cnc = GRBL.GRBL(port=\"/dev/cnc_3018\")\n",
    "sleep(1)\n",
    "cnc.laser_mode = 1\n"
   ]
  },
  {
   "cell_type": "code",
   "execution_count": 7,
   "metadata": {},
   "outputs": [
    {
     "name": "stdout",
     "output_type": "stream",
     "text": [
      "1.0\n"
     ]
    }
   ],
   "source": [
    "print(cnc.laser_mode)\n"
   ]
  },
  {
   "cell_type": "code",
   "execution_count": 8,
   "metadata": {},
   "outputs": [
    {
     "data": {
      "text/plain": [
       "'<Alarm|MPos:0.000,0.000,0.000|Bf:15,127|FS:0,0|WCO:0.000,0.000,0.000>'"
      ]
     },
     "execution_count": 8,
     "metadata": {},
     "output_type": "execute_result"
    }
   ],
   "source": [
    "cnc.status\n"
   ]
  },
  {
   "cell_type": "code",
   "execution_count": 9,
   "metadata": {},
   "outputs": [],
   "source": [
    "cnc.kill_alarm()\n"
   ]
  },
  {
   "cell_type": "code",
   "execution_count": 11,
   "metadata": {},
   "outputs": [],
   "source": [
    "def laser_aim(self):\n",
    "    self.cmd(\"G1F1\")\n",
    "    self.cmd(\"M3S1\")\n",
    "    input(\"Aim laser and press enter to continue...\")\n",
    "    self.cmd(\"M3S0\")\n",
    "    self.cmd(\"M5\")\n"
   ]
  },
  {
   "cell_type": "code",
   "execution_count": 50,
   "metadata": {},
   "outputs": [
    {
     "name": "stdout",
     "output_type": "stream",
     "text": [
      "Aim laser and press enter to continue...\n"
     ]
    }
   ],
   "source": [
    "laser_aim(cnc)\n"
   ]
  },
  {
   "cell_type": "code",
   "execution_count": 20,
   "metadata": {},
   "outputs": [],
   "source": [
    "def init():\n",
    "    program = GCode.GCode()\n",
    "    program.G21()  # Metric Units\n",
    "    program.G90()  # Absolute positioning.\n",
    "    program.G92(X=0, Y=0)\n",
    "    return program\n"
   ]
  },
  {
   "cell_type": "code",
   "execution_count": 21,
   "metadata": {},
   "outputs": [],
   "source": [
    "def line(X=0, Y0=0, Yf=20, feed=100, power=255, dynamic_power=True):\n",
    "    prog = GCode.GCode()\n",
    "    prog.G0(X=X, Y=Y0)\n",
    "    if dynamic_power:\n",
    "        prog.M4(S=power)\n",
    "    else:\n",
    "        prog.M3(S=power)\n",
    "    prog.G1(X=X, Y=Yf, F=feed)\n",
    "    prog.M5()\n",
    "    return prog\n"
   ]
  },
  {
   "cell_type": "code",
   "execution_count": 17,
   "metadata": {},
   "outputs": [],
   "source": [
    "L = line()\n"
   ]
  },
  {
   "cell_type": "code",
   "execution_count": 22,
   "metadata": {},
   "outputs": [
    {
     "data": {
      "text/html": [
       "<b>G0</b> <i>X0 Y0</i><br>\n",
       "<b>M4</b> <i>S255</i><br>\n",
       "<b>G1</b> <i>X0 Y20 F100</i><br>\n",
       "<b>M5</b> <i></i>"
      ],
      "text/plain": [
       "<GCode>[cmds=4]"
      ]
     },
     "execution_count": 22,
     "metadata": {},
     "output_type": "execute_result"
    }
   ],
   "source": [
    "L\n"
   ]
  },
  {
   "cell_type": "code",
   "execution_count": 23,
   "metadata": {},
   "outputs": [
    {
     "data": {
      "text/plain": [
       "0.3119051456451416"
      ]
     },
     "execution_count": 23,
     "metadata": {},
     "output_type": "execute_result"
    }
   ],
   "source": [
    "cnc.run(init())\n"
   ]
  },
  {
   "cell_type": "code",
   "execution_count": 24,
   "metadata": {},
   "outputs": [
    {
     "data": {
      "text/plain": [
       "0.4162750244140625"
      ]
     },
     "execution_count": 24,
     "metadata": {},
     "output_type": "execute_result"
    }
   ],
   "source": [
    "cnc.run(line())\n"
   ]
  },
  {
   "cell_type": "code",
   "execution_count": 45,
   "metadata": {},
   "outputs": [],
   "source": [
    "L0 = line(X=0, Y0=20, Yf=40, feed=200, power=255)\n",
    "L1 = line(X=2, Y0=20, Yf=40, feed=200, power=255)\n"
   ]
  },
  {
   "cell_type": "code",
   "execution_count": 40,
   "metadata": {},
   "outputs": [],
   "source": [
    "Xs = list(range(4, 142, 2))\n",
    "powers = np.linspace(0, 255, len(Xs), dtype=np.uint8)\n"
   ]
  },
  {
   "cell_type": "code",
   "execution_count": 46,
   "metadata": {},
   "outputs": [],
   "source": [
    "cnc.run(L0)\n",
    "cnc.run(L1)\n",
    "\n",
    "for X, power in zip(Xs, powers):\n",
    "    L = line(X=X, Y0=20, Yf=40, feed=200, power=power)\n",
    "    cnc.run(L)\n"
   ]
  },
  {
   "cell_type": "code",
   "execution_count": 47,
   "metadata": {},
   "outputs": [],
   "source": [
    "Y0 = 40\n",
    "Yf = Y0 + 20\n",
    "feed = 300\n"
   ]
  },
  {
   "cell_type": "code",
   "execution_count": 48,
   "metadata": {},
   "outputs": [],
   "source": [
    "L0 = line(X=0, Y0=Y0, Yf=Yf, feed=feed, power=255)\n",
    "L1 = line(X=2, Y0=Y0, Yf=Yf, feed=feed, power=255)\n",
    "\n",
    "cnc.run(L0)\n",
    "cnc.run(L1)\n",
    "\n",
    "for X, power in zip(Xs, powers):\n",
    "    L = line(X=X, Y0=Y0, Yf=Yf, feed=feed, power=power)\n",
    "    cnc.run(L)\n"
   ]
  },
  {
   "cell_type": "code",
   "execution_count": 49,
   "metadata": {},
   "outputs": [
    {
     "data": {
      "text/plain": [
       "['ok', 'ok']"
      ]
     },
     "execution_count": 49,
     "metadata": {},
     "output_type": "execute_result"
    }
   ],
   "source": [
    "cnc.cmd(\"G0X0Y0\")\n"
   ]
  }
 ],
 "metadata": {
  "kernelspec": {
   "display_name": "Python 3",
   "language": "python",
   "name": "python3"
  },
  "language_info": {
   "codemirror_mode": {
    "name": "ipython",
    "version": 3
   },
   "file_extension": ".py",
   "mimetype": "text/x-python",
   "name": "python",
   "nbconvert_exporter": "python",
   "pygments_lexer": "ipython3",
   "version": "3.6.5"
  }
 },
 "nbformat": 4,
 "nbformat_minor": 2
}
