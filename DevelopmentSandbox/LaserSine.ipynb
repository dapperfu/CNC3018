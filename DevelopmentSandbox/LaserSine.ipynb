{
 "cells": [
  {
   "cell_type": "markdown",
   "metadata": {},
   "source": [
    "# Laser Sine Tests"
   ]
  },
  {
   "cell_type": "markdown",
   "metadata": {},
   "source": [
    "## Test Setup"
   ]
  },
  {
   "cell_type": "markdown",
   "metadata": {},
   "source": [
    "# Code:"
   ]
  },
  {
   "cell_type": "code",
   "execution_count": 23,
   "metadata": {
    "collapsed": true
   },
   "outputs": [],
   "source": [
    "import GCode\n",
    "import GRBL\n",
    "import numpy as np\n",
    "from uuid import uuid4\n",
    "import os\n",
    "import sys\n",
    "from time import sleep\n",
    "\n",
    "sys.path.append(\"..\")\n",
    "from utils import picture"
   ]
  },
  {
   "cell_type": "code",
   "execution_count": 24,
   "metadata": {},
   "outputs": [
    {
     "name": "stdout",
     "output_type": "stream",
     "text": [
      "ok\n",
      "Laser Mode: 1.0\n"
     ]
    }
   ],
   "source": [
    "cnc = GRBL.GRBL(port=\"/dev/cnc_3018\")\n",
    "cnc.laser_mode = 1\n",
    "\n",
    "print(\"Laser Mode: {}\".format(cnc.laser_mode))\n",
    "\n",
    "def init(feed = 100):\n",
    "    program = GCode.GCode()\n",
    "    program.G21() # Metric Units\n",
    "    program.G90() # Relative positioning.\n",
    "    program.G92(X=0, Y=0, Z=0) # Zero on where we put the workpiece\n",
    "    program.G1(F=feed) \n",
    "    return program\n",
    "\n",
    "def end():\n",
    "    program = GCode.GCode()\n",
    "    program.M5()\n",
    "    program.G0(X=0)\n",
    "    return program"
   ]
  },
  {
   "cell_type": "code",
   "execution_count": 33,
   "metadata": {},
   "outputs": [],
   "source": [
    "X = np.arange(0, 2*4*np.pi*10, 1)\n",
    "test_run = GCode.GCode()\n",
    "test_run+=init(feed=500)\n",
    "test_run.G0(X=X[0])\n",
    "test_run.M4(S=255)\n",
    "for x in X:\n",
    "    y = 20*np.sin(x/10)\n",
    "    # Keep GRBL happy.\n",
    "    x = np.round(x, 4)\n",
    "    y = np.round(y, 4)\n",
    "    \n",
    "    test_run.G1(X=x, Y=y)\n",
    "test_run+=end()"
   ]
  },
  {
   "cell_type": "code",
   "execution_count": 34,
   "metadata": {
    "collapsed": true
   },
   "outputs": [],
   "source": [
    "gcode_file = \"LaserSine.gcode\""
   ]
  },
  {
   "cell_type": "code",
   "execution_count": 35,
   "metadata": {
    "collapsed": true
   },
   "outputs": [],
   "source": [
    "test_run.save(gcode_file)\n",
    "\n",
    "del test_run\n",
    "test_run = GCode.GCode()\n",
    "\n",
    "test_run.load(gcode_file)"
   ]
  },
  {
   "cell_type": "code",
   "execution_count": 36,
   "metadata": {},
   "outputs": [
    {
     "data": {
      "text/plain": [
       "['G21', 'G90', 'G92 Z0 Y0 X0', 'G1 F500', 'G0 X0.0']"
      ]
     },
     "execution_count": 36,
     "metadata": {},
     "output_type": "execute_result"
    }
   ],
   "source": [
    "test_run.buffer[0:5]"
   ]
  },
  {
   "cell_type": "code",
   "execution_count": 47,
   "metadata": {},
   "outputs": [],
   "source": [
    "try:\n",
    "    cnc.run(test_run)\n",
    "except KeyboardInterrupt as error:\n",
    "    print(\"Feed Hold\")\n",
    "    cnc.cmd(\"!\")\n",
    "    while 1:\n",
    "        try:\n",
    "            cnc.reset()\n",
    "            break;\n",
    "        except:\n",
    "            sleep(2)\n",
    "    print(\"^C\")"
   ]
  },
  {
   "cell_type": "code",
   "execution_count": 48,
   "metadata": {},
   "outputs": [],
   "source": [
    "shift = GCode.GCode()\n",
    "shift.G91()\n",
    "shift.G0(X=np.round(10*np.pi/5, 4))\n",
    "shift.G90()"
   ]
  },
  {
   "cell_type": "code",
   "execution_count": 49,
   "metadata": {},
   "outputs": [
    {
     "data": {
      "text/plain": [
       "0.31099891662597656"
      ]
     },
     "execution_count": 49,
     "metadata": {},
     "output_type": "execute_result"
    }
   ],
   "source": [
    "cnc.run(shift)"
   ]
  }
 ],
 "metadata": {
  "kernelspec": {
   "display_name": "Python 3",
   "language": "python",
   "name": "python3"
  },
  "language_info": {
   "codemirror_mode": {
    "name": "ipython",
    "version": 3
   },
   "file_extension": ".py",
   "mimetype": "text/x-python",
   "name": "python",
   "nbconvert_exporter": "python",
   "pygments_lexer": "ipython3",
   "version": "3.5.2"
  }
 },
 "nbformat": 4,
 "nbformat_minor": 2
}
