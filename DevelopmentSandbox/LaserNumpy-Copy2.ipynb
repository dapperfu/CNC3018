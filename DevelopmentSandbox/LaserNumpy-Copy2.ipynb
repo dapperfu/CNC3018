{
 "cells": [
  {
   "cell_type": "markdown",
   "metadata": {},
   "source": [
    "# Inkscape G-Code Laser Numpy"
   ]
  },
  {
   "cell_type": "markdown",
   "metadata": {},
   "source": [
    "## Test Setup"
   ]
  },
  {
   "cell_type": "markdown",
   "metadata": {},
   "source": [
    "# Code:"
   ]
  },
  {
   "cell_type": "code",
   "execution_count": 3,
   "metadata": {},
   "outputs": [],
   "source": [
    "import GCode\n",
    "import GRBL\n",
    "import numpy as np\n",
    "import os\n",
    "import sys\n",
    "from time import sleep\n",
    "import matplotlib.pyplot as plt\n",
    "%matplotlib inline"
   ]
  },
  {
   "cell_type": "code",
   "execution_count": 4,
   "metadata": {
    "scrolled": true
   },
   "outputs": [
    {
     "name": "stdout",
     "output_type": "stream",
     "text": [
      "ok\n"
     ]
    }
   ],
   "source": [
    "cnc = GRBL.GRBL(port=\"/dev/cnc_3018\")\n",
    "cnc.laser_mode = 1"
   ]
  },
  {
   "cell_type": "code",
   "execution_count": 5,
   "metadata": {},
   "outputs": [],
   "source": [
    "def init():\n",
    "    program = GCode.GCode()\n",
    "    program.G0(F=500)\n",
    "    program.G1(F=300)\n",
    "    program.M3(S=1)\n",
    "    program.G28()\n",
    "    program.G21() # Metric Units\n",
    "    program.G90() # Absolute positioning.\n",
    "    program.G92(X=0, Y=0)\n",
    "    return program"
   ]
  },
  {
   "cell_type": "code",
   "execution_count": 6,
   "metadata": {},
   "outputs": [
    {
     "data": {
      "text/plain": [
       "0.104248046875"
      ]
     },
     "execution_count": 6,
     "metadata": {},
     "output_type": "execute_result"
    }
   ],
   "source": [
    "cnc.run(\"G28\")"
   ]
  },
  {
   "cell_type": "code",
   "execution_count": 61,
   "metadata": {
    "scrolled": true
   },
   "outputs": [
    {
     "data": {
      "text/plain": [
       "92.31557559967041"
      ]
     },
     "execution_count": 61,
     "metadata": {},
     "output_type": "execute_result"
    }
   ],
   "source": [
    "cnc.run(prog)"
   ]
  },
  {
   "cell_type": "code",
   "execution_count": 7,
   "metadata": {},
   "outputs": [
    {
     "data": {
      "text/plain": [
       "'<Idle|MPos:-255.900,-136.000,-1.000|Bf:15,127|FS:0,0|Ov:100,100,100>'"
      ]
     },
     "execution_count": 7,
     "metadata": {},
     "output_type": "execute_result"
    }
   ],
   "source": [
    "cnc.status"
   ]
  },
  {
   "cell_type": "code",
   "execution_count": 10,
   "metadata": {
    "scrolled": true
   },
   "outputs": [
    {
     "data": {
      "text/plain": [
       "255.0"
      ]
     },
     "execution_count": 10,
     "metadata": {},
     "output_type": "execute_result"
    }
   ],
   "source": [
    "266.7-11.7"
   ]
  },
  {
   "cell_type": "code",
   "execution_count": 16,
   "metadata": {},
   "outputs": [
    {
     "data": {
      "text/plain": [
       "array([ 11.7,  11.8,  11.9, ..., 254.7, 254.8, 254.9])"
      ]
     },
     "execution_count": 16,
     "metadata": {},
     "output_type": "execute_result"
    }
   ],
   "source": [
    "X0 = 11.7\n",
    "Xf = 255\n",
    "Y0 = 89/2\n",
    "\n",
    "dX=1\n",
    "\n",
    "X=np.arange(X0, Xf, dX)\n",
    "X"
   ]
  },
  {
   "cell_type": "code",
   "execution_count": 25,
   "metadata": {},
   "outputs": [],
   "source": [
    "prog=GCode.GCode()\n",
    "prog.G28()\n",
    "prog.G0(X=X[0], Y=0)\n",
    "draw = True\n",
    "prog.M4(S=255)\n",
    "for y in np.arange(0, 89, 0.1):\n",
    "    y=np.round(y, 4)\n",
    "    if draw:\n",
    "        prog.G1(Y=y, F=300)\n",
    "    else:\n",
    "        prog.G0(Y=y, F=300)\n",
    "    \n",
    "    draw = not draw\n",
    "    \n",
    "prog.M5()\n",
    "prog.G28()"
   ]
  },
  {
   "cell_type": "code",
   "execution_count": 26,
   "metadata": {},
   "outputs": [
    {
     "data": {
      "text/plain": [
       "96.73859405517578"
      ]
     },
     "execution_count": 26,
     "metadata": {},
     "output_type": "execute_result"
    }
   ],
   "source": [
    "cnc.run(prog)"
   ]
  },
  {
   "cell_type": "code",
   "execution_count": 29,
   "metadata": {},
   "outputs": [],
   "source": [
    "prog=GCode.GCode()\n",
    "prog.G28()\n",
    "\n",
    "prog.G0(X=X[0], Y=Y0)\n",
    "draw = True\n",
    "prog.M4(S=255)\n",
    "for x in np.arange(X[0], X[-1], 2.5):\n",
    "    x=np.round(x, 4)\n",
    "    if draw:\n",
    "        prog.G1(X=x, F=100)\n",
    "    else:\n",
    "        prog.G0(X=x, F=1000)\n",
    "    \n",
    "    draw = not draw\n",
    "    \n",
    "prog.M5()\n",
    "prog.G28()"
   ]
  },
  {
   "cell_type": "code",
   "execution_count": 31,
   "metadata": {},
   "outputs": [
    {
     "data": {
      "text/plain": [
       "114.17742848396301"
      ]
     },
     "execution_count": 31,
     "metadata": {},
     "output_type": "execute_result"
    }
   ],
   "source": [
    "cnc.run(prog)"
   ]
  },
  {
   "cell_type": "code",
   "execution_count": 36,
   "metadata": {},
   "outputs": [
    {
     "data": {
      "image/png": "[encoded data removed]",
      "text/plain": [
       "<Figure size 432x288 with 1 Axes>"
      ]
     },
     "metadata": {},
     "output_type": "display_data"
    }
   ],
   "source": [
    "cycles=2\n",
    "f = (cycles*2*np.pi)/(X[-1]-X[0])\n",
    "\n",
    "A=88/2\n",
    "Y=A*np.sin((X-X[0])*f)+Y0\n",
    "_ = plt.plot(X, Y)"
   ]
  },
  {
   "cell_type": "code",
   "execution_count": 46,
   "metadata": {},
   "outputs": [],
   "source": [
    "prog=GCode.GCode()\n",
    "prog.G28()\n",
    "prog.G0(X=X[0], Y=Y[0])\n",
    "\n",
    "prog.M4(S=255)\n",
    "for x, y in zip(X, Y):\n",
    "    prog.G1(X=np.round(x, 4), Y=np.round(y, 4), F=400)\n",
    "prog.M5()\n",
    "prog.G28()"
   ]
  },
  {
   "cell_type": "code",
   "execution_count": 47,
   "metadata": {},
   "outputs": [
    {
     "data": {
      "text/plain": [
       "265.69346594810486"
      ]
     },
     "execution_count": 47,
     "metadata": {},
     "output_type": "execute_result"
    }
   ],
   "source": [
    "cnc.run(prog)"
   ]
  },
  {
   "cell_type": "code",
   "execution_count": 63,
   "metadata": {
    "scrolled": true
   },
   "outputs": [
    {
     "data": {
      "image/png": "[encoded data removed]",
      "text/plain": [
       "<Figure size 432x288 with 1 Axes>"
      ]
     },
     "metadata": {},
     "output_type": "display_data"
    }
   ],
   "source": [
    "X0 = 11.7\n",
    "Xf = 255\n",
    "Y0 = 89/2\n",
    "\n",
    "dX=0.5\n",
    "\n",
    "X=np.arange(X0, Xf, dX)\n",
    "\n",
    "cycles=4\n",
    "f = (cycles*2*np.pi)/(X[-1]-X[0])\n",
    "\n",
    "A=88/4\n",
    "Y=A*np.sin((X-X[0])*f)+Y0\n",
    "_ = plt.plot(X, Y)"
   ]
  },
  {
   "cell_type": "code",
   "execution_count": 64,
   "metadata": {},
   "outputs": [],
   "source": [
    "prog=GCode.GCode()\n",
    "prog.G28()\n",
    "prog.G0(X=X[0], Y=Y[0])\n",
    "\n",
    "prog.M4(S=255)\n",
    "for x, y in zip(X, Y):\n",
    "    prog.G1(X=np.round(x, 4), Y=np.round(y, 4), F=400)\n",
    "prog.M5()\n",
    "prog.G28()"
   ]
  },
  {
   "cell_type": "code",
   "execution_count": 65,
   "metadata": {},
   "outputs": [
    {
     "data": {
      "text/plain": [
       "73.57672715187073"
      ]
     },
     "execution_count": 65,
     "metadata": {},
     "output_type": "execute_result"
    }
   ],
   "source": [
    "cnc.run(prog)"
   ]
  },
  {
   "cell_type": "code",
   "execution_count": 68,
   "metadata": {},
   "outputs": [
    {
     "data": {
      "image/png": "[encoded data removed]",
      "text/plain": [
       "<Figure size 432x288 with 1 Axes>"
      ]
     },
     "metadata": {},
     "output_type": "display_data"
    }
   ],
   "source": [
    "X0 = 11.7\n",
    "Xf = 255\n",
    "Y0 = 89/2\n",
    "\n",
    "dX=0.5\n",
    "\n",
    "X=np.arange(X0, Xf, dX)\n",
    "\n",
    "cycles=8\n",
    "f = (cycles*2*np.pi)/(X[-1]-X[0])\n",
    "\n",
    "A=88/8\n",
    "Y=A*np.sin((X-X[0])*f)+Y0\n",
    "_ = plt.plot(X, Y)"
   ]
  },
  {
   "cell_type": "code",
   "execution_count": 69,
   "metadata": {},
   "outputs": [],
   "source": [
    "prog=GCode.GCode()\n",
    "prog.G28()\n",
    "prog.G0(X=X[0], Y=Y[0])\n",
    "\n",
    "prog.M4(S=255)\n",
    "for x, y in zip(X, Y):\n",
    "    prog.G1(X=np.round(x, 4), Y=np.round(y, 4), F=400)\n",
    "prog.M5()\n",
    "prog.G28()"
   ]
  },
  {
   "cell_type": "code",
   "execution_count": 70,
   "metadata": {},
   "outputs": [
    {
     "data": {
      "text/plain": [
       "76.28939032554626"
      ]
     },
     "execution_count": 70,
     "metadata": {},
     "output_type": "execute_result"
    }
   ],
   "source": [
    "cnc.run(prog)"
   ]
  },
  {
   "cell_type": "code",
   "execution_count": null,
   "metadata": {},
   "outputs": [],
   "source": []
  }
 ],
 "metadata": {
  "kernelspec": {
   "display_name": "Python 3",
   "language": "python",
   "name": "python3"
  },
  "language_info": {
   "codemirror_mode": {
    "name": "ipython",
    "version": 3
   },
   "file_extension": ".py",
   "mimetype": "text/x-python",
   "name": "python",
   "nbconvert_exporter": "python",
   "pygments_lexer": "ipython3",
   "version": "3.6.5"
  }
 },
 "nbformat": 4,
 "nbformat_minor": 2
}
