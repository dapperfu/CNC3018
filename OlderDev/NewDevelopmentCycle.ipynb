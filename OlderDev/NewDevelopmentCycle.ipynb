{
 "cells": [
  {
   "cell_type": "code",
   "execution_count": 1,
   "metadata": {},
   "outputs": [],
   "source": [
    "import glob"
   ]
  },
  {
   "cell_type": "code",
   "execution_count": 4,
   "metadata": {},
   "outputs": [
    {
     "data": {
      "text/plain": [
       "['BirthdayDevelopment/LineTypes-Copy3.ipynb',\n",
       " 'BirthdayDevelopment/10_Playback.ipynb',\n",
       " 'BirthdayDevelopment/NewDevCycle.ipynb',\n",
       " 'BirthdayDevelopment/11_Parsing.ipynb',\n",
       " 'BirthdayDevelopment/03_LaserCircles-Copy1.ipynb',\n",
       " 'BirthdayDevelopment/LaserNumpy-Copy1.ipynb',\n",
       " 'BirthdayDevelopment/04_Squares.ipynb',\n",
       " 'BirthdayDevelopment/05_Shading.ipynb',\n",
       " 'BirthdayDevelopment/03_LaserCircles-Copy3.ipynb',\n",
       " 'BirthdayDevelopment/01_Bricks2.ipynb',\n",
       " 'BirthdayDevelopment/02_Sine-Copy4.ipynb',\n",
       " 'BirthdayDevelopment/05_Shading-Copy1.ipynb',\n",
       " 'BirthdayDevelopment/02_Sine-Copy1.ipynb',\n",
       " 'BirthdayDevelopment/03_LaserCircles.ipynb',\n",
       " 'BirthdayDevelopment/04_Squares-Copy1.ipynb',\n",
       " 'BirthdayDevelopment/10_Playback-Copy1.ipynb',\n",
       " 'BirthdayDevelopment/02_Sine.ipynb',\n",
       " 'BirthdayDevelopment/LaserNumpy-Copy2.ipynb',\n",
       " 'BirthdayDevelopment/Shapes-Copy5.ipynb',\n",
       " 'BirthdayDevelopment/02_Sine-Copy2.ipynb',\n",
       " 'BirthdayDevelopment/02_Sine-Copy3.ipynb',\n",
       " 'BirthdayDevelopment/03_LaserCircles-Copy2.ipynb']"
      ]
     },
     "execution_count": 4,
     "metadata": {},
     "output_type": "execute_result"
    }
   ],
   "source": [
    "glob.glob(\"BirthdayDevelopment/*.ipynb\", recursive=False)"
   ]
  },
  {
   "cell_type": "code",
   "execution_count": 19,
   "metadata": {},
   "outputs": [],
   "source": [
    "copies = list()\n",
    "originals = list()\n",
    "for nb in glob.glob(\"BirthdayDevelopment/*.ipynb\", recursive=False):\n",
    "    basename, ext = os.path.basename(nb).split(\".\")\n",
    "    if \"-Copy\" in basename:\n",
    "        copies.append(nb)\n",
    "    else:\n",
    "        originals.append(nb)"
   ]
  },
  {
   "cell_type": "code",
   "execution_count": 20,
   "metadata": {},
   "outputs": [
    {
     "data": {
      "text/plain": [
       "['BirthdayDevelopment/10_Playback.ipynb',\n",
       " 'BirthdayDevelopment/NewDevCycle.ipynb',\n",
       " 'BirthdayDevelopment/11_Parsing.ipynb',\n",
       " 'BirthdayDevelopment/04_Squares.ipynb',\n",
       " 'BirthdayDevelopment/05_Shading.ipynb',\n",
       " 'BirthdayDevelopment/01_Bricks2.ipynb',\n",
       " 'BirthdayDevelopment/03_LaserCircles.ipynb',\n",
       " 'BirthdayDevelopment/02_Sine.ipynb']"
      ]
     },
     "execution_count": 20,
     "metadata": {},
     "output_type": "execute_result"
    }
   ],
   "source": [
    "originals"
   ]
  },
  {
   "cell_type": "code",
   "execution_count": 21,
   "metadata": {},
   "outputs": [],
   "source": [
    "for original in originals:\n",
    "    break"
   ]
  },
  {
   "cell_type": "code",
   "execution_count": 25,
   "metadata": {},
   "outputs": [],
   "source": [
    "base, ext = os.path.splitext(original)"
   ]
  },
  {
   "cell_type": "code",
   "execution_count": 35,
   "metadata": {},
   "outputs": [
    {
     "name": "stdout",
     "output_type": "stream",
     "text": [
      "BirthdayDevelopment/10_Playback-Copy1.ipynb\n"
     ]
    }
   ],
   "source": [
    "highest_copy = None\n",
    "for copy_num in range(1,100,1):\n",
    "    copy_name = base+\"-Copy{}\".format(copy_num)+ext\n",
    "    if os.path.exists(copy_name):\n",
    "        print(copy_name)"
   ]
  },
  {
   "cell_type": "code",
   "execution_count": 34,
   "metadata": {
    "scrolled": true
   },
   "outputs": [
    {
     "data": {
      "text/plain": [
       "'BirthdayDevelopment/10_Playback-Copy99.ipynb'"
      ]
     },
     "execution_count": 34,
     "metadata": {},
     "output_type": "execute_result"
    }
   ],
   "source": []
  },
  {
   "cell_type": "code",
   "execution_count": null,
   "metadata": {},
   "outputs": [],
   "source": []
  }
 ],
 "metadata": {
  "kernelspec": {
   "display_name": "Python 3",
   "language": "python",
   "name": "python3"
  },
  "language_info": {
   "codemirror_mode": {
    "name": "ipython",
    "version": 3
   },
   "file_extension": ".py",
   "mimetype": "text/x-python",
   "name": "python",
   "nbconvert_exporter": "python",
   "pygments_lexer": "ipython3",
   "version": "3.6.6"
  }
 },
 "nbformat": 4,
 "nbformat_minor": 2
}
