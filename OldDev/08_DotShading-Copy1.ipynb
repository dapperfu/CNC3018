{
 "cells": [
  {
   "cell_type": "code",
   "execution_count": 32,
   "metadata": {},
   "outputs": [],
   "source": [
    "import configparser\n",
    "import os\n",
    "import sys\n",
    "from time import sleep\n",
    "from uuid import uuid4\n",
    "\n",
    "import numpy as np\n",
    "\n",
    "import GCode\n",
    "import GRBL"
   ]
  },
  {
   "cell_type": "markdown",
   "metadata": {},
   "source": [
    "#"
   ]
  },
  {
   "cell_type": "markdown",
   "metadata": {},
   "source": [
    "# Code:"
   ]
  },
  {
   "cell_type": "code",
   "execution_count": 33,
   "metadata": {},
   "outputs": [
    {
     "name": "stdout",
     "output_type": "stream",
     "text": [
      "68.0 x 143 x 19.0\n"
     ]
    }
   ],
   "source": [
    "# Poplar 1x4\". Cut\n",
    "BlockHeight = 68.0  # [mm]\n",
    "BlockLength = 143  # [mm]\n",
    "BlockThickness = 19.0  # [mm]\n",
    "print(\"{} x {} x {}\".format(BlockHeight, BlockLength, BlockThickness))\n"
   ]
  },
  {
   "cell_type": "code",
   "execution_count": 34,
   "metadata": {},
   "outputs": [
    {
     "data": {
      "text/plain": [
       "(0, ['ok', '', \"Grbl 1.1f ['$' for help]\", 'ok'])"
      ]
     },
     "execution_count": 34,
     "metadata": {},
     "output_type": "execute_result"
    }
   ],
   "source": [
    "config = configparser.ConfigParser()\n",
    "config[\"GRBL\"] = dict()\n",
    "config[\"GRBL\"][\"port\"] = \"/dev/cnc_3018\"\n",
    "cnc = GRBL.GRBL(**config[\"GRBL\"])\n",
    "\n",
    "cnc.reset()"
   ]
  },
  {
   "cell_type": "code",
   "execution_count": 35,
   "metadata": {},
   "outputs": [],
   "source": [
    "if \"Alarm\" in cnc.status:\n",
    "    cnc.home()"
   ]
  },
  {
   "cell_type": "markdown",
   "metadata": {},
   "source": [
    "# Generate Program\n"
   ]
  },
  {
   "cell_type": "code",
   "execution_count": 38,
   "metadata": {},
   "outputs": [],
   "source": [
    "grid_spacing = 2.5 # [mm]"
   ]
  },
  {
   "cell_type": "code",
   "execution_count": 39,
   "metadata": {},
   "outputs": [],
   "source": [
    "Xs = np.arange(grid_spacing, BlockLength, grid_spacing)\n",
    "Ys = np.arange(grid_spacing, BlockHeight, grid_spacing)"
   ]
  },
  {
   "cell_type": "code",
   "execution_count": 40,
   "metadata": {},
   "outputs": [
    {
     "data": {
      "text/plain": [
       "array([0.  , 0.25, 0.5 , 0.75, 1.  ])"
      ]
     },
     "execution_count": 40,
     "metadata": {},
     "output_type": "execute_result"
    }
   ],
   "source": [
    "Xs=np.linspace(0, 1, 5)\n",
    "Xs"
   ]
  },
  {
   "cell_type": "code",
   "execution_count": 41,
   "metadata": {},
   "outputs": [
    {
     "data": {
      "text/plain": [
       "array([0. , 0.2, 0.4, 0.6, 0.8, 1. ])"
      ]
     },
     "execution_count": 41,
     "metadata": {},
     "output_type": "execute_result"
    }
   ],
   "source": [
    "Ys=np.linspace(0, 1, 6)\n",
    "Ys"
   ]
  },
  {
   "cell_type": "code",
   "execution_count": 42,
   "metadata": {},
   "outputs": [],
   "source": [
    "Xs=[0, 1, 2]\n",
    "Ys=[4, 8]"
   ]
  },
  {
   "cell_type": "code",
   "execution_count": 43,
   "metadata": {},
   "outputs": [],
   "source": [
    "(xx, yy) = np.meshgrid(Xs, Ys)"
   ]
  },
  {
   "cell_type": "code",
   "execution_count": 44,
   "metadata": {},
   "outputs": [
    {
     "data": {
      "text/plain": [
       "array([[0, 1, 2],\n",
       "       [0, 1, 2]])"
      ]
     },
     "execution_count": 44,
     "metadata": {},
     "output_type": "execute_result"
    }
   ],
   "source": [
    "xx"
   ]
  },
  {
   "cell_type": "code",
   "execution_count": 45,
   "metadata": {},
   "outputs": [
    {
     "data": {
      "text/plain": [
       "array([[4, 4, 4],\n",
       "       [8, 8, 8]])"
      ]
     },
     "execution_count": 45,
     "metadata": {},
     "output_type": "execute_result"
    }
   ],
   "source": [
    "yy"
   ]
  },
  {
   "cell_type": "code",
   "execution_count": 48,
   "metadata": {},
   "outputs": [
    {
     "data": {
      "text/plain": [
       "array([0, 1, 2])"
      ]
     },
     "execution_count": 48,
     "metadata": {},
     "output_type": "execute_result"
    }
   ],
   "source": [
    "xx[0]"
   ]
  },
  {
   "cell_type": "code",
   "execution_count": 49,
   "metadata": {},
   "outputs": [
    {
     "data": {
      "text/plain": [
       "1"
      ]
     },
     "execution_count": 49,
     "metadata": {},
     "output_type": "execute_result"
    }
   ],
   "source": [
    "xx[0][1]"
   ]
  },
  {
   "cell_type": "code",
   "execution_count": 50,
   "metadata": {},
   "outputs": [
    {
     "data": {
      "text/plain": [
       "array([4, 4, 4])"
      ]
     },
     "execution_count": 50,
     "metadata": {},
     "output_type": "execute_result"
    }
   ],
   "source": [
    "yy[0]"
   ]
  },
  {
   "cell_type": "code",
   "execution_count": 51,
   "metadata": {},
   "outputs": [
    {
     "data": {
      "text/plain": [
       "array([8, 8, 8])"
      ]
     },
     "execution_count": 51,
     "metadata": {},
     "output_type": "execute_result"
    }
   ],
   "source": [
    "yy[1]"
   ]
  },
  {
   "cell_type": "code",
   "execution_count": 52,
   "metadata": {},
   "outputs": [
    {
     "data": {
      "text/plain": [
       "(1, 4)"
      ]
     },
     "execution_count": 52,
     "metadata": {},
     "output_type": "execute_result"
    }
   ],
   "source": [
    "xx[0][1], yy[0][1]"
   ]
  },
  {
   "cell_type": "code",
   "execution_count": 53,
   "metadata": {},
   "outputs": [
    {
     "data": {
      "text/plain": [
       "(1, 4)"
      ]
     },
     "execution_count": 53,
     "metadata": {},
     "output_type": "execute_result"
    }
   ],
   "source": [
    "xx[1][1], yy[0][2]"
   ]
  },
  {
   "cell_type": "code",
   "execution_count": 55,
   "metadata": {},
   "outputs": [
    {
     "data": {
      "text/plain": [
       "3"
      ]
     },
     "execution_count": 55,
     "metadata": {},
     "output_type": "execute_result"
    }
   ],
   "source": [
    "len(Xs)"
   ]
  },
  {
   "cell_type": "code",
   "execution_count": 56,
   "metadata": {},
   "outputs": [
    {
     "data": {
      "text/plain": [
       "2"
      ]
     },
     "execution_count": 56,
     "metadata": {},
     "output_type": "execute_result"
    }
   ],
   "source": [
    "len(Ys)"
   ]
  },
  {
   "cell_type": "code",
   "execution_count": 59,
   "metadata": {},
   "outputs": [
    {
     "name": "stdout",
     "output_type": "stream",
     "text": [
      "(0, 4): 0 4\n",
      "(0, 8): 1 4\n",
      "(1, 4): 0 8\n",
      "(1, 8): 1 8\n"
     ]
    },
    {
     "ename": "IndexError",
     "evalue": "index 2 is out of bounds for axis 0 with size 2",
     "output_type": "error",
     "traceback": [
      "\u001b[0;31m---------------------------------------------------------------------------\u001b[0m",
      "\u001b[0;31mIndexError\u001b[0m                                Traceback (most recent call last)",
      "\u001b[0;32m<ipython-input-59-d77678318cde>\u001b[0m in \u001b[0;36m<module>\u001b[0;34m\u001b[0m\n\u001b[1;32m      1\u001b[0m \u001b[0;32mfor\u001b[0m \u001b[0midx1\u001b[0m\u001b[0;34m,\u001b[0m \u001b[0mX\u001b[0m \u001b[0;32min\u001b[0m \u001b[0menumerate\u001b[0m\u001b[0;34m(\u001b[0m\u001b[0mXs\u001b[0m\u001b[0;34m)\u001b[0m\u001b[0;34m:\u001b[0m\u001b[0;34m\u001b[0m\u001b[0m\n\u001b[1;32m      2\u001b[0m     \u001b[0;32mfor\u001b[0m \u001b[0midx2\u001b[0m\u001b[0;34m,\u001b[0m \u001b[0mY\u001b[0m \u001b[0;32min\u001b[0m \u001b[0menumerate\u001b[0m\u001b[0;34m(\u001b[0m\u001b[0mYs\u001b[0m\u001b[0;34m)\u001b[0m\u001b[0;34m:\u001b[0m\u001b[0;34m\u001b[0m\u001b[0m\n\u001b[0;32m----> 3\u001b[0;31m         \u001b[0mprint\u001b[0m\u001b[0;34m(\u001b[0m\u001b[0;34m\"({}, {}): {} {}\"\u001b[0m\u001b[0;34m.\u001b[0m\u001b[0mformat\u001b[0m\u001b[0;34m(\u001b[0m\u001b[0mX\u001b[0m\u001b[0;34m,\u001b[0m \u001b[0mY\u001b[0m\u001b[0;34m,\u001b[0m \u001b[0mxx\u001b[0m\u001b[0;34m[\u001b[0m\u001b[0midx1\u001b[0m\u001b[0;34m,\u001b[0m \u001b[0midx2\u001b[0m\u001b[0;34m]\u001b[0m\u001b[0;34m,\u001b[0m \u001b[0myy\u001b[0m\u001b[0;34m[\u001b[0m\u001b[0midx1\u001b[0m\u001b[0;34m,\u001b[0m \u001b[0midx2\u001b[0m\u001b[0;34m]\u001b[0m\u001b[0;34m)\u001b[0m\u001b[0;34m)\u001b[0m\u001b[0;34m\u001b[0m\u001b[0m\n\u001b[0m",
      "\u001b[0;31mIndexError\u001b[0m: index 2 is out of bounds for axis 0 with size 2"
     ]
    }
   ],
   "source": [
    "for idx1, X in enumerate(Xs):\n",
    "    for idx2, Y in enumerate(Ys):\n",
    "        print(\"({}, {}): {} {}\".format(X, Y, xx[idx1, idx2], yy[idx1, idx2]))"
   ]
  },
  {
   "cell_type": "code",
   "execution_count": 60,
   "metadata": {},
   "outputs": [
    {
     "name": "stdout",
     "output_type": "stream",
     "text": [
      "(0, 4): 0 4\n",
      "(0, 8): 0 8\n",
      "(1, 4): 1 4\n",
      "(1, 8): 1 8\n",
      "(2, 4): 2 4\n",
      "(2, 8): 2 8\n"
     ]
    }
   ],
   "source": [
    "for idx1, X in enumerate(Xs):\n",
    "    for idx2, Y in enumerate(Ys):\n",
    "        print(\"({}, {}): {} {}\".format(X, Y, xx[idx2, idx1], yy[idx2, idx1]))"
   ]
  },
  {
   "cell_type": "code",
   "execution_count": 64,
   "metadata": {},
   "outputs": [
    {
     "name": "stdout",
     "output_type": "stream",
     "text": [
      "(0, 15) = (0, 15)\n",
      "(0, 30) = (0, 30)\n",
      "(0, 45) = (0, 45)\n",
      "(10, 15) = (10, 15)\n",
      "(10, 30) = (10, 30)\n",
      "(10, 45) = (10, 45)\n",
      "(20, 15) = (20, 15)\n",
      "(20, 30) = (20, 30)\n",
      "(20, 45) = (20, 45)\n"
     ]
    }
   ],
   "source": [
    "Xs=[0, 10, 20]\n",
    "Ys=[15, 30, 45]\n",
    "\n",
    "XX, YY = np.meshgrid(Xs, Ys)\n",
    "\n",
    "for idx1, X in enumerate(Xs):\n",
    "    for idx2, Y in enumerate(Ys):\n",
    "        assert (X == XX[idx2, idx1])\n",
    "        assert (Y == YY[idx2, idx1])\n",
    "        \n",
    "        print(\"({}, {}) = ({}, {})\".format(X, Y, XX[idx2, idx1], YY[idx2, idx1]))"
   ]
  },
  {
   "cell_type": "code",
   "execution_count": 31,
   "metadata": {},
   "outputs": [
    {
     "name": "stdout",
     "output_type": "stream",
     "text": [
      "0\n",
      "4\n",
      "1\n",
      "4\n",
      "2\n",
      "4\n",
      "0\n",
      "8\n",
      "1\n",
      "8\n",
      "2\n",
      "8\n"
     ]
    }
   ],
   "source": [
    "for x, y in zip(xx, yy):\n",
    "    for x_, y_ in zip(x, y):\n",
    "        print(x_)\n",
    "        print(y_)"
   ]
  },
  {
   "cell_type": "code",
   "execution_count": 29,
   "metadata": {},
   "outputs": [
    {
     "data": {
      "text/plain": [
       "array([100, 177, 255], dtype=uint8)"
      ]
     },
     "execution_count": 29,
     "metadata": {},
     "output_type": "execute_result"
    }
   ],
   "source": [
    "powers = np.linspace(100, 255, len(Xs), dtype=np.uint8)\n",
    "powers"
   ]
  },
  {
   "cell_type": "code",
   "execution_count": 30,
   "metadata": {},
   "outputs": [],
   "source": [
    "dwells = [1]"
   ]
  },
  {
   "cell_type": "code",
   "execution_count": 42,
   "metadata": {},
   "outputs": [],
   "source": [
    "for dwell in dwells:\n",
    "    break"
   ]
  },
  {
   "cell_type": "code",
   "execution_count": 43,
   "metadata": {},
   "outputs": [
    {
     "data": {
      "text/plain": [
       "True"
      ]
     },
     "execution_count": 43,
     "metadata": {},
     "output_type": "execute_result"
    }
   ],
   "source": [
    "cnc.init()"
   ]
  },
  {
   "cell_type": "code",
   "execution_count": 51,
   "metadata": {},
   "outputs": [],
   "source": [
    "Zs = [-14]\n",
    "for Z in Zs:\n",
    "    break"
   ]
  },
  {
   "cell_type": "code",
   "execution_count": 53,
   "metadata": {},
   "outputs": [
    {
     "data": {
      "text/html": [
       "<b>G0</b> <i>F500</i><br>\n",
       "<b>G1</b> <i>F500</i><br>\n",
       "<b>G21</b> <i></i><br>\n",
       "<b>G90</b> <i></i><br>\n",
       "<b>G0</b> <i>Z-14 Y5.0 X140</i><br>\n",
       "<b>M3</b> <i>S255</i><br>\n",
       "<b>G1</b> <i>Z-14 Y5.0 X140</i><br>\n",
       "<b>G4</b> <i>P1</i><br>\n",
       "<b>M5</b> <i></i>"
      ],
      "text/plain": [
       "<GCode>[cmds=9]"
      ]
     },
     "execution_count": 53,
     "metadata": {},
     "output_type": "execute_result"
    }
   ],
   "source": [
    "programs=list()\n",
    "def init2(**kwargs):\n",
    "    program = GCode.GCode(**kwargs)\n",
    "    program.G0(F=500)\n",
    "    program.G1(F=500)\n",
    "    program.G21()  # Metric Units\n",
    "    program.G90()  # Absolute positioning.\n",
    "    return program\n",
    "for X, power in zip(Xs, powers):\n",
    "    program = init2(machine=cnc)\n",
    "    program.G0(Z=Z, Y=Y, X=X)\n",
    "    program.M3(S=power)\n",
    "    program.G1(Z=Z, Y=Y, X=X)\n",
    "    program.G4(P=dwell)\n",
    "    program.M5()  # Laser. Off.\n",
    "    programs.append(program)\n",
    "program"
   ]
  },
  {
   "cell_type": "code",
   "execution_count": 54,
   "metadata": {
    "scrolled": false
   },
   "outputs": [
    {
     "name": "stdout",
     "output_type": "stream",
     "text": [
      "0: 4.641655206680298\n",
      "1: 3.4909920692443848\n",
      "2: 3.493727207183838\n",
      "3: 3.494004964828491\n",
      "4: 3.4909751415252686\n",
      "5: 3.491802453994751\n",
      "6: 3.490959405899048\n",
      "7: 3.493772029876709\n",
      "8: 3.491602897644043\n",
      "9: 3.4925568103790283\n",
      "10: 3.492128610610962\n",
      "11: 3.491084337234497\n",
      "12: 3.490161180496216\n",
      "13: 3.4915528297424316\n",
      "14: 3.491367816925049\n",
      "15: 3.4912168979644775\n",
      "16: 3.491985321044922\n",
      "17: 3.493729591369629\n",
      "18: 3.4935190677642822\n",
      "19: 3.4953453540802\n",
      "20: 3.492088794708252\n",
      "21: 3.490997076034546\n",
      "22: 3.4937238693237305\n",
      "23: 3.4914145469665527\n",
      "24: 3.491617202758789\n",
      "25: 3.4921069145202637\n",
      "26: 3.491852045059204\n",
      "27: 3.4942235946655273\n"
     ]
    }
   ],
   "source": [
    "for idx, program in enumerate(programs):\n",
    "    print(\"{}: \".format(idx), end=\"\")\n",
    "    print(cnc.run(program))"
   ]
  },
  {
   "cell_type": "code",
   "execution_count": 57,
   "metadata": {},
   "outputs": [
    {
     "data": {
      "text/plain": [
       "10.0"
      ]
     },
     "execution_count": 57,
     "metadata": {},
     "output_type": "execute_result"
    }
   ],
   "source": [
    "Y = Ys[1]\n",
    "Y"
   ]
  },
  {
   "cell_type": "code",
   "execution_count": 58,
   "metadata": {},
   "outputs": [
    {
     "data": {
      "text/html": [
       "<b>G0</b> <i>F500</i><br>\n",
       "<b>G1</b> <i>F500</i><br>\n",
       "<b>G21</b> <i></i><br>\n",
       "<b>G90</b> <i></i><br>\n",
       "<b>G0</b> <i>Z-14 Y10.0 X140</i><br>\n",
       "<b>M3</b> <i>S255</i><br>\n",
       "<b>G1</b> <i>Z-14 Y10.0 X140</i><br>\n",
       "<b>G4</b> <i>P0.5</i><br>\n",
       "<b>M5</b> <i></i>"
      ],
      "text/plain": [
       "<GCode>[cmds=9]"
      ]
     },
     "execution_count": 58,
     "metadata": {},
     "output_type": "execute_result"
    }
   ],
   "source": [
    "programs=list()\n",
    "dwell = 0.5\n",
    "for X, power in zip(Xs, powers):\n",
    "    program = init2(machine=cnc)\n",
    "    program.G0(Z=Z, Y=Y, X=X)\n",
    "    program.M3(S=power)\n",
    "    program.G1(Z=Z, Y=Y, X=X)\n",
    "    program.G4(P=dwell)\n",
    "    program.M5()  # Laser. Off.\n",
    "    programs.append(program)\n",
    "program"
   ]
  },
  {
   "cell_type": "code",
   "execution_count": 59,
   "metadata": {},
   "outputs": [
    {
     "name": "stdout",
     "output_type": "stream",
     "text": [
      "0: 13.053906202316284\n",
      "1: 2.8921163082122803\n",
      "2: 2.8909823894500732\n",
      "3: 2.8900773525238037\n",
      "4: 2.890291690826416\n",
      "5: 2.8894340991973877\n",
      "6: 2.8901193141937256\n",
      "7: 2.8906636238098145\n",
      "8: 2.8908770084381104\n",
      "9: 2.8906781673431396\n",
      "10: 2.889885425567627\n",
      "11: 2.8917291164398193\n",
      "12: 2.8930020332336426\n",
      "13: 2.8907077312469482\n",
      "14: 2.890251874923706\n",
      "15: 2.890632152557373\n",
      "16: 2.890575647354126\n",
      "17: 2.890132188796997\n",
      "18: 2.8905398845672607\n",
      "19: 2.8903121948242188\n",
      "20: 2.8902411460876465\n",
      "21: 2.891510009765625\n",
      "22: 2.893519401550293\n",
      "23: 2.8904337882995605\n",
      "24: 2.88966703414917\n",
      "25: 2.8901472091674805\n",
      "26: 2.8902535438537598\n",
      "27: 2.8902368545532227\n"
     ]
    }
   ],
   "source": [
    "for idx, program in enumerate(programs):\n",
    "    print(\"{}: \".format(idx), end=\"\")\n",
    "    print(cnc.run(program))"
   ]
  },
  {
   "cell_type": "code",
   "execution_count": 60,
   "metadata": {},
   "outputs": [
    {
     "name": "stdout",
     "output_type": "stream",
     "text": [
      "13.054593563079834\n",
      "2.891545057296753\n",
      "2.8903682231903076\n",
      "2.891618251800537\n",
      "2.8935091495513916\n",
      "2.8904051780700684\n",
      "2.8903732299804688\n",
      "2.890268087387085\n",
      "2.8903684616088867\n",
      "2.890045642852783\n",
      "2.890733003616333\n",
      "2.890333652496338\n",
      "2.890665292739868\n",
      "2.8916332721710205\n",
      "2.890410900115967\n",
      "2.891117811203003\n",
      "2.8899118900299072\n",
      "2.890746831893921\n",
      "2.8902740478515625\n",
      "2.8903446197509766\n",
      "2.8945207595825195\n",
      "2.8902759552001953\n",
      "2.8907370567321777\n",
      "2.891649007797241\n",
      "2.8908002376556396\n",
      "2.8906190395355225\n",
      "2.8900022506713867\n",
      "2.8908162117004395\n"
     ]
    }
   ],
   "source": [
    "dwell = 0.25\n",
    "Y = Ys[2]\n",
    "for X, power in zip(Xs, powers):\n",
    "    program = init2(machine=cnc)\n",
    "    program.G0(Z=Z, Y=Y, X=X)\n",
    "    program.M3(S=power)\n",
    "    program.G1(Z=Z, Y=Y, X=X)\n",
    "    program.G4(P=dwell)\n",
    "    program.M5()  # Laser. Off.\n",
    "    print(cnc.run(program))"
   ]
  },
  {
   "cell_type": "code",
   "execution_count": null,
   "metadata": {},
   "outputs": [
    {
     "name": "stdout",
     "output_type": "stream",
     "text": [
      "14.857101917266846\n",
      "4.694027900695801\n",
      "4.693021059036255\n",
      "4.692686080932617\n",
      "4.693039178848267\n",
      "4.698350667953491\n",
      "4.692682981491089\n",
      "4.692937850952148\n",
      "4.692770957946777\n",
      "4.692894220352173\n",
      "4.6926703453063965\n",
      "4.692623853683472\n",
      "4.693691968917847\n",
      "4.692799091339111\n",
      "4.693265438079834\n",
      "4.6934754848480225\n",
      "4.695194244384766\n",
      "4.695768356323242\n",
      "4.693379640579224\n",
      "4.6930458545684814\n",
      "4.692551374435425\n",
      "4.6929967403411865\n",
      "4.692992925643921\n",
      "4.693429231643677\n",
      "4.6929168701171875\n",
      "4.693992853164673\n",
      "4.695772171020508\n",
      "4.693402528762817\n"
     ]
    }
   ],
   "source": [
    "dwell = 2\n",
    "Y = Ys[3]\n",
    "for X, power in zip(Xs, powers):\n",
    "    program = init2(machine=cnc)\n",
    "    program.G0(Z=Z, Y=Y, X=X)\n",
    "    program.M3(S=power)\n",
    "    program.G1(Z=Z, Y=Y, X=X)\n",
    "    program.G4(P=dwell)\n",
    "    program.M5()  # Laser. Off.\n",
    "    print(cnc.run(program))"
   ]
  },
  {
   "cell_type": "code",
   "execution_count": null,
   "metadata": {},
   "outputs": [
    {
     "name": "stdout",
     "output_type": "stream",
     "text": [
      "17.861169576644897\n",
      "7.697419166564941\n",
      "7.69661808013916\n",
      "7.696374416351318\n",
      "7.696740627288818\n",
      "7.697359561920166\n",
      "7.700284004211426\n",
      "7.697939395904541\n",
      "7.697470426559448\n",
      "7.697144031524658\n",
      "7.700500726699829\n",
      "7.697020053863525\n"
     ]
    }
   ],
   "source": [
    "dwell = 5\n",
    "Y = Ys[4]\n",
    "for X, power in zip(Xs, powers):\n",
    "    program = init2(machine=cnc)\n",
    "    program.G0(Z=Z, Y=Y, X=X)\n",
    "    program.M3(S=power)\n",
    "    program.G1(Z=Z, Y=Y, X=X)\n",
    "    program.G4(P=dwell)\n",
    "    program.M5()  # Laser. Off.\n",
    "    print(cnc.run(program))"
   ]
  },
  {
   "cell_type": "code",
   "execution_count": null,
   "metadata": {},
   "outputs": [],
   "source": []
  }
 ],
 "metadata": {
  "kernelspec": {
   "display_name": "Python 3",
   "language": "python",
   "name": "python3"
  },
  "language_info": {
   "codemirror_mode": {
    "name": "ipython",
    "version": 3
   },
   "file_extension": ".py",
   "mimetype": "text/x-python",
   "name": "python",
   "nbconvert_exporter": "python",
   "pygments_lexer": "ipython3",
   "version": "3.6.6"
  }
 },
 "nbformat": 4,
 "nbformat_minor": 2
}
