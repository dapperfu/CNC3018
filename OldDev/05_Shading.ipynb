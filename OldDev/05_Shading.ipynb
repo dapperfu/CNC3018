{
 "cells": [
  {
   "cell_type": "code",
   "execution_count": 1,
   "metadata": {},
   "outputs": [],
   "source": [
    "import os\n",
    "import sys\n",
    "from time import sleep\n",
    "from uuid import uuid4\n",
    "\n",
    "import GCode\n",
    "import GRBL\n",
    "import numpy as np"
   ]
  },
  {
   "cell_type": "markdown",
   "metadata": {},
   "source": [
    "# Laser Shading "
   ]
  },
  {
   "cell_type": "markdown",
   "metadata": {},
   "source": [
    "# Code:"
   ]
  },
  {
   "cell_type": "code",
   "execution_count": 2,
   "metadata": {},
   "outputs": [],
   "source": [
    "def init():\n",
    "    program = GCode.GCode()\n",
    "    program.G0(F=500)\n",
    "    program.G1(F=300)\n",
    "    program.M3(S=1)\n",
    "    program.G28()\n",
    "    program.G21()  # Metric Units\n",
    "    program.G90()  # Absolute positioning.\n",
    "    program.G92(X=0, Y=0)\n",
    "    program.M5()\n",
    "    return program\n",
    "\n",
    "\n",
    "def end():\n",
    "    program = GCode.GCode()\n",
    "    program.M5()\n",
    "    program.G28()\n",
    "    return program\n"
   ]
  },
  {
   "cell_type": "code",
   "execution_count": 3,
   "metadata": {},
   "outputs": [],
   "source": [
    "# Poplar 1x4\". Cut\n",
    "BlockHeight = 89.0  # mm\n",
    "BlockLength = 2 * BlockHeight  # mm\n"
   ]
  },
  {
   "cell_type": "code",
   "execution_count": 6,
   "metadata": {},
   "outputs": [
    {
     "data": {
      "text/plain": [
       "array([ 0., 10., 20., 30., 40., 50., 60., 70., 80., 90.])"
      ]
     },
     "execution_count": 6,
     "metadata": {},
     "output_type": "execute_result"
    }
   ],
   "source": [
    "np.linspace(0, BlockHeight+1, 10, endpoint=True)"
   ]
  },
  {
   "cell_type": "code",
   "execution_count": 14,
   "metadata": {},
   "outputs": [
    {
     "data": {
      "text/plain": [
       "array([ 28,  56,  85, 113, 141, 170, 198, 226, 255], dtype=uint8)"
      ]
     },
     "execution_count": 14,
     "metadata": {},
     "output_type": "execute_result"
    }
   ],
   "source": [
    "np.linspace(0, 255, 10, endpoint=True, dtype=np.uint8)[1:]"
   ]
  },
  {
   "cell_type": "code",
   "execution_count": 15,
   "metadata": {},
   "outputs": [],
   "source": [
    "x0=5"
   ]
  },
  {
   "cell_type": "code",
   "execution_count": 46,
   "metadata": {},
   "outputs": [],
   "source": [
    "def fade_line(X, feed=300, n=10):\n",
    "    prog = GCode.GCode()\n",
    "    prog.M5()\n",
    "    powers = np.linspace(0, 255, n, endpoint=True, dtype=np.uint8)[1:]\n",
    "    Ys = np.linspace(0, BlockHeight, n, endpoint=True)\n",
    "    prog.G0(X=X, Y=Ys[0], F=feed)\n",
    "    for i, (power, Y) in enumerate(zip(powers, Ys[1:])):\n",
    "        prog.M4(S=power)\n",
    "        prog.G1(X=X, Y=Y, F=feed)\n",
    "        \n",
    "        \n",
    "    prog.M5()\n",
    "    return prog"
   ]
  },
  {
   "cell_type": "code",
   "execution_count": 47,
   "metadata": {},
   "outputs": [],
   "source": [
    "powers = np.linspace(0, 255, 10, endpoint=True, dtype=np.uint8)[1:]"
   ]
  },
  {
   "cell_type": "code",
   "execution_count": 48,
   "metadata": {},
   "outputs": [
    {
     "data": {
      "text/plain": [
       "9"
      ]
     },
     "execution_count": 48,
     "metadata": {},
     "output_type": "execute_result"
    }
   ],
   "source": [
    "len(powers)"
   ]
  },
  {
   "cell_type": "code",
   "execution_count": 50,
   "metadata": {},
   "outputs": [
    {
     "data": {
      "text/html": [
       "<b>M5</b> <i></i><br>\n",
       "<b>G0</b> <i>X0 Y0.0 F300</i><br>\n",
       "<b>M4</b> <i>S13</i><br>\n",
       "<b>G1</b> <i>X0 Y4.6842 F300</i><br>\n",
       "<b>M4</b> <i>S26</i><br>\n",
       "<b>G1</b> <i>X0 Y9.3684 F300</i><br>\n",
       "<b>M4</b> <i>S40</i><br>\n",
       "<b>G1</b> <i>X0 Y14.0526 F300</i><br>\n",
       "<b>M4</b> <i>S53</i><br>\n",
       "<b>G1</b> <i>X0 Y18.7368 F300</i><br>\n",
       "<b>M4</b> <i>S67</i><br>\n",
       "<b>G1</b> <i>X0 Y23.4211 F300</i><br>\n",
       "<b>M4</b> <i>S80</i><br>\n",
       "<b>G1</b> <i>X0 Y28.1053 F300</i><br>\n",
       "<b>M4</b> <i>S93</i><br>\n",
       "<b>G1</b> <i>X0 Y32.7895 F300</i><br>\n",
       "<b>M4</b> <i>S107</i><br>\n",
       "<b>G1</b> <i>X0 Y37.4737 F300</i><br>\n",
       "<b>M4</b> <i>S120</i><br>\n",
       "<b>G1</b> <i>X0 Y42.1579 F300</i><br>\n",
       "<b>M4</b> <i>S134</i><br>\n",
       "<b>G1</b> <i>X0 Y46.8421 F300</i><br>\n",
       "<b>M4</b> <i>S147</i><br>\n",
       "<b>G1</b> <i>X0 Y51.5263 F300</i><br>\n",
       "<b>M4</b> <i>S161</i><br>\n",
       "<b>G1</b> <i>X0 Y56.2105 F300</i><br>\n",
       "<b>M4</b> <i>S174</i><br>\n",
       "<b>G1</b> <i>X0 Y60.8947 F300</i><br>\n",
       "<b>M4</b> <i>S187</i><br>\n",
       "<b>G1</b> <i>X0 Y65.5789 F300</i><br>\n",
       "<b>M4</b> <i>S201</i><br>\n",
       "<b>G1</b> <i>X0 Y70.2632 F300</i><br>\n",
       "<b>M4</b> <i>S214</i><br>\n",
       "<b>G1</b> <i>X0 Y74.9474 F300</i><br>\n",
       "<b>M4</b> <i>S228</i><br>\n",
       "<b>G1</b> <i>X0 Y79.6316 F300</i><br>\n",
       "<b>M4</b> <i>S241</i><br>\n",
       "<b>G1</b> <i>X0 Y84.3158 F300</i><br>\n",
       "<b>M4</b> <i>S255</i><br>\n",
       "<b>G1</b> <i>X0 Y89.0 F300</i><br>\n",
       "<b>M5</b> <i></i>"
      ],
      "text/plain": [
       "<GCode>[cmds=41]"
      ]
     },
     "execution_count": 50,
     "metadata": {},
     "output_type": "execute_result"
    }
   ],
   "source": [
    "fade_line(0, n=20)"
   ]
  }
 ],
 "metadata": {
  "kernelspec": {
   "display_name": "Python 3",
   "language": "python",
   "name": "python3"
  },
  "language_info": {
   "codemirror_mode": {
    "name": "ipython",
    "version": 3
   },
   "file_extension": ".py",
   "mimetype": "text/x-python",
   "name": "python",
   "nbconvert_exporter": "python",
   "pygments_lexer": "ipython3",
   "version": "3.6.5"
  }
 },
 "nbformat": 4,
 "nbformat_minor": 2
}
