{
 "cells": [
  {
   "cell_type": "markdown",
   "metadata": {},
   "source": [
    "# Hand Code G\n",
    "\n",
    "My attempt and creating G-code from a drawing."
   ]
  },
  {
   "cell_type": "code",
   "execution_count": 1,
   "metadata": {},
   "outputs": [
    {
     "name": "stdout",
     "output_type": "stream",
     "text": [
      "Laser Mode: 1.0\n"
     ]
    }
   ],
   "source": [
    "import GCode\n",
    "import GRBL\n",
    "\n",
    "cnc = GRBL.GRBL(port=\"/dev/cnc_3018\")\n",
    "\n",
    "print(\"Laser Mode: {}\".format(cnc.laser_mode))"
   ]
  },
  {
   "cell_type": "code",
   "execution_count": 9,
   "metadata": {
    "collapsed": true
   },
   "outputs": [],
   "source": [
    "from enum import IntEnum\n",
    "class LaserPower(IntEnum):\n",
    "    CONSTANT = 0\n",
    "    DYNAMIC = 1\n",
    "    \n",
    "def init(power = LaserPower(0), feed = 200, laser = 25):\n",
    "    program = GCode.GCode()\n",
    "    program.G21() # Metric Units\n",
    "    program.G91() # Rel positioning.\n",
    "    program.G1(F=feed) # Set the feed rate\n",
    "    program.G0() # But keep the laser off.\n",
    "    if power==LaserPower.CONSTANT:\n",
    "        program.M3(S=laser) # Laser settings\n",
    "    else:\n",
    "        program.M4(S=laser) # Laser settings\n",
    "    return program"
   ]
  },
  {
   "cell_type": "code",
   "execution_count": 10,
   "metadata": {
    "collapsed": true
   },
   "outputs": [],
   "source": [
    "def end():\n",
    "    program = GCode.GCode()\n",
    "    program.M5() # Te\n",
    "    return program"
   ]
  },
  {
   "cell_type": "code",
   "execution_count": 17,
   "metadata": {
    "collapsed": true
   },
   "outputs": [],
   "source": [
    "def heart(scale = 1):\n",
    "    p = GCode.GCode()\n",
    "    p.G0(X=2, Y=0)\n",
    "    p.G1(X=-2, Y=2)\n",
    "    p.G2(X=2, Y=0, I=1, J=0)\n",
    "    p.G2(X=2, Y=0, I=1, J=0)\n",
    "    p.G1(X=-2, Y=-2)\n",
    "    return p"
   ]
  },
  {
   "cell_type": "code",
   "execution_count": 18,
   "metadata": {},
   "outputs": [
    {
     "name": "stdout",
     "output_type": "stream",
     "text": [
      "G0 X2 Y0\n",
      "G1 X-2 Y2\n",
      "G2 I1 J0 X2 Y0\n",
      "G2 I1 J0 X2 Y0\n",
      "G1 X-2 Y-2\n"
     ]
    }
   ],
   "source": [
    "heart10 = heart(scale=1)\n",
    "print(heart10)"
   ]
  },
  {
   "cell_type": "code",
   "execution_count": 19,
   "metadata": {},
   "outputs": [
    {
     "data": {
      "text/plain": [
       "4.737777233123779"
      ]
     },
     "execution_count": 19,
     "metadata": {},
     "output_type": "execute_result"
    }
   ],
   "source": [
    "cnc.run(init(laser=5)+heart(scale=1)+end())"
   ]
  },
  {
   "cell_type": "code",
   "execution_count": 23,
   "metadata": {},
   "outputs": [
    {
     "data": {
      "text/plain": [
       "4.738039255142212"
      ]
     },
     "execution_count": 23,
     "metadata": {},
     "output_type": "execute_result"
    }
   ],
   "source": [
    "cnc.run(init(laser=100)+heart(scale=1)+end())"
   ]
  },
  {
   "cell_type": "code",
   "execution_count": 24,
   "metadata": {
    "collapsed": true
   },
   "outputs": [],
   "source": [
    "def heart(scale = 1):\n",
    "    p = GCode.GCode()\n",
    "    \n",
    "    \n",
    "    \n",
    "    p.G0(X=2*scale, Y=0)\n",
    "    p.G1(X=-2*scale, Y=2*scale)\n",
    "    p.G2(X=2*scale, Y=0, I=1*scale, J=0)\n",
    "    p.G2(X=2*scale, Y=0, I=1*scale, J=0)\n",
    "    p.G1(X=-2*scale, Y=-2*scale)\n",
    "    return p"
   ]
  },
  {
   "cell_type": "code",
   "execution_count": 25,
   "metadata": {},
   "outputs": [
    {
     "data": {
      "text/plain": [
       "7.24953031539917"
      ]
     },
     "execution_count": 25,
     "metadata": {},
     "output_type": "execute_result"
    }
   ],
   "source": [
    "cnc.run(init(laser=100)+heart(scale=2)+end())"
   ]
  },
  {
   "cell_type": "markdown",
   "metadata": {},
   "source": [
    "## Lots of Hearts"
   ]
  },
  {
   "cell_type": "code",
   "execution_count": null,
   "metadata": {
    "collapsed": true
   },
   "outputs": [],
   "source": [
    "class SoftKill(Exception):\n",
    "    pass"
   ]
  },
  {
   "cell_type": "code",
   "execution_count": null,
   "metadata": {},
   "outputs": [],
   "source": [
    "for scale in [4, 8, 16, 32, 65]:\n",
    "    try:\n",
    "        cnc.run(init(laser=100)+heart(scale=scale)+end())\n",
    "        cnc.cmd(\"G1 X{}\".format(scale)) # Move over to edge of heart\n",
    "        cnc.cmd(\"G1 X10\") # Move another 10\n",
    "    except KeyboardInterrupt:\n",
    "        cnc.cmd(\"!\")\n",
    "        raise(SoftKill(\"Keyboard\"))"
   ]
  }
 ],
 "metadata": {
  "kernelspec": {
   "display_name": "Python 3",
   "language": "python",
   "name": "python3"
  },
  "language_info": {
   "codemirror_mode": {
    "name": "ipython",
    "version": 3
   },
   "file_extension": ".py",
   "mimetype": "text/x-python",
   "name": "python",
   "nbconvert_exporter": "python",
   "pygments_lexer": "ipython3",
   "version": "3.5.2"
  }
 },
 "nbformat": 4,
 "nbformat_minor": 2
}
