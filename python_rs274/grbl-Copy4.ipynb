{
 "cells": [
  {
   "cell_type": "code",
   "execution_count": 2,
   "metadata": {},
   "outputs": [],
   "source": [
    "%load_ext autoreload\n",
    "%autoreload 1"
   ]
  },
  {
   "cell_type": "code",
   "execution_count": 3,
   "metadata": {},
   "outputs": [
    {
     "name": "stdout",
     "output_type": "stream",
     "text": [
      "Overwriting GRBL.py\n"
     ]
    }
   ],
   "source": [
    "%%file GRBL.py\n",
    "import serial\n",
    "class GRBL(object):\n",
    "    BAUDRATE = 115200\n",
    "    \n",
    "    def __init__(self, port):\n",
    "        self.serial = serial.Serial(port=port,\n",
    "                                    baudrate=GRBL.BAUDRATE,\n",
    "                                    timeout=0.10)\n",
    "        \n",
    "    def write(self, command_line=\"\"):\n",
    "        self.serial.flushInput()\n",
    "        self.serial.write(\"\\n\".encode())\n",
    "        self.serial.write(\"{cmd}\\n\".format(cmd=command_line).encode())\n",
    "        \n",
    "    def read(self, multiline=True):\n",
    "        if multiline:\n",
    "            responses = self.serial.readlines()\n",
    "            responses = [response.decode().strip() for response in responses]\n",
    "            return responses\n",
    "        else:\n",
    "            response = self.serial.readline()\n",
    "            return response.decode().strip()\n",
    " \n",
    "    def cmd(self, command_line, resp=True, multiline=True):\n",
    "        self.write(command_line)\n",
    "        if resp:\n",
    "            return self.read(multiline=multiline)\n",
    "        return None\n",
    "    \n",
    "    def reset(self):\n",
    "        ret = self.cmd(\"\\x18\")\n",
    "        assert(ret[-1]=='ok')\n",
    "        \n",
    "    def sleep(self):\n",
    "        ret = self.cmd(\"\\x18\")\n",
    "        assert(ret[-1]=='ok')\n",
    "    \n",
    "    def kill_alarm(self):\n",
    "        ret = self.cmd(\"$X\")\n",
    "        assert(ret[-1]=='ok')\n",
    "        \n",
    "    def home(self):\n",
    "        self.write(\"$H\")\n",
    "        \n",
    "\n",
    "settings = [\n",
    "    (\"$0\", \"step_pulse\"),\n",
    "    (\"$1\", \"step_idle_delay\"),\n",
    "    (\"$2\", \"step_port_invert\"),\n",
    "    (\"$3\", \"direction_port_invert\"),\n",
    "    (\"$4\", \"step_enable_invert\"),\n",
    "    (\"$5\", \"limit_pin_invert\"),\n",
    "    (\"$6\", \"probe_pin_invert\"),\n",
    "    (\"$10\", \"status_report\"),\n",
    "    (\"$11\", \"junction_deviation\"),\n",
    "    (\"$12\", \"arc_tolerance\"),\n",
    "    (\"$13\", \"report_inches\"),\n",
    "    (\"$20\", \"soft_limits\"),\n",
    "    (\"$21\", \"hard_limits\"),\n",
    "    (\"$22\", \"homing_cycle\"),\n",
    "    (\"$23\", \"homing_dir_invert\"),\n",
    "    (\"$24\", \"homing_feed\"),\n",
    "    (\"$25\", \"homing_seek\"),\n",
    "    (\"$26\", \"homing_debounce\"),\n",
    "    (\"$27\", \"homing_pull_off\"),\n",
    "    (\"$30\", \"max_spindle_speed\"),\n",
    "    (\"$31\", \"min_spindle_speed\"),\n",
    "    (\"$32\", \"laser_mode\"),\n",
    "    (\"$100\", \"x_steps_mm\"),\n",
    "    (\"$101\", \"y_steps_mm\"),\n",
    "    (\"$102\", \"z_steps_mm\"),\n",
    "    (\"$110\", \"x_max_rate\"),\n",
    "    (\"$111\", \"y_max_rate\"),\n",
    "    (\"$112\", \"z_max_rate\"),\n",
    "    (\"$120\", \"x_acceleration\"),\n",
    "    (\"$121\", \"y_acceleration\"),\n",
    "    (\"$122\", \"z_acceleration\"),\n",
    "    (\"$130\", \"x_travel\"),\n",
    "    (\"$131\", \"y_travel\"),\n",
    "    (\"$132\", \"z_travel\"),\n",
    "    ]\n",
    "\n",
    "def grbl_getter_generator(cmd):\n",
    "    def grbl_getter(self):\n",
    "        config = self.cmd(\"$$\", resp=True, multiline=True)\n",
    "        for config_line in config:\n",
    "            if config_line.startswith(\"$\"):\n",
    "                key, value = config_line.split(\"=\")\n",
    "                if key == cmd:\n",
    "                    return float(value)\n",
    "        return None\n",
    "    return grbl_getter\n",
    "    \n",
    "def grbl_setter_generator(cmd):\n",
    "    def grbl_setter(self, value):\n",
    "        set_cmd = \"{cmd}={value}\".format(cmd=cmd, value=value)\n",
    "        ret = self.cmd(set_cmd, resp=True, multiline=False)\n",
    "        print(ret)\n",
    "        \n",
    "    return grbl_setter\n",
    "\n",
    "for setting in settings:\n",
    "    cmd = setting[0]\n",
    "    name = setting[1]\n",
    "    \n",
    "    setter = grbl_setter_generator(cmd)\n",
    "    getter = grbl_getter_generator(cmd)\n",
    "    \n",
    "    prop = property(fget=getter,\n",
    "                    fset=setter,\n",
    "                    doc=\" \".join(name.split(\"_\")))\n",
    "    \n",
    "    setattr(GRBL, name, prop)"
   ]
  },
  {
   "cell_type": "code",
   "execution_count": 4,
   "metadata": {
    "collapsed": true
   },
   "outputs": [],
   "source": [
    "%aimport GRBL"
   ]
  },
  {
   "cell_type": "code",
   "execution_count": 5,
   "metadata": {
    "collapsed": true
   },
   "outputs": [],
   "source": [
    "grbl = GRBL.GRBL(\"/dev/cnc_3018\")"
   ]
  },
  {
   "cell_type": "markdown",
   "metadata": {},
   "source": [
    "# Grbl '$' Commands"
   ]
  },
  {
   "cell_type": "code",
   "execution_count": 6,
   "metadata": {},
   "outputs": [
    {
     "data": {
      "text/plain": [
       "['ok', '<Idle|MPos:0.000,0.000,0.000|FS:0,0|WCO:0.000,0.000,0.000>', 'ok']"
      ]
     },
     "execution_count": 6,
     "metadata": {},
     "output_type": "execute_result"
    }
   ],
   "source": [
    "grbl.cmd(\"?\")"
   ]
  },
  {
   "cell_type": "code",
   "execution_count": 7,
   "metadata": {},
   "outputs": [
    {
     "data": {
      "text/plain": [
       "['ok',\n",
       " '<Idle|MPos:0.000,0.000,0.000|FS:0,0|Ov:100,100,100>',\n",
       " '[HLP:$$ $# $G $I $N $x=val $Nx=line $J=line $SLP $C $X $H ~ ! ? ctrl-x]',\n",
       " 'ok']"
      ]
     },
     "execution_count": 7,
     "metadata": {},
     "output_type": "execute_result"
    }
   ],
   "source": [
    "grbl.cmd(\"$?\")"
   ]
  },
  {
   "cell_type": "code",
   "execution_count": 11,
   "metadata": {},
   "outputs": [
    {
     "data": {
      "text/plain": [
       "['ok',\n",
       " '[G54:0.000,0.000,0.000]',\n",
       " '[G55:0.000,0.000,0.000]',\n",
       " '[G56:0.000,0.000,0.000]',\n",
       " '[G57:0.000,0.000,0.000]',\n",
       " '[G58:0.000,0.000,0.000]',\n",
       " '[G59:0.000,0.000,0.000]',\n",
       " '[G28:0.000,0.000,0.000]',\n",
       " '[G30:0.000,0.000,0.000]',\n",
       " '[G92:0.000,0.000,0.000]',\n",
       " '[TLO:0.000]',\n",
       " '[PRB:0.000,0.000,0.000:0]',\n",
       " 'ok']"
      ]
     },
     "execution_count": 11,
     "metadata": {},
     "output_type": "execute_result"
    }
   ],
   "source": [
    "gcode_parameters = grbl.cmd(\"$#\") # View gcode parameters\n",
    "gcode_parameters"
   ]
  },
  {
   "cell_type": "code",
   "execution_count": 44,
   "metadata": {},
   "outputs": [
    {
     "data": {
      "text/plain": [
       "[0.0, 0.0, 0.0]"
      ]
     },
     "execution_count": 44,
     "metadata": {},
     "output_type": "execute_result"
    }
   ],
   "source": [
    "def gcode_param_gen(parameter):\n",
    "    def gcode_param(self):\n",
    "        gcode_parameters = self.cmd(\"$#\") # View gcode parameters\n",
    "        for gcode_parameter in gcode_parameters: \n",
    "            if parameter in gcode_parameter:\n",
    "                _, value = gcode_parameter.split(\":\")\n",
    "                value = value.strip(\"]\")\n",
    "                values = value.split(\",\")\n",
    "                values = [float(value) for value in values]\n",
    "                \n",
    "                return values\n",
    "        return None\n",
    "    return gcode_param\n",
    "\n",
    "G54 = gcode_param_gen(\"G54\")\n",
    "\n",
    "G54(grbl)"
   ]
  },
  {
   "cell_type": "code",
   "execution_count": 51,
   "metadata": {},
   "outputs": [
    {
     "name": "stdout",
     "output_type": "stream",
     "text": [
      "gcode_parameters = [\n",
      "    \"G54\",\n",
      "    \"G55\",\n",
      "    \"G56\",\n",
      "    \"G57\",\n",
      "    \"G58\",\n",
      "    \"G59\",\n",
      "    \"G28\",\n",
      "    \"G30\",\n",
      "    \"G92\",\n",
      "    \"TLO\",\n",
      "    \"PRB\",\n",
      "    ]\n"
     ]
    }
   ],
   "source": [
    "print(\"gcode_parameters = [\")\n",
    "for p in gcode_parameters:\n",
    "    if p.startswith(\"[\"):\n",
    "        k, *_ = p.split(\":\")\n",
    "        k = k.strip(\"[\")\n",
    "        print(\"    \\\"{}\\\",\".format(k))\n",
    "print(\"    ]\")"
   ]
  },
  {
   "cell_type": "code",
   "execution_count": 52,
   "metadata": {},
   "outputs": [],
   "source": [
    "gcode_parameters = [\n",
    "    \"G54\",\n",
    "    \"G55\",\n",
    "    \"G56\",\n",
    "    \"G57\",\n",
    "    \"G58\",\n",
    "    \"G59\",\n",
    "    \"G28\",\n",
    "    \"G30\",\n",
    "    \"G92\",\n",
    "    \"TLO\",\n",
    "    \"PRB\",\n",
    "    ]"
   ]
  },
  {
   "cell_type": "code",
   "execution_count": 55,
   "metadata": {},
   "outputs": [],
   "source": [
    "for parameter in gcode_parameters:\n",
    "    fcn = gcode_param_gen(parameter)\n",
    "    prop = property(fget=fcn)\n",
    "    setattr(GRBL.GRBL, parameter, prop)"
   ]
  },
  {
   "cell_type": "code",
   "execution_count": 56,
   "metadata": {},
   "outputs": [],
   "source": [
    "grbl = GRBL.GRBL(\"/dev/cnc_3018\")"
   ]
  },
  {
   "cell_type": "code",
   "execution_count": 57,
   "metadata": {},
   "outputs": [
    {
     "data": {
      "text/plain": [
       "[0.0, 0.0, 0.0]"
      ]
     },
     "execution_count": 57,
     "metadata": {},
     "output_type": "execute_result"
    }
   ],
   "source": [
    "grbl.G54"
   ]
  },
  {
   "cell_type": "code",
   "execution_count": null,
   "metadata": {
    "collapsed": true
   },
   "outputs": [],
   "source": [
    "def status(self):\n",
    "    ret = self.cmd(\"\")"
   ]
  }
 ],
 "metadata": {
  "kernelspec": {
   "display_name": "Python 3",
   "language": "python",
   "name": "python3"
  },
  "language_info": {
   "codemirror_mode": {
    "name": "ipython",
    "version": 3
   },
   "file_extension": ".py",
   "mimetype": "text/x-python",
   "name": "python",
   "nbconvert_exporter": "python",
   "pygments_lexer": "ipython3",
   "version": "3.5.2"
  }
 },
 "nbformat": 4,
 "nbformat_minor": 2
}
