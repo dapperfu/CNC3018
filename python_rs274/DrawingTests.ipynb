{
 "cells": [
  {
   "cell_type": "markdown",
   "metadata": {},
   "source": [
    "# Drawing Tests\n",
    "\n",
    "## Object\n",
    "- Play around with drawing things."
   ]
  },
  {
   "cell_type": "markdown",
   "metadata": {},
   "source": [
    "# Code:"
   ]
  },
  {
   "cell_type": "code",
   "execution_count": 1,
   "metadata": {},
   "outputs": [
    {
     "name": "stdout",
     "output_type": "stream",
     "text": [
      "Laser Mode: 1.0\n"
     ]
    }
   ],
   "source": [
    "import GCode\n",
    "import GRBL\n",
    "import numpy as np\n",
    "from utils import picture\n",
    "cnc = GRBL.GRBL(port=\"/dev/cnc_3018\")\n",
    "\n",
    "print(\"Laser Mode: {}\".format(cnc.laser_mode))\n",
    "\n",
    "from enum import IntEnum\n",
    "class Tool(IntEnum):\n",
    "    SPINDLE = 0\n",
    "    LASER = 1\n",
    "\n",
    "from enum import IntEnum\n",
    "class LaserPower(IntEnum):\n",
    "    CONSTANT = 0\n",
    "    DYNAMIC = 1\n",
    "\n",
    "LaserPower.CONSTANT\n",
    "\n",
    "def init(power = LaserPower(0), feed = 200, laser = 1):\n",
    "    program = GCode.GCode()\n",
    "    program.G20() # Metric Units\n",
    "    program.G91() # Absolute positioning.\n",
    "    program.G1(F=feed) #\n",
    "    if power==LaserPower.CONSTANT:\n",
    "        program.M3(S=laser) # Laser settings\n",
    "    else:\n",
    "        program.M4(S=laser) # Laser settings\n",
    "    return program\n",
    "\n",
    "def end():\n",
    "    program = GCode.GCode()\n",
    "    program.M5() # Laser settings.\n",
    "    return program\n",
    "\n",
    "def square(size=0.25):    \n",
    "    program = GCode.GCode()\n",
    "    program.G1(X=size)\n",
    "    program.G1(Y=-size)\n",
    "    program.G1(X=-size)\n",
    "    program.G1(Y=size)\n",
    "    return program"
   ]
  },
  {
   "cell_type": "markdown",
   "metadata": {},
   "source": [
    "## Test Setup\n",
    "\n",
    "Power Supply:\n",
    "- CicuitSpecialists CSI3010SW @ 12V\n",
    "- PostIt Note Grid notes. .25\" grid.\n",
    "\n",
    "Position the paper & other things."
   ]
  },
  {
   "cell_type": "code",
   "execution_count": 2,
   "metadata": {
    "collapsed": true
   },
   "outputs": [],
   "source": [
    "def laser_on(pwm):\n",
    "    if int(pwm) != np.uint8(pwm):\n",
    "        raise(Exception(\"UINT8! {}\".format(pwm)))\n",
    "    # Set minimal power setting to focus and position laser\n",
    "    cnc.cmd(\"M3 S{:03d}\".format(np.uint8(pwm)))\n",
    "    cnc.cmd(\"G1 X0 F10\") # Laser On\n",
    "\n",
    "def laser_off():\n",
    "    cnc.cmd(\"M5\") # Laser off"
   ]
  },
  {
   "cell_type": "code",
   "execution_count": 17,
   "metadata": {},
   "outputs": [
    {
     "data": {
      "text/html": [
       "<b>G20</b> <i></i><br>\n",
       "<b>G91</b> <i></i><br>\n",
       "<b>G1</b> <i>F200</i><br>\n",
       "<b>M3</b> <i>S1</i>"
      ],
      "text/plain": [
       "<GCode>[cmds=4]"
      ]
     },
     "execution_count": 17,
     "metadata": {},
     "output_type": "execute_result"
    }
   ],
   "source": [
    "init()"
   ]
  },
  {
   "cell_type": "code",
   "execution_count": 8,
   "metadata": {},
   "outputs": [
    {
     "data": {
      "text/plain": [
       "0.414473295211792"
      ]
     },
     "execution_count": 8,
     "metadata": {},
     "output_type": "execute_result"
    }
   ],
   "source": [
    "cnc.run()"
   ]
  },
  {
   "cell_type": "code",
   "execution_count": 9,
   "metadata": {},
   "outputs": [],
   "source": [
    "laser_on(1) # Position the axis by hand"
   ]
  },
  {
   "cell_type": "code",
   "execution_count": 16,
   "metadata": {},
   "outputs": [
    {
     "data": {
      "text/plain": [
       "['ok', 'error:9']"
      ]
     },
     "execution_count": 16,
     "metadata": {},
     "output_type": "execute_result"
    }
   ],
   "source": [
    "cnc.cmd(\"G0 F10 X0 Y0\")"
   ]
  },
  {
   "cell_type": "code",
   "execution_count": null,
   "metadata": {},
   "outputs": [],
   "source": [
    "picture()"
   ]
  },
  {
   "cell_type": "code",
   "execution_count": 15,
   "metadata": {
    "collapsed": true
   },
   "outputs": [],
   "source": [
    "laser_off()"
   ]
  },
  {
   "cell_type": "code",
   "execution_count": null,
   "metadata": {
    "collapsed": true
   },
   "outputs": [],
   "source": [
    "laser_on(1)"
   ]
  },
  {
   "cell_type": "code",
   "execution_count": 14,
   "metadata": {
    "collapsed": true
   },
   "outputs": [],
   "source": [
    "cnc.reset()"
   ]
  },
  {
   "cell_type": "code",
   "execution_count": null,
   "metadata": {},
   "outputs": [],
   "source": [
    "square(0.25)"
   ]
  },
  {
   "cell_type": "code",
   "execution_count": null,
   "metadata": {
    "collapsed": true
   },
   "outputs": [],
   "source": [
    "tests_x = 10\n",
    "tests_y = 7"
   ]
  },
  {
   "cell_type": "code",
   "execution_count": null,
   "metadata": {},
   "outputs": [],
   "source": [
    "cnc.run(init(laser=0.1)+square(0.25))"
   ]
  },
  {
   "cell_type": "code",
   "execution_count": null,
   "metadata": {},
   "outputs": [],
   "source": [
    "np.linspace(0, 255, tests_x)"
   ]
  },
  {
   "cell_type": "code",
   "execution_count": null,
   "metadata": {},
   "outputs": [],
   "source": [
    "np.linspace(50, 1, tests_y)"
   ]
  },
  {
   "cell_type": "code",
   "execution_count": null,
   "metadata": {
    "collapsed": true
   },
   "outputs": [],
   "source": [
    "def jogx(x=10):\n",
    "    program = GCode.GCode()\n",
    "    program.G0(X=x)\n",
    "    cnc.run(program)\n",
    "def jogy(y=10):\n",
    "    program = GCode.GCode()\n",
    "    program.G0(Y=y)\n",
    "    cnc.run(program)\n",
    "def jogz(z=10):\n",
    "    program = GCode.GCode()\n",
    "    program.G0(Z=z)\n",
    "    cnc.run(program)"
   ]
  },
  {
   "cell_type": "code",
   "execution_count": null,
   "metadata": {
    "collapsed": true
   },
   "outputs": [],
   "source": [
    "jogx(-1)"
   ]
  },
  {
   "cell_type": "code",
   "execution_count": null,
   "metadata": {},
   "outputs": [],
   "source": [
    "laser_on(1)"
   ]
  },
  {
   "cell_type": "code",
   "execution_count": null,
   "metadata": {
    "collapsed": true
   },
   "outputs": [],
   "source": [
    "square_size = 0.25"
   ]
  },
  {
   "cell_type": "markdown",
   "metadata": {},
   "source": [
    "# Test Setup"
   ]
  },
  {
   "cell_type": "code",
   "execution_count": null,
   "metadata": {},
   "outputs": [],
   "source": [
    "cnc.cmd(\"$G\")[1]"
   ]
  },
  {
   "cell_type": "code",
   "execution_count": null,
   "metadata": {},
   "outputs": [],
   "source": [
    "cnc.cmd(\"$#\")[1]"
   ]
  },
  {
   "cell_type": "code",
   "execution_count": null,
   "metadata": {},
   "outputs": [],
   "source": [
    "cnc.cmd(\"$$\")"
   ]
  },
  {
   "cell_type": "code",
   "execution_count": null,
   "metadata": {},
   "outputs": [],
   "source": [
    "cnc.cmd(\"$I\")"
   ]
  },
  {
   "cell_type": "code",
   "execution_count": null,
   "metadata": {},
   "outputs": [],
   "source": [
    "picture()"
   ]
  },
  {
   "cell_type": "code",
   "execution_count": null,
   "metadata": {},
   "outputs": [],
   "source": [
    "for feed in np.linspace(50, 1, tests_y):\n",
    "    for pwm in np.linspace(0, 255, tests_x):\n",
    "        i = init(laser=np.uint8(pwm), feed=np.round(feed))\n",
    "        s = square(square_size)\n",
    "        laser_on(1)\n",
    "        cnc.run(i+s)\n",
    "        jogx(0.25)\n",
    "    jogx(-1*2*tests_x*square_size)\n",
    "    jogy(-square_size*2)"
   ]
  },
  {
   "cell_type": "code",
   "execution_count": null,
   "metadata": {},
   "outputs": [],
   "source": [
    "cnc.cmd(\"!\")"
   ]
  },
  {
   "cell_type": "code",
   "execution_count": null,
   "metadata": {
    "collapsed": true
   },
   "outputs": [],
   "source": [
    "laser_on(1)"
   ]
  },
  {
   "cell_type": "code",
   "execution_count": null,
   "metadata": {},
   "outputs": [],
   "source": [
    "cnc.reset()"
   ]
  },
  {
   "cell_type": "code",
   "execution_count": null,
   "metadata": {
    "collapsed": true
   },
   "outputs": [],
   "source": [
    "laser_off()"
   ]
  },
  {
   "cell_type": "code",
   "execution_count": null,
   "metadata": {
    "collapsed": true
   },
   "outputs": [],
   "source": []
  }
 ],
 "metadata": {
  "kernelspec": {
   "display_name": "Python 3",
   "language": "python",
   "name": "python3"
  },
  "language_info": {
   "codemirror_mode": {
    "name": "ipython",
    "version": 3
   },
   "file_extension": ".py",
   "mimetype": "text/x-python",
   "name": "python",
   "nbconvert_exporter": "python",
   "pygments_lexer": "ipython3",
   "version": "3.5.2"
  }
 },
 "nbformat": 4,
 "nbformat_minor": 2
}
