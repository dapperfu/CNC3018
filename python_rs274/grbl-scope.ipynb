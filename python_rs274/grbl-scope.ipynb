{
 "cells": [
  {
   "cell_type": "code",
   "execution_count": 42,
   "metadata": {
    "collapsed": true
   },
   "outputs": [],
   "source": [
    "import serial"
   ]
  },
  {
   "cell_type": "code",
   "execution_count": 43,
   "metadata": {
    "collapsed": true
   },
   "outputs": [],
   "source": [
    "# Good core to start with.\n",
    "commands = list()\n",
    "for gcmd in [0, 1, 20, 21, 28, 90, 91]:\n",
    "    commands.append(\"G{code}\".format(code=gcmd))\n",
    "for mcmd in [0, 1, 2, 3, 4, 5, 6]:\n",
    "    commands.append(\"M{code}\".format(code=mcmd))"
   ]
  },
  {
   "cell_type": "code",
   "execution_count": 44,
   "metadata": {
    "collapsed": true
   },
   "outputs": [],
   "source": [
    "class GCode(object):\n",
    "    def __init__(self, *args, **kwargs):\n",
    "        self.linenumbering = False\n",
    "        self.buffer = list()\n",
    "        \n",
    "    @property\n",
    "    def code(self):\n",
    "        if self.linenumbering:\n",
    "            pass\n",
    "        return \"\\n\".join(self.buffer)\n",
    "        \n",
    "    def save(self, filename):\n",
    "        pass\n",
    "    \n",
    "    def send(self):\n",
    "        pass\n",
    "    \n",
    "    def __str__(self):\n",
    "        return self.code\n",
    "\n",
    "    def __repr__(self):\n",
    "        return \"<GCode>[cmds={}]\".format(len(self.buffer))\n",
    "    \n",
    "    def __iter__(self):\n",
    "        for buf in self.buffer:\n",
    "            yield buf\n",
    "    \n",
    "    def _repr_html_(self):\n",
    "        html = list()\n",
    "        for cmd_line in self.buffer:\n",
    "            cmd, *args = cmd_line.split(\" \")\n",
    "            html_line = \"<b>{cmd}</b> <i>{args}</i>\".format(cmd=cmd, args=\" \".join(args))\n",
    "            html.append(html_line)\n",
    "        return \"<br>\\n\".join(html)\n",
    "    \n",
    "\n",
    "def cmd_factory(cmd, doc=None):\n",
    "    def cmd_fcn(self, **kwargs):\n",
    "        args = list()\n",
    "        for key, value in kwargs.items():\n",
    "            args.append(\"{key}{value}\".format(key=key, value=value))\n",
    "        \n",
    "        cmd_str = \"{cmd} {args}\".format(cmd=cmd, args=\" \".join(args))\n",
    "        self.buffer.append(cmd_str.strip())  \n",
    "    return cmd_fcn       \n",
    "\n",
    "\n",
    "for command in commands:\n",
    "    setattr(GCode, command, cmd_factory(command))"
   ]
  },
  {
   "cell_type": "code",
   "execution_count": 45,
   "metadata": {},
   "outputs": [],
   "source": [
    "s = serial.Serial(port=\"/dev/cnc_3018\",\n",
    "                  baudrate=115200,\n",
    "                  timeout=1)\n",
    "from time import sleep\n",
    "sleep(2)\n",
    "s.flushInput()\n",
    "sleep(2)"
   ]
  },
  {
   "cell_type": "code",
   "execution_count": 46,
   "metadata": {
    "collapsed": true
   },
   "outputs": [],
   "source": [
    "def grbl(cmd):\n",
    "    s.flushInput()\n",
    "    s.write(\"{cmd}\\n\".format(cmd=cmd).encode())\n",
    "    responses = s.readlines()\n",
    "    responses = [response.decode().strip() for response in responses]\n",
    "    return responses"
   ]
  },
  {
   "cell_type": "code",
   "execution_count": 47,
   "metadata": {
    "scrolled": true
   },
   "outputs": [
    {
     "data": {
      "text/plain": [
       "['<Idle|MPos:0.000,0.000,0.000|FS:0,0|WCO:0.000,0.000,0.000>', 'ok']"
      ]
     },
     "execution_count": 47,
     "metadata": {},
     "output_type": "execute_result"
    }
   ],
   "source": [
    "grbl(\"?\")"
   ]
  },
  {
   "cell_type": "code",
   "execution_count": 51,
   "metadata": {},
   "outputs": [
    {
     "data": {
      "text/plain": [
       "['ok']"
      ]
     },
     "execution_count": 51,
     "metadata": {},
     "output_type": "execute_result"
    }
   ],
   "source": [
    "grbl(\"M5\")dmes"
   ]
  },
  {
   "cell_type": "code",
   "execution_count": 30,
   "metadata": {
    "collapsed": true
   },
   "outputs": [],
   "source": [
    "def grbl(cmd, resp = True):\n",
    "    s.flushInput()\n",
    "    s.write(\"{cmd}\\n\".format(cmd=cmd).encode())\n",
    "    if resp:\n",
    "        responses = s.readlines()\n",
    "        # Clean Up.\n",
    "        responses = [response.decode().strip() for response in responses]\n",
    "        return responses\n",
    "    else:\n",
    "        return None"
   ]
  },
  {
   "cell_type": "code",
   "execution_count": 41,
   "metadata": {},
   "outputs": [
    {
     "data": {
      "text/plain": [
       "[]"
      ]
     },
     "execution_count": 41,
     "metadata": {},
     "output_type": "execute_result"
    }
   ],
   "source": [
    "grbl(\"M3 S1000\", resp=True)"
   ]
  },
  {
   "cell_type": "code",
   "execution_count": 50,
   "metadata": {},
   "outputs": [
    {
     "ename": "TypeError",
     "evalue": "grbl() got an unexpected keyword argument 'resp'",
     "output_type": "error",
     "traceback": [
      "\u001b[0;31m---------------------------------------------------------------------------\u001b[0m",
      "\u001b[0;31mTypeError\u001b[0m                                 Traceback (most recent call last)",
      "\u001b[0;32m<ipython-input-50-fb0705a98369>\u001b[0m in \u001b[0;36m<module>\u001b[0;34m()\u001b[0m\n\u001b[0;32m----> 1\u001b[0;31m \u001b[0mgrbl\u001b[0m\u001b[0;34m(\u001b[0m\u001b[0;34m\"M5\"\u001b[0m\u001b[0;34m,\u001b[0m \u001b[0mresp\u001b[0m\u001b[0;34m=\u001b[0m\u001b[0;32mFalse\u001b[0m\u001b[0;34m)\u001b[0m\u001b[0;34m\u001b[0m\u001b[0m\n\u001b[0m",
      "\u001b[0;31mTypeError\u001b[0m: grbl() got an unexpected keyword argument 'resp'"
     ]
    }
   ],
   "source": [
    "grbl(\"M5\", resp=False)"
   ]
  },
  {
   "cell_type": "code",
   "execution_count": null,
   "metadata": {
    "collapsed": true
   },
   "outputs": [],
   "source": []
  }
 ],
 "metadata": {
  "kernelspec": {
   "display_name": "Python 3",
   "language": "python",
   "name": "python3"
  },
  "language_info": {
   "codemirror_mode": {
    "name": "ipython",
    "version": 3
   },
   "file_extension": ".py",
   "mimetype": "text/x-python",
   "name": "python",
   "nbconvert_exporter": "python",
   "pygments_lexer": "ipython3",
   "version": "3.5.2"
  }
 },
 "nbformat": 4,
 "nbformat_minor": 2
}
