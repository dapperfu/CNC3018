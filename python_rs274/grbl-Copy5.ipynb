{
 "cells": [
  {
   "cell_type": "code",
   "execution_count": 13,
   "metadata": {},
   "outputs": [
    {
     "name": "stdout",
     "output_type": "stream",
     "text": [
      "The autoreload extension is already loaded. To reload it, use:\n",
      "  %reload_ext autoreload\n"
     ]
    }
   ],
   "source": [
    "%load_ext autoreload\n",
    "%autoreload 1"
   ]
  },
  {
   "cell_type": "code",
   "execution_count": 14,
   "metadata": {},
   "outputs": [
    {
     "name": "stdout",
     "output_type": "stream",
     "text": [
      "Overwriting GRBL.py\n"
     ]
    }
   ],
   "source": [
    "%%file GRBL.py\n",
    "import serial\n",
    "class GRBL(object):\n",
    "    BAUDRATE = 115200\n",
    "    \n",
    "    def __init__(self, port):\n",
    "        self.serial = serial.Serial(port=port,\n",
    "                                    baudrate=GRBL.BAUDRATE,\n",
    "                                    timeout=0.10)\n",
    "        \n",
    "    def write(self, command_line=\"\"):\n",
    "        self.serial.flushInput()\n",
    "        self.serial.write(\"\\n\".encode())\n",
    "        self.serial.write(\"{cmd}\\n\".format(cmd=command_line).encode())\n",
    "        \n",
    "    def read(self, multiline=True):\n",
    "        if multiline:\n",
    "            responses = self.serial.readlines()\n",
    "            responses = [response.decode().strip() for response in responses]\n",
    "            return responses\n",
    "        else:\n",
    "            response = self.serial.readline()\n",
    "            return response.decode().strip()\n",
    " \n",
    "    def cmd(self, command_line, resp=True, multiline=True):\n",
    "        self.write(command_line)\n",
    "        if resp:\n",
    "            return self.read(multiline=multiline)\n",
    "        return None\n",
    "    \n",
    "    def reset(self):\n",
    "        \"\"\" https://github.com/gnea/grbl/wiki/Grbl-v1.1-Commands#grbl-v11-realtime-commands\n",
    "        \"\"\"\n",
    "        ret = self.cmd(\"\\x18\")\n",
    "        assert(ret[-1]=='ok')\n",
    "        \n",
    "    def sleep(self):\n",
    "        \"\"\" https://github.com/gnea/grbl/wiki/Grbl-v1.1-Commands#slp---enable-sleep-mode\n",
    "        \"\"\"\n",
    "        ret = self.cmd(\"$SLP\")\n",
    "        assert(ret[-1]=='ok')\n",
    "    \n",
    "    @property\n",
    "    def status(self):\n",
    "        \"\"\"\n",
    "        \"\"\"\n",
    "        ret = self.cmd(\"?\")\n",
    "        assert(ret[-1]=='ok')\n",
    "        return ret[1]\n",
    "        \n",
    "    def kill_alarm(self):\n",
    "        \"\"\" https://github.com/gnea/grbl/wiki/Grbl-v1.1-Commands#x---kill-alarm-lock\n",
    "        \"\"\"\n",
    "        ret = self.cmd(\"$X\")\n",
    "        assert(ret[-1]=='ok')\n",
    "        \n",
    "    def home(self):\n",
    "        \"\"\" https://github.com/gnea/grbl/wiki/Grbl-v1.1-Commands#h---run-homing-cycle\n",
    "        \"\"\"\n",
    "        self.write(\"$H\")\n",
    "        assert(ret[-1]=='ok')\n",
    "        \n",
    "# https://github.com/gnea/grbl/wiki/Grbl-v1.1-Configuration#---view-grbl-settings\n",
    "settings = [\n",
    "    (\"$0\", \"step_pulse\"),\n",
    "    (\"$1\", \"step_idle_delay\"),\n",
    "    (\"$2\", \"step_port_invert\"),\n",
    "    (\"$3\", \"direction_port_invert\"),\n",
    "    (\"$4\", \"step_enable_invert\"),\n",
    "    (\"$5\", \"limit_pin_invert\"),\n",
    "    (\"$6\", \"probe_pin_invert\"),\n",
    "    (\"$10\", \"status_report\"),\n",
    "    (\"$11\", \"junction_deviation\"),\n",
    "    (\"$12\", \"arc_tolerance\"),\n",
    "    (\"$13\", \"report_inches\"),\n",
    "    (\"$20\", \"soft_limits\"),\n",
    "    (\"$21\", \"hard_limits\"),\n",
    "    (\"$22\", \"homing_cycle\"),\n",
    "    (\"$23\", \"homing_dir_invert\"),\n",
    "    (\"$24\", \"homing_feed\"),\n",
    "    (\"$25\", \"homing_seek\"),\n",
    "    (\"$26\", \"homing_debounce\"),\n",
    "    (\"$27\", \"homing_pull_off\"),\n",
    "    (\"$30\", \"max_spindle_speed\"),\n",
    "    (\"$31\", \"min_spindle_speed\"),\n",
    "    (\"$32\", \"laser_mode\"),\n",
    "    (\"$100\", \"x_steps_mm\"),\n",
    "    (\"$101\", \"y_steps_mm\"),\n",
    "    (\"$102\", \"z_steps_mm\"),\n",
    "    (\"$110\", \"x_max_rate\"),\n",
    "    (\"$111\", \"y_max_rate\"),\n",
    "    (\"$112\", \"z_max_rate\"),\n",
    "    (\"$120\", \"x_acceleration\"),\n",
    "    (\"$121\", \"y_acceleration\"),\n",
    "    (\"$122\", \"z_acceleration\"),\n",
    "    (\"$130\", \"x_travel\"),\n",
    "    (\"$131\", \"y_travel\"),\n",
    "    (\"$132\", \"z_travel\"),\n",
    "    ]\n",
    "\n",
    "def grbl_getter_generator(cmd):\n",
    "    def grbl_getter(self):\n",
    "        config = self.cmd(\"$$\", resp=True, multiline=True)\n",
    "        for config_line in config:\n",
    "            if config_line.startswith(\"$\"):\n",
    "                key, value = config_line.split(\"=\")\n",
    "                if key == cmd:\n",
    "                    return float(value)\n",
    "        return None\n",
    "    return grbl_getter\n",
    "    \n",
    "def grbl_setter_generator(cmd):\n",
    "    def grbl_setter(self, value):\n",
    "        set_cmd = \"{cmd}={value}\".format(cmd=cmd, value=value)\n",
    "        ret = self.cmd(set_cmd, resp=True, multiline=False)\n",
    "        print(ret)\n",
    "        \n",
    "    return grbl_setter\n",
    "\n",
    "for setting in settings:\n",
    "    cmd = setting[0]\n",
    "    name = setting[1]\n",
    "    \n",
    "    setter = grbl_setter_generator(cmd)\n",
    "    getter = grbl_getter_generator(cmd)\n",
    "    \n",
    "    prop = property(fget=getter,\n",
    "                    fset=setter,\n",
    "                    doc=\" \".join(name.split(\"_\")))\n",
    "    \n",
    "    setattr(GRBL, name, prop)\n",
    "    \n",
    "# https://github.com/gnea/grbl/wiki/Grbl-v1.1-Commands#---view-gcode-parameters\n",
    "gcode_parameters = [\n",
    "    \"G54\",\n",
    "    \"G55\",\n",
    "    \"G56\",\n",
    "    \"G57\",\n",
    "    \"G58\",\n",
    "    \"G59\",\n",
    "    \"G28\",\n",
    "    \"G30\",\n",
    "    \"G92\",\n",
    "    \"TLO\",\n",
    "    \"PRB\",\n",
    "    ]\n",
    "\n",
    "\n",
    "def gcode_param_gen(parameter):\n",
    "    def gcode_param(self):\n",
    "        gcode_parameters = self.cmd(\"$#\") # View gcode parameters\n",
    "        for gcode_parameter in gcode_parameters: \n",
    "            if parameter in gcode_parameter:\n",
    "                _, value = gcode_parameter.split(\":\")\n",
    "                value = value.strip(\"]\")\n",
    "                values = value.split(\",\")\n",
    "                values = [float(value) for value in values]\n",
    "                \n",
    "                return values\n",
    "        return None\n",
    "    return gcode_param\n",
    "\n",
    "\n",
    "for parameter in gcode_parameters:\n",
    "    fcn = gcode_param_gen(parameter)\n",
    "    prop = property(fget=fcn)\n",
    "    setattr(GRBL, parameter, prop)"
   ]
  },
  {
   "cell_type": "code",
   "execution_count": 15,
   "metadata": {
    "collapsed": true
   },
   "outputs": [],
   "source": [
    "%aimport GRBL"
   ]
  },
  {
   "cell_type": "code",
   "execution_count": 16,
   "metadata": {
    "collapsed": true
   },
   "outputs": [],
   "source": [
    "grbl = GRBL.GRBL(\"/dev/cnc_3018\")"
   ]
  },
  {
   "cell_type": "code",
   "execution_count": 17,
   "metadata": {
    "collapsed": true
   },
   "outputs": [],
   "source": [
    "grbl.reset()"
   ]
  },
  {
   "cell_type": "code",
   "execution_count": 18,
   "metadata": {},
   "outputs": [
    {
     "data": {
      "text/plain": [
       "['ok', 'ok']"
      ]
     },
     "execution_count": 18,
     "metadata": {},
     "output_type": "execute_result"
    }
   ],
   "source": [
    "# Metric\n",
    "grbl.cmd(\"G21\")\n",
    "# Relative\n",
    "grbl.cmd(\"G91\")"
   ]
  },
  {
   "cell_type": "code",
   "execution_count": 26,
   "metadata": {},
   "outputs": [
    {
     "data": {
      "text/plain": [
       "['ok', 'ok']"
      ]
     },
     "execution_count": 26,
     "metadata": {},
     "output_type": "execute_result"
    }
   ],
   "source": [
    "grbl.cmd(\"M3 S1000\")"
   ]
  },
  {
   "cell_type": "code",
   "execution_count": 28,
   "metadata": {},
   "outputs": [
    {
     "data": {
      "text/plain": [
       "['ok', 'ok']"
      ]
     },
     "execution_count": 28,
     "metadata": {},
     "output_type": "execute_result"
    }
   ],
   "source": [
    "grbl.cmd(\"G0 F10\")"
   ]
  },
  {
   "cell_type": "code",
   "execution_count": 29,
   "metadata": {},
   "outputs": [
    {
     "data": {
      "text/plain": [
       "['ok', 'ok']"
      ]
     },
     "execution_count": 29,
     "metadata": {},
     "output_type": "execute_result"
    }
   ],
   "source": [
    "grbl.cmd(\"G0 Z-2\")"
   ]
  },
  {
   "cell_type": "code",
   "execution_count": 30,
   "metadata": {},
   "outputs": [
    {
     "data": {
      "text/plain": [
       "['ok', 'ok']"
      ]
     },
     "execution_count": 30,
     "metadata": {},
     "output_type": "execute_result"
    }
   ],
   "source": [
    "grbl.cmd(\"G0 Z2\")"
   ]
  },
  {
   "cell_type": "code",
   "execution_count": 32,
   "metadata": {},
   "outputs": [
    {
     "data": {
      "text/plain": [
       "['ok', 'ok']"
      ]
     },
     "execution_count": 32,
     "metadata": {},
     "output_type": "execute_result"
    }
   ],
   "source": [
    "grbl.cmd(\"G0 Z2\")"
   ]
  },
  {
   "cell_type": "code",
   "execution_count": 33,
   "metadata": {},
   "outputs": [
    {
     "data": {
      "text/plain": [
       "['ok', 'ok']"
      ]
     },
     "execution_count": 33,
     "metadata": {},
     "output_type": "execute_result"
    }
   ],
   "source": [
    "grbl.cmd(\"G1 F500\")"
   ]
  },
  {
   "cell_type": "code",
   "execution_count": 34,
   "metadata": {},
   "outputs": [
    {
     "data": {
      "text/plain": [
       "['ok', 'ok']"
      ]
     },
     "execution_count": 34,
     "metadata": {},
     "output_type": "execute_result"
    }
   ],
   "source": [
    "grbl.cmd(\"G1 X10\")\n",
    "grbl.cmd(\"G1 Y10\")\n",
    "grbl.cmd(\"G1 X-10\")\n",
    "grbl.cmd(\"G1 Y-10\")"
   ]
  },
  {
   "cell_type": "code",
   "execution_count": 35,
   "metadata": {},
   "outputs": [
    {
     "data": {
      "text/plain": [
       "['ok', 'ok']"
      ]
     },
     "execution_count": 35,
     "metadata": {},
     "output_type": "execute_result"
    }
   ],
   "source": [
    "grbl.cmd(\"G1 X100\")\n",
    "grbl.cmd(\"G1 Y100\")\n",
    "grbl.cmd(\"G1 X-100\")\n",
    "grbl.cmd(\"G1 Y-100\")"
   ]
  },
  {
   "cell_type": "code",
   "execution_count": 36,
   "metadata": {},
   "outputs": [
    {
     "data": {
      "text/plain": [
       "['ok', 'ok']"
      ]
     },
     "execution_count": 36,
     "metadata": {},
     "output_type": "execute_result"
    }
   ],
   "source": [
    "grbl.cmd(\"G1 X-200\")\n",
    "grbl.cmd(\"G1 Y-200\")\n",
    "grbl.cmd(\"G1 X200\")\n",
    "grbl.cmd(\"G1 Y200\")"
   ]
  },
  {
   "cell_type": "code",
   "execution_count": 37,
   "metadata": {},
   "outputs": [
    {
     "data": {
      "text/plain": [
       "['ok', 'ok']"
      ]
     },
     "execution_count": 37,
     "metadata": {},
     "output_type": "execute_result"
    }
   ],
   "source": [
    "grbl.cmd(\"G1 X100 Y100\")"
   ]
  },
  {
   "cell_type": "code",
   "execution_count": 38,
   "metadata": {},
   "outputs": [
    {
     "data": {
      "text/plain": [
       "['ok', 'ok']"
      ]
     },
     "execution_count": 38,
     "metadata": {},
     "output_type": "execute_result"
    }
   ],
   "source": [
    "grbl.cmd(\"G1 Y-100\")"
   ]
  },
  {
   "cell_type": "code",
   "execution_count": 39,
   "metadata": {},
   "outputs": [
    {
     "data": {
      "text/plain": [
       "['ok', 'ok']"
      ]
     },
     "execution_count": 39,
     "metadata": {},
     "output_type": "execute_result"
    }
   ],
   "source": [
    "grbl.cmd(\"G1 Z0.5\")"
   ]
  },
  {
   "cell_type": "code",
   "execution_count": 40,
   "metadata": {},
   "outputs": [
    {
     "data": {
      "text/plain": [
       "['ok', 'ok']"
      ]
     },
     "execution_count": 40,
     "metadata": {},
     "output_type": "execute_result"
    }
   ],
   "source": [
    "grbl.cmd(\"G1 Y100\")"
   ]
  },
  {
   "cell_type": "code",
   "execution_count": 41,
   "metadata": {},
   "outputs": [
    {
     "data": {
      "text/plain": [
       "['ok', 'ok']"
      ]
     },
     "execution_count": 41,
     "metadata": {},
     "output_type": "execute_result"
    }
   ],
   "source": [
    "grbl.cmd(\"G1 Z-0.5\")"
   ]
  },
  {
   "cell_type": "code",
   "execution_count": 42,
   "metadata": {},
   "outputs": [
    {
     "data": {
      "text/plain": [
       "['ok']"
      ]
     },
     "execution_count": 42,
     "metadata": {},
     "output_type": "execute_result"
    }
   ],
   "source": [
    "grbl.cmd(\"G3 X0 Y-100 J-50 I0\")"
   ]
  },
  {
   "cell_type": "code",
   "execution_count": 43,
   "metadata": {},
   "outputs": [
    {
     "data": {
      "text/plain": [
       "['ok', 'ok']"
      ]
     },
     "execution_count": 43,
     "metadata": {},
     "output_type": "execute_result"
    }
   ],
   "source": [
    "grbl.cmd(\"G0 Z-5\")"
   ]
  },
  {
   "cell_type": "code",
   "execution_count": 45,
   "metadata": {},
   "outputs": [
    {
     "data": {
      "text/plain": [
       "['ok', 'ok']"
      ]
     },
     "execution_count": 45,
     "metadata": {},
     "output_type": "execute_result"
    }
   ],
   "source": [
    "grbl.cmd(\"G0 X200\")"
   ]
  },
  {
   "cell_type": "code",
   "execution_count": 46,
   "metadata": {},
   "outputs": [
    {
     "data": {
      "text/plain": [
       "['ok', 'ok']"
      ]
     },
     "execution_count": 46,
     "metadata": {},
     "output_type": "execute_result"
    }
   ],
   "source": [
    "grbl.cmd(\"G1 Z5\")"
   ]
  },
  {
   "cell_type": "code",
   "execution_count": 47,
   "metadata": {},
   "outputs": [
    {
     "data": {
      "text/plain": [
       "['ok', 'ok']"
      ]
     },
     "execution_count": 47,
     "metadata": {},
     "output_type": "execute_result"
    }
   ],
   "source": [
    "grbl.cmd(\"G1 Z2\")"
   ]
  },
  {
   "cell_type": "code",
   "execution_count": 48,
   "metadata": {},
   "outputs": [
    {
     "data": {
      "text/plain": [
       "[]"
      ]
     },
     "execution_count": 48,
     "metadata": {},
     "output_type": "execute_result"
    }
   ],
   "source": [
    "grbl.cmd(\"G3 X0 Y-50 J-25 I0\")\n",
    "grbl.cmd(\"G3 X0 Y50 J25 I0\")"
   ]
  },
  {
   "cell_type": "code",
   "execution_count": 49,
   "metadata": {},
   "outputs": [
    {
     "data": {
      "text/plain": [
       "['ok', 'ok']"
      ]
     },
     "execution_count": 49,
     "metadata": {},
     "output_type": "execute_result"
    }
   ],
   "source": [
    "grbl.cmd(\"M5\")"
   ]
  },
  {
   "cell_type": "code",
   "execution_count": 51,
   "metadata": {},
   "outputs": [
    {
     "data": {
      "text/plain": [
       "['ok', 'ok']"
      ]
     },
     "execution_count": 51,
     "metadata": {},
     "output_type": "execute_result"
    }
   ],
   "source": [
    "grbl.cmd(\"G0 F750\")"
   ]
  },
  {
   "cell_type": "code",
   "execution_count": 53,
   "metadata": {},
   "outputs": [
    {
     "data": {
      "text/plain": [
       "['ok', 'ok']"
      ]
     },
     "execution_count": 53,
     "metadata": {},
     "output_type": "execute_result"
    }
   ],
   "source": [
    "grbl.cmd(\"G0 Z-10\")"
   ]
  },
  {
   "cell_type": "markdown",
   "metadata": {},
   "source": [
    "CNC Command, Measured:\n",
    "200, 62.71\n",
    "100, 31.1"
   ]
  },
  {
   "cell_type": "code",
   "execution_count": 60,
   "metadata": {},
   "outputs": [
    {
     "data": {
      "text/plain": [
       "78.3875"
      ]
     },
     "execution_count": 60,
     "metadata": {},
     "output_type": "execute_result"
    }
   ],
   "source": [
    "grbl.x_steps_mm /(200/62.71)"
   ]
  },
  {
   "cell_type": "markdown",
   "metadata": {},
   "source": [
    "2 mm / rotation"
   ]
  },
  {
   "cell_type": "code",
   "execution_count": 61,
   "metadata": {},
   "outputs": [
    {
     "ename": "error",
     "evalue": "(5, 'Input/output error')",
     "output_type": "error",
     "traceback": [
      "\u001b[0;31m---------------------------------------------------------------------------\u001b[0m",
      "\u001b[0;31merror\u001b[0m                                     Traceback (most recent call last)",
      "\u001b[0;32m<ipython-input-61-8e7e6fdf2316>\u001b[0m in \u001b[0;36m<module>\u001b[0;34m()\u001b[0m\n\u001b[0;32m----> 1\u001b[0;31m \u001b[0mgrbl\u001b[0m\u001b[0;34m.\u001b[0m\u001b[0mx_steps_mm\u001b[0m \u001b[0;34m=\u001b[0m \u001b[0;36m1\u001b[0m\u001b[0;34m\u001b[0m\u001b[0m\n\u001b[0m",
      "\u001b[0;32m~/python_cnc3018/python_rs274/GRBL.py\u001b[0m in \u001b[0;36mgrbl_setter\u001b[0;34m(self, value)\u001b[0m\n\u001b[1;32m    112\u001b[0m     \u001b[0;32mdef\u001b[0m \u001b[0mgrbl_setter\u001b[0m\u001b[0;34m(\u001b[0m\u001b[0mself\u001b[0m\u001b[0;34m,\u001b[0m \u001b[0mvalue\u001b[0m\u001b[0;34m)\u001b[0m\u001b[0;34m:\u001b[0m\u001b[0;34m\u001b[0m\u001b[0m\n\u001b[1;32m    113\u001b[0m         \u001b[0mset_cmd\u001b[0m \u001b[0;34m=\u001b[0m \u001b[0;34m\"{cmd}={value}\"\u001b[0m\u001b[0;34m.\u001b[0m\u001b[0mformat\u001b[0m\u001b[0;34m(\u001b[0m\u001b[0mcmd\u001b[0m\u001b[0;34m=\u001b[0m\u001b[0mcmd\u001b[0m\u001b[0;34m,\u001b[0m \u001b[0mvalue\u001b[0m\u001b[0;34m=\u001b[0m\u001b[0mvalue\u001b[0m\u001b[0;34m)\u001b[0m\u001b[0;34m\u001b[0m\u001b[0m\n\u001b[0;32m--> 114\u001b[0;31m         \u001b[0mret\u001b[0m \u001b[0;34m=\u001b[0m \u001b[0mself\u001b[0m\u001b[0;34m.\u001b[0m\u001b[0mcmd\u001b[0m\u001b[0;34m(\u001b[0m\u001b[0mset_cmd\u001b[0m\u001b[0;34m,\u001b[0m \u001b[0mresp\u001b[0m\u001b[0;34m=\u001b[0m\u001b[0;32mTrue\u001b[0m\u001b[0;34m,\u001b[0m \u001b[0mmultiline\u001b[0m\u001b[0;34m=\u001b[0m\u001b[0;32mFalse\u001b[0m\u001b[0;34m)\u001b[0m\u001b[0;34m\u001b[0m\u001b[0m\n\u001b[0m\u001b[1;32m    115\u001b[0m         \u001b[0mprint\u001b[0m\u001b[0;34m(\u001b[0m\u001b[0mret\u001b[0m\u001b[0;34m)\u001b[0m\u001b[0;34m\u001b[0m\u001b[0m\n\u001b[1;32m    116\u001b[0m \u001b[0;34m\u001b[0m\u001b[0m\n",
      "\u001b[0;32m~/python_cnc3018/python_rs274/GRBL.py\u001b[0m in \u001b[0;36mcmd\u001b[0;34m(self, command_line, resp, multiline)\u001b[0m\n\u001b[1;32m     23\u001b[0m \u001b[0;34m\u001b[0m\u001b[0m\n\u001b[1;32m     24\u001b[0m     \u001b[0;32mdef\u001b[0m \u001b[0mcmd\u001b[0m\u001b[0;34m(\u001b[0m\u001b[0mself\u001b[0m\u001b[0;34m,\u001b[0m \u001b[0mcommand_line\u001b[0m\u001b[0;34m,\u001b[0m \u001b[0mresp\u001b[0m\u001b[0;34m=\u001b[0m\u001b[0;32mTrue\u001b[0m\u001b[0;34m,\u001b[0m \u001b[0mmultiline\u001b[0m\u001b[0;34m=\u001b[0m\u001b[0;32mTrue\u001b[0m\u001b[0;34m)\u001b[0m\u001b[0;34m:\u001b[0m\u001b[0;34m\u001b[0m\u001b[0m\n\u001b[0;32m---> 25\u001b[0;31m         \u001b[0mself\u001b[0m\u001b[0;34m.\u001b[0m\u001b[0mwrite\u001b[0m\u001b[0;34m(\u001b[0m\u001b[0mcommand_line\u001b[0m\u001b[0;34m)\u001b[0m\u001b[0;34m\u001b[0m\u001b[0m\n\u001b[0m\u001b[1;32m     26\u001b[0m         \u001b[0;32mif\u001b[0m \u001b[0mresp\u001b[0m\u001b[0;34m:\u001b[0m\u001b[0;34m\u001b[0m\u001b[0m\n\u001b[1;32m     27\u001b[0m             \u001b[0;32mreturn\u001b[0m \u001b[0mself\u001b[0m\u001b[0;34m.\u001b[0m\u001b[0mread\u001b[0m\u001b[0;34m(\u001b[0m\u001b[0mmultiline\u001b[0m\u001b[0;34m=\u001b[0m\u001b[0mmultiline\u001b[0m\u001b[0;34m)\u001b[0m\u001b[0;34m\u001b[0m\u001b[0m\n",
      "\u001b[0;32m~/python_cnc3018/python_rs274/GRBL.py\u001b[0m in \u001b[0;36mwrite\u001b[0;34m(self, command_line)\u001b[0m\n\u001b[1;32m      9\u001b[0m \u001b[0;34m\u001b[0m\u001b[0m\n\u001b[1;32m     10\u001b[0m     \u001b[0;32mdef\u001b[0m \u001b[0mwrite\u001b[0m\u001b[0;34m(\u001b[0m\u001b[0mself\u001b[0m\u001b[0;34m,\u001b[0m \u001b[0mcommand_line\u001b[0m\u001b[0;34m=\u001b[0m\u001b[0;34m\"\"\u001b[0m\u001b[0;34m)\u001b[0m\u001b[0;34m:\u001b[0m\u001b[0;34m\u001b[0m\u001b[0m\n\u001b[0;32m---> 11\u001b[0;31m         \u001b[0mself\u001b[0m\u001b[0;34m.\u001b[0m\u001b[0mserial\u001b[0m\u001b[0;34m.\u001b[0m\u001b[0mflushInput\u001b[0m\u001b[0;34m(\u001b[0m\u001b[0;34m)\u001b[0m\u001b[0;34m\u001b[0m\u001b[0m\n\u001b[0m\u001b[1;32m     12\u001b[0m         \u001b[0mself\u001b[0m\u001b[0;34m.\u001b[0m\u001b[0mserial\u001b[0m\u001b[0;34m.\u001b[0m\u001b[0mwrite\u001b[0m\u001b[0;34m(\u001b[0m\u001b[0;34m\"\\n\"\u001b[0m\u001b[0;34m.\u001b[0m\u001b[0mencode\u001b[0m\u001b[0;34m(\u001b[0m\u001b[0;34m)\u001b[0m\u001b[0;34m)\u001b[0m\u001b[0;34m\u001b[0m\u001b[0m\n\u001b[1;32m     13\u001b[0m         \u001b[0mself\u001b[0m\u001b[0;34m.\u001b[0m\u001b[0mserial\u001b[0m\u001b[0;34m.\u001b[0m\u001b[0mwrite\u001b[0m\u001b[0;34m(\u001b[0m\u001b[0;34m\"{cmd}\\n\"\u001b[0m\u001b[0;34m.\u001b[0m\u001b[0mformat\u001b[0m\u001b[0;34m(\u001b[0m\u001b[0mcmd\u001b[0m\u001b[0;34m=\u001b[0m\u001b[0mcommand_line\u001b[0m\u001b[0;34m)\u001b[0m\u001b[0;34m.\u001b[0m\u001b[0mencode\u001b[0m\u001b[0;34m(\u001b[0m\u001b[0;34m)\u001b[0m\u001b[0;34m)\u001b[0m\u001b[0;34m\u001b[0m\u001b[0m\n",
      "\u001b[0;32m~/.venv3/lib/python3.5/site-packages/serial/serialutil.py\u001b[0m in \u001b[0;36mflushInput\u001b[0;34m(self)\u001b[0m\n\u001b[1;32m    582\u001b[0m \u001b[0;34m\u001b[0m\u001b[0m\n\u001b[1;32m    583\u001b[0m     \u001b[0;32mdef\u001b[0m \u001b[0mflushInput\u001b[0m\u001b[0;34m(\u001b[0m\u001b[0mself\u001b[0m\u001b[0;34m)\u001b[0m\u001b[0;34m:\u001b[0m\u001b[0;34m\u001b[0m\u001b[0m\n\u001b[0;32m--> 584\u001b[0;31m         \u001b[0mself\u001b[0m\u001b[0;34m.\u001b[0m\u001b[0mreset_input_buffer\u001b[0m\u001b[0;34m(\u001b[0m\u001b[0;34m)\u001b[0m\u001b[0;34m\u001b[0m\u001b[0m\n\u001b[0m\u001b[1;32m    585\u001b[0m \u001b[0;34m\u001b[0m\u001b[0m\n\u001b[1;32m    586\u001b[0m     \u001b[0;32mdef\u001b[0m \u001b[0mflushOutput\u001b[0m\u001b[0;34m(\u001b[0m\u001b[0mself\u001b[0m\u001b[0;34m)\u001b[0m\u001b[0;34m:\u001b[0m\u001b[0;34m\u001b[0m\u001b[0m\n",
      "\u001b[0;32m~/.venv3/lib/python3.5/site-packages/serial/serialposix.py\u001b[0m in \u001b[0;36mreset_input_buffer\u001b[0;34m(self)\u001b[0m\n\u001b[1;32m    593\u001b[0m         \u001b[0;32mif\u001b[0m \u001b[0;32mnot\u001b[0m \u001b[0mself\u001b[0m\u001b[0;34m.\u001b[0m\u001b[0mis_open\u001b[0m\u001b[0;34m:\u001b[0m\u001b[0;34m\u001b[0m\u001b[0m\n\u001b[1;32m    594\u001b[0m             \u001b[0;32mraise\u001b[0m \u001b[0mportNotOpenError\u001b[0m\u001b[0;34m\u001b[0m\u001b[0m\n\u001b[0;32m--> 595\u001b[0;31m         \u001b[0mtermios\u001b[0m\u001b[0;34m.\u001b[0m\u001b[0mtcflush\u001b[0m\u001b[0;34m(\u001b[0m\u001b[0mself\u001b[0m\u001b[0;34m.\u001b[0m\u001b[0mfd\u001b[0m\u001b[0;34m,\u001b[0m \u001b[0mtermios\u001b[0m\u001b[0;34m.\u001b[0m\u001b[0mTCIFLUSH\u001b[0m\u001b[0;34m)\u001b[0m\u001b[0;34m\u001b[0m\u001b[0m\n\u001b[0m\u001b[1;32m    596\u001b[0m \u001b[0;34m\u001b[0m\u001b[0m\n\u001b[1;32m    597\u001b[0m     \u001b[0;32mdef\u001b[0m \u001b[0mreset_output_buffer\u001b[0m\u001b[0;34m(\u001b[0m\u001b[0mself\u001b[0m\u001b[0;34m)\u001b[0m\u001b[0;34m:\u001b[0m\u001b[0;34m\u001b[0m\u001b[0m\n",
      "\u001b[0;31merror\u001b[0m: (5, 'Input/output error')"
     ]
    }
   ],
   "source": [
    "grbl.x_steps_mm = 1"
   ]
  },
  {
   "cell_type": "code",
   "execution_count": null,
   "metadata": {
    "collapsed": true
   },
   "outputs": [],
   "source": []
  }
 ],
 "metadata": {
  "kernelspec": {
   "display_name": "Python 3",
   "language": "python",
   "name": "python3"
  },
  "language_info": {
   "codemirror_mode": {
    "name": "ipython",
    "version": 3
   },
   "file_extension": ".py",
   "mimetype": "text/x-python",
   "name": "python",
   "nbconvert_exporter": "python",
   "pygments_lexer": "ipython3",
   "version": "3.5.2"
  }
 },
 "nbformat": 4,
 "nbformat_minor": 2
}
