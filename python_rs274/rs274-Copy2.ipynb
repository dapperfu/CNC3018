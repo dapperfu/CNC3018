{
 "cells": [
  {
   "cell_type": "markdown",
   "metadata": {},
   "source": [
    "Turn chicken scratches into module.\n",
    "\n",
    "Reference:\n",
    "-http://www.cnccookbook.com/CCCNCGCodeG20G21MetricImperialUnitConversion.htm\n",
    "- http://marlinfw.org/meta/gcode/\n",
    "- https://github.com/grbl/grbl/wiki\n",
    "- http://www.linuxcnc.org/docs/2.5/html/gcode/other-code.html"
   ]
  },
  {
   "cell_type": "markdown",
   "metadata": {},
   "source": [
    "#### V0.061"
   ]
  },
  {
   "cell_type": "code",
   "execution_count": 14,
   "metadata": {},
   "outputs": [
    {
     "name": "stdout",
     "output_type": "stream",
     "text": [
      "['G0', 'G1', 'G2', 'G3', 'G4', 'G20', 'G21', 'G28', 'G90', 'G91', 'M0', 'M1', 'M2', 'M3', 'M4', 'M5', 'M6']\n"
     ]
    }
   ],
   "source": [
    "class GCode(object):\n",
    "    def __init__(self):\n",
    "        self.linenumbering = False\n",
    "        self.buffer = list()\n",
    "        \n",
    "    @property\n",
    "    def code(self):\n",
    "        if self.linenumbering:\n",
    "            pass\n",
    "        return \"\\n\".join(self.buffer)\n",
    "        \n",
    "    def save(self, filename):\n",
    "        pass\n",
    "    \n",
    "    def send(self):\n",
    "        pass\n",
    "    \n",
    "    def __str__(self):\n",
    "        return self.code\n",
    "\n",
    "    def __repr__(self):\n",
    "        return \"<GCode>[cmds={}]\".format(len(self.buffer))\n",
    "    \n",
    "    def _repr_html_(self):\n",
    "        html = list()\n",
    "        for cmd_line in self.buffer:\n",
    "            cmd, *args = cmd_line.split(\" \")\n",
    "            html_line = \"<b>{cmd}</b> <i>{args}</i>\".format(cmd=cmd, args=\" \".join(args))\n",
    "            html.append(html_line)\n",
    "        return \"<br>\\n\".join(html)\n",
    "    \n",
    "    def __iter__(self):\n",
    "        self.line = -1\n",
    "        return self\n",
    "    \n",
    "    def __next__(self):\n",
    "        self.line += 1\n",
    "        if self.line >= len(self.buffer):\n",
    "            raise StopIteration\n",
    "        return self.buffer[self.line]\n",
    "\n",
    "def cmd_factory(cmd, doc=None):\n",
    "    def cmd_fcn(self, **kwargs):\n",
    "        args = list()\n",
    "        for key, value in kwargs.items():\n",
    "            args.append(\"{key}{value}\".format(key=key, value=value))\n",
    "        \n",
    "        cmd_str = \"{cmd} {args}\".format(cmd=cmd, args=\" \".join(args))\n",
    "        self.buffer.append(cmd_str)  \n",
    "    return cmd_fcn      \n",
    "\n",
    "# Good core to start with.\n",
    "commands=list()\n",
    "# GCodes\n",
    "for code in [0, 1, 2, 3, 4, 20, 21, 28, 90, 91]:\n",
    "    commands.append(\"G{code}\".format(code=code))\n",
    "# MCodes\n",
    "for code in [0, 1, 2, 3, 4, 5, 6]:\n",
    "    commands.append(\"M{code}\".format(code=code))\n",
    "# Commands to implement.\n",
    "print(commands)\n",
    "\n",
    "for command in commands:\n",
    "    setattr(GCode, command, cmd_factory(command))"
   ]
  },
  {
   "cell_type": "code",
   "execution_count": 15,
   "metadata": {
    "collapsed": true
   },
   "outputs": [],
   "source": [
    "program = GCode()\n",
    "program.G21()\n",
    "program.G91()"
   ]
  },
  {
   "cell_type": "code",
   "execution_count": 16,
   "metadata": {},
   "outputs": [],
   "source": [
    "from IPython.display import display_html"
   ]
  },
  {
   "cell_type": "code",
   "execution_count": 17,
   "metadata": {},
   "outputs": [
    {
     "data": {
      "text/html": [
       "<b>G21</b> <i></i><br>\n",
       "<b>G91</b> <i></i>"
      ]
     },
     "metadata": {},
     "output_type": "display_data"
    }
   ],
   "source": [
    "display_html(program)"
   ]
  },
  {
   "cell_type": "code",
   "execution_count": 18,
   "metadata": {},
   "outputs": [
    {
     "name": "stdout",
     "output_type": "stream",
     "text": [
      "G21 \n",
      "G91 \n"
     ]
    }
   ],
   "source": [
    "print(program)"
   ]
  },
  {
   "cell_type": "code",
   "execution_count": 19,
   "metadata": {},
   "outputs": [
    {
     "name": "stdout",
     "output_type": "stream",
     "text": [
      "G21 \n",
      "G91 \n"
     ]
    }
   ],
   "source": [
    "for line in program:\n",
    "    print(line)"
   ]
  },
  {
   "cell_type": "code",
   "execution_count": 65,
   "metadata": {},
   "outputs": [
    {
     "name": "stdout",
     "output_type": "stream",
     "text": [
      "['G0', 'G1', 'G2', 'G3', 'G4', 'G20', 'G21', 'G28', 'G90', 'G91', 'M0', 'M1', 'M2', 'M3', 'M4', 'M5', 'M6']\n"
     ]
    }
   ],
   "source": [
    "class GCode(object):\n",
    "    def __init__(self, machine = None, buffer=None):\n",
    "        self.linenumbering = False\n",
    "        self.machine = machine\n",
    "        if buffer is None:\n",
    "            self.buffer = list()\n",
    "        else:\n",
    "            self.buffer = buffer\n",
    "    @property\n",
    "    def code(self):\n",
    "        if self.linenumbering:\n",
    "            pass\n",
    "        return \"\\n\".join(self.buffer)\n",
    "        \n",
    "    def save(self, filename):\n",
    "        with open(filename, \"w\") as fid:\n",
    "            print(str(self), file=fid)\n",
    "    \n",
    "    def __str__(self):\n",
    "        return self.code\n",
    "\n",
    "    def __repr__(self):\n",
    "        return \"<GCode>[cmds={}]\".format(len(self.buffer))\n",
    "    \n",
    "    def _repr_html_(self):\n",
    "        html = list()\n",
    "        for cmd_line in self.buffer:\n",
    "            cmd, *args = cmd_line.split(\" \")\n",
    "            html_line = \"<b>{cmd}</b> <i>{args}</i>\".format(cmd=cmd, args=\" \".join(args))\n",
    "            html.append(html_line)\n",
    "        return \"<br>\\n\".join(html)\n",
    "    \n",
    "    def __add__(self, other):\n",
    "        buffer = self.buffer\n",
    "        buffer2 = other.buffer\n",
    "        \n",
    "        buffer.extend(buffer2)\n",
    "        \n",
    "        return GCode(machine=self.machine, buffer=buffer)\n",
    "        \n",
    "    def __iter__(self):\n",
    "        self.line = -1\n",
    "        return self\n",
    "    \n",
    "    \n",
    "    def __next__(self):\n",
    "        self.line += 1\n",
    "        if self.line >= len(self.buffer):\n",
    "            raise StopIteration\n",
    "        return self.buffer[self.line]\n",
    "    \n",
    "    def optimise(self):\n",
    "        \"\"\" Optimize the GCode \"\"\"\n",
    "        raise(NotImplemented(\"\"))\n",
    "\n",
    "def cmd_factory(cmd, doc=None):\n",
    "    def cmd_fcn(self, **kwargs):\n",
    "        args = list()\n",
    "        for key, value in kwargs.items():\n",
    "            args.append(\"{key}{value}\".format(key=key, value=value))\n",
    "        \n",
    "        cmd_str = \"{cmd} {args}\".format(cmd=cmd, args=\" \".join(args))\n",
    "        self.buffer.append(cmd_str)  \n",
    "    return cmd_fcn      \n",
    "\n",
    "# Good core to start with.\n",
    "commands=list()\n",
    "# GCodes\n",
    "for code in [0, 1, 2, 3, 4, 20, 21, 28, 90, 91]:\n",
    "    commands.append(\"G{code}\".format(code=code))\n",
    "# MCodes\n",
    "for code in [0, 1, 2, 3, 4, 5, 6]:\n",
    "    commands.append(\"M{code}\".format(code=code))\n",
    "# Commands to implement.\n",
    "print(commands)\n",
    "\n",
    "for command in commands:\n",
    "    setattr(GCode, command, cmd_factory(command))"
   ]
  },
  {
   "cell_type": "code",
   "execution_count": 66,
   "metadata": {
    "collapsed": true
   },
   "outputs": [],
   "source": [
    "def square(size=20):\n",
    "    program = GCode()\n",
    "    program.G21()\n",
    "    program.G91()\n",
    "    program.G1(F=200)\n",
    "    program.M4(S=25)\n",
    "    program.G1(X=size)\n",
    "    program.G1(Y=size)\n",
    "    program.G1(X=-size)\n",
    "    program.G1(X=-size)\n",
    "    program.M5()\n",
    "    return program"
   ]
  },
  {
   "cell_type": "code",
   "execution_count": 67,
   "metadata": {
    "collapsed": true
   },
   "outputs": [],
   "source": [
    "sqr20 = square(20)"
   ]
  },
  {
   "cell_type": "code",
   "execution_count": 68,
   "metadata": {},
   "outputs": [
    {
     "data": {
      "text/html": [
       "<b>G21</b> <i></i><br>\n",
       "<b>G91</b> <i></i><br>\n",
       "<b>G1</b> <i>F200</i><br>\n",
       "<b>M4</b> <i>S25</i><br>\n",
       "<b>G1</b> <i>X20</i><br>\n",
       "<b>G1</b> <i>Y20</i><br>\n",
       "<b>G1</b> <i>X-20</i><br>\n",
       "<b>G1</b> <i>X-20</i><br>\n",
       "<b>M5</b> <i></i>"
      ],
      "text/plain": [
       "<GCode>[cmds=9]"
      ]
     },
     "execution_count": 68,
     "metadata": {},
     "output_type": "execute_result"
    }
   ],
   "source": [
    "sqr20"
   ]
  },
  {
   "cell_type": "code",
   "execution_count": 69,
   "metadata": {},
   "outputs": [],
   "source": [
    "sqr20.save(\"square_20mm.gcode\")"
   ]
  },
  {
   "cell_type": "code",
   "execution_count": 61,
   "metadata": {},
   "outputs": [
    {
     "ename": "SyntaxError",
     "evalue": "invalid syntax (<ipython-input-61-e1bf4b1a2558>, line 4)",
     "output_type": "error",
     "traceback": [
      "\u001b[0;36m  File \u001b[0;32m\"<ipython-input-61-e1bf4b1a2558>\"\u001b[0;36m, line \u001b[0;32m4\u001b[0m\n\u001b[0;31m    G1 F200\u001b[0m\n\u001b[0m          ^\u001b[0m\n\u001b[0;31mSyntaxError\u001b[0m\u001b[0;31m:\u001b[0m invalid syntax\n"
     ]
    }
   ],
   "source": [
    "# %load square_20mm.gcode\n",
    "G21 \n",
    "G91 \n",
    "G1 F200\n",
    "M4 S25\n",
    "G1 X20\n",
    "G1 Y20\n",
    "G1 X-20\n",
    "G1 X-20\n",
    "M5 "
   ]
  },
  {
   "cell_type": "code",
   "execution_count": 70,
   "metadata": {
    "collapsed": true
   },
   "outputs": [],
   "source": [
    "sqr20 = square(20)\n",
    "sqr40 = square(40)"
   ]
  },
  {
   "cell_type": "code",
   "execution_count": 72,
   "metadata": {},
   "outputs": [
    {
     "data": {
      "text/html": [
       "<b>G21</b> <i></i><br>\n",
       "<b>G91</b> <i></i><br>\n",
       "<b>G1</b> <i>F200</i><br>\n",
       "<b>M4</b> <i>S25</i><br>\n",
       "<b>G1</b> <i>X20</i><br>\n",
       "<b>G1</b> <i>Y20</i><br>\n",
       "<b>G1</b> <i>X-20</i><br>\n",
       "<b>G1</b> <i>X-20</i><br>\n",
       "<b>M5</b> <i></i><br>\n",
       "<b>G21</b> <i></i><br>\n",
       "<b>G91</b> <i></i><br>\n",
       "<b>G1</b> <i>F200</i><br>\n",
       "<b>M4</b> <i>S25</i><br>\n",
       "<b>G1</b> <i>X40</i><br>\n",
       "<b>G1</b> <i>Y40</i><br>\n",
       "<b>G1</b> <i>X-40</i><br>\n",
       "<b>G1</b> <i>X-40</i><br>\n",
       "<b>M5</b> <i></i>"
      ],
      "text/plain": [
       "<GCode>[cmds=18]"
      ]
     },
     "execution_count": 72,
     "metadata": {},
     "output_type": "execute_result"
    }
   ],
   "source": [
    "sqr20+sqr40"
   ]
  },
  {
   "cell_type": "code",
   "execution_count": null,
   "metadata": {
    "collapsed": true
   },
   "outputs": [],
   "source": [
    "from GRBL import GRBL\n",
    "cnc = GRBL(\"/dev/cnc_3018\")"
   ]
  },
  {
   "cell_type": "code",
   "execution_count": null,
   "metadata": {
    "collapsed": true
   },
   "outputs": [],
   "source": [
    "cnc = GRBL(\"/dev/cnc_3018\")"
   ]
  },
  {
   "cell_type": "code",
   "execution_count": null,
   "metadata": {
    "collapsed": true
   },
   "outputs": [],
   "source": [
    "cnc.reset()"
   ]
  },
  {
   "cell_type": "code",
   "execution_count": null,
   "metadata": {
    "collapsed": true
   },
   "outputs": [],
   "source": [
    "cnc.laser_mode"
   ]
  },
  {
   "cell_type": "code",
   "execution_count": null,
   "metadata": {
    "collapsed": true
   },
   "outputs": [],
   "source": [
    "def square(size=20):\n",
    "    program = GCode()\n",
    "    program.G21()\n",
    "    program.G91()\n",
    "    program.G1(F=200)\n",
    "    program.M4(S=25)\n",
    "    program.G1(X=size)\n",
    "    program.G1(Y=size)\n",
    "    program.G1(X=-size)\n",
    "    program.G1(X=-size)\n",
    "    program.M5()\n",
    "    return program"
   ]
  },
  {
   "cell_type": "code",
   "execution_count": null,
   "metadata": {
    "collapsed": true,
    "scrolled": true
   },
   "outputs": [],
   "source": [
    "square(20)"
   ]
  },
  {
   "cell_type": "code",
   "execution_count": null,
   "metadata": {
    "collapsed": true
   },
   "outputs": [],
   "source": [
    "sqr = square(20)"
   ]
  },
  {
   "cell_type": "code",
   "execution_count": null,
   "metadata": {
    "collapsed": true
   },
   "outputs": [],
   "source": [
    "print(sqr)"
   ]
  },
  {
   "cell_type": "code",
   "execution_count": null,
   "metadata": {
    "collapsed": true
   },
   "outputs": [],
   "source": [
    "from time import sleep"
   ]
  },
  {
   "cell_type": "code",
   "execution_count": null,
   "metadata": {
    "collapsed": true
   },
   "outputs": [],
   "source": [
    "for line in str(sqr).splitlines():\n",
    "    cnc.cmd(line)\n",
    "    sleep(0.2)"
   ]
  },
  {
   "cell_type": "markdown",
   "metadata": {},
   "source": [
    "Figuring out buffering / streaming."
   ]
  },
  {
   "cell_type": "code",
   "execution_count": 1,
   "metadata": {
    "collapsed": true
   },
   "outputs": [],
   "source": [
    "from GRBL import GRBL\n",
    "cnc = GRBL(\"/dev/cnc_3018\")"
   ]
  },
  {
   "cell_type": "code",
   "execution_count": 3,
   "metadata": {
    "collapsed": true
   },
   "outputs": [],
   "source": [
    "buffer = list()\n",
    "buffer.append(cnc.write(\"G21\"))\n",
    "buffer.append(cnc.write(\"G91\"))\n",
    "buffer.append(cnc.write(\"G0 F100\"))"
   ]
  },
  {
   "cell_type": "code",
   "execution_count": 6,
   "metadata": {},
   "outputs": [
    {
     "data": {
      "text/plain": [
       "19"
      ]
     },
     "execution_count": 6,
     "metadata": {},
     "output_type": "execute_result"
    }
   ],
   "source": [
    "sum([sum(buf) for buf in buffer])"
   ]
  },
  {
   "cell_type": "code",
   "execution_count": 8,
   "metadata": {},
   "outputs": [
    {
     "data": {
      "text/plain": [
       "['ok', 'ok', 'ok', 'ok', 'ok', 'ok', 'ok', 'ok', 'ok', 'ok']"
      ]
     },
     "execution_count": 8,
     "metadata": {},
     "output_type": "execute_result"
    }
   ],
   "source": [
    "data = cnc.read(multiline=True)\n",
    "data"
   ]
  },
  {
   "cell_type": "code",
   "execution_count": 9,
   "metadata": {},
   "outputs": [
    {
     "data": {
      "text/plain": [
       "10"
      ]
     },
     "execution_count": 9,
     "metadata": {},
     "output_type": "execute_result"
    }
   ],
   "source": [
    "len(data)"
   ]
  },
  {
   "cell_type": "code",
   "execution_count": 10,
   "metadata": {},
   "outputs": [
    {
     "data": {
      "text/plain": [
       "3"
      ]
     },
     "execution_count": 10,
     "metadata": {},
     "output_type": "execute_result"
    }
   ],
   "source": [
    "len(buffer)"
   ]
  },
  {
   "cell_type": "code",
   "execution_count": 23,
   "metadata": {
    "collapsed": true
   },
   "outputs": [],
   "source": [
    "def stream(self, program, compact=True):\n",
    "    if isinstance(program, str):\n",
    "        program = program.splitlines()\n",
    "    elif isinstance(program, list):\n",
    "        pass    \n",
    "    else:\n",
    "        raise(Exception(\"Unsupported: {}\".format(type(program))))\n",
    "                          \n",
    "    return \"Foo\"\n",
    "setattr(GRBL, \"stream\", stream)\n",
    "\n",
    "cnc = GRBL(\"/dev/cnc_3018\")"
   ]
  },
  {
   "cell_type": "code",
   "execution_count": 24,
   "metadata": {},
   "outputs": [
    {
     "data": {
      "text/plain": [
       "'Foo'"
      ]
     },
     "execution_count": 24,
     "metadata": {},
     "output_type": "execute_result"
    }
   ],
   "source": [
    "cnc.stream('')"
   ]
  },
  {
   "cell_type": "code",
   "execution_count": 25,
   "metadata": {},
   "outputs": [
    {
     "data": {
      "text/plain": [
       "'Foo'"
      ]
     },
     "execution_count": 25,
     "metadata": {},
     "output_type": "execute_result"
    }
   ],
   "source": [
    "cnc.stream([])"
   ]
  },
  {
   "cell_type": "code",
   "execution_count": 26,
   "metadata": {},
   "outputs": [
    {
     "ename": "Exception",
     "evalue": "Unsupported: <class 'dict'>",
     "output_type": "error",
     "traceback": [
      "\u001b[0;31m---------------------------------------------------------------------------\u001b[0m",
      "\u001b[0;31mException\u001b[0m                                 Traceback (most recent call last)",
      "\u001b[0;32m<ipython-input-26-8ed9ff8db811>\u001b[0m in \u001b[0;36m<module>\u001b[0;34m()\u001b[0m\n\u001b[0;32m----> 1\u001b[0;31m \u001b[0mcnc\u001b[0m\u001b[0;34m.\u001b[0m\u001b[0mstream\u001b[0m\u001b[0;34m(\u001b[0m\u001b[0mdict\u001b[0m\u001b[0;34m(\u001b[0m\u001b[0;34m)\u001b[0m\u001b[0;34m)\u001b[0m\u001b[0;34m\u001b[0m\u001b[0m\n\u001b[0m",
      "\u001b[0;32m<ipython-input-23-76624b26bb0b>\u001b[0m in \u001b[0;36mstream\u001b[0;34m(self, program)\u001b[0m\n\u001b[1;32m      5\u001b[0m         \u001b[0;32mpass\u001b[0m\u001b[0;34m\u001b[0m\u001b[0m\n\u001b[1;32m      6\u001b[0m     \u001b[0;32melse\u001b[0m\u001b[0;34m:\u001b[0m\u001b[0;34m\u001b[0m\u001b[0m\n\u001b[0;32m----> 7\u001b[0;31m         \u001b[0;32mraise\u001b[0m\u001b[0;34m(\u001b[0m\u001b[0mException\u001b[0m\u001b[0;34m(\u001b[0m\u001b[0;34m\"Unsupported: {}\"\u001b[0m\u001b[0;34m.\u001b[0m\u001b[0mformat\u001b[0m\u001b[0;34m(\u001b[0m\u001b[0mtype\u001b[0m\u001b[0;34m(\u001b[0m\u001b[0mprogram\u001b[0m\u001b[0;34m)\u001b[0m\u001b[0;34m)\u001b[0m\u001b[0;34m)\u001b[0m\u001b[0;34m)\u001b[0m\u001b[0;34m\u001b[0m\u001b[0m\n\u001b[0m\u001b[1;32m      8\u001b[0m \u001b[0;34m\u001b[0m\u001b[0m\n\u001b[1;32m      9\u001b[0m     \u001b[0;32mreturn\u001b[0m \u001b[0;34m\"Foo\"\u001b[0m\u001b[0;34m\u001b[0m\u001b[0m\n",
      "\u001b[0;31mException\u001b[0m: Unsupported: <class 'dict'>"
     ]
    }
   ],
   "source": [
    "cnc.stream(dict())"
   ]
  },
  {
   "cell_type": "code",
   "execution_count": 35,
   "metadata": {
    "collapsed": true
   },
   "outputs": [],
   "source": [
    "from time import sleep"
   ]
  },
  {
   "cell_type": "code",
   "execution_count": 36,
   "metadata": {
    "collapsed": true
   },
   "outputs": [],
   "source": [
    "def stream(self, program, compact=True):\n",
    "    if isinstance(program, str):\n",
    "        program = program.splitlines()\n",
    "    elif isinstance(program, list):\n",
    "        pass    \n",
    "    else:\n",
    "        raise(Exception(\"Unsupported: {}\".format(type(program))))\n",
    "    \n",
    "    # Strip whitespace and force letters to capital.\n",
    "    program = [line.strip().upper() for line in program]\n",
    "    # Save bits.\n",
    "    if compact:\n",
    "        program = [line.replace(\" \", \"\") for line in program]\n",
    "        \n",
    "    self.serial.flushInput()\n",
    "    for program_line in program:\n",
    "        cnc.write(program_line)\n",
    "        result = cnc.read(multiline=True, timeout=0.1)\n",
    "        while len(result)==0:\n",
    "            print(\"Buffer Full, waiting...\")\n",
    "            sleep(0.5)\n",
    "            result = cnc.read(multiline=True, timeout=0.1)\n",
    "setattr(GRBL, \"stream\", stream)\n",
    "\n",
    "cnc = GRBL(\"/dev/cnc_3018\")"
   ]
  },
  {
   "cell_type": "code",
   "execution_count": 39,
   "metadata": {
    "collapsed": true
   },
   "outputs": [],
   "source": [
    "program = list()\n",
    "program.append(\"G21\")\n",
    "program.append(\"G91\")\n",
    "for i in range(200):\n",
    "    program.append(\"G0 X1\")"
   ]
  },
  {
   "cell_type": "code",
   "execution_count": 41,
   "metadata": {
    "collapsed": true
   },
   "outputs": [],
   "source": [
    "cnc.stream(program)"
   ]
  },
  {
   "cell_type": "code",
   "execution_count": null,
   "metadata": {
    "collapsed": true
   },
   "outputs": [],
   "source": [
    "cnc.write(\"G0 X1\")"
   ]
  },
  {
   "cell_type": "code",
   "execution_count": null,
   "metadata": {
    "collapsed": true
   },
   "outputs": [],
   "source": [
    "cnc.read(timeout=0.5)"
   ]
  },
  {
   "cell_type": "code",
   "execution_count": null,
   "metadata": {
    "collapsed": true
   },
   "outputs": [],
   "source": [
    "cnc.write(\"G0 X10\")"
   ]
  },
  {
   "cell_type": "code",
   "execution_count": 42,
   "metadata": {},
   "outputs": [
    {
     "data": {
      "text/plain": [
       "[[0, 1], [0, 1]]"
      ]
     },
     "execution_count": 42,
     "metadata": {},
     "output_type": "execute_result"
    }
   ],
   "source": [
    "a = [0, 1]\n",
    "b = list()\n",
    "b.append(a)\n",
    "b.append(a)\n",
    "b"
   ]
  },
  {
   "cell_type": "code",
   "execution_count": 44,
   "metadata": {},
   "outputs": [
    {
     "data": {
      "text/plain": [
       "[0, 1, 0, 1]"
      ]
     },
     "execution_count": 44,
     "metadata": {},
     "output_type": "execute_result"
    }
   ],
   "source": [
    "a = [0, 1]\n",
    "b = list()\n",
    "b.extend(a)\n",
    "b.extend(a)\n",
    "b"
   ]
  },
  {
   "cell_type": "code",
   "execution_count": null,
   "metadata": {
    "collapsed": true
   },
   "outputs": [],
   "source": []
  }
 ],
 "metadata": {
  "kernelspec": {
   "display_name": "Python 3",
   "language": "python",
   "name": "python3"
  },
  "language_info": {
   "codemirror_mode": {
    "name": "ipython",
    "version": 3
   },
   "file_extension": ".py",
   "mimetype": "text/x-python",
   "name": "python",
   "nbconvert_exporter": "python",
   "pygments_lexer": "ipython3",
   "version": "3.5.2"
  }
 },
 "nbformat": 4,
 "nbformat_minor": 2
}
