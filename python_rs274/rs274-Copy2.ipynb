{
 "cells": [
  {
   "cell_type": "markdown",
   "metadata": {},
   "source": [
    "Turn chicken scratches into module.\n",
    "\n",
    "Reference:\n",
    "-http://www.cnccookbook.com/CCCNCGCodeG20G21MetricImperialUnitConversion.htm\n",
    "- http://marlinfw.org/meta/gcode/\n",
    "- https://github.com/grbl/grbl/wiki\n",
    "- http://www.linuxcnc.org/docs/2.5/html/gcode/other-code.html"
   ]
  },
  {
   "cell_type": "markdown",
   "metadata": {},
   "source": [
    "#### V0.061"
   ]
  },
  {
   "cell_type": "code",
   "execution_count": 14,
   "metadata": {},
   "outputs": [
    {
     "name": "stdout",
     "output_type": "stream",
     "text": [
      "['G0', 'G1', 'G2', 'G3', 'G4', 'G20', 'G21', 'G28', 'G90', 'G91', 'M0', 'M1', 'M2', 'M3', 'M4', 'M5', 'M6']\n"
     ]
    }
   ],
   "source": [
    "class GCode(object):\n",
    "    def __init__(self):\n",
    "        self.linenumbering = False\n",
    "        self.buffer = list()\n",
    "        \n",
    "    @property\n",
    "    def code(self):\n",
    "        if self.linenumbering:\n",
    "            pass\n",
    "        return \"\\n\".join(self.buffer)\n",
    "        \n",
    "    def save(self, filename):\n",
    "        pass\n",
    "    \n",
    "    def send(self):\n",
    "        pass\n",
    "    \n",
    "    def __str__(self):\n",
    "        return self.code\n",
    "\n",
    "    def __repr__(self):\n",
    "        return \"<GCode>[cmds={}]\".format(len(self.buffer))\n",
    "    \n",
    "    def _repr_html_(self):\n",
    "        html = list()\n",
    "        for cmd_line in self.buffer:\n",
    "            cmd, *args = cmd_line.split(\" \")\n",
    "            html_line = \"<b>{cmd}</b> <i>{args}</i>\".format(cmd=cmd, args=\" \".join(args))\n",
    "            html.append(html_line)\n",
    "        return \"<br>\\n\".join(html)\n",
    "    \n",
    "    def __iter__(self):\n",
    "        self.line = -1\n",
    "        return self\n",
    "    \n",
    "    def __next__(self):\n",
    "        self.line += 1\n",
    "        if self.line >= len(self.buffer):\n",
    "            raise StopIteration\n",
    "        return self.buffer[self.line]\n",
    "\n",
    "def cmd_factory(cmd, doc=None):\n",
    "    def cmd_fcn(self, **kwargs):\n",
    "        args = list()\n",
    "        for key, value in kwargs.items():\n",
    "            args.append(\"{key}{value}\".format(key=key, value=value))\n",
    "        \n",
    "        cmd_str = \"{cmd} {args}\".format(cmd=cmd, args=\" \".join(args))\n",
    "        self.buffer.append(cmd_str)  \n",
    "    return cmd_fcn      \n",
    "\n",
    "# Good core to start with.\n",
    "commands=list()\n",
    "# GCodes\n",
    "for code in [0, 1, 2, 3, 4, 20, 21, 28, 90, 91]:\n",
    "    commands.append(\"G{code}\".format(code=code))\n",
    "# MCodes\n",
    "for code in [0, 1, 2, 3, 4, 5, 6]:\n",
    "    commands.append(\"M{code}\".format(code=code))\n",
    "# Commands to implement.\n",
    "print(commands)\n",
    "\n",
    "for command in commands:\n",
    "    setattr(GCode, command, cmd_factory(command))"
   ]
  },
  {
   "cell_type": "code",
   "execution_count": 15,
   "metadata": {
    "collapsed": true
   },
   "outputs": [],
   "source": [
    "program = GCode()\n",
    "program.G21()\n",
    "program.G91()"
   ]
  },
  {
   "cell_type": "code",
   "execution_count": 16,
   "metadata": {},
   "outputs": [],
   "source": [
    "from IPython.display import display_html"
   ]
  },
  {
   "cell_type": "code",
   "execution_count": 17,
   "metadata": {},
   "outputs": [
    {
     "data": {
      "text/html": [
       "<b>G21</b> <i></i><br>\n",
       "<b>G91</b> <i></i>"
      ]
     },
     "metadata": {},
     "output_type": "display_data"
    }
   ],
   "source": [
    "display_html(program)"
   ]
  },
  {
   "cell_type": "code",
   "execution_count": 18,
   "metadata": {},
   "outputs": [
    {
     "name": "stdout",
     "output_type": "stream",
     "text": [
      "G21 \n",
      "G91 \n"
     ]
    }
   ],
   "source": [
    "print(program)"
   ]
  },
  {
   "cell_type": "code",
   "execution_count": 19,
   "metadata": {},
   "outputs": [
    {
     "name": "stdout",
     "output_type": "stream",
     "text": [
      "G21 \n",
      "G91 \n"
     ]
    }
   ],
   "source": [
    "for line in program:\n",
    "    print(line)"
   ]
  },
  {
   "cell_type": "code",
   "execution_count": 65,
   "metadata": {},
   "outputs": [
    {
     "name": "stdout",
     "output_type": "stream",
     "text": [
      "['G0', 'G1', 'G2', 'G3', 'G4', 'G20', 'G21', 'G28', 'G90', 'G91', 'M0', 'M1', 'M2', 'M3', 'M4', 'M5', 'M6']\n"
     ]
    }
   ],
   "source": [
    "class GCode(object):\n",
    "    def __init__(self, machine = None, buffer=None):\n",
    "        self.linenumbering = False\n",
    "        self.machine = machine\n",
    "        if buffer is None:\n",
    "            self.buffer = list()\n",
    "        else:\n",
    "            self.buffer = buffer\n",
    "    @property\n",
    "    def code(self):\n",
    "        if self.linenumbering:\n",
    "            pass\n",
    "        return \"\\n\".join(self.buffer)\n",
    "        \n",
    "    def save(self, filename):\n",
    "        with open(filename, \"w\") as fid:\n",
    "            print(str(self), file=fid)\n",
    "    \n",
    "    def __str__(self):\n",
    "        return self.code\n",
    "\n",
    "    def __repr__(self):\n",
    "        return \"<GCode>[cmds={}]\".format(len(self.buffer))\n",
    "    \n",
    "    def _repr_html_(self):\n",
    "        html = list()\n",
    "        for cmd_line in self.buffer:\n",
    "            cmd, *args = cmd_line.split(\" \")\n",
    "            html_line = \"<b>{cmd}</b> <i>{args}</i>\".format(cmd=cmd, args=\" \".join(args))\n",
    "            html.append(html_line)\n",
    "        return \"<br>\\n\".join(html)\n",
    "    \n",
    "    def __add__(self, other):\n",
    "        buffer = self.buffer\n",
    "        buffer2 = other.buffer\n",
    "        \n",
    "        buffer.extend(buffer2)\n",
    "        \n",
    "        return GCode(machine=self.machine, buffer=buffer)\n",
    "        \n",
    "    def __iter__(self):\n",
    "        self.line = -1\n",
    "        return self\n",
    "    \n",
    "    \n",
    "    def __next__(self):\n",
    "        self.line += 1\n",
    "        if self.line >= len(self.buffer):\n",
    "            raise StopIteration\n",
    "        return self.buffer[self.line]\n",
    "    \n",
    "    def optimise(self):\n",
    "        \"\"\" Optimize the GCode \"\"\"\n",
    "        raise(NotImplemented(\"\"))\n",
    "\n",
    "def cmd_factory(cmd, doc=None):\n",
    "    def cmd_fcn(self, **kwargs):\n",
    "        args = list()\n",
    "        for key, value in kwargs.items():\n",
    "            args.append(\"{key}{value}\".format(key=key, value=value))\n",
    "        \n",
    "        cmd_str = \"{cmd} {args}\".format(cmd=cmd, args=\" \".join(args))\n",
    "        self.buffer.append(cmd_str)  \n",
    "    return cmd_fcn      \n",
    "\n",
    "# Good core to start with.\n",
    "commands=list()\n",
    "# GCodes\n",
    "for code in [0, 1, 2, 3, 4, 20, 21, 28, 90, 91]:\n",
    "    commands.append(\"G{code}\".format(code=code))\n",
    "# MCodes\n",
    "for code in [0, 1, 2, 3, 4, 5, 6]:\n",
    "    commands.append(\"M{code}\".format(code=code))\n",
    "# Commands to implement.\n",
    "print(commands)\n",
    "\n",
    "for command in commands:\n",
    "    setattr(GCode, command, cmd_factory(command))"
   ]
  },
  {
   "cell_type": "code",
   "execution_count": 66,
   "metadata": {
    "collapsed": true
   },
   "outputs": [],
   "source": [
    "def square(size=20):\n",
    "    program = GCode()\n",
    "    program.G21()\n",
    "    program.G91()\n",
    "    program.G1(F=200)\n",
    "    program.M4(S=25)\n",
    "    program.G1(X=size)\n",
    "    program.G1(Y=size)\n",
    "    program.G1(X=-size)\n",
    "    program.G1(X=-size)\n",
    "    program.M5()\n",
    "    return program"
   ]
  },
  {
   "cell_type": "code",
   "execution_count": 67,
   "metadata": {
    "collapsed": true
   },
   "outputs": [],
   "source": [
    "sqr20 = square(20)"
   ]
  },
  {
   "cell_type": "code",
   "execution_count": 68,
   "metadata": {},
   "outputs": [
    {
     "data": {
      "text/html": [
       "<b>G21</b> <i></i><br>\n",
       "<b>G91</b> <i></i><br>\n",
       "<b>G1</b> <i>F200</i><br>\n",
       "<b>M4</b> <i>S25</i><br>\n",
       "<b>G1</b> <i>X20</i><br>\n",
       "<b>G1</b> <i>Y20</i><br>\n",
       "<b>G1</b> <i>X-20</i><br>\n",
       "<b>G1</b> <i>X-20</i><br>\n",
       "<b>M5</b> <i></i>"
      ],
      "text/plain": [
       "<GCode>[cmds=9]"
      ]
     },
     "execution_count": 68,
     "metadata": {},
     "output_type": "execute_result"
    }
   ],
   "source": [
    "sqr20"
   ]
  },
  {
   "cell_type": "code",
   "execution_count": 69,
   "metadata": {},
   "outputs": [],
   "source": [
    "sqr20.save(\"square_20mm.gcode\")"
   ]
  },
  {
   "cell_type": "code",
   "execution_count": 61,
   "metadata": {},
   "outputs": [
    {
     "ename": "SyntaxError",
     "evalue": "invalid syntax (<ipython-input-61-e1bf4b1a2558>, line 4)",
     "output_type": "error",
     "traceback": [
      "\u001b[0;36m  File \u001b[0;32m\"<ipython-input-61-e1bf4b1a2558>\"\u001b[0;36m, line \u001b[0;32m4\u001b[0m\n\u001b[0;31m    G1 F200\u001b[0m\n\u001b[0m          ^\u001b[0m\n\u001b[0;31mSyntaxError\u001b[0m\u001b[0;31m:\u001b[0m invalid syntax\n"
     ]
    }
   ],
   "source": [
    "# %load square_20mm.gcode\n",
    "G21 \n",
    "G91 \n",
    "G1 F200\n",
    "M4 S25\n",
    "G1 X20\n",
    "G1 Y20\n",
    "G1 X-20\n",
    "G1 X-20\n",
    "M5 "
   ]
  },
  {
   "cell_type": "code",
   "execution_count": 70,
   "metadata": {
    "collapsed": true
   },
   "outputs": [],
   "source": [
    "sqr20 = square(20)\n",
    "sqr40 = square(40)"
   ]
  },
  {
   "cell_type": "code",
   "execution_count": 72,
   "metadata": {},
   "outputs": [
    {
     "data": {
      "text/html": [
       "<b>G21</b> <i></i><br>\n",
       "<b>G91</b> <i></i><br>\n",
       "<b>G1</b> <i>F200</i><br>\n",
       "<b>M4</b> <i>S25</i><br>\n",
       "<b>G1</b> <i>X20</i><br>\n",
       "<b>G1</b> <i>Y20</i><br>\n",
       "<b>G1</b> <i>X-20</i><br>\n",
       "<b>G1</b> <i>X-20</i><br>\n",
       "<b>M5</b> <i></i><br>\n",
       "<b>G21</b> <i></i><br>\n",
       "<b>G91</b> <i></i><br>\n",
       "<b>G1</b> <i>F200</i><br>\n",
       "<b>M4</b> <i>S25</i><br>\n",
       "<b>G1</b> <i>X40</i><br>\n",
       "<b>G1</b> <i>Y40</i><br>\n",
       "<b>G1</b> <i>X-40</i><br>\n",
       "<b>G1</b> <i>X-40</i><br>\n",
       "<b>M5</b> <i></i>"
      ],
      "text/plain": [
       "<GCode>[cmds=18]"
      ]
     },
     "execution_count": 72,
     "metadata": {},
     "output_type": "execute_result"
    }
   ],
   "source": [
    "sqr20+sqr40"
   ]
  }
 ],
 "metadata": {
  "kernelspec": {
   "display_name": "Python 3",
   "language": "python",
   "name": "python3"
  },
  "language_info": {
   "codemirror_mode": {
    "name": "ipython",
    "version": 3
   },
   "file_extension": ".py",
   "mimetype": "text/x-python",
   "name": "python",
   "nbconvert_exporter": "python",
   "pygments_lexer": "ipython3",
   "version": "3.5.2"
  }
 },
 "nbformat": 4,
 "nbformat_minor": 2
}
