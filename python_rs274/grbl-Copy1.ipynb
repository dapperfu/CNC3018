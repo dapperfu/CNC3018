{
 "cells": [
  {
   "cell_type": "code",
   "execution_count": 1,
   "metadata": {
    "collapsed": true
   },
   "outputs": [],
   "source": [
    "import serial"
   ]
  },
  {
   "cell_type": "code",
   "execution_count": 74,
   "metadata": {
    "collapsed": true
   },
   "outputs": [],
   "source": [
    "# Good core to start with.\n",
    "commands = list()\n",
    "for gcmd in [0, 1, 20, 21, 28, 90, 91]:\n",
    "    commands.append(\"G{code}\".format(code=gcmd))\n",
    "for mcmd in [0, 1, 2, 3, 4, 5, 6]:\n",
    "    commands.append(\"M{code}\".format(code=mcmd))"
   ]
  },
  {
   "cell_type": "code",
   "execution_count": 75,
   "metadata": {
    "collapsed": true
   },
   "outputs": [],
   "source": [
    "class GCode(object):\n",
    "    def __init__(self, *args, **kwargs):\n",
    "        self.linenumbering = False\n",
    "        self.buffer = list()\n",
    "        \n",
    "    @property\n",
    "    def code(self):\n",
    "        if self.linenumbering:\n",
    "            pass\n",
    "        return \"\\n\".join(self.buffer)\n",
    "        \n",
    "    def save(self, filename):\n",
    "        pass\n",
    "    \n",
    "    def send(self):\n",
    "        pass\n",
    "    \n",
    "    def __str__(self):\n",
    "        return self.code\n",
    "\n",
    "    def __repr__(self):\n",
    "        return \"<GCode>[cmds={}]\".format(len(self.buffer))\n",
    "    \n",
    "    def __iter__(self):\n",
    "        for buf in self.buffer:\n",
    "            yield buf\n",
    "    \n",
    "    def _repr_html_(self):\n",
    "        html = list()\n",
    "        for cmd_line in self.buffer:\n",
    "            cmd, *args = cmd_line.split(\" \")\n",
    "            html_line = \"<b>{cmd}</b> <i>{args}</i>\".format(cmd=cmd, args=\" \".join(args))\n",
    "            html.append(html_line)\n",
    "        return \"<br>\\n\".join(html)\n",
    "    \n",
    "\n",
    "def cmd_factory(cmd, doc=None):\n",
    "    def cmd_fcn(self, **kwargs):\n",
    "        args = list()\n",
    "        for key, value in kwargs.items():\n",
    "            args.append(\"{key}{value}\".format(key=key, value=value))\n",
    "        \n",
    "        cmd_str = \"{cmd} {args}\".format(cmd=cmd, args=\" \".join(args))\n",
    "        self.buffer.append(cmd_str.strip())  \n",
    "    return cmd_fcn       \n",
    "\n",
    "\n",
    "for command in commands:\n",
    "    setattr(GCode, command, cmd_factory(command))"
   ]
  },
  {
   "cell_type": "code",
   "execution_count": 76,
   "metadata": {
    "collapsed": true
   },
   "outputs": [],
   "source": [
    "s = serial.Serial(port=\"/dev/cnc_3018\",\n",
    "                  baudrate=115200,\n",
    "                  timeout=1)\n",
    "from time import sleep\n",
    "sleep(2)\n",
    "s.flushInput()\n",
    "sleep(2)"
   ]
  },
  {
   "cell_type": "code",
   "execution_count": 77,
   "metadata": {
    "collapsed": true
   },
   "outputs": [],
   "source": [
    "def grbl(cmd):\n",
    "    s.flushInput()\n",
    "    s.write(\"{cmd}\\n\".format(cmd=cmd).encode())\n",
    "    responses = s.readlines()\n",
    "    responses = [response.decode().strip() for response in responses]\n",
    "    return responses"
   ]
  },
  {
   "cell_type": "code",
   "execution_count": 78,
   "metadata": {},
   "outputs": [
    {
     "data": {
      "text/plain": [
       "['$0=10',\n",
       " '$1=25',\n",
       " '$2=0',\n",
       " '$3=0',\n",
       " '$4=0',\n",
       " '$5=0',\n",
       " '$6=0',\n",
       " '$10=1',\n",
       " '$11=0.010',\n",
       " '$12=0.002',\n",
       " '$13=0',\n",
       " '$20=0',\n",
       " '$21=0',\n",
       " '$22=0',\n",
       " '$23=0',\n",
       " '$24=25.000',\n",
       " '$25=500.000',\n",
       " '$26=250',\n",
       " '$27=1.000',\n",
       " '$30=1000',\n",
       " '$31=0',\n",
       " '$32=0',\n",
       " '$100=250.000',\n",
       " '$101=250.000',\n",
       " '$102=250.000',\n",
       " '$110=500.000',\n",
       " '$111=500.000',\n",
       " '$112=500.000',\n",
       " '$120=10.000',\n",
       " '$121=10.000',\n",
       " '$122=10.000',\n",
       " '$130=200.000',\n",
       " '$131=200.000',\n",
       " '$132=200.000',\n",
       " 'ok']"
      ]
     },
     "execution_count": 78,
     "metadata": {},
     "output_type": "execute_result"
    }
   ],
   "source": [
    "grbl(\"$$\")"
   ]
  },
  {
   "cell_type": "code",
   "execution_count": 79,
   "metadata": {
    "collapsed": true
   },
   "outputs": [],
   "source": [
    "grbl_settings = grbl(\"$$\")"
   ]
  },
  {
   "cell_type": "code",
   "execution_count": 81,
   "metadata": {},
   "outputs": [
    {
     "name": "stdout",
     "output_type": "stream",
     "text": [
      "settings = [\n",
      "    (\"$0\", \"\"),\n",
      "    (\"$1\", \"\"),\n",
      "    (\"$2\", \"\"),\n",
      "    (\"$3\", \"\"),\n",
      "    (\"$4\", \"\"),\n",
      "    (\"$5\", \"\"),\n",
      "    (\"$6\", \"\"),\n",
      "    (\"$10\", \"\"),\n",
      "    (\"$11\", \"\"),\n",
      "    (\"$12\", \"\"),\n",
      "    (\"$13\", \"\"),\n",
      "    (\"$20\", \"\"),\n",
      "    (\"$21\", \"\"),\n",
      "    (\"$22\", \"\"),\n",
      "    (\"$23\", \"\"),\n",
      "    (\"$24\", \"\"),\n",
      "    (\"$25\", \"\"),\n",
      "    (\"$26\", \"\"),\n",
      "    (\"$27\", \"\"),\n",
      "    (\"$30\", \"\"),\n",
      "    (\"$31\", \"\"),\n",
      "    (\"$32\", \"\"),\n",
      "    (\"$100\", \"\"),\n",
      "    (\"$101\", \"\"),\n",
      "    (\"$102\", \"\"),\n",
      "    (\"$110\", \"\"),\n",
      "    (\"$111\", \"\"),\n",
      "    (\"$112\", \"\"),\n",
      "    (\"$120\", \"\"),\n",
      "    (\"$121\", \"\"),\n",
      "    (\"$122\", \"\"),\n",
      "    (\"$130\", \"\"),\n",
      "    (\"$131\", \"\"),\n",
      "    (\"$132\", \"\"),\n",
      "    ]\n"
     ]
    }
   ],
   "source": [
    "# Quick template for available settings.\n",
    "print(\"settings = [\")\n",
    "for grbl_setting in grbl_settings:\n",
    "    if grbl_setting.startswith(\"$\"):\n",
    "        key, value = grbl_setting.split(\"=\")\n",
    "        print(\"    (\\\"{}\\\", \\\"\\\"),\".format(key))\n",
    "print(\"    ]\")"
   ]
  },
  {
   "cell_type": "code",
   "execution_count": 69,
   "metadata": {
    "collapsed": true,
    "scrolled": true
   },
   "outputs": [],
   "source": [
    "settings = [\n",
    "    (\"$0\", \"step_pulse\"),\n",
    "    (\"$1\", \"step_idle_delay\"),\n",
    "    (\"$2\", \"step_port_invert\"),\n",
    "    (\"$3\", \"direction_port_invert\"),\n",
    "    (\"$4\", \"step_enable_invert\"),\n",
    "    (\"$5\", \"limit_pin_invert\"),\n",
    "    (\"$6\", \"probe_pin_invert\"),\n",
    "    (\"$10\", \"status_report\"),\n",
    "    (\"$11\", \"junction_deviation\"),\n",
    "    (\"$12\", \"arc_tolerance\"),\n",
    "    (\"$13\", \"report_inches\"),\n",
    "    (\"$20\", \"soft_limits\"),\n",
    "    (\"$21\", \"hard_limits\"),\n",
    "    (\"$22\", \"homing_cycle\"),\n",
    "    (\"$23\", \"homing_dir_invert\"),\n",
    "    (\"$24\", \"homing_feed\"),\n",
    "    (\"$25\", \"homing_seek\"),\n",
    "    (\"$26\", \"homing_debounce\"),\n",
    "    (\"$27\", \"homing_pull_off\"),\n",
    "    (\"$30\", \"max_spindle_speed\"),\n",
    "    (\"$31\", \"min_spindle_speed\"),\n",
    "    (\"$32\", \"laser_mode\"),\n",
    "    (\"$100\", \"x_steps_mm\"),\n",
    "    (\"$101\", \"y_steps_mm\"),\n",
    "    (\"$102\", \"z_steps_mm\"),\n",
    "    (\"$110\", \"x_max_rate\"),\n",
    "    (\"$111\", \"y_max_rate\"),\n",
    "    (\"$112\", \"z_max_rate\"),\n",
    "    (\"$120\", \"x_acceleration\"),\n",
    "    (\"$121\", \"y_acceleration\"),\n",
    "    (\"$122\", \"z_acceleration\"),\n",
    "    (\"$130\", \"x_travel\"),\n",
    "    (\"$131\", \"y_travel\"),\n",
    "    (\"$132\", \"z_travel\"),\n",
    "    ]"
   ]
  },
  {
   "cell_type": "code",
   "execution_count": 92,
   "metadata": {
    "collapsed": true
   },
   "outputs": [],
   "source": [
    "def grbl_getter_generator(cmd):\n",
    "    def grbl_getter(self):\n",
    "        pass\n",
    "    return grbl_getter\n",
    "    \n",
    "def grbl_setter_generator(cmd):\n",
    "    def grbl_setter(self, value):\n",
    "        ret = grbl(\"{cmd}={value}\".format(cmd=cmd, value=value))\n",
    "        return ret\n",
    "    return grbl_setter"
   ]
  },
  {
   "cell_type": "code",
   "execution_count": 93,
   "metadata": {},
   "outputs": [
    {
     "name": "stdout",
     "output_type": "stream",
     "text": [
      "('$0', 'step_pulse')\n"
     ]
    }
   ],
   "source": [
    "for setting in settings:\n",
    "    print(setting)\n",
    "    break"
   ]
  },
  {
   "cell_type": "code",
   "execution_count": 94,
   "metadata": {},
   "outputs": [
    {
     "data": {
      "text/plain": [
       "['ok']"
      ]
     },
     "execution_count": 94,
     "metadata": {},
     "output_type": "execute_result"
    }
   ],
   "source": [
    "grbl(\"$0=10\")"
   ]
  },
  {
   "cell_type": "code",
   "execution_count": 95,
   "metadata": {},
   "outputs": [],
   "source": [
    "step_pulse = grbl_setter_generator(\"$0\")"
   ]
  },
  {
   "cell_type": "code",
   "execution_count": 96,
   "metadata": {},
   "outputs": [
    {
     "data": {
      "text/plain": [
       "['ok']"
      ]
     },
     "execution_count": 96,
     "metadata": {},
     "output_type": "execute_result"
    }
   ],
   "source": [
    "step_pulse(_, 10)"
   ]
  },
  {
   "cell_type": "code",
   "execution_count": 99,
   "metadata": {
    "scrolled": true
   },
   "outputs": [],
   "source": [
    "config = grbl(\"$$\")"
   ]
  },
  {
   "cell_type": "code",
   "execution_count": 101,
   "metadata": {},
   "outputs": [
    {
     "name": "stdout",
     "output_type": "stream",
     "text": [
      "$0=10\n"
     ]
    }
   ],
   "source": [
    "for config_line in config:\n",
    "    print(config_line)\n",
    "    break"
   ]
  },
  {
   "cell_type": "code",
   "execution_count": 106,
   "metadata": {
    "collapsed": true
   },
   "outputs": [],
   "source": [
    "if config_line.startswith(\"$\"):\n",
    "    key, value = config_line.split(\"=\")"
   ]
  },
  {
   "cell_type": "code",
   "execution_count": 103,
   "metadata": {},
   "outputs": [
    {
     "data": {
      "text/plain": [
       "'$0'"
      ]
     },
     "execution_count": 103,
     "metadata": {},
     "output_type": "execute_result"
    }
   ],
   "source": [
    "key"
   ]
  },
  {
   "cell_type": "code",
   "execution_count": 104,
   "metadata": {},
   "outputs": [
    {
     "data": {
      "text/plain": [
       "'10'"
      ]
     },
     "execution_count": 104,
     "metadata": {},
     "output_type": "execute_result"
    }
   ],
   "source": [
    "value"
   ]
  },
  {
   "cell_type": "code",
   "execution_count": 108,
   "metadata": {},
   "outputs": [],
   "source": [
    "cmd = \"$0\""
   ]
  },
  {
   "cell_type": "code",
   "execution_count": 110,
   "metadata": {},
   "outputs": [],
   "source": []
  },
  {
   "cell_type": "code",
   "execution_count": 112,
   "metadata": {},
   "outputs": [],
   "source": [
    "def grbl_getter_generator(cmd):\n",
    "    def grbl_getter(self):\n",
    "        config = grbl(\"$$\")\n",
    "        for config_line in config:\n",
    "            if config_line.startswith(\"$\"):\n",
    "                key, value = config_line.split(\"=\")\n",
    "                if key == cmd:\n",
    "                    return float(value)\n",
    "        return None\n",
    "    return grbl_getter"
   ]
  },
  {
   "cell_type": "code",
   "execution_count": 113,
   "metadata": {
    "collapsed": true
   },
   "outputs": [],
   "source": [
    "step_pulse = grbl_getter_generator(\"$0\")"
   ]
  },
  {
   "cell_type": "code",
   "execution_count": 115,
   "metadata": {},
   "outputs": [
    {
     "data": {
      "text/plain": [
       "10.0"
      ]
     },
     "execution_count": 115,
     "metadata": {},
     "output_type": "execute_result"
    }
   ],
   "source": [
    "step_pulse(_)"
   ]
  },
  {
   "cell_type": "code",
   "execution_count": null,
   "metadata": {
    "collapsed": true
   },
   "outputs": [],
   "source": []
  }
 ],
 "metadata": {
  "kernelspec": {
   "display_name": "Python 3",
   "language": "python",
   "name": "python3"
  },
  "language_info": {
   "codemirror_mode": {
    "name": "ipython",
    "version": 3
   },
   "file_extension": ".py",
   "mimetype": "text/x-python",
   "name": "python",
   "nbconvert_exporter": "python",
   "pygments_lexer": "ipython3",
   "version": "3.5.2"
  }
 },
 "nbformat": 4,
 "nbformat_minor": 2
}
