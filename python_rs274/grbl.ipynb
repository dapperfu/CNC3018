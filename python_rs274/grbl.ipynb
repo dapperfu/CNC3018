{
 "cells": [
  {
   "cell_type": "markdown",
   "metadata": {},
   "source": [
    "Reading the GRBL instructions then the Marlin lead to a rabbit's hole of G-Code.\n",
    "\n",
    "http://reprap.org/wiki/G-code"
   ]
  },
  {
   "cell_type": "markdown",
   "metadata": {},
   "source": [
    "#### V0.05"
   ]
  },
  {
   "cell_type": "code",
   "execution_count": 19,
   "metadata": {
    "collapsed": true
   },
   "outputs": [],
   "source": [
    "# Good core to start with.\n",
    "commands = list()\n",
    "for gcmd in [0, 1, 20, 21, 28, 90, 91]:\n",
    "    commands.append(\"G{code}\".format(code=gcmd))\n",
    "for mcmd in [0, 1, 2, 3, 4, 5, 6]:\n",
    "    commands.append(\"M{code}\".format(code=mcmd))"
   ]
  },
  {
   "cell_type": "code",
   "execution_count": 59,
   "metadata": {},
   "outputs": [],
   "source": [
    "class GCode(object):\n",
    "    def __init__(self):\n",
    "        self.linenumbering = False\n",
    "        self.buffer = list()\n",
    "        \n",
    "    @property\n",
    "    def code(self):\n",
    "        if self.linenumbering:\n",
    "            pass\n",
    "        return \"\\n\".join(self.buffer)\n",
    "        \n",
    "    def save(self, filename):\n",
    "        pass\n",
    "    \n",
    "    def send(self):\n",
    "        pass\n",
    "    \n",
    "    def __str__(self):\n",
    "        return self.code\n",
    "\n",
    "    def __repr__(self):\n",
    "        return \"<GCode>[cmds={}]\".format(len(self.buffer))\n",
    "    \n",
    "    def __iter__(self):\n",
    "        for buf in self.buffer:\n",
    "            yield buf\n",
    "    \n",
    "    def _repr_html_(self):\n",
    "        html = list()\n",
    "        for cmd_line in self.buffer:\n",
    "            cmd, *args = cmd_line.split(\" \")\n",
    "            html_line = \"<b>{cmd}</b> <i>{args}</i>\".format(cmd=cmd, args=\" \".join(args))\n",
    "            html.append(html_line)\n",
    "        return \"<br>\\n\".join(html)\n",
    "    \n",
    "\n",
    "def cmd_factory(cmd, doc=None):\n",
    "    def cmd_fcn(self, **kwargs):\n",
    "        args = list()\n",
    "        for key, value in kwargs.items():\n",
    "            args.append(\"{key}{value}\".format(key=key, value=value))\n",
    "        \n",
    "        cmd_str = \"{cmd} {args}\".format(cmd=cmd, args=\" \".join(args))\n",
    "        self.buffer.append(cmd_str.strip())  \n",
    "    return cmd_fcn       \n",
    "\n",
    "\n",
    "for command in commands:\n",
    "    setattr(GCode, command, cmd_factory(command))"
   ]
  },
  {
   "cell_type": "code",
   "execution_count": 60,
   "metadata": {
    "scrolled": true
   },
   "outputs": [],
   "source": [
    "machine = GCode()"
   ]
  },
  {
   "cell_type": "code",
   "execution_count": 61,
   "metadata": {},
   "outputs": [
    {
     "data": {
      "text/plain": [
       "['G21', 'G91']"
      ]
     },
     "execution_count": 61,
     "metadata": {},
     "output_type": "execute_result"
    }
   ],
   "source": [
    "machine.G21() # Metric\n",
    "machine.G91() # Relative/Incremental Coordinates\n",
    "machine.buffer"
   ]
  },
  {
   "cell_type": "code",
   "execution_count": 62,
   "metadata": {},
   "outputs": [],
   "source": [
    "machine.G0(X=0, Y=0, Z=0)"
   ]
  },
  {
   "cell_type": "code",
   "execution_count": 63,
   "metadata": {
    "collapsed": true
   },
   "outputs": [],
   "source": [
    "# Push the pencil into the paper.\n",
    "machine.G1(X=0, Y=0, Z=-0.5)\n",
    "# Draw a 25x25 box.\n",
    "machine.G1(X=10)\n",
    "machine.G1(Y=10)\n",
    "machine.G1(X=-10)\n",
    "machine.G1(Y=-10)"
   ]
  },
  {
   "cell_type": "code",
   "execution_count": 64,
   "metadata": {
    "collapsed": true
   },
   "outputs": [],
   "source": [
    "with open(\"box.gcode\", \"w\") as fid:\n",
    "    print(machine, file=fid)"
   ]
  },
  {
   "cell_type": "code",
   "execution_count": 65,
   "metadata": {
    "collapsed": true
   },
   "outputs": [],
   "source": [
    "import serial"
   ]
  },
  {
   "cell_type": "code",
   "execution_count": 66,
   "metadata": {},
   "outputs": [],
   "source": [
    "s = serial.Serial(port=\"/dev/cnc_3018\",\n",
    "                  baudrate=115200,\n",
    "                  timeout=1)\n",
    "from time import sleep\n",
    "sleep(2)\n",
    "s.flushInput()\n",
    "sleep(2)"
   ]
  },
  {
   "cell_type": "code",
   "execution_count": 99,
   "metadata": {},
   "outputs": [
    {
     "data": {
      "text/plain": [
       "3"
      ]
     },
     "execution_count": 99,
     "metadata": {},
     "output_type": "execute_result"
    }
   ],
   "source": [
    "s.write(\"$$\\n\".encode())"
   ]
  },
  {
   "cell_type": "code",
   "execution_count": 100,
   "metadata": {},
   "outputs": [
    {
     "data": {
      "text/plain": [
       "[b'$0=10\\r\\n',\n",
       " b'$1=25\\r\\n',\n",
       " b'$2=0\\r\\n',\n",
       " b'$3=0\\r\\n',\n",
       " b'$4=0\\r\\n',\n",
       " b'$5=0\\r\\n',\n",
       " b'$6=0\\r\\n',\n",
       " b'$10=1\\r\\n',\n",
       " b'$11=0.010\\r\\n',\n",
       " b'$12=0.002\\r\\n',\n",
       " b'$13=0\\r\\n',\n",
       " b'$20=0\\r\\n',\n",
       " b'$21=0\\r\\n',\n",
       " b'$22=0\\r\\n',\n",
       " b'$23=0\\r\\n',\n",
       " b'$24=25.000\\r\\n',\n",
       " b'$25=500.000\\r\\n',\n",
       " b'$26=250\\r\\n',\n",
       " b'$27=1.000\\r\\n',\n",
       " b'$30=1000\\r\\n',\n",
       " b'$31=0\\r\\n',\n",
       " b'$32=0\\r\\n',\n",
       " b'$100=250.000\\r\\n',\n",
       " b'$101=250.000\\r\\n',\n",
       " b'$102=250.000\\r\\n',\n",
       " b'$110=500.000\\r\\n',\n",
       " b'$111=500.000\\r\\n',\n",
       " b'$112=500.000\\r\\n',\n",
       " b'$120=10.000\\r\\n',\n",
       " b'$121=10.000\\r\\n',\n",
       " b'$122=10.000\\r\\n',\n",
       " b'$130=200.000\\r\\n',\n",
       " b'$131=200.000\\r\\n',\n",
       " b'$132=200.000\\r\\n',\n",
       " b'ok\\r\\n']"
      ]
     },
     "execution_count": 100,
     "metadata": {},
     "output_type": "execute_result"
    }
   ],
   "source": [
    "s.readlines()"
   ]
  },
  {
   "cell_type": "code",
   "execution_count": 101,
   "metadata": {
    "collapsed": true
   },
   "outputs": [],
   "source": [
    "s.flushInput()"
   ]
  },
  {
   "cell_type": "code",
   "execution_count": 103,
   "metadata": {},
   "outputs": [
    {
     "data": {
      "text/plain": [
       "1"
      ]
     },
     "execution_count": 103,
     "metadata": {},
     "output_type": "execute_result"
    }
   ],
   "source": [
    "s.write(\"\\x24\".encode())"
   ]
  },
  {
   "cell_type": "code",
   "execution_count": 118,
   "metadata": {},
   "outputs": [
    {
     "data": {
      "text/plain": [
       "[b'ok\\r\\n', b'ok\\r\\n']"
      ]
     },
     "execution_count": 118,
     "metadata": {},
     "output_type": "execute_result"
    }
   ],
   "source": [
    "s.write(\"\\r\".encode()*2)\n",
    "s.readlines()"
   ]
  },
  {
   "cell_type": "code",
   "execution_count": 119,
   "metadata": {
    "scrolled": true
   },
   "outputs": [
    {
     "data": {
      "text/plain": [
       "[b'ok\\r\\n', b'ok\\r\\n']"
      ]
     },
     "execution_count": 119,
     "metadata": {},
     "output_type": "execute_result"
    }
   ],
   "source": [
    "s.write(\"\\n\".encode()*2)\n",
    "s.readlines()"
   ]
  },
  {
   "cell_type": "code",
   "execution_count": 129,
   "metadata": {},
   "outputs": [
    {
     "data": {
      "text/plain": [
       "[b'ok\\r\\n']"
      ]
     },
     "execution_count": 129,
     "metadata": {},
     "output_type": "execute_result"
    }
   ],
   "source": [
    "s.write(\"\\n\".encode())\n",
    "s.readlines()"
   ]
  },
  {
   "cell_type": "code",
   "execution_count": 123,
   "metadata": {},
   "outputs": [
    {
     "data": {
      "text/plain": [
       "[b'ok\\r\\n']"
      ]
     },
     "execution_count": 123,
     "metadata": {},
     "output_type": "execute_result"
    }
   ],
   "source": [
    "s.write(\"G21\\n\".encode())\n",
    "s.readlines()"
   ]
  },
  {
   "cell_type": "code",
   "execution_count": 124,
   "metadata": {},
   "outputs": [
    {
     "data": {
      "text/plain": [
       "[b'ok\\r\\n']"
      ]
     },
     "execution_count": 124,
     "metadata": {},
     "output_type": "execute_result"
    }
   ],
   "source": [
    "s.write(\"G91\\n\".encode())\n",
    "s.readlines()"
   ]
  },
  {
   "cell_type": "code",
   "execution_count": 132,
   "metadata": {},
   "outputs": [
    {
     "data": {
      "text/plain": [
       "7"
      ]
     },
     "execution_count": 132,
     "metadata": {},
     "output_type": "execute_result"
    }
   ],
   "source": [
    "s.write(\"G01X10\\n\".encode())"
   ]
  },
  {
   "cell_type": "code",
   "execution_count": 145,
   "metadata": {},
   "outputs": [
    {
     "data": {
      "text/plain": [
       "[b'ok\\r\\n']"
      ]
     },
     "execution_count": 145,
     "metadata": {},
     "output_type": "execute_result"
    }
   ],
   "source": [
    "s.write(\"G1 F100.0\\n\".encode())\n",
    "s.readlines()"
   ]
  },
  {
   "cell_type": "code",
   "execution_count": 139,
   "metadata": {},
   "outputs": [
    {
     "data": {
      "text/plain": [
       "[b'$0=10\\r\\n',\n",
       " b'$1=25\\r\\n',\n",
       " b'$2=0\\r\\n',\n",
       " b'$3=0\\r\\n',\n",
       " b'$4=0\\r\\n',\n",
       " b'$5=0\\r\\n',\n",
       " b'$6=0\\r\\n',\n",
       " b'$10=1\\r\\n',\n",
       " b'$11=0.010\\r\\n',\n",
       " b'$12=0.002\\r\\n',\n",
       " b'$13=0\\r\\n',\n",
       " b'$20=0\\r\\n',\n",
       " b'$21=0\\r\\n',\n",
       " b'$22=0\\r\\n',\n",
       " b'$23=0\\r\\n',\n",
       " b'$24=25.000\\r\\n',\n",
       " b'$25=500.000\\r\\n',\n",
       " b'$26=250\\r\\n',\n",
       " b'$27=1.000\\r\\n',\n",
       " b'$30=1000\\r\\n',\n",
       " b'$31=0\\r\\n',\n",
       " b'$32=0\\r\\n',\n",
       " b'$100=250.000\\r\\n',\n",
       " b'$101=250.000\\r\\n',\n",
       " b'$102=250.000\\r\\n',\n",
       " b'$110=500.000\\r\\n',\n",
       " b'$111=500.000\\r\\n',\n",
       " b'$112=500.000\\r\\n',\n",
       " b'$120=10.000\\r\\n',\n",
       " b'$121=10.000\\r\\n',\n",
       " b'$122=10.000\\r\\n',\n",
       " b'$130=200.000\\r\\n',\n",
       " b'$131=200.000\\r\\n',\n",
       " b'$132=200.000\\r\\n',\n",
       " b'ok\\r\\n']"
      ]
     },
     "execution_count": 139,
     "metadata": {},
     "output_type": "execute_result"
    }
   ],
   "source": [
    "s.write(\"$$\\n\".encode())\n",
    "s.readlines()"
   ]
  },
  {
   "cell_type": "code",
   "execution_count": 141,
   "metadata": {},
   "outputs": [
    {
     "data": {
      "text/plain": [
       "[b'[HLP:$$ $# $G $I $N $x=val $Nx=line $J=line $SLP $C $X $H ~ ! ? ctrl-x]\\r\\n',\n",
       " b'ok\\r\\n']"
      ]
     },
     "execution_count": 141,
     "metadata": {},
     "output_type": "execute_result"
    }
   ],
   "source": [
    "s.write(\"$\\n\".encode())\n",
    "s.readlines()"
   ]
  },
  {
   "cell_type": "code",
   "execution_count": 142,
   "metadata": {},
   "outputs": [
    {
     "data": {
      "text/plain": [
       "[b'<Check|MPos:0.000,0.000,0.000|FS:0,0|WCO:0.000,0.000,0.000>\\r\\n', b'ok\\r\\n']"
      ]
     },
     "execution_count": 142,
     "metadata": {},
     "output_type": "execute_result"
    }
   ],
   "source": [
    "s.write(\"?\\n\".encode())\n",
    "s.readlines()"
   ]
  },
  {
   "cell_type": "code",
   "execution_count": 143,
   "metadata": {},
   "outputs": [
    {
     "data": {
      "text/plain": [
       "[b'[MSG:Disabled]\\r\\n', b'ok\\r\\n', b'\\r\\n', b\"Grbl 1.1f ['$' for help]\\r\\n\"]"
      ]
     },
     "execution_count": 143,
     "metadata": {},
     "output_type": "execute_result"
    }
   ],
   "source": [
    "s.write(\"$C\\n\".encode())\n",
    "s.readlines()"
   ]
  },
  {
   "cell_type": "code",
   "execution_count": 144,
   "metadata": {},
   "outputs": [
    {
     "data": {
      "text/plain": [
       "[b'<Idle|MPos:0.000,0.000,0.000|FS:0,0|WCO:0.000,0.000,0.000>\\r\\n', b'ok\\r\\n']"
      ]
     },
     "execution_count": 144,
     "metadata": {},
     "output_type": "execute_result"
    }
   ],
   "source": [
    "s.write(\"?\\n\".encode())\n",
    "s.readlines()"
   ]
  },
  {
   "cell_type": "code",
   "execution_count": 146,
   "metadata": {},
   "outputs": [
    {
     "data": {
      "text/plain": [
       "7"
      ]
     },
     "execution_count": 146,
     "metadata": {},
     "output_type": "execute_result"
    }
   ],
   "source": [
    "s.write(\"G01X10\\n\".encode())"
   ]
  },
  {
   "cell_type": "code",
   "execution_count": 147,
   "metadata": {},
   "outputs": [
    {
     "data": {
      "text/plain": [
       "10"
      ]
     },
     "execution_count": 147,
     "metadata": {},
     "output_type": "execute_result"
    }
   ],
   "source": [
    "s.write(\"G01 F200.0\".encode())"
   ]
  },
  {
   "cell_type": "code",
   "execution_count": 148,
   "metadata": {},
   "outputs": [
    {
     "data": {
      "text/plain": [
       "6"
      ]
     },
     "execution_count": 148,
     "metadata": {},
     "output_type": "execute_result"
    }
   ],
   "source": [
    "s.write(\"G01 Z-2\\n\".encode())\n",
    "s.write(\"G01X50\\n\".encode())\n",
    "s.write(\"G01Y50\\n\".encode())\n",
    "s.write(\"G01X-50\\n\".encode())\n",
    "s.write(\"G01Y-50\\n\".encode())\n",
    "s.write(\"G01Z2\\n\".encode())"
   ]
  },
  {
   "cell_type": "code",
   "execution_count": 149,
   "metadata": {},
   "outputs": [
    {
     "data": {
      "text/plain": [
       "[b'ok\\r\\n',\n",
       " b'error:24\\r\\n',\n",
       " b'ok\\r\\n',\n",
       " b'ok\\r\\n',\n",
       " b'ok\\r\\n',\n",
       " b'ok\\r\\n',\n",
       " b'ok\\r\\n',\n",
       " b'<Run|MPos:45.792,50.000,0.000|FS:100,0|Ov:100,100,100>\\r\\n',\n",
       " b'ok\\r\\n']"
      ]
     },
     "execution_count": 149,
     "metadata": {},
     "output_type": "execute_result"
    }
   ],
   "source": [
    "s.write(\"?\\n\".encode())\n",
    "s.readlines()"
   ]
  },
  {
   "cell_type": "code",
   "execution_count": 150,
   "metadata": {},
   "outputs": [
    {
     "data": {
      "text/plain": [
       "[b'ok\\r\\n']"
      ]
     },
     "execution_count": 150,
     "metadata": {},
     "output_type": "execute_result"
    }
   ],
   "source": [
    "s.write(\"G1 F500.0\\n\".encode())\n",
    "s.readlines()"
   ]
  },
  {
   "cell_type": "code",
   "execution_count": 151,
   "metadata": {},
   "outputs": [
    {
     "data": {
      "text/plain": [
       "6"
      ]
     },
     "execution_count": 151,
     "metadata": {},
     "output_type": "execute_result"
    }
   ],
   "source": [
    "s.write(\"G01 Z+5\\n\".encode())\n",
    "s.write(\"G01X50\\n\".encode())\n",
    "s.write(\"G01Y50\\n\".encode())\n",
    "s.write(\"G01X-50\\n\".encode())\n",
    "s.write(\"G01Y-50\\n\".encode())\n",
    "s.write(\"G01Z-5\\n\".encode())"
   ]
  },
  {
   "cell_type": "code",
   "execution_count": 167,
   "metadata": {},
   "outputs": [
    {
     "data": {
      "text/plain": [
       "[b'ok\\r\\n', b'ok\\r\\n']"
      ]
     },
     "execution_count": 167,
     "metadata": {},
     "output_type": "execute_result"
    }
   ],
   "source": [
    "s.flushInput()\n",
    "s.write(\"G1 F500.0\\n\".encode())\n",
    "s.write(\"G0 F1000.0\\n\".encode())\n",
    "\n",
    "s.readlines()"
   ]
  },
  {
   "cell_type": "code",
   "execution_count": 155,
   "metadata": {},
   "outputs": [
    {
     "data": {
      "text/plain": [
       "7"
      ]
     },
     "execution_count": 155,
     "metadata": {},
     "output_type": "execute_result"
    }
   ],
   "source": [
    "s.write(\"G00Z-5\\n\".encode())"
   ]
  },
  {
   "cell_type": "code",
   "execution_count": 158,
   "metadata": {},
   "outputs": [
    {
     "data": {
      "text/plain": [
       "7"
      ]
     },
     "execution_count": 158,
     "metadata": {},
     "output_type": "execute_result"
    }
   ],
   "source": [
    "s.write(\"G00X10\\n\".encode())"
   ]
  },
  {
   "cell_type": "code",
   "execution_count": 166,
   "metadata": {},
   "outputs": [
    {
     "data": {
      "text/plain": [
       "6"
      ]
     },
     "execution_count": 166,
     "metadata": {},
     "output_type": "execute_result"
    }
   ],
   "source": [
    "s.write(\"G0X10\\n\".encode())"
   ]
  },
  {
   "cell_type": "code",
   "execution_count": 162,
   "metadata": {},
   "outputs": [
    {
     "data": {
      "text/plain": [
       "[b'ok\\r\\n']"
      ]
     },
     "execution_count": 162,
     "metadata": {},
     "output_type": "execute_result"
    }
   ],
   "source": [
    "s.readlines()"
   ]
  },
  {
   "cell_type": "code",
   "execution_count": 168,
   "metadata": {},
   "outputs": [
    {
     "data": {
      "text/plain": [
       "7"
      ]
     },
     "execution_count": 168,
     "metadata": {},
     "output_type": "execute_result"
    }
   ],
   "source": [
    "s.write(\"G01 Z+5\\n\".encode())\n",
    "s.write(\"G01X50\\n\".encode())\n",
    "s.write(\"G01Y50\\n\".encode())\n",
    "s.write(\"G01X-50\\n\".encode())\n",
    "s.write(\"G01Y-50\\n\".encode())\n",
    "s.write(\"G01Z-5\\n\".encode())"
   ]
  },
  {
   "cell_type": "code",
   "execution_count": 170,
   "metadata": {},
   "outputs": [
    {
     "data": {
      "text/plain": [
       "9"
      ]
     },
     "execution_count": 170,
     "metadata": {},
     "output_type": "execute_result"
    }
   ],
   "source": [
    "s.write(\"G01Y-500\\n\".encode())\n"
   ]
  },
  {
   "cell_type": "code",
   "execution_count": null,
   "metadata": {
    "collapsed": true
   },
   "outputs": [],
   "source": []
  }
 ],
 "metadata": {
  "kernelspec": {
   "display_name": "Python 3",
   "language": "python",
   "name": "python3"
  },
  "language_info": {
   "codemirror_mode": {
    "name": "ipython",
    "version": 3
   },
   "file_extension": ".py",
   "mimetype": "text/x-python",
   "name": "python",
   "nbconvert_exporter": "python",
   "pygments_lexer": "ipython3",
   "version": "3.5.2"
  }
 },
 "nbformat": 4,
 "nbformat_minor": 2
}
