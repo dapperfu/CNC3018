{
 "cells": [
  {
   "cell_type": "markdown",
   "metadata": {},
   "source": [
    "GRBL Settings"
   ]
  },
  {
   "cell_type": "code",
   "execution_count": 1,
   "metadata": {},
   "outputs": [],
   "source": [
    "%load_ext autoreload\n",
    "%autoreload 1"
   ]
  },
  {
   "cell_type": "code",
   "execution_count": 2,
   "metadata": {},
   "outputs": [
    {
     "name": "stdout",
     "output_type": "stream",
     "text": [
      "Overwriting GRBL.py\n"
     ]
    }
   ],
   "source": [
    "%%file GRBL.py\n",
    "import serial\n",
    "class GRBL(object):\n",
    "    BAUDRATE = 115200\n",
    "    \n",
    "    def __init__(self, port):\n",
    "        self.serial = serial.Serial(port=port,\n",
    "                                    baudrate=GRBL.BAUDRATE,\n",
    "                                    timeout=0.10)\n",
    "        \n",
    "    def write(self, command_line=\"\"):\n",
    "        self.serial.flushInput()\n",
    "        self.serial.write(\"\\n\".encode())\n",
    "        self.serial.write(\"{cmd}\\n\".format(cmd=command_line).encode())\n",
    "        \n",
    "    def read(self, multiline=True):\n",
    "        if multiline:\n",
    "            responses = self.serial.readlines()\n",
    "            responses = [response.decode().strip() for response in responses]\n",
    "            return responses\n",
    "        else:\n",
    "            response = self.serial.readline()\n",
    "            return response.decode().strip()\n",
    " \n",
    "    def cmd(self, command_line, resp=True, multiline=True):\n",
    "        self.write(command_line)\n",
    "        if resp:\n",
    "            return self.read(multiline=multiline)\n",
    "        return None\n",
    "    \n",
    "    def reset(self):\n",
    "        \"\"\" https://github.com/gnea/grbl/wiki/Grbl-v1.1-Commands#grbl-v11-realtime-commands\n",
    "        \"\"\"\n",
    "        ret = self.cmd(\"\\x18\")\n",
    "        assert(ret[-1]=='ok')\n",
    "        \n",
    "    def sleep(self):\n",
    "        \"\"\" https://github.com/gnea/grbl/wiki/Grbl-v1.1-Commands#slp---enable-sleep-mode\n",
    "        \"\"\"\n",
    "        ret = self.cmd(\"$SLP\")\n",
    "        assert(ret[-1]=='ok')\n",
    "    \n",
    "    @property\n",
    "    def status(self):\n",
    "        \"\"\"\n",
    "        \"\"\"\n",
    "        ret = self.cmd(\"?\")\n",
    "        assert(ret[-1]=='ok')\n",
    "        return ret[1]\n",
    "        \n",
    "    def kill_alarm(self):\n",
    "        \"\"\" https://github.com/gnea/grbl/wiki/Grbl-v1.1-Commands#x---kill-alarm-lock\n",
    "        \"\"\"\n",
    "        ret = self.cmd(\"$X\")\n",
    "        assert(ret[-1]=='ok')\n",
    "        \n",
    "    def home(self):\n",
    "        \"\"\" https://github.com/gnea/grbl/wiki/Grbl-v1.1-Commands#h---run-homing-cycle\n",
    "        \"\"\"\n",
    "        self.write(\"$H\")\n",
    "        assert(ret[-1]=='ok')\n",
    "        \n",
    "# https://github.com/gnea/grbl/wiki/Grbl-v1.1-Configuration#---view-grbl-settings\n",
    "settings = [\n",
    "    (\"$0\", \"step_pulse\"),\n",
    "    (\"$1\", \"step_idle_delay\"),\n",
    "    (\"$2\", \"step_port_invert\"),\n",
    "    (\"$3\", \"direction_port_invert\"),\n",
    "    (\"$4\", \"step_enable_invert\"),\n",
    "    (\"$5\", \"limit_pin_invert\"),\n",
    "    (\"$6\", \"probe_pin_invert\"),\n",
    "    (\"$10\", \"status_report\"),\n",
    "    (\"$11\", \"junction_deviation\"),\n",
    "    (\"$12\", \"arc_tolerance\"),\n",
    "    (\"$13\", \"report_inches\"),\n",
    "    (\"$20\", \"soft_limits\"),\n",
    "    (\"$21\", \"hard_limits\"),\n",
    "    (\"$22\", \"homing_cycle\"),\n",
    "    (\"$23\", \"homing_dir_invert\"),\n",
    "    (\"$24\", \"homing_feed\"),\n",
    "    (\"$25\", \"homing_seek\"),\n",
    "    (\"$26\", \"homing_debounce\"),\n",
    "    (\"$27\", \"homing_pull_off\"),\n",
    "    (\"$30\", \"max_spindle_speed\"),\n",
    "    (\"$31\", \"min_spindle_speed\"),\n",
    "    (\"$32\", \"laser_mode\"),\n",
    "    (\"$100\", \"x_steps_mm\"),\n",
    "    (\"$101\", \"y_steps_mm\"),\n",
    "    (\"$102\", \"z_steps_mm\"),\n",
    "    (\"$110\", \"x_max_rate\"),\n",
    "    (\"$111\", \"y_max_rate\"),\n",
    "    (\"$112\", \"z_max_rate\"),\n",
    "    (\"$120\", \"x_acceleration\"),\n",
    "    (\"$121\", \"y_acceleration\"),\n",
    "    (\"$122\", \"z_acceleration\"),\n",
    "    (\"$130\", \"x_travel\"),\n",
    "    (\"$131\", \"y_travel\"),\n",
    "    (\"$132\", \"z_travel\"),\n",
    "    ]\n",
    "\n",
    "def grbl_getter_generator(cmd):\n",
    "    def grbl_getter(self):\n",
    "        config = self.cmd(\"$$\", resp=True, multiline=True)\n",
    "        for config_line in config:\n",
    "            if config_line.startswith(\"$\"):\n",
    "                key, value = config_line.split(\"=\")\n",
    "                if key == cmd:\n",
    "                    return float(value)\n",
    "        return None\n",
    "    return grbl_getter\n",
    "    \n",
    "def grbl_setter_generator(cmd):\n",
    "    def grbl_setter(self, value):\n",
    "        set_cmd = \"{cmd}={value}\".format(cmd=cmd, value=value)\n",
    "        ret = self.cmd(set_cmd, resp=True, multiline=False)\n",
    "        print(ret)\n",
    "        \n",
    "    return grbl_setter\n",
    "\n",
    "for setting in settings:\n",
    "    cmd = setting[0]\n",
    "    name = setting[1]\n",
    "    \n",
    "    setter = grbl_setter_generator(cmd)\n",
    "    getter = grbl_getter_generator(cmd)\n",
    "    \n",
    "    prop = property(fget=getter,\n",
    "                    fset=setter,\n",
    "                    doc=\" \".join(name.split(\"_\")))\n",
    "    \n",
    "    setattr(GRBL, name, prop)\n",
    "    \n",
    "# https://github.com/gnea/grbl/wiki/Grbl-v1.1-Commands#---view-gcode-parameters\n",
    "gcode_parameters = [\n",
    "    \"G54\",\n",
    "    \"G55\",\n",
    "    \"G56\",\n",
    "    \"G57\",\n",
    "    \"G58\",\n",
    "    \"G59\",\n",
    "    \"G28\",\n",
    "    \"G30\",\n",
    "    \"G92\",\n",
    "    \"TLO\",\n",
    "    \"PRB\",\n",
    "    ]\n",
    "\n",
    "\n",
    "def gcode_param_gen(parameter):\n",
    "    def gcode_param(self):\n",
    "        gcode_parameters = self.cmd(\"$#\") # View gcode parameters\n",
    "        for gcode_parameter in gcode_parameters: \n",
    "            if parameter in gcode_parameter:\n",
    "                _, value = gcode_parameter.split(\":\")\n",
    "                value = value.strip(\"]\")\n",
    "                values = value.split(\",\")\n",
    "                values = [float(value) for value in values]\n",
    "                \n",
    "                return values\n",
    "        return None\n",
    "    return gcode_param\n",
    "\n",
    "\n",
    "for parameter in gcode_parameters:\n",
    "    fcn = gcode_param_gen(parameter)\n",
    "    prop = property(fget=fcn)\n",
    "    setattr(GRBL, parameter, prop)"
   ]
  },
  {
   "cell_type": "code",
   "execution_count": 3,
   "metadata": {
    "collapsed": true
   },
   "outputs": [],
   "source": [
    "%aimport GRBL"
   ]
  },
  {
   "cell_type": "code",
   "execution_count": 5,
   "metadata": {
    "collapsed": true
   },
   "outputs": [],
   "source": [
    "grbl = GRBL.GRBL(\"/dev/cnc_3018\")"
   ]
  },
  {
   "cell_type": "code",
   "execution_count": 8,
   "metadata": {},
   "outputs": [],
   "source": [
    "grbl.reset()"
   ]
  },
  {
   "cell_type": "code",
   "execution_count": 9,
   "metadata": {},
   "outputs": [
    {
     "data": {
      "text/plain": [
       "['ok', 'ok']"
      ]
     },
     "execution_count": 9,
     "metadata": {},
     "output_type": "execute_result"
    }
   ],
   "source": [
    "# Metric\n",
    "grbl.cmd(\"G21\")\n",
    "# Relative\n",
    "grbl.cmd(\"G91\")"
   ]
  },
  {
   "cell_type": "code",
   "execution_count": 10,
   "metadata": {},
   "outputs": [
    {
     "data": {
      "text/plain": [
       "['ok',\n",
       " '$0=10',\n",
       " '$1=25',\n",
       " '$2=0',\n",
       " '$3=0',\n",
       " '$4=0',\n",
       " '$5=0',\n",
       " '$6=0',\n",
       " '$10=1',\n",
       " '$11=0.010',\n",
       " '$12=0.002',\n",
       " '$13=0',\n",
       " '$20=0',\n",
       " '$21=0',\n",
       " '$22=0',\n",
       " '$23=0',\n",
       " '$24=25.000',\n",
       " '$25=500.000',\n",
       " '$26=250',\n",
       " '$27=1.000',\n",
       " '$30=1000',\n",
       " '$31=0',\n",
       " '$32=1',\n",
       " '$100=250.000',\n",
       " '$101=250.000',\n",
       " '$102=250.000',\n",
       " '$110=500.000',\n",
       " '$111=500.000',\n",
       " '$112=500.000',\n",
       " '$120=10.000',\n",
       " '$121=10.000',\n",
       " '$122=10.000',\n",
       " '$130=200.000',\n",
       " '$131=200.000',\n",
       " '$132=200.000',\n",
       " 'ok']"
      ]
     },
     "execution_count": 10,
     "metadata": {},
     "output_type": "execute_result"
    }
   ],
   "source": [
    "grbl.cmdd(\"$$\")"
   ]
  },
  {
   "cell_type": "code",
   "execution_count": 11,
   "metadata": {},
   "outputs": [],
   "source": [
    "import configparser"
   ]
  },
  {
   "cell_type": "code",
   "execution_count": 13,
   "metadata": {},
   "outputs": [],
   "source": [
    "cfg = configparser.ConfigParser()"
   ]
  },
  {
   "cell_type": "code",
   "execution_count": 14,
   "metadata": {
    "collapsed": true
   },
   "outputs": [],
   "source": [
    "cnc3018 = cfg.add_section(\"CNC_3018\")"
   ]
  },
  {
   "cell_type": "code",
   "execution_count": 19,
   "metadata": {},
   "outputs": [],
   "source": [
    "# https://github.com/gnea/grbl/issues/123#issuecomment-318474119\n",
    "cnc3018_defaults = \"\"\"$0\t10\t(step pulse, usec)\n",
    "$1\t25\t(step idle delay, msec)\n",
    "$2\t0\t(step port invert mask:00000000)\n",
    "$3\t5\t(dir port invert mask:00000101)\n",
    "$4\t0\t(step enable invert, bool)\n",
    "$5\t0\t(limit pins invert, bool)\n",
    "$6\t0\t(probe pin invert, bool)\n",
    "$10\t3\t(status report mask:00000011)\n",
    "$11\t0.010\t(junction deviation, mm)\n",
    "$12\t0.002\t(arc tolerance, mm)\n",
    "$13\t0\t(report inches, bool)\n",
    "$20\t0\t(soft limits, bool)\n",
    "$21\t1\t(hard limits, bool); 1 Enables the limit switches; 0 Disables them\n",
    "$22\t0\t(homing cycle, bool)\n",
    "$23\t0\t(homing dir invert mask:00000000)\n",
    "$24\t25.000\t(homing feed, mm/min)\n",
    "$25\t500.000\t(homing seek, mm/min)\n",
    "$26\t250\t(homing debounce, msec)\n",
    "$27\t1.000\t(homing pull-off, mm)\n",
    "$100\t800.000\t(x, step/mm)\n",
    "$101\t800.000\t(y, step/mm)\n",
    "$102\t800.000\t(z, step/mm)\n",
    "$110\t800.000\t(x max rate, mm/min)\n",
    "$111\t800.000\t(y max rate, mm/min)\n",
    "$112\t500.000\t(z max rate, mm/min)\n",
    "$120\t10.000\t(x accel, mm/sec^2)\n",
    "$121\t10.000\t(y accel, mm/sec^2)\n",
    "$122\t10.000\t(z accel, mm/sec^2)\n",
    "$130\t200.000\t(x max travel, mm)\n",
    "$131\t200.000\t(y max travel, mm)\n",
    "$132\t200.000\t(z max travel, mm)\"\"\""
   ]
  },
  {
   "cell_type": "code",
   "execution_count": 28,
   "metadata": {},
   "outputs": [],
   "source": [
    "for line in cnc3018_defaults.splitlines():\n",
    "    setting, value, comment = line.split(\"\\t\")\n",
    "    cfg[\"CNC_3018\"][setting] = value"
   ]
  },
  {
   "cell_type": "code",
   "execution_count": 31,
   "metadata": {},
   "outputs": [],
   "source": [
    "with open(\"grbl_config.ini\", \"w\") as fid:\n",
    "    cfg.write(fid)"
   ]
  },
  {
   "cell_type": "code",
   "execution_count": 36,
   "metadata": {
    "scrolled": true
   },
   "outputs": [
    {
     "data": {
      "text/plain": [
       "['grbl_config.ini']"
      ]
     },
     "execution_count": 36,
     "metadata": {},
     "output_type": "execute_result"
    }
   ],
   "source": [
    "cfg = configparser.ConfigParser()\n",
    "cfg.read(\"grbl_config.ini\")"
   ]
  },
  {
   "cell_type": "code",
   "execution_count": 39,
   "metadata": {
    "scrolled": true
   },
   "outputs": [],
   "source": [
    "machine_settings = cfg[\"CNC_3018\"]"
   ]
  },
  {
   "cell_type": "code",
   "execution_count": 48,
   "metadata": {},
   "outputs": [],
   "source": [
    "for setting, value in machine_settings.items():\n",
    "    grbl.cmd(\"{}={}\".format(setting, value))"
   ]
  },
  {
   "cell_type": "code",
   "execution_count": 49,
   "metadata": {},
   "outputs": [
    {
     "data": {
      "text/plain": [
       "['ok',\n",
       " '$0=10',\n",
       " '$1=25',\n",
       " '$2=0',\n",
       " '$3=5',\n",
       " '$4=0',\n",
       " '$5=0',\n",
       " '$6=0',\n",
       " '$10=3',\n",
       " '$11=0.010',\n",
       " '$12=0.002',\n",
       " '$13=0',\n",
       " '$20=0',\n",
       " '$21=1',\n",
       " '$22=0',\n",
       " '$23=0',\n",
       " '$24=25.000',\n",
       " '$25=500.000',\n",
       " '$26=250',\n",
       " '$27=1.000',\n",
       " '$30=1000',\n",
       " '$31=0',\n",
       " '$32=1',\n",
       " '$100=800.000',\n",
       " '$101=800.000',\n",
       " '$102=800.000',\n",
       " '$110=800.000',\n",
       " '$111=800.000',\n",
       " '$112=500.000',\n",
       " '$120=10.000',\n",
       " '$121=10.000',\n",
       " '$122=10.000',\n",
       " '$130=200.000',\n",
       " '$131=200.000',\n",
       " '$132=200.000',\n",
       " 'ok']"
      ]
     },
     "execution_count": 49,
     "metadata": {},
     "output_type": "execute_result"
    }
   ],
   "source": [
    "grbl.cmd(\"$$\")"
   ]
  },
  {
   "cell_type": "code",
   "execution_count": 51,
   "metadata": {},
   "outputs": [],
   "source": [
    "grbl.reset()"
   ]
  },
  {
   "cell_type": "code",
   "execution_count": 52,
   "metadata": {},
   "outputs": [
    {
     "data": {
      "text/plain": [
       "['ok',\n",
       " '$0=10',\n",
       " '$1=25',\n",
       " '$2=0',\n",
       " '$3=5',\n",
       " '$4=0',\n",
       " '$5=0',\n",
       " '$6=0',\n",
       " '$10=3',\n",
       " '$11=0.010',\n",
       " '$12=0.002',\n",
       " '$13=0',\n",
       " '$20=0',\n",
       " '$21=1',\n",
       " '$22=0',\n",
       " '$23=0',\n",
       " '$24=25.000',\n",
       " '$25=500.000',\n",
       " '$26=250',\n",
       " '$27=1.000',\n",
       " '$30=1000',\n",
       " '$31=0',\n",
       " '$32=1',\n",
       " '$100=800.000',\n",
       " '$101=800.000',\n",
       " '$102=800.000',\n",
       " '$110=800.000',\n",
       " '$111=800.000',\n",
       " '$112=500.000',\n",
       " '$120=10.000',\n",
       " '$121=10.000',\n",
       " '$122=10.000',\n",
       " '$130=200.000',\n",
       " '$131=200.000',\n",
       " '$132=200.000',\n",
       " 'ok']"
      ]
     },
     "execution_count": 52,
     "metadata": {},
     "output_type": "execute_result"
    }
   ],
   "source": [
    "grbl.cmd(\"$$\")"
   ]
  },
  {
   "cell_type": "code",
   "execution_count": 53,
   "metadata": {},
   "outputs": [
    {
     "data": {
      "text/plain": [
       "['ok', 'ok']"
      ]
     },
     "execution_count": 53,
     "metadata": {},
     "output_type": "execute_result"
    }
   ],
   "source": [
    "grbl.cmd(\"M3 S1\")"
   ]
  }
 ],
 "metadata": {
  "kernelspec": {
   "display_name": "Python 3",
   "language": "python",
   "name": "python3"
  },
  "language_info": {
   "codemirror_mode": {
    "name": "ipython",
    "version": 3
   },
   "file_extension": ".py",
   "mimetype": "text/x-python",
   "name": "python",
   "nbconvert_exporter": "python",
   "pygments_lexer": "ipython3",
   "version": "3.5.2"
  }
 },
 "nbformat": 4,
 "nbformat_minor": 2
}
