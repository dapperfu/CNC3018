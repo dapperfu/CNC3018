{
 "cells": [
  {
   "cell_type": "markdown",
   "metadata": {},
   "source": [
    "Reading the GRBL instructions then the Marlin lead to a rabbit's hole of G-Code.\n",
    "\n",
    "http://reprap.org/wiki/G-code"
   ]
  },
  {
   "cell_type": "code",
   "execution_count": 1,
   "metadata": {
    "collapsed": true
   },
   "outputs": [],
   "source": [
    "flavors = [\"GRBL\", \"Marlin\", \"RS274\"]"
   ]
  },
  {
   "cell_type": "markdown",
   "metadata": {},
   "source": [
    "[GRBL](https://github.com/gnea/grbl/wiki) - An open source, embedded, high performance g-code-parser and CNC milling controller written in optimized C that will run on a straight Arduino\n",
    "\n",
    "[Marlin](http://marlinfw.org/) - Open Source 3D Printer Firmware\n",
    "\n",
    "[NIST RS274NGC Interpreter - Version 3](http://ws680.nist.gov/publication/get_pdf.cfm?pub_id=823374) - The real deal.\n",
    "\n",
    "        Intelligent Systems Division\n",
    "        National Institute of Standards and Technology\n",
    "        Technology Administration\n",
    "        U.S. Department of Commerce\n",
    "        Gaithersburg, Maryland 20899"
   ]
  },
  {
   "cell_type": "markdown",
   "metadata": {},
   "source": [
    "Starting point."
   ]
  },
  {
   "cell_type": "markdown",
   "metadata": {},
   "source": [
    "### V0.01"
   ]
  },
  {
   "cell_type": "code",
   "execution_count": 2,
   "metadata": {
    "collapsed": true
   },
   "outputs": [],
   "source": [
    "class GCode(object):\n",
    "    pass\n",
    "\n",
    "class GRBL(GCode):\n",
    "    pass\n",
    "\n",
    "class Marlin(GCode):\n",
    "    pass\n",
    "\n",
    "class RS274(GCode):\n",
    "    pass"
   ]
  },
  {
   "cell_type": "markdown",
   "metadata": {},
   "source": [
    "Compare & Contrast."
   ]
  },
  {
   "cell_type": "code",
   "execution_count": 3,
   "metadata": {
    "collapsed": true
   },
   "outputs": [],
   "source": [
    "x=dict()\n",
    "x[\"a\"]=1\n",
    "x[\"2\"]=2"
   ]
  },
  {
   "cell_type": "code",
   "execution_count": 4,
   "metadata": {},
   "outputs": [
    {
     "data": {
      "text/plain": [
       "dict_keys(['a', '2'])"
      ]
     },
     "execution_count": 4,
     "metadata": {},
     "output_type": "execute_result"
    }
   ],
   "source": [
    "x.keys()"
   ]
  },
  {
   "cell_type": "code",
   "execution_count": 5,
   "metadata": {},
   "outputs": [
    {
     "data": {
      "text/plain": [
       "dict_values([1, 2])"
      ]
     },
     "execution_count": 5,
     "metadata": {},
     "output_type": "execute_result"
    }
   ],
   "source": [
    "x.values()"
   ]
  },
  {
   "cell_type": "markdown",
   "metadata": {},
   "source": [
    "### V0.02"
   ]
  },
  {
   "cell_type": "code",
   "execution_count": 6,
   "metadata": {
    "collapsed": true
   },
   "outputs": [],
   "source": [
    "class GCode(object):\n",
    "    def do(self, cmd, **kwargs):\n",
    "        args = list()\n",
    "        for key, value in kwargs.items():\n",
    "            args.append(\"{key}{value}\".format(key=key, value=value))\n",
    "        \n",
    "        print(\"{cmd} {args}\".format(cmd=cmd, args=\" \".join(args)))"
   ]
  },
  {
   "cell_type": "code",
   "execution_count": 7,
   "metadata": {},
   "outputs": [
    {
     "name": "stdout",
     "output_type": "stream",
     "text": [
      "G0 Y0 Z0 X0\n"
     ]
    }
   ],
   "source": [
    "machine = GCode()\n",
    "machine.do(\"G0\", X=0, Y=0, Z=0)"
   ]
  },
  {
   "cell_type": "code",
   "execution_count": 8,
   "metadata": {},
   "outputs": [
    {
     "name": "stdout",
     "output_type": "stream",
     "text": [
      "G1 Y10 Z10 X10\n"
     ]
    }
   ],
   "source": [
    "machine = GCode()\n",
    "machine.do(\"G1\", X=10, Y=10, Z=10)"
   ]
  },
  {
   "cell_type": "code",
   "execution_count": 9,
   "metadata": {},
   "outputs": [
    {
     "name": "stdout",
     "output_type": "stream",
     "text": [
      "G1 Y0 X0\n",
      "G1 Y0 X10\n",
      "G1 Y10 X10\n",
      "G1 Y10 X0\n",
      "G1 Y0 X0\n"
     ]
    }
   ],
   "source": [
    "machine = GCode()\n",
    "# Draw a 10x10 Square.\n",
    "machine.do(\"G1\", X=0, Y=0)\n",
    "machine.do(\"G1\", X=10, Y=0)\n",
    "machine.do(\"G1\", X=10, Y=10)\n",
    "machine.do(\"G1\", X=0, Y=10)\n",
    "machine.do(\"G1\", X=0, Y=0)"
   ]
  },
  {
   "cell_type": "markdown",
   "metadata": {},
   "source": [
    "### V0.03"
   ]
  },
  {
   "cell_type": "code",
   "execution_count": 10,
   "metadata": {
    "collapsed": true
   },
   "outputs": [],
   "source": [
    "class GCode(object):\n",
    "    def do(self, cmd, **kwargs):\n",
    "        args = list()\n",
    "        for key, value in kwargs.items():\n",
    "            args.append(\"{key}{value}\".format(key=key, value=value))\n",
    "        \n",
    "        print(\"{cmd} {args}\".format(cmd=cmd, args=\" \".join(args)))\n",
    "        \n",
    "    def G0(self, **kwargs):\n",
    "        self.do(\"G0\", **kwargs)\n",
    "    def G1(self, **kwargs):\n",
    "        self.do(\"G1\", **kwargs)\n",
    "    def G2(self, **kwargs):\n",
    "        self.do(\"G2\", **kwargs)\n",
    "    def G3(self, **kwargs):\n",
    "        self.do(\"G3\", **kwargs)"
   ]
  },
  {
   "cell_type": "code",
   "execution_count": 11,
   "metadata": {},
   "outputs": [
    {
     "name": "stdout",
     "output_type": "stream",
     "text": [
      "G1 Y10 X0\n"
     ]
    }
   ],
   "source": [
    "machine = GCode()\n",
    "\n",
    "machine.G1(X=0, Y=10)"
   ]
  },
  {
   "cell_type": "code",
   "execution_count": 12,
   "metadata": {},
   "outputs": [
    {
     "name": "stdout",
     "output_type": "stream",
     "text": [
      "G2 Y10 X0\n"
     ]
    }
   ],
   "source": [
    "machine.G2(X=0, Y=10)"
   ]
  },
  {
   "cell_type": "markdown",
   "metadata": {},
   "source": [
    "#### V0.031\n",
    "\n",
    "That was going to get old very fast."
   ]
  },
  {
   "cell_type": "code",
   "execution_count": 13,
   "metadata": {},
   "outputs": [
    {
     "name": "stdout",
     "output_type": "stream",
     "text": [
      "['G0', 'G1', 'G20', 'G21', 'G28', 'M0', 'M1', 'M2', 'M3', 'M4', 'M5', 'M6']\n"
     ]
    }
   ],
   "source": [
    "# Good core to start with.\n",
    "commands = [\"G0\", \"G1\", \"G20\", \"G21\", \"G28\"]\n",
    "# Add in tool codes.\n",
    "for code in [0, 1, 2, 3, 4, 5, 6]:\n",
    "    commands.append(\"M{code}\".format(code=code))\n",
    "# Commands to implement.\n",
    "print(commands)"
   ]
  },
  {
   "cell_type": "code",
   "execution_count": 14,
   "metadata": {
    "collapsed": true
   },
   "outputs": [],
   "source": [
    "class GCode(object):\n",
    "    def do(self, cmd, **kwargs):\n",
    "        args = list()\n",
    "        for key, value in kwargs.items():\n",
    "            args.append(\"{key}{value}\".format(key=key, value=value))\n",
    "        \n",
    "        print(\"{cmd} {args}\".format(cmd=cmd, args=\" \".join(args)))\n",
    "\n",
    "def cmd_factory(cmd):\n",
    "    def cmd_fcn(self, **kwargs):\n",
    "        self.do(cmd, **kwargs)\n",
    "    return cmd_fcn"
   ]
  },
  {
   "cell_type": "code",
   "execution_count": 15,
   "metadata": {},
   "outputs": [
    {
     "data": {
      "text/plain": [
       "<__main__.GCode at 0x7f638445fc88>"
      ]
     },
     "execution_count": 15,
     "metadata": {},
     "output_type": "execute_result"
    }
   ],
   "source": [
    "machine = GCode()\n",
    "machine"
   ]
  },
  {
   "cell_type": "code",
   "execution_count": 16,
   "metadata": {},
   "outputs": [
    {
     "data": {
      "text/plain": [
       "<function __main__.cmd_factory.<locals>.cmd_fcn>"
      ]
     },
     "execution_count": 16,
     "metadata": {},
     "output_type": "execute_result"
    }
   ],
   "source": [
    "G0 = cmd_factory(\"G0\")\n",
    "G0"
   ]
  },
  {
   "cell_type": "code",
   "execution_count": 17,
   "metadata": {},
   "outputs": [
    {
     "name": "stdout",
     "output_type": "stream",
     "text": [
      "G0 Y0 X0\n"
     ]
    }
   ],
   "source": [
    "G0(machine, X=0, Y=0)"
   ]
  },
  {
   "cell_type": "code",
   "execution_count": 18,
   "metadata": {},
   "outputs": [
    {
     "name": "stdout",
     "output_type": "stream",
     "text": [
      "G0\n",
      "G1\n",
      "G20\n",
      "G21\n",
      "G28\n",
      "M0\n",
      "M1\n",
      "M2\n",
      "M3\n",
      "M4\n",
      "M5\n",
      "M6\n"
     ]
    }
   ],
   "source": [
    "class GCode(object):\n",
    "    def do(self, cmd, **kwargs):\n",
    "        args = list()\n",
    "        for key, value in kwargs.items():\n",
    "            args.append(\"{key}{value}\".format(key=key, value=value))\n",
    "        \n",
    "        print(\"{cmd} {args}\".format(cmd=cmd, args=\" \".join(args)))\n",
    "\n",
    "def cmd_factory(cmd):\n",
    "    def cmd_fcn(self, **kwargs):\n",
    "        self.do(cmd, **kwargs)\n",
    "    return cmd_fcn\n",
    "\n",
    "for command in commands:\n",
    "    print(command)\n",
    "    setattr(GCode, command, cmd_factory(command))"
   ]
  },
  {
   "cell_type": "code",
   "execution_count": 19,
   "metadata": {
    "collapsed": true
   },
   "outputs": [],
   "source": [
    "machine = GCode()"
   ]
  },
  {
   "cell_type": "code",
   "execution_count": 20,
   "metadata": {},
   "outputs": [
    {
     "name": "stdout",
     "output_type": "stream",
     "text": [
      "G0 X0\n"
     ]
    }
   ],
   "source": [
    "machine.G0(X=0)"
   ]
  },
  {
   "cell_type": "code",
   "execution_count": 21,
   "metadata": {},
   "outputs": [
    {
     "name": "stdout",
     "output_type": "stream",
     "text": [
      "G1 X0\n"
     ]
    }
   ],
   "source": [
    "machine.G1(X=0)"
   ]
  },
  {
   "cell_type": "code",
   "execution_count": 22,
   "metadata": {},
   "outputs": [
    {
     "name": "stdout",
     "output_type": "stream",
     "text": [
      "M3 S100\n"
     ]
    }
   ],
   "source": [
    "machine.M3(S=100)"
   ]
  },
  {
   "cell_type": "code",
   "execution_count": 23,
   "metadata": {},
   "outputs": [
    {
     "name": "stdout",
     "output_type": "stream",
     "text": [
      "G0 X0\n"
     ]
    }
   ],
   "source": [
    "machine.G0(X=0)"
   ]
  },
  {
   "cell_type": "code",
   "execution_count": 24,
   "metadata": {},
   "outputs": [
    {
     "name": "stdout",
     "output_type": "stream",
     "text": [
      "G0 X0\n",
      "G0 X10\n",
      "G0 X20\n",
      "G0 X30\n",
      "G0 X40\n",
      "G0 X50\n",
      "G0 X60\n",
      "G0 X70\n",
      "G0 X80\n",
      "G0 X90\n"
     ]
    }
   ],
   "source": [
    "for X in range(0, 100, 10):\n",
    "    machine.G0(X=X)"
   ]
  },
  {
   "cell_type": "markdown",
   "metadata": {},
   "source": [
    "#### V0.05"
   ]
  },
  {
   "cell_type": "code",
   "execution_count": 89,
   "metadata": {
    "collapsed": true
   },
   "outputs": [],
   "source": [
    "class GCode(object):\n",
    "    def __init__(self):\n",
    "        self.linenumbering = False\n",
    "        self.buffer = list()\n",
    "        \n",
    "    @property\n",
    "    def code(self):\n",
    "        if self.linenumbering:\n",
    "            pass\n",
    "        return \"\\n\".join(self.buffer)\n",
    "        \n",
    "    def save(self, filename):\n",
    "        pass\n",
    "    \n",
    "    def send(self):\n",
    "        pass\n",
    "    \n",
    "    def __str__(self):\n",
    "        return self.code\n",
    "\n",
    "    def __repr__(self):\n",
    "        return \"<GCode>[cmds={}]\".format(len(self.buffer))\n",
    "    \n",
    "    def _repr_html_(self):\n",
    "        html = list()\n",
    "        for cmd_line in self.buffer:\n",
    "            cmd, *args = cmd_line.split(\" \")\n",
    "            html_line = \"<b>{cmd}</b> <i>{args}</i>\".format(cmd=cmd, args=\" \".join(args))\n",
    "            html.append(html_line)\n",
    "        return \"<br>\\n\".join(html)\n",
    "    \n",
    "\n",
    "    def cmd_factory(cmd, doc=None):\n",
    "    def cmd_fcn(self, **kwargs):\n",
    "        args = list()\n",
    "        for key, value in kwargs.items():\n",
    "            args.append(\"{key}{value}\".format(key=key, value=value))\n",
    "        \n",
    "        cmd_str = \"{cmd} {args}\".format(cmd=cmd, args=\" \".join(args))\n",
    "        self.buffer.append(cmd_str)  \n",
    "    return cmd_fcn       \n",
    "\n",
    "\n",
    "for command in commands:\n",
    "    setattr(GCode, command, cmd_factory(command))\n",
    "                 \n",
    "                 \n",
    "machine = GCode()\n",
    "machine.G0(X=0)"
   ]
  },
  {
   "cell_type": "code",
   "execution_count": 90,
   "metadata": {},
   "outputs": [
    {
     "data": {
      "text/plain": [
       "['G0 X0']"
      ]
     },
     "execution_count": 90,
     "metadata": {},
     "output_type": "execute_result"
    }
   ],
   "source": [
    "machine.buffer"
   ]
  },
  {
   "cell_type": "code",
   "execution_count": 91,
   "metadata": {},
   "outputs": [
    {
     "data": {
      "application/json": {
       "X": 1,
       "Y": 2
      },
      "text/html": [
       "<b>G0</b> <i>X0</i>"
      ],
      "text/plain": [
       "<GCode>[cmds=1]"
      ]
     },
     "execution_count": 91,
     "metadata": {},
     "output_type": "execute_result"
    }
   ],
   "source": [
    "machine"
   ]
  },
  {
   "cell_type": "code",
   "execution_count": 92,
   "metadata": {
    "collapsed": true
   },
   "outputs": [],
   "source": [
    "machine.G0(X=10)"
   ]
  },
  {
   "cell_type": "code",
   "execution_count": 93,
   "metadata": {},
   "outputs": [
    {
     "name": "stdout",
     "output_type": "stream",
     "text": [
      "G0 X0\n",
      "G0 X10\n"
     ]
    }
   ],
   "source": [
    "print(machine)"
   ]
  },
  {
   "cell_type": "code",
   "execution_count": 94,
   "metadata": {
    "collapsed": true
   },
   "outputs": [],
   "source": [
    "import IPython.display"
   ]
  },
  {
   "cell_type": "code",
   "execution_count": 95,
   "metadata": {},
   "outputs": [
    {
     "data": {
      "text/html": [
       "<b>G0</b> <i>X0</i><br>\n",
       "<b>G0</b> <i>X10</i>"
      ]
     },
     "metadata": {},
     "output_type": "display_data"
    }
   ],
   "source": [
    "IPython.display.display_html(machine)"
   ]
  },
  {
   "cell_type": "code",
   "execution_count": 96,
   "metadata": {},
   "outputs": [
    {
     "data": {
      "application/json": {
       "X": 1,
       "Y": 2
      }
     },
     "metadata": {},
     "output_type": "display_data"
    }
   ],
   "source": [
    "IPython.display.display_json(machine)"
   ]
  },
  {
   "cell_type": "code",
   "execution_count": null,
   "metadata": {
    "collapsed": true
   },
   "outputs": [],
   "source": []
  },
  {
   "cell_type": "markdown",
   "metadata": {},
   "source": [
    "Draw a 100x100mm Rectangle."
   ]
  },
  {
   "cell_type": "code",
   "execution_count": 27,
   "metadata": {
    "collapsed": true
   },
   "outputs": [],
   "source": [
    "machine = GCode()\n"
   ]
  }
 ],
 "metadata": {
  "kernelspec": {
   "display_name": "Python 3",
   "language": "python",
   "name": "python3"
  },
  "language_info": {
   "codemirror_mode": {
    "name": "ipython",
    "version": 3
   },
   "file_extension": ".py",
   "mimetype": "text/x-python",
   "name": "python",
   "nbconvert_exporter": "python",
   "pygments_lexer": "ipython3",
   "version": "3.5.2"
  }
 },
 "nbformat": 4,
 "nbformat_minor": 2
}
