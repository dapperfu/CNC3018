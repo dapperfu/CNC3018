{
 "cells": [
  {
   "cell_type": "code",
   "execution_count": 98,
   "metadata": {},
   "outputs": [
    {
     "name": "stdout",
     "output_type": "stream",
     "text": [
      "The autoreload extension is already loaded. To reload it, use:\n",
      "  %reload_ext autoreload\n"
     ]
    }
   ],
   "source": [
    "%load_ext autoreload\n",
    "%autoreload 1"
   ]
  },
  {
   "cell_type": "code",
   "execution_count": 99,
   "metadata": {},
   "outputs": [
    {
     "name": "stdout",
     "output_type": "stream",
     "text": [
      "Overwriting GRBL.py\n"
     ]
    }
   ],
   "source": [
    "%%file GRBL.py\n",
    "import serial\n",
    "class GRBL(object):\n",
    "    BAUDRATE = 115200\n",
    "    \n",
    "    def __init__(self, port):\n",
    "        self.serial = serial.Serial(port=port,\n",
    "                                    baudrate=GRBL.BAUDRATE,\n",
    "                                    timeout=0.10)\n",
    "        \n",
    "    def write(self, command_line=\"\"):\n",
    "        self.serial.flushInput()\n",
    "        self.serial.write(\"\\n\".encode())\n",
    "        self.serial.write(\"{cmd}\\n\".format(cmd=command_line).encode())\n",
    "        \n",
    "    def read(self, multiline=True):\n",
    "        if multiline:\n",
    "            responses = self.serial.readlines()\n",
    "            responses = [response.decode().strip() for response in responses]\n",
    "            return responses\n",
    "        else:\n",
    "            response = self.serial.readline()\n",
    "            return response.decode().strip()\n",
    " \n",
    "    def cmd(self, command_line, resp=True, multiline=True):\n",
    "        self.write(command_line)\n",
    "        if resp:\n",
    "            return self.read(multiline=multiline)\n",
    "        return None\n",
    "    \n",
    "    def reset(self):\n",
    "        \"\"\" https://github.com/gnea/grbl/wiki/Grbl-v1.1-Commands#grbl-v11-realtime-commands\n",
    "        \"\"\"\n",
    "        ret = self.cmd(\"\\x18\")\n",
    "        assert(ret[-1]=='ok')\n",
    "        \n",
    "    def sleep(self):\n",
    "        \"\"\" https://github.com/gnea/grbl/wiki/Grbl-v1.1-Commands#slp---enable-sleep-mode\n",
    "        \"\"\"\n",
    "        ret = self.cmd(\"$SLP\")\n",
    "        assert(ret[-1]=='ok')\n",
    "    \n",
    "    @property\n",
    "    def status(self):\n",
    "        \"\"\"\n",
    "        \"\"\"\n",
    "        ret = self.cmd(\"?\")\n",
    "        assert(ret[-1]=='ok')\n",
    "        return ret[1]\n",
    "        \n",
    "    def kill_alarm(self):\n",
    "        \"\"\" https://github.com/gnea/grbl/wiki/Grbl-v1.1-Commands#x---kill-alarm-lock\n",
    "        \"\"\"\n",
    "        ret = self.cmd(\"$X\")\n",
    "        assert(ret[-1]=='ok')\n",
    "        \n",
    "    def home(self):\n",
    "        \"\"\" https://github.com/gnea/grbl/wiki/Grbl-v1.1-Commands#h---run-homing-cycle\n",
    "        \"\"\"\n",
    "        self.write(\"$H\")\n",
    "        assert(ret[-1]=='ok')\n",
    "        \n",
    "# https://github.com/gnea/grbl/wiki/Grbl-v1.1-Configuration#---view-grbl-settings\n",
    "settings = [\n",
    "    (\"$0\", \"step_pulse\"),\n",
    "    (\"$1\", \"step_idle_delay\"),\n",
    "    (\"$2\", \"step_port_invert\"),\n",
    "    (\"$3\", \"direction_port_invert\"),\n",
    "    (\"$4\", \"step_enable_invert\"),\n",
    "    (\"$5\", \"limit_pin_invert\"),\n",
    "    (\"$6\", \"probe_pin_invert\"),\n",
    "    (\"$10\", \"status_report\"),\n",
    "    (\"$11\", \"junction_deviation\"),\n",
    "    (\"$12\", \"arc_tolerance\"),\n",
    "    (\"$13\", \"report_inches\"),\n",
    "    (\"$20\", \"soft_limits\"),\n",
    "    (\"$21\", \"hard_limits\"),\n",
    "    (\"$22\", \"homing_cycle\"),\n",
    "    (\"$23\", \"homing_dir_invert\"),\n",
    "    (\"$24\", \"homing_feed\"),\n",
    "    (\"$25\", \"homing_seek\"),\n",
    "    (\"$26\", \"homing_debounce\"),\n",
    "    (\"$27\", \"homing_pull_off\"),\n",
    "    (\"$30\", \"max_spindle_speed\"),\n",
    "    (\"$31\", \"min_spindle_speed\"),\n",
    "    (\"$32\", \"laser_mode\"),\n",
    "    (\"$100\", \"x_steps_mm\"),\n",
    "    (\"$101\", \"y_steps_mm\"),\n",
    "    (\"$102\", \"z_steps_mm\"),\n",
    "    (\"$110\", \"x_max_rate\"),\n",
    "    (\"$111\", \"y_max_rate\"),\n",
    "    (\"$112\", \"z_max_rate\"),\n",
    "    (\"$120\", \"x_acceleration\"),\n",
    "    (\"$121\", \"y_acceleration\"),\n",
    "    (\"$122\", \"z_acceleration\"),\n",
    "    (\"$130\", \"x_travel\"),\n",
    "    (\"$131\", \"y_travel\"),\n",
    "    (\"$132\", \"z_travel\"),\n",
    "    ]\n",
    "\n",
    "def grbl_getter_generator(cmd):\n",
    "    def grbl_getter(self):\n",
    "        config = self.cmd(\"$$\", resp=True, multiline=True)\n",
    "        for config_line in config:\n",
    "            if config_line.startswith(\"$\"):\n",
    "                key, value = config_line.split(\"=\")\n",
    "                if key == cmd:\n",
    "                    return float(value)\n",
    "        return None\n",
    "    return grbl_getter\n",
    "    \n",
    "def grbl_setter_generator(cmd):\n",
    "    def grbl_setter(self, value):\n",
    "        set_cmd = \"{cmd}={value}\".format(cmd=cmd, value=value)\n",
    "        ret = self.cmd(set_cmd, resp=True, multiline=False)\n",
    "        print(ret)\n",
    "        \n",
    "    return grbl_setter\n",
    "\n",
    "for setting in settings:\n",
    "    cmd = setting[0]\n",
    "    name = setting[1]\n",
    "    \n",
    "    setter = grbl_setter_generator(cmd)\n",
    "    getter = grbl_getter_generator(cmd)\n",
    "    \n",
    "    prop = property(fget=getter,\n",
    "                    fset=setter,\n",
    "                    doc=\" \".join(name.split(\"_\")))\n",
    "    \n",
    "    setattr(GRBL, name, prop)\n",
    "    \n",
    "# https://github.com/gnea/grbl/wiki/Grbl-v1.1-Commands#---view-gcode-parameters\n",
    "gcode_parameters = [\n",
    "    \"G54\",\n",
    "    \"G55\",\n",
    "    \"G56\",\n",
    "    \"G57\",\n",
    "    \"G58\",\n",
    "    \"G59\",\n",
    "    \"G28\",\n",
    "    \"G30\",\n",
    "    \"G92\",\n",
    "    \"TLO\",\n",
    "    \"PRB\",\n",
    "    ]\n",
    "\n",
    "\n",
    "def gcode_param_gen(parameter):\n",
    "    def gcode_param(self):\n",
    "        gcode_parameters = self.cmd(\"$#\") # View gcode parameters\n",
    "        for gcode_parameter in gcode_parameters: \n",
    "            if parameter in gcode_parameter:\n",
    "                _, value = gcode_parameter.split(\":\")\n",
    "                value = value.strip(\"]\")\n",
    "                values = value.split(\",\")\n",
    "                values = [float(value) for value in values]\n",
    "                \n",
    "                return values\n",
    "        return None\n",
    "    return gcode_param\n",
    "\n",
    "\n",
    "for parameter in gcode_parameters:\n",
    "    fcn = gcode_param_gen(parameter)\n",
    "    prop = property(fget=fcn)\n",
    "    setattr(GRBL, parameter, prop)"
   ]
  },
  {
   "cell_type": "code",
   "execution_count": 48,
   "metadata": {
    "collapsed": true
   },
   "outputs": [],
   "source": [
    "%aimport GRBL"
   ]
  },
  {
   "cell_type": "code",
   "execution_count": 68,
   "metadata": {
    "collapsed": true
   },
   "outputs": [],
   "source": [
    "grbl.serial.close()"
   ]
  },
  {
   "cell_type": "code",
   "execution_count": 69,
   "metadata": {
    "collapsed": true
   },
   "outputs": [],
   "source": [
    "grbl = GRBL.GRBL(\"/dev/cnc_3018\")"
   ]
  },
  {
   "cell_type": "code",
   "execution_count": 71,
   "metadata": {
    "collapsed": true
   },
   "outputs": [],
   "source": [
    "grbl.reset()"
   ]
  },
  {
   "cell_type": "code",
   "execution_count": 72,
   "metadata": {},
   "outputs": [
    {
     "data": {
      "text/plain": [
       "['ok', 'ok']"
      ]
     },
     "execution_count": 72,
     "metadata": {},
     "output_type": "execute_result"
    }
   ],
   "source": [
    "# Metric\n",
    "grbl.cmd(\"G21\")\n",
    "# Relative\n",
    "grbl.cmd(\"G91\")"
   ]
  },
  {
   "cell_type": "markdown",
   "metadata": {},
   "source": [
    "# \"Laser\""
   ]
  },
  {
   "cell_type": "code",
   "execution_count": 73,
   "metadata": {},
   "outputs": [
    {
     "data": {
      "text/plain": [
       "1.0"
      ]
     },
     "execution_count": 73,
     "metadata": {},
     "output_type": "execute_result"
    }
   ],
   "source": [
    "grbl.laser_mode"
   ]
  },
  {
   "cell_type": "code",
   "execution_count": 74,
   "metadata": {},
   "outputs": [
    {
     "name": "stdout",
     "output_type": "stream",
     "text": [
      "ok\n"
     ]
    }
   ],
   "source": [
    "grbl.laser_mode=1"
   ]
  },
  {
   "cell_type": "code",
   "execution_count": 75,
   "metadata": {
    "collapsed": true
   },
   "outputs": [],
   "source": [
    "g = grbl.cmd"
   ]
  },
  {
   "cell_type": "code",
   "execution_count": 76,
   "metadata": {},
   "outputs": [
    {
     "data": {
      "text/plain": [
       "['ok', 'ok']"
      ]
     },
     "execution_count": 76,
     "metadata": {},
     "output_type": "execute_result"
    }
   ],
   "source": [
    "g(\"G1 F500\")"
   ]
  },
  {
   "cell_type": "code",
   "execution_count": 77,
   "metadata": {},
   "outputs": [
    {
     "data": {
      "text/plain": [
       "['ok', 'ok']"
      ]
     },
     "execution_count": 77,
     "metadata": {},
     "output_type": "execute_result"
    }
   ],
   "source": [
    "g(\"G1 X0\")"
   ]
  },
  {
   "cell_type": "code",
   "execution_count": 78,
   "metadata": {},
   "outputs": [
    {
     "data": {
      "text/plain": [
       "['ok', 'ok']"
      ]
     },
     "execution_count": 78,
     "metadata": {},
     "output_type": "execute_result"
    }
   ],
   "source": [
    "g(\"G0 X10\")"
   ]
  },
  {
   "cell_type": "code",
   "execution_count": 87,
   "metadata": {},
   "outputs": [
    {
     "data": {
      "text/plain": [
       "['ok', 'ok']"
      ]
     },
     "execution_count": 87,
     "metadata": {},
     "output_type": "execute_result"
    }
   ],
   "source": [
    "g(\"M3 S01\")"
   ]
  },
  {
   "cell_type": "code",
   "execution_count": 86,
   "metadata": {},
   "outputs": [
    {
     "data": {
      "text/plain": [
       "['ok']"
      ]
     },
     "execution_count": 86,
     "metadata": {},
     "output_type": "execute_result"
    }
   ],
   "source": [
    "g(\"M5\")\n",
    "g(\"M4 S100\")\n",
    "g(\"G1 X25\")\n",
    "g(\"G1 Y25\")\n",
    "g(\"G1 X-25\")\n",
    "g(\"G1 Y-25\")\n",
    "g(\"M5\")"
   ]
  },
  {
   "cell_type": "code",
   "execution_count": 27,
   "metadata": {},
   "outputs": [
    {
     "data": {
      "text/plain": [
       "['ok', 'ok']"
      ]
     },
     "execution_count": 27,
     "metadata": {},
     "output_type": "execute_result"
    }
   ],
   "source": [
    "g(\"M5\")\n",
    "g(\"M4 S50\")\n",
    "g(\"M5\")\n",
    "g(\"M4 S10\")\n",
    "g(\"G1 X100\")\n",
    "g(\"G1 Y100\")\n",
    "\n",
    "g(\"G1 X-100\")\n",
    "g(\"G1 Y-100\")\n",
    "g(\"M5\")"
   ]
  },
  {
   "cell_type": "code",
   "execution_count": null,
   "metadata": {
    "collapsed": true
   },
   "outputs": [],
   "source": []
  },
  {
   "cell_type": "code",
   "execution_count": 61,
   "metadata": {},
   "outputs": [
    {
     "data": {
      "text/plain": [
       "['ok', 'error:9']"
      ]
     },
     "execution_count": 61,
     "metadata": {},
     "output_type": "execute_result"
    }
   ],
   "source": [
    "g(\"M4 S100\")\n",
    "g(\"G1 X100 F500\")\n",
    "g(\"G1 Y100 F500\")\n",
    "g(\"G1 X-100 F500\")\n",
    "g(\"G1 Y-100 F500\")\n",
    "g(\"M5\")"
   ]
  },
  {
   "cell_type": "code",
   "execution_count": 88,
   "metadata": {},
   "outputs": [
    {
     "data": {
      "text/plain": [
       "['ok', 'ok']"
      ]
     },
     "execution_count": 88,
     "metadata": {},
     "output_type": "execute_result"
    }
   ],
   "source": [
    "g(\"G0 X-200\")"
   ]
  },
  {
   "cell_type": "code",
   "execution_count": 90,
   "metadata": {},
   "outputs": [
    {
     "data": {
      "text/plain": [
       "['ok', 'ok']"
      ]
     },
     "execution_count": 90,
     "metadata": {},
     "output_type": "execute_result"
    }
   ],
   "source": [
    "g(\"G0 Y25\")"
   ]
  },
  {
   "cell_type": "code",
   "execution_count": 91,
   "metadata": {},
   "outputs": [
    {
     "data": {
      "text/plain": [
       "['ok']"
      ]
     },
     "execution_count": 91,
     "metadata": {},
     "output_type": "execute_result"
    }
   ],
   "source": [
    "g(\"M4 S10\")\n",
    "g(\"G1 X100 F500\")\n",
    "g(\"G1 Y100 F500\")\n",
    "g(\"G1 X-100 F500\")\n",
    "g(\"G1 Y-100 F500\")\n",
    "g(\"M5\")"
   ]
  },
  {
   "cell_type": "code",
   "execution_count": 95,
   "metadata": {
    "collapsed": true
   },
   "outputs": [],
   "source": [
    "def square(sides=25, power=10):\n",
    "    g(\"M5\")\n",
    "    g(\"M4 S{:03d}\".format(power))\n",
    "    g(\"G1 X0\")\n",
    "    g(\"G4 P10\")\n",
    "    g(\"G1 X{}\".format(sides))\n",
    "    g(\"G1 Y{}\".format(sides))\n",
    "    g(\"G1 X-{}\".format(sides))\n",
    "    g(\"G1 Y-{}\".format(sides))\n",
    "    g(\"M5\")"
   ]
  },
  {
   "cell_type": "code",
   "execution_count": 93,
   "metadata": {
    "collapsed": true
   },
   "outputs": [],
   "source": [
    "square(power=10)"
   ]
  },
  {
   "cell_type": "code",
   "execution_count": 96,
   "metadata": {
    "collapsed": true
   },
   "outputs": [],
   "source": [
    "square(power=50)"
   ]
  },
  {
   "cell_type": "code",
   "execution_count": 97,
   "metadata": {
    "collapsed": true
   },
   "outputs": [],
   "source": [
    "grbl.serial.close()"
   ]
  },
  {
   "cell_type": "code",
   "execution_count": null,
   "metadata": {
    "collapsed": true
   },
   "outputs": [],
   "source": []
  }
 ],
 "metadata": {
  "kernelspec": {
   "display_name": "Python 3",
   "language": "python",
   "name": "python3"
  },
  "language_info": {
   "codemirror_mode": {
    "name": "ipython",
    "version": 3
   },
   "file_extension": ".py",
   "mimetype": "text/x-python",
   "name": "python",
   "nbconvert_exporter": "python",
   "pygments_lexer": "ipython3",
   "version": "3.5.2"
  }
 },
 "nbformat": 4,
 "nbformat_minor": 2
}
